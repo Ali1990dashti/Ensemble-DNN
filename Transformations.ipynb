{
 "cells": [
  {
   "cell_type": "markdown",
   "id": "5d946b59",
   "metadata": {},
   "source": [
    "This notebook contains the necessary scripts for making the transform model."
   ]
  },
  {
   "cell_type": "code",
   "execution_count": 1,
   "id": "f6f6ba02",
   "metadata": {},
   "outputs": [
    {
     "name": "stderr",
     "output_type": "stream",
     "text": [
      "C:\\Users\\po7517\\Anaconda3\\envs\\new_env\\lib\\site-packages\\numpy\\_distributor_init.py:30: UserWarning: loaded more than 1 DLL from .libs:\n",
      "C:\\Users\\po7517\\Anaconda3\\envs\\new_env\\lib\\site-packages\\numpy\\.libs\\libopenblas.GK7GX5KEQ4F6UYO3P26ULGBQYHGQO7J4.gfortran-win_amd64.dll\n",
      "C:\\Users\\po7517\\Anaconda3\\envs\\new_env\\lib\\site-packages\\numpy\\.libs\\libopenblas64__v0.3.21-gcc_10_3_0.dll\n",
      "  warnings.warn(\"loaded more than 1 DLL from .libs:\"\n"
     ]
    }
   ],
   "source": [
    "'''Starting with the upload of the necessary libraries including \n",
    "the smogn (https://github.com/nickkunz/smogn/tree/master):'''\n",
    "import numpy as np\n",
    "import pandas as pd\n",
    "import torch\n",
    "import torch.nn as nn\n",
    "import torch.optim as optim\n",
    "from sklearn.preprocessing import RobustScaler\n",
    "from sklearn.model_selection import train_test_split\n",
    "import matplotlib.pyplot as plt\n",
    "import scipy\n",
    "from scipy.stats import linregress\n",
    "from scipy.special import boxcox1p\n",
    "import seaborn as sns\n",
    "import warnings\n",
    "import smogn\n",
    "warnings.filterwarnings('ignore')"
   ]
  },
  {
   "cell_type": "code",
   "execution_count": 2,
   "id": "c86182cd",
   "metadata": {},
   "outputs": [
    {
     "data": {
      "text/plain": [
       "'cpu'"
      ]
     },
     "execution_count": 2,
     "metadata": {},
     "output_type": "execute_result"
    }
   ],
   "source": [
    "### either CPU or GPU:\n",
    "device = \"cuda\" if torch.cuda.is_available() else \"cpu\"\n",
    "device"
   ]
  },
  {
   "cell_type": "code",
   "execution_count": 3,
   "id": "fed79e6b",
   "metadata": {},
   "outputs": [],
   "source": [
    "### Reading the dummy data\n",
    "data = pd.read_csv('data/all_data_dummy.csv')"
   ]
  },
  {
   "cell_type": "code",
   "execution_count": 4,
   "id": "b0f0997d",
   "metadata": {},
   "outputs": [],
   "source": [
    "### Applying the SMOGN tranformation on the data\n",
    "target_variables = ['B', 'V', 'Cr', 'Mn', 'Co', 'Ni', 'Cu', 'Zn', 'Ga', 'Be',\n",
    "                    'As', 'Rb', 'Sr', 'Y', 'Mo', 'Cd', 'Sb', 'Cs', 'Ba', 'Pb']\n",
    "input_features = ['Li', 'Na', 'Ca', 'SO-', 'Cl-', 'Br-', 'Al', 'Si', 'pH', 'F-', 'Fe', 'Mg']\n",
    "raw_data = data[target_variables+input_features]"
   ]
  },
  {
   "cell_type": "code",
   "execution_count": 5,
   "id": "800fbfae",
   "metadata": {},
   "outputs": [],
   "source": [
    "def apply_smogn_safe(data, target_col):\n",
    "    '''\n",
    "    This function runs the SMOGN algorithm. \n",
    "    For details of SMOGN see https://github.com/nickkunz/smogn/tree/master.\n",
    "    '''\n",
    "    try:\n",
    "        smogn_data = smogn.smoter(\n",
    "            data=data,\n",
    "            y=target_col\n",
    "        )\n",
    "        return smogn_data, True\n",
    "    except Exception as e:\n",
    "        print(f\"SMOGN failed: {e}\\n→ Using original data instead.\")\n",
    "        return data, False\n",
    "    \n",
    "def pytorch_NN(raw_data, input_features, target_variables, smogn_target='V', weight_decay=1e-3, patience=100):\n",
    "    '''\n",
    "    This function reads the data and based on the interest of the user, different \n",
    "    input features and target variables can be selected from the existing measured\n",
    "    parameters.\n",
    "    weight_decay is a regularization technique used to prevent overfitting by penalizing \n",
    "    large weights in the model. More details at \n",
    "    https://pytorch.org/docs/stable/generated/torch.optim.Adam.html\n",
    "    patience refers to the number of training epochs to wait after the last improvement \n",
    "    in the monitored metric (e.g., validation loss, accuracy) before stopping the training process.\n",
    "    More details at https://pytorch.org/ignite/generated/ignite.handlers.early_stopping.EarlyStopping.html\n",
    "    '''\n",
    "    ### Step 1: Extract input and target\n",
    "    X = raw_data[input_features]\n",
    "    y = raw_data[target_variables]\n",
    "\n",
    "    ### Step 2: Combine into a single DataFrame for easier handling\n",
    "    full_data = pd.concat([X, y], axis=1)\n",
    "\n",
    "    ### Step 3: Split into train (60%), val (20%), test (20%)\n",
    "    train_val_data, test_data = train_test_split(full_data, test_size=0.2)\n",
    "    train_data, val_data = train_test_split(train_val_data, test_size=0.25)  # 0.25 * 0.8 = 0.2\n",
    "    \n",
    "    ### Step 4: Apply SMOGN on training data\n",
    "    train_data = train_data.reset_index(drop=True)\n",
    "    train_data_smogn, smogn_success = apply_smogn_safe(train_data, smogn_target)\n",
    "    \n",
    "    ### Step 5: Split X and y after SMOGN\n",
    "    X_train = train_data_smogn[input_features]\n",
    "    X_train['pH'], _ = scipy.stats.boxcox(X_train['pH']-4)\n",
    "    X_train['SO-'], _ = scipy.stats.yeojohnson(X_train['SO-']-100)\n",
    "    X_train['Fe'], _ = scipy.stats.yeojohnson(X_train['Fe'])\n",
    "    X_train = X_train.to_numpy()\n",
    "    \n",
    "    X_val = val_data[input_features]\n",
    "    X_val['pH'], _ = scipy.stats.boxcox(X_val['pH']-4)\n",
    "    X_val['SO-'], _ = scipy.stats.yeojohnson(X_val['SO-']-100)\n",
    "    X_val['Fe'], _ = scipy.stats.yeojohnson(X_val['Fe'])\n",
    "    X_val = X_val.to_numpy()\n",
    "    \n",
    "    X_test = test_data[input_features]\n",
    "    X_test['pH'], _ = scipy.stats.boxcox(X_test['pH']-4)\n",
    "    X_test['SO-'], _ = scipy.stats.yeojohnson(X_test['SO-']-100)\n",
    "    X_test['Fe'], _ = scipy.stats.yeojohnson(X_test['Fe'])\n",
    "    X_test = X_test.to_numpy()\n",
    "    \n",
    "    \n",
    "    y_train = train_data_smogn[target_variables]\n",
    "    y_train['Cu'], _ = scipy.stats.yeojohnson(y_train['Cu'])\n",
    "    y_train['V'], _ = scipy.stats.yeojohnson(y_train['V'])\n",
    "    y_train['Ni'], _ = scipy.stats.boxcox(y_train['Ni']+1.01)\n",
    "    y_train['Cs'], _ = scipy.stats.yeojohnson(y_train['Cs']-12)\n",
    "    y_train['Rb'] = np.sqrt(y_train['Rb'])\n",
    "    y_train['Y'], _ = scipy.stats.yeojohnson(y_train['Y'])\n",
    "    y_train['B'], _ = scipy.stats.yeojohnson(y_train['B']-29)\n",
    "    y_train['Pb'], _ = scipy.stats.yeojohnson(y_train['Pb'])\n",
    "    y_train = y_train.to_numpy()\n",
    "    \n",
    "    y_val = val_data[target_variables]\n",
    "    y_val['Cu'], _ = scipy.stats.yeojohnson(y_val['Cu'])\n",
    "    y_val['V'], _ = scipy.stats.yeojohnson(y_val['V'])\n",
    "    y_val['Ni'], _ = scipy.stats.boxcox(y_val['Ni']+1.01)\n",
    "    y_val['Cs'], _ = scipy.stats.yeojohnson(y_val['Cs']-12)\n",
    "    y_val['Rb'] = np.sqrt(y_val['Rb'])\n",
    "    y_val['Y'], _ = scipy.stats.yeojohnson(y_val['Y'])\n",
    "    y_val['B'], _ = scipy.stats.yeojohnson(y_val['B']-29)\n",
    "    y_val['Pb'], _ = scipy.stats.yeojohnson(y_val['Pb'])\n",
    "    y_val = y_val.to_numpy()\n",
    "    \n",
    "    y_test = test_data[target_variables]\n",
    "    y_test['Cu'], _ = scipy.stats.yeojohnson(y_test['Cu'])\n",
    "    y_test['V'], _ = scipy.stats.yeojohnson(y_test['V'])\n",
    "    y_test['Ni'], _ = scipy.stats.boxcox(y_test['Ni']+1.01)\n",
    "    y_test['Cs'], _ = scipy.stats.yeojohnson(y_test['Cs']-12)\n",
    "    y_test['Rb'] = np.sqrt(y_test['Rb'])\n",
    "    y_test['Y'], _ = scipy.stats.yeojohnson(y_test['Y'])\n",
    "    y_test['B'], _ = scipy.stats.yeojohnson(y_test['B']-29)\n",
    "    y_test['Pb'], _ = scipy.stats.yeojohnson(y_test['Pb'])\n",
    "    y_test = y_test.to_numpy()\n",
    "\n",
    "    ### Step 6: Normalize\n",
    "    scaler_x = RobustScaler()\n",
    "    scaler_y = RobustScaler()\n",
    "\n",
    "    X_train_norm = scaler_x.fit_transform(X_train)\n",
    "    X_val_norm = scaler_x.transform(X_val)\n",
    "    X_test_norm = scaler_x.transform(X_test)\n",
    "\n",
    "    y_train_norm = scaler_y.fit_transform(y_train)\n",
    "    y_val_norm = scaler_y.transform(y_val)\n",
    "    y_test_norm = scaler_y.transform(y_test)\n",
    "\n",
    "    ### Step 7: Convert to PyTorch tensors\n",
    "    XX = torch.from_numpy(X_train_norm.astype(np.float32)).to(device)\n",
    "    yy = torch.from_numpy(y_train_norm.astype(np.float32)).to(device)\n",
    "    XX_val = torch.from_numpy(X_val_norm.astype(np.float32)).to(device)\n",
    "    yy_val = torch.from_numpy(y_val_norm.astype(np.float32)).to(device)\n",
    "\n",
    "    input_size = XX.shape[1]\n",
    "    output_size = yy.shape[1]\n",
    "    \n",
    "    ### Step 7: Define the model\n",
    "    class NN(nn.Module):\n",
    "        def __init__(self):\n",
    "            super(NN, self).__init__()\n",
    "            self.fc1 = nn.Linear(input_size, 32)\n",
    "            self.norm1 = nn.BatchNorm1d(32)\n",
    "            self.fc2 = nn.Linear(32, 16)\n",
    "            self.norm2 = nn.BatchNorm1d(16)\n",
    "            self.fc3 = nn.Linear(16, output_size)\n",
    "\n",
    "        def forward(self, x):\n",
    "            x = torch.relu(self.norm1(self.fc1(x)))\n",
    "            x = torch.relu(self.norm2(self.fc2(x)))\n",
    "            return self.fc3(x)\n",
    "\n",
    "    model = NN().to(device)\n",
    "    criterion = nn.L1Loss()\n",
    "    optimizer = optim.Adam(model.parameters(), lr=0.1, weight_decay=weight_decay)\n",
    "    scheduler = optim.lr_scheduler.ReduceLROnPlateau(optimizer, mode='min', factor=0.1, patience=patience, verbose=True)\n",
    "\n",
    "    ### Step 8: Training with early stopping\n",
    "    best_loss = float('inf')\n",
    "    patience_counter = 0\n",
    "    num_epochs = 2000\n",
    "    loss_train = []\n",
    "    loss_val = []\n",
    "\n",
    "    for epoch in range(num_epochs):\n",
    "        model.train()\n",
    "        optimizer.zero_grad()\n",
    "        outputs = model(XX)\n",
    "        loss = criterion(outputs, yy)\n",
    "        loss.backward()\n",
    "        optimizer.step()\n",
    "        loss_train.append(loss.item())\n",
    "\n",
    "        model.eval()\n",
    "        with torch.no_grad():\n",
    "            val_outputs = model(XX_val)\n",
    "            val_loss = criterion(val_outputs, yy_val)\n",
    "            loss_val.append(val_loss.item())\n",
    "\n",
    "        scheduler.step(val_loss)\n",
    "\n",
    "        if val_loss.item() < best_loss:\n",
    "            best_loss = val_loss.item()\n",
    "            patience_counter = 0\n",
    "        else:\n",
    "            patience_counter += 1\n",
    "\n",
    "        if patience_counter >= patience:\n",
    "            print(f\"Early stopping at epoch {epoch+1}\")\n",
    "            break\n",
    "\n",
    "        if (epoch+1) % 100 == 0:\n",
    "            print(f\"Epoch {epoch+1}, Train Loss: {loss.item():.4f}, Val Loss: {val_loss.item():.4f}\")\n",
    "\n",
    "    print(\"Training complete.\")\n",
    "\n",
    "    ### Step 9: Evaluate on test set\n",
    "    model.eval()\n",
    "    with torch.no_grad():\n",
    "        X_test_tensor = torch.from_numpy(X_test_norm.astype(np.float32)).to(device)\n",
    "        pred_test = model(X_test_tensor).cpu().numpy()\n",
    "        pred_test_orig = scaler_y.inverse_transform(pred_test)\n",
    "        y_test_orig = scaler_y.inverse_transform(y_test_norm)\n",
    "\n",
    "        pred_train = model(XX).cpu().numpy()\n",
    "        pred_train_orig = scaler_y.inverse_transform(pred_train)\n",
    "        y_train_orig = scaler_y.inverse_transform(y_train_norm)\n",
    "\n",
    "    ### Step 10: R² values\n",
    "    r_values = []\n",
    "    for i in range(len(target_variables)):\n",
    "        r = linregress(y_test_orig[:, i], pred_test_orig[:, i]).rvalue\n",
    "        r_values.append(r)\n",
    "\n",
    "    return r_values, y_test_orig, pred_test_orig, y_train_orig, pred_train_orig, loss_train, loss_val"
   ]
  },
  {
   "cell_type": "code",
   "execution_count": 6,
   "id": "191b5a6d",
   "metadata": {},
   "outputs": [
    {
     "name": "stdout",
     "output_type": "stream",
     "text": [
      "Starting Round 0\n"
     ]
    },
    {
     "name": "stderr",
     "output_type": "stream",
     "text": [
      "dist_matrix: 100%|######################################################################| 9/9 [00:00<00:00, 240.98it/s]\n",
      "synth_matrix: 100%|######################################################################| 9/9 [00:00<00:00, 65.61it/s]\n",
      "r_index: 100%|##########################################################################| 4/4 [00:00<00:00, 131.19it/s]\n"
     ]
    },
    {
     "name": "stdout",
     "output_type": "stream",
     "text": [
      "Epoch 100, Train Loss: 0.1048, Val Loss: 56.4861\n",
      "Epoch 00122: reducing learning rate of group 0 to 1.0000e-02.\n",
      "Early stopping at epoch 199\n",
      "Training complete.\n",
      "Starting Round 1\n"
     ]
    },
    {
     "name": "stderr",
     "output_type": "stream",
     "text": [
      "dist_matrix: 100%|######################################################################| 8/8 [00:00<00:00, 218.60it/s]\n",
      "synth_matrix: 100%|######################################################################| 8/8 [00:00<00:00, 44.57it/s]\n"
     ]
    },
    {
     "name": "stdout",
     "output_type": "stream",
     "text": [
      "Epoch 100, Train Loss: 0.0891, Val Loss: 16.5094\n",
      "Early stopping at epoch 197\n",
      "Training complete.\n",
      "Starting Round 2\n"
     ]
    },
    {
     "name": "stderr",
     "output_type": "stream",
     "text": [
      "dist_matrix: 100%|######################################################################| 9/9 [00:00<00:00, 156.40it/s]\n",
      "synth_matrix: 100%|######################################################################| 9/9 [00:00<00:00, 51.75it/s]\n",
      "r_index: 100%|##########################################################################| 4/4 [00:00<00:00, 103.17it/s]\n"
     ]
    },
    {
     "name": "stdout",
     "output_type": "stream",
     "text": [
      "Epoch 100, Train Loss: 0.1084, Val Loss: 63.5994\n",
      "Epoch 00174: reducing learning rate of group 0 to 1.0000e-02.\n",
      "Epoch 200, Train Loss: 0.0646, Val Loss: 63.5852\n",
      "Early stopping at epoch 218\n",
      "Training complete.\n",
      "Starting Round 3\n"
     ]
    },
    {
     "name": "stderr",
     "output_type": "stream",
     "text": [
      "dist_matrix: 100%|####################################################################| 10/10 [00:00<00:00, 172.42it/s]\n",
      "synth_matrix: 100%|####################################################################| 10/10 [00:00<00:00, 69.90it/s]\n",
      "r_index: 100%|##########################################################################| 2/2 [00:00<00:00, 124.67it/s]\n"
     ]
    },
    {
     "name": "stdout",
     "output_type": "stream",
     "text": [
      "Epoch 100, Train Loss: 0.1249, Val Loss: 0.7369\n",
      "Early stopping at epoch 200\n",
      "Training complete.\n",
      "Starting Round 4\n",
      "SMOGN failed: redefine phi relevance function: all points are 1\n",
      "→ Using original data instead.\n",
      "Epoch 100, Train Loss: 0.1461, Val Loss: 16.4737\n",
      "Epoch 200, Train Loss: 0.1300, Val Loss: 16.4743\n",
      "Early stopping at epoch 278\n",
      "Training complete.\n",
      "Starting Round 5\n",
      "SMOGN failed: redefine phi relevance function: all points are 1\n",
      "→ Using original data instead.\n",
      "Epoch 100, Train Loss: 0.1425, Val Loss: 259.6658\n",
      "Epoch 00146: reducing learning rate of group 0 to 1.0000e-02.\n",
      "Early stopping at epoch 146\n",
      "Training complete.\n",
      "Starting Round 6\n"
     ]
    },
    {
     "name": "stderr",
     "output_type": "stream",
     "text": [
      "dist_matrix: 100%|######################################################################| 9/9 [00:00<00:00, 216.68it/s]\n",
      "synth_matrix: 100%|######################################################################| 9/9 [00:00<00:00, 69.44it/s]\n",
      "r_index: 100%|##########################################################################| 4/4 [00:00<00:00, 142.73it/s]\n"
     ]
    },
    {
     "name": "stdout",
     "output_type": "stream",
     "text": [
      "Epoch 100, Train Loss: 0.1151, Val Loss: 0.7939\n",
      "Epoch 200, Train Loss: 0.0999, Val Loss: 0.7827\n",
      "Early stopping at epoch 203\n",
      "Training complete.\n",
      "Starting Round 7\n"
     ]
    },
    {
     "name": "stderr",
     "output_type": "stream",
     "text": [
      "dist_matrix: 100%|######################################################################| 6/6 [00:00<00:00, 246.79it/s]\n",
      "synth_matrix: 100%|######################################################################| 6/6 [00:00<00:00, 67.39it/s]\n",
      "r_index: 100%|###########################################################################| 3/3 [00:00<00:00, 92.96it/s]\n",
      "dist_matrix: 100%|######################################################################| 8/8 [00:00<00:00, 274.98it/s]\n",
      "synth_matrix: 100%|#####################################################################| 8/8 [00:00<00:00, 152.37it/s]\n",
      "r_index: 100%|##########################################################################| 6/6 [00:00<00:00, 168.13it/s]\n"
     ]
    },
    {
     "name": "stdout",
     "output_type": "stream",
     "text": [
      "Epoch 100, Train Loss: 0.1171, Val Loss: 0.4839\n",
      "Early stopping at epoch 115\n",
      "Training complete.\n",
      "Starting Round 8\n"
     ]
    },
    {
     "name": "stderr",
     "output_type": "stream",
     "text": [
      "dist_matrix: 100%|######################################################################| 7/7 [00:00<00:00, 286.88it/s]\n",
      "synth_matrix: 100%|######################################################################| 7/7 [00:00<00:00, 45.82it/s]\n",
      "r_index: 100%|##########################################################################| 3/3 [00:00<00:00, 136.65it/s]\n"
     ]
    },
    {
     "name": "stdout",
     "output_type": "stream",
     "text": [
      "Epoch 100, Train Loss: 0.1169, Val Loss: 15.4353\n",
      "Epoch 00124: reducing learning rate of group 0 to 1.0000e-02.\n",
      "Early stopping at epoch 124\n",
      "Training complete.\n",
      "Starting Round 9\n"
     ]
    },
    {
     "name": "stderr",
     "output_type": "stream",
     "text": [
      "dist_matrix: 100%|####################################################################| 10/10 [00:00<00:00, 201.11it/s]\n",
      "synth_matrix: 100%|####################################################################| 10/10 [00:00<00:00, 63.76it/s]\n",
      "r_index: 100%|##########################################################################| 2/2 [00:00<00:00, 107.91it/s]\n"
     ]
    },
    {
     "name": "stdout",
     "output_type": "stream",
     "text": [
      "Epoch 100, Train Loss: 0.1149, Val Loss: 0.9221\n",
      "Epoch 200, Train Loss: 0.1035, Val Loss: 0.9345\n",
      "Epoch 300, Train Loss: 0.1000, Val Loss: 0.9113\n",
      "Epoch 400, Train Loss: 0.0990, Val Loss: 0.9532\n",
      "Early stopping at epoch 447\n",
      "Training complete.\n",
      "Starting Round 10\n"
     ]
    },
    {
     "name": "stderr",
     "output_type": "stream",
     "text": [
      "dist_matrix: 100%|####################################################################| 12/12 [00:00<00:00, 140.29it/s]\n",
      "synth_matrix: 100%|###################################################################| 12/12 [00:00<00:00, 142.49it/s]\n",
      "r_index: 100%|##########################################################################| 7/7 [00:00<00:00, 135.55it/s]\n"
     ]
    },
    {
     "name": "stdout",
     "output_type": "stream",
     "text": [
      "Epoch 100, Train Loss: 0.1787, Val Loss: 0.8509\n",
      "Epoch 200, Train Loss: 0.1308, Val Loss: 0.9292\n",
      "Epoch 300, Train Loss: 0.1313, Val Loss: 0.8470\n",
      "Early stopping at epoch 382\n",
      "Training complete.\n",
      "Starting Round 11\n"
     ]
    },
    {
     "name": "stderr",
     "output_type": "stream",
     "text": [
      "dist_matrix: 100%|######################################################################| 9/9 [00:00<00:00, 198.98it/s]\n",
      "synth_matrix: 100%|######################################################################| 9/9 [00:00<00:00, 66.25it/s]\n",
      "r_index: 100%|##########################################################################| 4/4 [00:00<00:00, 148.25it/s]\n"
     ]
    },
    {
     "name": "stdout",
     "output_type": "stream",
     "text": [
      "Epoch 100, Train Loss: 0.1313, Val Loss: 4.2320\n",
      "Early stopping at epoch 122\n",
      "Training complete.\n",
      "Starting Round 12\n"
     ]
    },
    {
     "name": "stderr",
     "output_type": "stream",
     "text": [
      "dist_matrix: 100%|######################################################################| 9/9 [00:00<00:00, 204.43it/s]\n",
      "synth_matrix: 100%|######################################################################| 9/9 [00:00<00:00, 64.49it/s]\n",
      "r_index: 100%|###########################################################################| 4/4 [00:00<00:00, 99.90it/s]\n"
     ]
    },
    {
     "name": "stdout",
     "output_type": "stream",
     "text": [
      "Epoch 100, Train Loss: 0.1472, Val Loss: 0.7384\n",
      "Epoch 200, Train Loss: 0.1216, Val Loss: 0.7225\n",
      "Epoch 300, Train Loss: 0.1088, Val Loss: 0.6712\n",
      "Early stopping at epoch 323\n",
      "Training complete.\n",
      "Starting Round 13\n"
     ]
    },
    {
     "name": "stderr",
     "output_type": "stream",
     "text": [
      "dist_matrix: 100%|####################################################################| 12/12 [00:00<00:00, 146.48it/s]\n",
      "r_index: 100%|########################################################################| 10/10 [00:00<00:00, 125.79it/s]\n",
      "dist_matrix: 100%|######################################################################| 8/8 [00:00<00:00, 276.54it/s]\n",
      "synth_matrix: 100%|#####################################################################| 8/8 [00:00<00:00, 128.65it/s]\n",
      "r_index: 100%|##########################################################################| 6/6 [00:00<00:00, 135.60it/s]\n"
     ]
    },
    {
     "name": "stdout",
     "output_type": "stream",
     "text": [
      "Epoch 100, Train Loss: 0.1021, Val Loss: 33.2457\n",
      "Early stopping at epoch 119\n",
      "Training complete.\n",
      "Starting Round 14\n"
     ]
    },
    {
     "name": "stderr",
     "output_type": "stream",
     "text": [
      "dist_matrix: 100%|######################################################################| 8/8 [00:00<00:00, 202.30it/s]\n",
      "synth_matrix: 100%|######################################################################| 8/8 [00:00<00:00, 43.30it/s]\n"
     ]
    },
    {
     "name": "stdout",
     "output_type": "stream",
     "text": [
      "Epoch 100, Train Loss: 0.1156, Val Loss: 159.7436\n",
      "Epoch 00180: reducing learning rate of group 0 to 1.0000e-02.\n",
      "Epoch 200, Train Loss: 0.0680, Val Loss: 159.7284\n",
      "Early stopping at epoch 223\n",
      "Training complete.\n",
      "Starting Round 15\n"
     ]
    },
    {
     "name": "stderr",
     "output_type": "stream",
     "text": [
      "dist_matrix: 100%|####################################################################| 11/11 [00:00<00:00, 171.48it/s]\n",
      "synth_matrix: 100%|###################################################################| 11/11 [00:00<00:00, 113.37it/s]\n",
      "r_index: 100%|########################################################################| 10/10 [00:00<00:00, 170.14it/s]\n"
     ]
    },
    {
     "name": "stdout",
     "output_type": "stream",
     "text": [
      "Epoch 100, Train Loss: 0.1381, Val Loss: 4.2363\n",
      "Epoch 200, Train Loss: 0.1012, Val Loss: 4.2494\n",
      "Early stopping at epoch 223\n",
      "Training complete.\n",
      "Starting Round 16\n"
     ]
    },
    {
     "name": "stderr",
     "output_type": "stream",
     "text": [
      "dist_matrix: 100%|####################################################################| 10/10 [00:00<00:00, 174.54it/s]\n",
      "synth_matrix: 100%|####################################################################| 10/10 [00:00<00:00, 62.03it/s]\n",
      "r_index: 100%|##########################################################################| 2/2 [00:00<00:00, 123.84it/s]\n"
     ]
    },
    {
     "name": "stdout",
     "output_type": "stream",
     "text": [
      "Epoch 100, Train Loss: 0.1260, Val Loss: 33.3845\n",
      "Epoch 200, Train Loss: 0.1002, Val Loss: 33.5953\n",
      "Early stopping at epoch 231\n",
      "Training complete.\n",
      "Starting Round 17\n",
      "SMOGN failed: redefine phi relevance function: all points are 1\n",
      "→ Using original data instead.\n",
      "Epoch 100, Train Loss: 0.1533, Val Loss: 1.9982\n",
      "Epoch 200, Train Loss: 0.1361, Val Loss: 2.0496\n",
      "Epoch 300, Train Loss: 0.1300, Val Loss: 2.1457\n",
      "Early stopping at epoch 355\n",
      "Training complete.\n",
      "Starting Round 18\n"
     ]
    },
    {
     "name": "stderr",
     "output_type": "stream",
     "text": [
      "dist_matrix: 100%|####################################################################| 13/13 [00:00<00:00, 137.06it/s]\n",
      "synth_matrix: 100%|###################################################################| 13/13 [00:00<00:00, 149.28it/s]\n",
      "r_index: 100%|##########################################################################| 6/6 [00:00<00:00, 245.66it/s]\n"
     ]
    },
    {
     "name": "stdout",
     "output_type": "stream",
     "text": [
      "Epoch 100, Train Loss: 0.1705, Val Loss: 56.0630\n",
      "Early stopping at epoch 130\n",
      "Training complete.\n",
      "Starting Round 19\n"
     ]
    },
    {
     "name": "stderr",
     "output_type": "stream",
     "text": [
      "dist_matrix: 100%|####################################################################| 10/10 [00:00<00:00, 177.65it/s]\n",
      "synth_matrix: 100%|###################################################################| 10/10 [00:00<00:00, 149.09it/s]\n",
      "r_index: 100%|##########################################################################| 2/2 [00:00<00:00, 366.11it/s]\n",
      "dist_matrix: 100%|######################################################################| 7/7 [00:00<00:00, 312.43it/s]\n",
      "synth_matrix: 100%|######################################################################| 7/7 [00:00<00:00, 68.84it/s]\n"
     ]
    },
    {
     "name": "stdout",
     "output_type": "stream",
     "text": [
      "Epoch 100, Train Loss: 0.1052, Val Loss: 2.4602\n",
      "Early stopping at epoch 167\n",
      "Training complete.\n",
      "Starting Round 20\n"
     ]
    },
    {
     "name": "stderr",
     "output_type": "stream",
     "text": [
      "dist_matrix: 100%|######################################################################| 8/8 [00:00<00:00, 221.42it/s]\n",
      "synth_matrix: 100%|######################################################################| 8/8 [00:00<00:00, 44.96it/s]\n"
     ]
    },
    {
     "name": "stdout",
     "output_type": "stream",
     "text": [
      "Epoch 100, Train Loss: 0.1418, Val Loss: 2.6778\n",
      "Early stopping at epoch 178\n",
      "Training complete.\n",
      "Starting Round 21\n"
     ]
    },
    {
     "name": "stderr",
     "output_type": "stream",
     "text": [
      "dist_matrix: 100%|####################################################################| 10/10 [00:00<00:00, 160.33it/s]\n",
      "synth_matrix: 100%|####################################################################| 10/10 [00:00<00:00, 69.19it/s]\n",
      "r_index: 100%|##########################################################################| 2/2 [00:00<00:00, 188.23it/s]\n"
     ]
    },
    {
     "name": "stdout",
     "output_type": "stream",
     "text": [
      "Epoch 100, Train Loss: 0.0962, Val Loss: 0.9080\n",
      "Early stopping at epoch 121\n",
      "Training complete.\n",
      "Starting Round 22\n"
     ]
    },
    {
     "name": "stderr",
     "output_type": "stream",
     "text": [
      "dist_matrix: 100%|######################################################################| 9/9 [00:00<00:00, 191.45it/s]\n",
      "synth_matrix: 100%|######################################################################| 9/9 [00:00<00:00, 63.49it/s]\n",
      "r_index: 100%|##########################################################################| 4/4 [00:00<00:00, 133.63it/s]\n"
     ]
    },
    {
     "name": "stdout",
     "output_type": "stream",
     "text": [
      "Epoch 100, Train Loss: 0.0975, Val Loss: 3.1253\n",
      "Early stopping at epoch 119\n",
      "Training complete.\n",
      "Starting Round 23\n"
     ]
    },
    {
     "name": "stderr",
     "output_type": "stream",
     "text": [
      "dist_matrix: 100%|####################################################################| 11/11 [00:00<00:00, 165.23it/s]\n",
      "synth_matrix: 100%|###################################################################| 11/11 [00:00<00:00, 128.24it/s]\n",
      "r_index: 100%|########################################################################| 10/10 [00:00<00:00, 162.07it/s]\n"
     ]
    },
    {
     "name": "stdout",
     "output_type": "stream",
     "text": [
      "Epoch 100, Train Loss: 0.1350, Val Loss: 1127.7052\n",
      "Epoch 00120: reducing learning rate of group 0 to 1.0000e-02.\n",
      "Epoch 200, Train Loss: 0.0842, Val Loss: 1127.6952\n",
      "Epoch 00221: reducing learning rate of group 0 to 1.0000e-03.\n",
      "Early stopping at epoch 263\n",
      "Training complete.\n",
      "Starting Round 24\n"
     ]
    },
    {
     "name": "stderr",
     "output_type": "stream",
     "text": [
      "dist_matrix: 100%|####################################################################| 12/12 [00:00<00:00, 149.94it/s]\n",
      "r_index: 100%|########################################################################| 10/10 [00:00<00:00, 146.35it/s]\n",
      "dist_matrix: 100%|####################################################################| 10/10 [00:00<00:00, 218.06it/s]\n",
      "synth_matrix: 100%|###################################################################| 10/10 [00:00<00:00, 159.62it/s]\n",
      "r_index: 100%|##########################################################################| 2/2 [00:00<00:00, 128.10it/s]\n"
     ]
    },
    {
     "name": "stdout",
     "output_type": "stream",
     "text": [
      "Epoch 100, Train Loss: 0.1205, Val Loss: 0.9945\n",
      "Epoch 200, Train Loss: 0.1140, Val Loss: 1.0062\n",
      "Early stopping at epoch 259\n",
      "Training complete.\n",
      "Starting Round 25\n"
     ]
    },
    {
     "name": "stderr",
     "output_type": "stream",
     "text": [
      "dist_matrix: 100%|####################################################################| 10/10 [00:00<00:00, 163.25it/s]\n",
      "synth_matrix: 100%|####################################################################| 10/10 [00:00<00:00, 62.24it/s]\n",
      "r_index: 100%|##########################################################################| 2/2 [00:00<00:00, 108.17it/s]\n"
     ]
    },
    {
     "name": "stdout",
     "output_type": "stream",
     "text": [
      "Epoch 100, Train Loss: 0.1587, Val Loss: 114.7505\n",
      "Epoch 00125: reducing learning rate of group 0 to 1.0000e-02.\n",
      "Epoch 200, Train Loss: 0.0948, Val Loss: 114.8332\n",
      "Early stopping at epoch 204\n",
      "Training complete.\n",
      "Starting Round 26\n",
      "SMOGN failed: redefine phi relevance function: all points are 1\n",
      "→ Using original data instead.\n",
      "Epoch 100, Train Loss: 0.1486, Val Loss: 0.9469\n",
      "Early stopping at epoch 127\n",
      "Training complete.\n",
      "Starting Round 27\n"
     ]
    },
    {
     "name": "stderr",
     "output_type": "stream",
     "text": [
      "dist_matrix: 100%|######################################################################| 9/9 [00:00<00:00, 207.26it/s]\n",
      "synth_matrix: 100%|######################################################################| 9/9 [00:00<00:00, 66.09it/s]\n",
      "r_index: 100%|##########################################################################| 4/4 [00:00<00:00, 154.62it/s]\n"
     ]
    },
    {
     "name": "stdout",
     "output_type": "stream",
     "text": [
      "Epoch 100, Train Loss: 0.1041, Val Loss: 0.6585\n",
      "Epoch 200, Train Loss: 0.0952, Val Loss: 0.6382\n",
      "Early stopping at epoch 211\n",
      "Training complete.\n",
      "Starting Round 28\n"
     ]
    },
    {
     "name": "stderr",
     "output_type": "stream",
     "text": [
      "dist_matrix: 100%|####################################################################| 10/10 [00:00<00:00, 177.39it/s]\n",
      "synth_matrix: 100%|####################################################################| 10/10 [00:00<00:00, 63.29it/s]\n",
      "r_index: 100%|##########################################################################| 2/2 [00:00<00:00, 110.35it/s]\n"
     ]
    },
    {
     "name": "stdout",
     "output_type": "stream",
     "text": [
      "Epoch 100, Train Loss: 0.1025, Val Loss: 1.6960\n",
      "Epoch 200, Train Loss: 0.1024, Val Loss: 1.7027\n",
      "Early stopping at epoch 293\n",
      "Training complete.\n",
      "Starting Round 29\n"
     ]
    },
    {
     "name": "stderr",
     "output_type": "stream",
     "text": [
      "dist_matrix: 100%|######################################################################| 7/7 [00:00<00:00, 256.13it/s]\n",
      "synth_matrix: 100%|######################################################################| 7/7 [00:00<00:00, 72.68it/s]\n",
      "dist_matrix: 100%|######################################################################| 9/9 [00:00<00:00, 232.17it/s]\n",
      "synth_matrix: 100%|#####################################################################| 9/9 [00:00<00:00, 126.36it/s]\n",
      "r_index: 100%|##########################################################################| 4/4 [00:00<00:00, 164.43it/s]\n"
     ]
    },
    {
     "name": "stdout",
     "output_type": "stream",
     "text": [
      "Epoch 100, Train Loss: 0.1009, Val Loss: 2.3711\n",
      "Epoch 200, Train Loss: 0.0905, Val Loss: 2.2620\n",
      "Early stopping at epoch 273\n",
      "Training complete.\n",
      "Starting Round 30\n",
      "SMOGN failed: redefine phi relevance function: all points are 1\n",
      "→ Using original data instead.\n",
      "Epoch 100, Train Loss: 0.1296, Val Loss: 1.6954\n",
      "Early stopping at epoch 160\n",
      "Training complete.\n",
      "Starting Round 31\n"
     ]
    },
    {
     "name": "stderr",
     "output_type": "stream",
     "text": [
      "dist_matrix: 100%|####################################################################| 11/11 [00:00<00:00, 143.51it/s]\n",
      "synth_matrix: 100%|###################################################################| 11/11 [00:00<00:00, 129.06it/s]\n",
      "dist_matrix: 100%|######################################################################| 9/9 [00:00<00:00, 215.20it/s]\n",
      "synth_matrix: 100%|#####################################################################| 9/9 [00:00<00:00, 136.08it/s]\n",
      "r_index: 100%|##########################################################################| 4/4 [00:00<00:00, 159.58it/s]\n"
     ]
    },
    {
     "name": "stdout",
     "output_type": "stream",
     "text": [
      "Epoch 100, Train Loss: 0.1304, Val Loss: 2.5286\n",
      "Early stopping at epoch 128\n",
      "Training complete.\n",
      "Starting Round 32\n"
     ]
    },
    {
     "name": "stderr",
     "output_type": "stream",
     "text": [
      "dist_matrix: 100%|####################################################################| 11/11 [00:00<00:00, 159.49it/s]\n",
      "synth_matrix: 100%|###################################################################| 11/11 [00:00<00:00, 118.59it/s]\n",
      "r_index: 100%|########################################################################| 10/10 [00:00<00:00, 137.72it/s]\n"
     ]
    },
    {
     "name": "stdout",
     "output_type": "stream",
     "text": [
      "Epoch 100, Train Loss: 0.0897, Val Loss: 6.8959\n",
      "Early stopping at epoch 149\n",
      "Training complete.\n",
      "Starting Round 33\n"
     ]
    },
    {
     "name": "stderr",
     "output_type": "stream",
     "text": [
      "dist_matrix: 100%|######################################################################| 8/8 [00:00<00:00, 198.61it/s]\n",
      "synth_matrix: 100%|######################################################################| 8/8 [00:00<00:00, 38.09it/s]\n"
     ]
    },
    {
     "name": "stdout",
     "output_type": "stream",
     "text": [
      "Epoch 100, Train Loss: 0.0781, Val Loss: 76.2400\n",
      "Epoch 00172: reducing learning rate of group 0 to 1.0000e-02.\n",
      "Epoch 200, Train Loss: 0.0378, Val Loss: 76.2053\n",
      "Early stopping at epoch 210\n",
      "Training complete.\n",
      "Starting Round 34\n"
     ]
    },
    {
     "name": "stderr",
     "output_type": "stream",
     "text": [
      "dist_matrix: 100%|####################################################################| 10/10 [00:00<00:00, 194.88it/s]\n",
      "synth_matrix: 100%|###################################################################| 10/10 [00:00<00:00, 127.59it/s]\n",
      "r_index: 100%|###########################################################################| 2/2 [00:00<00:00, 99.34it/s]\n",
      "dist_matrix: 100%|####################################################################| 11/11 [00:00<00:00, 184.66it/s]\n",
      "synth_matrix: 100%|###################################################################| 11/11 [00:00<00:00, 141.24it/s]\n"
     ]
    },
    {
     "name": "stdout",
     "output_type": "stream",
     "text": [
      "Epoch 100, Train Loss: 0.1094, Val Loss: 1.0222\n",
      "Early stopping at epoch 181\n",
      "Training complete.\n",
      "Starting Round 35\n"
     ]
    },
    {
     "name": "stderr",
     "output_type": "stream",
     "text": [
      "dist_matrix: 100%|######################################################################| 7/7 [00:00<00:00, 247.89it/s]\n",
      "synth_matrix: 100%|######################################################################| 7/7 [00:00<00:00, 40.14it/s]\n",
      "r_index: 100%|##########################################################################| 3/3 [00:00<00:00, 125.91it/s]\n"
     ]
    },
    {
     "name": "stdout",
     "output_type": "stream",
     "text": [
      "Epoch 100, Train Loss: 0.1538, Val Loss: 4.4640\n",
      "Early stopping at epoch 182\n",
      "Training complete.\n",
      "Starting Round 36\n"
     ]
    },
    {
     "name": "stderr",
     "output_type": "stream",
     "text": [
      "dist_matrix: 100%|######################################################################| 8/8 [00:00<00:00, 192.17it/s]\n",
      "synth_matrix: 100%|######################################################################| 8/8 [00:00<00:00, 44.49it/s]\n"
     ]
    },
    {
     "name": "stdout",
     "output_type": "stream",
     "text": [
      "Epoch 100, Train Loss: 0.1052, Val Loss: 2.2829\n",
      "Epoch 200, Train Loss: 0.0962, Val Loss: 2.2901\n",
      "Early stopping at epoch 274\n",
      "Training complete.\n",
      "Starting Round 37\n",
      "SMOGN failed: redefine phi relevance function: all points are 1\n",
      "→ Using original data instead.\n",
      "Epoch 100, Train Loss: 0.1327, Val Loss: 7.8805\n",
      "Epoch 00167: reducing learning rate of group 0 to 1.0000e-02.\n",
      "Epoch 200, Train Loss: 0.0901, Val Loss: 7.8988\n",
      "Early stopping at epoch 240\n",
      "Training complete.\n",
      "Starting Round 38\n"
     ]
    },
    {
     "name": "stderr",
     "output_type": "stream",
     "text": [
      "dist_matrix: 100%|####################################################################| 10/10 [00:00<00:00, 151.97it/s]\n",
      "synth_matrix: 100%|####################################################################| 10/10 [00:00<00:00, 61.39it/s]\n",
      "r_index: 100%|##########################################################################| 2/2 [00:00<00:00, 121.18it/s]\n"
     ]
    },
    {
     "name": "stdout",
     "output_type": "stream",
     "text": [
      "Epoch 100, Train Loss: 0.0790, Val Loss: 263.3545\n",
      "Epoch 00102: reducing learning rate of group 0 to 1.0000e-02.\n",
      "Early stopping at epoch 137\n",
      "Training complete.\n",
      "Starting Round 39\n"
     ]
    },
    {
     "name": "stderr",
     "output_type": "stream",
     "text": [
      "dist_matrix: 100%|####################################################################| 11/11 [00:00<00:00, 156.72it/s]\n",
      "synth_matrix: 100%|###################################################################| 11/11 [00:00<00:00, 119.19it/s]\n",
      "r_index: 100%|########################################################################| 10/10 [00:00<00:00, 144.34it/s]\n"
     ]
    },
    {
     "name": "stdout",
     "output_type": "stream",
     "text": [
      "Epoch 100, Train Loss: 0.0842, Val Loss: 2.6244\n",
      "Early stopping at epoch 118\n",
      "Training complete.\n",
      "Starting Round 40\n"
     ]
    },
    {
     "name": "stderr",
     "output_type": "stream",
     "text": [
      "dist_matrix: 100%|######################################################################| 9/9 [00:00<00:00, 167.66it/s]\n",
      "synth_matrix: 100%|######################################################################| 9/9 [00:00<00:00, 61.33it/s]\n",
      "r_index: 100%|##########################################################################| 4/4 [00:00<00:00, 127.10it/s]\n"
     ]
    },
    {
     "name": "stdout",
     "output_type": "stream",
     "text": [
      "Epoch 100, Train Loss: 0.0917, Val Loss: 0.6977\n",
      "Early stopping at epoch 182\n",
      "Training complete.\n",
      "Starting Round 41\n"
     ]
    },
    {
     "name": "stderr",
     "output_type": "stream",
     "text": [
      "dist_matrix: 100%|######################################################################| 8/8 [00:00<00:00, 200.04it/s]\n",
      "synth_matrix: 100%|######################################################################| 8/8 [00:00<00:00, 44.35it/s]\n"
     ]
    },
    {
     "name": "stdout",
     "output_type": "stream",
     "text": [
      "Epoch 100, Train Loss: 0.1331, Val Loss: 1.2519\n",
      "Early stopping at epoch 119\n",
      "Training complete.\n",
      "Starting Round 42\n"
     ]
    },
    {
     "name": "stderr",
     "output_type": "stream",
     "text": [
      "dist_matrix: 100%|####################################################################| 13/13 [00:00<00:00, 138.45it/s]\n",
      "synth_matrix: 100%|###################################################################| 13/13 [00:00<00:00, 131.27it/s]\n",
      "r_index: 100%|##########################################################################| 6/6 [00:00<00:00, 129.86it/s]\n"
     ]
    },
    {
     "name": "stdout",
     "output_type": "stream",
     "text": [
      "Epoch 100, Train Loss: 0.1162, Val Loss: 0.6427\n",
      "Early stopping at epoch 117\n",
      "Training complete.\n",
      "Starting Round 43\n"
     ]
    },
    {
     "name": "stderr",
     "output_type": "stream",
     "text": [
      "dist_matrix: 100%|######################################################################| 9/9 [00:00<00:00, 169.35it/s]\n",
      "synth_matrix: 100%|######################################################################| 9/9 [00:00<00:00, 71.33it/s]\n",
      "r_index: 100%|##########################################################################| 4/4 [00:00<00:00, 156.79it/s]\n"
     ]
    },
    {
     "name": "stdout",
     "output_type": "stream",
     "text": [
      "Epoch 100, Train Loss: 0.1050, Val Loss: 1.0935\n",
      "Epoch 200, Train Loss: 0.0981, Val Loss: 1.0706\n",
      "Early stopping at epoch 236\n",
      "Training complete.\n",
      "Starting Round 44\n"
     ]
    },
    {
     "name": "stderr",
     "output_type": "stream",
     "text": [
      "dist_matrix: 100%|####################################################################| 11/11 [00:00<00:00, 169.46it/s]\n",
      "synth_matrix: 100%|###################################################################| 11/11 [00:00<00:00, 147.43it/s]\n",
      "r_index: 100%|########################################################################| 10/10 [00:00<00:00, 155.49it/s]\n"
     ]
    },
    {
     "name": "stdout",
     "output_type": "stream",
     "text": [
      "Epoch 100, Train Loss: 0.1375, Val Loss: 0.7221\n",
      "Epoch 200, Train Loss: 0.1135, Val Loss: 0.8110\n",
      "Early stopping at epoch 204\n",
      "Training complete.\n",
      "Starting Round 45\n"
     ]
    },
    {
     "name": "stderr",
     "output_type": "stream",
     "text": [
      "dist_matrix: 100%|####################################################################| 13/13 [00:00<00:00, 122.34it/s]\n",
      "synth_matrix: 100%|###################################################################| 13/13 [00:00<00:00, 121.66it/s]\n",
      "r_index: 100%|##########################################################################| 6/6 [00:00<00:00, 150.05it/s]\n"
     ]
    },
    {
     "name": "stdout",
     "output_type": "stream",
     "text": [
      "Epoch 100, Train Loss: 0.1108, Val Loss: 0.8244\n",
      "Epoch 200, Train Loss: 0.0924, Val Loss: 0.8529\n",
      "Early stopping at epoch 202\n",
      "Training complete.\n",
      "Starting Round 46\n"
     ]
    },
    {
     "name": "stderr",
     "output_type": "stream",
     "text": [
      "dist_matrix: 100%|####################################################################| 10/10 [00:00<00:00, 157.55it/s]\n",
      "synth_matrix: 100%|####################################################################| 10/10 [00:00<00:00, 62.31it/s]\n",
      "r_index: 100%|###########################################################################| 2/2 [00:00<00:00, 85.38it/s]\n"
     ]
    },
    {
     "name": "stdout",
     "output_type": "stream",
     "text": [
      "Epoch 100, Train Loss: 0.0874, Val Loss: 50.1004\n",
      "Epoch 00132: reducing learning rate of group 0 to 1.0000e-02.\n",
      "Early stopping at epoch 133\n",
      "Training complete.\n",
      "Starting Round 47\n"
     ]
    },
    {
     "name": "stderr",
     "output_type": "stream",
     "text": [
      "dist_matrix: 100%|####################################################################| 10/10 [00:00<00:00, 194.71it/s]\n",
      "synth_matrix: 100%|####################################################################| 10/10 [00:00<00:00, 68.86it/s]\n",
      "r_index: 100%|##########################################################################| 2/2 [00:00<00:00, 186.60it/s]\n"
     ]
    },
    {
     "name": "stdout",
     "output_type": "stream",
     "text": [
      "Epoch 100, Train Loss: 0.1326, Val Loss: 0.5728\n",
      "Epoch 200, Train Loss: 0.1054, Val Loss: 0.6027\n",
      "Early stopping at epoch 203\n",
      "Training complete.\n",
      "Starting Round 48\n"
     ]
    },
    {
     "name": "stderr",
     "output_type": "stream",
     "text": [
      "dist_matrix: 100%|######################################################################| 9/9 [00:00<00:00, 171.22it/s]\n",
      "synth_matrix: 100%|#####################################################################| 9/9 [00:00<00:00, 162.48it/s]\n",
      "r_index: 100%|##########################################################################| 4/4 [00:00<00:00, 128.44it/s]\n",
      "dist_matrix: 100%|######################################################################| 8/8 [00:00<00:00, 251.52it/s]\n",
      "synth_matrix: 100%|#####################################################################| 8/8 [00:00<00:00, 126.51it/s]\n",
      "r_index: 100%|##########################################################################| 6/6 [00:00<00:00, 132.03it/s]\n"
     ]
    },
    {
     "name": "stdout",
     "output_type": "stream",
     "text": [
      "Epoch 100, Train Loss: 0.1285, Val Loss: 6.5509\n",
      "Early stopping at epoch 182\n",
      "Training complete.\n",
      "Starting Round 49\n",
      "SMOGN failed: redefine phi relevance function: all points are 1\n",
      "→ Using original data instead.\n",
      "Epoch 100, Train Loss: 0.1477, Val Loss: 1.4932\n",
      "Early stopping at epoch 194\n",
      "Training complete.\n",
      "Starting Round 50\n"
     ]
    },
    {
     "name": "stderr",
     "output_type": "stream",
     "text": [
      "dist_matrix: 100%|####################################################################| 10/10 [00:00<00:00, 174.77it/s]\n",
      "synth_matrix: 100%|####################################################################| 10/10 [00:00<00:00, 72.70it/s]\n",
      "r_index: 100%|##########################################################################| 2/2 [00:00<00:00, 121.72it/s]\n"
     ]
    },
    {
     "name": "stdout",
     "output_type": "stream",
     "text": [
      "Epoch 100, Train Loss: 0.1454, Val Loss: 1.2049\n",
      "Epoch 200, Train Loss: 0.1129, Val Loss: 1.2858\n",
      "Early stopping at epoch 227\n",
      "Training complete.\n",
      "Starting Round 51\n"
     ]
    },
    {
     "name": "stderr",
     "output_type": "stream",
     "text": [
      "dist_matrix: 100%|######################################################################| 9/9 [00:00<00:00, 201.07it/s]\n",
      "synth_matrix: 100%|######################################################################| 9/9 [00:00<00:00, 65.35it/s]\n",
      "r_index: 100%|##########################################################################| 4/4 [00:00<00:00, 130.61it/s]\n"
     ]
    },
    {
     "name": "stdout",
     "output_type": "stream",
     "text": [
      "Epoch 100, Train Loss: 0.1490, Val Loss: 2236.9878\n",
      "Epoch 00132: reducing learning rate of group 0 to 1.0000e-02.\n",
      "Early stopping at epoch 164\n",
      "Training complete.\n",
      "Starting Round 52\n"
     ]
    },
    {
     "name": "stderr",
     "output_type": "stream",
     "text": [
      "dist_matrix: 100%|######################################################################| 9/9 [00:00<00:00, 208.57it/s]\n",
      "synth_matrix: 100%|######################################################################| 9/9 [00:00<00:00, 65.41it/s]\n",
      "r_index: 100%|##########################################################################| 4/4 [00:00<00:00, 256.15it/s]\n"
     ]
    },
    {
     "name": "stdout",
     "output_type": "stream",
     "text": [
      "Epoch 100, Train Loss: 0.0948, Val Loss: 0.7981\n",
      "Early stopping at epoch 119\n",
      "Training complete.\n",
      "Starting Round 53\n"
     ]
    },
    {
     "name": "stderr",
     "output_type": "stream",
     "text": [
      "dist_matrix: 100%|######################################################################| 9/9 [00:00<00:00, 196.11it/s]\n",
      "synth_matrix: 100%|######################################################################| 9/9 [00:00<00:00, 64.07it/s]\n",
      "r_index: 100%|##########################################################################| 4/4 [00:00<00:00, 119.16it/s]\n"
     ]
    },
    {
     "name": "stdout",
     "output_type": "stream",
     "text": [
      "Epoch 100, Train Loss: 0.1149, Val Loss: 1.7835\n",
      "Epoch 200, Train Loss: 0.0959, Val Loss: 1.7761\n",
      "Early stopping at epoch 244\n",
      "Training complete.\n",
      "Starting Round 54\n"
     ]
    },
    {
     "name": "stderr",
     "output_type": "stream",
     "text": [
      "dist_matrix: 100%|####################################################################| 10/10 [00:00<00:00, 163.12it/s]\n",
      "synth_matrix: 100%|####################################################################| 10/10 [00:00<00:00, 58.33it/s]\n",
      "r_index: 100%|##########################################################################| 2/2 [00:00<00:00, 116.27it/s]\n"
     ]
    },
    {
     "name": "stdout",
     "output_type": "stream",
     "text": [
      "Epoch 100, Train Loss: 0.1289, Val Loss: 8.7118\n",
      "Early stopping at epoch 116\n",
      "Training complete.\n",
      "Starting Round 55\n"
     ]
    },
    {
     "name": "stderr",
     "output_type": "stream",
     "text": [
      "dist_matrix: 100%|######################################################################| 8/8 [00:00<00:00, 212.69it/s]\n",
      "synth_matrix: 100%|######################################################################| 8/8 [00:00<00:00, 39.28it/s]\n"
     ]
    },
    {
     "name": "stdout",
     "output_type": "stream",
     "text": [
      "Epoch 100, Train Loss: 0.0940, Val Loss: 0.8848\n",
      "Epoch 200, Train Loss: 0.0871, Val Loss: 0.8873\n",
      "Early stopping at epoch 250\n",
      "Training complete.\n",
      "Starting Round 56\n"
     ]
    },
    {
     "name": "stderr",
     "output_type": "stream",
     "text": [
      "dist_matrix: 100%|####################################################################| 14/14 [00:00<00:00, 120.69it/s]\n",
      "synth_matrix: 100%|###################################################################| 14/14 [00:00<00:00, 173.46it/s]\n",
      "r_index: 100%|##########################################################################| 3/3 [00:00<00:00, 120.19it/s]\n"
     ]
    },
    {
     "name": "stdout",
     "output_type": "stream",
     "text": [
      "Epoch 100, Train Loss: 0.1576, Val Loss: 27.3655\n",
      "Epoch 200, Train Loss: 0.1288, Val Loss: 27.3867\n",
      "Early stopping at epoch 215\n",
      "Training complete.\n",
      "Starting Round 57\n"
     ]
    },
    {
     "name": "stderr",
     "output_type": "stream",
     "text": [
      "dist_matrix: 100%|####################################################################| 10/10 [00:00<00:00, 163.24it/s]\n",
      "synth_matrix: 100%|###################################################################| 10/10 [00:00<00:00, 141.90it/s]\n",
      "r_index: 100%|##########################################################################| 2/2 [00:00<00:00, 255.22it/s]\n",
      "dist_matrix: 100%|####################################################################| 12/12 [00:00<00:00, 167.19it/s]\n",
      "r_index: 100%|########################################################################| 10/10 [00:00<00:00, 144.61it/s]\n"
     ]
    },
    {
     "name": "stdout",
     "output_type": "stream",
     "text": [
      "Epoch 100, Train Loss: 0.1172, Val Loss: 5.2458\n",
      "Early stopping at epoch 164\n",
      "Training complete.\n",
      "Starting Round 58\n"
     ]
    },
    {
     "name": "stderr",
     "output_type": "stream",
     "text": [
      "dist_matrix: 100%|######################################################################| 8/8 [00:00<00:00, 195.88it/s]\n",
      "synth_matrix: 100%|######################################################################| 8/8 [00:00<00:00, 41.56it/s]\n"
     ]
    },
    {
     "name": "stdout",
     "output_type": "stream",
     "text": [
      "Epoch 100, Train Loss: 0.1069, Val Loss: 1.6057\n",
      "Early stopping at epoch 103\n",
      "Training complete.\n",
      "Starting Round 59\n"
     ]
    },
    {
     "name": "stderr",
     "output_type": "stream",
     "text": [
      "dist_matrix: 100%|####################################################################| 10/10 [00:00<00:00, 168.69it/s]\n",
      "synth_matrix: 100%|####################################################################| 10/10 [00:00<00:00, 66.58it/s]\n",
      "r_index: 100%|##########################################################################| 2/2 [00:00<00:00, 108.97it/s]\n"
     ]
    },
    {
     "name": "stdout",
     "output_type": "stream",
     "text": [
      "Epoch 100, Train Loss: 0.1360, Val Loss: 3.9319\n",
      "Early stopping at epoch 193\n",
      "Training complete.\n",
      "Starting Round 60\n"
     ]
    },
    {
     "name": "stderr",
     "output_type": "stream",
     "text": [
      "dist_matrix: 100%|####################################################################| 12/12 [00:00<00:00, 147.82it/s]\n",
      "synth_matrix: 100%|###################################################################| 12/12 [00:00<00:00, 114.40it/s]\n",
      "r_index: 100%|##########################################################################| 7/7 [00:00<00:00, 147.23it/s]\n"
     ]
    },
    {
     "name": "stdout",
     "output_type": "stream",
     "text": [
      "Epoch 100, Train Loss: 0.1038, Val Loss: 1.3555\n",
      "Epoch 200, Train Loss: 0.0953, Val Loss: 1.4000\n",
      "Early stopping at epoch 222\n",
      "Training complete.\n",
      "Starting Round 61\n"
     ]
    },
    {
     "name": "stderr",
     "output_type": "stream",
     "text": [
      "dist_matrix: 100%|######################################################################| 9/9 [00:00<00:00, 212.48it/s]\n",
      "synth_matrix: 100%|######################################################################| 9/9 [00:00<00:00, 64.67it/s]\n",
      "r_index: 100%|##########################################################################| 4/4 [00:00<00:00, 140.04it/s]\n"
     ]
    },
    {
     "name": "stdout",
     "output_type": "stream",
     "text": [
      "Epoch 100, Train Loss: 0.1309, Val Loss: 0.8593\n",
      "Epoch 200, Train Loss: 0.1176, Val Loss: 0.8107\n",
      "Early stopping at epoch 265\n",
      "Training complete.\n",
      "Starting Round 62\n"
     ]
    },
    {
     "name": "stderr",
     "output_type": "stream",
     "text": [
      "dist_matrix: 100%|######################################################################| 8/8 [00:00<00:00, 181.13it/s]\n",
      "synth_matrix: 100%|#####################################################################| 8/8 [00:00<00:00, 125.40it/s]\n",
      "r_index: 100%|##########################################################################| 6/6 [00:00<00:00, 108.91it/s]\n",
      "dist_matrix: 100%|######################################################################| 9/9 [00:00<00:00, 192.04it/s]\n",
      "synth_matrix: 100%|#####################################################################| 9/9 [00:00<00:00, 123.61it/s]\n",
      "r_index: 100%|##########################################################################| 4/4 [00:00<00:00, 186.38it/s]\n"
     ]
    },
    {
     "name": "stdout",
     "output_type": "stream",
     "text": [
      "Epoch 100, Train Loss: 0.1201, Val Loss: 3.6352\n",
      "Early stopping at epoch 117\n",
      "Training complete.\n",
      "Starting Round 63\n"
     ]
    },
    {
     "name": "stderr",
     "output_type": "stream",
     "text": [
      "dist_matrix: 100%|####################################################################| 10/10 [00:00<00:00, 165.26it/s]\n",
      "synth_matrix: 100%|####################################################################| 10/10 [00:00<00:00, 65.73it/s]\n",
      "r_index: 100%|##########################################################################| 2/2 [00:00<00:00, 116.12it/s]\n"
     ]
    },
    {
     "name": "stdout",
     "output_type": "stream",
     "text": [
      "Epoch 100, Train Loss: 0.1187, Val Loss: 2.4722\n",
      "Epoch 200, Train Loss: 0.0999, Val Loss: 2.4619\n",
      "Epoch 00251: reducing learning rate of group 0 to 1.0000e-02.\n",
      "Epoch 300, Train Loss: 0.0553, Val Loss: 2.4447\n",
      "Early stopping at epoch 318\n",
      "Training complete.\n",
      "Starting Round 64\n"
     ]
    },
    {
     "name": "stderr",
     "output_type": "stream",
     "text": [
      "dist_matrix: 100%|####################################################################| 10/10 [00:00<00:00, 176.62it/s]\n",
      "synth_matrix: 100%|####################################################################| 10/10 [00:00<00:00, 66.31it/s]\n",
      "r_index: 100%|##########################################################################| 2/2 [00:00<00:00, 116.97it/s]\n"
     ]
    },
    {
     "name": "stdout",
     "output_type": "stream",
     "text": [
      "Epoch 100, Train Loss: 0.1056, Val Loss: 9.6314\n",
      "Early stopping at epoch 188\n",
      "Training complete.\n",
      "Starting Round 65\n"
     ]
    },
    {
     "name": "stderr",
     "output_type": "stream",
     "text": [
      "dist_matrix: 100%|######################################################################| 8/8 [00:00<00:00, 233.79it/s]\n",
      "synth_matrix: 100%|######################################################################| 8/8 [00:00<00:00, 38.83it/s]\n"
     ]
    },
    {
     "name": "stdout",
     "output_type": "stream",
     "text": [
      "Epoch 100, Train Loss: 0.1337, Val Loss: 0.8764\n",
      "Epoch 200, Train Loss: 0.1082, Val Loss: 0.8545\n",
      "Early stopping at epoch 218\n",
      "Training complete.\n",
      "Starting Round 66\n"
     ]
    },
    {
     "name": "stderr",
     "output_type": "stream",
     "text": [
      "dist_matrix: 100%|######################################################################| 8/8 [00:00<00:00, 220.76it/s]\n",
      "synth_matrix: 100%|######################################################################| 8/8 [00:00<00:00, 44.13it/s]\n"
     ]
    },
    {
     "name": "stdout",
     "output_type": "stream",
     "text": [
      "Epoch 100, Train Loss: 0.1148, Val Loss: 0.6781\n",
      "Epoch 200, Train Loss: 0.0968, Val Loss: 0.7240\n",
      "Early stopping at epoch 214\n",
      "Training complete.\n",
      "Starting Round 67\n"
     ]
    },
    {
     "name": "stderr",
     "output_type": "stream",
     "text": [
      "dist_matrix: 100%|####################################################################| 11/11 [00:00<00:00, 163.81it/s]\n",
      "synth_matrix: 100%|###################################################################| 11/11 [00:00<00:00, 125.45it/s]\n",
      "r_index: 100%|########################################################################| 10/10 [00:00<00:00, 118.74it/s]\n"
     ]
    },
    {
     "name": "stdout",
     "output_type": "stream",
     "text": [
      "Epoch 100, Train Loss: 0.1047, Val Loss: 0.9509\n",
      "Early stopping at epoch 187\n",
      "Training complete.\n",
      "Starting Round 68\n"
     ]
    },
    {
     "name": "stderr",
     "output_type": "stream",
     "text": [
      "dist_matrix: 100%|######################################################################| 7/7 [00:00<00:00, 209.96it/s]\n",
      "synth_matrix: 100%|######################################################################| 7/7 [00:00<00:00, 40.73it/s]\n",
      "r_index: 100%|##########################################################################| 3/3 [00:00<00:00, 121.97it/s]\n"
     ]
    },
    {
     "name": "stdout",
     "output_type": "stream",
     "text": [
      "Epoch 100, Train Loss: 0.1129, Val Loss: 6.3857\n",
      "Epoch 200, Train Loss: 0.0898, Val Loss: 6.4845\n",
      "Early stopping at epoch 216\n",
      "Training complete.\n",
      "Starting Round 69\n",
      "SMOGN failed: redefine phi relevance function: all points are 1\n",
      "→ Using original data instead.\n",
      "Epoch 100, Train Loss: 0.1518, Val Loss: 7.1448\n",
      "Early stopping at epoch 177\n",
      "Training complete.\n",
      "Starting Round 70\n"
     ]
    },
    {
     "name": "stderr",
     "output_type": "stream",
     "text": [
      "dist_matrix: 100%|######################################################################| 8/8 [00:00<00:00, 216.27it/s]\n",
      "synth_matrix: 100%|######################################################################| 8/8 [00:00<00:00, 40.21it/s]\n"
     ]
    },
    {
     "name": "stdout",
     "output_type": "stream",
     "text": [
      "Epoch 100, Train Loss: 0.0957, Val Loss: 4.0245\n",
      "Early stopping at epoch 122\n",
      "Training complete.\n",
      "Starting Round 71\n"
     ]
    },
    {
     "name": "stderr",
     "output_type": "stream",
     "text": [
      "dist_matrix: 100%|######################################################################| 9/9 [00:00<00:00, 201.77it/s]\n",
      "synth_matrix: 100%|######################################################################| 9/9 [00:00<00:00, 61.21it/s]\n",
      "r_index: 100%|##########################################################################| 4/4 [00:00<00:00, 140.12it/s]\n"
     ]
    },
    {
     "name": "stdout",
     "output_type": "stream",
     "text": [
      "Epoch 100, Train Loss: 0.1176, Val Loss: 1.0420\n",
      "Epoch 200, Train Loss: 0.0957, Val Loss: 1.1089\n",
      "Early stopping at epoch 286\n",
      "Training complete.\n",
      "Starting Round 72\n"
     ]
    },
    {
     "name": "stderr",
     "output_type": "stream",
     "text": [
      "dist_matrix: 100%|####################################################################| 10/10 [00:00<00:00, 171.40it/s]\n",
      "synth_matrix: 100%|####################################################################| 10/10 [00:00<00:00, 73.88it/s]\n",
      "r_index: 100%|##########################################################################| 2/2 [00:00<00:00, 185.54it/s]\n"
     ]
    },
    {
     "name": "stdout",
     "output_type": "stream",
     "text": [
      "Epoch 100, Train Loss: 0.1112, Val Loss: 21.4049\n",
      "Early stopping at epoch 135\n",
      "Training complete.\n",
      "Starting Round 73\n"
     ]
    },
    {
     "name": "stderr",
     "output_type": "stream",
     "text": [
      "dist_matrix: 100%|####################################################################| 10/10 [00:00<00:00, 177.66it/s]\n",
      "synth_matrix: 100%|####################################################################| 10/10 [00:00<00:00, 69.33it/s]\n",
      "r_index: 100%|##########################################################################| 2/2 [00:00<00:00, 123.72it/s]\n"
     ]
    },
    {
     "name": "stdout",
     "output_type": "stream",
     "text": [
      "Epoch 100, Train Loss: 0.0894, Val Loss: 70.1911\n",
      "Epoch 200, Train Loss: 0.1007, Val Loss: 70.1916\n",
      "Epoch 300, Train Loss: 0.0893, Val Loss: 70.2755\n",
      "Early stopping at epoch 339\n",
      "Training complete.\n",
      "Starting Round 74\n"
     ]
    },
    {
     "name": "stderr",
     "output_type": "stream",
     "text": [
      "dist_matrix: 100%|####################################################################| 12/12 [00:00<00:00, 152.01it/s]\n",
      "synth_matrix: 100%|###################################################################| 12/12 [00:00<00:00, 117.32it/s]\n",
      "r_index: 100%|##########################################################################| 7/7 [00:00<00:00, 140.32it/s]\n"
     ]
    },
    {
     "name": "stdout",
     "output_type": "stream",
     "text": [
      "Epoch 100, Train Loss: 0.1407, Val Loss: 1.2411\n",
      "Epoch 200, Train Loss: 0.1300, Val Loss: 1.2361\n",
      "Early stopping at epoch 274\n",
      "Training complete.\n",
      "Starting Round 75\n"
     ]
    },
    {
     "name": "stderr",
     "output_type": "stream",
     "text": [
      "dist_matrix: 100%|####################################################################| 10/10 [00:00<00:00, 181.68it/s]\n",
      "synth_matrix: 100%|####################################################################| 10/10 [00:00<00:00, 60.87it/s]\n",
      "r_index: 100%|##########################################################################| 2/2 [00:00<00:00, 125.80it/s]\n"
     ]
    },
    {
     "name": "stdout",
     "output_type": "stream",
     "text": [
      "Epoch 100, Train Loss: 0.1139, Val Loss: 54.3672\n",
      "Epoch 00182: reducing learning rate of group 0 to 1.0000e-02.\n",
      "Early stopping at epoch 184\n",
      "Training complete.\n",
      "Starting Round 76\n"
     ]
    },
    {
     "name": "stderr",
     "output_type": "stream",
     "text": [
      "dist_matrix: 100%|####################################################################| 10/10 [00:00<00:00, 149.16it/s]\n",
      "synth_matrix: 100%|####################################################################| 10/10 [00:00<00:00, 86.31it/s]\n",
      "r_index: 100%|##########################################################################| 2/2 [00:00<00:00, 116.47it/s]\n"
     ]
    },
    {
     "name": "stdout",
     "output_type": "stream",
     "text": [
      "Epoch 100, Train Loss: 0.1491, Val Loss: 4.7401\n",
      "Epoch 200, Train Loss: 0.1350, Val Loss: 4.7620\n",
      "Early stopping at epoch 202\n",
      "Training complete.\n",
      "Starting Round 77\n"
     ]
    },
    {
     "name": "stderr",
     "output_type": "stream",
     "text": [
      "dist_matrix: 100%|####################################################################| 10/10 [00:00<00:00, 165.06it/s]\n",
      "synth_matrix: 100%|####################################################################| 10/10 [00:00<00:00, 56.56it/s]\n",
      "r_index: 100%|##########################################################################| 2/2 [00:00<00:00, 103.77it/s]\n"
     ]
    },
    {
     "name": "stdout",
     "output_type": "stream",
     "text": [
      "Epoch 100, Train Loss: 0.1137, Val Loss: 0.6100\n",
      "Epoch 00118: reducing learning rate of group 0 to 1.0000e-02.\n",
      "Early stopping at epoch 118\n",
      "Training complete.\n",
      "Starting Round 78\n"
     ]
    },
    {
     "name": "stderr",
     "output_type": "stream",
     "text": [
      "dist_matrix: 100%|####################################################################| 10/10 [00:00<00:00, 165.59it/s]\n",
      "synth_matrix: 100%|####################################################################| 10/10 [00:00<00:00, 60.05it/s]\n",
      "r_index: 100%|###########################################################################| 2/2 [00:00<00:00, 97.57it/s]\n"
     ]
    },
    {
     "name": "stdout",
     "output_type": "stream",
     "text": [
      "Epoch 100, Train Loss: 0.0978, Val Loss: 87.2973\n",
      "Epoch 00184: reducing learning rate of group 0 to 1.0000e-02.\n",
      "Early stopping at epoch 193\n",
      "Training complete.\n",
      "Starting Round 79\n"
     ]
    },
    {
     "name": "stderr",
     "output_type": "stream",
     "text": [
      "dist_matrix: 100%|######################################################################| 9/9 [00:00<00:00, 171.15it/s]\n",
      "synth_matrix: 100%|######################################################################| 9/9 [00:00<00:00, 60.30it/s]\n",
      "r_index: 100%|##########################################################################| 4/4 [00:00<00:00, 110.67it/s]\n"
     ]
    },
    {
     "name": "stdout",
     "output_type": "stream",
     "text": [
      "Epoch 100, Train Loss: 0.1064, Val Loss: 43.4940\n",
      "Epoch 00130: reducing learning rate of group 0 to 1.0000e-02.\n",
      "Epoch 200, Train Loss: 0.0583, Val Loss: 43.4970\n",
      "Early stopping at epoch 209\n",
      "Training complete.\n",
      "Starting Round 80\n"
     ]
    },
    {
     "name": "stderr",
     "output_type": "stream",
     "text": [
      "dist_matrix: 100%|######################################################################| 9/9 [00:00<00:00, 178.85it/s]\n",
      "synth_matrix: 100%|######################################################################| 9/9 [00:00<00:00, 53.01it/s]\n",
      "r_index: 100%|##########################################################################| 4/4 [00:00<00:00, 128.14it/s]\n"
     ]
    },
    {
     "name": "stdout",
     "output_type": "stream",
     "text": [
      "Epoch 100, Train Loss: 0.0913, Val Loss: 8.0633\n",
      "Epoch 200, Train Loss: 0.0870, Val Loss: 8.0381\n",
      "Early stopping at epoch 230\n",
      "Training complete.\n",
      "Starting Round 81\n"
     ]
    },
    {
     "name": "stderr",
     "output_type": "stream",
     "text": [
      "dist_matrix: 100%|######################################################################| 7/7 [00:00<00:00, 210.64it/s]\n",
      "synth_matrix: 100%|######################################################################| 7/7 [00:00<00:00, 36.72it/s]\n",
      "r_index: 100%|###########################################################################| 3/3 [00:00<00:00, 98.21it/s]\n"
     ]
    },
    {
     "name": "stdout",
     "output_type": "stream",
     "text": [
      "Epoch 100, Train Loss: 0.1136, Val Loss: 1.6865\n",
      "Early stopping at epoch 147\n",
      "Training complete.\n",
      "Starting Round 82\n"
     ]
    },
    {
     "name": "stderr",
     "output_type": "stream",
     "text": [
      "dist_matrix: 100%|######################################################################| 7/7 [00:00<00:00, 192.89it/s]\n",
      "synth_matrix: 100%|######################################################################| 7/7 [00:00<00:00, 54.35it/s]\n",
      "dist_matrix: 100%|######################################################################| 9/9 [00:00<00:00, 200.29it/s]\n",
      "synth_matrix: 100%|#####################################################################| 9/9 [00:00<00:00, 136.68it/s]\n",
      "r_index: 100%|##########################################################################| 4/4 [00:00<00:00, 103.27it/s]\n"
     ]
    },
    {
     "name": "stdout",
     "output_type": "stream",
     "text": [
      "Epoch 100, Train Loss: 0.1118, Val Loss: 1.1939\n",
      "Early stopping at epoch 125\n",
      "Training complete.\n",
      "Starting Round 83\n",
      "SMOGN failed: redefine phi relevance function: all points are 1\n",
      "→ Using original data instead.\n",
      "Epoch 100, Train Loss: 0.1447, Val Loss: 7.4529\n",
      "Early stopping at epoch 133\n",
      "Training complete.\n",
      "Starting Round 84\n"
     ]
    },
    {
     "name": "stderr",
     "output_type": "stream",
     "text": [
      "dist_matrix: 100%|######################################################################| 8/8 [00:00<00:00, 192.75it/s]\n",
      "synth_matrix: 100%|######################################################################| 8/8 [00:00<00:00, 42.21it/s]\n"
     ]
    },
    {
     "name": "stdout",
     "output_type": "stream",
     "text": [
      "Epoch 100, Train Loss: 0.1094, Val Loss: 1.1608\n",
      "Early stopping at epoch 117\n",
      "Training complete.\n",
      "Starting Round 85\n"
     ]
    },
    {
     "name": "stderr",
     "output_type": "stream",
     "text": [
      "dist_matrix: 100%|######################################################################| 9/9 [00:00<00:00, 174.57it/s]\n",
      "synth_matrix: 100%|######################################################################| 9/9 [00:00<00:00, 52.86it/s]\n",
      "r_index: 100%|###########################################################################| 4/4 [00:00<00:00, 95.42it/s]\n"
     ]
    },
    {
     "name": "stdout",
     "output_type": "stream",
     "text": [
      "Epoch 100, Train Loss: 0.0865, Val Loss: 41.7973\n",
      "Early stopping at epoch 177\n",
      "Training complete.\n",
      "Starting Round 86\n"
     ]
    },
    {
     "name": "stderr",
     "output_type": "stream",
     "text": [
      "dist_matrix: 100%|######################################################################| 7/7 [00:00<00:00, 219.58it/s]\n",
      "synth_matrix: 100%|######################################################################| 7/7 [00:00<00:00, 37.25it/s]\n",
      "r_index: 100%|##########################################################################| 3/3 [00:00<00:00, 124.75it/s]\n"
     ]
    },
    {
     "name": "stdout",
     "output_type": "stream",
     "text": [
      "Epoch 100, Train Loss: 0.0981, Val Loss: 9.9008\n",
      "Epoch 200, Train Loss: 0.0787, Val Loss: 9.9036\n",
      "Epoch 300, Train Loss: 0.0694, Val Loss: 9.8705\n",
      "Epoch 400, Train Loss: 0.0704, Val Loss: 9.8817\n",
      "Early stopping at epoch 449\n",
      "Training complete.\n",
      "Starting Round 87\n"
     ]
    },
    {
     "name": "stderr",
     "output_type": "stream",
     "text": [
      "dist_matrix: 100%|######################################################################| 9/9 [00:00<00:00, 167.66it/s]\n",
      "synth_matrix: 100%|######################################################################| 9/9 [00:00<00:00, 57.71it/s]\n",
      "r_index: 100%|##########################################################################| 4/4 [00:00<00:00, 106.27it/s]\n"
     ]
    },
    {
     "name": "stdout",
     "output_type": "stream",
     "text": [
      "Epoch 100, Train Loss: 0.1230, Val Loss: 404.3756\n",
      "Epoch 00188: reducing learning rate of group 0 to 1.0000e-02.\n",
      "Epoch 200, Train Loss: 0.0837, Val Loss: 404.4191\n",
      "Early stopping at epoch 223\n",
      "Training complete.\n",
      "Starting Round 88\n"
     ]
    },
    {
     "name": "stderr",
     "output_type": "stream",
     "text": [
      "dist_matrix: 100%|######################################################################| 8/8 [00:00<00:00, 187.35it/s]\n",
      "synth_matrix: 100%|######################################################################| 8/8 [00:00<00:00, 37.89it/s]\n"
     ]
    },
    {
     "name": "stdout",
     "output_type": "stream",
     "text": [
      "Epoch 100, Train Loss: 0.1248, Val Loss: 0.5974\n",
      "Epoch 200, Train Loss: 0.1183, Val Loss: 0.5798\n",
      "Early stopping at epoch 215\n",
      "Training complete.\n",
      "Starting Round 89\n"
     ]
    },
    {
     "name": "stderr",
     "output_type": "stream",
     "text": [
      "dist_matrix: 100%|######################################################################| 7/7 [00:00<00:00, 196.37it/s]\n",
      "synth_matrix: 100%|######################################################################| 7/7 [00:00<00:00, 50.36it/s]\n",
      "dist_matrix: 100%|####################################################################| 12/12 [00:00<00:00, 136.00it/s]\n",
      "r_index: 100%|########################################################################| 10/10 [00:00<00:00, 120.43it/s]\n"
     ]
    },
    {
     "name": "stdout",
     "output_type": "stream",
     "text": [
      "Epoch 100, Train Loss: 0.1069, Val Loss: 31.5801\n",
      "Epoch 200, Train Loss: 0.0848, Val Loss: 31.5762\n",
      "Epoch 00253: reducing learning rate of group 0 to 1.0000e-02.\n",
      "Early stopping at epoch 257\n",
      "Training complete.\n",
      "Starting Round 90\n",
      "SMOGN failed: redefine phi relevance function: all points are 1\n",
      "→ Using original data instead.\n",
      "Epoch 100, Train Loss: 0.1440, Val Loss: 0.6700\n",
      "Epoch 200, Train Loss: 0.1307, Val Loss: 0.6494\n",
      "Early stopping at epoch 244\n",
      "Training complete.\n",
      "Starting Round 91\n"
     ]
    },
    {
     "name": "stderr",
     "output_type": "stream",
     "text": [
      "dist_matrix: 100%|####################################################################| 10/10 [00:00<00:00, 138.70it/s]\n",
      "synth_matrix: 100%|####################################################################| 10/10 [00:00<00:00, 56.59it/s]\n",
      "r_index: 100%|###########################################################################| 2/2 [00:00<00:00, 91.37it/s]\n"
     ]
    },
    {
     "name": "stdout",
     "output_type": "stream",
     "text": [
      "Epoch 100, Train Loss: 0.1264, Val Loss: 1.3345\n",
      "Epoch 200, Train Loss: 0.1029, Val Loss: 1.6483\n",
      "Early stopping at epoch 206\n",
      "Training complete.\n",
      "Starting Round 92\n"
     ]
    },
    {
     "name": "stderr",
     "output_type": "stream",
     "text": [
      "dist_matrix: 100%|######################################################################| 7/7 [00:00<00:00, 210.08it/s]\n",
      "synth_matrix: 100%|######################################################################| 7/7 [00:00<00:00, 47.41it/s]\n",
      "dist_matrix: 100%|######################################################################| 8/8 [00:00<00:00, 205.41it/s]\n",
      "synth_matrix: 100%|#####################################################################| 8/8 [00:00<00:00, 113.55it/s]\n",
      "r_index: 100%|##########################################################################| 6/6 [00:00<00:00, 115.27it/s]\n"
     ]
    },
    {
     "name": "stdout",
     "output_type": "stream",
     "text": [
      "Epoch 100, Train Loss: 0.1241, Val Loss: 4.0712\n",
      "Early stopping at epoch 123\n",
      "Training complete.\n",
      "Starting Round 93\n"
     ]
    },
    {
     "name": "stderr",
     "output_type": "stream",
     "text": [
      "dist_matrix: 100%|####################################################################| 10/10 [00:00<00:00, 155.18it/s]\n",
      "synth_matrix: 100%|####################################################################| 10/10 [00:00<00:00, 57.73it/s]\n",
      "r_index: 100%|##########################################################################| 2/2 [00:00<00:00, 140.99it/s]\n"
     ]
    },
    {
     "name": "stdout",
     "output_type": "stream",
     "text": [
      "Epoch 100, Train Loss: 0.1180, Val Loss: 14.0021\n",
      "Epoch 200, Train Loss: 0.1062, Val Loss: 14.0252\n",
      "Early stopping at epoch 207\n",
      "Training complete.\n",
      "Starting Round 94\n",
      "SMOGN failed: redefine phi relevance function: all points are 1\n",
      "→ Using original data instead.\n",
      "Epoch 100, Train Loss: 0.1454, Val Loss: 0.8717\n",
      "Epoch 200, Train Loss: 0.1310, Val Loss: 0.9068\n",
      "Early stopping at epoch 267\n",
      "Training complete.\n",
      "Starting Round 95\n"
     ]
    },
    {
     "name": "stderr",
     "output_type": "stream",
     "text": [
      "dist_matrix: 100%|####################################################################| 10/10 [00:00<00:00, 138.72it/s]\n",
      "synth_matrix: 100%|####################################################################| 10/10 [00:00<00:00, 49.86it/s]\n",
      "r_index: 100%|##########################################################################| 2/2 [00:00<00:00, 144.46it/s]\n"
     ]
    },
    {
     "name": "stdout",
     "output_type": "stream",
     "text": [
      "Epoch 100, Train Loss: 0.1255, Val Loss: 5.0696\n",
      "Early stopping at epoch 114\n",
      "Training complete.\n",
      "Starting Round 96\n",
      "SMOGN failed: redefine phi relevance function: all points are 1\n",
      "→ Using original data instead.\n",
      "Epoch 100, Train Loss: 0.1311, Val Loss: 36.0036\n",
      "Epoch 200, Train Loss: 0.1234, Val Loss: 36.2072\n",
      "Early stopping at epoch 218\n",
      "Training complete.\n",
      "Starting Round 97\n"
     ]
    },
    {
     "name": "stderr",
     "output_type": "stream",
     "text": [
      "dist_matrix: 100%|######################################################################| 9/9 [00:00<00:00, 161.67it/s]\n",
      "synth_matrix: 100%|######################################################################| 9/9 [00:00<00:00, 51.25it/s]\n",
      "r_index: 100%|###########################################################################| 4/4 [00:00<00:00, 92.26it/s]\n"
     ]
    },
    {
     "name": "stdout",
     "output_type": "stream",
     "text": [
      "Epoch 100, Train Loss: 0.1100, Val Loss: 4.6810\n",
      "Epoch 200, Train Loss: 0.0990, Val Loss: 4.7315\n",
      "Early stopping at epoch 210\n",
      "Training complete.\n",
      "Starting Round 98\n"
     ]
    },
    {
     "name": "stderr",
     "output_type": "stream",
     "text": [
      "dist_matrix: 100%|######################################################################| 8/8 [00:00<00:00, 145.24it/s]\n",
      "synth_matrix: 100%|######################################################################| 8/8 [00:00<00:00, 86.17it/s]\n",
      "r_index: 100%|##########################################################################| 6/6 [00:00<00:00, 102.06it/s]\n",
      "dist_matrix: 100%|######################################################################| 9/9 [00:00<00:00, 168.81it/s]\n",
      "synth_matrix: 100%|#####################################################################| 9/9 [00:00<00:00, 107.84it/s]\n",
      "r_index: 100%|###########################################################################| 4/4 [00:00<00:00, 99.62it/s]\n"
     ]
    },
    {
     "name": "stdout",
     "output_type": "stream",
     "text": [
      "Epoch 100, Train Loss: 0.1333, Val Loss: 0.8111\n",
      "Epoch 200, Train Loss: 0.1089, Val Loss: 0.8325\n",
      "Early stopping at epoch 282\n",
      "Training complete.\n",
      "Starting Round 99\n",
      "SMOGN failed: redefine phi relevance function: all points are 1\n",
      "→ Using original data instead.\n",
      "Epoch 100, Train Loss: 0.1410, Val Loss: 0.8538\n",
      "Early stopping at epoch 119\n",
      "Training complete.\n",
      "Starting Round 100\n"
     ]
    },
    {
     "name": "stderr",
     "output_type": "stream",
     "text": [
      "dist_matrix: 100%|######################################################################| 9/9 [00:00<00:00, 152.08it/s]\n",
      "synth_matrix: 100%|######################################################################| 9/9 [00:00<00:00, 50.23it/s]\n",
      "r_index: 100%|###########################################################################| 4/4 [00:00<00:00, 84.45it/s]\n"
     ]
    },
    {
     "name": "stdout",
     "output_type": "stream",
     "text": [
      "Epoch 100, Train Loss: 0.1474, Val Loss: 1.3680\n",
      "Epoch 200, Train Loss: 0.1241, Val Loss: 1.3335\n",
      "Epoch 300, Train Loss: 0.1070, Val Loss: 1.2571\n",
      "Early stopping at epoch 386\n",
      "Training complete.\n",
      "Starting Round 101\n"
     ]
    },
    {
     "name": "stderr",
     "output_type": "stream",
     "text": [
      "dist_matrix: 100%|#####################################################################| 14/14 [00:00<00:00, 94.30it/s]\n",
      "synth_matrix: 100%|###################################################################| 14/14 [00:00<00:00, 114.17it/s]\n",
      "r_index: 100%|##########################################################################| 3/3 [00:00<00:00, 171.28it/s]\n"
     ]
    },
    {
     "name": "stdout",
     "output_type": "stream",
     "text": [
      "Epoch 100, Train Loss: 0.1402, Val Loss: 1.1433\n",
      "Early stopping at epoch 121\n",
      "Training complete.\n",
      "Starting Round 102\n",
      "SMOGN failed: redefine phi relevance function: all points are 1\n",
      "→ Using original data instead.\n",
      "Epoch 100, Train Loss: 0.1466, Val Loss: 6.2754\n",
      "Epoch 200, Train Loss: 0.1333, Val Loss: 6.3112\n",
      "Early stopping at epoch 239\n",
      "Training complete.\n",
      "Starting Round 103\n"
     ]
    },
    {
     "name": "stderr",
     "output_type": "stream",
     "text": [
      "dist_matrix: 100%|######################################################################| 8/8 [00:00<00:00, 163.49it/s]\n",
      "synth_matrix: 100%|#####################################################################| 8/8 [00:00<00:00, 104.59it/s]\n",
      "r_index: 100%|###########################################################################| 6/6 [00:00<00:00, 99.40it/s]\n",
      "dist_matrix: 100%|######################################################################| 8/8 [00:00<00:00, 207.12it/s]\n",
      "synth_matrix: 100%|#####################################################################| 8/8 [00:00<00:00, 127.17it/s]\n",
      "r_index: 100%|##########################################################################| 6/6 [00:00<00:00, 115.57it/s]\n"
     ]
    },
    {
     "name": "stdout",
     "output_type": "stream",
     "text": [
      "Epoch 100, Train Loss: 0.1208, Val Loss: 0.7575\n",
      "Epoch 200, Train Loss: 0.1070, Val Loss: 0.7575\n",
      "Early stopping at epoch 275\n",
      "Training complete.\n",
      "Starting Round 104\n"
     ]
    },
    {
     "name": "stderr",
     "output_type": "stream",
     "text": [
      "dist_matrix: 100%|######################################################################| 9/9 [00:00<00:00, 150.02it/s]\n",
      "synth_matrix: 100%|######################################################################| 9/9 [00:00<00:00, 67.45it/s]\n",
      "r_index: 100%|###########################################################################| 4/4 [00:00<00:00, 94.57it/s]\n"
     ]
    },
    {
     "name": "stdout",
     "output_type": "stream",
     "text": [
      "Epoch 100, Train Loss: 0.1119, Val Loss: 13.9003\n",
      "Epoch 200, Train Loss: 0.0915, Val Loss: 13.9752\n",
      "Early stopping at epoch 203\n",
      "Training complete.\n",
      "Starting Round 105\n"
     ]
    },
    {
     "name": "stderr",
     "output_type": "stream",
     "text": [
      "dist_matrix: 100%|####################################################################| 11/11 [00:00<00:00, 145.29it/s]\n",
      "synth_matrix: 100%|###################################################################| 11/11 [00:00<00:00, 117.36it/s]\n",
      "r_index: 100%|########################################################################| 10/10 [00:00<00:00, 108.93it/s]\n"
     ]
    },
    {
     "name": "stdout",
     "output_type": "stream",
     "text": [
      "Epoch 100, Train Loss: 0.1180, Val Loss: 5.3290\n",
      "Early stopping at epoch 175\n",
      "Training complete.\n",
      "Starting Round 106\n",
      "SMOGN failed: redefine phi relevance function: all points are 1\n",
      "→ Using original data instead.\n",
      "Epoch 100, Train Loss: 0.1428, Val Loss: 1.9141\n",
      "Early stopping at epoch 173\n",
      "Training complete.\n",
      "Starting Round 107\n"
     ]
    },
    {
     "name": "stderr",
     "output_type": "stream",
     "text": [
      "dist_matrix: 100%|####################################################################| 10/10 [00:00<00:00, 145.18it/s]\n",
      "synth_matrix: 100%|####################################################################| 10/10 [00:00<00:00, 57.58it/s]\n",
      "r_index: 100%|##########################################################################| 2/2 [00:00<00:00, 140.09it/s]\n"
     ]
    },
    {
     "name": "stdout",
     "output_type": "stream",
     "text": [
      "Epoch 100, Train Loss: 0.1679, Val Loss: 22.1987\n",
      "Early stopping at epoch 131\n",
      "Training complete.\n",
      "Starting Round 108\n"
     ]
    },
    {
     "name": "stderr",
     "output_type": "stream",
     "text": [
      "dist_matrix: 100%|######################################################################| 9/9 [00:00<00:00, 139.13it/s]\n",
      "synth_matrix: 100%|######################################################################| 9/9 [00:00<00:00, 55.29it/s]\n",
      "r_index: 100%|##########################################################################| 4/4 [00:00<00:00, 113.85it/s]\n"
     ]
    },
    {
     "name": "stdout",
     "output_type": "stream",
     "text": [
      "Epoch 100, Train Loss: 0.0992, Val Loss: 54.6735\n",
      "Epoch 00146: reducing learning rate of group 0 to 1.0000e-02.\n",
      "Early stopping at epoch 166\n",
      "Training complete.\n",
      "Starting Round 109\n"
     ]
    },
    {
     "name": "stderr",
     "output_type": "stream",
     "text": [
      "dist_matrix: 100%|######################################################################| 6/6 [00:00<00:00, 254.90it/s]\n",
      "synth_matrix: 100%|######################################################################| 6/6 [00:00<00:00, 24.82it/s]\n",
      "r_index: 100%|###########################################################################| 1/1 [00:00<00:00, 96.92it/s]\n"
     ]
    },
    {
     "name": "stdout",
     "output_type": "stream",
     "text": [
      "Epoch 100, Train Loss: 0.1208, Val Loss: 0.7899\n",
      "Epoch 200, Train Loss: 0.0932, Val Loss: 0.7687\n",
      "Early stopping at epoch 261\n",
      "Training complete.\n",
      "Starting Round 110\n"
     ]
    },
    {
     "name": "stderr",
     "output_type": "stream",
     "text": [
      "dist_matrix: 100%|######################################################################| 6/6 [00:00<00:00, 252.38it/s]\n",
      "synth_matrix: 100%|######################################################################| 6/6 [00:00<00:00, 28.44it/s]\n",
      "r_index: 100%|###########################################################################| 1/1 [00:00<00:00, 92.64it/s]\n"
     ]
    },
    {
     "name": "stdout",
     "output_type": "stream",
     "text": [
      "Epoch 100, Train Loss: 0.1108, Val Loss: 2.7726\n",
      "Epoch 200, Train Loss: 0.0881, Val Loss: 2.7907\n",
      "Epoch 300, Train Loss: 0.0795, Val Loss: 2.7786\n",
      "Early stopping at epoch 309\n",
      "Training complete.\n",
      "Starting Round 111\n"
     ]
    },
    {
     "name": "stderr",
     "output_type": "stream",
     "text": [
      "dist_matrix: 100%|######################################################################| 9/9 [00:00<00:00, 153.26it/s]\n",
      "synth_matrix: 100%|######################################################################| 9/9 [00:00<00:00, 52.95it/s]\n",
      "r_index: 100%|##########################################################################| 4/4 [00:00<00:00, 117.34it/s]\n"
     ]
    },
    {
     "name": "stdout",
     "output_type": "stream",
     "text": [
      "Epoch 100, Train Loss: 0.0965, Val Loss: 2.0743\n",
      "Early stopping at epoch 160\n",
      "Training complete.\n",
      "Starting Round 112\n"
     ]
    },
    {
     "name": "stderr",
     "output_type": "stream",
     "text": [
      "dist_matrix: 100%|####################################################################| 11/11 [00:00<00:00, 156.11it/s]\n",
      "synth_matrix: 100%|###################################################################| 11/11 [00:00<00:00, 106.00it/s]\n",
      "r_index: 100%|########################################################################| 10/10 [00:00<00:00, 111.22it/s]\n"
     ]
    },
    {
     "name": "stdout",
     "output_type": "stream",
     "text": [
      "Epoch 100, Train Loss: 0.1299, Val Loss: 1.6365\n",
      "Epoch 200, Train Loss: 0.1081, Val Loss: 1.6156\n",
      "Epoch 300, Train Loss: 0.0940, Val Loss: 1.6020\n",
      "Early stopping at epoch 315\n",
      "Training complete.\n",
      "Starting Round 113\n",
      "SMOGN failed: redefine phi relevance function: all points are 1\n",
      "→ Using original data instead.\n",
      "Epoch 100, Train Loss: 0.1394, Val Loss: 68.6492\n",
      "Epoch 00197: reducing learning rate of group 0 to 1.0000e-02.\n",
      "Epoch 200, Train Loss: 0.1252, Val Loss: 68.6450\n",
      "Early stopping at epoch 263\n",
      "Training complete.\n",
      "Starting Round 114\n"
     ]
    },
    {
     "name": "stderr",
     "output_type": "stream",
     "text": [
      "dist_matrix: 100%|######################################################################| 9/9 [00:00<00:00, 162.13it/s]\n",
      "synth_matrix: 100%|######################################################################| 9/9 [00:00<00:00, 54.35it/s]\n",
      "r_index: 100%|##########################################################################| 4/4 [00:00<00:00, 122.03it/s]\n"
     ]
    },
    {
     "name": "stdout",
     "output_type": "stream",
     "text": [
      "Epoch 100, Train Loss: 0.1154, Val Loss: 1.0141\n",
      "Early stopping at epoch 190\n",
      "Training complete.\n",
      "Starting Round 115\n",
      "SMOGN failed: redefine phi relevance function: all points are 1\n",
      "→ Using original data instead.\n",
      "Epoch 100, Train Loss: 0.1471, Val Loss: 0.8419\n",
      "Epoch 200, Train Loss: 0.1290, Val Loss: 0.8450\n",
      "Epoch 300, Train Loss: 0.1257, Val Loss: 0.8278\n",
      "Epoch 400, Train Loss: 0.1189, Val Loss: 0.8745\n",
      "Early stopping at epoch 429\n",
      "Training complete.\n",
      "Starting Round 116\n"
     ]
    },
    {
     "name": "stderr",
     "output_type": "stream",
     "text": [
      "dist_matrix: 100%|######################################################################| 9/9 [00:00<00:00, 166.42it/s]\n",
      "synth_matrix: 100%|######################################################################| 9/9 [00:00<00:00, 72.35it/s]\n",
      "r_index: 100%|##########################################################################| 4/4 [00:00<00:00, 142.71it/s]\n"
     ]
    },
    {
     "name": "stdout",
     "output_type": "stream",
     "text": [
      "Epoch 100, Train Loss: 0.1364, Val Loss: 33.4005\n",
      "Epoch 200, Train Loss: 0.1043, Val Loss: 33.3399\n",
      "Early stopping at epoch 251\n",
      "Training complete.\n",
      "Starting Round 117\n"
     ]
    },
    {
     "name": "stderr",
     "output_type": "stream",
     "text": [
      "dist_matrix: 100%|####################################################################| 12/12 [00:00<00:00, 125.09it/s]\n",
      "synth_matrix: 100%|###################################################################| 12/12 [00:00<00:00, 103.86it/s]\n",
      "r_index: 100%|##########################################################################| 7/7 [00:00<00:00, 102.72it/s]\n"
     ]
    },
    {
     "name": "stdout",
     "output_type": "stream",
     "text": [
      "Epoch 100, Train Loss: 0.1440, Val Loss: 7.0988\n",
      "Epoch 200, Train Loss: 0.1379, Val Loss: 7.3369\n",
      "Early stopping at epoch 249\n",
      "Training complete.\n",
      "Starting Round 118\n"
     ]
    },
    {
     "name": "stderr",
     "output_type": "stream",
     "text": [
      "dist_matrix: 100%|######################################################################| 8/8 [00:00<00:00, 184.71it/s]\n",
      "synth_matrix: 100%|######################################################################| 8/8 [00:00<00:00, 35.35it/s]\n"
     ]
    },
    {
     "name": "stdout",
     "output_type": "stream",
     "text": [
      "Epoch 100, Train Loss: 0.0983, Val Loss: 19.5316\n",
      "Epoch 200, Train Loss: 0.0757, Val Loss: 19.5730\n",
      "Early stopping at epoch 204\n",
      "Training complete.\n",
      "Starting Round 119\n"
     ]
    },
    {
     "name": "stderr",
     "output_type": "stream",
     "text": [
      "dist_matrix: 100%|######################################################################| 9/9 [00:00<00:00, 189.60it/s]\n",
      "synth_matrix: 100%|######################################################################| 9/9 [00:00<00:00, 63.67it/s]\n",
      "r_index: 100%|##########################################################################| 4/4 [00:00<00:00, 115.30it/s]\n"
     ]
    },
    {
     "name": "stdout",
     "output_type": "stream",
     "text": [
      "Epoch 100, Train Loss: 0.1045, Val Loss: 375.4928\n",
      "Early stopping at epoch 187\n",
      "Training complete.\n",
      "Starting Round 120\n"
     ]
    },
    {
     "name": "stderr",
     "output_type": "stream",
     "text": [
      "dist_matrix: 100%|####################################################################| 11/11 [00:00<00:00, 135.51it/s]\n",
      "synth_matrix: 100%|###################################################################| 11/11 [00:00<00:00, 104.32it/s]\n",
      "r_index: 100%|########################################################################| 10/10 [00:00<00:00, 111.31it/s]\n"
     ]
    },
    {
     "name": "stdout",
     "output_type": "stream",
     "text": [
      "Epoch 100, Train Loss: 0.1145, Val Loss: 0.7412\n",
      "Early stopping at epoch 199\n",
      "Training complete.\n",
      "Starting Round 121\n",
      "SMOGN failed: redefine phi relevance function: all points are 1\n",
      "→ Using original data instead.\n",
      "Epoch 100, Train Loss: 0.1365, Val Loss: 7.4951\n",
      "Epoch 00187: reducing learning rate of group 0 to 1.0000e-02.\n",
      "Epoch 200, Train Loss: 0.1038, Val Loss: 7.5026\n",
      "Early stopping at epoch 260\n",
      "Training complete.\n",
      "Starting Round 122\n"
     ]
    },
    {
     "name": "stderr",
     "output_type": "stream",
     "text": [
      "dist_matrix: 100%|######################################################################| 9/9 [00:00<00:00, 159.30it/s]\n",
      "synth_matrix: 100%|######################################################################| 9/9 [00:00<00:00, 60.29it/s]\n",
      "r_index: 100%|##########################################################################| 4/4 [00:00<00:00, 107.03it/s]\n"
     ]
    },
    {
     "name": "stdout",
     "output_type": "stream",
     "text": [
      "Epoch 100, Train Loss: 0.0970, Val Loss: 62.1966\n",
      "Epoch 00171: reducing learning rate of group 0 to 1.0000e-02.\n",
      "Early stopping at epoch 173\n",
      "Training complete.\n",
      "Starting Round 123\n"
     ]
    },
    {
     "name": "stderr",
     "output_type": "stream",
     "text": [
      "dist_matrix: 100%|####################################################################| 10/10 [00:00<00:00, 144.82it/s]\n",
      "synth_matrix: 100%|####################################################################| 10/10 [00:00<00:00, 57.09it/s]\n",
      "r_index: 100%|##########################################################################| 2/2 [00:00<00:00, 107.61it/s]\n"
     ]
    },
    {
     "name": "stdout",
     "output_type": "stream",
     "text": [
      "Epoch 100, Train Loss: 0.1238, Val Loss: 0.7565\n",
      "Early stopping at epoch 188\n",
      "Training complete.\n",
      "Starting Round 124\n"
     ]
    },
    {
     "name": "stderr",
     "output_type": "stream",
     "text": [
      "dist_matrix: 100%|######################################################################| 8/8 [00:00<00:00, 208.02it/s]\n",
      "synth_matrix: 100%|######################################################################| 8/8 [00:00<00:00, 35.95it/s]\n"
     ]
    },
    {
     "name": "stdout",
     "output_type": "stream",
     "text": [
      "Epoch 100, Train Loss: 0.1159, Val Loss: 0.7349\n",
      "Early stopping at epoch 188\n",
      "Training complete.\n",
      "Starting Round 125\n"
     ]
    },
    {
     "name": "stderr",
     "output_type": "stream",
     "text": [
      "dist_matrix: 100%|######################################################################| 9/9 [00:00<00:00, 164.24it/s]\n",
      "synth_matrix: 100%|######################################################################| 9/9 [00:00<00:00, 52.68it/s]\n",
      "r_index: 100%|###########################################################################| 4/4 [00:00<00:00, 91.41it/s]\n"
     ]
    },
    {
     "name": "stdout",
     "output_type": "stream",
     "text": [
      "Epoch 100, Train Loss: 0.1349, Val Loss: 4.9466\n",
      "Early stopping at epoch 151\n",
      "Training complete.\n",
      "Starting Round 126\n"
     ]
    },
    {
     "name": "stderr",
     "output_type": "stream",
     "text": [
      "dist_matrix: 100%|####################################################################| 10/10 [00:00<00:00, 158.79it/s]\n",
      "synth_matrix: 100%|####################################################################| 10/10 [00:00<00:00, 57.33it/s]\n",
      "r_index: 100%|###########################################################################| 2/2 [00:00<00:00, 98.58it/s]\n"
     ]
    },
    {
     "name": "stdout",
     "output_type": "stream",
     "text": [
      "Epoch 100, Train Loss: 0.1425, Val Loss: 2.9491\n",
      "Epoch 200, Train Loss: 0.1017, Val Loss: 2.9419\n",
      "Early stopping at epoch 217\n",
      "Training complete.\n",
      "Starting Round 127\n"
     ]
    },
    {
     "name": "stderr",
     "output_type": "stream",
     "text": [
      "dist_matrix: 100%|######################################################################| 7/7 [00:00<00:00, 203.55it/s]\n",
      "synth_matrix: 100%|######################################################################| 7/7 [00:00<00:00, 34.83it/s]\n",
      "r_index: 100%|##########################################################################| 3/3 [00:00<00:00, 137.85it/s]\n"
     ]
    },
    {
     "name": "stdout",
     "output_type": "stream",
     "text": [
      "Epoch 100, Train Loss: 0.1394, Val Loss: 10.3761\n",
      "Epoch 200, Train Loss: 0.1135, Val Loss: 10.3594\n",
      "Epoch 300, Train Loss: 0.1187, Val Loss: 10.3896\n",
      "Early stopping at epoch 313\n",
      "Training complete.\n",
      "Starting Round 128\n"
     ]
    },
    {
     "name": "stderr",
     "output_type": "stream",
     "text": [
      "dist_matrix: 100%|######################################################################| 9/9 [00:00<00:00, 170.26it/s]\n",
      "synth_matrix: 100%|######################################################################| 9/9 [00:00<00:00, 54.81it/s]\n",
      "r_index: 100%|##########################################################################| 4/4 [00:00<00:00, 113.15it/s]\n"
     ]
    },
    {
     "name": "stdout",
     "output_type": "stream",
     "text": [
      "Epoch 100, Train Loss: 0.1135, Val Loss: 0.9467\n",
      "Early stopping at epoch 123\n",
      "Training complete.\n",
      "Starting Round 129\n"
     ]
    },
    {
     "name": "stderr",
     "output_type": "stream",
     "text": [
      "dist_matrix: 100%|####################################################################| 10/10 [00:00<00:00, 148.01it/s]\n",
      "synth_matrix: 100%|####################################################################| 10/10 [00:00<00:00, 58.09it/s]\n",
      "r_index: 100%|###########################################################################| 2/2 [00:00<00:00, 92.31it/s]\n"
     ]
    },
    {
     "name": "stdout",
     "output_type": "stream",
     "text": [
      "Epoch 100, Train Loss: 0.1013, Val Loss: 0.9229\n",
      "Epoch 200, Train Loss: 0.0804, Val Loss: 0.8950\n",
      "Early stopping at epoch 235\n",
      "Training complete.\n",
      "Starting Round 130\n"
     ]
    },
    {
     "name": "stderr",
     "output_type": "stream",
     "text": [
      "dist_matrix: 100%|######################################################################| 7/7 [00:00<00:00, 228.48it/s]\n",
      "synth_matrix: 100%|######################################################################| 7/7 [00:00<00:00, 54.45it/s]\n",
      "dist_matrix: 100%|######################################################################| 8/8 [00:00<00:00, 221.54it/s]\n",
      "synth_matrix: 100%|#####################################################################| 8/8 [00:00<00:00, 119.90it/s]\n",
      "r_index: 100%|##########################################################################| 6/6 [00:00<00:00, 133.08it/s]\n"
     ]
    },
    {
     "name": "stdout",
     "output_type": "stream",
     "text": [
      "Epoch 100, Train Loss: 0.1119, Val Loss: 5.7962\n",
      "Epoch 00118: reducing learning rate of group 0 to 1.0000e-02.\n",
      "Early stopping at epoch 118\n",
      "Training complete.\n",
      "Starting Round 131\n"
     ]
    },
    {
     "name": "stderr",
     "output_type": "stream",
     "text": [
      "dist_matrix: 100%|######################################################################| 7/7 [00:00<00:00, 215.55it/s]\n",
      "synth_matrix: 100%|######################################################################| 7/7 [00:00<00:00, 34.77it/s]\n",
      "r_index: 100%|##########################################################################| 3/3 [00:00<00:00, 145.53it/s]\n"
     ]
    },
    {
     "name": "stdout",
     "output_type": "stream",
     "text": [
      "Epoch 100, Train Loss: 0.1758, Val Loss: 0.7599\n",
      "Epoch 200, Train Loss: 0.1426, Val Loss: 0.6455\n",
      "Early stopping at epoch 281\n",
      "Training complete.\n",
      "Starting Round 132\n"
     ]
    },
    {
     "name": "stderr",
     "output_type": "stream",
     "text": [
      "dist_matrix: 100%|####################################################################| 10/10 [00:00<00:00, 161.40it/s]\n",
      "synth_matrix: 100%|####################################################################| 10/10 [00:00<00:00, 56.89it/s]\n",
      "r_index: 100%|##########################################################################| 2/2 [00:00<00:00, 101.72it/s]\n"
     ]
    },
    {
     "name": "stdout",
     "output_type": "stream",
     "text": [
      "Epoch 100, Train Loss: 0.1007, Val Loss: 2.0348\n",
      "Early stopping at epoch 169\n",
      "Training complete.\n",
      "Starting Round 133\n",
      "SMOGN failed: redefine phi relevance function: all points are 1\n",
      "→ Using original data instead.\n",
      "Epoch 100, Train Loss: 0.1540, Val Loss: 1.9394\n",
      "Early stopping at epoch 192\n",
      "Training complete.\n",
      "Starting Round 134\n",
      "SMOGN failed: redefine phi relevance function: all points are 1\n",
      "→ Using original data instead.\n",
      "Epoch 100, Train Loss: 0.1739, Val Loss: 0.7502\n",
      "Epoch 200, Train Loss: 0.1446, Val Loss: 0.7740\n",
      "Early stopping at epoch 205\n",
      "Training complete.\n",
      "Starting Round 135\n",
      "SMOGN failed: redefine phi relevance function: all points are 1\n",
      "→ Using original data instead.\n",
      "Epoch 100, Train Loss: 0.1280, Val Loss: 0.7117\n",
      "Epoch 200, Train Loss: 0.1253, Val Loss: 0.7214\n",
      "Early stopping at epoch 224\n",
      "Training complete.\n",
      "Starting Round 136\n",
      "SMOGN failed: redefine phi relevance function: all points are 1\n",
      "→ Using original data instead.\n",
      "Epoch 100, Train Loss: 0.1688, Val Loss: 0.7601\n",
      "Epoch 200, Train Loss: 0.1435, Val Loss: 0.7214\n",
      "Early stopping at epoch 276\n",
      "Training complete.\n",
      "Starting Round 137\n"
     ]
    },
    {
     "name": "stderr",
     "output_type": "stream",
     "text": [
      "dist_matrix: 100%|######################################################################| 9/9 [00:00<00:00, 145.74it/s]\n",
      "synth_matrix: 100%|######################################################################| 9/9 [00:00<00:00, 52.71it/s]\n",
      "r_index: 100%|##########################################################################| 4/4 [00:00<00:00, 111.14it/s]\n"
     ]
    },
    {
     "name": "stdout",
     "output_type": "stream",
     "text": [
      "Epoch 100, Train Loss: 0.1084, Val Loss: 2.5450\n",
      "Early stopping at epoch 194\n",
      "Training complete.\n",
      "Starting Round 138\n"
     ]
    },
    {
     "name": "stderr",
     "output_type": "stream",
     "text": [
      "dist_matrix: 100%|######################################################################| 9/9 [00:00<00:00, 165.09it/s]\n",
      "synth_matrix: 100%|######################################################################| 9/9 [00:00<00:00, 66.94it/s]\n",
      "r_index: 100%|##########################################################################| 4/4 [00:00<00:00, 113.07it/s]\n"
     ]
    },
    {
     "name": "stdout",
     "output_type": "stream",
     "text": [
      "Epoch 100, Train Loss: 0.1335, Val Loss: 0.9777\n",
      "Epoch 200, Train Loss: 0.1183, Val Loss: 0.9687\n",
      "Early stopping at epoch 252\n",
      "Training complete.\n",
      "Starting Round 139\n"
     ]
    },
    {
     "name": "stderr",
     "output_type": "stream",
     "text": [
      "dist_matrix: 100%|######################################################################| 9/9 [00:00<00:00, 186.43it/s]\n",
      "synth_matrix: 100%|######################################################################| 9/9 [00:00<00:00, 60.39it/s]\n",
      "r_index: 100%|##########################################################################| 4/4 [00:00<00:00, 114.28it/s]\n"
     ]
    },
    {
     "name": "stdout",
     "output_type": "stream",
     "text": [
      "Epoch 100, Train Loss: 0.1084, Val Loss: 0.5503\n",
      "Epoch 200, Train Loss: 0.0973, Val Loss: 0.5462\n",
      "Early stopping at epoch 214\n",
      "Training complete.\n",
      "Starting Round 140\n",
      "SMOGN failed: redefine phi relevance function: all points are 1\n",
      "→ Using original data instead.\n",
      "Epoch 100, Train Loss: 0.1461, Val Loss: 12.2249\n",
      "Epoch 200, Train Loss: 0.1391, Val Loss: 12.1909\n",
      "Early stopping at epoch 218\n",
      "Training complete.\n",
      "Starting Round 141\n",
      "SMOGN failed: redefine phi relevance function: all points are 1\n",
      "→ Using original data instead.\n",
      "Epoch 100, Train Loss: 0.1470, Val Loss: 57.8313\n",
      "Epoch 200, Train Loss: 0.1301, Val Loss: 57.8347\n",
      "Early stopping at epoch 244\n",
      "Training complete.\n",
      "Starting Round 142\n"
     ]
    },
    {
     "name": "stderr",
     "output_type": "stream",
     "text": [
      "dist_matrix: 100%|######################################################################| 8/8 [00:00<00:00, 185.11it/s]\n",
      "synth_matrix: 100%|######################################################################| 8/8 [00:00<00:00, 36.41it/s]\n"
     ]
    },
    {
     "name": "stdout",
     "output_type": "stream",
     "text": [
      "Epoch 100, Train Loss: 0.1084, Val Loss: 5.0936\n",
      "Early stopping at epoch 118\n",
      "Training complete.\n",
      "Starting Round 143\n"
     ]
    },
    {
     "name": "stderr",
     "output_type": "stream",
     "text": [
      "dist_matrix: 100%|######################################################################| 8/8 [00:00<00:00, 206.47it/s]\n",
      "synth_matrix: 100%|######################################################################| 8/8 [00:00<00:00, 34.79it/s]\n"
     ]
    },
    {
     "name": "stdout",
     "output_type": "stream",
     "text": [
      "Epoch 100, Train Loss: 0.0896, Val Loss: 3.2920\n",
      "Early stopping at epoch 133\n",
      "Training complete.\n",
      "Starting Round 144\n"
     ]
    },
    {
     "name": "stderr",
     "output_type": "stream",
     "text": [
      "dist_matrix: 100%|######################################################################| 8/8 [00:00<00:00, 188.34it/s]\n",
      "synth_matrix: 100%|######################################################################| 8/8 [00:00<00:00, 36.36it/s]\n"
     ]
    },
    {
     "name": "stdout",
     "output_type": "stream",
     "text": [
      "Epoch 100, Train Loss: 0.0955, Val Loss: 2.1508\n",
      "Epoch 200, Train Loss: 0.0848, Val Loss: 2.1530\n",
      "Early stopping at epoch 213\n",
      "Training complete.\n",
      "Starting Round 145\n"
     ]
    },
    {
     "name": "stderr",
     "output_type": "stream",
     "text": [
      "dist_matrix: 100%|####################################################################| 12/12 [00:00<00:00, 123.27it/s]\n",
      "synth_matrix: 100%|###################################################################| 12/12 [00:00<00:00, 117.97it/s]\n",
      "r_index: 100%|##########################################################################| 7/7 [00:00<00:00, 122.85it/s]\n"
     ]
    },
    {
     "name": "stdout",
     "output_type": "stream",
     "text": [
      "Epoch 100, Train Loss: 0.1796, Val Loss: 156.3570\n",
      "Early stopping at epoch 119\n",
      "Training complete.\n",
      "Starting Round 146\n"
     ]
    },
    {
     "name": "stderr",
     "output_type": "stream",
     "text": [
      "dist_matrix: 100%|######################################################################| 9/9 [00:00<00:00, 178.97it/s]\n",
      "synth_matrix: 100%|######################################################################| 9/9 [00:00<00:00, 63.32it/s]\n",
      "r_index: 100%|##########################################################################| 4/4 [00:00<00:00, 123.95it/s]\n"
     ]
    },
    {
     "name": "stdout",
     "output_type": "stream",
     "text": [
      "Epoch 100, Train Loss: 0.1354, Val Loss: 1.1859\n",
      "Epoch 200, Train Loss: 0.1261, Val Loss: 1.1233\n",
      "Epoch 300, Train Loss: 0.1046, Val Loss: 1.0991\n",
      "Early stopping at epoch 331\n",
      "Training complete.\n",
      "Starting Round 147\n",
      "SMOGN failed: redefine phi relevance function: all points are 1\n",
      "→ Using original data instead.\n",
      "Epoch 100, Train Loss: 0.1374, Val Loss: 2.4650\n",
      "Epoch 200, Train Loss: 0.1250, Val Loss: 2.4750\n",
      "Epoch 300, Train Loss: 0.1190, Val Loss: 2.4706\n",
      "Epoch 400, Train Loss: 0.1133, Val Loss: 2.4816\n",
      "Early stopping at epoch 411\n",
      "Training complete.\n",
      "Starting Round 148\n"
     ]
    },
    {
     "name": "stderr",
     "output_type": "stream",
     "text": [
      "dist_matrix: 100%|######################################################################| 9/9 [00:00<00:00, 174.33it/s]\n",
      "synth_matrix: 100%|######################################################################| 9/9 [00:00<00:00, 56.78it/s]\n",
      "r_index: 100%|###########################################################################| 4/4 [00:00<00:00, 97.80it/s]\n"
     ]
    },
    {
     "name": "stdout",
     "output_type": "stream",
     "text": [
      "Epoch 100, Train Loss: 0.1433, Val Loss: 2.1016\n",
      "Epoch 200, Train Loss: 0.1161, Val Loss: 2.0998\n",
      "Early stopping at epoch 237\n",
      "Training complete.\n",
      "Starting Round 149\n"
     ]
    },
    {
     "name": "stderr",
     "output_type": "stream",
     "text": [
      "dist_matrix: 100%|######################################################################| 9/9 [00:00<00:00, 183.77it/s]\n",
      "synth_matrix: 100%|######################################################################| 9/9 [00:00<00:00, 57.52it/s]\n",
      "r_index: 100%|##########################################################################| 4/4 [00:00<00:00, 120.09it/s]\n"
     ]
    },
    {
     "name": "stdout",
     "output_type": "stream",
     "text": [
      "Epoch 100, Train Loss: 0.0926, Val Loss: 6.2379\n",
      "Early stopping at epoch 192\n",
      "Training complete.\n",
      "Starting Round 150\n"
     ]
    },
    {
     "name": "stderr",
     "output_type": "stream",
     "text": [
      "dist_matrix: 100%|####################################################################| 11/11 [00:00<00:00, 138.69it/s]\n",
      "synth_matrix: 100%|###################################################################| 11/11 [00:00<00:00, 116.23it/s]\n",
      "r_index: 100%|########################################################################| 10/10 [00:00<00:00, 125.27it/s]\n"
     ]
    },
    {
     "name": "stdout",
     "output_type": "stream",
     "text": [
      "Epoch 100, Train Loss: 0.1132, Val Loss: 0.8101\n",
      "Epoch 200, Train Loss: 0.1024, Val Loss: 0.7930\n",
      "Early stopping at epoch 239\n",
      "Training complete.\n",
      "Starting Round 151\n"
     ]
    },
    {
     "name": "stderr",
     "output_type": "stream",
     "text": [
      "dist_matrix: 100%|####################################################################| 10/10 [00:00<00:00, 151.28it/s]\n",
      "synth_matrix: 100%|####################################################################| 10/10 [00:00<00:00, 63.76it/s]\n",
      "r_index: 100%|##########################################################################| 2/2 [00:00<00:00, 112.94it/s]\n"
     ]
    },
    {
     "name": "stdout",
     "output_type": "stream",
     "text": [
      "Epoch 100, Train Loss: 0.1321, Val Loss: 9.1613\n",
      "Early stopping at epoch 120\n",
      "Training complete.\n",
      "Starting Round 152\n"
     ]
    },
    {
     "name": "stderr",
     "output_type": "stream",
     "text": [
      "dist_matrix: 100%|######################################################################| 8/8 [00:00<00:00, 210.03it/s]\n",
      "synth_matrix: 100%|######################################################################| 8/8 [00:00<00:00, 41.90it/s]\n"
     ]
    },
    {
     "name": "stdout",
     "output_type": "stream",
     "text": [
      "Epoch 100, Train Loss: 0.1040, Val Loss: 5.2315\n",
      "Epoch 200, Train Loss: 0.0929, Val Loss: 5.2266\n",
      "Epoch 300, Train Loss: 0.0946, Val Loss: 5.2418\n",
      "Early stopping at epoch 308\n",
      "Training complete.\n",
      "Starting Round 153\n"
     ]
    },
    {
     "name": "stderr",
     "output_type": "stream",
     "text": [
      "dist_matrix: 100%|######################################################################| 9/9 [00:00<00:00, 157.49it/s]\n",
      "synth_matrix: 100%|######################################################################| 9/9 [00:00<00:00, 58.25it/s]\n",
      "r_index: 100%|##########################################################################| 4/4 [00:00<00:00, 102.88it/s]\n"
     ]
    },
    {
     "name": "stdout",
     "output_type": "stream",
     "text": [
      "Epoch 100, Train Loss: 0.1060, Val Loss: 1.7314\n",
      "Early stopping at epoch 119\n",
      "Training complete.\n",
      "Starting Round 154\n"
     ]
    },
    {
     "name": "stderr",
     "output_type": "stream",
     "text": [
      "dist_matrix: 100%|####################################################################| 10/10 [00:00<00:00, 163.14it/s]\n",
      "synth_matrix: 100%|####################################################################| 10/10 [00:00<00:00, 67.45it/s]\n",
      "r_index: 100%|##########################################################################| 2/2 [00:00<00:00, 328.30it/s]\n"
     ]
    },
    {
     "name": "stdout",
     "output_type": "stream",
     "text": [
      "Epoch 100, Train Loss: 0.1281, Val Loss: 0.6576\n",
      "Early stopping at epoch 194\n",
      "Training complete.\n",
      "Starting Round 155\n",
      "SMOGN failed: redefine phi relevance function: all points are 1\n",
      "→ Using original data instead.\n",
      "Epoch 100, Train Loss: 0.1484, Val Loss: 5.7834\n",
      "Early stopping at epoch 103\n",
      "Training complete.\n",
      "Starting Round 156\n"
     ]
    },
    {
     "name": "stderr",
     "output_type": "stream",
     "text": [
      "dist_matrix: 100%|####################################################################| 11/11 [00:00<00:00, 146.33it/s]\n",
      "synth_matrix: 100%|###################################################################| 11/11 [00:00<00:00, 110.09it/s]\n",
      "r_index: 100%|########################################################################| 10/10 [00:00<00:00, 133.38it/s]\n"
     ]
    },
    {
     "name": "stdout",
     "output_type": "stream",
     "text": [
      "Epoch 100, Train Loss: 0.0982, Val Loss: 0.9193\n",
      "Epoch 200, Train Loss: 0.0800, Val Loss: 0.9482\n",
      "Early stopping at epoch 258\n",
      "Training complete.\n",
      "Starting Round 157\n"
     ]
    },
    {
     "name": "stderr",
     "output_type": "stream",
     "text": [
      "dist_matrix: 100%|######################################################################| 9/9 [00:00<00:00, 144.38it/s]\n",
      "synth_matrix: 100%|######################################################################| 9/9 [00:00<00:00, 67.35it/s]\n",
      "r_index: 100%|##########################################################################| 4/4 [00:00<00:00, 108.72it/s]\n"
     ]
    },
    {
     "name": "stdout",
     "output_type": "stream",
     "text": [
      "Epoch 100, Train Loss: 0.0990, Val Loss: 2.0095\n",
      "Early stopping at epoch 169\n",
      "Training complete.\n",
      "Starting Round 158\n"
     ]
    },
    {
     "name": "stderr",
     "output_type": "stream",
     "text": [
      "dist_matrix: 100%|######################################################################| 8/8 [00:00<00:00, 202.39it/s]\n",
      "synth_matrix: 100%|######################################################################| 8/8 [00:00<00:00, 37.20it/s]\n"
     ]
    },
    {
     "name": "stdout",
     "output_type": "stream",
     "text": [
      "Epoch 100, Train Loss: 0.0880, Val Loss: 0.5655\n",
      "Epoch 200, Train Loss: 0.0800, Val Loss: 0.5417\n",
      "Epoch 300, Train Loss: 0.0745, Val Loss: 0.5438\n",
      "Epoch 400, Train Loss: 0.0735, Val Loss: 0.5484\n",
      "Early stopping at epoch 428\n",
      "Training complete.\n",
      "Starting Round 159\n"
     ]
    },
    {
     "name": "stderr",
     "output_type": "stream",
     "text": [
      "dist_matrix: 100%|######################################################################| 9/9 [00:00<00:00, 176.06it/s]\n",
      "synth_matrix: 100%|######################################################################| 9/9 [00:00<00:00, 55.00it/s]\n",
      "r_index: 100%|##########################################################################| 4/4 [00:00<00:00, 108.13it/s]\n"
     ]
    },
    {
     "name": "stdout",
     "output_type": "stream",
     "text": [
      "Epoch 100, Train Loss: 0.0894, Val Loss: 75.5589\n",
      "Epoch 00167: reducing learning rate of group 0 to 1.0000e-02.\n",
      "Epoch 200, Train Loss: 0.0510, Val Loss: 75.5565\n",
      "Early stopping at epoch 263\n",
      "Training complete.\n",
      "Starting Round 160\n",
      "SMOGN failed: redefine phi relevance function: all points are 1\n",
      "→ Using original data instead.\n",
      "Epoch 100, Train Loss: 0.1603, Val Loss: 0.7722\n",
      "Early stopping at epoch 119\n",
      "Training complete.\n",
      "Starting Round 161\n"
     ]
    },
    {
     "name": "stderr",
     "output_type": "stream",
     "text": [
      "dist_matrix: 100%|####################################################################| 11/11 [00:00<00:00, 145.14it/s]\n",
      "synth_matrix: 100%|###################################################################| 11/11 [00:00<00:00, 106.17it/s]\n",
      "r_index: 100%|########################################################################| 10/10 [00:00<00:00, 121.20it/s]\n"
     ]
    },
    {
     "name": "stdout",
     "output_type": "stream",
     "text": [
      "Epoch 100, Train Loss: 0.1053, Val Loss: 3.4134\n",
      "Early stopping at epoch 174\n",
      "Training complete.\n",
      "Starting Round 162\n"
     ]
    },
    {
     "name": "stderr",
     "output_type": "stream",
     "text": [
      "dist_matrix: 100%|######################################################################| 7/7 [00:00<00:00, 152.78it/s]\n",
      "synth_matrix: 100%|######################################################################| 7/7 [00:00<00:00, 35.84it/s]\n",
      "r_index: 100%|##########################################################################| 3/3 [00:00<00:00, 104.33it/s]\n"
     ]
    },
    {
     "name": "stdout",
     "output_type": "stream",
     "text": [
      "Epoch 100, Train Loss: 0.1007, Val Loss: 1.2263\n",
      "Early stopping at epoch 126\n",
      "Training complete.\n",
      "Starting Round 163\n"
     ]
    },
    {
     "name": "stderr",
     "output_type": "stream",
     "text": [
      "dist_matrix: 100%|######################################################################| 7/7 [00:00<00:00, 228.60it/s]\n",
      "synth_matrix: 100%|######################################################################| 7/7 [00:00<00:00, 48.87it/s]\n",
      "r_index: 100%|##########################################################################| 3/3 [00:00<00:00, 128.94it/s]\n"
     ]
    },
    {
     "name": "stdout",
     "output_type": "stream",
     "text": [
      "Epoch 100, Train Loss: 0.1186, Val Loss: 1.7682\n",
      "Early stopping at epoch 172\n",
      "Training complete.\n",
      "Starting Round 164\n"
     ]
    },
    {
     "name": "stderr",
     "output_type": "stream",
     "text": [
      "dist_matrix: 100%|####################################################################| 12/12 [00:00<00:00, 133.63it/s]\n",
      "synth_matrix: 100%|###################################################################| 12/12 [00:00<00:00, 114.38it/s]\n",
      "r_index: 100%|##########################################################################| 7/7 [00:00<00:00, 118.51it/s]\n"
     ]
    },
    {
     "name": "stdout",
     "output_type": "stream",
     "text": [
      "Epoch 100, Train Loss: 0.1159, Val Loss: 0.8628\n",
      "Epoch 200, Train Loss: 0.0940, Val Loss: 0.8276\n",
      "Epoch 300, Train Loss: 0.0758, Val Loss: 0.8565\n",
      "Early stopping at epoch 340\n",
      "Training complete.\n",
      "Starting Round 165\n"
     ]
    },
    {
     "name": "stderr",
     "output_type": "stream",
     "text": [
      "dist_matrix: 100%|####################################################################| 10/10 [00:00<00:00, 165.27it/s]\n",
      "synth_matrix: 100%|####################################################################| 10/10 [00:00<00:00, 61.26it/s]\n",
      "r_index: 100%|###########################################################################| 2/2 [00:00<00:00, 95.62it/s]\n"
     ]
    },
    {
     "name": "stdout",
     "output_type": "stream",
     "text": [
      "Epoch 100, Train Loss: 0.1033, Val Loss: 1.7762\n",
      "Epoch 200, Train Loss: 0.0840, Val Loss: 1.7587\n",
      "Early stopping at epoch 259\n",
      "Training complete.\n",
      "Starting Round 166\n"
     ]
    },
    {
     "name": "stderr",
     "output_type": "stream",
     "text": [
      "dist_matrix: 100%|######################################################################| 9/9 [00:00<00:00, 166.62it/s]\n",
      "synth_matrix: 100%|######################################################################| 9/9 [00:00<00:00, 48.65it/s]\n",
      "r_index: 100%|##########################################################################| 4/4 [00:00<00:00, 104.40it/s]\n"
     ]
    },
    {
     "name": "stdout",
     "output_type": "stream",
     "text": [
      "Epoch 100, Train Loss: 0.1261, Val Loss: 1.2148\n",
      "Early stopping at epoch 126\n",
      "Training complete.\n",
      "Starting Round 167\n"
     ]
    },
    {
     "name": "stderr",
     "output_type": "stream",
     "text": [
      "dist_matrix: 100%|####################################################################| 12/12 [00:00<00:00, 128.54it/s]\n",
      "synth_matrix: 100%|###################################################################| 12/12 [00:00<00:00, 117.42it/s]\n",
      "r_index: 100%|##########################################################################| 7/7 [00:00<00:00, 121.57it/s]\n"
     ]
    },
    {
     "name": "stdout",
     "output_type": "stream",
     "text": [
      "Epoch 100, Train Loss: 0.1446, Val Loss: 0.8384\n",
      "Early stopping at epoch 185\n",
      "Training complete.\n",
      "Starting Round 168\n",
      "SMOGN failed: redefine phi relevance function: all points are 1\n",
      "→ Using original data instead.\n",
      "Epoch 100, Train Loss: 0.1628, Val Loss: 2.1151\n",
      "Epoch 200, Train Loss: 0.1496, Val Loss: 2.1728\n",
      "Early stopping at epoch 201\n",
      "Training complete.\n",
      "Starting Round 169\n"
     ]
    },
    {
     "name": "stderr",
     "output_type": "stream",
     "text": [
      "dist_matrix: 100%|####################################################################| 12/12 [00:00<00:00, 120.91it/s]\n",
      "synth_matrix: 100%|###################################################################| 12/12 [00:00<00:00, 108.50it/s]\n",
      "r_index: 100%|##########################################################################| 7/7 [00:00<00:00, 138.74it/s]\n"
     ]
    },
    {
     "name": "stdout",
     "output_type": "stream",
     "text": [
      "Epoch 100, Train Loss: 0.1060, Val Loss: 1.0183\n",
      "Epoch 200, Train Loss: 0.0887, Val Loss: 1.0378\n",
      "Early stopping at epoch 212\n",
      "Training complete.\n",
      "Starting Round 170\n"
     ]
    },
    {
     "name": "stderr",
     "output_type": "stream",
     "text": [
      "dist_matrix: 100%|####################################################################| 10/10 [00:00<00:00, 153.54it/s]\n",
      "synth_matrix: 100%|####################################################################| 10/10 [00:00<00:00, 54.40it/s]\n",
      "r_index: 100%|##########################################################################| 2/2 [00:00<00:00, 114.83it/s]\n"
     ]
    },
    {
     "name": "stdout",
     "output_type": "stream",
     "text": [
      "Epoch 100, Train Loss: 0.1203, Val Loss: 0.5421\n",
      "Epoch 200, Train Loss: 0.0982, Val Loss: 0.5966\n",
      "Early stopping at epoch 217\n",
      "Training complete.\n",
      "Starting Round 171\n"
     ]
    },
    {
     "name": "stderr",
     "output_type": "stream",
     "text": [
      "dist_matrix: 100%|####################################################################| 12/12 [00:00<00:00, 127.48it/s]\n",
      "synth_matrix: 100%|###################################################################| 12/12 [00:00<00:00, 105.74it/s]\n",
      "r_index: 100%|##########################################################################| 7/7 [00:00<00:00, 111.88it/s]\n"
     ]
    },
    {
     "name": "stdout",
     "output_type": "stream",
     "text": [
      "Epoch 100, Train Loss: 0.1892, Val Loss: 0.9051\n",
      "Early stopping at epoch 184\n",
      "Training complete.\n",
      "Starting Round 172\n",
      "SMOGN failed: redefine phi relevance function: all points are 1\n",
      "→ Using original data instead.\n",
      "Epoch 100, Train Loss: 0.1613, Val Loss: 1.7384\n",
      "Epoch 200, Train Loss: 0.1309, Val Loss: 1.7053\n",
      "Early stopping at epoch 248\n",
      "Training complete.\n",
      "Starting Round 173\n"
     ]
    },
    {
     "name": "stderr",
     "output_type": "stream",
     "text": [
      "dist_matrix: 100%|######################################################################| 8/8 [00:00<00:00, 204.46it/s]\n",
      "synth_matrix: 100%|######################################################################| 8/8 [00:00<00:00, 36.48it/s]\n"
     ]
    },
    {
     "name": "stdout",
     "output_type": "stream",
     "text": [
      "Epoch 100, Train Loss: 0.0974, Val Loss: 1272.5306\n",
      "Epoch 00124: reducing learning rate of group 0 to 1.0000e-02.\n",
      "Early stopping at epoch 199\n",
      "Training complete.\n",
      "Starting Round 174\n"
     ]
    },
    {
     "name": "stderr",
     "output_type": "stream",
     "text": [
      "dist_matrix: 100%|####################################################################| 11/11 [00:00<00:00, 140.39it/s]\n",
      "synth_matrix: 100%|###################################################################| 11/11 [00:00<00:00, 104.28it/s]\n",
      "r_index: 100%|########################################################################| 10/10 [00:00<00:00, 113.05it/s]\n"
     ]
    },
    {
     "name": "stdout",
     "output_type": "stream",
     "text": [
      "Epoch 100, Train Loss: 0.0998, Val Loss: 6.1502\n",
      "Early stopping at epoch 173\n",
      "Training complete.\n",
      "Starting Round 175\n"
     ]
    },
    {
     "name": "stderr",
     "output_type": "stream",
     "text": [
      "dist_matrix: 100%|####################################################################| 10/10 [00:00<00:00, 161.04it/s]\n",
      "synth_matrix: 100%|####################################################################| 10/10 [00:00<00:00, 60.38it/s]\n",
      "r_index: 100%|###########################################################################| 2/2 [00:00<00:00, 97.39it/s]\n"
     ]
    },
    {
     "name": "stdout",
     "output_type": "stream",
     "text": [
      "Epoch 100, Train Loss: 0.1094, Val Loss: 2.3781\n",
      "Epoch 200, Train Loss: 0.0897, Val Loss: 2.3559\n",
      "Early stopping at epoch 223\n",
      "Training complete.\n",
      "Starting Round 176\n"
     ]
    },
    {
     "name": "stderr",
     "output_type": "stream",
     "text": [
      "dist_matrix: 100%|######################################################################| 9/9 [00:00<00:00, 160.34it/s]\n",
      "synth_matrix: 100%|######################################################################| 9/9 [00:00<00:00, 58.28it/s]\n",
      "r_index: 100%|##########################################################################| 4/4 [00:00<00:00, 133.72it/s]\n"
     ]
    },
    {
     "name": "stdout",
     "output_type": "stream",
     "text": [
      "Epoch 100, Train Loss: 0.1173, Val Loss: 2.5316\n",
      "Epoch 00133: reducing learning rate of group 0 to 1.0000e-02.\n",
      "Early stopping at epoch 135\n",
      "Training complete.\n",
      "Starting Round 177\n"
     ]
    },
    {
     "name": "stderr",
     "output_type": "stream",
     "text": [
      "dist_matrix: 100%|######################################################################| 8/8 [00:00<00:00, 182.02it/s]\n",
      "synth_matrix: 100%|######################################################################| 8/8 [00:00<00:00, 37.51it/s]\n"
     ]
    },
    {
     "name": "stdout",
     "output_type": "stream",
     "text": [
      "Epoch 100, Train Loss: 0.0929, Val Loss: 27.8858\n",
      "Early stopping at epoch 128\n",
      "Training complete.\n",
      "Starting Round 178\n"
     ]
    },
    {
     "name": "stderr",
     "output_type": "stream",
     "text": [
      "dist_matrix: 100%|######################################################################| 8/8 [00:00<00:00, 180.68it/s]\n",
      "synth_matrix: 100%|######################################################################| 8/8 [00:00<00:00, 36.62it/s]\n"
     ]
    },
    {
     "name": "stdout",
     "output_type": "stream",
     "text": [
      "Epoch 100, Train Loss: 0.1213, Val Loss: 53.0669\n",
      "Epoch 200, Train Loss: 0.1027, Val Loss: 53.0659\n",
      "Early stopping at epoch 275\n",
      "Training complete.\n",
      "Starting Round 179\n"
     ]
    },
    {
     "name": "stderr",
     "output_type": "stream",
     "text": [
      "dist_matrix: 100%|####################################################################| 10/10 [00:00<00:00, 156.29it/s]\n",
      "synth_matrix: 100%|####################################################################| 10/10 [00:00<00:00, 58.49it/s]\n",
      "r_index: 100%|##########################################################################| 2/2 [00:00<00:00, 163.07it/s]\n"
     ]
    },
    {
     "name": "stdout",
     "output_type": "stream",
     "text": [
      "Epoch 100, Train Loss: 0.1031, Val Loss: 7.5136\n",
      "Epoch 00175: reducing learning rate of group 0 to 1.0000e-02.\n",
      "Early stopping at epoch 182\n",
      "Training complete.\n",
      "Starting Round 180\n"
     ]
    },
    {
     "name": "stderr",
     "output_type": "stream",
     "text": [
      "dist_matrix: 100%|####################################################################| 11/11 [00:00<00:00, 125.06it/s]\n",
      "synth_matrix: 100%|###################################################################| 11/11 [00:00<00:00, 107.49it/s]\n",
      "dist_matrix: 100%|######################################################################| 8/8 [00:00<00:00, 203.29it/s]\n",
      "synth_matrix: 100%|#####################################################################| 8/8 [00:00<00:00, 120.54it/s]\n",
      "r_index: 100%|##########################################################################| 6/6 [00:00<00:00, 112.59it/s]\n"
     ]
    },
    {
     "name": "stdout",
     "output_type": "stream",
     "text": [
      "Epoch 100, Train Loss: 0.1345, Val Loss: 335.6093\n",
      "Epoch 200, Train Loss: 0.1205, Val Loss: 335.6241\n",
      "Early stopping at epoch 201\n",
      "Training complete.\n",
      "Starting Round 181\n"
     ]
    },
    {
     "name": "stderr",
     "output_type": "stream",
     "text": [
      "dist_matrix: 100%|######################################################################| 9/9 [00:00<00:00, 173.29it/s]\n",
      "synth_matrix: 100%|######################################################################| 9/9 [00:00<00:00, 54.13it/s]\n",
      "r_index: 100%|##########################################################################| 4/4 [00:00<00:00, 114.81it/s]\n"
     ]
    },
    {
     "name": "stdout",
     "output_type": "stream",
     "text": [
      "Epoch 100, Train Loss: 0.1358, Val Loss: 0.9726\n",
      "Epoch 200, Train Loss: 0.1233, Val Loss: 1.0797\n",
      "Early stopping at epoch 222\n",
      "Training complete.\n",
      "Starting Round 182\n"
     ]
    },
    {
     "name": "stderr",
     "output_type": "stream",
     "text": [
      "dist_matrix: 100%|######################################################################| 9/9 [00:00<00:00, 171.82it/s]\n",
      "synth_matrix: 100%|######################################################################| 9/9 [00:00<00:00, 54.55it/s]\n",
      "r_index: 100%|##########################################################################| 4/4 [00:00<00:00, 138.75it/s]\n"
     ]
    },
    {
     "name": "stdout",
     "output_type": "stream",
     "text": [
      "Epoch 100, Train Loss: 0.1385, Val Loss: 0.7331\n",
      "Epoch 200, Train Loss: 0.1240, Val Loss: 0.7336\n",
      "Early stopping at epoch 262\n",
      "Training complete.\n",
      "Starting Round 183\n"
     ]
    },
    {
     "name": "stderr",
     "output_type": "stream",
     "text": [
      "dist_matrix: 100%|######################################################################| 9/9 [00:00<00:00, 182.95it/s]\n",
      "synth_matrix: 100%|######################################################################| 9/9 [00:00<00:00, 65.19it/s]\n",
      "r_index: 100%|##########################################################################| 4/4 [00:00<00:00, 120.70it/s]\n"
     ]
    },
    {
     "name": "stdout",
     "output_type": "stream",
     "text": [
      "Epoch 100, Train Loss: 0.1105, Val Loss: 0.7775\n",
      "Early stopping at epoch 124\n",
      "Training complete.\n",
      "Starting Round 184\n"
     ]
    },
    {
     "name": "stderr",
     "output_type": "stream",
     "text": [
      "dist_matrix: 100%|####################################################################| 10/10 [00:00<00:00, 160.47it/s]\n",
      "synth_matrix: 100%|####################################################################| 10/10 [00:00<00:00, 56.85it/s]\n",
      "r_index: 100%|##########################################################################| 2/2 [00:00<00:00, 107.35it/s]\n"
     ]
    },
    {
     "name": "stdout",
     "output_type": "stream",
     "text": [
      "Epoch 100, Train Loss: 0.1823, Val Loss: 3.6467\n",
      "Early stopping at epoch 126\n",
      "Training complete.\n",
      "Starting Round 185\n"
     ]
    },
    {
     "name": "stderr",
     "output_type": "stream",
     "text": [
      "dist_matrix: 100%|######################################################################| 8/8 [00:00<00:00, 192.33it/s]\n",
      "synth_matrix: 100%|######################################################################| 8/8 [00:00<00:00, 36.69it/s]\n"
     ]
    },
    {
     "name": "stdout",
     "output_type": "stream",
     "text": [
      "Epoch 100, Train Loss: 0.1212, Val Loss: 19.6336\n",
      "Early stopping at epoch 193\n",
      "Training complete.\n",
      "Starting Round 186\n"
     ]
    },
    {
     "name": "stderr",
     "output_type": "stream",
     "text": [
      "dist_matrix: 100%|####################################################################| 12/12 [00:00<00:00, 142.15it/s]\n",
      "synth_matrix: 100%|###################################################################| 12/12 [00:00<00:00, 135.29it/s]\n",
      "r_index: 100%|##########################################################################| 7/7 [00:00<00:00, 106.75it/s]\n"
     ]
    },
    {
     "name": "stdout",
     "output_type": "stream",
     "text": [
      "Epoch 100, Train Loss: 0.0953, Val Loss: 2.4433\n",
      "Early stopping at epoch 197\n",
      "Training complete.\n",
      "Starting Round 187\n"
     ]
    },
    {
     "name": "stderr",
     "output_type": "stream",
     "text": [
      "dist_matrix: 100%|######################################################################| 8/8 [00:00<00:00, 175.39it/s]\n",
      "synth_matrix: 100%|######################################################################| 8/8 [00:00<00:00, 42.23it/s]\n"
     ]
    },
    {
     "name": "stdout",
     "output_type": "stream",
     "text": [
      "Epoch 100, Train Loss: 0.0935, Val Loss: 90.2646\n",
      "Epoch 200, Train Loss: 0.0806, Val Loss: 90.2543\n",
      "Early stopping at epoch 233\n",
      "Training complete.\n",
      "Starting Round 188\n"
     ]
    },
    {
     "name": "stderr",
     "output_type": "stream",
     "text": [
      "dist_matrix: 100%|####################################################################| 13/13 [00:00<00:00, 115.36it/s]\n",
      "synth_matrix: 100%|###################################################################| 13/13 [00:00<00:00, 114.90it/s]\n",
      "r_index: 100%|##########################################################################| 6/6 [00:00<00:00, 132.73it/s]\n"
     ]
    },
    {
     "name": "stdout",
     "output_type": "stream",
     "text": [
      "Epoch 100, Train Loss: 0.1164, Val Loss: 660.0411\n",
      "Epoch 00145: reducing learning rate of group 0 to 1.0000e-02.\n",
      "Epoch 200, Train Loss: 0.0787, Val Loss: 660.0058\n",
      "Epoch 00246: reducing learning rate of group 0 to 1.0000e-03.\n",
      "Early stopping at epoch 264\n",
      "Training complete.\n",
      "Starting Round 189\n"
     ]
    },
    {
     "name": "stderr",
     "output_type": "stream",
     "text": [
      "dist_matrix: 100%|####################################################################| 10/10 [00:00<00:00, 162.11it/s]\n",
      "synth_matrix: 100%|####################################################################| 10/10 [00:00<00:00, 60.10it/s]\n",
      "r_index: 100%|##########################################################################| 2/2 [00:00<00:00, 115.37it/s]\n"
     ]
    },
    {
     "name": "stdout",
     "output_type": "stream",
     "text": [
      "Epoch 100, Train Loss: 0.1087, Val Loss: 0.7376\n",
      "Early stopping at epoch 120\n",
      "Training complete.\n",
      "Starting Round 190\n"
     ]
    },
    {
     "name": "stderr",
     "output_type": "stream",
     "text": [
      "dist_matrix: 100%|####################################################################| 11/11 [00:00<00:00, 133.76it/s]\n",
      "synth_matrix: 100%|###################################################################| 11/11 [00:00<00:00, 107.94it/s]\n",
      "r_index: 100%|########################################################################| 10/10 [00:00<00:00, 121.44it/s]\n"
     ]
    },
    {
     "name": "stdout",
     "output_type": "stream",
     "text": [
      "Epoch 100, Train Loss: 0.1158, Val Loss: 21.1361\n",
      "Epoch 200, Train Loss: 0.1026, Val Loss: 21.1398\n",
      "Early stopping at epoch 259\n",
      "Training complete.\n",
      "Starting Round 191\n",
      "SMOGN failed: redefine phi relevance function: all points are 1\n",
      "→ Using original data instead.\n",
      "Epoch 100, Train Loss: 0.1481, Val Loss: 1.2716\n",
      "Early stopping at epoch 157\n",
      "Training complete.\n",
      "Starting Round 192\n"
     ]
    },
    {
     "name": "stderr",
     "output_type": "stream",
     "text": [
      "dist_matrix: 100%|####################################################################| 10/10 [00:00<00:00, 160.64it/s]\n",
      "synth_matrix: 100%|####################################################################| 10/10 [00:00<00:00, 56.76it/s]\n",
      "r_index: 100%|##########################################################################| 2/2 [00:00<00:00, 106.04it/s]\n"
     ]
    },
    {
     "name": "stdout",
     "output_type": "stream",
     "text": [
      "Epoch 100, Train Loss: 0.1274, Val Loss: 6.3284\n",
      "Epoch 200, Train Loss: 0.1163, Val Loss: 6.3766\n",
      "Early stopping at epoch 211\n",
      "Training complete.\n",
      "Starting Round 193\n"
     ]
    },
    {
     "name": "stderr",
     "output_type": "stream",
     "text": [
      "dist_matrix: 100%|######################################################################| 8/8 [00:00<00:00, 169.77it/s]\n",
      "synth_matrix: 100%|######################################################################| 8/8 [00:00<00:00, 38.39it/s]\n"
     ]
    },
    {
     "name": "stdout",
     "output_type": "stream",
     "text": [
      "Epoch 100, Train Loss: 0.1197, Val Loss: 3.3831\n",
      "Early stopping at epoch 188\n",
      "Training complete.\n",
      "Starting Round 194\n"
     ]
    },
    {
     "name": "stderr",
     "output_type": "stream",
     "text": [
      "dist_matrix: 100%|######################################################################| 9/9 [00:00<00:00, 157.13it/s]\n",
      "synth_matrix: 100%|######################################################################| 9/9 [00:00<00:00, 55.51it/s]\n",
      "r_index: 100%|##########################################################################| 4/4 [00:00<00:00, 110.48it/s]\n"
     ]
    },
    {
     "name": "stdout",
     "output_type": "stream",
     "text": [
      "Epoch 100, Train Loss: 0.1516, Val Loss: 1.5946\n",
      "Early stopping at epoch 135\n",
      "Training complete.\n",
      "Starting Round 195\n"
     ]
    },
    {
     "name": "stderr",
     "output_type": "stream",
     "text": [
      "dist_matrix: 100%|######################################################################| 9/9 [00:00<00:00, 187.10it/s]\n",
      "synth_matrix: 100%|#####################################################################| 9/9 [00:00<00:00, 124.50it/s]\n",
      "r_index: 100%|##########################################################################| 4/4 [00:00<00:00, 146.55it/s]\n",
      "dist_matrix: 100%|####################################################################| 11/11 [00:00<00:00, 164.34it/s]\n",
      "synth_matrix: 100%|###################################################################| 11/11 [00:00<00:00, 113.80it/s]\n"
     ]
    },
    {
     "name": "stdout",
     "output_type": "stream",
     "text": [
      "Epoch 100, Train Loss: 0.1145, Val Loss: 3.0708\n",
      "Early stopping at epoch 197\n",
      "Training complete.\n",
      "Starting Round 196\n"
     ]
    },
    {
     "name": "stderr",
     "output_type": "stream",
     "text": [
      "dist_matrix: 100%|######################################################################| 7/7 [00:00<00:00, 223.57it/s]\n",
      "synth_matrix: 100%|######################################################################| 7/7 [00:00<00:00, 37.14it/s]\n",
      "r_index: 100%|##########################################################################| 3/3 [00:00<00:00, 108.23it/s]\n"
     ]
    },
    {
     "name": "stdout",
     "output_type": "stream",
     "text": [
      "Epoch 100, Train Loss: 0.1246, Val Loss: 3.2891\n",
      "Epoch 200, Train Loss: 0.0875, Val Loss: 3.3531\n",
      "Early stopping at epoch 223\n",
      "Training complete.\n",
      "Starting Round 197\n"
     ]
    },
    {
     "name": "stderr",
     "output_type": "stream",
     "text": [
      "dist_matrix: 100%|####################################################################| 10/10 [00:00<00:00, 157.33it/s]\n",
      "synth_matrix: 100%|####################################################################| 10/10 [00:00<00:00, 57.04it/s]\n",
      "r_index: 100%|##########################################################################| 2/2 [00:00<00:00, 110.48it/s]\n"
     ]
    },
    {
     "name": "stdout",
     "output_type": "stream",
     "text": [
      "Epoch 100, Train Loss: 0.1045, Val Loss: 55.3749\n",
      "Epoch 200, Train Loss: 0.0900, Val Loss: 55.3632\n",
      "Early stopping at epoch 286\n",
      "Training complete.\n",
      "Starting Round 198\n",
      "SMOGN failed: redefine phi relevance function: all points are 1\n",
      "→ Using original data instead.\n",
      "Epoch 100, Train Loss: 0.1509, Val Loss: 0.7887\n",
      "Epoch 200, Train Loss: 0.1331, Val Loss: 0.7347\n",
      "Early stopping at epoch 227\n",
      "Training complete.\n",
      "Starting Round 199\n"
     ]
    },
    {
     "name": "stderr",
     "output_type": "stream",
     "text": [
      "dist_matrix: 100%|######################################################################| 9/9 [00:00<00:00, 159.00it/s]\n",
      "synth_matrix: 100%|######################################################################| 9/9 [00:00<00:00, 54.08it/s]\n",
      "r_index: 100%|##########################################################################| 4/4 [00:00<00:00, 112.27it/s]\n"
     ]
    },
    {
     "name": "stdout",
     "output_type": "stream",
     "text": [
      "Epoch 100, Train Loss: 0.1948, Val Loss: 0.6634\n",
      "Epoch 200, Train Loss: 0.1454, Val Loss: 0.6561\n",
      "Epoch 300, Train Loss: 0.1562, Val Loss: 0.6672\n",
      "Epoch 400, Train Loss: 0.1228, Val Loss: 0.6357\n",
      "Early stopping at epoch 432\n",
      "Training complete.\n",
      "Starting Round 200\n",
      "SMOGN failed: redefine phi relevance function: all points are 1\n",
      "→ Using original data instead.\n",
      "Epoch 100, Train Loss: 0.1332, Val Loss: 3.5957\n",
      "Early stopping at epoch 123\n",
      "Training complete.\n",
      "Starting Round 201\n",
      "SMOGN failed: redefine phi relevance function: all points are 1\n",
      "→ Using original data instead.\n",
      "Epoch 100, Train Loss: 0.1520, Val Loss: 2.1940\n",
      "Early stopping at epoch 135\n",
      "Training complete.\n",
      "Starting Round 202\n"
     ]
    },
    {
     "name": "stderr",
     "output_type": "stream",
     "text": [
      "dist_matrix: 100%|####################################################################| 10/10 [00:00<00:00, 152.08it/s]\n",
      "synth_matrix: 100%|####################################################################| 10/10 [00:00<00:00, 55.57it/s]\n",
      "r_index: 100%|##########################################################################| 2/2 [00:00<00:00, 119.12it/s]\n"
     ]
    },
    {
     "name": "stdout",
     "output_type": "stream",
     "text": [
      "Epoch 100, Train Loss: 0.1191, Val Loss: 6.5272\n",
      "Epoch 200, Train Loss: 0.0975, Val Loss: 6.6413\n",
      "Early stopping at epoch 219\n",
      "Training complete.\n",
      "Starting Round 203\n",
      "SMOGN failed: redefine phi relevance function: all points are 1\n",
      "→ Using original data instead.\n",
      "Epoch 100, Train Loss: 0.1433, Val Loss: 8.7025\n",
      "Epoch 200, Train Loss: 0.1229, Val Loss: 8.7481\n",
      "Early stopping at epoch 220\n",
      "Training complete.\n",
      "Starting Round 204\n"
     ]
    },
    {
     "name": "stderr",
     "output_type": "stream",
     "text": [
      "dist_matrix: 100%|####################################################################| 10/10 [00:00<00:00, 162.40it/s]\n",
      "synth_matrix: 100%|####################################################################| 10/10 [00:00<00:00, 58.39it/s]\n",
      "r_index: 100%|##########################################################################| 2/2 [00:00<00:00, 103.43it/s]\n"
     ]
    },
    {
     "name": "stdout",
     "output_type": "stream",
     "text": [
      "Epoch 100, Train Loss: 0.1265, Val Loss: 8.0496\n",
      "Epoch 200, Train Loss: 0.1017, Val Loss: 8.0795\n",
      "Early stopping at epoch 201\n",
      "Training complete.\n",
      "Starting Round 205\n",
      "SMOGN failed: redefine phi relevance function: all points are 1\n",
      "→ Using original data instead.\n",
      "Epoch 100, Train Loss: 0.1468, Val Loss: 0.6589\n",
      "Early stopping at epoch 118\n",
      "Training complete.\n",
      "Starting Round 206\n"
     ]
    },
    {
     "name": "stderr",
     "output_type": "stream",
     "text": [
      "dist_matrix: 100%|####################################################################| 10/10 [00:00<00:00, 153.99it/s]\n",
      "synth_matrix: 100%|####################################################################| 10/10 [00:00<00:00, 61.07it/s]\n",
      "r_index: 100%|##########################################################################| 2/2 [00:00<00:00, 110.94it/s]\n"
     ]
    },
    {
     "name": "stdout",
     "output_type": "stream",
     "text": [
      "Epoch 100, Train Loss: 0.1106, Val Loss: 1.6247\n",
      "Epoch 200, Train Loss: 0.0965, Val Loss: 1.5492\n",
      "Early stopping at epoch 276\n",
      "Training complete.\n",
      "Starting Round 207\n"
     ]
    },
    {
     "name": "stderr",
     "output_type": "stream",
     "text": [
      "dist_matrix: 100%|######################################################################| 8/8 [00:00<00:00, 174.59it/s]\n",
      "synth_matrix: 100%|######################################################################| 8/8 [00:00<00:00, 38.06it/s]\n"
     ]
    },
    {
     "name": "stdout",
     "output_type": "stream",
     "text": [
      "Epoch 100, Train Loss: 0.1418, Val Loss: 2.5501\n",
      "Epoch 200, Train Loss: 0.1007, Val Loss: 2.4848\n",
      "Early stopping at epoch 286\n",
      "Training complete.\n",
      "Starting Round 208\n"
     ]
    },
    {
     "name": "stderr",
     "output_type": "stream",
     "text": [
      "dist_matrix: 100%|######################################################################| 8/8 [00:00<00:00, 156.91it/s]\n",
      "synth_matrix: 100%|######################################################################| 8/8 [00:00<00:00, 36.55it/s]\n"
     ]
    },
    {
     "name": "stdout",
     "output_type": "stream",
     "text": [
      "Epoch 100, Train Loss: 0.1622, Val Loss: 4.4239\n",
      "Epoch 200, Train Loss: 0.1347, Val Loss: 4.3399\n",
      "Early stopping at epoch 267\n",
      "Training complete.\n",
      "Starting Round 209\n",
      "SMOGN failed: redefine phi relevance function: all points are 1\n",
      "→ Using original data instead.\n",
      "Epoch 100, Train Loss: 0.1565, Val Loss: 0.8347\n",
      "Early stopping at epoch 117\n",
      "Training complete.\n",
      "Starting Round 210\n"
     ]
    },
    {
     "name": "stderr",
     "output_type": "stream",
     "text": [
      "dist_matrix: 100%|######################################################################| 9/9 [00:00<00:00, 166.01it/s]\n",
      "synth_matrix: 100%|######################################################################| 9/9 [00:00<00:00, 60.59it/s]\n",
      "r_index: 100%|##########################################################################| 4/4 [00:00<00:00, 129.27it/s]\n"
     ]
    },
    {
     "name": "stdout",
     "output_type": "stream",
     "text": [
      "Epoch 100, Train Loss: 0.1086, Val Loss: 47.3971\n",
      "Epoch 00170: reducing learning rate of group 0 to 1.0000e-02.\n",
      "Early stopping at epoch 193\n",
      "Training complete.\n",
      "Starting Round 211\n"
     ]
    },
    {
     "name": "stderr",
     "output_type": "stream",
     "text": [
      "dist_matrix: 100%|######################################################################| 9/9 [00:00<00:00, 175.59it/s]\n",
      "synth_matrix: 100%|######################################################################| 9/9 [00:00<00:00, 51.74it/s]\n",
      "r_index: 100%|##########################################################################| 4/4 [00:00<00:00, 113.96it/s]\n"
     ]
    },
    {
     "name": "stdout",
     "output_type": "stream",
     "text": [
      "Epoch 100, Train Loss: 0.1115, Val Loss: 3.1155\n",
      "Early stopping at epoch 160\n",
      "Training complete.\n",
      "Starting Round 212\n"
     ]
    },
    {
     "name": "stderr",
     "output_type": "stream",
     "text": [
      "dist_matrix: 100%|####################################################################| 10/10 [00:00<00:00, 161.78it/s]\n",
      "synth_matrix: 100%|####################################################################| 10/10 [00:00<00:00, 58.73it/s]\n",
      "r_index: 100%|##########################################################################| 2/2 [00:00<00:00, 105.51it/s]\n"
     ]
    },
    {
     "name": "stdout",
     "output_type": "stream",
     "text": [
      "Epoch 100, Train Loss: 0.1120, Val Loss: 54.8706\n",
      "Early stopping at epoch 193\n",
      "Training complete.\n",
      "Starting Round 213\n",
      "SMOGN failed: redefine phi relevance function: all points are 1\n",
      "→ Using original data instead.\n",
      "Epoch 100, Train Loss: 0.1391, Val Loss: 1.6451\n",
      "Early stopping at epoch 162\n",
      "Training complete.\n",
      "Starting Round 214\n"
     ]
    },
    {
     "name": "stderr",
     "output_type": "stream",
     "text": [
      "dist_matrix: 100%|######################################################################| 9/9 [00:00<00:00, 172.60it/s]\n",
      "synth_matrix: 100%|#####################################################################| 9/9 [00:00<00:00, 117.38it/s]\n",
      "r_index: 100%|##########################################################################| 4/4 [00:00<00:00, 115.72it/s]\n",
      "dist_matrix: 100%|####################################################################| 10/10 [00:00<00:00, 174.68it/s]\n",
      "synth_matrix: 100%|###################################################################| 10/10 [00:00<00:00, 127.73it/s]\n",
      "r_index: 100%|##########################################################################| 2/2 [00:00<00:00, 341.56it/s]\n"
     ]
    },
    {
     "name": "stdout",
     "output_type": "stream",
     "text": [
      "Epoch 100, Train Loss: 0.1365, Val Loss: 1.0016\n",
      "Epoch 200, Train Loss: 0.1247, Val Loss: 0.9127\n",
      "Epoch 300, Train Loss: 0.1042, Val Loss: 0.9727\n",
      "Early stopping at epoch 328\n",
      "Training complete.\n",
      "Starting Round 215\n"
     ]
    },
    {
     "name": "stderr",
     "output_type": "stream",
     "text": [
      "dist_matrix: 100%|######################################################################| 8/8 [00:00<00:00, 197.48it/s]\n",
      "synth_matrix: 100%|#####################################################################| 8/8 [00:00<00:00, 113.02it/s]\n",
      "r_index: 100%|##########################################################################| 6/6 [00:00<00:00, 106.05it/s]\n",
      "dist_matrix: 100%|####################################################################| 12/12 [00:00<00:00, 154.21it/s]\n",
      "r_index: 100%|########################################################################| 10/10 [00:00<00:00, 157.37it/s]\n"
     ]
    },
    {
     "name": "stdout",
     "output_type": "stream",
     "text": [
      "Epoch 100, Train Loss: 0.1128, Val Loss: 3.1205\n",
      "Early stopping at epoch 142\n",
      "Training complete.\n",
      "Starting Round 216\n",
      "SMOGN failed: redefine phi relevance function: all points are 1\n",
      "→ Using original data instead.\n",
      "Epoch 100, Train Loss: 0.1556, Val Loss: 0.6917\n",
      "Epoch 200, Train Loss: 0.1395, Val Loss: 0.6843\n",
      "Early stopping at epoch 231\n",
      "Training complete.\n",
      "Starting Round 217\n"
     ]
    },
    {
     "name": "stderr",
     "output_type": "stream",
     "text": [
      "dist_matrix: 100%|######################################################################| 9/9 [00:00<00:00, 168.43it/s]\n",
      "synth_matrix: 100%|######################################################################| 9/9 [00:00<00:00, 57.42it/s]\n",
      "r_index: 100%|##########################################################################| 4/4 [00:00<00:00, 121.73it/s]\n"
     ]
    },
    {
     "name": "stdout",
     "output_type": "stream",
     "text": [
      "Epoch 100, Train Loss: 0.1348, Val Loss: 1.9527\n",
      "Epoch 200, Train Loss: 0.1093, Val Loss: 1.8865\n",
      "Early stopping at epoch 263\n",
      "Training complete.\n",
      "Starting Round 218\n",
      "SMOGN failed: redefine phi relevance function: all points are 1\n",
      "→ Using original data instead.\n",
      "Epoch 100, Train Loss: 0.1475, Val Loss: 1.1909\n",
      "Epoch 200, Train Loss: 0.1369, Val Loss: 1.1612\n",
      "Early stopping at epoch 291\n",
      "Training complete.\n",
      "Starting Round 219\n"
     ]
    },
    {
     "name": "stderr",
     "output_type": "stream",
     "text": [
      "dist_matrix: 100%|####################################################################| 10/10 [00:00<00:00, 147.99it/s]\n",
      "synth_matrix: 100%|####################################################################| 10/10 [00:00<00:00, 63.06it/s]\n",
      "r_index: 100%|##########################################################################| 2/2 [00:00<00:00, 162.07it/s]\n"
     ]
    },
    {
     "name": "stdout",
     "output_type": "stream",
     "text": [
      "Epoch 100, Train Loss: 0.1316, Val Loss: 0.6966\n",
      "Epoch 200, Train Loss: 0.1100, Val Loss: 0.7233\n",
      "Early stopping at epoch 206\n",
      "Training complete.\n",
      "Starting Round 220\n"
     ]
    },
    {
     "name": "stderr",
     "output_type": "stream",
     "text": [
      "dist_matrix: 100%|######################################################################| 9/9 [00:00<00:00, 172.25it/s]\n",
      "synth_matrix: 100%|######################################################################| 9/9 [00:00<00:00, 54.70it/s]\n",
      "r_index: 100%|##########################################################################| 4/4 [00:00<00:00, 132.13it/s]\n"
     ]
    },
    {
     "name": "stdout",
     "output_type": "stream",
     "text": [
      "Epoch 100, Train Loss: 0.1096, Val Loss: 20.3750\n",
      "Epoch 200, Train Loss: 0.0979, Val Loss: 20.3026\n",
      "Epoch 300, Train Loss: 0.0919, Val Loss: 20.3251\n",
      "Early stopping at epoch 301\n",
      "Training complete.\n",
      "Starting Round 221\n"
     ]
    },
    {
     "name": "stderr",
     "output_type": "stream",
     "text": [
      "dist_matrix: 100%|######################################################################| 9/9 [00:00<00:00, 166.46it/s]\n",
      "synth_matrix: 100%|######################################################################| 9/9 [00:00<00:00, 58.32it/s]\n",
      "r_index: 100%|##########################################################################| 4/4 [00:00<00:00, 110.55it/s]\n"
     ]
    },
    {
     "name": "stdout",
     "output_type": "stream",
     "text": [
      "Epoch 100, Train Loss: 0.1170, Val Loss: 1.1363\n",
      "Early stopping at epoch 126\n",
      "Training complete.\n",
      "Starting Round 222\n"
     ]
    },
    {
     "name": "stderr",
     "output_type": "stream",
     "text": [
      "dist_matrix: 100%|######################################################################| 9/9 [00:00<00:00, 194.69it/s]\n",
      "synth_matrix: 100%|######################################################################| 9/9 [00:00<00:00, 65.57it/s]\n",
      "r_index: 100%|##########################################################################| 4/4 [00:00<00:00, 105.70it/s]\n"
     ]
    },
    {
     "name": "stdout",
     "output_type": "stream",
     "text": [
      "Epoch 100, Train Loss: 0.1563, Val Loss: 10.0234\n",
      "Early stopping at epoch 124\n",
      "Training complete.\n",
      "Starting Round 223\n",
      "SMOGN failed: redefine phi relevance function: all points are 1\n",
      "→ Using original data instead.\n",
      "Epoch 100, Train Loss: 0.1329, Val Loss: 43.4490\n",
      "Epoch 200, Train Loss: 0.1246, Val Loss: 43.4500\n",
      "Early stopping at epoch 209\n",
      "Training complete.\n",
      "Starting Round 224\n",
      "SMOGN failed: redefine phi relevance function: all points are 1\n",
      "→ Using original data instead.\n",
      "Epoch 100, Train Loss: 0.1377, Val Loss: 0.6432\n",
      "Epoch 200, Train Loss: 0.1278, Val Loss: 0.6755\n",
      "Epoch 300, Train Loss: 0.1215, Val Loss: 0.6483\n",
      "Early stopping at epoch 322\n",
      "Training complete.\n",
      "Starting Round 225\n"
     ]
    },
    {
     "name": "stderr",
     "output_type": "stream",
     "text": [
      "dist_matrix: 100%|####################################################################| 10/10 [00:00<00:00, 162.69it/s]\n",
      "synth_matrix: 100%|####################################################################| 10/10 [00:00<00:00, 57.40it/s]\n",
      "r_index: 100%|##########################################################################| 2/2 [00:00<00:00, 107.61it/s]\n"
     ]
    },
    {
     "name": "stdout",
     "output_type": "stream",
     "text": [
      "Epoch 100, Train Loss: 0.1181, Val Loss: 146.2782\n",
      "Epoch 00196: reducing learning rate of group 0 to 1.0000e-02.\n",
      "Epoch 200, Train Loss: 0.0938, Val Loss: 146.2802\n",
      "Early stopping at epoch 268\n",
      "Training complete.\n",
      "Starting Round 226\n"
     ]
    },
    {
     "name": "stderr",
     "output_type": "stream",
     "text": [
      "dist_matrix: 100%|######################################################################| 7/7 [00:00<00:00, 220.13it/s]\n",
      "synth_matrix: 100%|######################################################################| 7/7 [00:00<00:00, 58.13it/s]\n",
      "dist_matrix: 100%|####################################################################| 11/11 [00:00<00:00, 166.20it/s]\n",
      "synth_matrix: 100%|###################################################################| 11/11 [00:00<00:00, 142.09it/s]\n"
     ]
    },
    {
     "name": "stdout",
     "output_type": "stream",
     "text": [
      "Epoch 100, Train Loss: 0.1024, Val Loss: 14.2974\n",
      "Epoch 200, Train Loss: 0.0928, Val Loss: 14.2813\n",
      "Early stopping at epoch 232\n",
      "Training complete.\n",
      "Starting Round 227\n"
     ]
    },
    {
     "name": "stderr",
     "output_type": "stream",
     "text": [
      "dist_matrix: 100%|####################################################################| 10/10 [00:00<00:00, 150.25it/s]\n",
      "synth_matrix: 100%|####################################################################| 10/10 [00:00<00:00, 54.68it/s]\n",
      "r_index: 100%|##########################################################################| 2/2 [00:00<00:00, 100.66it/s]\n"
     ]
    },
    {
     "name": "stdout",
     "output_type": "stream",
     "text": [
      "Epoch 100, Train Loss: 0.1157, Val Loss: 6.9217\n",
      "Early stopping at epoch 196\n",
      "Training complete.\n",
      "Starting Round 228\n",
      "SMOGN failed: redefine phi relevance function: all points are 1\n",
      "→ Using original data instead.\n",
      "Epoch 100, Train Loss: 0.1475, Val Loss: 2.0167\n",
      "Epoch 200, Train Loss: 0.1313, Val Loss: 2.0230\n",
      "Early stopping at epoch 203\n",
      "Training complete.\n",
      "Starting Round 229\n",
      "SMOGN failed: redefine phi relevance function: all points are 1\n",
      "→ Using original data instead.\n",
      "Epoch 100, Train Loss: 0.1395, Val Loss: 1.6315\n",
      "Early stopping at epoch 122\n",
      "Training complete.\n",
      "Starting Round 230\n"
     ]
    },
    {
     "name": "stderr",
     "output_type": "stream",
     "text": [
      "dist_matrix: 100%|######################################################################| 7/7 [00:00<00:00, 180.01it/s]\n",
      "synth_matrix: 100%|######################################################################| 7/7 [00:00<00:00, 31.70it/s]\n",
      "r_index: 100%|###########################################################################| 3/3 [00:00<00:00, 89.72it/s]\n"
     ]
    },
    {
     "name": "stdout",
     "output_type": "stream",
     "text": [
      "Epoch 100, Train Loss: 0.1597, Val Loss: 4.2349\n",
      "Early stopping at epoch 198\n",
      "Training complete.\n",
      "Starting Round 231\n"
     ]
    },
    {
     "name": "stderr",
     "output_type": "stream",
     "text": [
      "dist_matrix: 100%|####################################################################| 10/10 [00:00<00:00, 145.81it/s]\n",
      "synth_matrix: 100%|####################################################################| 10/10 [00:00<00:00, 60.38it/s]\n",
      "r_index: 100%|##########################################################################| 2/2 [00:00<00:00, 108.25it/s]\n"
     ]
    },
    {
     "name": "stdout",
     "output_type": "stream",
     "text": [
      "Epoch 100, Train Loss: 0.1325, Val Loss: 19.4679\n",
      "Early stopping at epoch 178\n",
      "Training complete.\n",
      "Starting Round 232\n",
      "SMOGN failed: redefine phi relevance function: all points are 1\n",
      "→ Using original data instead.\n",
      "Epoch 100, Train Loss: 0.1502, Val Loss: 0.6868\n",
      "Epoch 200, Train Loss: 0.1331, Val Loss: 0.7434\n",
      "Early stopping at epoch 212\n",
      "Training complete.\n",
      "Starting Round 233\n"
     ]
    },
    {
     "name": "stderr",
     "output_type": "stream",
     "text": [
      "dist_matrix: 100%|####################################################################| 11/11 [00:00<00:00, 129.48it/s]\n",
      "synth_matrix: 100%|###################################################################| 11/11 [00:00<00:00, 110.95it/s]\n",
      "r_index: 100%|########################################################################| 10/10 [00:00<00:00, 133.55it/s]\n"
     ]
    },
    {
     "name": "stdout",
     "output_type": "stream",
     "text": [
      "Epoch 100, Train Loss: 0.1263, Val Loss: 0.5676\n",
      "Epoch 200, Train Loss: 0.1225, Val Loss: 0.5729\n",
      "Early stopping at epoch 279\n",
      "Training complete.\n",
      "Starting Round 234\n"
     ]
    },
    {
     "name": "stderr",
     "output_type": "stream",
     "text": [
      "dist_matrix: 100%|######################################################################| 7/7 [00:00<00:00, 208.18it/s]\n",
      "synth_matrix: 100%|######################################################################| 7/7 [00:00<00:00, 35.87it/s]\n",
      "r_index: 100%|###########################################################################| 3/3 [00:00<00:00, 95.87it/s]\n"
     ]
    },
    {
     "name": "stdout",
     "output_type": "stream",
     "text": [
      "Epoch 100, Train Loss: 0.1006, Val Loss: 0.9271\n",
      "Epoch 200, Train Loss: 0.0873, Val Loss: 0.9712\n",
      "Early stopping at epoch 258\n",
      "Training complete.\n",
      "Starting Round 235\n",
      "SMOGN failed: redefine phi relevance function: all points are 1\n",
      "→ Using original data instead.\n",
      "Epoch 100, Train Loss: 0.1424, Val Loss: 7.4138\n",
      "Early stopping at epoch 181\n",
      "Training complete.\n",
      "Starting Round 236\n"
     ]
    },
    {
     "name": "stderr",
     "output_type": "stream",
     "text": [
      "dist_matrix: 100%|####################################################################| 13/13 [00:00<00:00, 108.44it/s]\n",
      "r_index: 100%|##########################################################################| 9/9 [00:00<00:00, 113.63it/s]\n",
      "dist_matrix: 100%|####################################################################| 10/10 [00:00<00:00, 182.35it/s]\n",
      "synth_matrix: 100%|###################################################################| 10/10 [00:00<00:00, 166.61it/s]\n",
      "r_index: 100%|##########################################################################| 2/2 [00:00<00:00, 106.10it/s]\n"
     ]
    },
    {
     "name": "stdout",
     "output_type": "stream",
     "text": [
      "Epoch 100, Train Loss: 0.1186, Val Loss: 39.5254\n",
      "Early stopping at epoch 192\n",
      "Training complete.\n",
      "Starting Round 237\n"
     ]
    },
    {
     "name": "stderr",
     "output_type": "stream",
     "text": [
      "dist_matrix: 100%|######################################################################| 9/9 [00:00<00:00, 161.21it/s]\n",
      "synth_matrix: 100%|######################################################################| 9/9 [00:00<00:00, 64.64it/s]\n",
      "r_index: 100%|##########################################################################| 4/4 [00:00<00:00, 125.20it/s]\n"
     ]
    },
    {
     "name": "stdout",
     "output_type": "stream",
     "text": [
      "Epoch 100, Train Loss: 0.1333, Val Loss: 8.2700\n",
      "Epoch 200, Train Loss: 0.1383, Val Loss: 8.3761\n",
      "Early stopping at epoch 215\n",
      "Training complete.\n",
      "Starting Round 238\n"
     ]
    },
    {
     "name": "stderr",
     "output_type": "stream",
     "text": [
      "dist_matrix: 100%|######################################################################| 8/8 [00:00<00:00, 203.05it/s]\n",
      "synth_matrix: 100%|######################################################################| 8/8 [00:00<00:00, 39.57it/s]\n"
     ]
    },
    {
     "name": "stdout",
     "output_type": "stream",
     "text": [
      "Epoch 100, Train Loss: 0.1211, Val Loss: 0.7903\n",
      "Epoch 200, Train Loss: 0.0997, Val Loss: 0.7663\n",
      "Epoch 300, Train Loss: 0.1009, Val Loss: 0.8594\n",
      "Early stopping at epoch 327\n",
      "Training complete.\n",
      "Starting Round 239\n"
     ]
    },
    {
     "name": "stderr",
     "output_type": "stream",
     "text": [
      "dist_matrix: 100%|######################################################################| 7/7 [00:00<00:00, 212.62it/s]\n",
      "synth_matrix: 100%|######################################################################| 7/7 [00:00<00:00, 38.64it/s]\n",
      "r_index: 100%|##########################################################################| 3/3 [00:00<00:00, 152.75it/s]\n"
     ]
    },
    {
     "name": "stdout",
     "output_type": "stream",
     "text": [
      "Epoch 100, Train Loss: 0.0972, Val Loss: 27.2577\n",
      "Early stopping at epoch 115\n",
      "Training complete.\n",
      "Starting Round 240\n"
     ]
    },
    {
     "name": "stderr",
     "output_type": "stream",
     "text": [
      "dist_matrix: 100%|######################################################################| 8/8 [00:00<00:00, 193.03it/s]\n",
      "synth_matrix: 100%|######################################################################| 8/8 [00:00<00:00, 37.21it/s]\n"
     ]
    },
    {
     "name": "stdout",
     "output_type": "stream",
     "text": [
      "Epoch 100, Train Loss: 0.0923, Val Loss: 2.6627\n",
      "Early stopping at epoch 167\n",
      "Training complete.\n",
      "Starting Round 241\n",
      "SMOGN failed: redefine phi relevance function: all points are 1\n",
      "→ Using original data instead.\n",
      "Epoch 100, Train Loss: 0.1383, Val Loss: 141.0397\n",
      "Epoch 00125: reducing learning rate of group 0 to 1.0000e-02.\n",
      "Early stopping at epoch 131\n",
      "Training complete.\n",
      "Starting Round 242\n"
     ]
    },
    {
     "name": "stderr",
     "output_type": "stream",
     "text": [
      "dist_matrix: 100%|######################################################################| 8/8 [00:00<00:00, 154.89it/s]\n",
      "synth_matrix: 100%|######################################################################| 8/8 [00:00<00:00, 38.86it/s]\n"
     ]
    },
    {
     "name": "stdout",
     "output_type": "stream",
     "text": [
      "Epoch 100, Train Loss: 0.1100, Val Loss: 3.6401\n",
      "Early stopping at epoch 129\n",
      "Training complete.\n",
      "Starting Round 243\n"
     ]
    },
    {
     "name": "stderr",
     "output_type": "stream",
     "text": [
      "dist_matrix: 100%|######################################################################| 8/8 [00:00<00:00, 203.24it/s]\n",
      "synth_matrix: 100%|#####################################################################| 8/8 [00:00<00:00, 101.81it/s]\n",
      "r_index: 100%|##########################################################################| 6/6 [00:00<00:00, 101.30it/s]\n",
      "dist_matrix: 100%|####################################################################| 11/11 [00:00<00:00, 165.64it/s]\n",
      "synth_matrix: 100%|###################################################################| 11/11 [00:00<00:00, 129.65it/s]\n"
     ]
    },
    {
     "name": "stdout",
     "output_type": "stream",
     "text": [
      "Epoch 100, Train Loss: 0.1025, Val Loss: 1.2881\n",
      "Early stopping at epoch 153\n",
      "Training complete.\n",
      "Starting Round 244\n"
     ]
    },
    {
     "name": "stderr",
     "output_type": "stream",
     "text": [
      "dist_matrix: 100%|####################################################################| 12/12 [00:00<00:00, 125.01it/s]\n",
      "synth_matrix: 100%|###################################################################| 12/12 [00:00<00:00, 130.36it/s]\n",
      "r_index: 100%|##########################################################################| 7/7 [00:00<00:00, 158.31it/s]\n"
     ]
    },
    {
     "name": "stdout",
     "output_type": "stream",
     "text": [
      "Epoch 100, Train Loss: 0.1473, Val Loss: 6.1206\n",
      "Epoch 200, Train Loss: 0.1285, Val Loss: 6.1016\n",
      "Early stopping at epoch 243\n",
      "Training complete.\n",
      "Starting Round 245\n"
     ]
    },
    {
     "name": "stderr",
     "output_type": "stream",
     "text": [
      "dist_matrix: 100%|######################################################################| 8/8 [00:00<00:00, 196.74it/s]\n",
      "synth_matrix: 100%|######################################################################| 8/8 [00:00<00:00, 43.80it/s]\n"
     ]
    },
    {
     "name": "stdout",
     "output_type": "stream",
     "text": [
      "Epoch 100, Train Loss: 0.1039, Val Loss: 0.6579\n",
      "Epoch 200, Train Loss: 0.0786, Val Loss: 0.6295\n",
      "Early stopping at epoch 260\n",
      "Training complete.\n",
      "Starting Round 246\n"
     ]
    },
    {
     "name": "stderr",
     "output_type": "stream",
     "text": [
      "dist_matrix: 100%|####################################################################| 12/12 [00:00<00:00, 110.52it/s]\n",
      "synth_matrix: 100%|###################################################################| 12/12 [00:00<00:00, 104.43it/s]\n",
      "r_index: 100%|##########################################################################| 7/7 [00:00<00:00, 108.24it/s]\n"
     ]
    },
    {
     "name": "stdout",
     "output_type": "stream",
     "text": [
      "Epoch 100, Train Loss: 0.1206, Val Loss: 5.5703\n",
      "Early stopping at epoch 168\n",
      "Training complete.\n",
      "Starting Round 247\n"
     ]
    },
    {
     "name": "stderr",
     "output_type": "stream",
     "text": [
      "dist_matrix: 100%|####################################################################| 10/10 [00:00<00:00, 154.05it/s]\n",
      "synth_matrix: 100%|####################################################################| 10/10 [00:00<00:00, 60.09it/s]\n",
      "r_index: 100%|##########################################################################| 2/2 [00:00<00:00, 102.16it/s]\n"
     ]
    },
    {
     "name": "stdout",
     "output_type": "stream",
     "text": [
      "Epoch 100, Train Loss: 0.1519, Val Loss: 15.2597\n",
      "Epoch 200, Train Loss: 0.1125, Val Loss: 15.2342\n",
      "Epoch 00247: reducing learning rate of group 0 to 1.0000e-02.\n",
      "Early stopping at epoch 273\n",
      "Training complete.\n",
      "Starting Round 248\n",
      "SMOGN failed: redefine phi relevance function: all points are 1\n",
      "→ Using original data instead.\n",
      "Epoch 100, Train Loss: 0.1383, Val Loss: 0.6034\n",
      "Epoch 200, Train Loss: 0.1336, Val Loss: 0.6229\n",
      "Early stopping at epoch 222\n",
      "Training complete.\n",
      "Starting Round 249\n"
     ]
    },
    {
     "name": "stderr",
     "output_type": "stream",
     "text": [
      "dist_matrix: 100%|####################################################################| 12/12 [00:00<00:00, 115.50it/s]\n",
      "r_index: 100%|########################################################################| 10/10 [00:00<00:00, 114.75it/s]\n",
      "dist_matrix: 100%|####################################################################| 10/10 [00:00<00:00, 184.55it/s]\n",
      "synth_matrix: 100%|###################################################################| 10/10 [00:00<00:00, 127.40it/s]\n",
      "r_index: 100%|##########################################################################| 2/2 [00:00<00:00, 126.09it/s]\n"
     ]
    },
    {
     "name": "stdout",
     "output_type": "stream",
     "text": [
      "Epoch 100, Train Loss: 0.1187, Val Loss: 12.7521\n",
      "Early stopping at epoch 131\n",
      "Training complete.\n",
      "Starting Round 250\n"
     ]
    },
    {
     "name": "stderr",
     "output_type": "stream",
     "text": [
      "dist_matrix: 100%|####################################################################| 13/13 [00:00<00:00, 119.91it/s]\n",
      "synth_matrix: 100%|###################################################################| 13/13 [00:00<00:00, 146.79it/s]\n",
      "r_index: 100%|##########################################################################| 6/6 [00:00<00:00, 138.81it/s]\n"
     ]
    },
    {
     "name": "stdout",
     "output_type": "stream",
     "text": [
      "Epoch 100, Train Loss: 0.1605, Val Loss: 0.8189\n",
      "Epoch 200, Train Loss: 0.1277, Val Loss: 0.8017\n",
      "Early stopping at epoch 227\n",
      "Training complete.\n",
      "Starting Round 251\n"
     ]
    },
    {
     "name": "stderr",
     "output_type": "stream",
     "text": [
      "dist_matrix: 100%|####################################################################| 12/12 [00:00<00:00, 127.97it/s]\n",
      "synth_matrix: 100%|###################################################################| 12/12 [00:00<00:00, 117.90it/s]\n",
      "r_index: 100%|##########################################################################| 7/7 [00:00<00:00, 112.51it/s]\n"
     ]
    },
    {
     "name": "stdout",
     "output_type": "stream",
     "text": [
      "Epoch 100, Train Loss: 0.1171, Val Loss: 0.7720\n",
      "Epoch 200, Train Loss: 0.0997, Val Loss: 0.7522\n",
      "Early stopping at epoch 233\n",
      "Training complete.\n",
      "Starting Round 252\n"
     ]
    },
    {
     "name": "stderr",
     "output_type": "stream",
     "text": [
      "dist_matrix: 100%|######################################################################| 8/8 [00:00<00:00, 166.82it/s]\n",
      "synth_matrix: 100%|#####################################################################| 8/8 [00:00<00:00, 105.67it/s]\n",
      "r_index: 100%|###########################################################################| 6/6 [00:00<00:00, 83.30it/s]\n",
      "dist_matrix: 100%|######################################################################| 8/8 [00:00<00:00, 214.92it/s]\n",
      "synth_matrix: 100%|#####################################################################| 8/8 [00:00<00:00, 130.90it/s]\n",
      "r_index: 100%|##########################################################################| 6/6 [00:00<00:00, 104.88it/s]\n"
     ]
    },
    {
     "name": "stdout",
     "output_type": "stream",
     "text": [
      "Epoch 100, Train Loss: 0.1320, Val Loss: 0.9388\n",
      "Early stopping at epoch 159\n",
      "Training complete.\n",
      "Starting Round 253\n"
     ]
    },
    {
     "name": "stderr",
     "output_type": "stream",
     "text": [
      "dist_matrix: 100%|####################################################################| 10/10 [00:00<00:00, 164.55it/s]\n",
      "synth_matrix: 100%|####################################################################| 10/10 [00:00<00:00, 49.71it/s]\n",
      "r_index: 100%|##########################################################################| 2/2 [00:00<00:00, 101.41it/s]\n"
     ]
    },
    {
     "name": "stdout",
     "output_type": "stream",
     "text": [
      "Epoch 100, Train Loss: 0.0984, Val Loss: 0.6881\n",
      "Early stopping at epoch 121\n",
      "Training complete.\n",
      "Starting Round 254\n"
     ]
    },
    {
     "name": "stderr",
     "output_type": "stream",
     "text": [
      "dist_matrix: 100%|####################################################################| 14/14 [00:00<00:00, 113.09it/s]\n",
      "r_index: 100%|##########################################################################| 8/8 [00:00<00:00, 100.03it/s]\n",
      "dist_matrix: 100%|####################################################################| 10/10 [00:00<00:00, 182.96it/s]\n",
      "synth_matrix: 100%|###################################################################| 10/10 [00:00<00:00, 129.25it/s]\n",
      "r_index: 100%|###########################################################################| 2/2 [00:00<00:00, 96.60it/s]\n"
     ]
    },
    {
     "name": "stdout",
     "output_type": "stream",
     "text": [
      "Epoch 100, Train Loss: 0.1204, Val Loss: 0.5289\n",
      "Early stopping at epoch 187\n",
      "Training complete.\n",
      "Starting Round 255\n",
      "SMOGN failed: redefine phi relevance function: all points are 1\n",
      "→ Using original data instead.\n",
      "Epoch 100, Train Loss: 0.1436, Val Loss: 61.0570\n",
      "Early stopping at epoch 112\n",
      "Training complete.\n",
      "Starting Round 256\n"
     ]
    },
    {
     "name": "stderr",
     "output_type": "stream",
     "text": [
      "dist_matrix: 100%|####################################################################| 12/12 [00:00<00:00, 127.48it/s]\n",
      "synth_matrix: 100%|###################################################################| 12/12 [00:00<00:00, 112.26it/s]\n",
      "r_index: 100%|###########################################################################| 7/7 [00:00<00:00, 94.62it/s]\n"
     ]
    },
    {
     "name": "stdout",
     "output_type": "stream",
     "text": [
      "Epoch 100, Train Loss: 0.1573, Val Loss: 0.7865\n",
      "Early stopping at epoch 200\n",
      "Training complete.\n",
      "Starting Round 257\n"
     ]
    },
    {
     "name": "stderr",
     "output_type": "stream",
     "text": [
      "dist_matrix: 100%|######################################################################| 5/5 [00:00<00:00, 278.67it/s]\n",
      "synth_matrix: 100%|######################################################################| 5/5 [00:00<00:00, 31.46it/s]\n",
      "r_index: 100%|###########################################################################| 2/2 [00:00<00:00, 95.05it/s]\n",
      "dist_matrix: 100%|####################################################################| 11/11 [00:00<00:00, 169.29it/s]\n",
      "synth_matrix: 100%|###################################################################| 11/11 [00:00<00:00, 128.28it/s]\n"
     ]
    },
    {
     "name": "stdout",
     "output_type": "stream",
     "text": [
      "Epoch 100, Train Loss: 0.1209, Val Loss: 7.5599\n",
      "Early stopping at epoch 191\n",
      "Training complete.\n",
      "Starting Round 258\n"
     ]
    },
    {
     "name": "stderr",
     "output_type": "stream",
     "text": [
      "dist_matrix: 100%|######################################################################| 8/8 [00:00<00:00, 180.94it/s]\n",
      "synth_matrix: 100%|######################################################################| 8/8 [00:00<00:00, 37.47it/s]\n"
     ]
    },
    {
     "name": "stdout",
     "output_type": "stream",
     "text": [
      "Epoch 100, Train Loss: 0.0955, Val Loss: 0.8626\n",
      "Epoch 200, Train Loss: 0.0832, Val Loss: 0.8646\n",
      "Early stopping at epoch 203\n",
      "Training complete.\n",
      "Starting Round 259\n"
     ]
    },
    {
     "name": "stderr",
     "output_type": "stream",
     "text": [
      "dist_matrix: 100%|####################################################################| 12/12 [00:00<00:00, 128.96it/s]\n",
      "synth_matrix: 100%|###################################################################| 12/12 [00:00<00:00, 122.12it/s]\n",
      "r_index: 100%|##########################################################################| 7/7 [00:00<00:00, 149.11it/s]\n"
     ]
    },
    {
     "name": "stdout",
     "output_type": "stream",
     "text": [
      "Epoch 100, Train Loss: 0.1031, Val Loss: 0.9474\n",
      "Early stopping at epoch 121\n",
      "Training complete.\n",
      "Starting Round 260\n"
     ]
    },
    {
     "name": "stderr",
     "output_type": "stream",
     "text": [
      "dist_matrix: 100%|######################################################################| 8/8 [00:00<00:00, 194.93it/s]\n",
      "synth_matrix: 100%|######################################################################| 8/8 [00:00<00:00, 36.54it/s]\n"
     ]
    },
    {
     "name": "stdout",
     "output_type": "stream",
     "text": [
      "Epoch 100, Train Loss: 0.1084, Val Loss: 3.8767\n",
      "Early stopping at epoch 145\n",
      "Training complete.\n",
      "Starting Round 261\n"
     ]
    },
    {
     "name": "stderr",
     "output_type": "stream",
     "text": [
      "dist_matrix: 100%|#####################################################################| 13/13 [00:00<00:00, 98.46it/s]\n",
      "synth_matrix: 100%|###################################################################| 13/13 [00:00<00:00, 125.08it/s]\n",
      "r_index: 100%|##########################################################################| 6/6 [00:00<00:00, 112.68it/s]\n"
     ]
    },
    {
     "name": "stdout",
     "output_type": "stream",
     "text": [
      "Epoch 100, Train Loss: 0.1195, Val Loss: 0.9806\n",
      "Early stopping at epoch 173\n",
      "Training complete.\n",
      "Starting Round 262\n"
     ]
    },
    {
     "name": "stderr",
     "output_type": "stream",
     "text": [
      "dist_matrix: 100%|####################################################################| 10/10 [00:00<00:00, 133.46it/s]\n",
      "synth_matrix: 100%|###################################################################| 10/10 [00:00<00:00, 145.74it/s]\n",
      "r_index: 100%|##########################################################################| 2/2 [00:00<00:00, 270.82it/s]\n",
      "dist_matrix: 100%|######################################################################| 8/8 [00:00<00:00, 193.92it/s]\n",
      "synth_matrix: 100%|######################################################################| 8/8 [00:00<00:00, 89.52it/s]\n",
      "r_index: 100%|###########################################################################| 6/6 [00:00<00:00, 79.67it/s]\n"
     ]
    },
    {
     "name": "stdout",
     "output_type": "stream",
     "text": [
      "Epoch 100, Train Loss: 0.1156, Val Loss: 0.6081\n",
      "Early stopping at epoch 185\n",
      "Training complete.\n",
      "Starting Round 263\n"
     ]
    },
    {
     "name": "stderr",
     "output_type": "stream",
     "text": [
      "dist_matrix: 100%|####################################################################| 11/11 [00:00<00:00, 119.31it/s]\n",
      "synth_matrix: 100%|###################################################################| 11/11 [00:00<00:00, 104.69it/s]\n",
      "dist_matrix: 100%|####################################################################| 10/10 [00:00<00:00, 160.09it/s]\n",
      "synth_matrix: 100%|###################################################################| 10/10 [00:00<00:00, 113.15it/s]\n",
      "r_index: 100%|##########################################################################| 2/2 [00:00<00:00, 109.43it/s]\n"
     ]
    },
    {
     "name": "stdout",
     "output_type": "stream",
     "text": [
      "Epoch 100, Train Loss: 0.1128, Val Loss: 28.5741\n",
      "Early stopping at epoch 182\n",
      "Training complete.\n",
      "Starting Round 264\n"
     ]
    },
    {
     "name": "stderr",
     "output_type": "stream",
     "text": [
      "dist_matrix: 100%|####################################################################| 10/10 [00:00<00:00, 145.50it/s]\n",
      "synth_matrix: 100%|####################################################################| 10/10 [00:00<00:00, 53.63it/s]\n",
      "r_index: 100%|###########################################################################| 2/2 [00:00<00:00, 95.19it/s]\n"
     ]
    },
    {
     "name": "stdout",
     "output_type": "stream",
     "text": [
      "Epoch 100, Train Loss: 0.1680, Val Loss: 1.7032\n",
      "Epoch 200, Train Loss: 0.1525, Val Loss: 1.6522\n",
      "Early stopping at epoch 212\n",
      "Training complete.\n",
      "Starting Round 265\n"
     ]
    },
    {
     "name": "stderr",
     "output_type": "stream",
     "text": [
      "dist_matrix: 100%|####################################################################| 11/11 [00:00<00:00, 146.61it/s]\n",
      "synth_matrix: 100%|###################################################################| 11/11 [00:00<00:00, 102.46it/s]\n",
      "r_index: 100%|########################################################################| 10/10 [00:00<00:00, 138.81it/s]\n"
     ]
    },
    {
     "name": "stdout",
     "output_type": "stream",
     "text": [
      "Epoch 100, Train Loss: 0.1075, Val Loss: 2.9108\n",
      "Epoch 200, Train Loss: 0.0878, Val Loss: 2.9281\n",
      "Early stopping at epoch 217\n",
      "Training complete.\n",
      "Starting Round 266\n"
     ]
    },
    {
     "name": "stderr",
     "output_type": "stream",
     "text": [
      "dist_matrix: 100%|####################################################################| 10/10 [00:00<00:00, 133.64it/s]\n",
      "synth_matrix: 100%|####################################################################| 10/10 [00:00<00:00, 55.02it/s]\n",
      "r_index: 100%|###########################################################################| 2/2 [00:00<00:00, 96.74it/s]\n"
     ]
    },
    {
     "name": "stdout",
     "output_type": "stream",
     "text": [
      "Epoch 100, Train Loss: 0.0955, Val Loss: 0.7642\n",
      "Early stopping at epoch 120\n",
      "Training complete.\n",
      "Starting Round 267\n"
     ]
    },
    {
     "name": "stderr",
     "output_type": "stream",
     "text": [
      "dist_matrix: 100%|######################################################################| 6/6 [00:00<00:00, 245.74it/s]\n",
      "synth_matrix: 100%|######################################################################| 6/6 [00:00<00:00, 51.19it/s]\n",
      "r_index: 100%|###########################################################################| 3/3 [00:00<00:00, 87.18it/s]\n",
      "dist_matrix: 100%|####################################################################| 10/10 [00:00<00:00, 168.76it/s]\n",
      "synth_matrix: 100%|###################################################################| 10/10 [00:00<00:00, 150.97it/s]\n",
      "r_index: 100%|##########################################################################| 2/2 [00:00<00:00, 102.53it/s]\n"
     ]
    },
    {
     "name": "stdout",
     "output_type": "stream",
     "text": [
      "Epoch 100, Train Loss: 0.1322, Val Loss: 1.2115\n",
      "Early stopping at epoch 136\n",
      "Training complete.\n",
      "Starting Round 268\n"
     ]
    },
    {
     "name": "stderr",
     "output_type": "stream",
     "text": [
      "dist_matrix: 100%|######################################################################| 9/9 [00:00<00:00, 162.61it/s]\n",
      "synth_matrix: 100%|#####################################################################| 9/9 [00:00<00:00, 127.06it/s]\n",
      "r_index: 100%|##########################################################################| 4/4 [00:00<00:00, 106.15it/s]\n",
      "dist_matrix: 100%|####################################################################| 11/11 [00:00<00:00, 156.38it/s]\n",
      "synth_matrix: 100%|###################################################################| 11/11 [00:00<00:00, 129.02it/s]\n"
     ]
    },
    {
     "name": "stdout",
     "output_type": "stream",
     "text": [
      "Epoch 100, Train Loss: 0.1323, Val Loss: 48.2606\n",
      "Early stopping at epoch 143\n",
      "Training complete.\n",
      "Starting Round 269\n"
     ]
    },
    {
     "name": "stderr",
     "output_type": "stream",
     "text": [
      "dist_matrix: 100%|####################################################################| 10/10 [00:00<00:00, 143.73it/s]\n",
      "synth_matrix: 100%|####################################################################| 10/10 [00:00<00:00, 56.74it/s]\n",
      "r_index: 100%|##########################################################################| 2/2 [00:00<00:00, 150.98it/s]\n"
     ]
    },
    {
     "name": "stdout",
     "output_type": "stream",
     "text": [
      "Epoch 100, Train Loss: 0.1181, Val Loss: 1.1173\n",
      "Epoch 200, Train Loss: 0.1063, Val Loss: 1.0665\n",
      "Early stopping at epoch 269\n",
      "Training complete.\n",
      "Starting Round 270\n"
     ]
    },
    {
     "name": "stderr",
     "output_type": "stream",
     "text": [
      "dist_matrix: 100%|######################################################################| 9/9 [00:00<00:00, 151.35it/s]\n",
      "synth_matrix: 100%|######################################################################| 9/9 [00:00<00:00, 52.01it/s]\n",
      "r_index: 100%|##########################################################################| 4/4 [00:00<00:00, 105.36it/s]\n"
     ]
    },
    {
     "name": "stdout",
     "output_type": "stream",
     "text": [
      "Epoch 100, Train Loss: 0.1189, Val Loss: 0.6246\n",
      "Epoch 200, Train Loss: 0.1028, Val Loss: 0.5756\n",
      "Epoch 300, Train Loss: 0.0917, Val Loss: 0.5566\n",
      "Early stopping at epoch 394\n",
      "Training complete.\n",
      "Starting Round 271\n"
     ]
    },
    {
     "name": "stderr",
     "output_type": "stream",
     "text": [
      "dist_matrix: 100%|######################################################################| 9/9 [00:00<00:00, 147.84it/s]\n",
      "synth_matrix: 100%|######################################################################| 9/9 [00:00<00:00, 50.86it/s]\n",
      "r_index: 100%|##########################################################################| 4/4 [00:00<00:00, 116.73it/s]\n"
     ]
    },
    {
     "name": "stdout",
     "output_type": "stream",
     "text": [
      "Epoch 100, Train Loss: 0.0918, Val Loss: 47.5942\n",
      "Epoch 200, Train Loss: 0.0826, Val Loss: 47.5567\n",
      "Early stopping at epoch 209\n",
      "Training complete.\n",
      "Starting Round 272\n"
     ]
    },
    {
     "name": "stderr",
     "output_type": "stream",
     "text": [
      "dist_matrix: 100%|####################################################################| 12/12 [00:00<00:00, 117.33it/s]\n",
      "synth_matrix: 100%|###################################################################| 12/12 [00:00<00:00, 116.39it/s]\n",
      "r_index: 100%|##########################################################################| 7/7 [00:00<00:00, 117.19it/s]\n"
     ]
    },
    {
     "name": "stdout",
     "output_type": "stream",
     "text": [
      "Epoch 100, Train Loss: 0.1376, Val Loss: 7.4039\n",
      "Epoch 200, Train Loss: 0.1230, Val Loss: 7.5422\n",
      "Early stopping at epoch 231\n",
      "Training complete.\n",
      "Starting Round 273\n"
     ]
    },
    {
     "name": "stderr",
     "output_type": "stream",
     "text": [
      "dist_matrix: 100%|######################################################################| 8/8 [00:00<00:00, 179.06it/s]\n",
      "synth_matrix: 100%|######################################################################| 8/8 [00:00<00:00, 34.14it/s]\n"
     ]
    },
    {
     "name": "stdout",
     "output_type": "stream",
     "text": [
      "Epoch 100, Train Loss: 0.1359, Val Loss: 8.7977\n",
      "Early stopping at epoch 119\n",
      "Training complete.\n",
      "Starting Round 274\n"
     ]
    },
    {
     "name": "stderr",
     "output_type": "stream",
     "text": [
      "dist_matrix: 100%|####################################################################| 10/10 [00:00<00:00, 157.42it/s]\n",
      "synth_matrix: 100%|####################################################################| 10/10 [00:00<00:00, 52.90it/s]\n",
      "r_index: 100%|###########################################################################| 2/2 [00:00<00:00, 95.12it/s]\n"
     ]
    },
    {
     "name": "stdout",
     "output_type": "stream",
     "text": [
      "Epoch 100, Train Loss: 0.0806, Val Loss: 10.4742\n",
      "Epoch 200, Train Loss: 0.0757, Val Loss: 10.5149\n",
      "Early stopping at epoch 201\n",
      "Training complete.\n",
      "Starting Round 275\n"
     ]
    },
    {
     "name": "stderr",
     "output_type": "stream",
     "text": [
      "dist_matrix: 100%|######################################################################| 9/9 [00:00<00:00, 140.92it/s]\n",
      "synth_matrix: 100%|######################################################################| 9/9 [00:00<00:00, 54.16it/s]\n",
      "r_index: 100%|###########################################################################| 4/4 [00:00<00:00, 99.43it/s]\n"
     ]
    },
    {
     "name": "stdout",
     "output_type": "stream",
     "text": [
      "Epoch 100, Train Loss: 0.1047, Val Loss: 1.1860\n",
      "Early stopping at epoch 164\n",
      "Training complete.\n",
      "Starting Round 276\n"
     ]
    },
    {
     "name": "stderr",
     "output_type": "stream",
     "text": [
      "dist_matrix: 100%|####################################################################| 11/11 [00:00<00:00, 133.96it/s]\n",
      "synth_matrix: 100%|####################################################################| 11/11 [00:00<00:00, 95.73it/s]\n",
      "r_index: 100%|########################################################################| 10/10 [00:00<00:00, 124.82it/s]\n"
     ]
    },
    {
     "name": "stdout",
     "output_type": "stream",
     "text": [
      "Epoch 100, Train Loss: 0.1213, Val Loss: 5.0264\n",
      "Early stopping at epoch 182\n",
      "Training complete.\n",
      "Starting Round 277\n"
     ]
    },
    {
     "name": "stderr",
     "output_type": "stream",
     "text": [
      "dist_matrix: 100%|####################################################################| 12/12 [00:00<00:00, 120.48it/s]\n",
      "synth_matrix: 100%|###################################################################| 12/12 [00:00<00:00, 113.79it/s]\n",
      "r_index: 100%|##########################################################################| 7/7 [00:00<00:00, 124.92it/s]\n"
     ]
    },
    {
     "name": "stdout",
     "output_type": "stream",
     "text": [
      "Epoch 100, Train Loss: 0.1015, Val Loss: 459.8122\n",
      "Epoch 00116: reducing learning rate of group 0 to 1.0000e-02.\n",
      "Early stopping at epoch 167\n",
      "Training complete.\n",
      "Starting Round 278\n"
     ]
    },
    {
     "name": "stderr",
     "output_type": "stream",
     "text": [
      "dist_matrix: 100%|######################################################################| 8/8 [00:00<00:00, 180.16it/s]\n",
      "synth_matrix: 100%|######################################################################| 8/8 [00:00<00:00, 36.41it/s]\n"
     ]
    },
    {
     "name": "stdout",
     "output_type": "stream",
     "text": [
      "Epoch 100, Train Loss: 0.1181, Val Loss: 0.9285\n",
      "Early stopping at epoch 182\n",
      "Training complete.\n",
      "Starting Round 279\n"
     ]
    },
    {
     "name": "stderr",
     "output_type": "stream",
     "text": [
      "dist_matrix: 100%|######################################################################| 9/9 [00:00<00:00, 160.26it/s]\n",
      "synth_matrix: 100%|######################################################################| 9/9 [00:00<00:00, 56.31it/s]\n",
      "r_index: 100%|##########################################################################| 4/4 [00:00<00:00, 115.19it/s]\n"
     ]
    },
    {
     "name": "stdout",
     "output_type": "stream",
     "text": [
      "Epoch 100, Train Loss: 0.1151, Val Loss: 1.6085\n",
      "Epoch 200, Train Loss: 0.0971, Val Loss: 1.6113\n",
      "Early stopping at epoch 256\n",
      "Training complete.\n",
      "Starting Round 280\n",
      "SMOGN failed: redefine phi relevance function: all points are 1\n",
      "→ Using original data instead.\n",
      "Epoch 100, Train Loss: 0.1382, Val Loss: 3.8179\n",
      "Early stopping at epoch 123\n",
      "Training complete.\n",
      "Starting Round 281\n"
     ]
    },
    {
     "name": "stderr",
     "output_type": "stream",
     "text": [
      "dist_matrix: 100%|######################################################################| 9/9 [00:00<00:00, 173.32it/s]\n",
      "synth_matrix: 100%|#####################################################################| 9/9 [00:00<00:00, 113.98it/s]\n",
      "r_index: 100%|##########################################################################| 4/4 [00:00<00:00, 123.26it/s]\n",
      "dist_matrix: 100%|####################################################################| 10/10 [00:00<00:00, 187.75it/s]\n",
      "synth_matrix: 100%|###################################################################| 10/10 [00:00<00:00, 131.78it/s]\n",
      "r_index: 100%|##########################################################################| 2/2 [00:00<00:00, 109.12it/s]\n"
     ]
    },
    {
     "name": "stdout",
     "output_type": "stream",
     "text": [
      "Epoch 100, Train Loss: 0.1137, Val Loss: 1.2957\n",
      "Early stopping at epoch 118\n",
      "Training complete.\n",
      "Starting Round 282\n"
     ]
    },
    {
     "name": "stderr",
     "output_type": "stream",
     "text": [
      "dist_matrix: 100%|####################################################################| 10/10 [00:00<00:00, 126.51it/s]\n",
      "synth_matrix: 100%|####################################################################| 10/10 [00:00<00:00, 57.75it/s]\n",
      "r_index: 100%|##########################################################################| 2/2 [00:00<00:00, 327.39it/s]\n"
     ]
    },
    {
     "name": "stdout",
     "output_type": "stream",
     "text": [
      "Epoch 100, Train Loss: 0.1262, Val Loss: 19.6544\n",
      "Epoch 200, Train Loss: 0.0900, Val Loss: 19.6018\n",
      "Early stopping at epoch 232\n",
      "Training complete.\n",
      "Starting Round 283\n",
      "SMOGN failed: redefine phi relevance function: all points are 1\n",
      "→ Using original data instead.\n",
      "Epoch 100, Train Loss: 0.1442, Val Loss: 1.7322\n",
      "Epoch 200, Train Loss: 0.1344, Val Loss: 1.7905\n",
      "Early stopping at epoch 272\n",
      "Training complete.\n",
      "Starting Round 284\n"
     ]
    },
    {
     "name": "stderr",
     "output_type": "stream",
     "text": [
      "dist_matrix: 100%|####################################################################| 14/14 [00:00<00:00, 119.95it/s]\n",
      "r_index: 100%|##########################################################################| 8/8 [00:00<00:00, 156.13it/s]\n",
      "dist_matrix: 100%|######################################################################| 9/9 [00:00<00:00, 208.21it/s]\n",
      "synth_matrix: 100%|#####################################################################| 9/9 [00:00<00:00, 118.97it/s]\n",
      "r_index: 100%|##########################################################################| 4/4 [00:00<00:00, 128.96it/s]\n"
     ]
    },
    {
     "name": "stdout",
     "output_type": "stream",
     "text": [
      "Epoch 100, Train Loss: 0.1148, Val Loss: 0.9190\n",
      "Early stopping at epoch 177\n",
      "Training complete.\n",
      "Starting Round 285\n",
      "SMOGN failed: redefine phi relevance function: all points are 1\n",
      "→ Using original data instead.\n",
      "Epoch 100, Train Loss: 0.1511, Val Loss: 3.5299\n",
      "Early stopping at epoch 124\n",
      "Training complete.\n",
      "Starting Round 286\n"
     ]
    },
    {
     "name": "stderr",
     "output_type": "stream",
     "text": [
      "dist_matrix: 100%|####################################################################| 10/10 [00:00<00:00, 143.39it/s]\n",
      "synth_matrix: 100%|####################################################################| 10/10 [00:00<00:00, 59.80it/s]\n",
      "r_index: 100%|##########################################################################| 2/2 [00:00<00:00, 107.11it/s]\n"
     ]
    },
    {
     "name": "stdout",
     "output_type": "stream",
     "text": [
      "Epoch 100, Train Loss: 0.1354, Val Loss: 3.7543\n",
      "Epoch 200, Train Loss: 0.1413, Val Loss: 3.5786\n",
      "Epoch 300, Train Loss: 0.1196, Val Loss: 3.6195\n",
      "Early stopping at epoch 304\n",
      "Training complete.\n",
      "Starting Round 287\n"
     ]
    },
    {
     "name": "stderr",
     "output_type": "stream",
     "text": [
      "dist_matrix: 100%|####################################################################| 11/11 [00:00<00:00, 132.07it/s]\n",
      "synth_matrix: 100%|###################################################################| 11/11 [00:00<00:00, 119.15it/s]\n",
      "r_index: 100%|########################################################################| 10/10 [00:00<00:00, 121.47it/s]\n"
     ]
    },
    {
     "name": "stdout",
     "output_type": "stream",
     "text": [
      "Epoch 100, Train Loss: 0.1044, Val Loss: 5.2037\n",
      "Early stopping at epoch 125\n",
      "Training complete.\n",
      "Starting Round 288\n"
     ]
    },
    {
     "name": "stderr",
     "output_type": "stream",
     "text": [
      "dist_matrix: 100%|######################################################################| 9/9 [00:00<00:00, 162.55it/s]\n",
      "synth_matrix: 100%|######################################################################| 9/9 [00:00<00:00, 56.07it/s]\n",
      "r_index: 100%|##########################################################################| 4/4 [00:00<00:00, 108.61it/s]\n"
     ]
    },
    {
     "name": "stdout",
     "output_type": "stream",
     "text": [
      "Epoch 100, Train Loss: 0.1649, Val Loss: 0.9939\n",
      "Epoch 200, Train Loss: 0.1438, Val Loss: 1.0151\n",
      "Epoch 300, Train Loss: 0.1388, Val Loss: 0.9944\n",
      "Early stopping at epoch 397\n",
      "Training complete.\n",
      "Starting Round 289\n"
     ]
    },
    {
     "name": "stderr",
     "output_type": "stream",
     "text": [
      "dist_matrix: 100%|######################################################################| 6/6 [00:00<00:00, 240.90it/s]\n",
      "synth_matrix: 100%|######################################################################| 6/6 [00:00<00:00, 25.51it/s]\n",
      "r_index: 100%|###########################################################################| 1/1 [00:00<00:00, 86.15it/s]\n"
     ]
    },
    {
     "name": "stdout",
     "output_type": "stream",
     "text": [
      "Epoch 100, Train Loss: 0.1486, Val Loss: 81.3482\n",
      "Epoch 200, Train Loss: 0.1389, Val Loss: 81.3004\n",
      "Epoch 300, Train Loss: 0.1426, Val Loss: 81.3148\n",
      "Early stopping at epoch 308\n",
      "Training complete.\n",
      "Starting Round 290\n"
     ]
    },
    {
     "name": "stderr",
     "output_type": "stream",
     "text": [
      "dist_matrix: 100%|######################################################################| 9/9 [00:00<00:00, 143.22it/s]\n",
      "synth_matrix: 100%|######################################################################| 9/9 [00:00<00:00, 64.04it/s]\n",
      "r_index: 100%|##########################################################################| 4/4 [00:00<00:00, 113.13it/s]\n"
     ]
    },
    {
     "name": "stdout",
     "output_type": "stream",
     "text": [
      "Epoch 100, Train Loss: 0.1241, Val Loss: 1.2900\n",
      "Epoch 200, Train Loss: 0.1014, Val Loss: 1.2985\n",
      "Epoch 300, Train Loss: 0.0969, Val Loss: 1.3413\n",
      "Early stopping at epoch 360\n",
      "Training complete.\n",
      "Starting Round 291\n"
     ]
    },
    {
     "name": "stderr",
     "output_type": "stream",
     "text": [
      "dist_matrix: 100%|######################################################################| 9/9 [00:00<00:00, 147.93it/s]\n",
      "synth_matrix: 100%|######################################################################| 9/9 [00:00<00:00, 52.48it/s]\n",
      "r_index: 100%|##########################################################################| 4/4 [00:00<00:00, 108.65it/s]\n"
     ]
    },
    {
     "name": "stdout",
     "output_type": "stream",
     "text": [
      "Epoch 100, Train Loss: 0.1194, Val Loss: 1.9093\n",
      "Epoch 200, Train Loss: 0.1045, Val Loss: 1.9338\n",
      "Early stopping at epoch 216\n",
      "Training complete.\n",
      "Starting Round 292\n"
     ]
    },
    {
     "name": "stderr",
     "output_type": "stream",
     "text": [
      "dist_matrix: 100%|####################################################################| 11/11 [00:00<00:00, 117.96it/s]\n",
      "synth_matrix: 100%|###################################################################| 11/11 [00:00<00:00, 104.27it/s]\n",
      "dist_matrix: 100%|####################################################################| 12/12 [00:00<00:00, 148.78it/s]\n",
      "r_index: 100%|########################################################################| 10/10 [00:00<00:00, 112.20it/s]\n"
     ]
    },
    {
     "name": "stdout",
     "output_type": "stream",
     "text": [
      "Epoch 100, Train Loss: 0.1417, Val Loss: 75.3775\n",
      "Early stopping at epoch 145\n",
      "Training complete.\n",
      "Starting Round 293\n"
     ]
    },
    {
     "name": "stderr",
     "output_type": "stream",
     "text": [
      "dist_matrix: 100%|####################################################################| 11/11 [00:00<00:00, 136.22it/s]\n",
      "synth_matrix: 100%|###################################################################| 11/11 [00:00<00:00, 104.94it/s]\n",
      "r_index: 100%|########################################################################| 10/10 [00:00<00:00, 128.05it/s]\n"
     ]
    },
    {
     "name": "stdout",
     "output_type": "stream",
     "text": [
      "Epoch 100, Train Loss: 0.1812, Val Loss: 1.0845\n",
      "Epoch 200, Train Loss: 0.1488, Val Loss: 1.2457\n",
      "Early stopping at epoch 221\n",
      "Training complete.\n",
      "Starting Round 294\n"
     ]
    },
    {
     "name": "stderr",
     "output_type": "stream",
     "text": [
      "dist_matrix: 100%|######################################################################| 7/7 [00:00<00:00, 214.14it/s]\n",
      "synth_matrix: 100%|######################################################################| 7/7 [00:00<00:00, 39.15it/s]\n",
      "r_index: 100%|##########################################################################| 3/3 [00:00<00:00, 128.30it/s]\n"
     ]
    },
    {
     "name": "stdout",
     "output_type": "stream",
     "text": [
      "Epoch 100, Train Loss: 0.1525, Val Loss: 0.7730\n",
      "Epoch 200, Train Loss: 0.1274, Val Loss: 0.8391\n",
      "Epoch 300, Train Loss: 0.0964, Val Loss: 0.7057\n",
      "Early stopping at epoch 357\n",
      "Training complete.\n",
      "Starting Round 295\n"
     ]
    },
    {
     "name": "stderr",
     "output_type": "stream",
     "text": [
      "dist_matrix: 100%|######################################################################| 9/9 [00:00<00:00, 146.23it/s]\n",
      "synth_matrix: 100%|######################################################################| 9/9 [00:00<00:00, 56.74it/s]\n",
      "r_index: 100%|###########################################################################| 4/4 [00:00<00:00, 99.76it/s]\n"
     ]
    },
    {
     "name": "stdout",
     "output_type": "stream",
     "text": [
      "Epoch 100, Train Loss: 0.0997, Val Loss: 0.6850\n",
      "Early stopping at epoch 116\n",
      "Training complete.\n",
      "Starting Round 296\n"
     ]
    },
    {
     "name": "stderr",
     "output_type": "stream",
     "text": [
      "dist_matrix: 100%|####################################################################| 10/10 [00:00<00:00, 135.90it/s]\n",
      "synth_matrix: 100%|####################################################################| 10/10 [00:00<00:00, 56.82it/s]\n",
      "r_index: 100%|##########################################################################| 2/2 [00:00<00:00, 155.05it/s]\n"
     ]
    },
    {
     "name": "stdout",
     "output_type": "stream",
     "text": [
      "Epoch 100, Train Loss: 0.1433, Val Loss: 0.8444\n",
      "Early stopping at epoch 183\n",
      "Training complete.\n",
      "Starting Round 297\n"
     ]
    },
    {
     "name": "stderr",
     "output_type": "stream",
     "text": [
      "dist_matrix: 100%|######################################################################| 7/7 [00:00<00:00, 206.29it/s]\n",
      "synth_matrix: 100%|######################################################################| 7/7 [00:00<00:00, 37.06it/s]\n",
      "r_index: 100%|###########################################################################| 3/3 [00:00<00:00, 99.87it/s]\n"
     ]
    },
    {
     "name": "stdout",
     "output_type": "stream",
     "text": [
      "Epoch 100, Train Loss: 0.0976, Val Loss: 4.8973\n",
      "Early stopping at epoch 154\n",
      "Training complete.\n",
      "Starting Round 298\n"
     ]
    },
    {
     "name": "stderr",
     "output_type": "stream",
     "text": [
      "dist_matrix: 100%|######################################################################| 9/9 [00:00<00:00, 173.01it/s]\n",
      "synth_matrix: 100%|######################################################################| 9/9 [00:00<00:00, 53.45it/s]\n",
      "r_index: 100%|##########################################################################| 4/4 [00:00<00:00, 108.26it/s]\n"
     ]
    },
    {
     "name": "stdout",
     "output_type": "stream",
     "text": [
      "Epoch 100, Train Loss: 0.1019, Val Loss: 14.9830\n",
      "Epoch 200, Train Loss: 0.0907, Val Loss: 15.5454\n",
      "Early stopping at epoch 207\n",
      "Training complete.\n",
      "Starting Round 299\n"
     ]
    },
    {
     "name": "stderr",
     "output_type": "stream",
     "text": [
      "dist_matrix: 100%|######################################################################| 7/7 [00:00<00:00, 242.95it/s]\n",
      "synth_matrix: 100%|######################################################################| 7/7 [00:00<00:00, 33.44it/s]\n",
      "r_index: 100%|##########################################################################| 3/3 [00:00<00:00, 106.99it/s]\n"
     ]
    },
    {
     "name": "stdout",
     "output_type": "stream",
     "text": [
      "Epoch 100, Train Loss: 0.0927, Val Loss: 2.8122\n",
      "Early stopping at epoch 129\n",
      "Training complete.\n",
      "Starting Round 300\n"
     ]
    },
    {
     "name": "stderr",
     "output_type": "stream",
     "text": [
      "dist_matrix: 100%|####################################################################| 11/11 [00:00<00:00, 146.61it/s]\n",
      "synth_matrix: 100%|###################################################################| 11/11 [00:00<00:00, 105.50it/s]\n",
      "r_index: 100%|########################################################################| 10/10 [00:00<00:00, 113.60it/s]\n"
     ]
    },
    {
     "name": "stdout",
     "output_type": "stream",
     "text": [
      "Epoch 100, Train Loss: 0.0985, Val Loss: 0.6048\n",
      "Early stopping at epoch 196\n",
      "Training complete.\n",
      "Starting Round 301\n"
     ]
    },
    {
     "name": "stderr",
     "output_type": "stream",
     "text": [
      "dist_matrix: 100%|####################################################################| 10/10 [00:00<00:00, 138.73it/s]\n",
      "synth_matrix: 100%|####################################################################| 10/10 [00:00<00:00, 50.96it/s]\n",
      "r_index: 100%|###########################################################################| 2/2 [00:00<00:00, 80.62it/s]\n"
     ]
    },
    {
     "name": "stdout",
     "output_type": "stream",
     "text": [
      "Epoch 100, Train Loss: 0.1142, Val Loss: 1.1387\n",
      "Early stopping at epoch 165\n",
      "Training complete.\n",
      "Starting Round 302\n"
     ]
    },
    {
     "name": "stderr",
     "output_type": "stream",
     "text": [
      "dist_matrix: 100%|####################################################################| 10/10 [00:00<00:00, 159.99it/s]\n",
      "synth_matrix: 100%|####################################################################| 10/10 [00:00<00:00, 72.28it/s]\n",
      "r_index: 100%|###########################################################################| 2/2 [00:00<00:00, 84.90it/s]\n"
     ]
    },
    {
     "name": "stdout",
     "output_type": "stream",
     "text": [
      "Epoch 100, Train Loss: 0.1760, Val Loss: 5.0005\n",
      "Early stopping at epoch 124\n",
      "Training complete.\n",
      "Starting Round 303\n"
     ]
    },
    {
     "name": "stderr",
     "output_type": "stream",
     "text": [
      "dist_matrix: 100%|######################################################################| 7/7 [00:00<00:00, 210.70it/s]\n",
      "synth_matrix: 100%|######################################################################| 7/7 [00:00<00:00, 76.82it/s]\n",
      "dist_matrix: 100%|######################################################################| 8/8 [00:00<00:00, 204.85it/s]\n",
      "synth_matrix: 100%|#####################################################################| 8/8 [00:00<00:00, 110.16it/s]\n",
      "r_index: 100%|##########################################################################| 6/6 [00:00<00:00, 105.57it/s]\n"
     ]
    },
    {
     "name": "stdout",
     "output_type": "stream",
     "text": [
      "Epoch 100, Train Loss: 0.1026, Val Loss: 94.0631\n",
      "Epoch 00185: reducing learning rate of group 0 to 1.0000e-02.\n",
      "Early stopping at epoch 185\n",
      "Training complete.\n",
      "Starting Round 304\n"
     ]
    },
    {
     "name": "stderr",
     "output_type": "stream",
     "text": [
      "dist_matrix: 100%|####################################################################| 11/11 [00:00<00:00, 135.53it/s]\n",
      "synth_matrix: 100%|###################################################################| 11/11 [00:00<00:00, 123.91it/s]\n",
      "r_index: 100%|########################################################################| 10/10 [00:00<00:00, 136.18it/s]\n"
     ]
    },
    {
     "name": "stdout",
     "output_type": "stream",
     "text": [
      "Epoch 100, Train Loss: 0.1014, Val Loss: 2.6370\n",
      "Early stopping at epoch 159\n",
      "Training complete.\n",
      "Starting Round 305\n"
     ]
    },
    {
     "name": "stderr",
     "output_type": "stream",
     "text": [
      "dist_matrix: 100%|####################################################################| 10/10 [00:00<00:00, 162.80it/s]\n",
      "synth_matrix: 100%|####################################################################| 10/10 [00:00<00:00, 60.23it/s]\n",
      "r_index: 100%|##########################################################################| 2/2 [00:00<00:00, 108.63it/s]\n"
     ]
    },
    {
     "name": "stdout",
     "output_type": "stream",
     "text": [
      "Epoch 100, Train Loss: 0.1265, Val Loss: 6.4663\n",
      "Early stopping at epoch 169\n",
      "Training complete.\n",
      "Starting Round 306\n"
     ]
    },
    {
     "name": "stderr",
     "output_type": "stream",
     "text": [
      "dist_matrix: 100%|####################################################################| 13/13 [00:00<00:00, 132.77it/s]\n",
      "r_index: 100%|##########################################################################| 9/9 [00:00<00:00, 170.99it/s]\n",
      "dist_matrix: 100%|######################################################################| 8/8 [00:00<00:00, 224.00it/s]\n",
      "synth_matrix: 100%|#####################################################################| 8/8 [00:00<00:00, 126.97it/s]\n",
      "r_index: 100%|##########################################################################| 6/6 [00:00<00:00, 105.92it/s]\n"
     ]
    },
    {
     "name": "stdout",
     "output_type": "stream",
     "text": [
      "Epoch 100, Train Loss: 0.1253, Val Loss: 4.6457\n",
      "Early stopping at epoch 125\n",
      "Training complete.\n",
      "Starting Round 307\n"
     ]
    },
    {
     "name": "stderr",
     "output_type": "stream",
     "text": [
      "dist_matrix: 100%|######################################################################| 9/9 [00:00<00:00, 172.96it/s]\n",
      "synth_matrix: 100%|######################################################################| 9/9 [00:00<00:00, 55.13it/s]\n",
      "r_index: 100%|##########################################################################| 4/4 [00:00<00:00, 110.98it/s]\n"
     ]
    },
    {
     "name": "stdout",
     "output_type": "stream",
     "text": [
      "Epoch 100, Train Loss: 0.1468, Val Loss: 1.2039\n",
      "Early stopping at epoch 121\n",
      "Training complete.\n",
      "Starting Round 308\n"
     ]
    },
    {
     "name": "stderr",
     "output_type": "stream",
     "text": [
      "dist_matrix: 100%|######################################################################| 9/9 [00:00<00:00, 166.70it/s]\n",
      "synth_matrix: 100%|######################################################################| 9/9 [00:00<00:00, 56.91it/s]\n",
      "r_index: 100%|##########################################################################| 4/4 [00:00<00:00, 155.39it/s]\n"
     ]
    },
    {
     "name": "stdout",
     "output_type": "stream",
     "text": [
      "Epoch 100, Train Loss: 0.1106, Val Loss: 5.6953\n",
      "Early stopping at epoch 193\n",
      "Training complete.\n",
      "Starting Round 309\n",
      "SMOGN failed: redefine phi relevance function: all points are 1\n",
      "→ Using original data instead.\n",
      "Epoch 100, Train Loss: 0.1556, Val Loss: 1.8698\n",
      "Epoch 200, Train Loss: 0.1511, Val Loss: 1.8686\n",
      "Epoch 300, Train Loss: 0.1281, Val Loss: 1.8604\n",
      "Early stopping at epoch 351\n",
      "Training complete.\n",
      "Starting Round 310\n"
     ]
    },
    {
     "name": "stderr",
     "output_type": "stream",
     "text": [
      "dist_matrix: 100%|######################################################################| 7/7 [00:00<00:00, 213.75it/s]\n",
      "synth_matrix: 100%|######################################################################| 7/7 [00:00<00:00, 36.41it/s]\n",
      "r_index: 100%|##########################################################################| 3/3 [00:00<00:00, 103.78it/s]\n"
     ]
    },
    {
     "name": "stdout",
     "output_type": "stream",
     "text": [
      "Epoch 100, Train Loss: 0.1026, Val Loss: 0.8637\n",
      "Early stopping at epoch 185\n",
      "Training complete.\n",
      "Starting Round 311\n"
     ]
    },
    {
     "name": "stderr",
     "output_type": "stream",
     "text": [
      "dist_matrix: 100%|######################################################################| 9/9 [00:00<00:00, 178.96it/s]\n",
      "synth_matrix: 100%|######################################################################| 9/9 [00:00<00:00, 63.63it/s]\n",
      "r_index: 100%|##########################################################################| 4/4 [00:00<00:00, 119.57it/s]\n"
     ]
    },
    {
     "name": "stdout",
     "output_type": "stream",
     "text": [
      "Epoch 100, Train Loss: 0.1066, Val Loss: 1.0109\n",
      "Epoch 200, Train Loss: 0.0938, Val Loss: 0.9889\n",
      "Epoch 300, Train Loss: 0.0870, Val Loss: 1.0037\n",
      "Epoch 400, Train Loss: 0.0829, Val Loss: 1.0110\n",
      "Early stopping at epoch 405\n",
      "Training complete.\n",
      "Starting Round 312\n",
      "SMOGN failed: redefine phi relevance function: all points are 1\n",
      "→ Using original data instead.\n",
      "Epoch 100, Train Loss: 0.1401, Val Loss: 13.6706\n",
      "Early stopping at epoch 109\n",
      "Training complete.\n",
      "Starting Round 313\n"
     ]
    },
    {
     "name": "stderr",
     "output_type": "stream",
     "text": [
      "dist_matrix: 100%|######################################################################| 7/7 [00:00<00:00, 160.70it/s]\n",
      "synth_matrix: 100%|######################################################################| 7/7 [00:00<00:00, 33.64it/s]\n",
      "r_index: 100%|##########################################################################| 3/3 [00:00<00:00, 114.62it/s]\n"
     ]
    },
    {
     "name": "stdout",
     "output_type": "stream",
     "text": [
      "Epoch 100, Train Loss: 0.1119, Val Loss: 29.8206\n",
      "Epoch 200, Train Loss: 0.0972, Val Loss: 29.8143\n",
      "Early stopping at epoch 261\n",
      "Training complete.\n",
      "Starting Round 314\n"
     ]
    },
    {
     "name": "stderr",
     "output_type": "stream",
     "text": [
      "dist_matrix: 100%|######################################################################| 8/8 [00:00<00:00, 203.95it/s]\n",
      "synth_matrix: 100%|######################################################################| 8/8 [00:00<00:00, 39.50it/s]\n"
     ]
    },
    {
     "name": "stdout",
     "output_type": "stream",
     "text": [
      "Epoch 100, Train Loss: 0.1044, Val Loss: 1.3810\n",
      "Early stopping at epoch 197\n",
      "Training complete.\n",
      "Starting Round 315\n"
     ]
    },
    {
     "name": "stderr",
     "output_type": "stream",
     "text": [
      "dist_matrix: 100%|######################################################################| 9/9 [00:00<00:00, 175.56it/s]\n",
      "synth_matrix: 100%|######################################################################| 9/9 [00:00<00:00, 57.92it/s]\n",
      "r_index: 100%|##########################################################################| 4/4 [00:00<00:00, 102.45it/s]\n"
     ]
    },
    {
     "name": "stdout",
     "output_type": "stream",
     "text": [
      "Epoch 100, Train Loss: 0.1360, Val Loss: 11.1517\n",
      "Early stopping at epoch 122\n",
      "Training complete.\n",
      "Starting Round 316\n"
     ]
    },
    {
     "name": "stderr",
     "output_type": "stream",
     "text": [
      "dist_matrix: 100%|####################################################################| 10/10 [00:00<00:00, 153.15it/s]\n",
      "synth_matrix: 100%|####################################################################| 10/10 [00:00<00:00, 60.20it/s]\n",
      "r_index: 100%|##########################################################################| 2/2 [00:00<00:00, 109.22it/s]\n"
     ]
    },
    {
     "name": "stdout",
     "output_type": "stream",
     "text": [
      "Epoch 100, Train Loss: 0.1429, Val Loss: 0.8066\n",
      "Early stopping at epoch 120\n",
      "Training complete.\n",
      "Starting Round 317\n"
     ]
    },
    {
     "name": "stderr",
     "output_type": "stream",
     "text": [
      "dist_matrix: 100%|####################################################################| 10/10 [00:00<00:00, 145.63it/s]\n",
      "synth_matrix: 100%|####################################################################| 10/10 [00:00<00:00, 58.82it/s]\n",
      "r_index: 100%|##########################################################################| 2/2 [00:00<00:00, 106.69it/s]\n"
     ]
    },
    {
     "name": "stdout",
     "output_type": "stream",
     "text": [
      "Epoch 100, Train Loss: 0.1575, Val Loss: 1.4105\n",
      "Early stopping at epoch 165\n",
      "Training complete.\n",
      "Starting Round 318\n"
     ]
    },
    {
     "name": "stderr",
     "output_type": "stream",
     "text": [
      "dist_matrix: 100%|####################################################################| 10/10 [00:00<00:00, 157.12it/s]\n",
      "synth_matrix: 100%|####################################################################| 10/10 [00:00<00:00, 57.53it/s]\n",
      "r_index: 100%|##########################################################################| 2/2 [00:00<00:00, 146.61it/s]\n"
     ]
    },
    {
     "name": "stdout",
     "output_type": "stream",
     "text": [
      "Epoch 100, Train Loss: 0.1371, Val Loss: 1642.4252\n",
      "Epoch 00120: reducing learning rate of group 0 to 1.0000e-02.\n",
      "Early stopping at epoch 190\n",
      "Training complete.\n",
      "Starting Round 319\n"
     ]
    },
    {
     "name": "stderr",
     "output_type": "stream",
     "text": [
      "dist_matrix: 100%|######################################################################| 9/9 [00:00<00:00, 164.89it/s]\n",
      "synth_matrix: 100%|######################################################################| 9/9 [00:00<00:00, 56.77it/s]\n",
      "r_index: 100%|##########################################################################| 4/4 [00:00<00:00, 118.10it/s]\n"
     ]
    },
    {
     "name": "stdout",
     "output_type": "stream",
     "text": [
      "Epoch 100, Train Loss: 0.1079, Val Loss: 0.7358\n",
      "Early stopping at epoch 198\n",
      "Training complete.\n",
      "Starting Round 320\n"
     ]
    },
    {
     "name": "stderr",
     "output_type": "stream",
     "text": [
      "dist_matrix: 100%|####################################################################| 14/14 [00:00<00:00, 108.18it/s]\n",
      "synth_matrix: 100%|###################################################################| 14/14 [00:00<00:00, 145.79it/s]\n",
      "r_index: 100%|##########################################################################| 3/3 [00:00<00:00, 191.05it/s]\n"
     ]
    },
    {
     "name": "stdout",
     "output_type": "stream",
     "text": [
      "Epoch 100, Train Loss: 0.1502, Val Loss: 17.9057\n",
      "Epoch 200, Train Loss: 0.1288, Val Loss: 17.8925\n",
      "Early stopping at epoch 204\n",
      "Training complete.\n",
      "Starting Round 321\n"
     ]
    },
    {
     "name": "stderr",
     "output_type": "stream",
     "text": [
      "dist_matrix: 100%|####################################################################| 11/11 [00:00<00:00, 144.67it/s]\n",
      "synth_matrix: 100%|###################################################################| 11/11 [00:00<00:00, 110.49it/s]\n",
      "dist_matrix: 100%|######################################################################| 7/7 [00:00<00:00, 231.63it/s]\n",
      "synth_matrix: 100%|######################################################################| 7/7 [00:00<00:00, 61.84it/s]\n"
     ]
    },
    {
     "name": "stdout",
     "output_type": "stream",
     "text": [
      "Epoch 100, Train Loss: 0.1190, Val Loss: 2.6252\n",
      "Early stopping at epoch 137\n",
      "Training complete.\n",
      "Starting Round 322\n",
      "SMOGN failed: redefine phi relevance function: all points are 1\n",
      "→ Using original data instead.\n",
      "Epoch 100, Train Loss: 0.1560, Val Loss: 11.5527\n",
      "Epoch 200, Train Loss: 0.1280, Val Loss: 11.5932\n",
      "Epoch 00231: reducing learning rate of group 0 to 1.0000e-02.\n",
      "Early stopping at epoch 231\n",
      "Training complete.\n",
      "Starting Round 323\n"
     ]
    },
    {
     "name": "stderr",
     "output_type": "stream",
     "text": [
      "dist_matrix: 100%|####################################################################| 10/10 [00:00<00:00, 149.87it/s]\n",
      "synth_matrix: 100%|####################################################################| 10/10 [00:00<00:00, 57.96it/s]\n",
      "r_index: 100%|##########################################################################| 2/2 [00:00<00:00, 164.59it/s]\n"
     ]
    },
    {
     "name": "stdout",
     "output_type": "stream",
     "text": [
      "Epoch 100, Train Loss: 0.1008, Val Loss: 35.9795\n",
      "Epoch 00174: reducing learning rate of group 0 to 1.0000e-02.\n",
      "Early stopping at epoch 193\n",
      "Training complete.\n",
      "Starting Round 324\n"
     ]
    },
    {
     "name": "stderr",
     "output_type": "stream",
     "text": [
      "dist_matrix: 100%|######################################################################| 8/8 [00:00<00:00, 179.56it/s]\n",
      "synth_matrix: 100%|######################################################################| 8/8 [00:00<00:00, 35.83it/s]\n"
     ]
    },
    {
     "name": "stdout",
     "output_type": "stream",
     "text": [
      "Epoch 100, Train Loss: 0.1034, Val Loss: 6.8700\n",
      "Early stopping at epoch 197\n",
      "Training complete.\n",
      "Starting Round 325\n"
     ]
    },
    {
     "name": "stderr",
     "output_type": "stream",
     "text": [
      "dist_matrix: 100%|######################################################################| 9/9 [00:00<00:00, 159.23it/s]\n",
      "synth_matrix: 100%|######################################################################| 9/9 [00:00<00:00, 51.86it/s]\n",
      "r_index: 100%|##########################################################################| 4/4 [00:00<00:00, 120.67it/s]\n"
     ]
    },
    {
     "name": "stdout",
     "output_type": "stream",
     "text": [
      "Epoch 100, Train Loss: 0.1011, Val Loss: 1.3423\n",
      "Epoch 200, Train Loss: 0.0862, Val Loss: 1.3324\n",
      "Early stopping at epoch 218\n",
      "Training complete.\n",
      "Starting Round 326\n"
     ]
    },
    {
     "name": "stderr",
     "output_type": "stream",
     "text": [
      "dist_matrix: 100%|######################################################################| 9/9 [00:00<00:00, 178.56it/s]\n",
      "synth_matrix: 100%|######################################################################| 9/9 [00:00<00:00, 54.56it/s]\n",
      "r_index: 100%|##########################################################################| 4/4 [00:00<00:00, 111.32it/s]\n"
     ]
    },
    {
     "name": "stdout",
     "output_type": "stream",
     "text": [
      "Epoch 100, Train Loss: 0.1035, Val Loss: 31.1285\n",
      "Early stopping at epoch 199\n",
      "Training complete.\n",
      "Starting Round 327\n"
     ]
    },
    {
     "name": "stderr",
     "output_type": "stream",
     "text": [
      "dist_matrix: 100%|######################################################################| 8/8 [00:00<00:00, 187.37it/s]\n",
      "synth_matrix: 100%|######################################################################| 8/8 [00:00<00:00, 37.40it/s]\n"
     ]
    },
    {
     "name": "stdout",
     "output_type": "stream",
     "text": [
      "Epoch 100, Train Loss: 0.1083, Val Loss: 2.2859\n",
      "Epoch 200, Train Loss: 0.1050, Val Loss: 2.2800\n",
      "Epoch 300, Train Loss: 0.0954, Val Loss: 2.2747\n",
      "Epoch 400, Train Loss: 0.0880, Val Loss: 2.2803\n",
      "Epoch 500, Train Loss: 0.0841, Val Loss: 2.2860\n",
      "Epoch 600, Train Loss: 0.0851, Val Loss: 2.2918\n",
      "Epoch 700, Train Loss: 0.0845, Val Loss: 2.2681\n",
      "Epoch 800, Train Loss: 0.0791, Val Loss: 2.2808\n",
      "Early stopping at epoch 802\n",
      "Training complete.\n",
      "Starting Round 328\n",
      "SMOGN failed: redefine phi relevance function: all points are 1\n",
      "→ Using original data instead.\n",
      "Epoch 100, Train Loss: 0.1399, Val Loss: 1.0165\n",
      "Early stopping at epoch 179\n",
      "Training complete.\n",
      "Starting Round 329\n",
      "SMOGN failed: redefine phi relevance function: all points are 1\n",
      "→ Using original data instead.\n",
      "Epoch 100, Train Loss: 0.1480, Val Loss: 0.7085\n",
      "Early stopping at epoch 160\n",
      "Training complete.\n",
      "Starting Round 330\n"
     ]
    },
    {
     "name": "stderr",
     "output_type": "stream",
     "text": [
      "dist_matrix: 100%|######################################################################| 8/8 [00:00<00:00, 185.74it/s]\n",
      "synth_matrix: 100%|######################################################################| 8/8 [00:00<00:00, 31.80it/s]\n"
     ]
    },
    {
     "name": "stdout",
     "output_type": "stream",
     "text": [
      "Epoch 100, Train Loss: 0.0807, Val Loss: 0.6711\n",
      "Epoch 200, Train Loss: 0.0821, Val Loss: 0.6634\n",
      "Early stopping at epoch 215\n",
      "Training complete.\n",
      "Starting Round 331\n"
     ]
    },
    {
     "name": "stderr",
     "output_type": "stream",
     "text": [
      "dist_matrix: 100%|####################################################################| 10/10 [00:00<00:00, 160.96it/s]\n",
      "synth_matrix: 100%|####################################################################| 10/10 [00:00<00:00, 58.07it/s]\n",
      "r_index: 100%|##########################################################################| 2/2 [00:00<00:00, 307.94it/s]\n"
     ]
    },
    {
     "name": "stdout",
     "output_type": "stream",
     "text": [
      "Epoch 100, Train Loss: 0.1117, Val Loss: 1.8703\n",
      "Epoch 200, Train Loss: 0.1021, Val Loss: 1.8933\n",
      "Early stopping at epoch 210\n",
      "Training complete.\n",
      "Starting Round 332\n"
     ]
    },
    {
     "name": "stderr",
     "output_type": "stream",
     "text": [
      "dist_matrix: 100%|####################################################################| 12/12 [00:00<00:00, 115.20it/s]\n",
      "synth_matrix: 100%|###################################################################| 12/12 [00:00<00:00, 112.77it/s]\n",
      "r_index: 100%|##########################################################################| 7/7 [00:00<00:00, 134.57it/s]\n"
     ]
    },
    {
     "name": "stdout",
     "output_type": "stream",
     "text": [
      "Epoch 100, Train Loss: 0.1305, Val Loss: 0.6632\n",
      "Epoch 200, Train Loss: 0.1120, Val Loss: 0.6679\n",
      "Early stopping at epoch 273\n",
      "Training complete.\n",
      "Starting Round 333\n",
      "SMOGN failed: redefine phi relevance function: all points are 1\n",
      "→ Using original data instead.\n",
      "Epoch 100, Train Loss: 0.1587, Val Loss: 9.1967\n",
      "Early stopping at epoch 147\n",
      "Training complete.\n",
      "Starting Round 334\n"
     ]
    },
    {
     "name": "stderr",
     "output_type": "stream",
     "text": [
      "dist_matrix: 100%|####################################################################| 12/12 [00:00<00:00, 106.93it/s]\n",
      "synth_matrix: 100%|####################################################################| 12/12 [00:00<00:00, 96.08it/s]\n",
      "r_index: 100%|##########################################################################| 7/7 [00:00<00:00, 100.33it/s]\n"
     ]
    },
    {
     "name": "stdout",
     "output_type": "stream",
     "text": [
      "Epoch 100, Train Loss: 0.1037, Val Loss: 0.8138\n",
      "Early stopping at epoch 176\n",
      "Training complete.\n",
      "Starting Round 335\n",
      "SMOGN failed: redefine phi relevance function: all points are 1\n",
      "→ Using original data instead.\n",
      "Epoch 100, Train Loss: 0.1441, Val Loss: 1.1996\n",
      "Epoch 200, Train Loss: 0.1341, Val Loss: 1.1742\n",
      "Early stopping at epoch 289\n",
      "Training complete.\n",
      "Starting Round 336\n"
     ]
    },
    {
     "name": "stderr",
     "output_type": "stream",
     "text": [
      "dist_matrix: 100%|######################################################################| 9/9 [00:00<00:00, 162.71it/s]\n",
      "synth_matrix: 100%|######################################################################| 9/9 [00:00<00:00, 55.23it/s]\n",
      "r_index: 100%|##########################################################################| 4/4 [00:00<00:00, 106.67it/s]\n"
     ]
    },
    {
     "name": "stdout",
     "output_type": "stream",
     "text": [
      "Epoch 100, Train Loss: 0.1337, Val Loss: 0.7323\n",
      "Early stopping at epoch 197\n",
      "Training complete.\n",
      "Starting Round 337\n",
      "SMOGN failed: redefine phi relevance function: all points are 1\n",
      "→ Using original data instead.\n",
      "Epoch 100, Train Loss: 0.1498, Val Loss: 18.4740\n",
      "Epoch 200, Train Loss: 0.1341, Val Loss: 18.4995\n",
      "Early stopping at epoch 254\n",
      "Training complete.\n",
      "Starting Round 338\n"
     ]
    },
    {
     "name": "stderr",
     "output_type": "stream",
     "text": [
      "dist_matrix: 100%|######################################################################| 8/8 [00:00<00:00, 186.72it/s]\n",
      "synth_matrix: 100%|######################################################################| 8/8 [00:00<00:00, 40.45it/s]\n"
     ]
    },
    {
     "name": "stdout",
     "output_type": "stream",
     "text": [
      "Epoch 100, Train Loss: 0.1303, Val Loss: 1.0090\n",
      "Early stopping at epoch 126\n",
      "Training complete.\n",
      "Starting Round 339\n"
     ]
    },
    {
     "name": "stderr",
     "output_type": "stream",
     "text": [
      "dist_matrix: 100%|######################################################################| 9/9 [00:00<00:00, 157.48it/s]\n",
      "synth_matrix: 100%|######################################################################| 9/9 [00:00<00:00, 52.19it/s]\n",
      "r_index: 100%|##########################################################################| 4/4 [00:00<00:00, 106.95it/s]\n"
     ]
    },
    {
     "name": "stdout",
     "output_type": "stream",
     "text": [
      "Epoch 100, Train Loss: 0.1048, Val Loss: 0.9805\n",
      "Epoch 200, Train Loss: 0.0786, Val Loss: 0.9564\n",
      "Epoch 300, Train Loss: 0.0755, Val Loss: 0.9741\n",
      "Early stopping at epoch 353\n",
      "Training complete.\n",
      "Starting Round 340\n",
      "SMOGN failed: redefine phi relevance function: all points are 1\n",
      "→ Using original data instead.\n",
      "Epoch 100, Train Loss: 0.1534, Val Loss: 0.9267\n",
      "Epoch 200, Train Loss: 0.1407, Val Loss: 0.9095\n",
      "Epoch 300, Train Loss: 0.1340, Val Loss: 0.9297\n",
      "Early stopping at epoch 320\n",
      "Training complete.\n",
      "Starting Round 341\n"
     ]
    },
    {
     "name": "stderr",
     "output_type": "stream",
     "text": [
      "dist_matrix: 100%|####################################################################| 11/11 [00:00<00:00, 129.55it/s]\n",
      "synth_matrix: 100%|###################################################################| 11/11 [00:00<00:00, 116.67it/s]\n",
      "r_index: 100%|########################################################################| 10/10 [00:00<00:00, 118.61it/s]\n"
     ]
    },
    {
     "name": "stdout",
     "output_type": "stream",
     "text": [
      "Epoch 100, Train Loss: 0.1233, Val Loss: 0.7315\n",
      "Epoch 200, Train Loss: 0.1002, Val Loss: 0.7349\n",
      "Early stopping at epoch 283\n",
      "Training complete.\n",
      "Starting Round 342\n"
     ]
    },
    {
     "name": "stderr",
     "output_type": "stream",
     "text": [
      "dist_matrix: 100%|######################################################################| 9/9 [00:00<00:00, 193.79it/s]\n",
      "synth_matrix: 100%|######################################################################| 9/9 [00:00<00:00, 58.94it/s]\n",
      "r_index: 100%|##########################################################################| 4/4 [00:00<00:00, 130.80it/s]\n"
     ]
    },
    {
     "name": "stdout",
     "output_type": "stream",
     "text": [
      "Epoch 100, Train Loss: 0.0924, Val Loss: 14.8302\n",
      "Early stopping at epoch 119\n",
      "Training complete.\n",
      "Starting Round 343\n",
      "SMOGN failed: redefine phi relevance function: all points are 1\n",
      "→ Using original data instead.\n",
      "Epoch 100, Train Loss: 0.1515, Val Loss: 0.7770\n",
      "Early stopping at epoch 180\n",
      "Training complete.\n",
      "Starting Round 344\n"
     ]
    },
    {
     "name": "stderr",
     "output_type": "stream",
     "text": [
      "dist_matrix: 100%|######################################################################| 9/9 [00:00<00:00, 169.13it/s]\n",
      "synth_matrix: 100%|######################################################################| 9/9 [00:00<00:00, 50.84it/s]\n",
      "r_index: 100%|##########################################################################| 4/4 [00:00<00:00, 126.52it/s]\n"
     ]
    },
    {
     "name": "stdout",
     "output_type": "stream",
     "text": [
      "Epoch 100, Train Loss: 0.1333, Val Loss: 363.6428\n",
      "Epoch 00124: reducing learning rate of group 0 to 1.0000e-02.\n",
      "Early stopping at epoch 170\n",
      "Training complete.\n",
      "Starting Round 345\n",
      "SMOGN failed: redefine phi relevance function: all points are 1\n",
      "→ Using original data instead.\n",
      "Epoch 100, Train Loss: 0.1484, Val Loss: 7.1490\n",
      "Epoch 00182: reducing learning rate of group 0 to 1.0000e-02.\n",
      "Epoch 200, Train Loss: 0.1011, Val Loss: 7.1763\n",
      "Early stopping at epoch 209\n",
      "Training complete.\n",
      "Starting Round 346\n",
      "SMOGN failed: redefine phi relevance function: all points are 1\n",
      "→ Using original data instead.\n",
      "Epoch 100, Train Loss: 0.1658, Val Loss: 0.7863\n",
      "Epoch 200, Train Loss: 0.1411, Val Loss: 0.8033\n",
      "Early stopping at epoch 242\n",
      "Training complete.\n",
      "Starting Round 347\n"
     ]
    },
    {
     "name": "stderr",
     "output_type": "stream",
     "text": [
      "dist_matrix: 100%|######################################################################| 8/8 [00:00<00:00, 179.22it/s]\n",
      "synth_matrix: 100%|######################################################################| 8/8 [00:00<00:00, 37.88it/s]\n"
     ]
    },
    {
     "name": "stdout",
     "output_type": "stream",
     "text": [
      "Epoch 100, Train Loss: 0.1132, Val Loss: 1.4838\n",
      "Early stopping at epoch 163\n",
      "Training complete.\n",
      "Starting Round 348\n",
      "SMOGN failed: redefine phi relevance function: all points are 1\n",
      "→ Using original data instead.\n",
      "Epoch 100, Train Loss: 0.1454, Val Loss: 25.3435\n",
      "Epoch 200, Train Loss: 0.1283, Val Loss: 25.2663\n",
      "Epoch 300, Train Loss: 0.1233, Val Loss: 25.3153\n",
      "Epoch 00303: reducing learning rate of group 0 to 1.0000e-02.\n",
      "Early stopping at epoch 304\n",
      "Training complete.\n",
      "Starting Round 349\n",
      "SMOGN failed: redefine phi relevance function: all points are 1\n",
      "→ Using original data instead.\n",
      "Epoch 100, Train Loss: 0.1405, Val Loss: 2.9069\n",
      "Early stopping at epoch 148\n",
      "Training complete.\n",
      "Starting Round 350\n"
     ]
    },
    {
     "name": "stderr",
     "output_type": "stream",
     "text": [
      "dist_matrix: 100%|####################################################################| 11/11 [00:00<00:00, 134.53it/s]\n",
      "synth_matrix: 100%|###################################################################| 11/11 [00:00<00:00, 106.05it/s]\n",
      "r_index: 100%|########################################################################| 10/10 [00:00<00:00, 145.59it/s]\n"
     ]
    },
    {
     "name": "stdout",
     "output_type": "stream",
     "text": [
      "Epoch 100, Train Loss: 0.0971, Val Loss: 1.6029\n",
      "Early stopping at epoch 171\n",
      "Training complete.\n",
      "Starting Round 351\n"
     ]
    },
    {
     "name": "stderr",
     "output_type": "stream",
     "text": [
      "dist_matrix: 100%|######################################################################| 9/9 [00:00<00:00, 181.43it/s]\n",
      "synth_matrix: 100%|######################################################################| 9/9 [00:00<00:00, 62.42it/s]\n",
      "r_index: 100%|##########################################################################| 4/4 [00:00<00:00, 115.31it/s]\n"
     ]
    },
    {
     "name": "stdout",
     "output_type": "stream",
     "text": [
      "Epoch 100, Train Loss: 0.0999, Val Loss: 43.7862\n",
      "Early stopping at epoch 148\n",
      "Training complete.\n",
      "Starting Round 352\n"
     ]
    },
    {
     "name": "stderr",
     "output_type": "stream",
     "text": [
      "dist_matrix: 100%|######################################################################| 5/5 [00:00<00:00, 259.88it/s]\n",
      "synth_matrix: 100%|######################################################################| 5/5 [00:00<00:00, 24.16it/s]\n",
      "r_index: 100%|##########################################################################| 2/2 [00:00<00:00, 110.78it/s]\n"
     ]
    },
    {
     "name": "stdout",
     "output_type": "stream",
     "text": [
      "Epoch 100, Train Loss: 0.1068, Val Loss: 8.6226\n",
      "Epoch 200, Train Loss: 0.0957, Val Loss: 8.6389\n",
      "Epoch 300, Train Loss: 0.0831, Val Loss: 8.6414\n",
      "Epoch 00351: reducing learning rate of group 0 to 1.0000e-02.\n",
      "Early stopping at epoch 351\n",
      "Training complete.\n",
      "Starting Round 353\n",
      "SMOGN failed: redefine phi relevance function: all points are 1\n",
      "→ Using original data instead.\n",
      "Epoch 100, Train Loss: 0.1477, Val Loss: 0.7830\n",
      "Epoch 200, Train Loss: 0.1321, Val Loss: 0.7595\n",
      "Early stopping at epoch 265\n",
      "Training complete.\n",
      "Starting Round 354\n"
     ]
    },
    {
     "name": "stderr",
     "output_type": "stream",
     "text": [
      "dist_matrix: 100%|####################################################################| 10/10 [00:00<00:00, 138.88it/s]\n",
      "synth_matrix: 100%|####################################################################| 10/10 [00:00<00:00, 62.14it/s]\n",
      "r_index: 100%|##########################################################################| 2/2 [00:00<00:00, 104.71it/s]\n"
     ]
    },
    {
     "name": "stdout",
     "output_type": "stream",
     "text": [
      "Epoch 100, Train Loss: 0.1277, Val Loss: 40.1555\n",
      "Epoch 200, Train Loss: 0.1272, Val Loss: 40.1221\n",
      "Epoch 300, Train Loss: 0.0993, Val Loss: 40.0961\n",
      "Early stopping at epoch 323\n",
      "Training complete.\n",
      "Starting Round 355\n"
     ]
    },
    {
     "name": "stderr",
     "output_type": "stream",
     "text": [
      "dist_matrix: 100%|####################################################################| 10/10 [00:00<00:00, 165.91it/s]\n",
      "synth_matrix: 100%|####################################################################| 10/10 [00:00<00:00, 52.63it/s]\n",
      "r_index: 100%|##########################################################################| 2/2 [00:00<00:00, 150.22it/s]\n"
     ]
    },
    {
     "name": "stdout",
     "output_type": "stream",
     "text": [
      "Epoch 100, Train Loss: 0.1184, Val Loss: 0.7354\n",
      "Epoch 200, Train Loss: 0.0858, Val Loss: 0.7452\n",
      "Early stopping at epoch 204\n",
      "Training complete.\n",
      "Starting Round 356\n",
      "SMOGN failed: redefine phi relevance function: all points are 1\n",
      "→ Using original data instead.\n",
      "Epoch 100, Train Loss: 0.1445, Val Loss: 3.6125\n",
      "Epoch 00117: reducing learning rate of group 0 to 1.0000e-02.\n",
      "Early stopping at epoch 128\n",
      "Training complete.\n",
      "Starting Round 357\n"
     ]
    },
    {
     "name": "stderr",
     "output_type": "stream",
     "text": [
      "dist_matrix: 100%|######################################################################| 8/8 [00:00<00:00, 195.75it/s]\n",
      "synth_matrix: 100%|######################################################################| 8/8 [00:00<00:00, 39.67it/s]\n"
     ]
    },
    {
     "name": "stdout",
     "output_type": "stream",
     "text": [
      "Epoch 100, Train Loss: 0.0894, Val Loss: 9.8357\n",
      "Early stopping at epoch 104\n",
      "Training complete.\n",
      "Starting Round 358\n",
      "SMOGN failed: redefine phi relevance function: all points are 1\n",
      "→ Using original data instead.\n",
      "Epoch 100, Train Loss: 0.1299, Val Loss: 2.3126\n",
      "Early stopping at epoch 121\n",
      "Training complete.\n",
      "Starting Round 359\n"
     ]
    },
    {
     "name": "stderr",
     "output_type": "stream",
     "text": [
      "dist_matrix: 100%|####################################################################| 11/11 [00:00<00:00, 140.72it/s]\n",
      "synth_matrix: 100%|###################################################################| 11/11 [00:00<00:00, 111.36it/s]\n",
      "r_index: 100%|########################################################################| 10/10 [00:00<00:00, 150.48it/s]\n"
     ]
    },
    {
     "name": "stdout",
     "output_type": "stream",
     "text": [
      "Epoch 100, Train Loss: 0.1858, Val Loss: 3.7771\n",
      "Early stopping at epoch 119\n",
      "Training complete.\n",
      "Starting Round 360\n"
     ]
    },
    {
     "name": "stderr",
     "output_type": "stream",
     "text": [
      "dist_matrix: 100%|####################################################################| 11/11 [00:00<00:00, 158.79it/s]\n",
      "synth_matrix: 100%|###################################################################| 11/11 [00:00<00:00, 140.87it/s]\n",
      "r_index: 100%|########################################################################| 10/10 [00:00<00:00, 125.41it/s]\n"
     ]
    },
    {
     "name": "stdout",
     "output_type": "stream",
     "text": [
      "Epoch 100, Train Loss: 0.1084, Val Loss: 4.8966\n",
      "Early stopping at epoch 176\n",
      "Training complete.\n",
      "Starting Round 361\n"
     ]
    },
    {
     "name": "stderr",
     "output_type": "stream",
     "text": [
      "dist_matrix: 100%|####################################################################| 10/10 [00:00<00:00, 112.07it/s]\n",
      "synth_matrix: 100%|####################################################################| 10/10 [00:00<00:00, 62.65it/s]\n",
      "r_index: 100%|##########################################################################| 2/2 [00:00<00:00, 112.34it/s]\n"
     ]
    },
    {
     "name": "stdout",
     "output_type": "stream",
     "text": [
      "Epoch 100, Train Loss: 0.1320, Val Loss: 174.9108\n",
      "Epoch 00125: reducing learning rate of group 0 to 1.0000e-02.\n",
      "Early stopping at epoch 191\n",
      "Training complete.\n",
      "Starting Round 362\n"
     ]
    },
    {
     "name": "stderr",
     "output_type": "stream",
     "text": [
      "dist_matrix: 100%|####################################################################| 10/10 [00:00<00:00, 152.32it/s]\n",
      "synth_matrix: 100%|####################################################################| 10/10 [00:00<00:00, 54.18it/s]\n",
      "r_index: 100%|##########################################################################| 2/2 [00:00<00:00, 113.87it/s]\n"
     ]
    },
    {
     "name": "stdout",
     "output_type": "stream",
     "text": [
      "Epoch 100, Train Loss: 0.1182, Val Loss: 0.7490\n",
      "Epoch 200, Train Loss: 0.0824, Val Loss: 0.7266\n",
      "Early stopping at epoch 213\n",
      "Training complete.\n",
      "Starting Round 363\n"
     ]
    },
    {
     "name": "stderr",
     "output_type": "stream",
     "text": [
      "dist_matrix: 100%|####################################################################| 10/10 [00:00<00:00, 155.44it/s]\n",
      "synth_matrix: 100%|####################################################################| 10/10 [00:00<00:00, 61.85it/s]\n",
      "r_index: 100%|##########################################################################| 2/2 [00:00<00:00, 115.08it/s]\n"
     ]
    },
    {
     "name": "stdout",
     "output_type": "stream",
     "text": [
      "Epoch 100, Train Loss: 0.1390, Val Loss: 1.7424\n",
      "Early stopping at epoch 132\n",
      "Training complete.\n",
      "Starting Round 364\n",
      "SMOGN failed: redefine phi relevance function: all points are 1\n",
      "→ Using original data instead.\n",
      "Epoch 100, Train Loss: 0.1320, Val Loss: 286.5025\n",
      "Epoch 00197: reducing learning rate of group 0 to 1.0000e-02.\n",
      "Epoch 200, Train Loss: 0.1161, Val Loss: 286.5086\n",
      "Epoch 00298: reducing learning rate of group 0 to 1.0000e-03.\n",
      "Epoch 300, Train Loss: 0.0802, Val Loss: 286.4923\n",
      "Early stopping at epoch 365\n",
      "Training complete.\n",
      "Starting Round 365\n"
     ]
    },
    {
     "name": "stderr",
     "output_type": "stream",
     "text": [
      "dist_matrix: 100%|######################################################################| 5/5 [00:00<00:00, 270.26it/s]\n",
      "synth_matrix: 100%|######################################################################| 5/5 [00:00<00:00, 21.34it/s]\n",
      "r_index: 100%|##########################################################################| 2/2 [00:00<00:00, 114.87it/s]\n"
     ]
    },
    {
     "name": "stdout",
     "output_type": "stream",
     "text": [
      "Epoch 100, Train Loss: 0.1340, Val Loss: 84.3273\n",
      "Early stopping at epoch 176\n",
      "Training complete.\n",
      "Starting Round 366\n"
     ]
    },
    {
     "name": "stderr",
     "output_type": "stream",
     "text": [
      "dist_matrix: 100%|######################################################################| 9/9 [00:00<00:00, 152.73it/s]\n",
      "synth_matrix: 100%|######################################################################| 9/9 [00:00<00:00, 55.67it/s]\n",
      "r_index: 100%|##########################################################################| 4/4 [00:00<00:00, 116.31it/s]\n"
     ]
    },
    {
     "name": "stdout",
     "output_type": "stream",
     "text": [
      "Epoch 100, Train Loss: 0.0945, Val Loss: 25.5887\n",
      "Epoch 00162: reducing learning rate of group 0 to 1.0000e-02.\n",
      "Early stopping at epoch 162\n",
      "Training complete.\n",
      "Starting Round 367\n"
     ]
    },
    {
     "name": "stderr",
     "output_type": "stream",
     "text": [
      "dist_matrix: 100%|######################################################################| 9/9 [00:00<00:00, 150.69it/s]\n",
      "synth_matrix: 100%|######################################################################| 9/9 [00:00<00:00, 53.88it/s]\n",
      "r_index: 100%|##########################################################################| 4/4 [00:00<00:00, 127.32it/s]\n"
     ]
    },
    {
     "name": "stdout",
     "output_type": "stream",
     "text": [
      "Epoch 100, Train Loss: 0.1230, Val Loss: 1.2201\n",
      "Epoch 200, Train Loss: 0.1058, Val Loss: 1.2004\n",
      "Early stopping at epoch 268\n",
      "Training complete.\n",
      "Starting Round 368\n",
      "SMOGN failed: redefine phi relevance function: all points are 1\n",
      "→ Using original data instead.\n",
      "Epoch 100, Train Loss: 0.1602, Val Loss: 4.9198\n",
      "Early stopping at epoch 121\n",
      "Training complete.\n",
      "Starting Round 369\n"
     ]
    },
    {
     "name": "stderr",
     "output_type": "stream",
     "text": [
      "dist_matrix: 100%|######################################################################| 8/8 [00:00<00:00, 179.86it/s]\n",
      "synth_matrix: 100%|######################################################################| 8/8 [00:00<00:00, 35.52it/s]\n"
     ]
    },
    {
     "name": "stdout",
     "output_type": "stream",
     "text": [
      "Epoch 100, Train Loss: 0.0851, Val Loss: 14.1807\n",
      "Early stopping at epoch 124\n",
      "Training complete.\n",
      "Starting Round 370\n"
     ]
    },
    {
     "name": "stderr",
     "output_type": "stream",
     "text": [
      "dist_matrix: 100%|####################################################################| 11/11 [00:00<00:00, 138.03it/s]\n",
      "synth_matrix: 100%|###################################################################| 11/11 [00:00<00:00, 118.18it/s]\n",
      "r_index: 100%|########################################################################| 10/10 [00:00<00:00, 135.51it/s]\n"
     ]
    },
    {
     "name": "stdout",
     "output_type": "stream",
     "text": [
      "Epoch 100, Train Loss: 0.1085, Val Loss: 0.5857\n",
      "Epoch 200, Train Loss: 0.1040, Val Loss: 0.6149\n",
      "Early stopping at epoch 271\n",
      "Training complete.\n",
      "Starting Round 371\n"
     ]
    },
    {
     "name": "stderr",
     "output_type": "stream",
     "text": [
      "dist_matrix: 100%|######################################################################| 6/6 [00:00<00:00, 253.36it/s]\n",
      "synth_matrix: 100%|######################################################################| 6/6 [00:00<00:00, 28.36it/s]\n",
      "r_index: 100%|##########################################################################| 1/1 [00:00<00:00, 102.24it/s]\n"
     ]
    },
    {
     "name": "stdout",
     "output_type": "stream",
     "text": [
      "Epoch 100, Train Loss: 0.1819, Val Loss: 0.9513\n",
      "Early stopping at epoch 125\n",
      "Training complete.\n",
      "Starting Round 372\n"
     ]
    },
    {
     "name": "stderr",
     "output_type": "stream",
     "text": [
      "dist_matrix: 100%|####################################################################| 11/11 [00:00<00:00, 139.65it/s]\n",
      "synth_matrix: 100%|###################################################################| 11/11 [00:00<00:00, 135.36it/s]\n",
      "r_index: 100%|########################################################################| 10/10 [00:00<00:00, 152.60it/s]\n"
     ]
    },
    {
     "name": "stdout",
     "output_type": "stream",
     "text": [
      "Epoch 100, Train Loss: 0.1341, Val Loss: 3.2610\n",
      "Early stopping at epoch 114\n",
      "Training complete.\n",
      "Starting Round 373\n"
     ]
    },
    {
     "name": "stderr",
     "output_type": "stream",
     "text": [
      "dist_matrix: 100%|####################################################################| 10/10 [00:00<00:00, 161.84it/s]\n",
      "synth_matrix: 100%|####################################################################| 10/10 [00:00<00:00, 55.70it/s]\n",
      "r_index: 100%|##########################################################################| 2/2 [00:00<00:00, 110.81it/s]\n"
     ]
    },
    {
     "name": "stdout",
     "output_type": "stream",
     "text": [
      "Epoch 100, Train Loss: 0.1039, Val Loss: 0.6848\n",
      "Epoch 200, Train Loss: 0.0767, Val Loss: 0.6615\n",
      "Epoch 300, Train Loss: 0.0788, Val Loss: 0.6659\n",
      "Early stopping at epoch 301\n",
      "Training complete.\n",
      "Starting Round 374\n"
     ]
    },
    {
     "name": "stderr",
     "output_type": "stream",
     "text": [
      "dist_matrix: 100%|######################################################################| 6/6 [00:00<00:00, 245.82it/s]\n",
      "synth_matrix: 100%|######################################################################| 6/6 [00:00<00:00, 26.88it/s]\n",
      "r_index: 100%|##########################################################################| 1/1 [00:00<00:00, 101.72it/s]\n"
     ]
    },
    {
     "name": "stdout",
     "output_type": "stream",
     "text": [
      "Epoch 100, Train Loss: 0.1050, Val Loss: 2.6899\n",
      "Early stopping at epoch 161\n",
      "Training complete.\n",
      "Starting Round 375\n"
     ]
    },
    {
     "name": "stderr",
     "output_type": "stream",
     "text": [
      "dist_matrix: 100%|######################################################################| 8/8 [00:00<00:00, 206.23it/s]\n",
      "synth_matrix: 100%|######################################################################| 8/8 [00:00<00:00, 34.49it/s]\n"
     ]
    },
    {
     "name": "stdout",
     "output_type": "stream",
     "text": [
      "Epoch 100, Train Loss: 0.1051, Val Loss: 13.9697\n",
      "Early stopping at epoch 125\n",
      "Training complete.\n",
      "Starting Round 376\n"
     ]
    },
    {
     "name": "stderr",
     "output_type": "stream",
     "text": [
      "dist_matrix: 100%|######################################################################| 9/9 [00:00<00:00, 161.09it/s]\n",
      "synth_matrix: 100%|######################################################################| 9/9 [00:00<00:00, 51.22it/s]\n",
      "r_index: 100%|##########################################################################| 4/4 [00:00<00:00, 129.79it/s]\n"
     ]
    },
    {
     "name": "stdout",
     "output_type": "stream",
     "text": [
      "Epoch 100, Train Loss: 0.1409, Val Loss: 4.3409\n",
      "Epoch 200, Train Loss: 0.1213, Val Loss: 4.3165\n",
      "Early stopping at epoch 229\n",
      "Training complete.\n",
      "Starting Round 377\n"
     ]
    },
    {
     "name": "stderr",
     "output_type": "stream",
     "text": [
      "dist_matrix: 100%|####################################################################| 11/11 [00:00<00:00, 136.34it/s]\n",
      "synth_matrix: 100%|###################################################################| 11/11 [00:00<00:00, 114.93it/s]\n",
      "r_index: 100%|########################################################################| 10/10 [00:00<00:00, 126.92it/s]\n"
     ]
    },
    {
     "name": "stdout",
     "output_type": "stream",
     "text": [
      "Epoch 100, Train Loss: 0.1195, Val Loss: 3.7977\n",
      "Epoch 200, Train Loss: 0.1045, Val Loss: 3.8097\n",
      "Epoch 300, Train Loss: 0.1028, Val Loss: 3.8581\n",
      "Early stopping at epoch 337\n",
      "Training complete.\n",
      "Starting Round 378\n",
      "SMOGN failed: redefine phi relevance function: all points are 1\n",
      "→ Using original data instead.\n",
      "Epoch 100, Train Loss: 0.1397, Val Loss: 2.2095\n",
      "Epoch 200, Train Loss: 0.1327, Val Loss: 2.2693\n",
      "Early stopping at epoch 208\n",
      "Training complete.\n",
      "Starting Round 379\n"
     ]
    },
    {
     "name": "stderr",
     "output_type": "stream",
     "text": [
      "dist_matrix: 100%|######################################################################| 9/9 [00:00<00:00, 156.89it/s]\n",
      "synth_matrix: 100%|######################################################################| 9/9 [00:00<00:00, 60.01it/s]\n",
      "r_index: 100%|##########################################################################| 4/4 [00:00<00:00, 105.61it/s]\n"
     ]
    },
    {
     "name": "stdout",
     "output_type": "stream",
     "text": [
      "Epoch 100, Train Loss: 0.0868, Val Loss: 226.3411\n",
      "Epoch 00174: reducing learning rate of group 0 to 1.0000e-02.\n",
      "Early stopping at epoch 199\n",
      "Training complete.\n",
      "Starting Round 380\n",
      "SMOGN failed: redefine phi relevance function: all points are 1\n",
      "→ Using original data instead.\n",
      "Epoch 100, Train Loss: 0.1454, Val Loss: 3.0298\n",
      "Epoch 200, Train Loss: 0.1388, Val Loss: 3.0528\n",
      "Early stopping at epoch 264\n",
      "Training complete.\n",
      "Starting Round 381\n"
     ]
    },
    {
     "name": "stderr",
     "output_type": "stream",
     "text": [
      "dist_matrix: 100%|######################################################################| 9/9 [00:00<00:00, 145.07it/s]\n",
      "synth_matrix: 100%|######################################################################| 9/9 [00:00<00:00, 50.24it/s]\n",
      "r_index: 100%|###########################################################################| 4/4 [00:00<00:00, 92.97it/s]\n"
     ]
    },
    {
     "name": "stdout",
     "output_type": "stream",
     "text": [
      "Epoch 100, Train Loss: 0.1117, Val Loss: 6.5180\n",
      "Epoch 200, Train Loss: 0.1026, Val Loss: 6.5307\n",
      "Epoch 300, Train Loss: 0.0870, Val Loss: 6.4972\n",
      "Early stopping at epoch 330\n",
      "Training complete.\n",
      "Starting Round 382\n"
     ]
    },
    {
     "name": "stderr",
     "output_type": "stream",
     "text": [
      "dist_matrix: 100%|####################################################################| 10/10 [00:00<00:00, 130.68it/s]\n",
      "synth_matrix: 100%|####################################################################| 10/10 [00:00<00:00, 56.62it/s]\n",
      "r_index: 100%|##########################################################################| 2/2 [00:00<00:00, 107.71it/s]\n"
     ]
    },
    {
     "name": "stdout",
     "output_type": "stream",
     "text": [
      "Epoch 100, Train Loss: 0.1385, Val Loss: 1.1696\n",
      "Early stopping at epoch 118\n",
      "Training complete.\n",
      "Starting Round 383\n",
      "SMOGN failed: redefine phi relevance function: all points are 1\n",
      "→ Using original data instead.\n",
      "Epoch 100, Train Loss: 0.1531, Val Loss: 1.5558\n",
      "Epoch 200, Train Loss: 0.1465, Val Loss: 1.9510\n",
      "Early stopping at epoch 201\n",
      "Training complete.\n",
      "Starting Round 384\n"
     ]
    },
    {
     "name": "stderr",
     "output_type": "stream",
     "text": [
      "dist_matrix: 100%|######################################################################| 9/9 [00:00<00:00, 138.00it/s]\n",
      "synth_matrix: 100%|#####################################################################| 9/9 [00:00<00:00, 103.88it/s]\n",
      "r_index: 100%|##########################################################################| 4/4 [00:00<00:00, 101.93it/s]\n",
      "dist_matrix: 100%|####################################################################| 11/11 [00:00<00:00, 151.22it/s]\n",
      "synth_matrix: 100%|###################################################################| 11/11 [00:00<00:00, 147.02it/s]\n"
     ]
    },
    {
     "name": "stdout",
     "output_type": "stream",
     "text": [
      "Epoch 100, Train Loss: 0.1116, Val Loss: 6.0054\n",
      "Early stopping at epoch 127\n",
      "Training complete.\n",
      "Starting Round 385\n"
     ]
    },
    {
     "name": "stderr",
     "output_type": "stream",
     "text": [
      "dist_matrix: 100%|####################################################################| 10/10 [00:00<00:00, 148.65it/s]\n",
      "synth_matrix: 100%|####################################################################| 10/10 [00:00<00:00, 53.39it/s]\n",
      "r_index: 100%|##########################################################################| 2/2 [00:00<00:00, 320.59it/s]\n"
     ]
    },
    {
     "name": "stdout",
     "output_type": "stream",
     "text": [
      "Epoch 100, Train Loss: 0.1144, Val Loss: 1.1331\n",
      "Epoch 200, Train Loss: 0.0980, Val Loss: 1.1087\n",
      "Early stopping at epoch 247\n",
      "Training complete.\n",
      "Starting Round 386\n"
     ]
    },
    {
     "name": "stderr",
     "output_type": "stream",
     "text": [
      "dist_matrix: 100%|####################################################################| 10/10 [00:00<00:00, 165.33it/s]\n",
      "synth_matrix: 100%|###################################################################| 10/10 [00:00<00:00, 110.39it/s]\n",
      "r_index: 100%|###########################################################################| 2/2 [00:00<00:00, 98.88it/s]\n",
      "dist_matrix: 100%|####################################################################| 10/10 [00:00<00:00, 173.88it/s]\n",
      "synth_matrix: 100%|###################################################################| 10/10 [00:00<00:00, 121.11it/s]\n",
      "r_index: 100%|##########################################################################| 2/2 [00:00<00:00, 171.39it/s]\n"
     ]
    },
    {
     "name": "stdout",
     "output_type": "stream",
     "text": [
      "Epoch 100, Train Loss: 0.1071, Val Loss: 0.8504\n",
      "Early stopping at epoch 173\n",
      "Training complete.\n",
      "Starting Round 387\n"
     ]
    },
    {
     "name": "stderr",
     "output_type": "stream",
     "text": [
      "dist_matrix: 100%|######################################################################| 8/8 [00:00<00:00, 193.23it/s]\n",
      "synth_matrix: 100%|#####################################################################| 8/8 [00:00<00:00, 107.65it/s]\n",
      "r_index: 100%|###########################################################################| 6/6 [00:00<00:00, 92.95it/s]\n",
      "dist_matrix: 100%|######################################################################| 6/6 [00:00<00:00, 285.20it/s]\n",
      "synth_matrix: 100%|######################################################################| 6/6 [00:00<00:00, 55.20it/s]\n",
      "r_index: 100%|##########################################################################| 3/3 [00:00<00:00, 111.10it/s]\n"
     ]
    },
    {
     "name": "stdout",
     "output_type": "stream",
     "text": [
      "Epoch 100, Train Loss: 0.1097, Val Loss: 52.3255\n",
      "Epoch 200, Train Loss: 0.0900, Val Loss: 52.3068\n",
      "Epoch 00232: reducing learning rate of group 0 to 1.0000e-02.\n",
      "Early stopping at epoch 298\n",
      "Training complete.\n",
      "Starting Round 388\n",
      "SMOGN failed: redefine phi relevance function: all points are 1\n",
      "→ Using original data instead.\n",
      "Epoch 100, Train Loss: 0.1483, Val Loss: 2235.7725\n",
      "Epoch 00147: reducing learning rate of group 0 to 1.0000e-02.\n",
      "Epoch 200, Train Loss: 0.0945, Val Loss: 2235.7698\n",
      "Early stopping at epoch 215\n",
      "Training complete.\n",
      "Starting Round 389\n"
     ]
    },
    {
     "name": "stderr",
     "output_type": "stream",
     "text": [
      "dist_matrix: 100%|######################################################################| 9/9 [00:00<00:00, 137.06it/s]\n",
      "synth_matrix: 100%|######################################################################| 9/9 [00:00<00:00, 48.61it/s]\n",
      "r_index: 100%|##########################################################################| 4/4 [00:00<00:00, 107.86it/s]\n"
     ]
    },
    {
     "name": "stdout",
     "output_type": "stream",
     "text": [
      "Epoch 100, Train Loss: 0.0905, Val Loss: 16.0792\n",
      "Early stopping at epoch 127\n",
      "Training complete.\n",
      "Starting Round 390\n",
      "SMOGN failed: redefine phi relevance function: all points are 1\n",
      "→ Using original data instead.\n",
      "Epoch 100, Train Loss: 0.1506, Val Loss: 0.7383\n",
      "Epoch 200, Train Loss: 0.1211, Val Loss: 0.7445\n",
      "Early stopping at epoch 235\n",
      "Training complete.\n",
      "Starting Round 391\n",
      "SMOGN failed: redefine phi relevance function: all points are 1\n",
      "→ Using original data instead.\n",
      "Epoch 100, Train Loss: 0.1388, Val Loss: 1.0376\n",
      "Early stopping at epoch 189\n",
      "Training complete.\n",
      "Starting Round 392\n"
     ]
    },
    {
     "name": "stderr",
     "output_type": "stream",
     "text": [
      "dist_matrix: 100%|######################################################################| 8/8 [00:00<00:00, 191.19it/s]\n",
      "synth_matrix: 100%|######################################################################| 8/8 [00:00<00:00, 36.77it/s]\n"
     ]
    },
    {
     "name": "stdout",
     "output_type": "stream",
     "text": [
      "Epoch 100, Train Loss: 0.1157, Val Loss: 3.7785\n",
      "Early stopping at epoch 147\n",
      "Training complete.\n",
      "Starting Round 393\n"
     ]
    },
    {
     "name": "stderr",
     "output_type": "stream",
     "text": [
      "dist_matrix: 100%|####################################################################| 11/11 [00:00<00:00, 131.60it/s]\n",
      "synth_matrix: 100%|###################################################################| 11/11 [00:00<00:00, 105.79it/s]\n",
      "r_index: 100%|########################################################################| 10/10 [00:00<00:00, 105.98it/s]\n"
     ]
    },
    {
     "name": "stdout",
     "output_type": "stream",
     "text": [
      "Epoch 100, Train Loss: 0.1384, Val Loss: 0.9743\n",
      "Early stopping at epoch 120\n",
      "Training complete.\n",
      "Starting Round 394\n"
     ]
    },
    {
     "name": "stderr",
     "output_type": "stream",
     "text": [
      "dist_matrix: 100%|######################################################################| 9/9 [00:00<00:00, 172.78it/s]\n",
      "synth_matrix: 100%|######################################################################| 9/9 [00:00<00:00, 49.65it/s]\n",
      "r_index: 100%|##########################################################################| 4/4 [00:00<00:00, 105.29it/s]\n"
     ]
    },
    {
     "name": "stdout",
     "output_type": "stream",
     "text": [
      "Epoch 100, Train Loss: 0.0798, Val Loss: 5.9760\n",
      "Early stopping at epoch 118\n",
      "Training complete.\n",
      "Starting Round 395\n"
     ]
    },
    {
     "name": "stderr",
     "output_type": "stream",
     "text": [
      "dist_matrix: 100%|######################################################################| 8/8 [00:00<00:00, 182.69it/s]\n",
      "synth_matrix: 100%|#####################################################################| 8/8 [00:00<00:00, 120.92it/s]\n",
      "r_index: 100%|##########################################################################| 6/6 [00:00<00:00, 115.76it/s]\n",
      "dist_matrix: 100%|####################################################################| 12/12 [00:00<00:00, 148.61it/s]\n",
      "r_index: 100%|########################################################################| 10/10 [00:00<00:00, 134.71it/s]\n"
     ]
    },
    {
     "name": "stdout",
     "output_type": "stream",
     "text": [
      "Epoch 100, Train Loss: 0.1118, Val Loss: 4.4127\n",
      "Early stopping at epoch 188\n",
      "Training complete.\n",
      "Starting Round 396\n"
     ]
    },
    {
     "name": "stderr",
     "output_type": "stream",
     "text": [
      "dist_matrix: 100%|######################################################################| 9/9 [00:00<00:00, 137.52it/s]\n",
      "synth_matrix: 100%|######################################################################| 9/9 [00:00<00:00, 51.02it/s]\n",
      "r_index: 100%|###########################################################################| 4/4 [00:00<00:00, 88.25it/s]\n"
     ]
    },
    {
     "name": "stdout",
     "output_type": "stream",
     "text": [
      "Epoch 100, Train Loss: 0.0902, Val Loss: 0.7082\n",
      "Early stopping at epoch 120\n",
      "Training complete.\n",
      "Starting Round 397\n"
     ]
    },
    {
     "name": "stderr",
     "output_type": "stream",
     "text": [
      "dist_matrix: 100%|####################################################################| 11/11 [00:00<00:00, 128.53it/s]\n",
      "synth_matrix: 100%|###################################################################| 11/11 [00:00<00:00, 110.24it/s]\n",
      "r_index: 100%|########################################################################| 10/10 [00:00<00:00, 106.18it/s]\n"
     ]
    },
    {
     "name": "stdout",
     "output_type": "stream",
     "text": [
      "Epoch 100, Train Loss: 0.0946, Val Loss: 0.8927\n",
      "Epoch 200, Train Loss: 0.0880, Val Loss: 0.8045\n",
      "Epoch 300, Train Loss: 0.0819, Val Loss: 0.7847\n",
      "Early stopping at epoch 374\n",
      "Training complete.\n",
      "Starting Round 398\n"
     ]
    },
    {
     "name": "stderr",
     "output_type": "stream",
     "text": [
      "dist_matrix: 100%|######################################################################| 8/8 [00:00<00:00, 148.22it/s]\n",
      "synth_matrix: 100%|######################################################################| 8/8 [00:00<00:00, 31.98it/s]\n"
     ]
    },
    {
     "name": "stdout",
     "output_type": "stream",
     "text": [
      "Epoch 100, Train Loss: 0.1380, Val Loss: 0.8124\n",
      "Early stopping at epoch 140\n",
      "Training complete.\n",
      "Starting Round 399\n"
     ]
    },
    {
     "name": "stderr",
     "output_type": "stream",
     "text": [
      "dist_matrix: 100%|####################################################################| 10/10 [00:00<00:00, 142.86it/s]\n",
      "synth_matrix: 100%|####################################################################| 10/10 [00:00<00:00, 58.54it/s]\n",
      "r_index: 100%|###########################################################################| 2/2 [00:00<00:00, 88.29it/s]\n"
     ]
    },
    {
     "name": "stdout",
     "output_type": "stream",
     "text": [
      "Epoch 100, Train Loss: 0.1081, Val Loss: 2.0643\n",
      "Early stopping at epoch 132\n",
      "Training complete.\n",
      "Starting Round 400\n",
      "SMOGN failed: redefine phi relevance function: all points are 1\n",
      "→ Using original data instead.\n",
      "Epoch 100, Train Loss: 0.1439, Val Loss: 3.5477\n",
      "Epoch 200, Train Loss: 0.1197, Val Loss: 3.5206\n",
      "Early stopping at epoch 296\n",
      "Training complete.\n",
      "Starting Round 401\n",
      "SMOGN failed: redefine phi relevance function: all points are 1\n",
      "→ Using original data instead.\n",
      "Epoch 100, Train Loss: 0.1330, Val Loss: 0.8796\n",
      "Early stopping at epoch 195\n",
      "Training complete.\n",
      "Starting Round 402\n"
     ]
    },
    {
     "name": "stderr",
     "output_type": "stream",
     "text": [
      "dist_matrix: 100%|######################################################################| 9/9 [00:00<00:00, 165.90it/s]\n",
      "synth_matrix: 100%|######################################################################| 9/9 [00:00<00:00, 59.01it/s]\n",
      "r_index: 100%|##########################################################################| 4/4 [00:00<00:00, 100.62it/s]\n"
     ]
    },
    {
     "name": "stdout",
     "output_type": "stream",
     "text": [
      "Epoch 100, Train Loss: 0.0990, Val Loss: 47.6077\n",
      "Epoch 200, Train Loss: 0.0807, Val Loss: 47.5935\n",
      "Early stopping at epoch 239\n",
      "Training complete.\n",
      "Starting Round 403\n",
      "SMOGN failed: redefine phi relevance function: all points are 1\n",
      "→ Using original data instead.\n",
      "Epoch 100, Train Loss: 0.1592, Val Loss: 0.8022\n",
      "Epoch 200, Train Loss: 0.1471, Val Loss: 0.7726\n",
      "Epoch 300, Train Loss: 0.1283, Val Loss: 0.7445\n",
      "Early stopping at epoch 311\n",
      "Training complete.\n",
      "Starting Round 404\n"
     ]
    },
    {
     "name": "stderr",
     "output_type": "stream",
     "text": [
      "dist_matrix: 100%|######################################################################| 9/9 [00:00<00:00, 172.39it/s]\n",
      "synth_matrix: 100%|######################################################################| 9/9 [00:00<00:00, 53.14it/s]\n",
      "r_index: 100%|###########################################################################| 4/4 [00:00<00:00, 85.82it/s]\n"
     ]
    },
    {
     "name": "stdout",
     "output_type": "stream",
     "text": [
      "Epoch 100, Train Loss: 0.1235, Val Loss: 24.2113\n",
      "Early stopping at epoch 165\n",
      "Training complete.\n",
      "Starting Round 405\n"
     ]
    },
    {
     "name": "stderr",
     "output_type": "stream",
     "text": [
      "dist_matrix: 100%|####################################################################| 10/10 [00:00<00:00, 133.71it/s]\n",
      "synth_matrix: 100%|####################################################################| 10/10 [00:00<00:00, 53.10it/s]\n",
      "r_index: 100%|##########################################################################| 2/2 [00:00<00:00, 100.28it/s]\n"
     ]
    },
    {
     "name": "stdout",
     "output_type": "stream",
     "text": [
      "Epoch 100, Train Loss: 0.1588, Val Loss: 2.0292\n",
      "Epoch 200, Train Loss: 0.1190, Val Loss: 2.0049\n",
      "Early stopping at epoch 288\n",
      "Training complete.\n",
      "Starting Round 406\n"
     ]
    },
    {
     "name": "stderr",
     "output_type": "stream",
     "text": [
      "dist_matrix: 100%|####################################################################| 11/11 [00:00<00:00, 145.02it/s]\n",
      "synth_matrix: 100%|###################################################################| 11/11 [00:00<00:00, 113.51it/s]\n",
      "r_index: 100%|########################################################################| 10/10 [00:00<00:00, 119.82it/s]\n"
     ]
    },
    {
     "name": "stdout",
     "output_type": "stream",
     "text": [
      "Epoch 100, Train Loss: 0.1970, Val Loss: 26.6029\n",
      "Epoch 200, Train Loss: 0.1630, Val Loss: 26.6347\n",
      "Early stopping at epoch 272\n",
      "Training complete.\n",
      "Starting Round 407\n"
     ]
    },
    {
     "name": "stderr",
     "output_type": "stream",
     "text": [
      "dist_matrix: 100%|####################################################################| 11/11 [00:00<00:00, 123.70it/s]\n",
      "synth_matrix: 100%|###################################################################| 11/11 [00:00<00:00, 111.17it/s]\n",
      "dist_matrix: 100%|####################################################################| 11/11 [00:00<00:00, 164.32it/s]\n",
      "synth_matrix: 100%|###################################################################| 11/11 [00:00<00:00, 136.36it/s]\n"
     ]
    },
    {
     "name": "stdout",
     "output_type": "stream",
     "text": [
      "Epoch 100, Train Loss: 0.1029, Val Loss: 34.4136\n",
      "Epoch 200, Train Loss: 0.0951, Val Loss: 34.4141\n",
      "Early stopping at epoch 265\n",
      "Training complete.\n",
      "Starting Round 408\n"
     ]
    },
    {
     "name": "stderr",
     "output_type": "stream",
     "text": [
      "dist_matrix: 100%|######################################################################| 9/9 [00:00<00:00, 171.97it/s]\n",
      "synth_matrix: 100%|######################################################################| 9/9 [00:00<00:00, 56.20it/s]\n",
      "r_index: 100%|##########################################################################| 4/4 [00:00<00:00, 132.20it/s]\n"
     ]
    },
    {
     "name": "stdout",
     "output_type": "stream",
     "text": [
      "Epoch 100, Train Loss: 0.1251, Val Loss: 4.0648\n",
      "Epoch 200, Train Loss: 0.1005, Val Loss: 4.1347\n",
      "Early stopping at epoch 207\n",
      "Training complete.\n",
      "Starting Round 409\n"
     ]
    },
    {
     "name": "stderr",
     "output_type": "stream",
     "text": [
      "dist_matrix: 100%|####################################################################| 10/10 [00:00<00:00, 153.74it/s]\n",
      "synth_matrix: 100%|###################################################################| 10/10 [00:00<00:00, 110.12it/s]\n",
      "r_index: 100%|##########################################################################| 2/2 [00:00<00:00, 138.69it/s]\n",
      "dist_matrix: 100%|######################################################################| 9/9 [00:00<00:00, 183.12it/s]\n",
      "synth_matrix: 100%|#####################################################################| 9/9 [00:00<00:00, 117.42it/s]\n",
      "r_index: 100%|##########################################################################| 4/4 [00:00<00:00, 136.72it/s]\n"
     ]
    },
    {
     "name": "stdout",
     "output_type": "stream",
     "text": [
      "Epoch 100, Train Loss: 0.1051, Val Loss: 8.6428\n",
      "Epoch 200, Train Loss: 0.1025, Val Loss: 8.8218\n",
      "Early stopping at epoch 215\n",
      "Training complete.\n",
      "Starting Round 410\n"
     ]
    },
    {
     "name": "stderr",
     "output_type": "stream",
     "text": [
      "dist_matrix: 100%|######################################################################| 9/9 [00:00<00:00, 147.90it/s]\n",
      "synth_matrix: 100%|######################################################################| 9/9 [00:00<00:00, 52.17it/s]\n",
      "r_index: 100%|##########################################################################| 4/4 [00:00<00:00, 100.67it/s]\n"
     ]
    },
    {
     "name": "stdout",
     "output_type": "stream",
     "text": [
      "Epoch 100, Train Loss: 0.1286, Val Loss: 36356.3477\n",
      "Epoch 00102: reducing learning rate of group 0 to 1.0000e-02.\n",
      "Early stopping at epoch 174\n",
      "Training complete.\n",
      "Starting Round 411\n",
      "SMOGN failed: redefine phi relevance function: all points are 1\n",
      "→ Using original data instead.\n",
      "Epoch 100, Train Loss: 0.1487, Val Loss: 1.1403\n",
      "Early stopping at epoch 188\n",
      "Training complete.\n",
      "Starting Round 412\n"
     ]
    },
    {
     "name": "stderr",
     "output_type": "stream",
     "text": [
      "dist_matrix: 100%|######################################################################| 7/7 [00:00<00:00, 212.92it/s]\n",
      "synth_matrix: 100%|######################################################################| 7/7 [00:00<00:00, 33.35it/s]\n",
      "r_index: 100%|###########################################################################| 3/3 [00:00<00:00, 99.08it/s]\n"
     ]
    },
    {
     "name": "stdout",
     "output_type": "stream",
     "text": [
      "Epoch 100, Train Loss: 0.1096, Val Loss: 60.6062\n",
      "Epoch 00113: reducing learning rate of group 0 to 1.0000e-02.\n",
      "Early stopping at epoch 113\n",
      "Training complete.\n",
      "Starting Round 413\n"
     ]
    },
    {
     "name": "stderr",
     "output_type": "stream",
     "text": [
      "dist_matrix: 100%|####################################################################| 11/11 [00:00<00:00, 144.01it/s]\n",
      "synth_matrix: 100%|###################################################################| 11/11 [00:00<00:00, 118.06it/s]\n",
      "r_index: 100%|########################################################################| 10/10 [00:00<00:00, 136.93it/s]\n"
     ]
    },
    {
     "name": "stdout",
     "output_type": "stream",
     "text": [
      "Epoch 100, Train Loss: 0.1557, Val Loss: 0.8320\n",
      "Early stopping at epoch 128\n",
      "Training complete.\n",
      "Starting Round 414\n",
      "SMOGN failed: redefine phi relevance function: all points are 1\n",
      "→ Using original data instead.\n",
      "Epoch 100, Train Loss: 0.1336, Val Loss: 1.5311\n",
      "Epoch 200, Train Loss: 0.1272, Val Loss: 1.5361\n",
      "Early stopping at epoch 253\n",
      "Training complete.\n",
      "Starting Round 415\n"
     ]
    },
    {
     "name": "stderr",
     "output_type": "stream",
     "text": [
      "dist_matrix: 100%|######################################################################| 7/7 [00:00<00:00, 208.50it/s]\n",
      "synth_matrix: 100%|######################################################################| 7/7 [00:00<00:00, 33.68it/s]\n",
      "r_index: 100%|###########################################################################| 3/3 [00:00<00:00, 96.50it/s]\n"
     ]
    },
    {
     "name": "stdout",
     "output_type": "stream",
     "text": [
      "Epoch 100, Train Loss: 0.1011, Val Loss: 1.8080\n",
      "Epoch 200, Train Loss: 0.0965, Val Loss: 1.7926\n",
      "Epoch 300, Train Loss: 0.0822, Val Loss: 1.7973\n",
      "Early stopping at epoch 387\n",
      "Training complete.\n",
      "Starting Round 416\n"
     ]
    },
    {
     "name": "stderr",
     "output_type": "stream",
     "text": [
      "dist_matrix: 100%|####################################################################| 10/10 [00:00<00:00, 156.97it/s]\n",
      "synth_matrix: 100%|####################################################################| 10/10 [00:00<00:00, 64.96it/s]\n",
      "r_index: 100%|##########################################################################| 2/2 [00:00<00:00, 103.63it/s]\n"
     ]
    },
    {
     "name": "stdout",
     "output_type": "stream",
     "text": [
      "Epoch 100, Train Loss: 0.1644, Val Loss: 3.5235\n",
      "Early stopping at epoch 128\n",
      "Training complete.\n",
      "Starting Round 417\n",
      "SMOGN failed: redefine phi relevance function: all points are 1\n",
      "→ Using original data instead.\n",
      "Epoch 100, Train Loss: 0.1551, Val Loss: 117.6943\n",
      "Epoch 00117: reducing learning rate of group 0 to 1.0000e-02.\n",
      "Early stopping at epoch 117\n",
      "Training complete.\n",
      "Starting Round 418\n"
     ]
    },
    {
     "name": "stderr",
     "output_type": "stream",
     "text": [
      "dist_matrix: 100%|####################################################################| 11/11 [00:00<00:00, 140.76it/s]\n",
      "synth_matrix: 100%|###################################################################| 11/11 [00:00<00:00, 128.83it/s]\n",
      "r_index: 100%|########################################################################| 10/10 [00:00<00:00, 126.76it/s]\n"
     ]
    },
    {
     "name": "stdout",
     "output_type": "stream",
     "text": [
      "Epoch 100, Train Loss: 0.1237, Val Loss: 0.8575\n",
      "Early stopping at epoch 172\n",
      "Training complete.\n",
      "Starting Round 419\n"
     ]
    },
    {
     "name": "stderr",
     "output_type": "stream",
     "text": [
      "dist_matrix: 100%|######################################################################| 8/8 [00:00<00:00, 190.99it/s]\n",
      "synth_matrix: 100%|######################################################################| 8/8 [00:00<00:00, 36.44it/s]\n"
     ]
    },
    {
     "name": "stdout",
     "output_type": "stream",
     "text": [
      "Epoch 100, Train Loss: 0.1229, Val Loss: 183.6158\n",
      "Epoch 00122: reducing learning rate of group 0 to 1.0000e-02.\n",
      "Early stopping at epoch 122\n",
      "Training complete.\n",
      "Starting Round 420\n"
     ]
    },
    {
     "name": "stderr",
     "output_type": "stream",
     "text": [
      "dist_matrix: 100%|####################################################################| 10/10 [00:00<00:00, 116.52it/s]\n",
      "synth_matrix: 100%|####################################################################| 10/10 [00:00<00:00, 49.94it/s]\n",
      "r_index: 100%|##########################################################################| 2/2 [00:00<00:00, 130.33it/s]\n"
     ]
    },
    {
     "name": "stdout",
     "output_type": "stream",
     "text": [
      "Epoch 100, Train Loss: 0.1034, Val Loss: 1539.2285\n",
      "Epoch 00172: reducing learning rate of group 0 to 1.0000e-02.\n",
      "Epoch 200, Train Loss: 0.0579, Val Loss: 1539.2236\n",
      "Early stopping at epoch 233\n",
      "Training complete.\n",
      "Starting Round 421\n"
     ]
    },
    {
     "name": "stderr",
     "output_type": "stream",
     "text": [
      "dist_matrix: 100%|######################################################################| 7/7 [00:00<00:00, 180.43it/s]\n",
      "synth_matrix: 100%|######################################################################| 7/7 [00:00<00:00, 32.32it/s]\n",
      "r_index: 100%|##########################################################################| 3/3 [00:00<00:00, 126.32it/s]\n"
     ]
    },
    {
     "name": "stdout",
     "output_type": "stream",
     "text": [
      "Epoch 100, Train Loss: 0.1247, Val Loss: 0.8703\n",
      "Epoch 200, Train Loss: 0.1044, Val Loss: 0.7594\n",
      "Early stopping at epoch 216\n",
      "Training complete.\n",
      "Starting Round 422\n"
     ]
    },
    {
     "name": "stderr",
     "output_type": "stream",
     "text": [
      "dist_matrix: 100%|######################################################################| 9/9 [00:00<00:00, 177.38it/s]\n",
      "synth_matrix: 100%|######################################################################| 9/9 [00:00<00:00, 58.19it/s]\n",
      "r_index: 100%|##########################################################################| 4/4 [00:00<00:00, 157.76it/s]\n"
     ]
    },
    {
     "name": "stdout",
     "output_type": "stream",
     "text": [
      "Epoch 100, Train Loss: 0.1156, Val Loss: 8.2414\n",
      "Epoch 00115: reducing learning rate of group 0 to 1.0000e-02.\n",
      "Early stopping at epoch 116\n",
      "Training complete.\n",
      "Starting Round 423\n"
     ]
    },
    {
     "name": "stderr",
     "output_type": "stream",
     "text": [
      "dist_matrix: 100%|#####################################################################| 12/12 [00:00<00:00, 98.96it/s]\n",
      "synth_matrix: 100%|###################################################################| 12/12 [00:00<00:00, 112.78it/s]\n",
      "r_index: 100%|###########################################################################| 7/7 [00:00<00:00, 81.04it/s]\n"
     ]
    },
    {
     "name": "stdout",
     "output_type": "stream",
     "text": [
      "Epoch 100, Train Loss: 0.1763, Val Loss: 1.2215\n",
      "Early stopping at epoch 160\n",
      "Training complete.\n",
      "Starting Round 424\n"
     ]
    },
    {
     "name": "stderr",
     "output_type": "stream",
     "text": [
      "dist_matrix: 100%|######################################################################| 8/8 [00:00<00:00, 172.80it/s]\n",
      "synth_matrix: 100%|######################################################################| 8/8 [00:00<00:00, 34.50it/s]\n"
     ]
    },
    {
     "name": "stdout",
     "output_type": "stream",
     "text": [
      "Epoch 100, Train Loss: 0.1262, Val Loss: 6.1864\n",
      "Epoch 200, Train Loss: 0.1068, Val Loss: 6.2613\n",
      "Early stopping at epoch 237\n",
      "Training complete.\n",
      "Starting Round 425\n"
     ]
    },
    {
     "name": "stderr",
     "output_type": "stream",
     "text": [
      "dist_matrix: 100%|######################################################################| 9/9 [00:00<00:00, 148.58it/s]\n",
      "synth_matrix: 100%|######################################################################| 9/9 [00:00<00:00, 50.97it/s]\n",
      "r_index: 100%|###########################################################################| 4/4 [00:00<00:00, 96.46it/s]\n"
     ]
    },
    {
     "name": "stdout",
     "output_type": "stream",
     "text": [
      "Epoch 100, Train Loss: 0.0999, Val Loss: 0.6289\n",
      "Early stopping at epoch 127\n",
      "Training complete.\n",
      "Starting Round 426\n"
     ]
    },
    {
     "name": "stderr",
     "output_type": "stream",
     "text": [
      "dist_matrix: 100%|####################################################################| 10/10 [00:00<00:00, 140.23it/s]\n",
      "synth_matrix: 100%|####################################################################| 10/10 [00:00<00:00, 65.86it/s]\n",
      "r_index: 100%|##########################################################################| 2/2 [00:00<00:00, 165.09it/s]\n"
     ]
    },
    {
     "name": "stdout",
     "output_type": "stream",
     "text": [
      "Epoch 100, Train Loss: 0.1142, Val Loss: 0.6982\n",
      "Early stopping at epoch 185\n",
      "Training complete.\n",
      "Starting Round 427\n"
     ]
    },
    {
     "name": "stderr",
     "output_type": "stream",
     "text": [
      "dist_matrix: 100%|####################################################################| 11/11 [00:00<00:00, 122.93it/s]\n",
      "synth_matrix: 100%|####################################################################| 11/11 [00:00<00:00, 99.52it/s]\n",
      "r_index: 100%|########################################################################| 10/10 [00:00<00:00, 121.40it/s]\n"
     ]
    },
    {
     "name": "stdout",
     "output_type": "stream",
     "text": [
      "Epoch 100, Train Loss: 0.1176, Val Loss: 0.6136\n",
      "Epoch 200, Train Loss: 0.0969, Val Loss: 0.6106\n",
      "Early stopping at epoch 277\n",
      "Training complete.\n",
      "Starting Round 428\n"
     ]
    },
    {
     "name": "stderr",
     "output_type": "stream",
     "text": [
      "dist_matrix: 100%|######################################################################| 9/9 [00:00<00:00, 156.05it/s]\n",
      "synth_matrix: 100%|######################################################################| 9/9 [00:00<00:00, 54.47it/s]\n",
      "r_index: 100%|##########################################################################| 4/4 [00:00<00:00, 146.12it/s]\n"
     ]
    },
    {
     "name": "stdout",
     "output_type": "stream",
     "text": [
      "Epoch 100, Train Loss: 0.1225, Val Loss: 0.8034\n",
      "Epoch 200, Train Loss: 0.0994, Val Loss: 0.7429\n",
      "Early stopping at epoch 237\n",
      "Training complete.\n",
      "Starting Round 429\n"
     ]
    },
    {
     "name": "stderr",
     "output_type": "stream",
     "text": [
      "dist_matrix: 100%|######################################################################| 8/8 [00:00<00:00, 169.09it/s]\n",
      "synth_matrix: 100%|######################################################################| 8/8 [00:00<00:00, 32.80it/s]\n"
     ]
    },
    {
     "name": "stdout",
     "output_type": "stream",
     "text": [
      "Epoch 100, Train Loss: 0.1352, Val Loss: 30.2715\n",
      "Epoch 200, Train Loss: 0.1044, Val Loss: 30.1735\n",
      "Epoch 300, Train Loss: 0.0950, Val Loss: 30.2548\n",
      "Early stopping at epoch 333\n",
      "Training complete.\n",
      "Starting Round 430\n"
     ]
    },
    {
     "name": "stderr",
     "output_type": "stream",
     "text": [
      "dist_matrix: 100%|####################################################################| 10/10 [00:00<00:00, 141.82it/s]\n",
      "synth_matrix: 100%|####################################################################| 10/10 [00:00<00:00, 52.62it/s]\n",
      "r_index: 100%|##########################################################################| 2/2 [00:00<00:00, 151.06it/s]\n"
     ]
    },
    {
     "name": "stdout",
     "output_type": "stream",
     "text": [
      "Epoch 100, Train Loss: 0.1435, Val Loss: 2.8898\n",
      "Epoch 200, Train Loss: 0.1260, Val Loss: 2.8747\n",
      "Early stopping at epoch 208\n",
      "Training complete.\n",
      "Starting Round 431\n"
     ]
    },
    {
     "name": "stderr",
     "output_type": "stream",
     "text": [
      "dist_matrix: 100%|######################################################################| 8/8 [00:00<00:00, 172.22it/s]\n",
      "synth_matrix: 100%|######################################################################| 8/8 [00:00<00:00, 34.74it/s]\n"
     ]
    },
    {
     "name": "stdout",
     "output_type": "stream",
     "text": [
      "Epoch 100, Train Loss: 0.1134, Val Loss: 0.6179\n",
      "Epoch 200, Train Loss: 0.1087, Val Loss: 0.6877\n",
      "Early stopping at epoch 208\n",
      "Training complete.\n",
      "Starting Round 432\n"
     ]
    },
    {
     "name": "stderr",
     "output_type": "stream",
     "text": [
      "dist_matrix: 100%|####################################################################| 11/11 [00:00<00:00, 130.92it/s]\n",
      "synth_matrix: 100%|###################################################################| 11/11 [00:00<00:00, 101.19it/s]\n",
      "r_index: 100%|########################################################################| 10/10 [00:00<00:00, 134.76it/s]\n"
     ]
    },
    {
     "name": "stdout",
     "output_type": "stream",
     "text": [
      "Epoch 100, Train Loss: 0.1092, Val Loss: 10.4093\n",
      "Epoch 200, Train Loss: 0.0848, Val Loss: 10.3804\n",
      "Early stopping at epoch 215\n",
      "Training complete.\n",
      "Starting Round 433\n"
     ]
    },
    {
     "name": "stderr",
     "output_type": "stream",
     "text": [
      "dist_matrix: 100%|######################################################################| 7/7 [00:00<00:00, 188.13it/s]\n",
      "synth_matrix: 100%|######################################################################| 7/7 [00:00<00:00, 32.50it/s]\n",
      "r_index: 100%|###########################################################################| 3/3 [00:00<00:00, 99.10it/s]\n"
     ]
    },
    {
     "name": "stdout",
     "output_type": "stream",
     "text": [
      "Epoch 100, Train Loss: 0.1172, Val Loss: 2.7942\n",
      "Epoch 200, Train Loss: 0.1075, Val Loss: 2.7972\n",
      "Epoch 300, Train Loss: 0.0956, Val Loss: 2.7856\n",
      "Early stopping at epoch 376\n",
      "Training complete.\n",
      "Starting Round 434\n",
      "SMOGN failed: redefine phi relevance function: all points are 1\n",
      "→ Using original data instead.\n",
      "Epoch 100, Train Loss: 0.1564, Val Loss: 20.1439\n",
      "Epoch 00119: reducing learning rate of group 0 to 1.0000e-02.\n",
      "Early stopping at epoch 119\n",
      "Training complete.\n",
      "Starting Round 435\n"
     ]
    },
    {
     "name": "stderr",
     "output_type": "stream",
     "text": [
      "dist_matrix: 100%|######################################################################| 9/9 [00:00<00:00, 165.80it/s]\n",
      "synth_matrix: 100%|######################################################################| 9/9 [00:00<00:00, 49.72it/s]\n",
      "r_index: 100%|##########################################################################| 4/4 [00:00<00:00, 103.65it/s]\n"
     ]
    },
    {
     "name": "stdout",
     "output_type": "stream",
     "text": [
      "Epoch 100, Train Loss: 0.1183, Val Loss: 3.8681\n",
      "Early stopping at epoch 187\n",
      "Training complete.\n",
      "Starting Round 436\n"
     ]
    },
    {
     "name": "stderr",
     "output_type": "stream",
     "text": [
      "dist_matrix: 100%|####################################################################| 10/10 [00:00<00:00, 162.76it/s]\n",
      "synth_matrix: 100%|####################################################################| 10/10 [00:00<00:00, 57.13it/s]\n",
      "r_index: 100%|##########################################################################| 2/2 [00:00<00:00, 105.75it/s]\n"
     ]
    },
    {
     "name": "stdout",
     "output_type": "stream",
     "text": [
      "Epoch 100, Train Loss: 0.1014, Val Loss: 0.4294\n",
      "Early stopping at epoch 157\n",
      "Training complete.\n",
      "Starting Round 437\n"
     ]
    },
    {
     "name": "stderr",
     "output_type": "stream",
     "text": [
      "dist_matrix: 100%|####################################################################| 11/11 [00:00<00:00, 127.22it/s]\n",
      "synth_matrix: 100%|###################################################################| 11/11 [00:00<00:00, 119.03it/s]\n",
      "r_index: 100%|########################################################################| 10/10 [00:00<00:00, 111.08it/s]\n"
     ]
    },
    {
     "name": "stdout",
     "output_type": "stream",
     "text": [
      "Epoch 100, Train Loss: 0.1178, Val Loss: 1.0379\n",
      "Early stopping at epoch 120\n",
      "Training complete.\n",
      "Starting Round 438\n"
     ]
    },
    {
     "name": "stderr",
     "output_type": "stream",
     "text": [
      "dist_matrix: 100%|######################################################################| 8/8 [00:00<00:00, 168.10it/s]\n",
      "synth_matrix: 100%|######################################################################| 8/8 [00:00<00:00, 38.12it/s]\n"
     ]
    },
    {
     "name": "stdout",
     "output_type": "stream",
     "text": [
      "Epoch 100, Train Loss: 0.1023, Val Loss: 4.1337\n",
      "Epoch 200, Train Loss: 0.0874, Val Loss: 4.0988\n",
      "Early stopping at epoch 298\n",
      "Training complete.\n",
      "Starting Round 439\n"
     ]
    },
    {
     "name": "stderr",
     "output_type": "stream",
     "text": [
      "dist_matrix: 100%|######################################################################| 9/9 [00:00<00:00, 146.30it/s]\n",
      "synth_matrix: 100%|######################################################################| 9/9 [00:00<00:00, 49.52it/s]\n",
      "r_index: 100%|###########################################################################| 4/4 [00:00<00:00, 87.53it/s]\n"
     ]
    },
    {
     "name": "stdout",
     "output_type": "stream",
     "text": [
      "Epoch 100, Train Loss: 0.0952, Val Loss: 0.7030\n",
      "Early stopping at epoch 176\n",
      "Training complete.\n",
      "Starting Round 440\n"
     ]
    },
    {
     "name": "stderr",
     "output_type": "stream",
     "text": [
      "dist_matrix: 100%|####################################################################| 10/10 [00:00<00:00, 130.87it/s]\n",
      "synth_matrix: 100%|####################################################################| 10/10 [00:00<00:00, 61.67it/s]\n",
      "r_index: 100%|###########################################################################| 2/2 [00:00<00:00, 87.95it/s]\n"
     ]
    },
    {
     "name": "stdout",
     "output_type": "stream",
     "text": [
      "Epoch 100, Train Loss: 0.0833, Val Loss: 26.0743\n",
      "Epoch 00122: reducing learning rate of group 0 to 1.0000e-02.\n",
      "Early stopping at epoch 122\n",
      "Training complete.\n",
      "Starting Round 441\n"
     ]
    },
    {
     "name": "stderr",
     "output_type": "stream",
     "text": [
      "dist_matrix: 100%|####################################################################| 10/10 [00:00<00:00, 137.37it/s]\n",
      "synth_matrix: 100%|####################################################################| 10/10 [00:00<00:00, 40.79it/s]\n",
      "r_index: 100%|##########################################################################| 2/2 [00:00<00:00, 108.35it/s]\n"
     ]
    },
    {
     "name": "stdout",
     "output_type": "stream",
     "text": [
      "Epoch 100, Train Loss: 0.0942, Val Loss: 0.8591\n",
      "Early stopping at epoch 156\n",
      "Training complete.\n",
      "Starting Round 442\n"
     ]
    },
    {
     "name": "stderr",
     "output_type": "stream",
     "text": [
      "dist_matrix: 100%|######################################################################| 9/9 [00:00<00:00, 151.46it/s]\n",
      "synth_matrix: 100%|######################################################################| 9/9 [00:00<00:00, 50.55it/s]\n",
      "r_index: 100%|###########################################################################| 4/4 [00:00<00:00, 93.16it/s]\n"
     ]
    },
    {
     "name": "stdout",
     "output_type": "stream",
     "text": [
      "Epoch 100, Train Loss: 0.1488, Val Loss: 4.7096\n",
      "Early stopping at epoch 191\n",
      "Training complete.\n",
      "Starting Round 443\n"
     ]
    },
    {
     "name": "stderr",
     "output_type": "stream",
     "text": [
      "dist_matrix: 100%|####################################################################| 10/10 [00:00<00:00, 118.82it/s]\n",
      "synth_matrix: 100%|####################################################################| 10/10 [00:00<00:00, 53.79it/s]\n",
      "r_index: 100%|###########################################################################| 2/2 [00:00<00:00, 87.60it/s]\n"
     ]
    },
    {
     "name": "stdout",
     "output_type": "stream",
     "text": [
      "Epoch 100, Train Loss: 0.1802, Val Loss: 346.7874\n",
      "Epoch 00129: reducing learning rate of group 0 to 1.0000e-02.\n",
      "Early stopping at epoch 133\n",
      "Training complete.\n",
      "Starting Round 444\n"
     ]
    },
    {
     "name": "stderr",
     "output_type": "stream",
     "text": [
      "dist_matrix: 100%|####################################################################| 11/11 [00:00<00:00, 109.92it/s]\n",
      "synth_matrix: 100%|###################################################################| 11/11 [00:00<00:00, 115.12it/s]\n",
      "dist_matrix: 100%|####################################################################| 11/11 [00:00<00:00, 152.30it/s]\n",
      "synth_matrix: 100%|###################################################################| 11/11 [00:00<00:00, 131.46it/s]\n"
     ]
    },
    {
     "name": "stdout",
     "output_type": "stream",
     "text": [
      "Epoch 100, Train Loss: 0.1148, Val Loss: 0.6654\n",
      "Early stopping at epoch 173\n",
      "Training complete.\n",
      "Starting Round 445\n"
     ]
    },
    {
     "name": "stderr",
     "output_type": "stream",
     "text": [
      "dist_matrix: 100%|######################################################################| 9/9 [00:00<00:00, 150.37it/s]\n",
      "synth_matrix: 100%|#####################################################################| 9/9 [00:00<00:00, 125.20it/s]\n",
      "r_index: 100%|###########################################################################| 4/4 [00:00<00:00, 87.37it/s]\n",
      "dist_matrix: 100%|####################################################################| 11/11 [00:00<00:00, 153.05it/s]\n",
      "synth_matrix: 100%|###################################################################| 11/11 [00:00<00:00, 109.19it/s]\n"
     ]
    },
    {
     "name": "stdout",
     "output_type": "stream",
     "text": [
      "Epoch 100, Train Loss: 0.1080, Val Loss: 1.2410\n",
      "Epoch 200, Train Loss: 0.1042, Val Loss: 1.2932\n",
      "Early stopping at epoch 208\n",
      "Training complete.\n",
      "Starting Round 446\n"
     ]
    },
    {
     "name": "stderr",
     "output_type": "stream",
     "text": [
      "dist_matrix: 100%|######################################################################| 9/9 [00:00<00:00, 178.94it/s]\n",
      "synth_matrix: 100%|######################################################################| 9/9 [00:00<00:00, 48.48it/s]\n",
      "r_index: 100%|##########################################################################| 4/4 [00:00<00:00, 103.47it/s]\n"
     ]
    },
    {
     "name": "stdout",
     "output_type": "stream",
     "text": [
      "Epoch 100, Train Loss: 0.1055, Val Loss: 4.6850\n",
      "Epoch 200, Train Loss: 0.1032, Val Loss: 4.6377\n",
      "Epoch 00217: reducing learning rate of group 0 to 1.0000e-02.\n",
      "Epoch 300, Train Loss: 0.0501, Val Loss: 4.5663\n",
      "Epoch 00333: reducing learning rate of group 0 to 1.0000e-03.\n",
      "Early stopping at epoch 333\n",
      "Training complete.\n",
      "Starting Round 447\n",
      "SMOGN failed: redefine phi relevance function: all points are 1\n",
      "→ Using original data instead.\n",
      "Epoch 100, Train Loss: 0.1579, Val Loss: 2.5591\n",
      "Early stopping at epoch 120\n",
      "Training complete.\n",
      "Starting Round 448\n"
     ]
    },
    {
     "name": "stderr",
     "output_type": "stream",
     "text": [
      "dist_matrix: 100%|######################################################################| 6/6 [00:00<00:00, 231.78it/s]\n",
      "synth_matrix: 100%|######################################################################| 6/6 [00:00<00:00, 25.70it/s]\n",
      "r_index: 100%|###########################################################################| 1/1 [00:00<00:00, 96.27it/s]\n"
     ]
    },
    {
     "name": "stdout",
     "output_type": "stream",
     "text": [
      "Epoch 100, Train Loss: 0.0957, Val Loss: 223.3292\n",
      "Epoch 00158: reducing learning rate of group 0 to 1.0000e-02.\n",
      "Early stopping at epoch 169\n",
      "Training complete.\n",
      "Starting Round 449\n"
     ]
    },
    {
     "name": "stderr",
     "output_type": "stream",
     "text": [
      "dist_matrix: 100%|####################################################################| 12/12 [00:00<00:00, 122.06it/s]\n",
      "synth_matrix: 100%|####################################################################| 12/12 [00:00<00:00, 95.54it/s]\n",
      "r_index: 100%|##########################################################################| 7/7 [00:00<00:00, 117.03it/s]\n"
     ]
    },
    {
     "name": "stdout",
     "output_type": "stream",
     "text": [
      "Epoch 100, Train Loss: 0.0907, Val Loss: 49.9816\n",
      "Epoch 200, Train Loss: 0.0791, Val Loss: 50.0152\n",
      "Early stopping at epoch 206\n",
      "Training complete.\n",
      "Starting Round 450\n"
     ]
    },
    {
     "name": "stderr",
     "output_type": "stream",
     "text": [
      "dist_matrix: 100%|####################################################################| 12/12 [00:00<00:00, 128.93it/s]\n",
      "synth_matrix: 100%|###################################################################| 12/12 [00:00<00:00, 124.42it/s]\n",
      "r_index: 100%|##########################################################################| 7/7 [00:00<00:00, 119.22it/s]\n"
     ]
    },
    {
     "name": "stdout",
     "output_type": "stream",
     "text": [
      "Epoch 100, Train Loss: 0.1436, Val Loss: 1537.4329\n",
      "Early stopping at epoch 180\n",
      "Training complete.\n",
      "Starting Round 451\n"
     ]
    },
    {
     "name": "stderr",
     "output_type": "stream",
     "text": [
      "dist_matrix: 100%|######################################################################| 9/9 [00:00<00:00, 170.76it/s]\n",
      "synth_matrix: 100%|######################################################################| 9/9 [00:00<00:00, 48.44it/s]\n",
      "r_index: 100%|##########################################################################| 4/4 [00:00<00:00, 122.79it/s]\n"
     ]
    },
    {
     "name": "stdout",
     "output_type": "stream",
     "text": [
      "Epoch 100, Train Loss: 0.0970, Val Loss: 1.1680\n",
      "Early stopping at epoch 162\n",
      "Training complete.\n",
      "Starting Round 452\n",
      "SMOGN failed: redefine phi relevance function: all points are 1\n",
      "→ Using original data instead.\n",
      "Epoch 100, Train Loss: 0.1582, Val Loss: 5.2653\n",
      "Epoch 200, Train Loss: 0.1244, Val Loss: 5.2692\n",
      "Early stopping at epoch 238\n",
      "Training complete.\n",
      "Starting Round 453\n",
      "SMOGN failed: redefine phi relevance function: all points are 1\n",
      "→ Using original data instead.\n",
      "Epoch 100, Train Loss: 0.1404, Val Loss: 3.0891\n",
      "Epoch 200, Train Loss: 0.1392, Val Loss: 3.0886\n",
      "Early stopping at epoch 240\n",
      "Training complete.\n",
      "Starting Round 454\n",
      "SMOGN failed: redefine phi relevance function: all points are 1\n",
      "→ Using original data instead.\n",
      "Epoch 100, Train Loss: 0.1601, Val Loss: 0.8843\n",
      "Epoch 200, Train Loss: 0.1375, Val Loss: 1.0595\n",
      "Early stopping at epoch 220\n",
      "Training complete.\n",
      "Starting Round 455\n"
     ]
    },
    {
     "name": "stderr",
     "output_type": "stream",
     "text": [
      "dist_matrix: 100%|######################################################################| 6/6 [00:00<00:00, 252.62it/s]\n",
      "synth_matrix: 100%|######################################################################| 6/6 [00:00<00:00, 27.40it/s]\n",
      "r_index: 100%|##########################################################################| 1/1 [00:00<00:00, 105.45it/s]\n"
     ]
    },
    {
     "name": "stdout",
     "output_type": "stream",
     "text": [
      "Epoch 100, Train Loss: 0.1943, Val Loss: 9.4489\n",
      "Early stopping at epoch 119\n",
      "Training complete.\n",
      "Starting Round 456\n"
     ]
    },
    {
     "name": "stderr",
     "output_type": "stream",
     "text": [
      "dist_matrix: 100%|####################################################################| 10/10 [00:00<00:00, 142.91it/s]\n",
      "synth_matrix: 100%|####################################################################| 10/10 [00:00<00:00, 74.28it/s]\n",
      "r_index: 100%|##########################################################################| 2/2 [00:00<00:00, 158.62it/s]\n"
     ]
    },
    {
     "name": "stdout",
     "output_type": "stream",
     "text": [
      "Epoch 100, Train Loss: 0.1055, Val Loss: 13.9088\n",
      "Epoch 200, Train Loss: 0.0903, Val Loss: 13.9050\n",
      "Early stopping at epoch 242\n",
      "Training complete.\n",
      "Starting Round 457\n"
     ]
    },
    {
     "name": "stderr",
     "output_type": "stream",
     "text": [
      "dist_matrix: 100%|####################################################################| 10/10 [00:00<00:00, 159.37it/s]\n",
      "synth_matrix: 100%|####################################################################| 10/10 [00:00<00:00, 60.60it/s]\n",
      "r_index: 100%|##########################################################################| 2/2 [00:00<00:00, 168.57it/s]\n"
     ]
    },
    {
     "name": "stdout",
     "output_type": "stream",
     "text": [
      "Epoch 100, Train Loss: 0.1525, Val Loss: 1.6903\n",
      "Early stopping at epoch 124\n",
      "Training complete.\n",
      "Starting Round 458\n",
      "SMOGN failed: redefine phi relevance function: all points are 1\n",
      "→ Using original data instead.\n",
      "Epoch 100, Train Loss: 0.1457, Val Loss: 6.2409\n",
      "Epoch 200, Train Loss: 0.1310, Val Loss: 6.2148\n",
      "Early stopping at epoch 293\n",
      "Training complete.\n",
      "Starting Round 459\n"
     ]
    },
    {
     "name": "stderr",
     "output_type": "stream",
     "text": [
      "dist_matrix: 100%|####################################################################| 10/10 [00:00<00:00, 150.97it/s]\n",
      "synth_matrix: 100%|####################################################################| 10/10 [00:00<00:00, 59.56it/s]\n",
      "r_index: 100%|##########################################################################| 2/2 [00:00<00:00, 146.10it/s]\n"
     ]
    },
    {
     "name": "stdout",
     "output_type": "stream",
     "text": [
      "Epoch 100, Train Loss: 0.1327, Val Loss: 2.3924\n",
      "Early stopping at epoch 199\n",
      "Training complete.\n",
      "Starting Round 460\n"
     ]
    },
    {
     "name": "stderr",
     "output_type": "stream",
     "text": [
      "dist_matrix: 100%|######################################################################| 9/9 [00:00<00:00, 180.29it/s]\n",
      "synth_matrix: 100%|######################################################################| 9/9 [00:00<00:00, 60.14it/s]\n",
      "r_index: 100%|##########################################################################| 4/4 [00:00<00:00, 109.30it/s]\n"
     ]
    },
    {
     "name": "stdout",
     "output_type": "stream",
     "text": [
      "Epoch 100, Train Loss: 0.1028, Val Loss: 1.9998\n",
      "Early stopping at epoch 116\n",
      "Training complete.\n",
      "Starting Round 461\n"
     ]
    },
    {
     "name": "stderr",
     "output_type": "stream",
     "text": [
      "dist_matrix: 100%|######################################################################| 9/9 [00:00<00:00, 183.35it/s]\n",
      "synth_matrix: 100%|######################################################################| 9/9 [00:00<00:00, 54.04it/s]\n",
      "r_index: 100%|##########################################################################| 4/4 [00:00<00:00, 232.30it/s]\n"
     ]
    },
    {
     "name": "stdout",
     "output_type": "stream",
     "text": [
      "Epoch 100, Train Loss: 0.1108, Val Loss: 1.1438\n",
      "Epoch 200, Train Loss: 0.1049, Val Loss: 1.0834\n",
      "Early stopping at epoch 241\n",
      "Training complete.\n",
      "Starting Round 462\n"
     ]
    },
    {
     "name": "stderr",
     "output_type": "stream",
     "text": [
      "dist_matrix: 100%|####################################################################| 11/11 [00:00<00:00, 134.00it/s]\n",
      "synth_matrix: 100%|###################################################################| 11/11 [00:00<00:00, 110.54it/s]\n",
      "r_index: 100%|########################################################################| 10/10 [00:00<00:00, 120.13it/s]\n"
     ]
    },
    {
     "name": "stdout",
     "output_type": "stream",
     "text": [
      "Epoch 100, Train Loss: 0.1362, Val Loss: 0.8541\n",
      "Epoch 200, Train Loss: 0.1147, Val Loss: 0.8309\n",
      "Early stopping at epoch 282\n",
      "Training complete.\n",
      "Starting Round 463\n"
     ]
    },
    {
     "name": "stderr",
     "output_type": "stream",
     "text": [
      "dist_matrix: 100%|####################################################################| 10/10 [00:00<00:00, 112.96it/s]\n",
      "synth_matrix: 100%|####################################################################| 10/10 [00:00<00:00, 58.57it/s]\n",
      "r_index: 100%|##########################################################################| 2/2 [00:00<00:00, 346.42it/s]\n"
     ]
    },
    {
     "name": "stdout",
     "output_type": "stream",
     "text": [
      "Epoch 100, Train Loss: 0.0951, Val Loss: 10.6271\n",
      "Epoch 200, Train Loss: 0.0858, Val Loss: 10.6515\n",
      "Early stopping at epoch 208\n",
      "Training complete.\n",
      "Starting Round 464\n"
     ]
    },
    {
     "name": "stderr",
     "output_type": "stream",
     "text": [
      "dist_matrix: 100%|######################################################################| 7/7 [00:00<00:00, 208.71it/s]\n",
      "synth_matrix: 100%|######################################################################| 7/7 [00:00<00:00, 36.60it/s]\n",
      "r_index: 100%|##########################################################################| 3/3 [00:00<00:00, 102.90it/s]\n"
     ]
    },
    {
     "name": "stdout",
     "output_type": "stream",
     "text": [
      "Epoch 100, Train Loss: 0.1415, Val Loss: 0.7373\n",
      "Early stopping at epoch 193\n",
      "Training complete.\n",
      "Starting Round 465\n"
     ]
    },
    {
     "name": "stderr",
     "output_type": "stream",
     "text": [
      "dist_matrix: 100%|######################################################################| 9/9 [00:00<00:00, 183.39it/s]\n",
      "synth_matrix: 100%|######################################################################| 9/9 [00:00<00:00, 57.84it/s]\n",
      "r_index: 100%|##########################################################################| 4/4 [00:00<00:00, 102.03it/s]\n"
     ]
    },
    {
     "name": "stdout",
     "output_type": "stream",
     "text": [
      "Epoch 100, Train Loss: 0.1063, Val Loss: 7.9202\n",
      "Early stopping at epoch 161\n",
      "Training complete.\n",
      "Starting Round 466\n"
     ]
    },
    {
     "name": "stderr",
     "output_type": "stream",
     "text": [
      "dist_matrix: 100%|####################################################################| 12/12 [00:00<00:00, 147.65it/s]\n",
      "synth_matrix: 100%|###################################################################| 12/12 [00:00<00:00, 109.01it/s]\n",
      "r_index: 100%|##########################################################################| 7/7 [00:00<00:00, 122.71it/s]\n"
     ]
    },
    {
     "name": "stdout",
     "output_type": "stream",
     "text": [
      "Epoch 100, Train Loss: 0.0948, Val Loss: 35.0369\n",
      "Early stopping at epoch 189\n",
      "Training complete.\n",
      "Starting Round 467\n"
     ]
    },
    {
     "name": "stderr",
     "output_type": "stream",
     "text": [
      "dist_matrix: 100%|####################################################################| 10/10 [00:00<00:00, 159.73it/s]\n",
      "synth_matrix: 100%|####################################################################| 10/10 [00:00<00:00, 54.58it/s]\n",
      "r_index: 100%|##########################################################################| 2/2 [00:00<00:00, 110.82it/s]\n"
     ]
    },
    {
     "name": "stdout",
     "output_type": "stream",
     "text": [
      "Epoch 100, Train Loss: 0.1006, Val Loss: 0.6282\n",
      "Early stopping at epoch 119\n",
      "Training complete.\n",
      "Starting Round 468\n",
      "SMOGN failed: redefine phi relevance function: all points are 1\n",
      "→ Using original data instead.\n",
      "Epoch 100, Train Loss: 0.1683, Val Loss: 2.0266\n",
      "Epoch 200, Train Loss: 0.1474, Val Loss: 2.0682\n",
      "Early stopping at epoch 280\n",
      "Training complete.\n",
      "Starting Round 469\n"
     ]
    },
    {
     "name": "stderr",
     "output_type": "stream",
     "text": [
      "dist_matrix: 100%|######################################################################| 9/9 [00:00<00:00, 176.52it/s]\n",
      "synth_matrix: 100%|######################################################################| 9/9 [00:00<00:00, 63.17it/s]\n",
      "r_index: 100%|##########################################################################| 4/4 [00:00<00:00, 122.72it/s]\n"
     ]
    },
    {
     "name": "stdout",
     "output_type": "stream",
     "text": [
      "Epoch 100, Train Loss: 0.1324, Val Loss: 11.3864\n",
      "Epoch 200, Train Loss: 0.1099, Val Loss: 11.3825\n",
      "Epoch 300, Train Loss: 0.1037, Val Loss: 11.3127\n",
      "Early stopping at epoch 397\n",
      "Training complete.\n",
      "Starting Round 470\n"
     ]
    },
    {
     "name": "stderr",
     "output_type": "stream",
     "text": [
      "dist_matrix: 100%|####################################################################| 10/10 [00:00<00:00, 156.62it/s]\n",
      "synth_matrix: 100%|####################################################################| 10/10 [00:00<00:00, 60.20it/s]\n",
      "r_index: 100%|##########################################################################| 2/2 [00:00<00:00, 109.52it/s]\n"
     ]
    },
    {
     "name": "stdout",
     "output_type": "stream",
     "text": [
      "Epoch 100, Train Loss: 0.1142, Val Loss: 698.1779\n",
      "Epoch 200, Train Loss: 0.0887, Val Loss: 698.1605\n",
      "Early stopping at epoch 208\n",
      "Training complete.\n",
      "Starting Round 471\n"
     ]
    },
    {
     "name": "stderr",
     "output_type": "stream",
     "text": [
      "dist_matrix: 100%|######################################################################| 8/8 [00:00<00:00, 207.91it/s]\n",
      "synth_matrix: 100%|######################################################################| 8/8 [00:00<00:00, 41.74it/s]\n"
     ]
    },
    {
     "name": "stdout",
     "output_type": "stream",
     "text": [
      "Epoch 100, Train Loss: 0.1140, Val Loss: 3.0203\n",
      "Early stopping at epoch 189\n",
      "Training complete.\n",
      "Starting Round 472\n"
     ]
    },
    {
     "name": "stderr",
     "output_type": "stream",
     "text": [
      "dist_matrix: 100%|####################################################################| 11/11 [00:00<00:00, 148.20it/s]\n",
      "synth_matrix: 100%|###################################################################| 11/11 [00:00<00:00, 132.20it/s]\n",
      "r_index: 100%|########################################################################| 10/10 [00:00<00:00, 116.40it/s]\n"
     ]
    },
    {
     "name": "stdout",
     "output_type": "stream",
     "text": [
      "Epoch 100, Train Loss: 0.1508, Val Loss: 0.9581\n",
      "Early stopping at epoch 168\n",
      "Training complete.\n",
      "Starting Round 473\n"
     ]
    },
    {
     "name": "stderr",
     "output_type": "stream",
     "text": [
      "dist_matrix: 100%|######################################################################| 9/9 [00:00<00:00, 175.45it/s]\n",
      "synth_matrix: 100%|######################################################################| 9/9 [00:00<00:00, 62.36it/s]\n",
      "r_index: 100%|##########################################################################| 4/4 [00:00<00:00, 108.17it/s]\n"
     ]
    },
    {
     "name": "stdout",
     "output_type": "stream",
     "text": [
      "Epoch 100, Train Loss: 0.1277, Val Loss: 1.9198\n",
      "Early stopping at epoch 162\n",
      "Training complete.\n",
      "Starting Round 474\n",
      "SMOGN failed: redefine phi relevance function: all points are 1\n",
      "→ Using original data instead.\n",
      "Epoch 100, Train Loss: 0.1462, Val Loss: 4.9922\n",
      "Early stopping at epoch 120\n",
      "Training complete.\n",
      "Starting Round 475\n"
     ]
    },
    {
     "name": "stderr",
     "output_type": "stream",
     "text": [
      "dist_matrix: 100%|####################################################################| 10/10 [00:00<00:00, 156.35it/s]\n",
      "synth_matrix: 100%|####################################################################| 10/10 [00:00<00:00, 54.10it/s]\n",
      "r_index: 100%|##########################################################################| 2/2 [00:00<00:00, 165.83it/s]\n"
     ]
    },
    {
     "name": "stdout",
     "output_type": "stream",
     "text": [
      "Epoch 100, Train Loss: 0.1267, Val Loss: 4.5745\n",
      "Epoch 200, Train Loss: 0.1006, Val Loss: 4.6296\n",
      "Epoch 300, Train Loss: 0.1022, Val Loss: 4.5648\n",
      "Early stopping at epoch 377\n",
      "Training complete.\n",
      "Starting Round 476\n"
     ]
    },
    {
     "name": "stderr",
     "output_type": "stream",
     "text": [
      "dist_matrix: 100%|######################################################################| 9/9 [00:00<00:00, 159.06it/s]\n",
      "synth_matrix: 100%|######################################################################| 9/9 [00:00<00:00, 58.19it/s]\n",
      "r_index: 100%|##########################################################################| 4/4 [00:00<00:00, 107.61it/s]\n"
     ]
    },
    {
     "name": "stdout",
     "output_type": "stream",
     "text": [
      "Epoch 100, Train Loss: 0.1542, Val Loss: 1.0233\n",
      "Epoch 200, Train Loss: 0.1488, Val Loss: 0.9996\n",
      "Epoch 300, Train Loss: 0.1292, Val Loss: 1.1255\n",
      "Epoch 400, Train Loss: 0.1176, Val Loss: 1.0902\n",
      "Early stopping at epoch 413\n",
      "Training complete.\n",
      "Starting Round 477\n",
      "SMOGN failed: redefine phi relevance function: all points are 1\n",
      "→ Using original data instead.\n",
      "Epoch 100, Train Loss: 0.1494, Val Loss: 0.8527\n",
      "Early stopping at epoch 121\n",
      "Training complete.\n",
      "Starting Round 478\n"
     ]
    },
    {
     "name": "stderr",
     "output_type": "stream",
     "text": [
      "dist_matrix: 100%|####################################################################| 10/10 [00:00<00:00, 137.82it/s]\n",
      "synth_matrix: 100%|####################################################################| 10/10 [00:00<00:00, 65.07it/s]\n",
      "r_index: 100%|##########################################################################| 2/2 [00:00<00:00, 105.26it/s]\n"
     ]
    },
    {
     "name": "stdout",
     "output_type": "stream",
     "text": [
      "Epoch 100, Train Loss: 0.1121, Val Loss: 10.8893\n",
      "Early stopping at epoch 177\n",
      "Training complete.\n",
      "Starting Round 479\n"
     ]
    },
    {
     "name": "stderr",
     "output_type": "stream",
     "text": [
      "dist_matrix: 100%|####################################################################| 13/13 [00:00<00:00, 118.65it/s]\n",
      "synth_matrix: 100%|###################################################################| 13/13 [00:00<00:00, 126.77it/s]\n",
      "r_index: 100%|##########################################################################| 6/6 [00:00<00:00, 119.88it/s]\n"
     ]
    },
    {
     "name": "stdout",
     "output_type": "stream",
     "text": [
      "Epoch 100, Train Loss: 0.1563, Val Loss: 1.1830\n",
      "Epoch 200, Train Loss: 0.1218, Val Loss: 1.2132\n",
      "Early stopping at epoch 275\n",
      "Training complete.\n",
      "Starting Round 480\n"
     ]
    },
    {
     "name": "stderr",
     "output_type": "stream",
     "text": [
      "dist_matrix: 100%|######################################################################| 9/9 [00:00<00:00, 166.15it/s]\n",
      "synth_matrix: 100%|######################################################################| 9/9 [00:00<00:00, 57.06it/s]\n",
      "r_index: 100%|###########################################################################| 4/4 [00:00<00:00, 93.57it/s]\n"
     ]
    },
    {
     "name": "stdout",
     "output_type": "stream",
     "text": [
      "Epoch 100, Train Loss: 0.1181, Val Loss: 36.5859\n",
      "Early stopping at epoch 121\n",
      "Training complete.\n",
      "Starting Round 481\n"
     ]
    },
    {
     "name": "stderr",
     "output_type": "stream",
     "text": [
      "dist_matrix: 100%|######################################################################| 9/9 [00:00<00:00, 152.04it/s]\n",
      "synth_matrix: 100%|######################################################################| 9/9 [00:00<00:00, 63.27it/s]\n",
      "r_index: 100%|##########################################################################| 4/4 [00:00<00:00, 116.25it/s]\n"
     ]
    },
    {
     "name": "stdout",
     "output_type": "stream",
     "text": [
      "Epoch 100, Train Loss: 0.1072, Val Loss: 0.4979\n",
      "Epoch 200, Train Loss: 0.0878, Val Loss: 0.4681\n",
      "Early stopping at epoch 230\n",
      "Training complete.\n",
      "Starting Round 482\n",
      "SMOGN failed: redefine phi relevance function: all points are 1\n",
      "→ Using original data instead.\n",
      "Epoch 100, Train Loss: 0.1350, Val Loss: 1.2152\n",
      "Epoch 200, Train Loss: 0.1184, Val Loss: 1.2296\n",
      "Early stopping at epoch 271\n",
      "Training complete.\n",
      "Starting Round 483\n"
     ]
    },
    {
     "name": "stderr",
     "output_type": "stream",
     "text": [
      "dist_matrix: 100%|####################################################################| 10/10 [00:00<00:00, 160.82it/s]\n",
      "synth_matrix: 100%|####################################################################| 10/10 [00:00<00:00, 58.43it/s]\n",
      "r_index: 100%|##########################################################################| 2/2 [00:00<00:00, 103.77it/s]\n"
     ]
    },
    {
     "name": "stdout",
     "output_type": "stream",
     "text": [
      "Epoch 100, Train Loss: 0.1256, Val Loss: 1.4074\n",
      "Epoch 200, Train Loss: 0.1036, Val Loss: 1.4055\n",
      "Early stopping at epoch 234\n",
      "Training complete.\n",
      "Starting Round 484\n"
     ]
    },
    {
     "name": "stderr",
     "output_type": "stream",
     "text": [
      "dist_matrix: 100%|####################################################################| 10/10 [00:00<00:00, 146.84it/s]\n",
      "synth_matrix: 100%|####################################################################| 10/10 [00:00<00:00, 53.91it/s]\n",
      "r_index: 100%|##########################################################################| 2/2 [00:00<00:00, 110.27it/s]\n"
     ]
    },
    {
     "name": "stdout",
     "output_type": "stream",
     "text": [
      "Epoch 100, Train Loss: 0.1057, Val Loss: 0.7426\n",
      "Epoch 200, Train Loss: 0.0880, Val Loss: 0.7607\n",
      "Early stopping at epoch 210\n",
      "Training complete.\n",
      "Starting Round 485\n"
     ]
    },
    {
     "name": "stderr",
     "output_type": "stream",
     "text": [
      "dist_matrix: 100%|####################################################################| 11/11 [00:00<00:00, 148.67it/s]\n",
      "synth_matrix: 100%|###################################################################| 11/11 [00:00<00:00, 111.13it/s]\n",
      "r_index: 100%|########################################################################| 10/10 [00:00<00:00, 118.46it/s]\n"
     ]
    },
    {
     "name": "stdout",
     "output_type": "stream",
     "text": [
      "Epoch 100, Train Loss: 0.1456, Val Loss: 1.0446\n",
      "Epoch 200, Train Loss: 0.1232, Val Loss: 1.0063\n",
      "Early stopping at epoch 244\n",
      "Training complete.\n",
      "Starting Round 486\n"
     ]
    },
    {
     "name": "stderr",
     "output_type": "stream",
     "text": [
      "dist_matrix: 100%|####################################################################| 12/12 [00:00<00:00, 127.82it/s]\n",
      "synth_matrix: 100%|###################################################################| 12/12 [00:00<00:00, 120.62it/s]\n",
      "r_index: 100%|##########################################################################| 7/7 [00:00<00:00, 113.09it/s]\n"
     ]
    },
    {
     "name": "stdout",
     "output_type": "stream",
     "text": [
      "Epoch 100, Train Loss: 0.1142, Val Loss: 0.6968\n",
      "Epoch 200, Train Loss: 0.0978, Val Loss: 0.7568\n",
      "Early stopping at epoch 213\n",
      "Training complete.\n",
      "Starting Round 487\n",
      "SMOGN failed: redefine phi relevance function: all points are 1\n",
      "→ Using original data instead.\n",
      "Epoch 100, Train Loss: 0.1631, Val Loss: 0.4815\n",
      "Epoch 200, Train Loss: 0.1361, Val Loss: 0.4828\n",
      "Epoch 300, Train Loss: 0.1322, Val Loss: 0.4538\n",
      "Early stopping at epoch 361\n",
      "Training complete.\n",
      "Starting Round 488\n",
      "SMOGN failed: redefine phi relevance function: all points are 1\n",
      "→ Using original data instead.\n",
      "Epoch 100, Train Loss: 0.1507, Val Loss: 1.3697\n",
      "Early stopping at epoch 150\n",
      "Training complete.\n",
      "Starting Round 489\n"
     ]
    },
    {
     "name": "stderr",
     "output_type": "stream",
     "text": [
      "dist_matrix: 100%|######################################################################| 8/8 [00:00<00:00, 183.02it/s]\n",
      "synth_matrix: 100%|######################################################################| 8/8 [00:00<00:00, 35.67it/s]\n"
     ]
    },
    {
     "name": "stdout",
     "output_type": "stream",
     "text": [
      "Epoch 100, Train Loss: 0.0947, Val Loss: 0.8051\n",
      "Epoch 200, Train Loss: 0.0776, Val Loss: 0.7788\n",
      "Early stopping at epoch 281\n",
      "Training complete.\n",
      "Starting Round 490\n"
     ]
    },
    {
     "name": "stderr",
     "output_type": "stream",
     "text": [
      "dist_matrix: 100%|######################################################################| 6/6 [00:00<00:00, 214.15it/s]\n",
      "synth_matrix: 100%|######################################################################| 6/6 [00:00<00:00, 25.75it/s]\n",
      "r_index: 100%|##########################################################################| 1/1 [00:00<00:00, 285.99it/s]\n"
     ]
    },
    {
     "name": "stdout",
     "output_type": "stream",
     "text": [
      "Epoch 100, Train Loss: 0.1192, Val Loss: 15.6438\n",
      "Epoch 200, Train Loss: 0.1043, Val Loss: 15.6145\n",
      "Epoch 300, Train Loss: 0.0990, Val Loss: 15.7254\n",
      "Early stopping at epoch 309\n",
      "Training complete.\n",
      "Starting Round 491\n"
     ]
    },
    {
     "name": "stderr",
     "output_type": "stream",
     "text": [
      "dist_matrix: 100%|####################################################################| 11/11 [00:00<00:00, 144.95it/s]\n",
      "synth_matrix: 100%|###################################################################| 11/11 [00:00<00:00, 118.62it/s]\n",
      "r_index: 100%|########################################################################| 10/10 [00:00<00:00, 122.26it/s]\n"
     ]
    },
    {
     "name": "stdout",
     "output_type": "stream",
     "text": [
      "Epoch 100, Train Loss: 0.1667, Val Loss: 1.0376\n",
      "Early stopping at epoch 169\n",
      "Training complete.\n",
      "Starting Round 492\n"
     ]
    },
    {
     "name": "stderr",
     "output_type": "stream",
     "text": [
      "dist_matrix: 100%|####################################################################| 10/10 [00:00<00:00, 139.41it/s]\n",
      "synth_matrix: 100%|####################################################################| 10/10 [00:00<00:00, 57.84it/s]\n",
      "r_index: 100%|##########################################################################| 2/2 [00:00<00:00, 107.79it/s]\n"
     ]
    },
    {
     "name": "stdout",
     "output_type": "stream",
     "text": [
      "Epoch 100, Train Loss: 0.0943, Val Loss: 355.2369\n",
      "Epoch 00171: reducing learning rate of group 0 to 1.0000e-02.\n",
      "Early stopping at epoch 176\n",
      "Training complete.\n",
      "Starting Round 493\n"
     ]
    },
    {
     "name": "stderr",
     "output_type": "stream",
     "text": [
      "dist_matrix: 100%|######################################################################| 9/9 [00:00<00:00, 173.48it/s]\n",
      "synth_matrix: 100%|######################################################################| 9/9 [00:00<00:00, 64.99it/s]\n",
      "r_index: 100%|##########################################################################| 4/4 [00:00<00:00, 212.53it/s]\n"
     ]
    },
    {
     "name": "stdout",
     "output_type": "stream",
     "text": [
      "Epoch 100, Train Loss: 0.1054, Val Loss: 2.1237\n",
      "Early stopping at epoch 176\n",
      "Training complete.\n",
      "Starting Round 494\n",
      "SMOGN failed: redefine phi relevance function: all points are 1\n",
      "→ Using original data instead.\n",
      "Epoch 100, Train Loss: 0.1454, Val Loss: 2.6112\n",
      "Early stopping at epoch 157\n",
      "Training complete.\n",
      "Starting Round 495\n"
     ]
    },
    {
     "name": "stderr",
     "output_type": "stream",
     "text": [
      "dist_matrix: 100%|####################################################################| 13/13 [00:00<00:00, 116.01it/s]\n",
      "synth_matrix: 100%|###################################################################| 13/13 [00:00<00:00, 123.08it/s]\n",
      "r_index: 100%|##########################################################################| 6/6 [00:00<00:00, 112.21it/s]\n"
     ]
    },
    {
     "name": "stdout",
     "output_type": "stream",
     "text": [
      "Epoch 100, Train Loss: 0.0962, Val Loss: 4.4819\n",
      "Early stopping at epoch 122\n",
      "Training complete.\n",
      "Starting Round 496\n"
     ]
    },
    {
     "name": "stderr",
     "output_type": "stream",
     "text": [
      "dist_matrix: 100%|####################################################################| 12/12 [00:00<00:00, 120.26it/s]\n",
      "synth_matrix: 100%|###################################################################| 12/12 [00:00<00:00, 100.23it/s]\n",
      "r_index: 100%|##########################################################################| 7/7 [00:00<00:00, 105.80it/s]\n"
     ]
    },
    {
     "name": "stdout",
     "output_type": "stream",
     "text": [
      "Epoch 100, Train Loss: 0.1226, Val Loss: 2.4969\n",
      "Early stopping at epoch 148\n",
      "Training complete.\n",
      "Starting Round 497\n"
     ]
    },
    {
     "name": "stderr",
     "output_type": "stream",
     "text": [
      "dist_matrix: 100%|####################################################################| 10/10 [00:00<00:00, 146.44it/s]\n",
      "synth_matrix: 100%|####################################################################| 10/10 [00:00<00:00, 54.55it/s]\n",
      "r_index: 100%|###########################################################################| 2/2 [00:00<00:00, 92.80it/s]\n"
     ]
    },
    {
     "name": "stdout",
     "output_type": "stream",
     "text": [
      "Epoch 100, Train Loss: 0.1436, Val Loss: 4.8534\n",
      "Epoch 200, Train Loss: 0.1201, Val Loss: 4.8221\n",
      "Early stopping at epoch 238\n",
      "Training complete.\n",
      "Starting Round 498\n"
     ]
    },
    {
     "name": "stderr",
     "output_type": "stream",
     "text": [
      "dist_matrix: 100%|####################################################################| 11/11 [00:00<00:00, 132.83it/s]\n",
      "synth_matrix: 100%|###################################################################| 11/11 [00:00<00:00, 102.10it/s]\n",
      "r_index: 100%|########################################################################| 10/10 [00:00<00:00, 112.83it/s]\n"
     ]
    },
    {
     "name": "stdout",
     "output_type": "stream",
     "text": [
      "Epoch 100, Train Loss: 0.1228, Val Loss: 1.0398\n",
      "Epoch 200, Train Loss: 0.1085, Val Loss: 0.9909\n",
      "Epoch 300, Train Loss: 0.0961, Val Loss: 1.0241\n",
      "Early stopping at epoch 306\n",
      "Training complete.\n",
      "Starting Round 499\n",
      "SMOGN failed: redefine phi relevance function: all points are 1\n",
      "→ Using original data instead.\n",
      "Epoch 100, Train Loss: 0.1630, Val Loss: 0.6453\n",
      "Early stopping at epoch 188\n",
      "Training complete.\n",
      "Starting Round 500\n"
     ]
    },
    {
     "name": "stderr",
     "output_type": "stream",
     "text": [
      "dist_matrix: 100%|####################################################################| 10/10 [00:00<00:00, 148.68it/s]\n",
      "synth_matrix: 100%|####################################################################| 10/10 [00:00<00:00, 62.79it/s]\n",
      "r_index: 100%|##########################################################################| 2/2 [00:00<00:00, 150.36it/s]\n"
     ]
    },
    {
     "name": "stdout",
     "output_type": "stream",
     "text": [
      "Epoch 100, Train Loss: 0.1562, Val Loss: 8.1881\n",
      "Early stopping at epoch 180\n",
      "Training complete.\n",
      "Starting Round 501\n",
      "SMOGN failed: redefine phi relevance function: all points are 1\n",
      "→ Using original data instead.\n",
      "Epoch 100, Train Loss: 0.1500, Val Loss: 32.3634\n",
      "Epoch 00126: reducing learning rate of group 0 to 1.0000e-02.\n",
      "Early stopping at epoch 126\n",
      "Training complete.\n",
      "Starting Round 502\n",
      "SMOGN failed: redefine phi relevance function: all points are 1\n",
      "→ Using original data instead.\n",
      "Epoch 100, Train Loss: 0.1487, Val Loss: 3.5566\n",
      "Early stopping at epoch 119\n",
      "Training complete.\n",
      "Starting Round 503\n"
     ]
    },
    {
     "name": "stderr",
     "output_type": "stream",
     "text": [
      "dist_matrix: 100%|####################################################################| 11/11 [00:00<00:00, 137.97it/s]\n",
      "synth_matrix: 100%|###################################################################| 11/11 [00:00<00:00, 111.76it/s]\n",
      "r_index: 100%|########################################################################| 10/10 [00:00<00:00, 120.07it/s]\n"
     ]
    },
    {
     "name": "stdout",
     "output_type": "stream",
     "text": [
      "Epoch 100, Train Loss: 0.1124, Val Loss: 5.3480\n",
      "Early stopping at epoch 187\n",
      "Training complete.\n",
      "Starting Round 504\n",
      "SMOGN failed: redefine phi relevance function: all points are 1\n",
      "→ Using original data instead.\n",
      "Epoch 100, Train Loss: 0.1481, Val Loss: 0.8155\n",
      "Epoch 200, Train Loss: 0.1404, Val Loss: 0.7637\n",
      "Early stopping at epoch 269\n",
      "Training complete.\n",
      "Starting Round 505\n"
     ]
    },
    {
     "name": "stderr",
     "output_type": "stream",
     "text": [
      "dist_matrix: 100%|####################################################################| 10/10 [00:00<00:00, 135.92it/s]\n",
      "synth_matrix: 100%|####################################################################| 10/10 [00:00<00:00, 54.20it/s]\n",
      "r_index: 100%|##########################################################################| 2/2 [00:00<00:00, 156.89it/s]\n"
     ]
    },
    {
     "name": "stdout",
     "output_type": "stream",
     "text": [
      "Epoch 100, Train Loss: 0.1464, Val Loss: 58.2014\n",
      "Early stopping at epoch 120\n",
      "Training complete.\n",
      "Starting Round 506\n"
     ]
    },
    {
     "name": "stderr",
     "output_type": "stream",
     "text": [
      "dist_matrix: 100%|######################################################################| 8/8 [00:00<00:00, 180.00it/s]\n",
      "synth_matrix: 100%|######################################################################| 8/8 [00:00<00:00, 36.38it/s]\n"
     ]
    },
    {
     "name": "stdout",
     "output_type": "stream",
     "text": [
      "Epoch 100, Train Loss: 0.1211, Val Loss: 0.8604\n",
      "Epoch 200, Train Loss: 0.1064, Val Loss: 0.8145\n",
      "Early stopping at epoch 268\n",
      "Training complete.\n",
      "Starting Round 507\n"
     ]
    },
    {
     "name": "stderr",
     "output_type": "stream",
     "text": [
      "dist_matrix: 100%|######################################################################| 8/8 [00:00<00:00, 165.00it/s]\n",
      "synth_matrix: 100%|######################################################################| 8/8 [00:00<00:00, 37.80it/s]\n"
     ]
    },
    {
     "name": "stdout",
     "output_type": "stream",
     "text": [
      "Epoch 100, Train Loss: 0.1401, Val Loss: 0.7277\n",
      "Epoch 200, Train Loss: 0.1144, Val Loss: 0.6952\n",
      "Early stopping at epoch 293\n",
      "Training complete.\n",
      "Starting Round 508\n"
     ]
    },
    {
     "name": "stderr",
     "output_type": "stream",
     "text": [
      "dist_matrix: 100%|######################################################################| 7/7 [00:00<00:00, 212.43it/s]\n",
      "synth_matrix: 100%|######################################################################| 7/7 [00:00<00:00, 32.53it/s]\n",
      "r_index: 100%|###########################################################################| 3/3 [00:00<00:00, 99.30it/s]\n"
     ]
    },
    {
     "name": "stdout",
     "output_type": "stream",
     "text": [
      "Epoch 100, Train Loss: 0.0841, Val Loss: 2.3909\n",
      "Early stopping at epoch 127\n",
      "Training complete.\n",
      "Starting Round 509\n"
     ]
    },
    {
     "name": "stderr",
     "output_type": "stream",
     "text": [
      "dist_matrix: 100%|######################################################################| 7/7 [00:00<00:00, 164.24it/s]\n",
      "synth_matrix: 100%|######################################################################| 7/7 [00:00<00:00, 32.60it/s]\n",
      "r_index: 100%|##########################################################################| 3/3 [00:00<00:00, 126.06it/s]\n"
     ]
    },
    {
     "name": "stdout",
     "output_type": "stream",
     "text": [
      "Epoch 100, Train Loss: 0.1153, Val Loss: 0.5712\n",
      "Epoch 200, Train Loss: 0.0892, Val Loss: 0.5396\n",
      "Early stopping at epoch 243\n",
      "Training complete.\n",
      "Starting Round 510\n"
     ]
    },
    {
     "name": "stderr",
     "output_type": "stream",
     "text": [
      "dist_matrix: 100%|####################################################################| 13/13 [00:00<00:00, 110.76it/s]\n",
      "synth_matrix: 100%|###################################################################| 13/13 [00:00<00:00, 126.10it/s]\n",
      "r_index: 100%|###########################################################################| 6/6 [00:00<00:00, 99.63it/s]\n"
     ]
    },
    {
     "name": "stdout",
     "output_type": "stream",
     "text": [
      "Epoch 100, Train Loss: 0.1163, Val Loss: 28.2417\n",
      "Epoch 00163: reducing learning rate of group 0 to 1.0000e-02.\n",
      "Epoch 200, Train Loss: 0.0610, Val Loss: 28.2808\n",
      "Early stopping at epoch 218\n",
      "Training complete.\n",
      "Starting Round 511\n"
     ]
    },
    {
     "name": "stderr",
     "output_type": "stream",
     "text": [
      "dist_matrix: 100%|######################################################################| 8/8 [00:00<00:00, 183.69it/s]\n",
      "synth_matrix: 100%|######################################################################| 8/8 [00:00<00:00, 36.67it/s]\n"
     ]
    },
    {
     "name": "stdout",
     "output_type": "stream",
     "text": [
      "Epoch 100, Train Loss: 0.1502, Val Loss: 12.4843\n",
      "Early stopping at epoch 143\n",
      "Training complete.\n",
      "Starting Round 512\n"
     ]
    },
    {
     "name": "stderr",
     "output_type": "stream",
     "text": [
      "dist_matrix: 100%|######################################################################| 7/7 [00:00<00:00, 190.76it/s]\n",
      "synth_matrix: 100%|######################################################################| 7/7 [00:00<00:00, 35.10it/s]\n",
      "r_index: 100%|###########################################################################| 3/3 [00:00<00:00, 94.17it/s]\n"
     ]
    },
    {
     "name": "stdout",
     "output_type": "stream",
     "text": [
      "Epoch 100, Train Loss: 0.0996, Val Loss: 603.8907\n",
      "Epoch 200, Train Loss: 0.0823, Val Loss: 603.8531\n",
      "Epoch 00214: reducing learning rate of group 0 to 1.0000e-02.\n",
      "Early stopping at epoch 300\n",
      "Training complete.\n",
      "Starting Round 513\n"
     ]
    },
    {
     "name": "stderr",
     "output_type": "stream",
     "text": [
      "dist_matrix: 100%|####################################################################| 12/12 [00:00<00:00, 114.57it/s]\n",
      "synth_matrix: 100%|###################################################################| 12/12 [00:00<00:00, 107.00it/s]\n",
      "r_index: 100%|###########################################################################| 7/7 [00:00<00:00, 97.22it/s]\n"
     ]
    },
    {
     "name": "stdout",
     "output_type": "stream",
     "text": [
      "Epoch 100, Train Loss: 0.1265, Val Loss: 1.3251\n",
      "Epoch 200, Train Loss: 0.1130, Val Loss: 1.3125\n",
      "Early stopping at epoch 249\n",
      "Training complete.\n",
      "Starting Round 514\n"
     ]
    },
    {
     "name": "stderr",
     "output_type": "stream",
     "text": [
      "dist_matrix: 100%|######################################################################| 7/7 [00:00<00:00, 199.38it/s]\n",
      "synth_matrix: 100%|######################################################################| 7/7 [00:00<00:00, 45.41it/s]\n",
      "dist_matrix: 100%|######################################################################| 9/9 [00:00<00:00, 180.81it/s]\n",
      "synth_matrix: 100%|#####################################################################| 9/9 [00:00<00:00, 113.26it/s]\n",
      "r_index: 100%|###########################################################################| 4/4 [00:00<00:00, 99.33it/s]\n"
     ]
    },
    {
     "name": "stdout",
     "output_type": "stream",
     "text": [
      "Epoch 100, Train Loss: 0.1131, Val Loss: 31.6137\n",
      "Early stopping at epoch 175\n",
      "Training complete.\n",
      "Starting Round 515\n"
     ]
    },
    {
     "name": "stderr",
     "output_type": "stream",
     "text": [
      "dist_matrix: 100%|######################################################################| 8/8 [00:00<00:00, 180.95it/s]\n",
      "synth_matrix: 100%|######################################################################| 8/8 [00:00<00:00, 33.79it/s]\n"
     ]
    },
    {
     "name": "stdout",
     "output_type": "stream",
     "text": [
      "Epoch 100, Train Loss: 0.1147, Val Loss: 25.4441\n",
      "Epoch 200, Train Loss: 0.1014, Val Loss: 25.4295\n",
      "Epoch 00214: reducing learning rate of group 0 to 1.0000e-02.\n",
      "Early stopping at epoch 296\n",
      "Training complete.\n",
      "Starting Round 516\n"
     ]
    },
    {
     "name": "stderr",
     "output_type": "stream",
     "text": [
      "dist_matrix: 100%|######################################################################| 7/7 [00:00<00:00, 198.23it/s]\n",
      "synth_matrix: 100%|######################################################################| 7/7 [00:00<00:00, 34.95it/s]\n",
      "r_index: 100%|##########################################################################| 3/3 [00:00<00:00, 100.55it/s]\n"
     ]
    },
    {
     "name": "stdout",
     "output_type": "stream",
     "text": [
      "Epoch 100, Train Loss: 0.0968, Val Loss: 455.8523\n",
      "Epoch 00172: reducing learning rate of group 0 to 1.0000e-02.\n",
      "Epoch 200, Train Loss: 0.0639, Val Loss: 455.8372\n",
      "Early stopping at epoch 243\n",
      "Training complete.\n",
      "Starting Round 517\n",
      "SMOGN failed: redefine phi relevance function: all points are 1\n",
      "→ Using original data instead.\n",
      "Epoch 100, Train Loss: 0.1513, Val Loss: 1.4911\n",
      "Early stopping at epoch 191\n",
      "Training complete.\n",
      "Starting Round 518\n",
      "SMOGN failed: redefine phi relevance function: all points are 1\n",
      "→ Using original data instead.\n",
      "Epoch 100, Train Loss: 0.1432, Val Loss: 4.4649\n",
      "Epoch 200, Train Loss: 0.1354, Val Loss: 4.4785\n",
      "Early stopping at epoch 283\n",
      "Training complete.\n",
      "Starting Round 519\n"
     ]
    },
    {
     "name": "stderr",
     "output_type": "stream",
     "text": [
      "dist_matrix: 100%|######################################################################| 7/7 [00:00<00:00, 214.96it/s]\n",
      "synth_matrix: 100%|######################################################################| 7/7 [00:00<00:00, 38.07it/s]\n",
      "r_index: 100%|###########################################################################| 3/3 [00:00<00:00, 82.54it/s]\n"
     ]
    },
    {
     "name": "stdout",
     "output_type": "stream",
     "text": [
      "Epoch 100, Train Loss: 0.1142, Val Loss: 0.6041\n",
      "Early stopping at epoch 125\n",
      "Training complete.\n",
      "Starting Round 520\n"
     ]
    },
    {
     "name": "stderr",
     "output_type": "stream",
     "text": [
      "dist_matrix: 100%|####################################################################| 12/12 [00:00<00:00, 131.73it/s]\n",
      "synth_matrix: 100%|####################################################################| 12/12 [00:00<00:00, 95.96it/s]\n",
      "r_index: 100%|##########################################################################| 7/7 [00:00<00:00, 139.48it/s]\n"
     ]
    },
    {
     "name": "stdout",
     "output_type": "stream",
     "text": [
      "Epoch 100, Train Loss: 0.1045, Val Loss: 0.8371\n",
      "Early stopping at epoch 120\n",
      "Training complete.\n",
      "Starting Round 521\n"
     ]
    },
    {
     "name": "stderr",
     "output_type": "stream",
     "text": [
      "dist_matrix: 100%|####################################################################| 11/11 [00:00<00:00, 139.98it/s]\n",
      "synth_matrix: 100%|###################################################################| 11/11 [00:00<00:00, 100.94it/s]\n",
      "dist_matrix: 100%|######################################################################| 9/9 [00:00<00:00, 201.80it/s]\n",
      "synth_matrix: 100%|#####################################################################| 9/9 [00:00<00:00, 119.99it/s]\n",
      "r_index: 100%|##########################################################################| 4/4 [00:00<00:00, 117.73it/s]\n"
     ]
    },
    {
     "name": "stdout",
     "output_type": "stream",
     "text": [
      "Epoch 100, Train Loss: 0.1313, Val Loss: 33.5569\n",
      "Epoch 200, Train Loss: 0.1051, Val Loss: 33.5644\n",
      "Epoch 00232: reducing learning rate of group 0 to 1.0000e-02.\n",
      "Early stopping at epoch 270\n",
      "Training complete.\n",
      "Starting Round 522\n"
     ]
    },
    {
     "name": "stderr",
     "output_type": "stream",
     "text": [
      "dist_matrix: 100%|######################################################################| 8/8 [00:00<00:00, 164.17it/s]\n",
      "synth_matrix: 100%|######################################################################| 8/8 [00:00<00:00, 34.06it/s]\n"
     ]
    },
    {
     "name": "stdout",
     "output_type": "stream",
     "text": [
      "Epoch 100, Train Loss: 0.1352, Val Loss: 0.7554\n",
      "Epoch 200, Train Loss: 0.1308, Val Loss: 0.7052\n",
      "Early stopping at epoch 277\n",
      "Training complete.\n",
      "Starting Round 523\n"
     ]
    },
    {
     "name": "stderr",
     "output_type": "stream",
     "text": [
      "dist_matrix: 100%|######################################################################| 9/9 [00:00<00:00, 168.26it/s]\n",
      "synth_matrix: 100%|######################################################################| 9/9 [00:00<00:00, 53.96it/s]\n",
      "r_index: 100%|##########################################################################| 4/4 [00:00<00:00, 122.12it/s]\n"
     ]
    },
    {
     "name": "stdout",
     "output_type": "stream",
     "text": [
      "Epoch 100, Train Loss: 0.1058, Val Loss: 1.1776\n",
      "Early stopping at epoch 115\n",
      "Training complete.\n",
      "Starting Round 524\n"
     ]
    },
    {
     "name": "stderr",
     "output_type": "stream",
     "text": [
      "dist_matrix: 100%|######################################################################| 7/7 [00:00<00:00, 219.05it/s]\n",
      "synth_matrix: 100%|######################################################################| 7/7 [00:00<00:00, 37.63it/s]\n",
      "r_index: 100%|##########################################################################| 3/3 [00:00<00:00, 124.53it/s]\n"
     ]
    },
    {
     "name": "stdout",
     "output_type": "stream",
     "text": [
      "Epoch 100, Train Loss: 0.0874, Val Loss: 12.0692\n",
      "Early stopping at epoch 145\n",
      "Training complete.\n",
      "Starting Round 525\n"
     ]
    },
    {
     "name": "stderr",
     "output_type": "stream",
     "text": [
      "dist_matrix: 100%|######################################################################| 9/9 [00:00<00:00, 168.67it/s]\n",
      "synth_matrix: 100%|#####################################################################| 9/9 [00:00<00:00, 162.95it/s]\n",
      "r_index: 100%|##########################################################################| 4/4 [00:00<00:00, 174.03it/s]\n",
      "dist_matrix: 100%|######################################################################| 8/8 [00:00<00:00, 227.68it/s]\n",
      "synth_matrix: 100%|#####################################################################| 8/8 [00:00<00:00, 116.42it/s]\n",
      "r_index: 100%|##########################################################################| 6/6 [00:00<00:00, 124.30it/s]\n"
     ]
    },
    {
     "name": "stdout",
     "output_type": "stream",
     "text": [
      "Epoch 100, Train Loss: 0.1197, Val Loss: 9.9402\n",
      "Early stopping at epoch 109\n",
      "Training complete.\n",
      "Starting Round 526\n"
     ]
    },
    {
     "name": "stderr",
     "output_type": "stream",
     "text": [
      "dist_matrix: 100%|######################################################################| 9/9 [00:00<00:00, 166.08it/s]\n",
      "synth_matrix: 100%|######################################################################| 9/9 [00:00<00:00, 57.55it/s]\n",
      "r_index: 100%|##########################################################################| 4/4 [00:00<00:00, 103.94it/s]\n"
     ]
    },
    {
     "name": "stdout",
     "output_type": "stream",
     "text": [
      "Epoch 100, Train Loss: 0.1070, Val Loss: 1.9540\n",
      "Early stopping at epoch 180\n",
      "Training complete.\n",
      "Starting Round 527\n",
      "SMOGN failed: redefine phi relevance function: all points are 1\n",
      "→ Using original data instead.\n",
      "Epoch 100, Train Loss: 0.1371, Val Loss: 0.9517\n",
      "Early stopping at epoch 136\n",
      "Training complete.\n",
      "Starting Round 528\n"
     ]
    },
    {
     "name": "stderr",
     "output_type": "stream",
     "text": [
      "dist_matrix: 100%|####################################################################| 10/10 [00:00<00:00, 159.51it/s]\n",
      "synth_matrix: 100%|####################################################################| 10/10 [00:00<00:00, 58.07it/s]\n",
      "r_index: 100%|##########################################################################| 2/2 [00:00<00:00, 101.22it/s]\n"
     ]
    },
    {
     "name": "stdout",
     "output_type": "stream",
     "text": [
      "Epoch 100, Train Loss: 0.0892, Val Loss: 6.6700\n",
      "Epoch 200, Train Loss: 0.0753, Val Loss: 6.7103\n",
      "Early stopping at epoch 246\n",
      "Training complete.\n",
      "Starting Round 529\n",
      "SMOGN failed: redefine phi relevance function: all points are 1\n",
      "→ Using original data instead.\n",
      "Epoch 100, Train Loss: 0.1514, Val Loss: 0.7079\n",
      "Epoch 200, Train Loss: 0.1464, Val Loss: 0.7383\n",
      "Early stopping at epoch 201\n",
      "Training complete.\n",
      "Starting Round 530\n"
     ]
    },
    {
     "name": "stderr",
     "output_type": "stream",
     "text": [
      "dist_matrix: 100%|####################################################################| 12/12 [00:00<00:00, 129.97it/s]\n",
      "synth_matrix: 100%|###################################################################| 12/12 [00:00<00:00, 114.60it/s]\n",
      "r_index: 100%|##########################################################################| 7/7 [00:00<00:00, 104.22it/s]\n"
     ]
    },
    {
     "name": "stdout",
     "output_type": "stream",
     "text": [
      "Epoch 100, Train Loss: 0.1303, Val Loss: 1.1077\n",
      "Epoch 200, Train Loss: 0.1000, Val Loss: 1.0784\n",
      "Epoch 300, Train Loss: 0.1063, Val Loss: 1.1258\n",
      "Epoch 400, Train Loss: 0.1007, Val Loss: 1.1219\n",
      "Early stopping at epoch 457\n",
      "Training complete.\n",
      "Starting Round 531\n"
     ]
    },
    {
     "name": "stderr",
     "output_type": "stream",
     "text": [
      "dist_matrix: 100%|####################################################################| 14/14 [00:00<00:00, 103.89it/s]\n",
      "r_index: 100%|##########################################################################| 8/8 [00:00<00:00, 199.98it/s]\n",
      "dist_matrix: 100%|######################################################################| 9/9 [00:00<00:00, 197.28it/s]\n",
      "synth_matrix: 100%|#####################################################################| 9/9 [00:00<00:00, 128.49it/s]\n",
      "r_index: 100%|##########################################################################| 4/4 [00:00<00:00, 154.71it/s]\n"
     ]
    },
    {
     "name": "stdout",
     "output_type": "stream",
     "text": [
      "Epoch 100, Train Loss: 0.1091, Val Loss: 2.0606\n",
      "Early stopping at epoch 192\n",
      "Training complete.\n",
      "Starting Round 532\n"
     ]
    },
    {
     "name": "stderr",
     "output_type": "stream",
     "text": [
      "dist_matrix: 100%|####################################################################| 11/11 [00:00<00:00, 134.55it/s]\n",
      "synth_matrix: 100%|###################################################################| 11/11 [00:00<00:00, 100.45it/s]\n",
      "r_index: 100%|########################################################################| 10/10 [00:00<00:00, 117.83it/s]\n"
     ]
    },
    {
     "name": "stdout",
     "output_type": "stream",
     "text": [
      "Epoch 100, Train Loss: 0.1039, Val Loss: 2.8756\n",
      "Epoch 200, Train Loss: 0.0914, Val Loss: 2.8689\n",
      "Epoch 300, Train Loss: 0.0914, Val Loss: 2.8634\n",
      "Epoch 400, Train Loss: 0.0920, Val Loss: 2.8528\n",
      "Epoch 500, Train Loss: 0.0891, Val Loss: 2.8816\n",
      "Epoch 600, Train Loss: 0.0815, Val Loss: 2.8674\n",
      "Early stopping at epoch 624\n",
      "Training complete.\n",
      "Starting Round 533\n"
     ]
    },
    {
     "name": "stderr",
     "output_type": "stream",
     "text": [
      "dist_matrix: 100%|######################################################################| 9/9 [00:00<00:00, 190.61it/s]\n",
      "synth_matrix: 100%|######################################################################| 9/9 [00:00<00:00, 61.19it/s]\n",
      "r_index: 100%|##########################################################################| 4/4 [00:00<00:00, 103.47it/s]\n"
     ]
    },
    {
     "name": "stdout",
     "output_type": "stream",
     "text": [
      "Epoch 100, Train Loss: 0.0864, Val Loss: 2.1150\n",
      "Early stopping at epoch 195\n",
      "Training complete.\n",
      "Starting Round 534\n"
     ]
    },
    {
     "name": "stderr",
     "output_type": "stream",
     "text": [
      "dist_matrix: 100%|######################################################################| 7/7 [00:00<00:00, 191.18it/s]\n",
      "synth_matrix: 100%|######################################################################| 7/7 [00:00<00:00, 35.75it/s]\n",
      "r_index: 100%|###########################################################################| 3/3 [00:00<00:00, 98.78it/s]\n"
     ]
    },
    {
     "name": "stdout",
     "output_type": "stream",
     "text": [
      "Epoch 100, Train Loss: 0.1066, Val Loss: 52.0759\n",
      "Epoch 00162: reducing learning rate of group 0 to 1.0000e-02.\n",
      "Early stopping at epoch 191\n",
      "Training complete.\n",
      "Starting Round 535\n"
     ]
    },
    {
     "name": "stderr",
     "output_type": "stream",
     "text": [
      "dist_matrix: 100%|######################################################################| 8/8 [00:00<00:00, 194.72it/s]\n",
      "synth_matrix: 100%|######################################################################| 8/8 [00:00<00:00, 42.17it/s]\n"
     ]
    },
    {
     "name": "stdout",
     "output_type": "stream",
     "text": [
      "Epoch 100, Train Loss: 0.1404, Val Loss: 5.1741\n",
      "Early stopping at epoch 156\n",
      "Training complete.\n",
      "Starting Round 536\n"
     ]
    },
    {
     "name": "stderr",
     "output_type": "stream",
     "text": [
      "dist_matrix: 100%|######################################################################| 9/9 [00:00<00:00, 169.73it/s]\n",
      "synth_matrix: 100%|######################################################################| 9/9 [00:00<00:00, 54.53it/s]\n",
      "r_index: 100%|##########################################################################| 4/4 [00:00<00:00, 112.26it/s]\n"
     ]
    },
    {
     "name": "stdout",
     "output_type": "stream",
     "text": [
      "Epoch 100, Train Loss: 0.0951, Val Loss: 815.1796\n",
      "Epoch 00121: reducing learning rate of group 0 to 1.0000e-02.\n",
      "Early stopping at epoch 168\n",
      "Training complete.\n",
      "Starting Round 537\n"
     ]
    },
    {
     "name": "stderr",
     "output_type": "stream",
     "text": [
      "dist_matrix: 100%|####################################################################| 10/10 [00:00<00:00, 164.01it/s]\n",
      "synth_matrix: 100%|###################################################################| 10/10 [00:00<00:00, 128.12it/s]\n",
      "r_index: 100%|##########################################################################| 2/2 [00:00<00:00, 155.76it/s]\n",
      "dist_matrix: 100%|######################################################################| 9/9 [00:00<00:00, 192.11it/s]\n",
      "synth_matrix: 100%|#####################################################################| 9/9 [00:00<00:00, 111.28it/s]\n",
      "r_index: 100%|##########################################################################| 4/4 [00:00<00:00, 119.02it/s]\n"
     ]
    },
    {
     "name": "stdout",
     "output_type": "stream",
     "text": [
      "Epoch 100, Train Loss: 0.1327, Val Loss: 2.1603\n",
      "Epoch 200, Train Loss: 0.1169, Val Loss: 2.1850\n",
      "Early stopping at epoch 288\n",
      "Training complete.\n",
      "Starting Round 538\n"
     ]
    },
    {
     "name": "stderr",
     "output_type": "stream",
     "text": [
      "dist_matrix: 100%|######################################################################| 9/9 [00:00<00:00, 189.80it/s]\n",
      "synth_matrix: 100%|######################################################################| 9/9 [00:00<00:00, 60.49it/s]\n",
      "r_index: 100%|##########################################################################| 4/4 [00:00<00:00, 105.49it/s]\n"
     ]
    },
    {
     "name": "stdout",
     "output_type": "stream",
     "text": [
      "Epoch 100, Train Loss: 0.1069, Val Loss: 35.1649\n",
      "Epoch 200, Train Loss: 0.0832, Val Loss: 35.1461\n",
      "Early stopping at epoch 229\n",
      "Training complete.\n",
      "Starting Round 539\n",
      "SMOGN failed: redefine phi relevance function: all points are 1\n",
      "→ Using original data instead.\n",
      "Epoch 100, Train Loss: 0.1448, Val Loss: 0.7313\n",
      "Early stopping at epoch 116\n",
      "Training complete.\n",
      "Starting Round 540\n",
      "SMOGN failed: redefine phi relevance function: all points are 1\n",
      "→ Using original data instead.\n",
      "Epoch 100, Train Loss: 0.1372, Val Loss: 2.3602\n",
      "Epoch 200, Train Loss: 0.1315, Val Loss: 2.3868\n",
      "Early stopping at epoch 201\n",
      "Training complete.\n",
      "Starting Round 541\n"
     ]
    },
    {
     "name": "stderr",
     "output_type": "stream",
     "text": [
      "dist_matrix: 100%|######################################################################| 9/9 [00:00<00:00, 171.61it/s]\n",
      "synth_matrix: 100%|######################################################################| 9/9 [00:00<00:00, 49.31it/s]\n",
      "r_index: 100%|##########################################################################| 4/4 [00:00<00:00, 129.25it/s]\n"
     ]
    },
    {
     "name": "stdout",
     "output_type": "stream",
     "text": [
      "Epoch 100, Train Loss: 0.1124, Val Loss: 2.3886\n",
      "Early stopping at epoch 135\n",
      "Training complete.\n",
      "Starting Round 542\n"
     ]
    },
    {
     "name": "stderr",
     "output_type": "stream",
     "text": [
      "dist_matrix: 100%|######################################################################| 9/9 [00:00<00:00, 173.21it/s]\n",
      "synth_matrix: 100%|######################################################################| 9/9 [00:00<00:00, 52.95it/s]\n",
      "r_index: 100%|##########################################################################| 4/4 [00:00<00:00, 167.17it/s]\n"
     ]
    },
    {
     "name": "stdout",
     "output_type": "stream",
     "text": [
      "Epoch 100, Train Loss: 0.1046, Val Loss: 22.6932\n",
      "Epoch 00121: reducing learning rate of group 0 to 1.0000e-02.\n",
      "Early stopping at epoch 121\n",
      "Training complete.\n",
      "Starting Round 543\n"
     ]
    },
    {
     "name": "stderr",
     "output_type": "stream",
     "text": [
      "dist_matrix: 100%|####################################################################| 10/10 [00:00<00:00, 137.42it/s]\n",
      "synth_matrix: 100%|####################################################################| 10/10 [00:00<00:00, 52.61it/s]\n",
      "r_index: 100%|##########################################################################| 2/2 [00:00<00:00, 160.13it/s]\n"
     ]
    },
    {
     "name": "stdout",
     "output_type": "stream",
     "text": [
      "Epoch 100, Train Loss: 0.1096, Val Loss: 3.8825\n",
      "Early stopping at epoch 125\n",
      "Training complete.\n",
      "Starting Round 544\n"
     ]
    },
    {
     "name": "stderr",
     "output_type": "stream",
     "text": [
      "dist_matrix: 100%|####################################################################| 10/10 [00:00<00:00, 147.45it/s]\n",
      "synth_matrix: 100%|####################################################################| 10/10 [00:00<00:00, 58.17it/s]\n",
      "r_index: 100%|##########################################################################| 2/2 [00:00<00:00, 104.02it/s]\n"
     ]
    },
    {
     "name": "stdout",
     "output_type": "stream",
     "text": [
      "Epoch 100, Train Loss: 0.1053, Val Loss: 6.3894\n",
      "Epoch 200, Train Loss: 0.0948, Val Loss: 6.3654\n",
      "Early stopping at epoch 271\n",
      "Training complete.\n",
      "Starting Round 545\n"
     ]
    },
    {
     "name": "stderr",
     "output_type": "stream",
     "text": [
      "dist_matrix: 100%|######################################################################| 9/9 [00:00<00:00, 157.40it/s]\n",
      "synth_matrix: 100%|######################################################################| 9/9 [00:00<00:00, 57.91it/s]\n",
      "r_index: 100%|##########################################################################| 4/4 [00:00<00:00, 106.91it/s]\n"
     ]
    },
    {
     "name": "stdout",
     "output_type": "stream",
     "text": [
      "Epoch 100, Train Loss: 0.0880, Val Loss: 7.0327\n",
      "Epoch 200, Train Loss: 0.0828, Val Loss: 7.0250\n",
      "Epoch 300, Train Loss: 0.0773, Val Loss: 7.0092\n",
      "Early stopping at epoch 397\n",
      "Training complete.\n",
      "Starting Round 546\n"
     ]
    },
    {
     "name": "stderr",
     "output_type": "stream",
     "text": [
      "dist_matrix: 100%|######################################################################| 7/7 [00:00<00:00, 242.63it/s]\n",
      "synth_matrix: 100%|######################################################################| 7/7 [00:00<00:00, 35.90it/s]\n",
      "r_index: 100%|##########################################################################| 3/3 [00:00<00:00, 111.40it/s]\n"
     ]
    },
    {
     "name": "stdout",
     "output_type": "stream",
     "text": [
      "Epoch 100, Train Loss: 0.1062, Val Loss: 5.1777\n",
      "Epoch 200, Train Loss: 0.0952, Val Loss: 5.2098\n",
      "Early stopping at epoch 251\n",
      "Training complete.\n",
      "Starting Round 547\n"
     ]
    },
    {
     "name": "stderr",
     "output_type": "stream",
     "text": [
      "dist_matrix: 100%|####################################################################| 11/11 [00:00<00:00, 134.08it/s]\n",
      "synth_matrix: 100%|###################################################################| 11/11 [00:00<00:00, 122.74it/s]\n",
      "r_index: 100%|########################################################################| 10/10 [00:00<00:00, 120.16it/s]\n"
     ]
    },
    {
     "name": "stdout",
     "output_type": "stream",
     "text": [
      "Epoch 100, Train Loss: 0.1134, Val Loss: 24.0196\n",
      "Early stopping at epoch 128\n",
      "Training complete.\n",
      "Starting Round 548\n"
     ]
    },
    {
     "name": "stderr",
     "output_type": "stream",
     "text": [
      "dist_matrix: 100%|######################################################################| 9/9 [00:00<00:00, 174.46it/s]\n",
      "synth_matrix: 100%|######################################################################| 9/9 [00:00<00:00, 62.59it/s]\n",
      "r_index: 100%|##########################################################################| 4/4 [00:00<00:00, 129.69it/s]\n"
     ]
    },
    {
     "name": "stdout",
     "output_type": "stream",
     "text": [
      "Epoch 100, Train Loss: 0.1185, Val Loss: 40.1350\n",
      "Epoch 200, Train Loss: 0.0891, Val Loss: 40.1835\n",
      "Early stopping at epoch 275\n",
      "Training complete.\n",
      "Starting Round 549\n"
     ]
    },
    {
     "name": "stderr",
     "output_type": "stream",
     "text": [
      "dist_matrix: 100%|######################################################################| 8/8 [00:00<00:00, 175.71it/s]\n",
      "synth_matrix: 100%|######################################################################| 8/8 [00:00<00:00, 37.67it/s]\n"
     ]
    },
    {
     "name": "stdout",
     "output_type": "stream",
     "text": [
      "Epoch 100, Train Loss: 0.0998, Val Loss: 27.2613\n",
      "Epoch 200, Train Loss: 0.0935, Val Loss: 27.2643\n",
      "Early stopping at epoch 225\n",
      "Training complete.\n",
      "Starting Round 550\n",
      "SMOGN failed: redefine phi relevance function: all points are 1\n",
      "→ Using original data instead.\n",
      "Epoch 100, Train Loss: 0.1546, Val Loss: 1161.9799\n",
      "Early stopping at epoch 122\n",
      "Training complete.\n",
      "Starting Round 551\n"
     ]
    },
    {
     "name": "stderr",
     "output_type": "stream",
     "text": [
      "dist_matrix: 100%|####################################################################| 12/12 [00:00<00:00, 129.24it/s]\n",
      "synth_matrix: 100%|###################################################################| 12/12 [00:00<00:00, 138.23it/s]\n",
      "r_index: 100%|##########################################################################| 7/7 [00:00<00:00, 123.55it/s]\n"
     ]
    },
    {
     "name": "stdout",
     "output_type": "stream",
     "text": [
      "Epoch 100, Train Loss: 0.1492, Val Loss: 7.4605\n",
      "Early stopping at epoch 122\n",
      "Training complete.\n",
      "Starting Round 552\n"
     ]
    },
    {
     "name": "stderr",
     "output_type": "stream",
     "text": [
      "dist_matrix: 100%|######################################################################| 8/8 [00:00<00:00, 194.90it/s]\n",
      "synth_matrix: 100%|#####################################################################| 8/8 [00:00<00:00, 111.07it/s]\n",
      "r_index: 100%|##########################################################################| 6/6 [00:00<00:00, 111.69it/s]\n",
      "dist_matrix: 100%|####################################################################| 11/11 [00:00<00:00, 165.71it/s]\n",
      "synth_matrix: 100%|###################################################################| 11/11 [00:00<00:00, 116.75it/s]\n"
     ]
    },
    {
     "name": "stdout",
     "output_type": "stream",
     "text": [
      "Epoch 100, Train Loss: 0.1150, Val Loss: 0.8748\n",
      "Early stopping at epoch 179\n",
      "Training complete.\n",
      "Starting Round 553\n"
     ]
    },
    {
     "name": "stderr",
     "output_type": "stream",
     "text": [
      "dist_matrix: 100%|######################################################################| 9/9 [00:00<00:00, 157.81it/s]\n",
      "synth_matrix: 100%|######################################################################| 9/9 [00:00<00:00, 53.51it/s]\n",
      "r_index: 100%|##########################################################################| 4/4 [00:00<00:00, 104.30it/s]\n"
     ]
    },
    {
     "name": "stdout",
     "output_type": "stream",
     "text": [
      "Epoch 100, Train Loss: 0.1080, Val Loss: 1.1541\n",
      "Epoch 200, Train Loss: 0.0870, Val Loss: 1.1257\n",
      "Epoch 300, Train Loss: 0.0774, Val Loss: 1.1178\n",
      "Early stopping at epoch 317\n",
      "Training complete.\n",
      "Starting Round 554\n"
     ]
    },
    {
     "name": "stderr",
     "output_type": "stream",
     "text": [
      "dist_matrix: 100%|####################################################################| 11/11 [00:00<00:00, 146.35it/s]\n",
      "synth_matrix: 100%|###################################################################| 11/11 [00:00<00:00, 132.29it/s]\n",
      "dist_matrix: 100%|######################################################################| 9/9 [00:00<00:00, 210.56it/s]\n",
      "synth_matrix: 100%|#####################################################################| 9/9 [00:00<00:00, 125.96it/s]\n",
      "r_index: 100%|##########################################################################| 4/4 [00:00<00:00, 167.96it/s]\n"
     ]
    },
    {
     "name": "stdout",
     "output_type": "stream",
     "text": [
      "Epoch 100, Train Loss: 0.1293, Val Loss: 0.5895\n",
      "Epoch 200, Train Loss: 0.1100, Val Loss: 0.6026\n",
      "Early stopping at epoch 202\n",
      "Training complete.\n",
      "Starting Round 555\n"
     ]
    },
    {
     "name": "stderr",
     "output_type": "stream",
     "text": [
      "dist_matrix: 100%|####################################################################| 12/12 [00:00<00:00, 121.23it/s]\n",
      "synth_matrix: 100%|###################################################################| 12/12 [00:00<00:00, 136.75it/s]\n",
      "r_index: 100%|##########################################################################| 7/7 [00:00<00:00, 128.64it/s]\n"
     ]
    },
    {
     "name": "stdout",
     "output_type": "stream",
     "text": [
      "Epoch 100, Train Loss: 0.0857, Val Loss: 0.6350\n",
      "Epoch 200, Train Loss: 0.0825, Val Loss: 0.5880\n",
      "Early stopping at epoch 256\n",
      "Training complete.\n",
      "Starting Round 556\n"
     ]
    },
    {
     "name": "stderr",
     "output_type": "stream",
     "text": [
      "dist_matrix: 100%|######################################################################| 8/8 [00:00<00:00, 191.51it/s]\n",
      "synth_matrix: 100%|######################################################################| 8/8 [00:00<00:00, 36.80it/s]\n"
     ]
    },
    {
     "name": "stdout",
     "output_type": "stream",
     "text": [
      "Epoch 100, Train Loss: 0.0853, Val Loss: 8.5414\n",
      "Early stopping at epoch 127\n",
      "Training complete.\n",
      "Starting Round 557\n"
     ]
    },
    {
     "name": "stderr",
     "output_type": "stream",
     "text": [
      "dist_matrix: 100%|####################################################################| 13/13 [00:00<00:00, 123.60it/s]\n",
      "r_index: 100%|##########################################################################| 9/9 [00:00<00:00, 111.03it/s]\n",
      "dist_matrix: 100%|####################################################################| 10/10 [00:00<00:00, 178.14it/s]\n",
      "synth_matrix: 100%|###################################################################| 10/10 [00:00<00:00, 127.44it/s]\n",
      "r_index: 100%|##########################################################################| 2/2 [00:00<00:00, 113.85it/s]\n"
     ]
    },
    {
     "name": "stdout",
     "output_type": "stream",
     "text": [
      "Epoch 100, Train Loss: 0.1321, Val Loss: 413.4034\n",
      "Epoch 00173: reducing learning rate of group 0 to 1.0000e-02.\n",
      "Early stopping at epoch 188\n",
      "Training complete.\n",
      "Starting Round 558\n"
     ]
    },
    {
     "name": "stderr",
     "output_type": "stream",
     "text": [
      "dist_matrix: 100%|######################################################################| 9/9 [00:00<00:00, 168.96it/s]\n",
      "synth_matrix: 100%|######################################################################| 9/9 [00:00<00:00, 69.61it/s]\n",
      "r_index: 100%|##########################################################################| 4/4 [00:00<00:00, 108.37it/s]\n"
     ]
    },
    {
     "name": "stdout",
     "output_type": "stream",
     "text": [
      "Epoch 100, Train Loss: 0.1755, Val Loss: 34.1788\n",
      "Epoch 200, Train Loss: 0.1468, Val Loss: 34.2826\n",
      "Epoch 300, Train Loss: 0.1321, Val Loss: 34.1186\n",
      "Early stopping at epoch 313\n",
      "Training complete.\n",
      "Starting Round 559\n"
     ]
    },
    {
     "name": "stderr",
     "output_type": "stream",
     "text": [
      "dist_matrix: 100%|####################################################################| 13/13 [00:00<00:00, 133.58it/s]\n",
      "r_index: 100%|##########################################################################| 9/9 [00:00<00:00, 156.28it/s]\n",
      "dist_matrix: 100%|######################################################################| 9/9 [00:00<00:00, 198.23it/s]\n",
      "synth_matrix: 100%|#####################################################################| 9/9 [00:00<00:00, 127.73it/s]\n",
      "r_index: 100%|##########################################################################| 4/4 [00:00<00:00, 111.59it/s]\n"
     ]
    },
    {
     "name": "stdout",
     "output_type": "stream",
     "text": [
      "Epoch 100, Train Loss: 0.1201, Val Loss: 1.0034\n",
      "Epoch 200, Train Loss: 0.1158, Val Loss: 0.9945\n",
      "Early stopping at epoch 238\n",
      "Training complete.\n",
      "Starting Round 560\n"
     ]
    },
    {
     "name": "stderr",
     "output_type": "stream",
     "text": [
      "dist_matrix: 100%|####################################################################| 13/13 [00:00<00:00, 117.92it/s]\n",
      "synth_matrix: 100%|###################################################################| 13/13 [00:00<00:00, 105.30it/s]\n",
      "r_index: 100%|##########################################################################| 6/6 [00:00<00:00, 143.44it/s]\n"
     ]
    },
    {
     "name": "stdout",
     "output_type": "stream",
     "text": [
      "Epoch 100, Train Loss: 0.1370, Val Loss: 5.9351\n",
      "Epoch 200, Train Loss: 0.1230, Val Loss: 5.9314\n",
      "Epoch 300, Train Loss: 0.1235, Val Loss: 5.9543\n",
      "Early stopping at epoch 319\n",
      "Training complete.\n",
      "Starting Round 561\n"
     ]
    },
    {
     "name": "stderr",
     "output_type": "stream",
     "text": [
      "dist_matrix: 100%|####################################################################| 10/10 [00:00<00:00, 150.23it/s]\n",
      "synth_matrix: 100%|####################################################################| 10/10 [00:00<00:00, 59.29it/s]\n",
      "r_index: 100%|##########################################################################| 2/2 [00:00<00:00, 105.24it/s]\n"
     ]
    },
    {
     "name": "stdout",
     "output_type": "stream",
     "text": [
      "Epoch 100, Train Loss: 0.1139, Val Loss: 3.1562\n",
      "Early stopping at epoch 131\n",
      "Training complete.\n",
      "Starting Round 562\n"
     ]
    },
    {
     "name": "stderr",
     "output_type": "stream",
     "text": [
      "dist_matrix: 100%|####################################################################| 10/10 [00:00<00:00, 139.48it/s]\n",
      "synth_matrix: 100%|####################################################################| 10/10 [00:00<00:00, 59.74it/s]\n",
      "r_index: 100%|##########################################################################| 2/2 [00:00<00:00, 105.88it/s]\n"
     ]
    },
    {
     "name": "stdout",
     "output_type": "stream",
     "text": [
      "Epoch 100, Train Loss: 0.1021, Val Loss: 0.9237\n",
      "Epoch 200, Train Loss: 0.0930, Val Loss: 0.9354\n",
      "Epoch 300, Train Loss: 0.0834, Val Loss: 0.9524\n",
      "Early stopping at epoch 342\n",
      "Training complete.\n",
      "Starting Round 563\n"
     ]
    },
    {
     "name": "stderr",
     "output_type": "stream",
     "text": [
      "dist_matrix: 100%|####################################################################| 10/10 [00:00<00:00, 153.73it/s]\n",
      "synth_matrix: 100%|####################################################################| 10/10 [00:00<00:00, 57.45it/s]\n",
      "r_index: 100%|##########################################################################| 2/2 [00:00<00:00, 105.26it/s]\n"
     ]
    },
    {
     "name": "stdout",
     "output_type": "stream",
     "text": [
      "Epoch 100, Train Loss: 0.1117, Val Loss: 514.9706\n",
      "Epoch 00116: reducing learning rate of group 0 to 1.0000e-02.\n",
      "Early stopping at epoch 160\n",
      "Training complete.\n",
      "Starting Round 564\n",
      "SMOGN failed: redefine phi relevance function: all points are 1\n",
      "→ Using original data instead.\n",
      "Epoch 100, Train Loss: 0.1434, Val Loss: 9.4085\n",
      "Epoch 200, Train Loss: 0.1271, Val Loss: 9.3773\n",
      "Early stopping at epoch 279\n",
      "Training complete.\n",
      "Starting Round 565\n",
      "SMOGN failed: redefine phi relevance function: all points are 1\n",
      "→ Using original data instead.\n",
      "Epoch 100, Train Loss: 0.1291, Val Loss: 7.2972\n",
      "Epoch 200, Train Loss: 0.1124, Val Loss: 7.2661\n",
      "Epoch 300, Train Loss: 0.1155, Val Loss: 7.3047\n",
      "Early stopping at epoch 321\n",
      "Training complete.\n",
      "Starting Round 566\n",
      "SMOGN failed: redefine phi relevance function: all points are 1\n",
      "→ Using original data instead.\n",
      "Epoch 100, Train Loss: 0.1409, Val Loss: 3.2328\n",
      "Epoch 200, Train Loss: 0.1317, Val Loss: 3.2373\n",
      "Epoch 300, Train Loss: 0.1201, Val Loss: 3.2353\n",
      "Early stopping at epoch 385\n",
      "Training complete.\n",
      "Starting Round 567\n",
      "SMOGN failed: redefine phi relevance function: all points are 1\n",
      "→ Using original data instead.\n",
      "Epoch 100, Train Loss: 0.1641, Val Loss: 1.4984\n",
      "Early stopping at epoch 126\n",
      "Training complete.\n",
      "Starting Round 568\n"
     ]
    },
    {
     "name": "stderr",
     "output_type": "stream",
     "text": [
      "dist_matrix: 100%|######################################################################| 7/7 [00:00<00:00, 206.21it/s]\n",
      "synth_matrix: 100%|######################################################################| 7/7 [00:00<00:00, 33.03it/s]\n",
      "r_index: 100%|##########################################################################| 3/3 [00:00<00:00, 106.77it/s]\n"
     ]
    },
    {
     "name": "stdout",
     "output_type": "stream",
     "text": [
      "Epoch 100, Train Loss: 0.1199, Val Loss: 121.4701\n",
      "Epoch 200, Train Loss: 0.1044, Val Loss: 121.4529\n",
      "Early stopping at epoch 252\n",
      "Training complete.\n",
      "Starting Round 569\n"
     ]
    },
    {
     "name": "stderr",
     "output_type": "stream",
     "text": [
      "dist_matrix: 100%|######################################################################| 9/9 [00:00<00:00, 151.97it/s]\n",
      "synth_matrix: 100%|######################################################################| 9/9 [00:00<00:00, 51.16it/s]\n",
      "r_index: 100%|###########################################################################| 4/4 [00:00<00:00, 92.20it/s]\n"
     ]
    },
    {
     "name": "stdout",
     "output_type": "stream",
     "text": [
      "Epoch 100, Train Loss: 0.1079, Val Loss: 1.4357\n",
      "Early stopping at epoch 143\n",
      "Training complete.\n",
      "Starting Round 570\n"
     ]
    },
    {
     "name": "stderr",
     "output_type": "stream",
     "text": [
      "dist_matrix: 100%|####################################################################| 12/12 [00:00<00:00, 121.20it/s]\n",
      "synth_matrix: 100%|###################################################################| 12/12 [00:00<00:00, 107.43it/s]\n",
      "r_index: 100%|##########################################################################| 7/7 [00:00<00:00, 128.94it/s]\n"
     ]
    },
    {
     "name": "stdout",
     "output_type": "stream",
     "text": [
      "Epoch 100, Train Loss: 0.1283, Val Loss: 3.7392\n",
      "Epoch 200, Train Loss: 0.1144, Val Loss: 3.7437\n",
      "Early stopping at epoch 278\n",
      "Training complete.\n",
      "Starting Round 571\n",
      "SMOGN failed: redefine phi relevance function: all points are 1\n",
      "→ Using original data instead.\n",
      "Epoch 100, Train Loss: 0.1444, Val Loss: 0.8758\n",
      "Epoch 200, Train Loss: 0.1353, Val Loss: 0.8873\n",
      "Early stopping at epoch 287\n",
      "Training complete.\n",
      "Starting Round 572\n"
     ]
    },
    {
     "name": "stderr",
     "output_type": "stream",
     "text": [
      "dist_matrix: 100%|######################################################################| 9/9 [00:00<00:00, 155.37it/s]\n",
      "synth_matrix: 100%|######################################################################| 9/9 [00:00<00:00, 49.31it/s]\n",
      "r_index: 100%|##########################################################################| 4/4 [00:00<00:00, 110.68it/s]\n"
     ]
    },
    {
     "name": "stdout",
     "output_type": "stream",
     "text": [
      "Epoch 100, Train Loss: 0.1107, Val Loss: 4.3995\n",
      "Epoch 200, Train Loss: 0.0878, Val Loss: 4.3934\n",
      "Early stopping at epoch 217\n",
      "Training complete.\n",
      "Starting Round 573\n"
     ]
    },
    {
     "name": "stderr",
     "output_type": "stream",
     "text": [
      "dist_matrix: 100%|######################################################################| 9/9 [00:00<00:00, 154.66it/s]\n",
      "synth_matrix: 100%|######################################################################| 9/9 [00:00<00:00, 54.31it/s]\n",
      "r_index: 100%|##########################################################################| 4/4 [00:00<00:00, 130.92it/s]\n"
     ]
    },
    {
     "name": "stdout",
     "output_type": "stream",
     "text": [
      "Epoch 100, Train Loss: 0.1030, Val Loss: 0.6700\n",
      "Epoch 200, Train Loss: 0.0916, Val Loss: 0.6712\n",
      "Early stopping at epoch 223\n",
      "Training complete.\n",
      "Starting Round 574\n"
     ]
    },
    {
     "name": "stderr",
     "output_type": "stream",
     "text": [
      "dist_matrix: 100%|####################################################################| 12/12 [00:00<00:00, 125.78it/s]\n",
      "r_index: 100%|########################################################################| 10/10 [00:00<00:00, 107.33it/s]\n",
      "dist_matrix: 100%|####################################################################| 11/11 [00:00<00:00, 163.26it/s]\n",
      "synth_matrix: 100%|###################################################################| 11/11 [00:00<00:00, 132.44it/s]\n"
     ]
    },
    {
     "name": "stdout",
     "output_type": "stream",
     "text": [
      "Epoch 100, Train Loss: 0.1570, Val Loss: 160.4396\n",
      "Early stopping at epoch 150\n",
      "Training complete.\n",
      "Starting Round 575\n"
     ]
    },
    {
     "name": "stderr",
     "output_type": "stream",
     "text": [
      "dist_matrix: 100%|####################################################################| 11/11 [00:00<00:00, 136.51it/s]\n",
      "synth_matrix: 100%|###################################################################| 11/11 [00:00<00:00, 100.36it/s]\n",
      "r_index: 100%|########################################################################| 10/10 [00:00<00:00, 121.18it/s]\n"
     ]
    },
    {
     "name": "stdout",
     "output_type": "stream",
     "text": [
      "Epoch 100, Train Loss: 0.1046, Val Loss: 7.6827\n",
      "Epoch 200, Train Loss: 0.0990, Val Loss: 7.6478\n",
      "Early stopping at epoch 291\n",
      "Training complete.\n",
      "Starting Round 576\n"
     ]
    },
    {
     "name": "stderr",
     "output_type": "stream",
     "text": [
      "dist_matrix: 100%|######################################################################| 9/9 [00:00<00:00, 154.66it/s]\n",
      "synth_matrix: 100%|######################################################################| 9/9 [00:00<00:00, 60.09it/s]\n",
      "r_index: 100%|##########################################################################| 4/4 [00:00<00:00, 110.80it/s]\n"
     ]
    },
    {
     "name": "stdout",
     "output_type": "stream",
     "text": [
      "Epoch 100, Train Loss: 0.1015, Val Loss: 6.2417\n",
      "Early stopping at epoch 158\n",
      "Training complete.\n",
      "Starting Round 577\n"
     ]
    },
    {
     "name": "stderr",
     "output_type": "stream",
     "text": [
      "dist_matrix: 100%|######################################################################| 6/6 [00:00<00:00, 209.86it/s]\n",
      "synth_matrix: 100%|######################################################################| 6/6 [00:00<00:00, 47.13it/s]\n",
      "r_index: 100%|##########################################################################| 3/3 [00:00<00:00, 111.20it/s]\n",
      "dist_matrix: 100%|####################################################################| 10/10 [00:00<00:00, 157.62it/s]\n",
      "synth_matrix: 100%|###################################################################| 10/10 [00:00<00:00, 105.60it/s]\n",
      "r_index: 100%|###########################################################################| 2/2 [00:00<00:00, 92.68it/s]\n"
     ]
    },
    {
     "name": "stdout",
     "output_type": "stream",
     "text": [
      "Epoch 100, Train Loss: 0.1061, Val Loss: 1.3082\n",
      "Early stopping at epoch 133\n",
      "Training complete.\n",
      "Starting Round 578\n"
     ]
    },
    {
     "name": "stderr",
     "output_type": "stream",
     "text": [
      "dist_matrix: 100%|####################################################################| 10/10 [00:00<00:00, 131.71it/s]\n",
      "synth_matrix: 100%|####################################################################| 10/10 [00:00<00:00, 41.23it/s]\n",
      "r_index: 100%|###########################################################################| 2/2 [00:00<00:00, 57.83it/s]\n"
     ]
    },
    {
     "name": "stdout",
     "output_type": "stream",
     "text": [
      "Epoch 100, Train Loss: 0.0927, Val Loss: 1.4730\n",
      "Early stopping at epoch 166\n",
      "Training complete.\n",
      "Starting Round 579\n"
     ]
    },
    {
     "name": "stderr",
     "output_type": "stream",
     "text": [
      "dist_matrix: 100%|####################################################################| 12/12 [00:00<00:00, 123.86it/s]\n",
      "r_index: 100%|########################################################################| 10/10 [00:00<00:00, 139.09it/s]\n",
      "dist_matrix: 100%|####################################################################| 11/11 [00:00<00:00, 154.35it/s]\n",
      "synth_matrix: 100%|###################################################################| 11/11 [00:00<00:00, 117.30it/s]\n"
     ]
    },
    {
     "name": "stdout",
     "output_type": "stream",
     "text": [
      "Epoch 100, Train Loss: 0.1383, Val Loss: 5.8414\n",
      "Early stopping at epoch 127\n",
      "Training complete.\n",
      "Starting Round 580\n",
      "SMOGN failed: redefine phi relevance function: all points are 1\n",
      "→ Using original data instead.\n",
      "Epoch 100, Train Loss: 0.1534, Val Loss: 0.7535\n",
      "Epoch 200, Train Loss: 0.1459, Val Loss: 0.8396\n",
      "Early stopping at epoch 225\n",
      "Training complete.\n",
      "Starting Round 581\n"
     ]
    },
    {
     "name": "stderr",
     "output_type": "stream",
     "text": [
      "dist_matrix: 100%|######################################################################| 7/7 [00:00<00:00, 235.32it/s]\n",
      "synth_matrix: 100%|######################################################################| 7/7 [00:00<00:00, 35.27it/s]\n",
      "r_index: 100%|##########################################################################| 3/3 [00:00<00:00, 106.55it/s]\n"
     ]
    },
    {
     "name": "stdout",
     "output_type": "stream",
     "text": [
      "Epoch 100, Train Loss: 0.1841, Val Loss: 2.9949\n",
      "Epoch 200, Train Loss: 0.1575, Val Loss: 3.2133\n",
      "Early stopping at epoch 205\n",
      "Training complete.\n",
      "Starting Round 582\n"
     ]
    },
    {
     "name": "stderr",
     "output_type": "stream",
     "text": [
      "dist_matrix: 100%|######################################################################| 9/9 [00:00<00:00, 168.20it/s]\n",
      "synth_matrix: 100%|######################################################################| 9/9 [00:00<00:00, 48.48it/s]\n",
      "r_index: 100%|##########################################################################| 4/4 [00:00<00:00, 106.82it/s]\n"
     ]
    },
    {
     "name": "stdout",
     "output_type": "stream",
     "text": [
      "Epoch 100, Train Loss: 0.1352, Val Loss: 0.9098\n",
      "Early stopping at epoch 192\n",
      "Training complete.\n",
      "Starting Round 583\n"
     ]
    },
    {
     "name": "stderr",
     "output_type": "stream",
     "text": [
      "dist_matrix: 100%|####################################################################| 10/10 [00:00<00:00, 137.45it/s]\n",
      "synth_matrix: 100%|####################################################################| 10/10 [00:00<00:00, 60.39it/s]\n",
      "r_index: 100%|###########################################################################| 2/2 [00:00<00:00, 99.71it/s]\n"
     ]
    },
    {
     "name": "stdout",
     "output_type": "stream",
     "text": [
      "Epoch 100, Train Loss: 0.1571, Val Loss: 1.4750\n",
      "Epoch 200, Train Loss: 0.1274, Val Loss: 1.4219\n",
      "Early stopping at epoch 225\n",
      "Training complete.\n",
      "Starting Round 584\n"
     ]
    },
    {
     "name": "stderr",
     "output_type": "stream",
     "text": [
      "dist_matrix: 100%|####################################################################| 14/14 [00:00<00:00, 100.36it/s]\n",
      "synth_matrix: 100%|###################################################################| 14/14 [00:00<00:00, 130.65it/s]\n",
      "r_index: 100%|##########################################################################| 3/3 [00:00<00:00, 103.41it/s]\n"
     ]
    },
    {
     "name": "stdout",
     "output_type": "stream",
     "text": [
      "Epoch 100, Train Loss: 0.1565, Val Loss: 1.7303\n",
      "Early stopping at epoch 172\n",
      "Training complete.\n",
      "Starting Round 585\n"
     ]
    },
    {
     "name": "stderr",
     "output_type": "stream",
     "text": [
      "dist_matrix: 100%|####################################################################| 11/11 [00:00<00:00, 135.62it/s]\n",
      "synth_matrix: 100%|###################################################################| 11/11 [00:00<00:00, 125.57it/s]\n",
      "dist_matrix: 100%|####################################################################| 13/13 [00:00<00:00, 139.29it/s]\n",
      "r_index: 100%|##########################################################################| 9/9 [00:00<00:00, 166.43it/s]\n"
     ]
    },
    {
     "name": "stdout",
     "output_type": "stream",
     "text": [
      "Epoch 100, Train Loss: 0.1209, Val Loss: 4.8802\n",
      "Early stopping at epoch 124\n",
      "Training complete.\n",
      "Starting Round 586\n"
     ]
    },
    {
     "name": "stderr",
     "output_type": "stream",
     "text": [
      "dist_matrix: 100%|######################################################################| 9/9 [00:00<00:00, 134.95it/s]\n",
      "synth_matrix: 100%|######################################################################| 9/9 [00:00<00:00, 55.57it/s]\n",
      "r_index: 100%|##########################################################################| 4/4 [00:00<00:00, 130.78it/s]\n"
     ]
    },
    {
     "name": "stdout",
     "output_type": "stream",
     "text": [
      "Epoch 100, Train Loss: 0.1128, Val Loss: 2.5928\n",
      "Epoch 200, Train Loss: 0.1052, Val Loss: 2.5340\n",
      "Epoch 300, Train Loss: 0.0967, Val Loss: 2.5666\n",
      "Early stopping at epoch 317\n",
      "Training complete.\n",
      "Starting Round 587\n"
     ]
    },
    {
     "name": "stderr",
     "output_type": "stream",
     "text": [
      "dist_matrix: 100%|####################################################################| 11/11 [00:00<00:00, 134.36it/s]\n",
      "synth_matrix: 100%|###################################################################| 11/11 [00:00<00:00, 120.07it/s]\n",
      "r_index: 100%|########################################################################| 10/10 [00:00<00:00, 134.08it/s]\n"
     ]
    },
    {
     "name": "stdout",
     "output_type": "stream",
     "text": [
      "Epoch 100, Train Loss: 0.0961, Val Loss: 30.7872\n",
      "Early stopping at epoch 185\n",
      "Training complete.\n",
      "Starting Round 588\n"
     ]
    },
    {
     "name": "stderr",
     "output_type": "stream",
     "text": [
      "dist_matrix: 100%|####################################################################| 13/13 [00:00<00:00, 118.95it/s]\n",
      "synth_matrix: 100%|###################################################################| 13/13 [00:00<00:00, 130.38it/s]\n",
      "r_index: 100%|##########################################################################| 6/6 [00:00<00:00, 125.05it/s]\n"
     ]
    },
    {
     "name": "stdout",
     "output_type": "stream",
     "text": [
      "Epoch 100, Train Loss: 0.1402, Val Loss: 0.7312\n",
      "Early stopping at epoch 200\n",
      "Training complete.\n",
      "Starting Round 589\n"
     ]
    },
    {
     "name": "stderr",
     "output_type": "stream",
     "text": [
      "dist_matrix: 100%|######################################################################| 9/9 [00:00<00:00, 154.84it/s]\n",
      "synth_matrix: 100%|######################################################################| 9/9 [00:00<00:00, 55.34it/s]\n",
      "r_index: 100%|##########################################################################| 4/4 [00:00<00:00, 113.66it/s]\n"
     ]
    },
    {
     "name": "stdout",
     "output_type": "stream",
     "text": [
      "Epoch 100, Train Loss: 0.1117, Val Loss: 441.7344\n",
      "Epoch 00134: reducing learning rate of group 0 to 1.0000e-02.\n",
      "Early stopping at epoch 152\n",
      "Training complete.\n",
      "Starting Round 590\n"
     ]
    },
    {
     "name": "stderr",
     "output_type": "stream",
     "text": [
      "dist_matrix: 100%|####################################################################| 11/11 [00:00<00:00, 133.88it/s]\n",
      "synth_matrix: 100%|###################################################################| 11/11 [00:00<00:00, 118.49it/s]\n",
      "r_index: 100%|########################################################################| 10/10 [00:00<00:00, 113.78it/s]\n"
     ]
    },
    {
     "name": "stdout",
     "output_type": "stream",
     "text": [
      "Epoch 100, Train Loss: 0.1449, Val Loss: 0.6025\n",
      "Epoch 200, Train Loss: 0.1074, Val Loss: 0.5892\n",
      "Early stopping at epoch 263\n",
      "Training complete.\n",
      "Starting Round 591\n"
     ]
    },
    {
     "name": "stderr",
     "output_type": "stream",
     "text": [
      "dist_matrix: 100%|######################################################################| 8/8 [00:00<00:00, 177.98it/s]\n",
      "synth_matrix: 100%|######################################################################| 8/8 [00:00<00:00, 35.51it/s]\n"
     ]
    },
    {
     "name": "stdout",
     "output_type": "stream",
     "text": [
      "Epoch 100, Train Loss: 0.1178, Val Loss: 1.1197\n",
      "Epoch 200, Train Loss: 0.0960, Val Loss: 1.1825\n",
      "Early stopping at epoch 206\n",
      "Training complete.\n",
      "Starting Round 592\n"
     ]
    },
    {
     "name": "stderr",
     "output_type": "stream",
     "text": [
      "dist_matrix: 100%|######################################################################| 8/8 [00:00<00:00, 177.09it/s]\n",
      "synth_matrix: 100%|######################################################################| 8/8 [00:00<00:00, 38.03it/s]\n"
     ]
    },
    {
     "name": "stdout",
     "output_type": "stream",
     "text": [
      "Epoch 100, Train Loss: 0.1656, Val Loss: 125.8020\n",
      "Epoch 200, Train Loss: 0.1393, Val Loss: 125.7343\n",
      "Early stopping at epoch 284\n",
      "Training complete.\n",
      "Starting Round 593\n"
     ]
    },
    {
     "name": "stderr",
     "output_type": "stream",
     "text": [
      "dist_matrix: 100%|####################################################################| 13/13 [00:00<00:00, 118.77it/s]\n",
      "r_index: 100%|###########################################################################| 9/9 [00:00<00:00, 96.03it/s]\n",
      "dist_matrix: 100%|####################################################################| 12/12 [00:00<00:00, 153.75it/s]\n",
      "r_index: 100%|########################################################################| 10/10 [00:00<00:00, 113.80it/s]\n"
     ]
    },
    {
     "name": "stdout",
     "output_type": "stream",
     "text": [
      "Epoch 100, Train Loss: 0.1258, Val Loss: 0.7754\n",
      "Epoch 200, Train Loss: 0.1047, Val Loss: 0.7648\n",
      "Early stopping at epoch 212\n",
      "Training complete.\n",
      "Starting Round 594\n"
     ]
    },
    {
     "name": "stderr",
     "output_type": "stream",
     "text": [
      "dist_matrix: 100%|####################################################################| 13/13 [00:00<00:00, 119.94it/s]\n",
      "r_index: 100%|##########################################################################| 9/9 [00:00<00:00, 109.00it/s]\n",
      "dist_matrix: 100%|####################################################################| 11/11 [00:00<00:00, 161.97it/s]\n",
      "synth_matrix: 100%|###################################################################| 11/11 [00:00<00:00, 132.86it/s]\n"
     ]
    },
    {
     "name": "stdout",
     "output_type": "stream",
     "text": [
      "Epoch 100, Train Loss: 0.1155, Val Loss: 14.7293\n",
      "Epoch 200, Train Loss: 0.0988, Val Loss: 14.7562\n",
      "Early stopping at epoch 202\n",
      "Training complete.\n",
      "Starting Round 595\n",
      "SMOGN failed: redefine phi relevance function: all points are 1\n",
      "→ Using original data instead.\n",
      "Epoch 100, Train Loss: 0.1379, Val Loss: 0.7449\n",
      "Epoch 200, Train Loss: 0.1195, Val Loss: 0.7561\n",
      "Early stopping at epoch 246\n",
      "Training complete.\n",
      "Starting Round 596\n"
     ]
    },
    {
     "name": "stderr",
     "output_type": "stream",
     "text": [
      "dist_matrix: 100%|####################################################################| 10/10 [00:00<00:00, 156.54it/s]\n",
      "synth_matrix: 100%|####################################################################| 10/10 [00:00<00:00, 54.43it/s]\n",
      "r_index: 100%|##########################################################################| 2/2 [00:00<00:00, 111.35it/s]\n"
     ]
    },
    {
     "name": "stdout",
     "output_type": "stream",
     "text": [
      "Epoch 100, Train Loss: 0.1583, Val Loss: 1.1383\n",
      "Epoch 200, Train Loss: 0.1221, Val Loss: 1.1538\n",
      "Early stopping at epoch 206\n",
      "Training complete.\n",
      "Starting Round 597\n"
     ]
    },
    {
     "name": "stderr",
     "output_type": "stream",
     "text": [
      "dist_matrix: 100%|####################################################################| 10/10 [00:00<00:00, 141.80it/s]\n",
      "synth_matrix: 100%|####################################################################| 10/10 [00:00<00:00, 52.10it/s]\n",
      "r_index: 100%|##########################################################################| 2/2 [00:00<00:00, 105.71it/s]\n"
     ]
    },
    {
     "name": "stdout",
     "output_type": "stream",
     "text": [
      "Epoch 100, Train Loss: 0.1522, Val Loss: 9.1390\n",
      "Early stopping at epoch 152\n",
      "Training complete.\n",
      "Starting Round 598\n"
     ]
    },
    {
     "name": "stderr",
     "output_type": "stream",
     "text": [
      "dist_matrix: 100%|######################################################################| 9/9 [00:00<00:00, 152.20it/s]\n",
      "synth_matrix: 100%|######################################################################| 9/9 [00:00<00:00, 51.54it/s]\n",
      "r_index: 100%|###########################################################################| 4/4 [00:00<00:00, 97.86it/s]\n"
     ]
    },
    {
     "name": "stdout",
     "output_type": "stream",
     "text": [
      "Epoch 100, Train Loss: 0.1119, Val Loss: 10.9447\n",
      "Early stopping at epoch 117\n",
      "Training complete.\n",
      "Starting Round 599\n"
     ]
    },
    {
     "name": "stderr",
     "output_type": "stream",
     "text": [
      "dist_matrix: 100%|####################################################################| 10/10 [00:00<00:00, 161.35it/s]\n",
      "synth_matrix: 100%|####################################################################| 10/10 [00:00<00:00, 53.40it/s]\n",
      "r_index: 100%|##########################################################################| 2/2 [00:00<00:00, 173.58it/s]\n"
     ]
    },
    {
     "name": "stdout",
     "output_type": "stream",
     "text": [
      "Epoch 100, Train Loss: 0.1492, Val Loss: 26.1480\n",
      "Epoch 200, Train Loss: 0.1137, Val Loss: 26.0879\n",
      "Early stopping at epoch 227\n",
      "Training complete.\n",
      "Starting Round 600\n"
     ]
    },
    {
     "name": "stderr",
     "output_type": "stream",
     "text": [
      "dist_matrix: 100%|####################################################################| 10/10 [00:00<00:00, 144.07it/s]\n",
      "synth_matrix: 100%|###################################################################| 10/10 [00:00<00:00, 139.23it/s]\n",
      "r_index: 100%|##########################################################################| 2/2 [00:00<00:00, 113.87it/s]\n",
      "dist_matrix: 100%|######################################################################| 9/9 [00:00<00:00, 198.04it/s]\n",
      "synth_matrix: 100%|#####################################################################| 9/9 [00:00<00:00, 113.64it/s]\n",
      "r_index: 100%|##########################################################################| 4/4 [00:00<00:00, 126.04it/s]\n"
     ]
    },
    {
     "name": "stdout",
     "output_type": "stream",
     "text": [
      "Epoch 100, Train Loss: 0.1182, Val Loss: 9.1549\n",
      "Early stopping at epoch 130\n",
      "Training complete.\n",
      "Starting Round 601\n",
      "SMOGN failed: redefine phi relevance function: all points are 1\n",
      "→ Using original data instead.\n",
      "Epoch 100, Train Loss: 0.1462, Val Loss: 554.5431\n",
      "Early stopping at epoch 173\n",
      "Training complete.\n",
      "Starting Round 602\n"
     ]
    },
    {
     "name": "stderr",
     "output_type": "stream",
     "text": [
      "dist_matrix: 100%|######################################################################| 9/9 [00:00<00:00, 118.03it/s]\n",
      "synth_matrix: 100%|######################################################################| 9/9 [00:00<00:00, 52.27it/s]\n",
      "r_index: 100%|##########################################################################| 4/4 [00:00<00:00, 142.88it/s]\n"
     ]
    },
    {
     "name": "stdout",
     "output_type": "stream",
     "text": [
      "Epoch 100, Train Loss: 0.1140, Val Loss: 0.6912\n",
      "Epoch 200, Train Loss: 0.0934, Val Loss: 0.6924\n",
      "Early stopping at epoch 292\n",
      "Training complete.\n",
      "Starting Round 603\n"
     ]
    },
    {
     "name": "stderr",
     "output_type": "stream",
     "text": [
      "dist_matrix: 100%|######################################################################| 7/7 [00:00<00:00, 201.69it/s]\n",
      "synth_matrix: 100%|######################################################################| 7/7 [00:00<00:00, 46.26it/s]\n",
      "dist_matrix: 100%|######################################################################| 9/9 [00:00<00:00, 191.37it/s]\n",
      "synth_matrix: 100%|#####################################################################| 9/9 [00:00<00:00, 108.56it/s]\n",
      "r_index: 100%|##########################################################################| 4/4 [00:00<00:00, 127.37it/s]\n"
     ]
    },
    {
     "name": "stdout",
     "output_type": "stream",
     "text": [
      "Epoch 100, Train Loss: 0.1226, Val Loss: 7.3114\n",
      "Early stopping at epoch 107\n",
      "Training complete.\n",
      "Starting Round 604\n"
     ]
    },
    {
     "name": "stderr",
     "output_type": "stream",
     "text": [
      "dist_matrix: 100%|####################################################################| 10/10 [00:00<00:00, 133.93it/s]\n",
      "synth_matrix: 100%|####################################################################| 10/10 [00:00<00:00, 55.26it/s]\n",
      "r_index: 100%|##########################################################################| 2/2 [00:00<00:00, 152.41it/s]\n"
     ]
    },
    {
     "name": "stdout",
     "output_type": "stream",
     "text": [
      "Epoch 100, Train Loss: 0.1117, Val Loss: 0.9233\n",
      "Epoch 200, Train Loss: 0.1079, Val Loss: 0.8719\n",
      "Epoch 300, Train Loss: 0.0926, Val Loss: 0.8577\n",
      "Epoch 400, Train Loss: 0.0972, Val Loss: 0.8521\n",
      "Epoch 500, Train Loss: 0.0873, Val Loss: 0.8721\n",
      "Early stopping at epoch 517\n",
      "Training complete.\n",
      "Starting Round 605\n"
     ]
    },
    {
     "name": "stderr",
     "output_type": "stream",
     "text": [
      "dist_matrix: 100%|####################################################################| 10/10 [00:00<00:00, 148.69it/s]\n",
      "synth_matrix: 100%|####################################################################| 10/10 [00:00<00:00, 50.62it/s]\n",
      "r_index: 100%|##########################################################################| 2/2 [00:00<00:00, 147.68it/s]\n"
     ]
    },
    {
     "name": "stdout",
     "output_type": "stream",
     "text": [
      "Epoch 100, Train Loss: 0.1760, Val Loss: 0.8187\n",
      "Epoch 200, Train Loss: 0.1438, Val Loss: 0.7628\n",
      "Epoch 300, Train Loss: 0.1394, Val Loss: 0.7877\n",
      "Early stopping at epoch 364\n",
      "Training complete.\n",
      "Starting Round 606\n"
     ]
    },
    {
     "name": "stderr",
     "output_type": "stream",
     "text": [
      "dist_matrix: 100%|######################################################################| 8/8 [00:00<00:00, 151.82it/s]\n",
      "synth_matrix: 100%|######################################################################| 8/8 [00:00<00:00, 42.67it/s]\n"
     ]
    },
    {
     "name": "stdout",
     "output_type": "stream",
     "text": [
      "Epoch 100, Train Loss: 0.0948, Val Loss: 627.3494\n",
      "Epoch 00141: reducing learning rate of group 0 to 1.0000e-02.\n",
      "Early stopping at epoch 163\n",
      "Training complete.\n",
      "Starting Round 607\n"
     ]
    },
    {
     "name": "stderr",
     "output_type": "stream",
     "text": [
      "dist_matrix: 100%|######################################################################| 9/9 [00:00<00:00, 164.33it/s]\n",
      "synth_matrix: 100%|######################################################################| 9/9 [00:00<00:00, 55.58it/s]\n",
      "r_index: 100%|##########################################################################| 4/4 [00:00<00:00, 104.36it/s]\n"
     ]
    },
    {
     "name": "stdout",
     "output_type": "stream",
     "text": [
      "Epoch 100, Train Loss: 0.1235, Val Loss: 1.8857\n",
      "Epoch 200, Train Loss: 0.0931, Val Loss: 2.1523\n",
      "Early stopping at epoch 214\n",
      "Training complete.\n",
      "Starting Round 608\n",
      "SMOGN failed: redefine phi relevance function: all points are 1\n",
      "→ Using original data instead.\n",
      "Epoch 100, Train Loss: 0.1293, Val Loss: 2.5611\n",
      "Epoch 00115: reducing learning rate of group 0 to 1.0000e-02.\n",
      "Early stopping at epoch 115\n",
      "Training complete.\n",
      "Starting Round 609\n",
      "SMOGN failed: redefine phi relevance function: all points are 1\n",
      "→ Using original data instead.\n",
      "Epoch 100, Train Loss: 0.1412, Val Loss: 7.6552\n",
      "Epoch 200, Train Loss: 0.1251, Val Loss: 7.6663\n",
      "Early stopping at epoch 237\n",
      "Training complete.\n",
      "Starting Round 610\n"
     ]
    },
    {
     "name": "stderr",
     "output_type": "stream",
     "text": [
      "dist_matrix: 100%|####################################################################| 10/10 [00:00<00:00, 151.16it/s]\n",
      "synth_matrix: 100%|####################################################################| 10/10 [00:00<00:00, 58.81it/s]\n",
      "r_index: 100%|##########################################################################| 2/2 [00:00<00:00, 108.95it/s]\n"
     ]
    },
    {
     "name": "stdout",
     "output_type": "stream",
     "text": [
      "Epoch 100, Train Loss: 0.1031, Val Loss: 0.6465\n",
      "Early stopping at epoch 173\n",
      "Training complete.\n",
      "Starting Round 611\n"
     ]
    },
    {
     "name": "stderr",
     "output_type": "stream",
     "text": [
      "dist_matrix: 100%|######################################################################| 8/8 [00:00<00:00, 193.62it/s]\n",
      "synth_matrix: 100%|######################################################################| 8/8 [00:00<00:00, 39.31it/s]\n"
     ]
    },
    {
     "name": "stdout",
     "output_type": "stream",
     "text": [
      "Epoch 100, Train Loss: 0.1139, Val Loss: 332.3847\n",
      "Epoch 00194: reducing learning rate of group 0 to 1.0000e-02.\n",
      "Epoch 200, Train Loss: 0.0784, Val Loss: 332.3271\n",
      "Epoch 00295: reducing learning rate of group 0 to 1.0000e-03.\n",
      "Epoch 300, Train Loss: 0.0553, Val Loss: 332.3414\n",
      "Early stopping at epoch 301\n",
      "Training complete.\n",
      "Starting Round 612\n"
     ]
    },
    {
     "name": "stderr",
     "output_type": "stream",
     "text": [
      "dist_matrix: 100%|####################################################################| 12/12 [00:00<00:00, 132.14it/s]\n",
      "r_index: 100%|########################################################################| 10/10 [00:00<00:00, 104.02it/s]\n",
      "dist_matrix: 100%|####################################################################| 11/11 [00:00<00:00, 167.49it/s]\n",
      "synth_matrix: 100%|###################################################################| 11/11 [00:00<00:00, 141.32it/s]\n"
     ]
    },
    {
     "name": "stdout",
     "output_type": "stream",
     "text": [
      "Epoch 100, Train Loss: 0.1263, Val Loss: 1.0504\n",
      "Epoch 200, Train Loss: 0.0998, Val Loss: 1.0129\n",
      "Early stopping at epoch 214\n",
      "Training complete.\n",
      "Starting Round 613\n"
     ]
    },
    {
     "name": "stderr",
     "output_type": "stream",
     "text": [
      "dist_matrix: 100%|######################################################################| 8/8 [00:00<00:00, 204.13it/s]\n",
      "synth_matrix: 100%|######################################################################| 8/8 [00:00<00:00, 35.76it/s]\n"
     ]
    },
    {
     "name": "stdout",
     "output_type": "stream",
     "text": [
      "Epoch 100, Train Loss: 0.1163, Val Loss: 10.2398\n",
      "Epoch 200, Train Loss: 0.0834, Val Loss: 10.2392\n",
      "Early stopping at epoch 267\n",
      "Training complete.\n",
      "Starting Round 614\n"
     ]
    },
    {
     "name": "stderr",
     "output_type": "stream",
     "text": [
      "dist_matrix: 100%|####################################################################| 13/13 [00:00<00:00, 112.76it/s]\n",
      "synth_matrix: 100%|###################################################################| 13/13 [00:00<00:00, 132.80it/s]\n",
      "r_index: 100%|##########################################################################| 6/6 [00:00<00:00, 123.02it/s]\n"
     ]
    },
    {
     "name": "stdout",
     "output_type": "stream",
     "text": [
      "Epoch 100, Train Loss: 0.1340, Val Loss: 1.3720\n",
      "Epoch 200, Train Loss: 0.1198, Val Loss: 1.3521\n",
      "Epoch 00232: reducing learning rate of group 0 to 1.0000e-02.\n",
      "Epoch 300, Train Loss: 0.0669, Val Loss: 1.2955\n",
      "Early stopping at epoch 322\n",
      "Training complete.\n",
      "Starting Round 615\n"
     ]
    },
    {
     "name": "stderr",
     "output_type": "stream",
     "text": [
      "dist_matrix: 100%|######################################################################| 8/8 [00:00<00:00, 161.89it/s]\n",
      "synth_matrix: 100%|#####################################################################| 8/8 [00:00<00:00, 122.88it/s]\n",
      "r_index: 100%|##########################################################################| 6/6 [00:00<00:00, 139.10it/s]\n",
      "dist_matrix: 100%|####################################################################| 13/13 [00:00<00:00, 139.12it/s]\n",
      "r_index: 100%|##########################################################################| 9/9 [00:00<00:00, 152.47it/s]\n"
     ]
    },
    {
     "name": "stdout",
     "output_type": "stream",
     "text": [
      "Epoch 100, Train Loss: 0.1145, Val Loss: 2.2280\n",
      "Early stopping at epoch 185\n",
      "Training complete.\n",
      "Starting Round 616\n"
     ]
    },
    {
     "name": "stderr",
     "output_type": "stream",
     "text": [
      "dist_matrix: 100%|######################################################################| 8/8 [00:00<00:00, 186.04it/s]\n",
      "synth_matrix: 100%|######################################################################| 8/8 [00:00<00:00, 42.97it/s]\n"
     ]
    },
    {
     "name": "stdout",
     "output_type": "stream",
     "text": [
      "Epoch 100, Train Loss: 0.1709, Val Loss: 2.1767\n",
      "Epoch 200, Train Loss: 0.1219, Val Loss: 2.1799\n",
      "Early stopping at epoch 210\n",
      "Training complete.\n",
      "Starting Round 617\n",
      "SMOGN failed: redefine phi relevance function: all points are 1\n",
      "→ Using original data instead.\n",
      "Epoch 100, Train Loss: 0.1397, Val Loss: 2.3945\n",
      "Early stopping at epoch 187\n",
      "Training complete.\n",
      "Starting Round 618\n"
     ]
    },
    {
     "name": "stderr",
     "output_type": "stream",
     "text": [
      "dist_matrix: 100%|######################################################################| 8/8 [00:00<00:00, 140.71it/s]\n",
      "synth_matrix: 100%|######################################################################| 8/8 [00:00<00:00, 38.06it/s]\n"
     ]
    },
    {
     "name": "stdout",
     "output_type": "stream",
     "text": [
      "Epoch 100, Train Loss: 0.1476, Val Loss: 0.8207\n",
      "Epoch 200, Train Loss: 0.1222, Val Loss: 0.7555\n",
      "Early stopping at epoch 219\n",
      "Training complete.\n",
      "Starting Round 619\n"
     ]
    },
    {
     "name": "stderr",
     "output_type": "stream",
     "text": [
      "dist_matrix: 100%|####################################################################| 10/10 [00:00<00:00, 145.35it/s]\n",
      "synth_matrix: 100%|####################################################################| 10/10 [00:00<00:00, 62.31it/s]\n",
      "r_index: 100%|##########################################################################| 2/2 [00:00<00:00, 113.24it/s]\n"
     ]
    },
    {
     "name": "stdout",
     "output_type": "stream",
     "text": [
      "Epoch 100, Train Loss: 0.1302, Val Loss: 5.6856\n",
      "Early stopping at epoch 115\n",
      "Training complete.\n",
      "Starting Round 620\n",
      "SMOGN failed: redefine phi relevance function: all points are 1\n",
      "→ Using original data instead.\n",
      "Epoch 100, Train Loss: 0.1593, Val Loss: 1.0930\n",
      "Early stopping at epoch 124\n",
      "Training complete.\n",
      "Starting Round 621\n"
     ]
    },
    {
     "name": "stderr",
     "output_type": "stream",
     "text": [
      "dist_matrix: 100%|####################################################################| 12/12 [00:00<00:00, 126.01it/s]\n",
      "synth_matrix: 100%|###################################################################| 12/12 [00:00<00:00, 113.97it/s]\n",
      "r_index: 100%|##########################################################################| 7/7 [00:00<00:00, 123.21it/s]\n"
     ]
    },
    {
     "name": "stdout",
     "output_type": "stream",
     "text": [
      "Epoch 100, Train Loss: 0.1629, Val Loss: 0.8042\n",
      "Early stopping at epoch 191\n",
      "Training complete.\n",
      "Starting Round 622\n",
      "SMOGN failed: redefine phi relevance function: all points are 1\n",
      "→ Using original data instead.\n",
      "Epoch 100, Train Loss: 0.1612, Val Loss: 0.6986\n",
      "Epoch 200, Train Loss: 0.1337, Val Loss: 0.7230\n",
      "Epoch 300, Train Loss: 0.1312, Val Loss: 0.7045\n",
      "Early stopping at epoch 323\n",
      "Training complete.\n",
      "Starting Round 623\n"
     ]
    },
    {
     "name": "stderr",
     "output_type": "stream",
     "text": [
      "dist_matrix: 100%|######################################################################| 6/6 [00:00<00:00, 241.76it/s]\n",
      "synth_matrix: 100%|######################################################################| 6/6 [00:00<00:00, 58.78it/s]\n",
      "r_index: 100%|##########################################################################| 3/3 [00:00<00:00, 116.44it/s]\n",
      "dist_matrix: 100%|####################################################################| 10/10 [00:00<00:00, 154.76it/s]\n",
      "synth_matrix: 100%|###################################################################| 10/10 [00:00<00:00, 131.39it/s]\n",
      "r_index: 100%|##########################################################################| 2/2 [00:00<00:00, 100.88it/s]\n"
     ]
    },
    {
     "name": "stdout",
     "output_type": "stream",
     "text": [
      "Epoch 100, Train Loss: 0.1014, Val Loss: 4.8288\n",
      "Early stopping at epoch 124\n",
      "Training complete.\n",
      "Starting Round 624\n"
     ]
    },
    {
     "name": "stderr",
     "output_type": "stream",
     "text": [
      "dist_matrix: 100%|####################################################################| 10/10 [00:00<00:00, 138.23it/s]\n",
      "synth_matrix: 100%|####################################################################| 10/10 [00:00<00:00, 52.95it/s]\n",
      "r_index: 100%|##########################################################################| 2/2 [00:00<00:00, 106.07it/s]\n"
     ]
    },
    {
     "name": "stdout",
     "output_type": "stream",
     "text": [
      "Epoch 100, Train Loss: 0.1183, Val Loss: 0.7094\n",
      "Epoch 200, Train Loss: 0.1002, Val Loss: 0.6678\n",
      "Early stopping at epoch 224\n",
      "Training complete.\n",
      "Starting Round 625\n"
     ]
    },
    {
     "name": "stderr",
     "output_type": "stream",
     "text": [
      "dist_matrix: 100%|######################################################################| 9/9 [00:00<00:00, 160.75it/s]\n",
      "synth_matrix: 100%|######################################################################| 9/9 [00:00<00:00, 58.84it/s]\n",
      "r_index: 100%|##########################################################################| 4/4 [00:00<00:00, 123.77it/s]\n"
     ]
    },
    {
     "name": "stdout",
     "output_type": "stream",
     "text": [
      "Epoch 100, Train Loss: 0.1031, Val Loss: 40.8047\n",
      "Epoch 00123: reducing learning rate of group 0 to 1.0000e-02.\n",
      "Early stopping at epoch 123\n",
      "Training complete.\n",
      "Starting Round 626\n"
     ]
    },
    {
     "name": "stderr",
     "output_type": "stream",
     "text": [
      "dist_matrix: 100%|######################################################################| 9/9 [00:00<00:00, 165.16it/s]\n",
      "synth_matrix: 100%|######################################################################| 9/9 [00:00<00:00, 56.23it/s]\n",
      "r_index: 100%|##########################################################################| 4/4 [00:00<00:00, 116.30it/s]\n"
     ]
    },
    {
     "name": "stdout",
     "output_type": "stream",
     "text": [
      "Epoch 100, Train Loss: 0.1325, Val Loss: 1.4316\n",
      "Epoch 200, Train Loss: 0.1092, Val Loss: 1.4119\n",
      "Early stopping at epoch 282\n",
      "Training complete.\n",
      "Starting Round 627\n"
     ]
    },
    {
     "name": "stderr",
     "output_type": "stream",
     "text": [
      "dist_matrix: 100%|######################################################################| 8/8 [00:00<00:00, 191.46it/s]\n",
      "synth_matrix: 100%|######################################################################| 8/8 [00:00<00:00, 37.49it/s]\n"
     ]
    },
    {
     "name": "stdout",
     "output_type": "stream",
     "text": [
      "Epoch 100, Train Loss: 0.0990, Val Loss: 0.4692\n",
      "Early stopping at epoch 177\n",
      "Training complete.\n",
      "Starting Round 628\n",
      "SMOGN failed: redefine phi relevance function: all points are 1\n",
      "→ Using original data instead.\n",
      "Epoch 100, Train Loss: 0.1352, Val Loss: 1.4399\n",
      "Early stopping at epoch 199\n",
      "Training complete.\n",
      "Starting Round 629\n"
     ]
    },
    {
     "name": "stderr",
     "output_type": "stream",
     "text": [
      "dist_matrix: 100%|####################################################################| 11/11 [00:00<00:00, 127.62it/s]\n",
      "synth_matrix: 100%|###################################################################| 11/11 [00:00<00:00, 118.36it/s]\n",
      "r_index: 100%|########################################################################| 10/10 [00:00<00:00, 116.92it/s]\n"
     ]
    },
    {
     "name": "stdout",
     "output_type": "stream",
     "text": [
      "Epoch 100, Train Loss: 0.1522, Val Loss: 0.7981\n",
      "Epoch 200, Train Loss: 0.1322, Val Loss: 0.8506\n",
      "Early stopping at epoch 262\n",
      "Training complete.\n",
      "Starting Round 630\n"
     ]
    },
    {
     "name": "stderr",
     "output_type": "stream",
     "text": [
      "dist_matrix: 100%|######################################################################| 8/8 [00:00<00:00, 206.56it/s]\n",
      "synth_matrix: 100%|######################################################################| 8/8 [00:00<00:00, 35.70it/s]\n"
     ]
    },
    {
     "name": "stdout",
     "output_type": "stream",
     "text": [
      "Epoch 100, Train Loss: 0.1497, Val Loss: 2.1252\n",
      "Epoch 200, Train Loss: 0.1215, Val Loss: 2.1320\n",
      "Early stopping at epoch 213\n",
      "Training complete.\n",
      "Starting Round 631\n",
      "SMOGN failed: redefine phi relevance function: all points are 1\n",
      "→ Using original data instead.\n",
      "Epoch 100, Train Loss: 0.1518, Val Loss: 81.7908\n",
      "Early stopping at epoch 178\n",
      "Training complete.\n",
      "Starting Round 632\n"
     ]
    },
    {
     "name": "stderr",
     "output_type": "stream",
     "text": [
      "dist_matrix: 100%|####################################################################| 10/10 [00:00<00:00, 157.31it/s]\n",
      "synth_matrix: 100%|####################################################################| 10/10 [00:00<00:00, 54.39it/s]\n",
      "r_index: 100%|##########################################################################| 2/2 [00:00<00:00, 167.06it/s]\n"
     ]
    },
    {
     "name": "stdout",
     "output_type": "stream",
     "text": [
      "Epoch 100, Train Loss: 0.1115, Val Loss: 8.4734\n",
      "Early stopping at epoch 118\n",
      "Training complete.\n",
      "Starting Round 633\n",
      "SMOGN failed: redefine phi relevance function: all points are 1\n",
      "→ Using original data instead.\n",
      "Epoch 100, Train Loss: 0.1458, Val Loss: 0.7167\n",
      "Epoch 200, Train Loss: 0.1286, Val Loss: 0.6952\n",
      "Early stopping at epoch 211\n",
      "Training complete.\n",
      "Starting Round 634\n"
     ]
    },
    {
     "name": "stderr",
     "output_type": "stream",
     "text": [
      "dist_matrix: 100%|######################################################################| 8/8 [00:00<00:00, 163.33it/s]\n",
      "synth_matrix: 100%|######################################################################| 8/8 [00:00<00:00, 36.07it/s]\n"
     ]
    },
    {
     "name": "stdout",
     "output_type": "stream",
     "text": [
      "Epoch 100, Train Loss: 0.1122, Val Loss: 144.3713\n",
      "Epoch 00116: reducing learning rate of group 0 to 1.0000e-02.\n",
      "Epoch 200, Train Loss: 0.0512, Val Loss: 144.3463\n",
      "Epoch 00217: reducing learning rate of group 0 to 1.0000e-03.\n",
      "Early stopping at epoch 255\n",
      "Training complete.\n",
      "Starting Round 635\n"
     ]
    },
    {
     "name": "stderr",
     "output_type": "stream",
     "text": [
      "dist_matrix: 100%|######################################################################| 9/9 [00:00<00:00, 170.30it/s]\n",
      "synth_matrix: 100%|######################################################################| 9/9 [00:00<00:00, 54.78it/s]\n",
      "r_index: 100%|##########################################################################| 4/4 [00:00<00:00, 127.19it/s]\n"
     ]
    },
    {
     "name": "stdout",
     "output_type": "stream",
     "text": [
      "Epoch 100, Train Loss: 0.0972, Val Loss: 1.7642\n",
      "Epoch 200, Train Loss: 0.0891, Val Loss: 1.7922\n",
      "Early stopping at epoch 206\n",
      "Training complete.\n",
      "Starting Round 636\n"
     ]
    },
    {
     "name": "stderr",
     "output_type": "stream",
     "text": [
      "dist_matrix: 100%|####################################################################| 11/11 [00:00<00:00, 114.47it/s]\n",
      "synth_matrix: 100%|###################################################################| 11/11 [00:00<00:00, 126.89it/s]\n",
      "r_index: 100%|########################################################################| 10/10 [00:00<00:00, 142.21it/s]\n"
     ]
    },
    {
     "name": "stdout",
     "output_type": "stream",
     "text": [
      "Epoch 100, Train Loss: 0.1072, Val Loss: 42.1293\n",
      "Early stopping at epoch 169\n",
      "Training complete.\n",
      "Starting Round 637\n"
     ]
    },
    {
     "name": "stderr",
     "output_type": "stream",
     "text": [
      "dist_matrix: 100%|####################################################################| 10/10 [00:00<00:00, 144.88it/s]\n",
      "synth_matrix: 100%|####################################################################| 10/10 [00:00<00:00, 61.97it/s]\n",
      "r_index: 100%|##########################################################################| 2/2 [00:00<00:00, 155.38it/s]\n"
     ]
    },
    {
     "name": "stdout",
     "output_type": "stream",
     "text": [
      "Epoch 100, Train Loss: 0.0984, Val Loss: 1.6371\n",
      "Early stopping at epoch 197\n",
      "Training complete.\n",
      "Starting Round 638\n",
      "SMOGN failed: redefine phi relevance function: all points are 1\n",
      "→ Using original data instead.\n",
      "Epoch 100, Train Loss: 0.1575, Val Loss: 0.7966\n",
      "Epoch 200, Train Loss: 0.1462, Val Loss: 0.8415\n",
      "Early stopping at epoch 273\n",
      "Training complete.\n",
      "Starting Round 639\n"
     ]
    },
    {
     "name": "stderr",
     "output_type": "stream",
     "text": [
      "dist_matrix: 100%|######################################################################| 8/8 [00:00<00:00, 184.77it/s]\n",
      "synth_matrix: 100%|######################################################################| 8/8 [00:00<00:00, 98.20it/s]\n",
      "r_index: 100%|###########################################################################| 6/6 [00:00<00:00, 98.38it/s]\n",
      "dist_matrix: 100%|####################################################################| 11/11 [00:00<00:00, 156.94it/s]\n",
      "synth_matrix: 100%|###################################################################| 11/11 [00:00<00:00, 125.80it/s]\n"
     ]
    },
    {
     "name": "stdout",
     "output_type": "stream",
     "text": [
      "Epoch 100, Train Loss: 0.1142, Val Loss: 1.3420\n",
      "Epoch 200, Train Loss: 0.1126, Val Loss: 1.3747\n",
      "Early stopping at epoch 203\n",
      "Training complete.\n",
      "Starting Round 640\n"
     ]
    },
    {
     "name": "stderr",
     "output_type": "stream",
     "text": [
      "dist_matrix: 100%|####################################################################| 11/11 [00:00<00:00, 133.20it/s]\n",
      "synth_matrix: 100%|###################################################################| 11/11 [00:00<00:00, 117.01it/s]\n",
      "r_index: 100%|########################################################################| 10/10 [00:00<00:00, 116.37it/s]\n"
     ]
    },
    {
     "name": "stdout",
     "output_type": "stream",
     "text": [
      "Epoch 100, Train Loss: 0.1218, Val Loss: 202.8248\n",
      "Epoch 00123: reducing learning rate of group 0 to 1.0000e-02.\n",
      "Early stopping at epoch 123\n",
      "Training complete.\n",
      "Starting Round 641\n"
     ]
    },
    {
     "name": "stderr",
     "output_type": "stream",
     "text": [
      "dist_matrix: 100%|####################################################################| 10/10 [00:00<00:00, 145.24it/s]\n",
      "synth_matrix: 100%|####################################################################| 10/10 [00:00<00:00, 54.23it/s]\n",
      "r_index: 100%|##########################################################################| 2/2 [00:00<00:00, 112.43it/s]\n"
     ]
    },
    {
     "name": "stdout",
     "output_type": "stream",
     "text": [
      "Epoch 100, Train Loss: 0.0853, Val Loss: 2.2929\n",
      "Epoch 200, Train Loss: 0.0754, Val Loss: 2.2811\n",
      "Epoch 00288: reducing learning rate of group 0 to 1.0000e-02.\n",
      "Epoch 300, Train Loss: 0.0548, Val Loss: 2.2915\n",
      "Early stopping at epoch 384\n",
      "Training complete.\n",
      "Starting Round 642\n"
     ]
    },
    {
     "name": "stderr",
     "output_type": "stream",
     "text": [
      "dist_matrix: 100%|######################################################################| 5/5 [00:00<00:00, 301.77it/s]\n",
      "synth_matrix: 100%|######################################################################| 5/5 [00:00<00:00, 33.69it/s]\n",
      "r_index: 100%|##########################################################################| 2/2 [00:00<00:00, 125.92it/s]\n",
      "dist_matrix: 100%|######################################################################| 8/8 [00:00<00:00, 221.54it/s]\n",
      "synth_matrix: 100%|#####################################################################| 8/8 [00:00<00:00, 128.35it/s]\n",
      "r_index: 100%|##########################################################################| 6/6 [00:00<00:00, 136.07it/s]\n"
     ]
    },
    {
     "name": "stdout",
     "output_type": "stream",
     "text": [
      "Epoch 100, Train Loss: 0.1112, Val Loss: 18.3355\n",
      "Early stopping at epoch 101\n",
      "Training complete.\n",
      "Starting Round 643\n"
     ]
    },
    {
     "name": "stderr",
     "output_type": "stream",
     "text": [
      "dist_matrix: 100%|######################################################################| 9/9 [00:00<00:00, 156.15it/s]\n",
      "synth_matrix: 100%|#####################################################################| 9/9 [00:00<00:00, 111.70it/s]\n",
      "r_index: 100%|##########################################################################| 4/4 [00:00<00:00, 117.00it/s]\n",
      "dist_matrix: 100%|####################################################################| 10/10 [00:00<00:00, 159.82it/s]\n",
      "synth_matrix: 100%|###################################################################| 10/10 [00:00<00:00, 131.92it/s]\n",
      "r_index: 100%|##########################################################################| 2/2 [00:00<00:00, 108.97it/s]\n"
     ]
    },
    {
     "name": "stdout",
     "output_type": "stream",
     "text": [
      "Epoch 100, Train Loss: 0.1149, Val Loss: 23.6109\n",
      "Early stopping at epoch 145\n",
      "Training complete.\n",
      "Starting Round 644\n",
      "SMOGN failed: redefine phi relevance function: all points are 1\n",
      "→ Using original data instead.\n",
      "Epoch 100, Train Loss: 0.1523, Val Loss: 4.8432\n",
      "Early stopping at epoch 199\n",
      "Training complete.\n",
      "Starting Round 645\n"
     ]
    },
    {
     "name": "stderr",
     "output_type": "stream",
     "text": [
      "dist_matrix: 100%|####################################################################| 13/13 [00:00<00:00, 112.92it/s]\n",
      "synth_matrix: 100%|###################################################################| 13/13 [00:00<00:00, 112.87it/s]\n",
      "r_index: 100%|##########################################################################| 6/6 [00:00<00:00, 112.32it/s]\n"
     ]
    },
    {
     "name": "stdout",
     "output_type": "stream",
     "text": [
      "Epoch 100, Train Loss: 0.1075, Val Loss: 8.8201\n",
      "Early stopping at epoch 121\n",
      "Training complete.\n",
      "Starting Round 646\n"
     ]
    },
    {
     "name": "stderr",
     "output_type": "stream",
     "text": [
      "dist_matrix: 100%|####################################################################| 10/10 [00:00<00:00, 139.78it/s]\n",
      "synth_matrix: 100%|####################################################################| 10/10 [00:00<00:00, 52.82it/s]\n",
      "r_index: 100%|###########################################################################| 2/2 [00:00<00:00, 86.89it/s]\n"
     ]
    },
    {
     "name": "stdout",
     "output_type": "stream",
     "text": [
      "Epoch 100, Train Loss: 0.1263, Val Loss: 1.8106\n",
      "Epoch 200, Train Loss: 0.1003, Val Loss: 1.7699\n",
      "Early stopping at epoch 289\n",
      "Training complete.\n",
      "Starting Round 647\n"
     ]
    },
    {
     "name": "stderr",
     "output_type": "stream",
     "text": [
      "dist_matrix: 100%|######################################################################| 8/8 [00:00<00:00, 174.35it/s]\n",
      "synth_matrix: 100%|######################################################################| 8/8 [00:00<00:00, 38.33it/s]\n"
     ]
    },
    {
     "name": "stdout",
     "output_type": "stream",
     "text": [
      "Epoch 100, Train Loss: 0.0975, Val Loss: 0.7776\n",
      "Early stopping at epoch 158\n",
      "Training complete.\n",
      "Starting Round 648\n"
     ]
    },
    {
     "name": "stderr",
     "output_type": "stream",
     "text": [
      "dist_matrix: 100%|######################################################################| 7/7 [00:00<00:00, 218.14it/s]\n",
      "synth_matrix: 100%|######################################################################| 7/7 [00:00<00:00, 34.87it/s]\n",
      "r_index: 100%|###########################################################################| 3/3 [00:00<00:00, 86.39it/s]\n"
     ]
    },
    {
     "name": "stdout",
     "output_type": "stream",
     "text": [
      "Epoch 100, Train Loss: 0.1207, Val Loss: 0.8810\n",
      "Epoch 200, Train Loss: 0.1192, Val Loss: 0.9085\n",
      "Early stopping at epoch 256\n",
      "Training complete.\n",
      "Starting Round 649\n"
     ]
    },
    {
     "name": "stderr",
     "output_type": "stream",
     "text": [
      "dist_matrix: 100%|####################################################################| 12/12 [00:00<00:00, 126.70it/s]\n",
      "synth_matrix: 100%|###################################################################| 12/12 [00:00<00:00, 110.97it/s]\n",
      "r_index: 100%|##########################################################################| 7/7 [00:00<00:00, 115.31it/s]\n"
     ]
    },
    {
     "name": "stdout",
     "output_type": "stream",
     "text": [
      "Epoch 100, Train Loss: 0.1086, Val Loss: 21.5228\n",
      "Epoch 00198: reducing learning rate of group 0 to 1.0000e-02.\n",
      "Early stopping at epoch 198\n",
      "Training complete.\n",
      "Starting Round 650\n",
      "SMOGN failed: redefine phi relevance function: all points are 1\n",
      "→ Using original data instead.\n",
      "Epoch 100, Train Loss: 0.1464, Val Loss: 2.1174\n",
      "Early stopping at epoch 160\n",
      "Training complete.\n",
      "Starting Round 651\n"
     ]
    },
    {
     "name": "stderr",
     "output_type": "stream",
     "text": [
      "dist_matrix: 100%|####################################################################| 10/10 [00:00<00:00, 142.45it/s]\n",
      "synth_matrix: 100%|###################################################################| 10/10 [00:00<00:00, 131.35it/s]\n",
      "r_index: 100%|###########################################################################| 2/2 [00:00<00:00, 94.07it/s]\n",
      "dist_matrix: 100%|####################################################################| 11/11 [00:00<00:00, 157.98it/s]\n",
      "synth_matrix: 100%|###################################################################| 11/11 [00:00<00:00, 161.74it/s]\n"
     ]
    },
    {
     "name": "stdout",
     "output_type": "stream",
     "text": [
      "Epoch 100, Train Loss: 0.1176, Val Loss: 0.6479\n",
      "Epoch 200, Train Loss: 0.1111, Val Loss: 0.6486\n",
      "Early stopping at epoch 290\n",
      "Training complete.\n",
      "Starting Round 652\n",
      "SMOGN failed: redefine phi relevance function: all points are 1\n",
      "→ Using original data instead.\n",
      "Epoch 100, Train Loss: 0.1496, Val Loss: 19.6147\n",
      "Early stopping at epoch 187\n",
      "Training complete.\n",
      "Starting Round 653\n"
     ]
    },
    {
     "name": "stderr",
     "output_type": "stream",
     "text": [
      "dist_matrix: 100%|#####################################################################| 13/13 [00:00<00:00, 97.27it/s]\n",
      "synth_matrix: 100%|###################################################################| 13/13 [00:00<00:00, 118.06it/s]\n",
      "r_index: 100%|##########################################################################| 6/6 [00:00<00:00, 118.00it/s]\n"
     ]
    },
    {
     "name": "stdout",
     "output_type": "stream",
     "text": [
      "Epoch 100, Train Loss: 0.1010, Val Loss: 5.9972\n",
      "Epoch 200, Train Loss: 0.0912, Val Loss: 5.9877\n",
      "Early stopping at epoch 223\n",
      "Training complete.\n",
      "Starting Round 654\n"
     ]
    },
    {
     "name": "stderr",
     "output_type": "stream",
     "text": [
      "dist_matrix: 100%|####################################################################| 12/12 [00:00<00:00, 137.63it/s]\n",
      "synth_matrix: 100%|###################################################################| 12/12 [00:00<00:00, 120.40it/s]\n",
      "r_index: 100%|##########################################################################| 7/7 [00:00<00:00, 106.38it/s]\n"
     ]
    },
    {
     "name": "stdout",
     "output_type": "stream",
     "text": [
      "Epoch 100, Train Loss: 0.1299, Val Loss: 0.7182\n",
      "Epoch 200, Train Loss: 0.1131, Val Loss: 0.6875\n",
      "Early stopping at epoch 295\n",
      "Training complete.\n",
      "Starting Round 655\n"
     ]
    },
    {
     "name": "stderr",
     "output_type": "stream",
     "text": [
      "dist_matrix: 100%|######################################################################| 8/8 [00:00<00:00, 181.04it/s]\n",
      "synth_matrix: 100%|######################################################################| 8/8 [00:00<00:00, 39.22it/s]\n"
     ]
    },
    {
     "name": "stdout",
     "output_type": "stream",
     "text": [
      "Epoch 100, Train Loss: 0.1092, Val Loss: 24.5078\n",
      "Early stopping at epoch 118\n",
      "Training complete.\n",
      "Starting Round 656\n"
     ]
    },
    {
     "name": "stderr",
     "output_type": "stream",
     "text": [
      "dist_matrix: 100%|######################################################################| 8/8 [00:00<00:00, 169.80it/s]\n",
      "synth_matrix: 100%|######################################################################| 8/8 [00:00<00:00, 36.25it/s]\n"
     ]
    },
    {
     "name": "stdout",
     "output_type": "stream",
     "text": [
      "Epoch 100, Train Loss: 0.1271, Val Loss: 3453.9556\n",
      "Epoch 00156: reducing learning rate of group 0 to 1.0000e-02.\n",
      "Early stopping at epoch 184\n",
      "Training complete.\n",
      "Starting Round 657\n"
     ]
    },
    {
     "name": "stderr",
     "output_type": "stream",
     "text": [
      "dist_matrix: 100%|######################################################################| 7/7 [00:00<00:00, 213.90it/s]\n",
      "synth_matrix: 100%|######################################################################| 7/7 [00:00<00:00, 35.26it/s]\n",
      "r_index: 100%|##########################################################################| 3/3 [00:00<00:00, 112.90it/s]\n"
     ]
    },
    {
     "name": "stdout",
     "output_type": "stream",
     "text": [
      "Epoch 100, Train Loss: 0.1022, Val Loss: 1.1604\n",
      "Epoch 00123: reducing learning rate of group 0 to 1.0000e-02.\n",
      "Early stopping at epoch 124\n",
      "Training complete.\n",
      "Starting Round 658\n"
     ]
    },
    {
     "name": "stderr",
     "output_type": "stream",
     "text": [
      "dist_matrix: 100%|####################################################################| 11/11 [00:00<00:00, 135.14it/s]\n",
      "synth_matrix: 100%|###################################################################| 11/11 [00:00<00:00, 128.08it/s]\n",
      "dist_matrix: 100%|####################################################################| 10/10 [00:00<00:00, 177.36it/s]\n",
      "synth_matrix: 100%|###################################################################| 10/10 [00:00<00:00, 122.77it/s]\n",
      "r_index: 100%|##########################################################################| 2/2 [00:00<00:00, 155.79it/s]\n"
     ]
    },
    {
     "name": "stdout",
     "output_type": "stream",
     "text": [
      "Epoch 100, Train Loss: 0.1106, Val Loss: 1.8658\n",
      "Early stopping at epoch 185\n",
      "Training complete.\n",
      "Starting Round 659\n"
     ]
    },
    {
     "name": "stderr",
     "output_type": "stream",
     "text": [
      "dist_matrix: 100%|####################################################################| 10/10 [00:00<00:00, 163.51it/s]\n",
      "synth_matrix: 100%|####################################################################| 10/10 [00:00<00:00, 56.57it/s]\n",
      "r_index: 100%|##########################################################################| 2/2 [00:00<00:00, 110.35it/s]\n"
     ]
    },
    {
     "name": "stdout",
     "output_type": "stream",
     "text": [
      "Epoch 100, Train Loss: 0.1031, Val Loss: 11.2437\n",
      "Early stopping at epoch 125\n",
      "Training complete.\n",
      "Starting Round 660\n"
     ]
    },
    {
     "name": "stderr",
     "output_type": "stream",
     "text": [
      "dist_matrix: 100%|####################################################################| 11/11 [00:00<00:00, 137.33it/s]\n",
      "synth_matrix: 100%|###################################################################| 11/11 [00:00<00:00, 125.03it/s]\n",
      "r_index: 100%|########################################################################| 10/10 [00:00<00:00, 142.93it/s]\n"
     ]
    },
    {
     "name": "stdout",
     "output_type": "stream",
     "text": [
      "Epoch 100, Train Loss: 0.1356, Val Loss: 0.9366\n",
      "Early stopping at epoch 124\n",
      "Training complete.\n",
      "Starting Round 661\n"
     ]
    },
    {
     "name": "stderr",
     "output_type": "stream",
     "text": [
      "dist_matrix: 100%|####################################################################| 10/10 [00:00<00:00, 160.23it/s]\n",
      "synth_matrix: 100%|####################################################################| 10/10 [00:00<00:00, 57.82it/s]\n",
      "r_index: 100%|##########################################################################| 2/2 [00:00<00:00, 103.31it/s]\n"
     ]
    },
    {
     "name": "stdout",
     "output_type": "stream",
     "text": [
      "Epoch 100, Train Loss: 0.1365, Val Loss: 2.5939\n",
      "Early stopping at epoch 138\n",
      "Training complete.\n",
      "Starting Round 662\n"
     ]
    },
    {
     "name": "stderr",
     "output_type": "stream",
     "text": [
      "dist_matrix: 100%|####################################################################| 10/10 [00:00<00:00, 156.94it/s]\n",
      "synth_matrix: 100%|####################################################################| 10/10 [00:00<00:00, 55.49it/s]\n",
      "r_index: 100%|##########################################################################| 2/2 [00:00<00:00, 156.52it/s]\n"
     ]
    },
    {
     "name": "stdout",
     "output_type": "stream",
     "text": [
      "Epoch 100, Train Loss: 0.1097, Val Loss: 2.6833\n",
      "Early stopping at epoch 129\n",
      "Training complete.\n",
      "Starting Round 663\n",
      "SMOGN failed: redefine phi relevance function: all points are 1\n",
      "→ Using original data instead.\n",
      "Epoch 100, Train Loss: 0.1570, Val Loss: 0.7946\n",
      "Early stopping at epoch 198\n",
      "Training complete.\n",
      "Starting Round 664\n"
     ]
    },
    {
     "name": "stderr",
     "output_type": "stream",
     "text": [
      "dist_matrix: 100%|######################################################################| 8/8 [00:00<00:00, 179.70it/s]\n",
      "synth_matrix: 100%|######################################################################| 8/8 [00:00<00:00, 37.90it/s]\n"
     ]
    },
    {
     "name": "stdout",
     "output_type": "stream",
     "text": [
      "Epoch 100, Train Loss: 0.1261, Val Loss: 160.6277\n",
      "Epoch 00198: reducing learning rate of group 0 to 1.0000e-02.\n",
      "Early stopping at epoch 198\n",
      "Training complete.\n",
      "Starting Round 665\n"
     ]
    },
    {
     "name": "stderr",
     "output_type": "stream",
     "text": [
      "dist_matrix: 100%|####################################################################| 10/10 [00:00<00:00, 160.89it/s]\n",
      "synth_matrix: 100%|####################################################################| 10/10 [00:00<00:00, 52.42it/s]\n",
      "r_index: 100%|##########################################################################| 2/2 [00:00<00:00, 150.24it/s]\n"
     ]
    },
    {
     "name": "stdout",
     "output_type": "stream",
     "text": [
      "Epoch 100, Train Loss: 0.0987, Val Loss: 37.9731\n",
      "Early stopping at epoch 162\n",
      "Training complete.\n",
      "Starting Round 666\n"
     ]
    },
    {
     "name": "stderr",
     "output_type": "stream",
     "text": [
      "dist_matrix: 100%|######################################################################| 8/8 [00:00<00:00, 201.27it/s]\n",
      "synth_matrix: 100%|######################################################################| 8/8 [00:00<00:00, 37.54it/s]\n"
     ]
    },
    {
     "name": "stdout",
     "output_type": "stream",
     "text": [
      "Epoch 100, Train Loss: 0.0998, Val Loss: 0.6061\n",
      "Epoch 200, Train Loss: 0.0847, Val Loss: 0.6462\n",
      "Early stopping at epoch 227\n",
      "Training complete.\n",
      "Starting Round 667\n"
     ]
    },
    {
     "name": "stderr",
     "output_type": "stream",
     "text": [
      "dist_matrix: 100%|######################################################################| 9/9 [00:00<00:00, 189.01it/s]\n",
      "synth_matrix: 100%|######################################################################| 9/9 [00:00<00:00, 66.83it/s]\n",
      "r_index: 100%|##########################################################################| 4/4 [00:00<00:00, 105.84it/s]\n"
     ]
    },
    {
     "name": "stdout",
     "output_type": "stream",
     "text": [
      "Epoch 100, Train Loss: 0.1294, Val Loss: 119.8883\n",
      "Epoch 200, Train Loss: 0.1084, Val Loss: 119.9485\n",
      "Early stopping at epoch 256\n",
      "Training complete.\n",
      "Starting Round 668\n"
     ]
    },
    {
     "name": "stderr",
     "output_type": "stream",
     "text": [
      "dist_matrix: 100%|######################################################################| 7/7 [00:00<00:00, 191.37it/s]\n",
      "synth_matrix: 100%|######################################################################| 7/7 [00:00<00:00, 31.78it/s]\n",
      "r_index: 100%|##########################################################################| 3/3 [00:00<00:00, 105.70it/s]\n"
     ]
    },
    {
     "name": "stdout",
     "output_type": "stream",
     "text": [
      "Epoch 100, Train Loss: 0.1113, Val Loss: 3.7863\n",
      "Early stopping at epoch 172\n",
      "Training complete.\n",
      "Starting Round 669\n"
     ]
    },
    {
     "name": "stderr",
     "output_type": "stream",
     "text": [
      "dist_matrix: 100%|######################################################################| 8/8 [00:00<00:00, 186.32it/s]\n",
      "synth_matrix: 100%|#####################################################################| 8/8 [00:00<00:00, 105.42it/s]\n",
      "r_index: 100%|##########################################################################| 6/6 [00:00<00:00, 125.27it/s]\n",
      "dist_matrix: 100%|######################################################################| 5/5 [00:00<00:00, 365.94it/s]\n",
      "synth_matrix: 100%|######################################################################| 5/5 [00:00<00:00, 39.10it/s]\n",
      "r_index: 100%|##########################################################################| 2/2 [00:00<00:00, 112.36it/s]\n"
     ]
    },
    {
     "name": "stdout",
     "output_type": "stream",
     "text": [
      "Epoch 100, Train Loss: 0.1378, Val Loss: 0.6533\n",
      "Epoch 200, Train Loss: 0.1091, Val Loss: 0.6571\n",
      "Early stopping at epoch 222\n",
      "Training complete.\n",
      "Starting Round 670\n"
     ]
    },
    {
     "name": "stderr",
     "output_type": "stream",
     "text": [
      "dist_matrix: 100%|####################################################################| 12/12 [00:00<00:00, 131.57it/s]\n",
      "synth_matrix: 100%|###################################################################| 12/12 [00:00<00:00, 103.41it/s]\n",
      "r_index: 100%|##########################################################################| 7/7 [00:00<00:00, 117.68it/s]\n"
     ]
    },
    {
     "name": "stdout",
     "output_type": "stream",
     "text": [
      "Epoch 100, Train Loss: 0.1064, Val Loss: 4479.6079\n",
      "Epoch 00184: reducing learning rate of group 0 to 1.0000e-02.\n",
      "Epoch 200, Train Loss: 0.0643, Val Loss: 4479.6079\n",
      "Early stopping at epoch 249\n",
      "Training complete.\n",
      "Starting Round 671\n"
     ]
    },
    {
     "name": "stderr",
     "output_type": "stream",
     "text": [
      "dist_matrix: 100%|####################################################################| 10/10 [00:00<00:00, 141.57it/s]\n",
      "synth_matrix: 100%|####################################################################| 10/10 [00:00<00:00, 58.87it/s]\n",
      "r_index: 100%|###########################################################################| 2/2 [00:00<00:00, 98.46it/s]\n"
     ]
    },
    {
     "name": "stdout",
     "output_type": "stream",
     "text": [
      "Epoch 100, Train Loss: 0.1715, Val Loss: 5.4266\n",
      "Epoch 200, Train Loss: 0.1338, Val Loss: 5.6642\n",
      "Early stopping at epoch 201\n",
      "Training complete.\n",
      "Starting Round 672\n"
     ]
    },
    {
     "name": "stderr",
     "output_type": "stream",
     "text": [
      "dist_matrix: 100%|####################################################################| 12/12 [00:00<00:00, 124.21it/s]\n",
      "synth_matrix: 100%|###################################################################| 12/12 [00:00<00:00, 123.97it/s]\n",
      "r_index: 100%|##########################################################################| 7/7 [00:00<00:00, 129.19it/s]\n"
     ]
    },
    {
     "name": "stdout",
     "output_type": "stream",
     "text": [
      "Epoch 100, Train Loss: 0.1266, Val Loss: 0.6831\n",
      "Epoch 200, Train Loss: 0.0937, Val Loss: 0.6662\n",
      "Early stopping at epoch 217\n",
      "Training complete.\n",
      "Starting Round 673\n"
     ]
    },
    {
     "name": "stderr",
     "output_type": "stream",
     "text": [
      "dist_matrix: 100%|####################################################################| 11/11 [00:00<00:00, 141.28it/s]\n",
      "synth_matrix: 100%|###################################################################| 11/11 [00:00<00:00, 115.59it/s]\n",
      "r_index: 100%|########################################################################| 10/10 [00:00<00:00, 117.03it/s]\n"
     ]
    },
    {
     "name": "stdout",
     "output_type": "stream",
     "text": [
      "Epoch 100, Train Loss: 0.1295, Val Loss: 0.6803\n",
      "Early stopping at epoch 187\n",
      "Training complete.\n",
      "Starting Round 674\n"
     ]
    },
    {
     "name": "stderr",
     "output_type": "stream",
     "text": [
      "dist_matrix: 100%|######################################################################| 9/9 [00:00<00:00, 156.03it/s]\n",
      "synth_matrix: 100%|######################################################################| 9/9 [00:00<00:00, 62.12it/s]\n",
      "r_index: 100%|##########################################################################| 4/4 [00:00<00:00, 156.92it/s]\n"
     ]
    },
    {
     "name": "stdout",
     "output_type": "stream",
     "text": [
      "Epoch 100, Train Loss: 0.1214, Val Loss: 167.9034\n",
      "Epoch 00165: reducing learning rate of group 0 to 1.0000e-02.\n",
      "Epoch 200, Train Loss: 0.0619, Val Loss: 167.8959\n",
      "Early stopping at epoch 217\n",
      "Training complete.\n",
      "Starting Round 675\n"
     ]
    },
    {
     "name": "stderr",
     "output_type": "stream",
     "text": [
      "dist_matrix: 100%|####################################################################| 11/11 [00:00<00:00, 136.45it/s]\n",
      "synth_matrix: 100%|###################################################################| 11/11 [00:00<00:00, 112.83it/s]\n",
      "r_index: 100%|########################################################################| 10/10 [00:00<00:00, 108.09it/s]\n"
     ]
    },
    {
     "name": "stdout",
     "output_type": "stream",
     "text": [
      "Epoch 100, Train Loss: 0.0903, Val Loss: 21.0008\n",
      "Epoch 200, Train Loss: 0.0705, Val Loss: 20.9190\n",
      "Epoch 00255: reducing learning rate of group 0 to 1.0000e-02.\n",
      "Early stopping at epoch 255\n",
      "Training complete.\n",
      "Starting Round 676\n"
     ]
    },
    {
     "name": "stderr",
     "output_type": "stream",
     "text": [
      "dist_matrix: 100%|######################################################################| 9/9 [00:00<00:00, 163.09it/s]\n",
      "synth_matrix: 100%|######################################################################| 9/9 [00:00<00:00, 56.34it/s]\n",
      "r_index: 100%|##########################################################################| 4/4 [00:00<00:00, 158.75it/s]\n"
     ]
    },
    {
     "name": "stdout",
     "output_type": "stream",
     "text": [
      "Epoch 100, Train Loss: 0.0987, Val Loss: 0.7851\n",
      "Epoch 200, Train Loss: 0.0820, Val Loss: 0.7558\n",
      "Early stopping at epoch 240\n",
      "Training complete.\n",
      "Starting Round 677\n",
      "SMOGN failed: redefine phi relevance function: all points are 1\n",
      "→ Using original data instead.\n",
      "Epoch 100, Train Loss: 0.1415, Val Loss: 1.0796\n",
      "Epoch 200, Train Loss: 0.1311, Val Loss: 1.1401\n",
      "Epoch 300, Train Loss: 0.1272, Val Loss: 1.0756\n",
      "Epoch 400, Train Loss: 0.1211, Val Loss: 1.0741\n",
      "Early stopping at epoch 450\n",
      "Training complete.\n",
      "Starting Round 678\n"
     ]
    },
    {
     "name": "stderr",
     "output_type": "stream",
     "text": [
      "dist_matrix: 100%|####################################################################| 10/10 [00:00<00:00, 167.92it/s]\n",
      "synth_matrix: 100%|####################################################################| 10/10 [00:00<00:00, 53.74it/s]\n",
      "r_index: 100%|###########################################################################| 2/2 [00:00<00:00, 84.10it/s]\n"
     ]
    },
    {
     "name": "stdout",
     "output_type": "stream",
     "text": [
      "Epoch 100, Train Loss: 0.1178, Val Loss: 9.9524\n",
      "Epoch 200, Train Loss: 0.0874, Val Loss: 9.9864\n",
      "Early stopping at epoch 203\n",
      "Training complete.\n",
      "Starting Round 679\n"
     ]
    },
    {
     "name": "stderr",
     "output_type": "stream",
     "text": [
      "dist_matrix: 100%|######################################################################| 9/9 [00:00<00:00, 148.15it/s]\n",
      "synth_matrix: 100%|######################################################################| 9/9 [00:00<00:00, 52.42it/s]\n",
      "r_index: 100%|##########################################################################| 4/4 [00:00<00:00, 106.37it/s]\n"
     ]
    },
    {
     "name": "stdout",
     "output_type": "stream",
     "text": [
      "Epoch 100, Train Loss: 0.1046, Val Loss: 108.1580\n",
      "Epoch 200, Train Loss: 0.0912, Val Loss: 108.1664\n",
      "Epoch 00239: reducing learning rate of group 0 to 1.0000e-02.\n",
      "Early stopping at epoch 248\n",
      "Training complete.\n",
      "Starting Round 680\n"
     ]
    },
    {
     "name": "stderr",
     "output_type": "stream",
     "text": [
      "dist_matrix: 100%|####################################################################| 12/12 [00:00<00:00, 118.13it/s]\n",
      "synth_matrix: 100%|###################################################################| 12/12 [00:00<00:00, 117.79it/s]\n",
      "r_index: 100%|##########################################################################| 7/7 [00:00<00:00, 111.26it/s]\n"
     ]
    },
    {
     "name": "stdout",
     "output_type": "stream",
     "text": [
      "Epoch 100, Train Loss: 0.1122, Val Loss: 1.1736\n",
      "Epoch 200, Train Loss: 0.0927, Val Loss: 1.1946\n",
      "Early stopping at epoch 240\n",
      "Training complete.\n",
      "Starting Round 681\n"
     ]
    },
    {
     "name": "stderr",
     "output_type": "stream",
     "text": [
      "dist_matrix: 100%|######################################################################| 9/9 [00:00<00:00, 170.25it/s]\n",
      "synth_matrix: 100%|######################################################################| 9/9 [00:00<00:00, 52.90it/s]\n",
      "r_index: 100%|##########################################################################| 4/4 [00:00<00:00, 118.25it/s]\n"
     ]
    },
    {
     "name": "stdout",
     "output_type": "stream",
     "text": [
      "Epoch 100, Train Loss: 0.1100, Val Loss: 0.8218\n",
      "Early stopping at epoch 121\n",
      "Training complete.\n",
      "Starting Round 682\n"
     ]
    },
    {
     "name": "stderr",
     "output_type": "stream",
     "text": [
      "dist_matrix: 100%|######################################################################| 9/9 [00:00<00:00, 143.81it/s]\n",
      "synth_matrix: 100%|######################################################################| 9/9 [00:00<00:00, 54.76it/s]\n",
      "r_index: 100%|###########################################################################| 4/4 [00:00<00:00, 89.88it/s]\n"
     ]
    },
    {
     "name": "stdout",
     "output_type": "stream",
     "text": [
      "Epoch 100, Train Loss: 0.1209, Val Loss: 37.1465\n",
      "Epoch 200, Train Loss: 0.1014, Val Loss: 37.0926\n",
      "Epoch 00232: reducing learning rate of group 0 to 1.0000e-02.\n",
      "Epoch 300, Train Loss: 0.0632, Val Loss: 37.0913\n",
      "Early stopping at epoch 322\n",
      "Training complete.\n",
      "Starting Round 683\n"
     ]
    },
    {
     "name": "stderr",
     "output_type": "stream",
     "text": [
      "dist_matrix: 100%|####################################################################| 10/10 [00:00<00:00, 134.05it/s]\n",
      "synth_matrix: 100%|####################################################################| 10/10 [00:00<00:00, 59.82it/s]\n",
      "r_index: 100%|##########################################################################| 2/2 [00:00<00:00, 109.38it/s]\n"
     ]
    },
    {
     "name": "stdout",
     "output_type": "stream",
     "text": [
      "Epoch 100, Train Loss: 0.1515, Val Loss: 0.9283\n",
      "Epoch 200, Train Loss: 0.1222, Val Loss: 0.9387\n",
      "Epoch 300, Train Loss: 0.1228, Val Loss: 0.9068\n",
      "Early stopping at epoch 354\n",
      "Training complete.\n",
      "Starting Round 684\n"
     ]
    },
    {
     "name": "stderr",
     "output_type": "stream",
     "text": [
      "dist_matrix: 100%|######################################################################| 9/9 [00:00<00:00, 173.05it/s]\n",
      "synth_matrix: 100%|######################################################################| 9/9 [00:00<00:00, 53.48it/s]\n",
      "r_index: 100%|##########################################################################| 4/4 [00:00<00:00, 105.55it/s]\n"
     ]
    },
    {
     "name": "stdout",
     "output_type": "stream",
     "text": [
      "Epoch 100, Train Loss: 0.1136, Val Loss: 0.8599\n",
      "Epoch 200, Train Loss: 0.0946, Val Loss: 0.7798\n",
      "Early stopping at epoch 235\n",
      "Training complete.\n",
      "Starting Round 685\n"
     ]
    },
    {
     "name": "stderr",
     "output_type": "stream",
     "text": [
      "dist_matrix: 100%|####################################################################| 10/10 [00:00<00:00, 139.21it/s]\n",
      "synth_matrix: 100%|####################################################################| 10/10 [00:00<00:00, 61.46it/s]\n",
      "r_index: 100%|##########################################################################| 2/2 [00:00<00:00, 159.00it/s]\n"
     ]
    },
    {
     "name": "stdout",
     "output_type": "stream",
     "text": [
      "Epoch 100, Train Loss: 0.1462, Val Loss: 44.3671\n",
      "Epoch 00126: reducing learning rate of group 0 to 1.0000e-02.\n",
      "Early stopping at epoch 196\n",
      "Training complete.\n",
      "Starting Round 686\n"
     ]
    },
    {
     "name": "stderr",
     "output_type": "stream",
     "text": [
      "dist_matrix: 100%|######################################################################| 9/9 [00:00<00:00, 156.08it/s]\n",
      "synth_matrix: 100%|######################################################################| 9/9 [00:00<00:00, 53.12it/s]\n",
      "r_index: 100%|###########################################################################| 4/4 [00:00<00:00, 99.95it/s]\n"
     ]
    },
    {
     "name": "stdout",
     "output_type": "stream",
     "text": [
      "Epoch 100, Train Loss: 0.1031, Val Loss: 22.7316\n",
      "Early stopping at epoch 141\n",
      "Training complete.\n",
      "Starting Round 687\n"
     ]
    },
    {
     "name": "stderr",
     "output_type": "stream",
     "text": [
      "dist_matrix: 100%|####################################################################| 11/11 [00:00<00:00, 129.34it/s]\n",
      "synth_matrix: 100%|###################################################################| 11/11 [00:00<00:00, 111.89it/s]\n",
      "r_index: 100%|########################################################################| 10/10 [00:00<00:00, 121.97it/s]\n"
     ]
    },
    {
     "name": "stdout",
     "output_type": "stream",
     "text": [
      "Epoch 100, Train Loss: 0.1188, Val Loss: 7.2628\n",
      "Epoch 200, Train Loss: 0.1000, Val Loss: 7.2473\n",
      "Epoch 300, Train Loss: 0.1074, Val Loss: 7.2658\n",
      "Early stopping at epoch 333\n",
      "Training complete.\n",
      "Starting Round 688\n",
      "SMOGN failed: redefine phi relevance function: all points are 1\n",
      "→ Using original data instead.\n",
      "Epoch 100, Train Loss: 0.1386, Val Loss: 24.7645\n",
      "Epoch 200, Train Loss: 0.1271, Val Loss: 24.7069\n",
      "Early stopping at epoch 277\n",
      "Training complete.\n",
      "Starting Round 689\n",
      "SMOGN failed: redefine phi relevance function: all points are 1\n",
      "→ Using original data instead.\n",
      "Epoch 100, Train Loss: 0.1351, Val Loss: 931.5933\n",
      "Epoch 00120: reducing learning rate of group 0 to 1.0000e-02.\n",
      "Early stopping at epoch 190\n",
      "Training complete.\n",
      "Starting Round 690\n"
     ]
    },
    {
     "name": "stderr",
     "output_type": "stream",
     "text": [
      "dist_matrix: 100%|####################################################################| 11/11 [00:00<00:00, 132.39it/s]\n",
      "synth_matrix: 100%|###################################################################| 11/11 [00:00<00:00, 115.21it/s]\n",
      "dist_matrix: 100%|####################################################################| 11/11 [00:00<00:00, 160.96it/s]\n",
      "synth_matrix: 100%|###################################################################| 11/11 [00:00<00:00, 117.38it/s]\n"
     ]
    },
    {
     "name": "stdout",
     "output_type": "stream",
     "text": [
      "Epoch 100, Train Loss: 0.1231, Val Loss: 180.9374\n",
      "Epoch 200, Train Loss: 0.1046, Val Loss: 180.8815\n",
      "Early stopping at epoch 271\n",
      "Training complete.\n",
      "Starting Round 691\n"
     ]
    },
    {
     "name": "stderr",
     "output_type": "stream",
     "text": [
      "dist_matrix: 100%|######################################################################| 7/7 [00:00<00:00, 183.04it/s]\n",
      "synth_matrix: 100%|######################################################################| 7/7 [00:00<00:00, 51.73it/s]\n",
      "dist_matrix: 100%|####################################################################| 10/10 [00:00<00:00, 170.77it/s]\n",
      "synth_matrix: 100%|###################################################################| 10/10 [00:00<00:00, 116.95it/s]\n",
      "r_index: 100%|##########################################################################| 2/2 [00:00<00:00, 106.26it/s]\n"
     ]
    },
    {
     "name": "stdout",
     "output_type": "stream",
     "text": [
      "Epoch 100, Train Loss: 0.1318, Val Loss: 1.1307\n",
      "Early stopping at epoch 127\n",
      "Training complete.\n",
      "Starting Round 692\n"
     ]
    },
    {
     "name": "stderr",
     "output_type": "stream",
     "text": [
      "dist_matrix: 100%|####################################################################| 12/12 [00:00<00:00, 126.04it/s]\n",
      "synth_matrix: 100%|###################################################################| 12/12 [00:00<00:00, 108.61it/s]\n",
      "r_index: 100%|##########################################################################| 7/7 [00:00<00:00, 106.02it/s]\n"
     ]
    },
    {
     "name": "stdout",
     "output_type": "stream",
     "text": [
      "Epoch 100, Train Loss: 0.1448, Val Loss: 0.9933\n",
      "Early stopping at epoch 129\n",
      "Training complete.\n",
      "Starting Round 693\n"
     ]
    },
    {
     "name": "stderr",
     "output_type": "stream",
     "text": [
      "dist_matrix: 100%|####################################################################| 11/11 [00:00<00:00, 133.84it/s]\n",
      "synth_matrix: 100%|####################################################################| 11/11 [00:00<00:00, 95.78it/s]\n",
      "r_index: 100%|########################################################################| 10/10 [00:00<00:00, 117.75it/s]\n"
     ]
    },
    {
     "name": "stdout",
     "output_type": "stream",
     "text": [
      "Epoch 100, Train Loss: 0.1413, Val Loss: 30.2540\n",
      "Epoch 200, Train Loss: 0.1022, Val Loss: 30.3034\n",
      "Early stopping at epoch 206\n",
      "Training complete.\n",
      "Starting Round 694\n"
     ]
    },
    {
     "name": "stderr",
     "output_type": "stream",
     "text": [
      "dist_matrix: 100%|######################################################################| 8/8 [00:00<00:00, 184.83it/s]\n",
      "synth_matrix: 100%|######################################################################| 8/8 [00:00<00:00, 35.32it/s]\n"
     ]
    },
    {
     "name": "stdout",
     "output_type": "stream",
     "text": [
      "Epoch 100, Train Loss: 0.1085, Val Loss: 0.7610\n",
      "Epoch 200, Train Loss: 0.0975, Val Loss: 0.7061\n",
      "Epoch 300, Train Loss: 0.0871, Val Loss: 0.7131\n",
      "Epoch 400, Train Loss: 0.0838, Val Loss: 0.6961\n",
      "Epoch 500, Train Loss: 0.0825, Val Loss: 0.6617\n",
      "Early stopping at epoch 562\n",
      "Training complete.\n",
      "Starting Round 695\n"
     ]
    },
    {
     "name": "stderr",
     "output_type": "stream",
     "text": [
      "dist_matrix: 100%|######################################################################| 7/7 [00:00<00:00, 198.53it/s]\n",
      "synth_matrix: 100%|######################################################################| 7/7 [00:00<00:00, 34.38it/s]\n",
      "r_index: 100%|##########################################################################| 3/3 [00:00<00:00, 108.69it/s]\n"
     ]
    },
    {
     "name": "stdout",
     "output_type": "stream",
     "text": [
      "Epoch 100, Train Loss: 0.1294, Val Loss: 1.1778\n",
      "Epoch 200, Train Loss: 0.1094, Val Loss: 1.1812\n",
      "Early stopping at epoch 263\n",
      "Training complete.\n",
      "Starting Round 696\n"
     ]
    },
    {
     "name": "stderr",
     "output_type": "stream",
     "text": [
      "dist_matrix: 100%|####################################################################| 12/12 [00:00<00:00, 129.16it/s]\n",
      "synth_matrix: 100%|###################################################################| 12/12 [00:00<00:00, 119.70it/s]\n",
      "r_index: 100%|##########################################################################| 7/7 [00:00<00:00, 134.23it/s]\n"
     ]
    },
    {
     "name": "stdout",
     "output_type": "stream",
     "text": [
      "Epoch 100, Train Loss: 0.1186, Val Loss: 5.6998\n",
      "Epoch 200, Train Loss: 0.1041, Val Loss: 5.7208\n",
      "Early stopping at epoch 254\n",
      "Training complete.\n",
      "Starting Round 697\n",
      "SMOGN failed: redefine phi relevance function: all points are 1\n",
      "→ Using original data instead.\n",
      "Epoch 100, Train Loss: 0.1471, Val Loss: 0.9114\n",
      "Early stopping at epoch 190\n",
      "Training complete.\n",
      "Starting Round 698\n"
     ]
    },
    {
     "name": "stderr",
     "output_type": "stream",
     "text": [
      "dist_matrix: 100%|######################################################################| 9/9 [00:00<00:00, 165.29it/s]\n",
      "synth_matrix: 100%|######################################################################| 9/9 [00:00<00:00, 53.99it/s]\n",
      "r_index: 100%|##########################################################################| 4/4 [00:00<00:00, 114.02it/s]\n"
     ]
    },
    {
     "name": "stdout",
     "output_type": "stream",
     "text": [
      "Epoch 100, Train Loss: 0.1315, Val Loss: 0.7310\n",
      "Epoch 200, Train Loss: 0.1148, Val Loss: 0.6320\n",
      "Early stopping at epoch 281\n",
      "Training complete.\n",
      "Starting Round 699\n"
     ]
    },
    {
     "name": "stderr",
     "output_type": "stream",
     "text": [
      "dist_matrix: 100%|######################################################################| 7/7 [00:00<00:00, 190.65it/s]\n",
      "synth_matrix: 100%|######################################################################| 7/7 [00:00<00:00, 35.97it/s]\n",
      "r_index: 100%|##########################################################################| 3/3 [00:00<00:00, 100.52it/s]\n"
     ]
    },
    {
     "name": "stdout",
     "output_type": "stream",
     "text": [
      "Epoch 100, Train Loss: 0.0715, Val Loss: 13.6145\n",
      "Epoch 200, Train Loss: 0.0719, Val Loss: 13.5829\n",
      "Epoch 300, Train Loss: 0.0611, Val Loss: 13.6271\n",
      "Early stopping at epoch 309\n",
      "Training complete.\n",
      "Starting Round 700\n"
     ]
    },
    {
     "name": "stderr",
     "output_type": "stream",
     "text": [
      "dist_matrix: 100%|####################################################################| 12/12 [00:00<00:00, 132.40it/s]\n",
      "r_index: 100%|########################################################################| 10/10 [00:00<00:00, 125.89it/s]\n",
      "dist_matrix: 100%|######################################################################| 8/8 [00:00<00:00, 212.40it/s]\n",
      "synth_matrix: 100%|######################################################################| 8/8 [00:00<00:00, 99.58it/s]\n",
      "r_index: 100%|##########################################################################| 6/6 [00:00<00:00, 110.43it/s]\n"
     ]
    },
    {
     "name": "stdout",
     "output_type": "stream",
     "text": [
      "Epoch 100, Train Loss: 0.1240, Val Loss: 0.7689\n",
      "Early stopping at epoch 181\n",
      "Training complete.\n",
      "Starting Round 701\n"
     ]
    },
    {
     "name": "stderr",
     "output_type": "stream",
     "text": [
      "dist_matrix: 100%|####################################################################| 10/10 [00:00<00:00, 131.77it/s]\n",
      "synth_matrix: 100%|####################################################################| 10/10 [00:00<00:00, 54.70it/s]\n",
      "r_index: 100%|##########################################################################| 2/2 [00:00<00:00, 105.88it/s]\n"
     ]
    },
    {
     "name": "stdout",
     "output_type": "stream",
     "text": [
      "Epoch 100, Train Loss: 0.1270, Val Loss: 8.5470\n",
      "Early stopping at epoch 122\n",
      "Training complete.\n",
      "Starting Round 702\n"
     ]
    },
    {
     "name": "stderr",
     "output_type": "stream",
     "text": [
      "dist_matrix: 100%|####################################################################| 13/13 [00:00<00:00, 113.71it/s]\n",
      "r_index: 100%|##########################################################################| 9/9 [00:00<00:00, 117.78it/s]\n",
      "dist_matrix: 100%|######################################################################| 9/9 [00:00<00:00, 186.29it/s]\n",
      "synth_matrix: 100%|#####################################################################| 9/9 [00:00<00:00, 123.57it/s]\n",
      "r_index: 100%|##########################################################################| 4/4 [00:00<00:00, 111.05it/s]\n"
     ]
    },
    {
     "name": "stdout",
     "output_type": "stream",
     "text": [
      "Epoch 100, Train Loss: 0.1154, Val Loss: 1.9937\n",
      "Early stopping at epoch 186\n",
      "Training complete.\n",
      "Starting Round 703\n"
     ]
    },
    {
     "name": "stderr",
     "output_type": "stream",
     "text": [
      "dist_matrix: 100%|######################################################################| 9/9 [00:00<00:00, 141.82it/s]\n",
      "synth_matrix: 100%|#####################################################################| 9/9 [00:00<00:00, 107.11it/s]\n",
      "r_index: 100%|##########################################################################| 4/4 [00:00<00:00, 101.24it/s]\n",
      "dist_matrix: 100%|####################################################################| 10/10 [00:00<00:00, 168.58it/s]\n",
      "synth_matrix: 100%|###################################################################| 10/10 [00:00<00:00, 120.31it/s]\n",
      "r_index: 100%|##########################################################################| 2/2 [00:00<00:00, 101.34it/s]\n"
     ]
    },
    {
     "name": "stdout",
     "output_type": "stream",
     "text": [
      "Epoch 100, Train Loss: 0.1096, Val Loss: 3.9506\n",
      "Early stopping at epoch 106\n",
      "Training complete.\n",
      "Starting Round 704\n"
     ]
    },
    {
     "name": "stderr",
     "output_type": "stream",
     "text": [
      "dist_matrix: 100%|####################################################################| 12/12 [00:00<00:00, 123.12it/s]\n",
      "synth_matrix: 100%|####################################################################| 12/12 [00:00<00:00, 99.52it/s]\n",
      "r_index: 100%|##########################################################################| 7/7 [00:00<00:00, 121.66it/s]\n"
     ]
    },
    {
     "name": "stdout",
     "output_type": "stream",
     "text": [
      "Epoch 100, Train Loss: 0.1357, Val Loss: 0.8738\n",
      "Early stopping at epoch 166\n",
      "Training complete.\n",
      "Starting Round 705\n"
     ]
    },
    {
     "name": "stderr",
     "output_type": "stream",
     "text": [
      "dist_matrix: 100%|######################################################################| 7/7 [00:00<00:00, 207.62it/s]\n",
      "synth_matrix: 100%|######################################################################| 7/7 [00:00<00:00, 34.49it/s]\n",
      "r_index: 100%|##########################################################################| 3/3 [00:00<00:00, 102.24it/s]\n"
     ]
    },
    {
     "name": "stdout",
     "output_type": "stream",
     "text": [
      "Epoch 100, Train Loss: 0.1054, Val Loss: 3073.0369\n",
      "Epoch 00102: reducing learning rate of group 0 to 1.0000e-02.\n",
      "Early stopping at epoch 148\n",
      "Training complete.\n",
      "Starting Round 706\n"
     ]
    },
    {
     "name": "stderr",
     "output_type": "stream",
     "text": [
      "dist_matrix: 100%|####################################################################| 10/10 [00:00<00:00, 143.88it/s]\n",
      "synth_matrix: 100%|####################################################################| 10/10 [00:00<00:00, 60.09it/s]\n",
      "r_index: 100%|###########################################################################| 2/2 [00:00<00:00, 92.18it/s]\n"
     ]
    },
    {
     "name": "stdout",
     "output_type": "stream",
     "text": [
      "Epoch 100, Train Loss: 0.1099, Val Loss: 0.6788\n",
      "Epoch 200, Train Loss: 0.1088, Val Loss: 0.6956\n",
      "Early stopping at epoch 282\n",
      "Training complete.\n",
      "Starting Round 707\n",
      "SMOGN failed: redefine phi relevance function: all points are 1\n",
      "→ Using original data instead.\n",
      "Epoch 100, Train Loss: 0.1453, Val Loss: 0.8684\n",
      "Epoch 200, Train Loss: 0.1296, Val Loss: 0.8920\n",
      "Early stopping at epoch 227\n",
      "Training complete.\n",
      "Starting Round 708\n"
     ]
    },
    {
     "name": "stderr",
     "output_type": "stream",
     "text": [
      "dist_matrix: 100%|####################################################################| 11/11 [00:00<00:00, 121.25it/s]\n",
      "synth_matrix: 100%|###################################################################| 11/11 [00:00<00:00, 108.82it/s]\n",
      "r_index: 100%|########################################################################| 10/10 [00:00<00:00, 108.92it/s]\n"
     ]
    },
    {
     "name": "stdout",
     "output_type": "stream",
     "text": [
      "Epoch 100, Train Loss: 0.1077, Val Loss: 9.8555\n",
      "Epoch 200, Train Loss: 0.1009, Val Loss: 9.8425\n",
      "Early stopping at epoch 281\n",
      "Training complete.\n",
      "Starting Round 709\n"
     ]
    },
    {
     "name": "stderr",
     "output_type": "stream",
     "text": [
      "dist_matrix: 100%|####################################################################| 11/11 [00:00<00:00, 123.06it/s]\n",
      "synth_matrix: 100%|###################################################################| 11/11 [00:00<00:00, 105.42it/s]\n",
      "r_index: 100%|########################################################################| 10/10 [00:00<00:00, 104.70it/s]\n"
     ]
    },
    {
     "name": "stdout",
     "output_type": "stream",
     "text": [
      "Epoch 100, Train Loss: 0.0945, Val Loss: 0.6120\n",
      "Early stopping at epoch 182\n",
      "Training complete.\n",
      "Starting Round 710\n"
     ]
    },
    {
     "name": "stderr",
     "output_type": "stream",
     "text": [
      "dist_matrix: 100%|####################################################################| 10/10 [00:00<00:00, 129.19it/s]\n",
      "synth_matrix: 100%|####################################################################| 10/10 [00:00<00:00, 57.64it/s]\n",
      "r_index: 100%|##########################################################################| 2/2 [00:00<00:00, 102.93it/s]\n"
     ]
    },
    {
     "name": "stdout",
     "output_type": "stream",
     "text": [
      "Epoch 100, Train Loss: 0.1403, Val Loss: 5.8137\n",
      "Epoch 200, Train Loss: 0.1251, Val Loss: 5.9256\n",
      "Early stopping at epoch 223\n",
      "Training complete.\n",
      "Starting Round 711\n"
     ]
    },
    {
     "name": "stderr",
     "output_type": "stream",
     "text": [
      "dist_matrix: 100%|####################################################################| 10/10 [00:00<00:00, 138.18it/s]\n",
      "synth_matrix: 100%|####################################################################| 10/10 [00:00<00:00, 57.48it/s]\n",
      "r_index: 100%|##########################################################################| 2/2 [00:00<00:00, 159.42it/s]\n"
     ]
    },
    {
     "name": "stdout",
     "output_type": "stream",
     "text": [
      "Epoch 100, Train Loss: 0.1301, Val Loss: 4.5182\n",
      "Early stopping at epoch 120\n",
      "Training complete.\n",
      "Starting Round 712\n"
     ]
    },
    {
     "name": "stderr",
     "output_type": "stream",
     "text": [
      "dist_matrix: 100%|######################################################################| 8/8 [00:00<00:00, 156.91it/s]\n",
      "synth_matrix: 100%|######################################################################| 8/8 [00:00<00:00, 35.34it/s]\n"
     ]
    },
    {
     "name": "stdout",
     "output_type": "stream",
     "text": [
      "Epoch 100, Train Loss: 0.0911, Val Loss: 2.0342\n",
      "Early stopping at epoch 156\n",
      "Training complete.\n",
      "Starting Round 713\n",
      "SMOGN failed: redefine phi relevance function: all points are 1\n",
      "→ Using original data instead.\n",
      "Epoch 100, Train Loss: 0.1398, Val Loss: 1.7362\n",
      "Epoch 200, Train Loss: 0.1205, Val Loss: 1.7548\n",
      "Epoch 300, Train Loss: 0.1226, Val Loss: 1.7530\n",
      "Early stopping at epoch 339\n",
      "Training complete.\n",
      "Starting Round 714\n"
     ]
    },
    {
     "name": "stderr",
     "output_type": "stream",
     "text": [
      "dist_matrix: 100%|####################################################################| 11/11 [00:00<00:00, 117.95it/s]\n",
      "synth_matrix: 100%|####################################################################| 11/11 [00:00<00:00, 83.86it/s]\n",
      "r_index: 100%|#########################################################################| 10/10 [00:00<00:00, 96.31it/s]\n"
     ]
    },
    {
     "name": "stdout",
     "output_type": "stream",
     "text": [
      "Epoch 100, Train Loss: 0.0976, Val Loss: 0.7128\n",
      "Early stopping at epoch 187\n",
      "Training complete.\n",
      "Starting Round 715\n"
     ]
    },
    {
     "name": "stderr",
     "output_type": "stream",
     "text": [
      "dist_matrix: 100%|######################################################################| 7/7 [00:00<00:00, 168.91it/s]\n",
      "synth_matrix: 100%|######################################################################| 7/7 [00:00<00:00, 28.73it/s]\n",
      "r_index: 100%|###########################################################################| 3/3 [00:00<00:00, 92.38it/s]\n"
     ]
    },
    {
     "name": "stdout",
     "output_type": "stream",
     "text": [
      "Epoch 100, Train Loss: 0.0868, Val Loss: 441.4887\n",
      "Early stopping at epoch 194\n",
      "Training complete.\n",
      "Starting Round 716\n"
     ]
    },
    {
     "name": "stderr",
     "output_type": "stream",
     "text": [
      "dist_matrix: 100%|####################################################################| 11/11 [00:00<00:00, 115.30it/s]\n",
      "synth_matrix: 100%|####################################################################| 11/11 [00:00<00:00, 88.92it/s]\n",
      "r_index: 100%|########################################################################| 10/10 [00:00<00:00, 113.37it/s]\n"
     ]
    },
    {
     "name": "stdout",
     "output_type": "stream",
     "text": [
      "Epoch 100, Train Loss: 0.1610, Val Loss: 701.6075\n",
      "Epoch 200, Train Loss: 0.1397, Val Loss: 701.5728\n",
      "Epoch 00266: reducing learning rate of group 0 to 1.0000e-02.\n",
      "Early stopping at epoch 271\n",
      "Training complete.\n",
      "Starting Round 717\n"
     ]
    },
    {
     "name": "stderr",
     "output_type": "stream",
     "text": [
      "dist_matrix: 100%|######################################################################| 9/9 [00:00<00:00, 121.30it/s]\n",
      "synth_matrix: 100%|######################################################################| 9/9 [00:00<00:00, 47.13it/s]\n",
      "r_index: 100%|###########################################################################| 4/4 [00:00<00:00, 88.91it/s]\n"
     ]
    },
    {
     "name": "stdout",
     "output_type": "stream",
     "text": [
      "Epoch 100, Train Loss: 0.1105, Val Loss: 4.5335\n",
      "Early stopping at epoch 125\n",
      "Training complete.\n",
      "Starting Round 718\n"
     ]
    },
    {
     "name": "stderr",
     "output_type": "stream",
     "text": [
      "dist_matrix: 100%|####################################################################| 12/12 [00:00<00:00, 108.08it/s]\n",
      "synth_matrix: 100%|###################################################################| 12/12 [00:00<00:00, 112.99it/s]\n",
      "r_index: 100%|###########################################################################| 7/7 [00:00<00:00, 93.58it/s]\n"
     ]
    },
    {
     "name": "stdout",
     "output_type": "stream",
     "text": [
      "Epoch 100, Train Loss: 0.1220, Val Loss: 7.8821\n",
      "Early stopping at epoch 181\n",
      "Training complete.\n",
      "Starting Round 719\n"
     ]
    },
    {
     "name": "stderr",
     "output_type": "stream",
     "text": [
      "dist_matrix: 100%|####################################################################| 11/11 [00:00<00:00, 111.12it/s]\n",
      "synth_matrix: 100%|####################################################################| 11/11 [00:00<00:00, 72.46it/s]\n",
      "r_index: 100%|#########################################################################| 10/10 [00:00<00:00, 92.63it/s]\n"
     ]
    },
    {
     "name": "stdout",
     "output_type": "stream",
     "text": [
      "Epoch 100, Train Loss: 0.1285, Val Loss: 5.2808\n",
      "Epoch 200, Train Loss: 0.1128, Val Loss: 5.3143\n",
      "Early stopping at epoch 248\n",
      "Training complete.\n",
      "Starting Round 720\n",
      "SMOGN failed: redefine phi relevance function: all points are 1\n",
      "→ Using original data instead.\n",
      "Epoch 100, Train Loss: 0.1445, Val Loss: 1.0096\n",
      "Epoch 200, Train Loss: 0.1285, Val Loss: 1.1475\n",
      "Early stopping at epoch 220\n",
      "Training complete.\n",
      "Starting Round 721\n"
     ]
    },
    {
     "name": "stderr",
     "output_type": "stream",
     "text": [
      "dist_matrix: 100%|####################################################################| 10/10 [00:00<00:00, 117.98it/s]\n",
      "synth_matrix: 100%|####################################################################| 10/10 [00:00<00:00, 48.59it/s]\n",
      "r_index: 100%|###########################################################################| 2/2 [00:00<00:00, 79.61it/s]\n"
     ]
    },
    {
     "name": "stdout",
     "output_type": "stream",
     "text": [
      "Epoch 100, Train Loss: 0.0851, Val Loss: 9.5338\n",
      "Epoch 200, Train Loss: 0.0681, Val Loss: 9.5119\n",
      "Early stopping at epoch 241\n",
      "Training complete.\n",
      "Starting Round 722\n"
     ]
    },
    {
     "name": "stderr",
     "output_type": "stream",
     "text": [
      "dist_matrix: 100%|####################################################################| 10/10 [00:00<00:00, 125.76it/s]\n",
      "synth_matrix: 100%|####################################################################| 10/10 [00:00<00:00, 49.90it/s]\n",
      "r_index: 100%|###########################################################################| 2/2 [00:00<00:00, 89.37it/s]\n"
     ]
    },
    {
     "name": "stdout",
     "output_type": "stream",
     "text": [
      "Epoch 100, Train Loss: 0.1336, Val Loss: 0.8967\n",
      "Early stopping at epoch 122\n",
      "Training complete.\n",
      "Starting Round 723\n"
     ]
    },
    {
     "name": "stderr",
     "output_type": "stream",
     "text": [
      "dist_matrix: 100%|######################################################################| 9/9 [00:00<00:00, 158.58it/s]\n",
      "synth_matrix: 100%|######################################################################| 9/9 [00:00<00:00, 54.40it/s]\n",
      "r_index: 100%|##########################################################################| 4/4 [00:00<00:00, 102.55it/s]\n"
     ]
    },
    {
     "name": "stdout",
     "output_type": "stream",
     "text": [
      "Epoch 100, Train Loss: 0.1095, Val Loss: 0.7526\n",
      "Early stopping at epoch 163\n",
      "Training complete.\n",
      "Starting Round 724\n"
     ]
    },
    {
     "name": "stderr",
     "output_type": "stream",
     "text": [
      "dist_matrix: 100%|####################################################################| 10/10 [00:00<00:00, 164.29it/s]\n",
      "synth_matrix: 100%|####################################################################| 10/10 [00:00<00:00, 57.85it/s]\n",
      "r_index: 100%|##########################################################################| 2/2 [00:00<00:00, 111.20it/s]\n"
     ]
    },
    {
     "name": "stdout",
     "output_type": "stream",
     "text": [
      "Epoch 100, Train Loss: 0.1238, Val Loss: 10.2384\n",
      "Early stopping at epoch 101\n",
      "Training complete.\n",
      "Starting Round 725\n"
     ]
    },
    {
     "name": "stderr",
     "output_type": "stream",
     "text": [
      "dist_matrix: 100%|######################################################################| 9/9 [00:00<00:00, 162.55it/s]\n",
      "synth_matrix: 100%|#####################################################################| 9/9 [00:00<00:00, 115.19it/s]\n",
      "r_index: 100%|###########################################################################| 4/4 [00:00<00:00, 85.05it/s]\n",
      "dist_matrix: 100%|######################################################################| 9/9 [00:00<00:00, 170.22it/s]\n",
      "synth_matrix: 100%|#####################################################################| 9/9 [00:00<00:00, 110.63it/s]\n",
      "r_index: 100%|###########################################################################| 4/4 [00:00<00:00, 98.15it/s]\n"
     ]
    },
    {
     "name": "stdout",
     "output_type": "stream",
     "text": [
      "Epoch 100, Train Loss: 0.1063, Val Loss: 4.1316\n",
      "Epoch 200, Train Loss: 0.0997, Val Loss: 4.1100\n",
      "Early stopping at epoch 216\n",
      "Training complete.\n",
      "Starting Round 726\n"
     ]
    },
    {
     "name": "stderr",
     "output_type": "stream",
     "text": [
      "dist_matrix: 100%|####################################################################| 10/10 [00:00<00:00, 146.21it/s]\n",
      "synth_matrix: 100%|####################################################################| 10/10 [00:00<00:00, 61.13it/s]\n",
      "r_index: 100%|##########################################################################| 2/2 [00:00<00:00, 334.54it/s]\n"
     ]
    },
    {
     "name": "stdout",
     "output_type": "stream",
     "text": [
      "Epoch 100, Train Loss: 0.0986, Val Loss: 1.4749\n",
      "Early stopping at epoch 141\n",
      "Training complete.\n",
      "Starting Round 727\n"
     ]
    },
    {
     "name": "stderr",
     "output_type": "stream",
     "text": [
      "dist_matrix: 100%|######################################################################| 9/9 [00:00<00:00, 170.43it/s]\n",
      "synth_matrix: 100%|######################################################################| 9/9 [00:00<00:00, 56.42it/s]\n",
      "r_index: 100%|##########################################################################| 4/4 [00:00<00:00, 114.06it/s]\n"
     ]
    },
    {
     "name": "stdout",
     "output_type": "stream",
     "text": [
      "Epoch 100, Train Loss: 0.0846, Val Loss: 1.3583\n",
      "Early stopping at epoch 125\n",
      "Training complete.\n",
      "Starting Round 728\n"
     ]
    },
    {
     "name": "stderr",
     "output_type": "stream",
     "text": [
      "dist_matrix: 100%|####################################################################| 10/10 [00:00<00:00, 139.56it/s]\n",
      "synth_matrix: 100%|####################################################################| 10/10 [00:00<00:00, 55.17it/s]\n",
      "r_index: 100%|###########################################################################| 2/2 [00:00<00:00, 89.00it/s]\n"
     ]
    },
    {
     "name": "stdout",
     "output_type": "stream",
     "text": [
      "Epoch 100, Train Loss: 0.1096, Val Loss: 0.6818\n",
      "Epoch 200, Train Loss: 0.1042, Val Loss: 0.6110\n",
      "Epoch 300, Train Loss: 0.0989, Val Loss: 0.5965\n",
      "Early stopping at epoch 380\n",
      "Training complete.\n",
      "Starting Round 729\n"
     ]
    },
    {
     "name": "stderr",
     "output_type": "stream",
     "text": [
      "dist_matrix: 100%|######################################################################| 9/9 [00:00<00:00, 153.64it/s]\n",
      "synth_matrix: 100%|#####################################################################| 9/9 [00:00<00:00, 125.85it/s]\n",
      "r_index: 100%|###########################################################################| 4/4 [00:00<00:00, 93.09it/s]\n",
      "dist_matrix: 100%|####################################################################| 11/11 [00:00<00:00, 157.10it/s]\n",
      "synth_matrix: 100%|###################################################################| 11/11 [00:00<00:00, 122.40it/s]\n"
     ]
    },
    {
     "name": "stdout",
     "output_type": "stream",
     "text": [
      "Epoch 100, Train Loss: 0.1128, Val Loss: 0.7621\n",
      "Early stopping at epoch 121\n",
      "Training complete.\n",
      "Starting Round 730\n"
     ]
    },
    {
     "name": "stderr",
     "output_type": "stream",
     "text": [
      "dist_matrix: 100%|######################################################################| 8/8 [00:00<00:00, 158.70it/s]\n",
      "synth_matrix: 100%|######################################################################| 8/8 [00:00<00:00, 33.05it/s]\n"
     ]
    },
    {
     "name": "stdout",
     "output_type": "stream",
     "text": [
      "Epoch 100, Train Loss: 0.1171, Val Loss: 10.9930\n",
      "Early stopping at epoch 119\n",
      "Training complete.\n",
      "Starting Round 731\n"
     ]
    },
    {
     "name": "stderr",
     "output_type": "stream",
     "text": [
      "dist_matrix: 100%|####################################################################| 10/10 [00:00<00:00, 154.08it/s]\n",
      "synth_matrix: 100%|####################################################################| 10/10 [00:00<00:00, 61.32it/s]\n",
      "r_index: 100%|###########################################################################| 2/2 [00:00<00:00, 94.20it/s]\n"
     ]
    },
    {
     "name": "stdout",
     "output_type": "stream",
     "text": [
      "Epoch 100, Train Loss: 0.1661, Val Loss: 6.2015\n",
      "Epoch 200, Train Loss: 0.1541, Val Loss: 6.2164\n",
      "Early stopping at epoch 269\n",
      "Training complete.\n",
      "Starting Round 732\n"
     ]
    },
    {
     "name": "stderr",
     "output_type": "stream",
     "text": [
      "dist_matrix: 100%|####################################################################| 11/11 [00:00<00:00, 138.18it/s]\n",
      "synth_matrix: 100%|###################################################################| 11/11 [00:00<00:00, 104.67it/s]\n",
      "r_index: 100%|########################################################################| 10/10 [00:00<00:00, 114.94it/s]\n"
     ]
    },
    {
     "name": "stdout",
     "output_type": "stream",
     "text": [
      "Epoch 100, Train Loss: 0.1033, Val Loss: 0.6944\n",
      "Early stopping at epoch 122\n",
      "Training complete.\n",
      "Starting Round 733\n",
      "SMOGN failed: redefine phi relevance function: all points are 1\n",
      "→ Using original data instead.\n",
      "Epoch 100, Train Loss: 0.1357, Val Loss: 20.4470\n",
      "Epoch 200, Train Loss: 0.1215, Val Loss: 20.4479\n",
      "Early stopping at epoch 225\n",
      "Training complete.\n",
      "Starting Round 734\n",
      "SMOGN failed: redefine phi relevance function: all points are 1\n",
      "→ Using original data instead.\n",
      "Epoch 100, Train Loss: 0.1626, Val Loss: 0.9312\n",
      "Epoch 200, Train Loss: 0.1382, Val Loss: 0.9586\n",
      "Epoch 300, Train Loss: 0.1342, Val Loss: 0.9426\n",
      "Early stopping at epoch 368\n",
      "Training complete.\n",
      "Starting Round 735\n"
     ]
    },
    {
     "name": "stderr",
     "output_type": "stream",
     "text": [
      "dist_matrix: 100%|####################################################################| 14/14 [00:00<00:00, 102.07it/s]\n",
      "r_index: 100%|##########################################################################| 8/8 [00:00<00:00, 173.84it/s]\n",
      "dist_matrix: 100%|####################################################################| 10/10 [00:00<00:00, 157.30it/s]\n",
      "synth_matrix: 100%|###################################################################| 10/10 [00:00<00:00, 115.01it/s]\n",
      "r_index: 100%|##########################################################################| 2/2 [00:00<00:00, 161.73it/s]\n"
     ]
    },
    {
     "name": "stdout",
     "output_type": "stream",
     "text": [
      "Epoch 100, Train Loss: 0.1176, Val Loss: 1.0317\n",
      "Epoch 200, Train Loss: 0.1127, Val Loss: 1.0355\n",
      "Early stopping at epoch 231\n",
      "Training complete.\n",
      "Starting Round 736\n"
     ]
    },
    {
     "name": "stderr",
     "output_type": "stream",
     "text": [
      "dist_matrix: 100%|######################################################################| 8/8 [00:00<00:00, 168.49it/s]\n",
      "synth_matrix: 100%|######################################################################| 8/8 [00:00<00:00, 38.62it/s]\n"
     ]
    },
    {
     "name": "stdout",
     "output_type": "stream",
     "text": [
      "Epoch 100, Train Loss: 0.1226, Val Loss: 0.6357\n",
      "Epoch 200, Train Loss: 0.0982, Val Loss: 0.6589\n",
      "Early stopping at epoch 236\n",
      "Training complete.\n",
      "Starting Round 737\n"
     ]
    },
    {
     "name": "stderr",
     "output_type": "stream",
     "text": [
      "dist_matrix: 100%|####################################################################| 10/10 [00:00<00:00, 150.44it/s]\n",
      "synth_matrix: 100%|####################################################################| 10/10 [00:00<00:00, 62.67it/s]\n",
      "r_index: 100%|##########################################################################| 2/2 [00:00<00:00, 103.94it/s]\n"
     ]
    },
    {
     "name": "stdout",
     "output_type": "stream",
     "text": [
      "Epoch 100, Train Loss: 0.0878, Val Loss: 100.7814\n",
      "Epoch 200, Train Loss: 0.0851, Val Loss: 100.7823\n",
      "Epoch 00219: reducing learning rate of group 0 to 1.0000e-02.\n",
      "Early stopping at epoch 219\n",
      "Training complete.\n",
      "Starting Round 738\n"
     ]
    },
    {
     "name": "stderr",
     "output_type": "stream",
     "text": [
      "dist_matrix: 100%|######################################################################| 9/9 [00:00<00:00, 164.36it/s]\n",
      "synth_matrix: 100%|######################################################################| 9/9 [00:00<00:00, 57.45it/s]\n",
      "r_index: 100%|##########################################################################| 4/4 [00:00<00:00, 106.64it/s]\n"
     ]
    },
    {
     "name": "stdout",
     "output_type": "stream",
     "text": [
      "Epoch 100, Train Loss: 0.1109, Val Loss: 0.8491\n",
      "Early stopping at epoch 124\n",
      "Training complete.\n",
      "Starting Round 739\n"
     ]
    },
    {
     "name": "stderr",
     "output_type": "stream",
     "text": [
      "dist_matrix: 100%|####################################################################| 10/10 [00:00<00:00, 141.51it/s]\n",
      "synth_matrix: 100%|####################################################################| 10/10 [00:00<00:00, 65.25it/s]\n",
      "r_index: 100%|##########################################################################| 2/2 [00:00<00:00, 160.75it/s]\n"
     ]
    },
    {
     "name": "stdout",
     "output_type": "stream",
     "text": [
      "Epoch 100, Train Loss: 0.0966, Val Loss: 0.6722\n",
      "Epoch 200, Train Loss: 0.0875, Val Loss: 0.6696\n",
      "Early stopping at epoch 242\n",
      "Training complete.\n",
      "Starting Round 740\n"
     ]
    },
    {
     "name": "stderr",
     "output_type": "stream",
     "text": [
      "dist_matrix: 100%|######################################################################| 6/6 [00:00<00:00, 257.93it/s]\n",
      "synth_matrix: 100%|######################################################################| 6/6 [00:00<00:00, 26.01it/s]\n",
      "r_index: 100%|##########################################################################| 1/1 [00:00<00:00, 106.99it/s]\n"
     ]
    },
    {
     "name": "stdout",
     "output_type": "stream",
     "text": [
      "Epoch 100, Train Loss: 0.0828, Val Loss: 20.3895\n",
      "Epoch 200, Train Loss: 0.0790, Val Loss: 20.3474\n",
      "Early stopping at epoch 285\n",
      "Training complete.\n",
      "Starting Round 741\n"
     ]
    },
    {
     "name": "stderr",
     "output_type": "stream",
     "text": [
      "dist_matrix: 100%|####################################################################| 10/10 [00:00<00:00, 156.00it/s]\n",
      "synth_matrix: 100%|###################################################################| 10/10 [00:00<00:00, 109.65it/s]\n",
      "r_index: 100%|##########################################################################| 2/2 [00:00<00:00, 102.68it/s]\n",
      "dist_matrix: 100%|####################################################################| 10/10 [00:00<00:00, 172.23it/s]\n",
      "synth_matrix: 100%|###################################################################| 10/10 [00:00<00:00, 158.67it/s]\n",
      "r_index: 100%|##########################################################################| 2/2 [00:00<00:00, 111.94it/s]\n"
     ]
    },
    {
     "name": "stdout",
     "output_type": "stream",
     "text": [
      "Epoch 100, Train Loss: 0.1256, Val Loss: 35.9588\n",
      "Epoch 200, Train Loss: 0.0931, Val Loss: 35.9758\n",
      "Epoch 00267: reducing learning rate of group 0 to 1.0000e-02.\n",
      "Epoch 300, Train Loss: 0.0592, Val Loss: 35.9744\n",
      "Early stopping at epoch 365\n",
      "Training complete.\n",
      "Starting Round 742\n"
     ]
    },
    {
     "name": "stderr",
     "output_type": "stream",
     "text": [
      "dist_matrix: 100%|####################################################################| 11/11 [00:00<00:00, 151.43it/s]\n",
      "synth_matrix: 100%|###################################################################| 11/11 [00:00<00:00, 121.40it/s]\n",
      "r_index: 100%|########################################################################| 10/10 [00:00<00:00, 128.40it/s]\n"
     ]
    },
    {
     "name": "stdout",
     "output_type": "stream",
     "text": [
      "Epoch 100, Train Loss: 0.0916, Val Loss: 73.0451\n",
      "Epoch 200, Train Loss: 0.0840, Val Loss: 73.0403\n",
      "Epoch 00266: reducing learning rate of group 0 to 1.0000e-02.\n",
      "Epoch 300, Train Loss: 0.0503, Val Loss: 73.0194\n",
      "Early stopping at epoch 353\n",
      "Training complete.\n",
      "Starting Round 743\n"
     ]
    },
    {
     "name": "stderr",
     "output_type": "stream",
     "text": [
      "dist_matrix: 100%|######################################################################| 8/8 [00:00<00:00, 136.30it/s]\n",
      "synth_matrix: 100%|######################################################################| 8/8 [00:00<00:00, 36.64it/s]\n"
     ]
    },
    {
     "name": "stdout",
     "output_type": "stream",
     "text": [
      "Epoch 100, Train Loss: 0.1073, Val Loss: 3.8251\n",
      "Early stopping at epoch 101\n",
      "Training complete.\n",
      "Starting Round 744\n",
      "SMOGN failed: redefine phi relevance function: all points are 1\n",
      "→ Using original data instead.\n",
      "Epoch 100, Train Loss: 0.1500, Val Loss: 7.3114\n",
      "Epoch 200, Train Loss: 0.1291, Val Loss: 7.3798\n",
      "Early stopping at epoch 228\n",
      "Training complete.\n",
      "Starting Round 745\n"
     ]
    },
    {
     "name": "stderr",
     "output_type": "stream",
     "text": [
      "dist_matrix: 100%|######################################################################| 9/9 [00:00<00:00, 180.64it/s]\n",
      "synth_matrix: 100%|######################################################################| 9/9 [00:00<00:00, 52.64it/s]\n",
      "r_index: 100%|##########################################################################| 4/4 [00:00<00:00, 110.59it/s]\n"
     ]
    },
    {
     "name": "stdout",
     "output_type": "stream",
     "text": [
      "Epoch 100, Train Loss: 0.0930, Val Loss: 168.1811\n",
      "Epoch 00190: reducing learning rate of group 0 to 1.0000e-02.\n",
      "Early stopping at epoch 190\n",
      "Training complete.\n",
      "Starting Round 746\n"
     ]
    },
    {
     "name": "stderr",
     "output_type": "stream",
     "text": [
      "dist_matrix: 100%|######################################################################| 8/8 [00:00<00:00, 170.44it/s]\n",
      "synth_matrix: 100%|######################################################################| 8/8 [00:00<00:00, 35.47it/s]\n"
     ]
    },
    {
     "name": "stdout",
     "output_type": "stream",
     "text": [
      "Epoch 100, Train Loss: 0.1230, Val Loss: 6.0749\n",
      "Early stopping at epoch 122\n",
      "Training complete.\n",
      "Starting Round 747\n"
     ]
    },
    {
     "name": "stderr",
     "output_type": "stream",
     "text": [
      "dist_matrix: 100%|####################################################################| 10/10 [00:00<00:00, 151.12it/s]\n",
      "synth_matrix: 100%|####################################################################| 10/10 [00:00<00:00, 64.92it/s]\n",
      "r_index: 100%|##########################################################################| 2/2 [00:00<00:00, 109.43it/s]\n"
     ]
    },
    {
     "name": "stdout",
     "output_type": "stream",
     "text": [
      "Epoch 100, Train Loss: 0.0998, Val Loss: 1.2400\n",
      "Epoch 200, Train Loss: 0.0824, Val Loss: 1.2291\n",
      "Early stopping at epoch 256\n",
      "Training complete.\n",
      "Starting Round 748\n"
     ]
    },
    {
     "name": "stderr",
     "output_type": "stream",
     "text": [
      "dist_matrix: 100%|######################################################################| 8/8 [00:00<00:00, 197.67it/s]\n",
      "synth_matrix: 100%|######################################################################| 8/8 [00:00<00:00, 35.63it/s]\n"
     ]
    },
    {
     "name": "stdout",
     "output_type": "stream",
     "text": [
      "Epoch 100, Train Loss: 0.0967, Val Loss: 1.7144\n",
      "Epoch 200, Train Loss: 0.0762, Val Loss: 1.7444\n",
      "Epoch 300, Train Loss: 0.0775, Val Loss: 1.6947\n",
      "Early stopping at epoch 386\n",
      "Training complete.\n",
      "Starting Round 749\n"
     ]
    },
    {
     "name": "stderr",
     "output_type": "stream",
     "text": [
      "dist_matrix: 100%|####################################################################| 10/10 [00:00<00:00, 140.23it/s]\n",
      "synth_matrix: 100%|####################################################################| 10/10 [00:00<00:00, 55.15it/s]\n",
      "r_index: 100%|##########################################################################| 2/2 [00:00<00:00, 106.27it/s]\n"
     ]
    },
    {
     "name": "stdout",
     "output_type": "stream",
     "text": [
      "Epoch 100, Train Loss: 0.1307, Val Loss: 2.8222\n",
      "Early stopping at epoch 191\n",
      "Training complete.\n",
      "Starting Round 750\n"
     ]
    },
    {
     "name": "stderr",
     "output_type": "stream",
     "text": [
      "dist_matrix: 100%|######################################################################| 8/8 [00:00<00:00, 176.18it/s]\n",
      "synth_matrix: 100%|######################################################################| 8/8 [00:00<00:00, 38.08it/s]\n"
     ]
    },
    {
     "name": "stdout",
     "output_type": "stream",
     "text": [
      "Epoch 100, Train Loss: 0.1288, Val Loss: 1.1900\n",
      "Early stopping at epoch 124\n",
      "Training complete.\n",
      "Starting Round 751\n"
     ]
    },
    {
     "name": "stderr",
     "output_type": "stream",
     "text": [
      "dist_matrix: 100%|######################################################################| 9/9 [00:00<00:00, 152.65it/s]\n",
      "synth_matrix: 100%|######################################################################| 9/9 [00:00<00:00, 68.59it/s]\n",
      "r_index: 100%|###########################################################################| 4/4 [00:00<00:00, 99.45it/s]\n"
     ]
    },
    {
     "name": "stdout",
     "output_type": "stream",
     "text": [
      "Epoch 100, Train Loss: 0.1147, Val Loss: 0.9896\n",
      "Epoch 200, Train Loss: 0.1128, Val Loss: 0.9862\n",
      "Epoch 300, Train Loss: 0.1040, Val Loss: 0.9774\n",
      "Epoch 400, Train Loss: 0.0966, Val Loss: 0.9894\n",
      "Early stopping at epoch 455\n",
      "Training complete.\n",
      "Starting Round 752\n"
     ]
    },
    {
     "name": "stderr",
     "output_type": "stream",
     "text": [
      "dist_matrix: 100%|######################################################################| 8/8 [00:00<00:00, 177.63it/s]\n",
      "synth_matrix: 100%|######################################################################| 8/8 [00:00<00:00, 39.04it/s]\n"
     ]
    },
    {
     "name": "stdout",
     "output_type": "stream",
     "text": [
      "Epoch 100, Train Loss: 0.0920, Val Loss: 0.6055\n",
      "Epoch 200, Train Loss: 0.0734, Val Loss: 0.6045\n",
      "Early stopping at epoch 263\n",
      "Training complete.\n",
      "Starting Round 753\n"
     ]
    },
    {
     "name": "stderr",
     "output_type": "stream",
     "text": [
      "dist_matrix: 100%|####################################################################| 10/10 [00:00<00:00, 148.02it/s]\n",
      "synth_matrix: 100%|####################################################################| 10/10 [00:00<00:00, 60.05it/s]\n",
      "r_index: 100%|##########################################################################| 2/2 [00:00<00:00, 105.90it/s]\n"
     ]
    },
    {
     "name": "stdout",
     "output_type": "stream",
     "text": [
      "Epoch 100, Train Loss: 0.1028, Val Loss: 26.0220\n",
      "Early stopping at epoch 176\n",
      "Training complete.\n",
      "Starting Round 754\n"
     ]
    },
    {
     "name": "stderr",
     "output_type": "stream",
     "text": [
      "dist_matrix: 100%|####################################################################| 10/10 [00:00<00:00, 149.25it/s]\n",
      "synth_matrix: 100%|####################################################################| 10/10 [00:00<00:00, 57.99it/s]\n",
      "r_index: 100%|###########################################################################| 2/2 [00:00<00:00, 75.36it/s]\n"
     ]
    },
    {
     "name": "stdout",
     "output_type": "stream",
     "text": [
      "Epoch 100, Train Loss: 0.0949, Val Loss: 34.3885\n",
      "Epoch 200, Train Loss: 0.0842, Val Loss: 34.4227\n",
      "Early stopping at epoch 234\n",
      "Training complete.\n",
      "Starting Round 755\n"
     ]
    },
    {
     "name": "stderr",
     "output_type": "stream",
     "text": [
      "dist_matrix: 100%|######################################################################| 7/7 [00:00<00:00, 196.39it/s]\n",
      "synth_matrix: 100%|######################################################################| 7/7 [00:00<00:00, 34.68it/s]\n",
      "r_index: 100%|###########################################################################| 3/3 [00:00<00:00, 96.42it/s]\n"
     ]
    },
    {
     "name": "stdout",
     "output_type": "stream",
     "text": [
      "Epoch 100, Train Loss: 0.1080, Val Loss: 0.8574\n",
      "Early stopping at epoch 192\n",
      "Training complete.\n",
      "Starting Round 756\n"
     ]
    },
    {
     "name": "stderr",
     "output_type": "stream",
     "text": [
      "dist_matrix: 100%|####################################################################| 11/11 [00:00<00:00, 123.56it/s]\n",
      "synth_matrix: 100%|###################################################################| 11/11 [00:00<00:00, 103.54it/s]\n",
      "r_index: 100%|########################################################################| 10/10 [00:00<00:00, 119.19it/s]\n"
     ]
    },
    {
     "name": "stdout",
     "output_type": "stream",
     "text": [
      "Epoch 100, Train Loss: 0.1216, Val Loss: 1.0329\n",
      "Epoch 200, Train Loss: 0.0946, Val Loss: 1.0501\n",
      "Early stopping at epoch 220\n",
      "Training complete.\n",
      "Starting Round 757\n"
     ]
    },
    {
     "name": "stderr",
     "output_type": "stream",
     "text": [
      "dist_matrix: 100%|####################################################################| 11/11 [00:00<00:00, 134.50it/s]\n",
      "synth_matrix: 100%|####################################################################| 11/11 [00:00<00:00, 97.79it/s]\n",
      "r_index: 100%|########################################################################| 10/10 [00:00<00:00, 122.76it/s]\n"
     ]
    },
    {
     "name": "stdout",
     "output_type": "stream",
     "text": [
      "Epoch 100, Train Loss: 0.1064, Val Loss: 12.7193\n",
      "Epoch 200, Train Loss: 0.0865, Val Loss: 12.7142\n",
      "Early stopping at epoch 216\n",
      "Training complete.\n",
      "Starting Round 758\n"
     ]
    },
    {
     "name": "stderr",
     "output_type": "stream",
     "text": [
      "dist_matrix: 100%|####################################################################| 10/10 [00:00<00:00, 141.90it/s]\n",
      "synth_matrix: 100%|####################################################################| 10/10 [00:00<00:00, 57.68it/s]\n",
      "r_index: 100%|##########################################################################| 2/2 [00:00<00:00, 169.81it/s]\n"
     ]
    },
    {
     "name": "stdout",
     "output_type": "stream",
     "text": [
      "Epoch 100, Train Loss: 0.1117, Val Loss: 23.5503\n",
      "Early stopping at epoch 169\n",
      "Training complete.\n",
      "Starting Round 759\n"
     ]
    },
    {
     "name": "stderr",
     "output_type": "stream",
     "text": [
      "dist_matrix: 100%|####################################################################| 11/11 [00:00<00:00, 132.10it/s]\n",
      "synth_matrix: 100%|###################################################################| 11/11 [00:00<00:00, 104.84it/s]\n",
      "r_index: 100%|########################################################################| 10/10 [00:00<00:00, 132.85it/s]\n"
     ]
    },
    {
     "name": "stdout",
     "output_type": "stream",
     "text": [
      "Epoch 100, Train Loss: 0.1141, Val Loss: 9.6361\n",
      "Early stopping at epoch 116\n",
      "Training complete.\n",
      "Starting Round 760\n"
     ]
    },
    {
     "name": "stderr",
     "output_type": "stream",
     "text": [
      "dist_matrix: 100%|####################################################################| 10/10 [00:00<00:00, 144.86it/s]\n",
      "synth_matrix: 100%|####################################################################| 10/10 [00:00<00:00, 62.78it/s]\n",
      "r_index: 100%|##########################################################################| 2/2 [00:00<00:00, 105.80it/s]\n"
     ]
    },
    {
     "name": "stdout",
     "output_type": "stream",
     "text": [
      "Epoch 100, Train Loss: 0.1149, Val Loss: 0.9743\n",
      "Epoch 200, Train Loss: 0.0942, Val Loss: 1.0114\n",
      "Early stopping at epoch 201\n",
      "Training complete.\n",
      "Starting Round 761\n"
     ]
    },
    {
     "name": "stderr",
     "output_type": "stream",
     "text": [
      "dist_matrix: 100%|######################################################################| 9/9 [00:00<00:00, 168.64it/s]\n",
      "synth_matrix: 100%|######################################################################| 9/9 [00:00<00:00, 56.40it/s]\n",
      "r_index: 100%|##########################################################################| 4/4 [00:00<00:00, 163.02it/s]\n"
     ]
    },
    {
     "name": "stdout",
     "output_type": "stream",
     "text": [
      "Epoch 100, Train Loss: 0.1116, Val Loss: 9.2730\n",
      "Early stopping at epoch 197\n",
      "Training complete.\n",
      "Starting Round 762\n",
      "SMOGN failed: redefine phi relevance function: all points are 1\n",
      "→ Using original data instead.\n",
      "Epoch 100, Train Loss: 0.1472, Val Loss: 15.3557\n",
      "Epoch 00172: reducing learning rate of group 0 to 1.0000e-02.\n",
      "Early stopping at epoch 174\n",
      "Training complete.\n",
      "Starting Round 763\n"
     ]
    },
    {
     "name": "stderr",
     "output_type": "stream",
     "text": [
      "dist_matrix: 100%|######################################################################| 9/9 [00:00<00:00, 171.49it/s]\n",
      "synth_matrix: 100%|######################################################################| 9/9 [00:00<00:00, 51.91it/s]\n",
      "r_index: 100%|##########################################################################| 4/4 [00:00<00:00, 132.92it/s]\n"
     ]
    },
    {
     "name": "stdout",
     "output_type": "stream",
     "text": [
      "Epoch 100, Train Loss: 0.1602, Val Loss: 2.7974\n",
      "Early stopping at epoch 169\n",
      "Training complete.\n",
      "Starting Round 764\n"
     ]
    },
    {
     "name": "stderr",
     "output_type": "stream",
     "text": [
      "dist_matrix: 100%|######################################################################| 9/9 [00:00<00:00, 173.99it/s]\n",
      "synth_matrix: 100%|######################################################################| 9/9 [00:00<00:00, 54.53it/s]\n",
      "r_index: 100%|##########################################################################| 4/4 [00:00<00:00, 121.10it/s]\n"
     ]
    },
    {
     "name": "stdout",
     "output_type": "stream",
     "text": [
      "Epoch 100, Train Loss: 0.1199, Val Loss: 0.6861\n",
      "Early stopping at epoch 200\n",
      "Training complete.\n",
      "Starting Round 765\n"
     ]
    },
    {
     "name": "stderr",
     "output_type": "stream",
     "text": [
      "dist_matrix: 100%|######################################################################| 8/8 [00:00<00:00, 171.82it/s]\n",
      "synth_matrix: 100%|######################################################################| 8/8 [00:00<00:00, 37.40it/s]\n"
     ]
    },
    {
     "name": "stdout",
     "output_type": "stream",
     "text": [
      "Epoch 100, Train Loss: 0.1448, Val Loss: 756.9210\n",
      "Epoch 200, Train Loss: 0.1174, Val Loss: 756.8190\n",
      "Epoch 00209: reducing learning rate of group 0 to 1.0000e-02.\n",
      "Epoch 300, Train Loss: 0.0752, Val Loss: 756.8334\n",
      "Early stopping at epoch 301\n",
      "Training complete.\n",
      "Starting Round 766\n",
      "SMOGN failed: redefine phi relevance function: all points are 1\n",
      "→ Using original data instead.\n",
      "Epoch 100, Train Loss: 0.1551, Val Loss: 0.7600\n",
      "Early stopping at epoch 199\n",
      "Training complete.\n",
      "Starting Round 767\n"
     ]
    },
    {
     "name": "stderr",
     "output_type": "stream",
     "text": [
      "dist_matrix: 100%|####################################################################| 10/10 [00:00<00:00, 141.65it/s]\n",
      "synth_matrix: 100%|####################################################################| 10/10 [00:00<00:00, 59.08it/s]\n",
      "r_index: 100%|##########################################################################| 2/2 [00:00<00:00, 103.39it/s]\n"
     ]
    },
    {
     "name": "stdout",
     "output_type": "stream",
     "text": [
      "Epoch 100, Train Loss: 0.1008, Val Loss: 1.1104\n",
      "Early stopping at epoch 121\n",
      "Training complete.\n",
      "Starting Round 768\n"
     ]
    },
    {
     "name": "stderr",
     "output_type": "stream",
     "text": [
      "dist_matrix: 100%|####################################################################| 13/13 [00:00<00:00, 119.46it/s]\n",
      "synth_matrix: 100%|###################################################################| 13/13 [00:00<00:00, 121.14it/s]\n",
      "r_index: 100%|###########################################################################| 6/6 [00:00<00:00, 94.79it/s]\n"
     ]
    },
    {
     "name": "stdout",
     "output_type": "stream",
     "text": [
      "Epoch 100, Train Loss: 0.1196, Val Loss: 3.2321\n",
      "Early stopping at epoch 118\n",
      "Training complete.\n",
      "Starting Round 769\n",
      "SMOGN failed: redefine phi relevance function: all points are 1\n",
      "→ Using original data instead.\n",
      "Epoch 100, Train Loss: 0.1411, Val Loss: 5.7919\n",
      "Early stopping at epoch 176\n",
      "Training complete.\n",
      "Starting Round 770\n"
     ]
    },
    {
     "name": "stderr",
     "output_type": "stream",
     "text": [
      "dist_matrix: 100%|######################################################################| 9/9 [00:00<00:00, 153.27it/s]\n",
      "synth_matrix: 100%|######################################################################| 9/9 [00:00<00:00, 54.50it/s]\n",
      "r_index: 100%|##########################################################################| 4/4 [00:00<00:00, 105.13it/s]\n"
     ]
    },
    {
     "name": "stdout",
     "output_type": "stream",
     "text": [
      "Epoch 100, Train Loss: 0.1006, Val Loss: 10.8470\n",
      "Epoch 200, Train Loss: 0.0939, Val Loss: 10.8442\n",
      "Early stopping at epoch 241\n",
      "Training complete.\n",
      "Starting Round 771\n"
     ]
    },
    {
     "name": "stderr",
     "output_type": "stream",
     "text": [
      "dist_matrix: 100%|####################################################################| 10/10 [00:00<00:00, 121.42it/s]\n",
      "synth_matrix: 100%|####################################################################| 10/10 [00:00<00:00, 58.71it/s]\n",
      "r_index: 100%|##########################################################################| 2/2 [00:00<00:00, 112.99it/s]\n"
     ]
    },
    {
     "name": "stdout",
     "output_type": "stream",
     "text": [
      "Epoch 100, Train Loss: 0.1464, Val Loss: 0.9463\n",
      "Early stopping at epoch 120\n",
      "Training complete.\n",
      "Starting Round 772\n"
     ]
    },
    {
     "name": "stderr",
     "output_type": "stream",
     "text": [
      "dist_matrix: 100%|######################################################################| 8/8 [00:00<00:00, 195.41it/s]\n",
      "synth_matrix: 100%|#####################################################################| 8/8 [00:00<00:00, 138.25it/s]\n",
      "r_index: 100%|##########################################################################| 6/6 [00:00<00:00, 150.08it/s]\n",
      "dist_matrix: 100%|####################################################################| 10/10 [00:00<00:00, 152.54it/s]\n",
      "synth_matrix: 100%|###################################################################| 10/10 [00:00<00:00, 133.85it/s]\n",
      "r_index: 100%|##########################################################################| 2/2 [00:00<00:00, 105.01it/s]\n"
     ]
    },
    {
     "name": "stdout",
     "output_type": "stream",
     "text": [
      "Epoch 100, Train Loss: 0.1063, Val Loss: 3.2030\n",
      "Epoch 200, Train Loss: 0.0903, Val Loss: 3.1627\n",
      "Epoch 300, Train Loss: 0.0894, Val Loss: 3.1982\n",
      "Early stopping at epoch 307\n",
      "Training complete.\n",
      "Starting Round 773\n"
     ]
    },
    {
     "name": "stderr",
     "output_type": "stream",
     "text": [
      "dist_matrix: 100%|######################################################################| 8/8 [00:00<00:00, 147.91it/s]\n",
      "synth_matrix: 100%|######################################################################| 8/8 [00:00<00:00, 36.86it/s]\n"
     ]
    },
    {
     "name": "stdout",
     "output_type": "stream",
     "text": [
      "Epoch 100, Train Loss: 0.1017, Val Loss: 1.0747\n",
      "Early stopping at epoch 110\n",
      "Training complete.\n",
      "Starting Round 774\n",
      "SMOGN failed: redefine phi relevance function: all points are 1\n",
      "→ Using original data instead.\n",
      "Epoch 100, Train Loss: 0.1531, Val Loss: 33.3023\n",
      "Epoch 00121: reducing learning rate of group 0 to 1.0000e-02.\n",
      "Early stopping at epoch 167\n",
      "Training complete.\n",
      "Starting Round 775\n"
     ]
    },
    {
     "name": "stderr",
     "output_type": "stream",
     "text": [
      "dist_matrix: 100%|######################################################################| 8/8 [00:00<00:00, 161.38it/s]\n",
      "synth_matrix: 100%|######################################################################| 8/8 [00:00<00:00, 37.25it/s]\n"
     ]
    },
    {
     "name": "stdout",
     "output_type": "stream",
     "text": [
      "Epoch 100, Train Loss: 0.0828, Val Loss: 15.0883\n",
      "Early stopping at epoch 126\n",
      "Training complete.\n",
      "Starting Round 776\n",
      "SMOGN failed: redefine phi relevance function: all points are 1\n",
      "→ Using original data instead.\n",
      "Epoch 100, Train Loss: 0.1554, Val Loss: 2.2850\n",
      "Epoch 200, Train Loss: 0.1338, Val Loss: 2.2994\n",
      "Early stopping at epoch 216\n",
      "Training complete.\n",
      "Starting Round 777\n",
      "SMOGN failed: redefine phi relevance function: all points are 1\n",
      "→ Using original data instead.\n",
      "Epoch 100, Train Loss: 0.1417, Val Loss: 10.7819\n",
      "Early stopping at epoch 182\n",
      "Training complete.\n",
      "Starting Round 778\n"
     ]
    },
    {
     "name": "stderr",
     "output_type": "stream",
     "text": [
      "dist_matrix: 100%|######################################################################| 9/9 [00:00<00:00, 167.96it/s]\n",
      "synth_matrix: 100%|######################################################################| 9/9 [00:00<00:00, 54.16it/s]\n",
      "r_index: 100%|###########################################################################| 4/4 [00:00<00:00, 92.15it/s]\n"
     ]
    },
    {
     "name": "stdout",
     "output_type": "stream",
     "text": [
      "Epoch 100, Train Loss: 0.1543, Val Loss: 0.7187\n",
      "Epoch 200, Train Loss: 0.1256, Val Loss: 0.6978\n",
      "Early stopping at epoch 261\n",
      "Training complete.\n",
      "Starting Round 779\n"
     ]
    },
    {
     "name": "stderr",
     "output_type": "stream",
     "text": [
      "dist_matrix: 100%|######################################################################| 9/9 [00:00<00:00, 167.33it/s]\n",
      "synth_matrix: 100%|######################################################################| 9/9 [00:00<00:00, 50.61it/s]\n",
      "r_index: 100%|##########################################################################| 4/4 [00:00<00:00, 101.27it/s]\n"
     ]
    },
    {
     "name": "stdout",
     "output_type": "stream",
     "text": [
      "Epoch 100, Train Loss: 0.1057, Val Loss: 4.5274\n",
      "Early stopping at epoch 126\n",
      "Training complete.\n",
      "Starting Round 780\n",
      "SMOGN failed: redefine phi relevance function: all points are 1\n",
      "→ Using original data instead.\n",
      "Epoch 100, Train Loss: 0.1742, Val Loss: 0.9140\n",
      "Epoch 200, Train Loss: 0.1470, Val Loss: 0.9418\n",
      "Early stopping at epoch 259\n",
      "Training complete.\n",
      "Starting Round 781\n"
     ]
    },
    {
     "name": "stderr",
     "output_type": "stream",
     "text": [
      "dist_matrix: 100%|####################################################################| 10/10 [00:00<00:00, 141.48it/s]\n",
      "synth_matrix: 100%|####################################################################| 10/10 [00:00<00:00, 54.31it/s]\n",
      "r_index: 100%|##########################################################################| 2/2 [00:00<00:00, 114.79it/s]\n"
     ]
    },
    {
     "name": "stdout",
     "output_type": "stream",
     "text": [
      "Epoch 100, Train Loss: 0.1103, Val Loss: 0.9630\n",
      "Early stopping at epoch 180\n",
      "Training complete.\n",
      "Starting Round 782\n"
     ]
    },
    {
     "name": "stderr",
     "output_type": "stream",
     "text": [
      "dist_matrix: 100%|######################################################################| 9/9 [00:00<00:00, 166.04it/s]\n",
      "synth_matrix: 100%|######################################################################| 9/9 [00:00<00:00, 34.44it/s]\n",
      "r_index: 100%|###########################################################################| 4/4 [00:00<00:00, 72.58it/s]\n"
     ]
    },
    {
     "name": "stdout",
     "output_type": "stream",
     "text": [
      "Epoch 100, Train Loss: 0.1167, Val Loss: 97.2547\n",
      "Epoch 200, Train Loss: 0.0971, Val Loss: 97.2616\n",
      "Epoch 00289: reducing learning rate of group 0 to 1.0000e-02.\n",
      "Epoch 300, Train Loss: 0.0723, Val Loss: 97.2364\n",
      "Early stopping at epoch 386\n",
      "Training complete.\n",
      "Starting Round 783\n"
     ]
    },
    {
     "name": "stderr",
     "output_type": "stream",
     "text": [
      "dist_matrix: 100%|######################################################################| 9/9 [00:00<00:00, 166.14it/s]\n",
      "synth_matrix: 100%|######################################################################| 9/9 [00:00<00:00, 57.61it/s]\n",
      "r_index: 100%|##########################################################################| 4/4 [00:00<00:00, 126.09it/s]\n"
     ]
    },
    {
     "name": "stdout",
     "output_type": "stream",
     "text": [
      "Epoch 100, Train Loss: 0.0997, Val Loss: 2.1029\n",
      "Early stopping at epoch 196\n",
      "Training complete.\n",
      "Starting Round 784\n",
      "SMOGN failed: redefine phi relevance function: all points are 1\n",
      "→ Using original data instead.\n",
      "Epoch 100, Train Loss: 0.1399, Val Loss: 18.8667\n",
      "Epoch 00184: reducing learning rate of group 0 to 1.0000e-02.\n",
      "Early stopping at epoch 190\n",
      "Training complete.\n",
      "Starting Round 785\n"
     ]
    },
    {
     "name": "stderr",
     "output_type": "stream",
     "text": [
      "dist_matrix: 100%|####################################################################| 11/11 [00:00<00:00, 106.31it/s]\n",
      "synth_matrix: 100%|###################################################################| 11/11 [00:00<00:00, 110.17it/s]\n",
      "r_index: 100%|########################################################################| 10/10 [00:00<00:00, 134.84it/s]\n"
     ]
    },
    {
     "name": "stdout",
     "output_type": "stream",
     "text": [
      "Epoch 100, Train Loss: 0.1271, Val Loss: 78.3858\n",
      "Epoch 200, Train Loss: 0.1017, Val Loss: 78.3896\n",
      "Epoch 00229: reducing learning rate of group 0 to 1.0000e-02.\n",
      "Early stopping at epoch 233\n",
      "Training complete.\n",
      "Starting Round 786\n"
     ]
    },
    {
     "name": "stderr",
     "output_type": "stream",
     "text": [
      "dist_matrix: 100%|####################################################################| 10/10 [00:00<00:00, 128.65it/s]\n",
      "synth_matrix: 100%|###################################################################| 10/10 [00:00<00:00, 125.65it/s]\n",
      "r_index: 100%|##########################################################################| 2/2 [00:00<00:00, 153.32it/s]\n",
      "dist_matrix: 100%|####################################################################| 13/13 [00:00<00:00, 122.67it/s]\n",
      "r_index: 100%|##########################################################################| 9/9 [00:00<00:00, 107.17it/s]\n"
     ]
    },
    {
     "name": "stdout",
     "output_type": "stream",
     "text": [
      "Epoch 100, Train Loss: 0.1306, Val Loss: 7.8071\n",
      "Early stopping at epoch 127\n",
      "Training complete.\n",
      "Starting Round 787\n"
     ]
    },
    {
     "name": "stderr",
     "output_type": "stream",
     "text": [
      "dist_matrix: 100%|######################################################################| 8/8 [00:00<00:00, 117.80it/s]\n",
      "synth_matrix: 100%|######################################################################| 8/8 [00:00<00:00, 22.18it/s]\n"
     ]
    },
    {
     "name": "stdout",
     "output_type": "stream",
     "text": [
      "Epoch 100, Train Loss: 0.1163, Val Loss: 84.9888\n",
      "Early stopping at epoch 182\n",
      "Training complete.\n",
      "Starting Round 788\n"
     ]
    },
    {
     "name": "stderr",
     "output_type": "stream",
     "text": [
      "dist_matrix: 100%|#####################################################################| 11/11 [00:00<00:00, 90.04it/s]\n",
      "synth_matrix: 100%|####################################################################| 11/11 [00:00<00:00, 79.74it/s]\n",
      "dist_matrix: 100%|#######################################################################| 8/8 [00:00<00:00, 84.06it/s]\n",
      "synth_matrix: 100%|######################################################################| 8/8 [00:00<00:00, 65.83it/s]\n",
      "r_index: 100%|###########################################################################| 6/6 [00:00<00:00, 95.59it/s]\n"
     ]
    },
    {
     "name": "stdout",
     "output_type": "stream",
     "text": [
      "Epoch 100, Train Loss: 0.1303, Val Loss: 106.4066\n",
      "Epoch 00160: reducing learning rate of group 0 to 1.0000e-02.\n",
      "Epoch 200, Train Loss: 0.0682, Val Loss: 106.0471\n",
      "Early stopping at epoch 234\n",
      "Training complete.\n",
      "Starting Round 789\n"
     ]
    },
    {
     "name": "stderr",
     "output_type": "stream",
     "text": [
      "dist_matrix: 100%|#####################################################################| 10/10 [00:00<00:00, 94.91it/s]\n",
      "synth_matrix: 100%|####################################################################| 10/10 [00:00<00:00, 51.26it/s]\n",
      "r_index: 100%|###########################################################################| 2/2 [00:00<00:00, 78.71it/s]\n"
     ]
    },
    {
     "name": "stdout",
     "output_type": "stream",
     "text": [
      "Epoch 100, Train Loss: 0.1283, Val Loss: 47.6702\n",
      "Early stopping at epoch 142\n",
      "Training complete.\n",
      "Starting Round 790\n",
      "SMOGN failed: redefine phi relevance function: all points are 1\n",
      "→ Using original data instead.\n",
      "Epoch 100, Train Loss: 0.1527, Val Loss: 8.0866\n",
      "Early stopping at epoch 121\n",
      "Training complete.\n",
      "Starting Round 791\n"
     ]
    },
    {
     "name": "stderr",
     "output_type": "stream",
     "text": [
      "dist_matrix: 100%|####################################################################| 11/11 [00:00<00:00, 121.44it/s]\n",
      "synth_matrix: 100%|####################################################################| 11/11 [00:00<00:00, 92.04it/s]\n",
      "r_index: 100%|########################################################################| 10/10 [00:00<00:00, 112.27it/s]\n"
     ]
    },
    {
     "name": "stdout",
     "output_type": "stream",
     "text": [
      "Epoch 100, Train Loss: 0.1006, Val Loss: 1.4799\n",
      "Epoch 200, Train Loss: 0.0832, Val Loss: 1.4511\n",
      "Epoch 300, Train Loss: 0.0695, Val Loss: 1.4715\n",
      "Early stopping at epoch 304\n",
      "Training complete.\n",
      "Starting Round 792\n"
     ]
    },
    {
     "name": "stderr",
     "output_type": "stream",
     "text": [
      "dist_matrix: 100%|#######################################################################| 9/9 [00:00<00:00, 99.83it/s]\n",
      "synth_matrix: 100%|######################################################################| 9/9 [00:00<00:00, 94.50it/s]\n",
      "r_index: 100%|###########################################################################| 4/4 [00:00<00:00, 71.51it/s]\n",
      "dist_matrix: 100%|######################################################################| 8/8 [00:00<00:00, 141.84it/s]\n",
      "synth_matrix: 100%|######################################################################| 8/8 [00:00<00:00, 70.33it/s]\n",
      "r_index: 100%|###########################################################################| 6/6 [00:00<00:00, 66.40it/s]\n"
     ]
    },
    {
     "name": "stdout",
     "output_type": "stream",
     "text": [
      "Epoch 100, Train Loss: 0.1340, Val Loss: 3.1294\n",
      "Early stopping at epoch 126\n",
      "Training complete.\n",
      "Starting Round 793\n",
      "SMOGN failed: redefine phi relevance function: all points are 1\n",
      "→ Using original data instead.\n",
      "Epoch 100, Train Loss: 0.1530, Val Loss: 6.1217\n",
      "Epoch 200, Train Loss: 0.1299, Val Loss: 6.0789\n",
      "Early stopping at epoch 268\n",
      "Training complete.\n",
      "Starting Round 794\n"
     ]
    },
    {
     "name": "stderr",
     "output_type": "stream",
     "text": [
      "dist_matrix: 100%|######################################################################| 8/8 [00:00<00:00, 137.22it/s]\n",
      "synth_matrix: 100%|######################################################################| 8/8 [00:00<00:00, 32.18it/s]\n"
     ]
    },
    {
     "name": "stdout",
     "output_type": "stream",
     "text": [
      "Epoch 100, Train Loss: 0.1474, Val Loss: 8.7889\n",
      "Epoch 200, Train Loss: 0.1310, Val Loss: 8.8397\n",
      "Early stopping at epoch 215\n",
      "Training complete.\n",
      "Starting Round 795\n"
     ]
    },
    {
     "name": "stderr",
     "output_type": "stream",
     "text": [
      "dist_matrix: 100%|####################################################################| 13/13 [00:00<00:00, 119.58it/s]\n",
      "synth_matrix: 100%|###################################################################| 13/13 [00:00<00:00, 105.36it/s]\n",
      "r_index: 100%|##########################################################################| 6/6 [00:00<00:00, 123.04it/s]\n"
     ]
    },
    {
     "name": "stdout",
     "output_type": "stream",
     "text": [
      "Epoch 100, Train Loss: 0.1335, Val Loss: 0.7528\n",
      "Epoch 200, Train Loss: 0.1174, Val Loss: 0.9048\n",
      "Early stopping at epoch 244\n",
      "Training complete.\n",
      "Starting Round 796\n"
     ]
    },
    {
     "name": "stderr",
     "output_type": "stream",
     "text": [
      "dist_matrix: 100%|####################################################################| 11/11 [00:00<00:00, 135.86it/s]\n",
      "synth_matrix: 100%|###################################################################| 11/11 [00:00<00:00, 115.79it/s]\n",
      "r_index: 100%|########################################################################| 10/10 [00:00<00:00, 129.85it/s]\n"
     ]
    },
    {
     "name": "stdout",
     "output_type": "stream",
     "text": [
      "Epoch 100, Train Loss: 0.0916, Val Loss: 0.7637\n",
      "Epoch 200, Train Loss: 0.0825, Val Loss: 0.7759\n",
      "Early stopping at epoch 219\n",
      "Training complete.\n",
      "Starting Round 797\n"
     ]
    },
    {
     "name": "stderr",
     "output_type": "stream",
     "text": [
      "dist_matrix: 100%|######################################################################| 7/7 [00:00<00:00, 204.88it/s]\n",
      "synth_matrix: 100%|######################################################################| 7/7 [00:00<00:00, 34.19it/s]\n",
      "r_index: 100%|###########################################################################| 3/3 [00:00<00:00, 95.96it/s]\n"
     ]
    },
    {
     "name": "stdout",
     "output_type": "stream",
     "text": [
      "Epoch 100, Train Loss: 0.1947, Val Loss: 60.5541\n",
      "Early stopping at epoch 172\n",
      "Training complete.\n",
      "Starting Round 798\n",
      "SMOGN failed: redefine phi relevance function: all points are 1\n",
      "→ Using original data instead.\n",
      "Epoch 100, Train Loss: 0.1377, Val Loss: 0.8768\n",
      "Early stopping at epoch 180\n",
      "Training complete.\n",
      "Starting Round 799\n",
      "SMOGN failed: redefine phi relevance function: all points are 1\n",
      "→ Using original data instead.\n",
      "Epoch 100, Train Loss: 0.1377, Val Loss: 0.6883\n",
      "Early stopping at epoch 191\n",
      "Training complete.\n",
      "Starting Round 800\n",
      "SMOGN failed: redefine phi relevance function: all points are 1\n",
      "→ Using original data instead.\n",
      "Epoch 100, Train Loss: 0.1350, Val Loss: 1.5962\n",
      "Epoch 200, Train Loss: 0.1297, Val Loss: 1.5892\n",
      "Early stopping at epoch 256\n",
      "Training complete.\n",
      "Starting Round 801\n"
     ]
    },
    {
     "name": "stderr",
     "output_type": "stream",
     "text": [
      "dist_matrix: 100%|####################################################################| 10/10 [00:00<00:00, 147.97it/s]\n",
      "synth_matrix: 100%|####################################################################| 10/10 [00:00<00:00, 55.47it/s]\n",
      "r_index: 100%|##########################################################################| 2/2 [00:00<00:00, 105.30it/s]\n"
     ]
    },
    {
     "name": "stdout",
     "output_type": "stream",
     "text": [
      "Epoch 100, Train Loss: 0.0946, Val Loss: 130.1819\n",
      "Epoch 00187: reducing learning rate of group 0 to 1.0000e-02.\n",
      "Early stopping at epoch 187\n",
      "Training complete.\n",
      "Starting Round 802\n"
     ]
    },
    {
     "name": "stderr",
     "output_type": "stream",
     "text": [
      "dist_matrix: 100%|######################################################################| 8/8 [00:00<00:00, 191.94it/s]\n",
      "synth_matrix: 100%|######################################################################| 8/8 [00:00<00:00, 36.81it/s]\n"
     ]
    },
    {
     "name": "stdout",
     "output_type": "stream",
     "text": [
      "Epoch 100, Train Loss: 0.1085, Val Loss: 6.7397\n",
      "Early stopping at epoch 118\n",
      "Training complete.\n",
      "Starting Round 803\n",
      "SMOGN failed: redefine phi relevance function: all points are 1\n",
      "→ Using original data instead.\n",
      "Epoch 100, Train Loss: 0.1558, Val Loss: 3.6726\n",
      "Epoch 200, Train Loss: 0.1283, Val Loss: 3.6657\n",
      "Epoch 00229: reducing learning rate of group 0 to 1.0000e-02.\n",
      "Early stopping at epoch 230\n",
      "Training complete.\n",
      "Starting Round 804\n"
     ]
    },
    {
     "name": "stderr",
     "output_type": "stream",
     "text": [
      "dist_matrix: 100%|####################################################################| 12/12 [00:00<00:00, 113.31it/s]\n",
      "synth_matrix: 100%|###################################################################| 12/12 [00:00<00:00, 121.34it/s]\n",
      "r_index: 100%|##########################################################################| 7/7 [00:00<00:00, 163.60it/s]\n"
     ]
    },
    {
     "name": "stdout",
     "output_type": "stream",
     "text": [
      "Epoch 100, Train Loss: 0.1021, Val Loss: 1.3621\n",
      "Epoch 200, Train Loss: 0.0879, Val Loss: 1.3465\n",
      "Early stopping at epoch 207\n",
      "Training complete.\n",
      "Starting Round 805\n"
     ]
    },
    {
     "name": "stderr",
     "output_type": "stream",
     "text": [
      "dist_matrix: 100%|######################################################################| 9/9 [00:00<00:00, 142.63it/s]\n",
      "synth_matrix: 100%|######################################################################| 9/9 [00:00<00:00, 36.71it/s]\n",
      "r_index: 100%|###########################################################################| 4/4 [00:00<00:00, 77.13it/s]\n"
     ]
    },
    {
     "name": "stdout",
     "output_type": "stream",
     "text": [
      "Epoch 100, Train Loss: 0.1219, Val Loss: 0.6192\n",
      "Early stopping at epoch 172\n",
      "Training complete.\n",
      "Starting Round 806\n"
     ]
    },
    {
     "name": "stderr",
     "output_type": "stream",
     "text": [
      "dist_matrix: 100%|####################################################################| 10/10 [00:00<00:00, 143.26it/s]\n",
      "synth_matrix: 100%|####################################################################| 10/10 [00:00<00:00, 51.27it/s]\n",
      "r_index: 100%|##########################################################################| 2/2 [00:00<00:00, 101.35it/s]\n"
     ]
    },
    {
     "name": "stdout",
     "output_type": "stream",
     "text": [
      "Epoch 100, Train Loss: 0.1084, Val Loss: 1.6886\n",
      "Early stopping at epoch 198\n",
      "Training complete.\n",
      "Starting Round 807\n"
     ]
    },
    {
     "name": "stderr",
     "output_type": "stream",
     "text": [
      "dist_matrix: 100%|####################################################################| 11/11 [00:00<00:00, 104.99it/s]\n",
      "synth_matrix: 100%|###################################################################| 11/11 [00:00<00:00, 110.48it/s]\n",
      "r_index: 100%|########################################################################| 10/10 [00:00<00:00, 133.87it/s]\n"
     ]
    },
    {
     "name": "stdout",
     "output_type": "stream",
     "text": [
      "Epoch 100, Train Loss: 0.1413, Val Loss: 22.7816\n",
      "Epoch 00119: reducing learning rate of group 0 to 1.0000e-02.\n",
      "Early stopping at epoch 169\n",
      "Training complete.\n",
      "Starting Round 808\n"
     ]
    },
    {
     "name": "stderr",
     "output_type": "stream",
     "text": [
      "dist_matrix: 100%|######################################################################| 9/9 [00:00<00:00, 143.13it/s]\n",
      "synth_matrix: 100%|######################################################################| 9/9 [00:00<00:00, 58.69it/s]\n",
      "r_index: 100%|##########################################################################| 4/4 [00:00<00:00, 160.88it/s]\n"
     ]
    },
    {
     "name": "stdout",
     "output_type": "stream",
     "text": [
      "Epoch 100, Train Loss: 0.1050, Val Loss: 2.3281\n",
      "Early stopping at epoch 126\n",
      "Training complete.\n",
      "Starting Round 809\n"
     ]
    },
    {
     "name": "stderr",
     "output_type": "stream",
     "text": [
      "dist_matrix: 100%|####################################################################| 10/10 [00:00<00:00, 148.15it/s]\n",
      "synth_matrix: 100%|####################################################################| 10/10 [00:00<00:00, 54.75it/s]\n",
      "r_index: 100%|##########################################################################| 2/2 [00:00<00:00, 102.46it/s]\n"
     ]
    },
    {
     "name": "stdout",
     "output_type": "stream",
     "text": [
      "Epoch 100, Train Loss: 0.1327, Val Loss: 0.7694\n",
      "Epoch 200, Train Loss: 0.1127, Val Loss: 0.6644\n",
      "Early stopping at epoch 289\n",
      "Training complete.\n",
      "Starting Round 810\n"
     ]
    },
    {
     "name": "stderr",
     "output_type": "stream",
     "text": [
      "dist_matrix: 100%|######################################################################| 9/9 [00:00<00:00, 127.46it/s]\n",
      "synth_matrix: 100%|######################################################################| 9/9 [00:00<00:00, 48.91it/s]\n",
      "r_index: 100%|##########################################################################| 4/4 [00:00<00:00, 113.20it/s]\n"
     ]
    },
    {
     "name": "stdout",
     "output_type": "stream",
     "text": [
      "Epoch 100, Train Loss: 0.0980, Val Loss: 0.5908\n",
      "Epoch 200, Train Loss: 0.0824, Val Loss: 0.6018\n",
      "Early stopping at epoch 241\n",
      "Training complete.\n",
      "Starting Round 811\n"
     ]
    },
    {
     "name": "stderr",
     "output_type": "stream",
     "text": [
      "dist_matrix: 100%|######################################################################| 6/6 [00:00<00:00, 178.11it/s]\n",
      "synth_matrix: 100%|######################################################################| 6/6 [00:00<00:00, 20.05it/s]\n",
      "r_index: 100%|###########################################################################| 1/1 [00:00<00:00, 96.41it/s]\n"
     ]
    },
    {
     "name": "stdout",
     "output_type": "stream",
     "text": [
      "Epoch 100, Train Loss: 0.1500, Val Loss: 5.3936\n",
      "Early stopping at epoch 117\n",
      "Training complete.\n",
      "Starting Round 812\n"
     ]
    },
    {
     "name": "stderr",
     "output_type": "stream",
     "text": [
      "dist_matrix: 100%|######################################################################| 9/9 [00:00<00:00, 141.13it/s]\n",
      "synth_matrix: 100%|#####################################################################| 9/9 [00:00<00:00, 101.77it/s]\n",
      "r_index: 100%|##########################################################################| 4/4 [00:00<00:00, 130.30it/s]\n",
      "dist_matrix: 100%|####################################################################| 11/11 [00:00<00:00, 151.12it/s]\n",
      "synth_matrix: 100%|###################################################################| 11/11 [00:00<00:00, 107.77it/s]\n"
     ]
    },
    {
     "name": "stdout",
     "output_type": "stream",
     "text": [
      "Epoch 100, Train Loss: 0.1346, Val Loss: 6.0547\n",
      "Epoch 200, Train Loss: 0.1025, Val Loss: 6.0487\n",
      "Early stopping at epoch 258\n",
      "Training complete.\n",
      "Starting Round 813\n",
      "SMOGN failed: redefine phi relevance function: all points are 1\n",
      "→ Using original data instead.\n",
      "Epoch 100, Train Loss: 0.1405, Val Loss: 1.0326\n",
      "Epoch 200, Train Loss: 0.1278, Val Loss: 0.9985\n",
      "Early stopping at epoch 287\n",
      "Training complete.\n",
      "Starting Round 814\n",
      "SMOGN failed: redefine phi relevance function: all points are 1\n",
      "→ Using original data instead.\n",
      "Epoch 100, Train Loss: 0.1364, Val Loss: 0.7249\n",
      "Epoch 200, Train Loss: 0.1219, Val Loss: 0.7384\n",
      "Early stopping at epoch 213\n",
      "Training complete.\n",
      "Starting Round 815\n"
     ]
    },
    {
     "name": "stderr",
     "output_type": "stream",
     "text": [
      "dist_matrix: 100%|######################################################################| 9/9 [00:00<00:00, 124.46it/s]\n",
      "synth_matrix: 100%|######################################################################| 9/9 [00:00<00:00, 44.98it/s]\n",
      "r_index: 100%|###########################################################################| 4/4 [00:00<00:00, 84.62it/s]\n"
     ]
    },
    {
     "name": "stdout",
     "output_type": "stream",
     "text": [
      "Epoch 100, Train Loss: 0.1156, Val Loss: 3.4264\n",
      "Early stopping at epoch 193\n",
      "Training complete.\n",
      "Starting Round 816\n"
     ]
    },
    {
     "name": "stderr",
     "output_type": "stream",
     "text": [
      "dist_matrix: 100%|######################################################################| 8/8 [00:00<00:00, 116.42it/s]\n",
      "synth_matrix: 100%|######################################################################| 8/8 [00:00<00:00, 25.22it/s]\n"
     ]
    },
    {
     "name": "stdout",
     "output_type": "stream",
     "text": [
      "Epoch 100, Train Loss: 0.0928, Val Loss: 0.6350\n",
      "Early stopping at epoch 123\n",
      "Training complete.\n",
      "Starting Round 817\n"
     ]
    },
    {
     "name": "stderr",
     "output_type": "stream",
     "text": [
      "dist_matrix: 100%|####################################################################| 12/12 [00:00<00:00, 107.49it/s]\n",
      "synth_matrix: 100%|###################################################################| 12/12 [00:00<00:00, 104.84it/s]\n",
      "r_index: 100%|##########################################################################| 7/7 [00:00<00:00, 124.76it/s]\n"
     ]
    },
    {
     "name": "stdout",
     "output_type": "stream",
     "text": [
      "Epoch 100, Train Loss: 0.1206, Val Loss: 1.4859\n",
      "Early stopping at epoch 191\n",
      "Training complete.\n",
      "Starting Round 818\n"
     ]
    },
    {
     "name": "stderr",
     "output_type": "stream",
     "text": [
      "dist_matrix: 100%|####################################################################| 10/10 [00:00<00:00, 133.09it/s]\n",
      "synth_matrix: 100%|####################################################################| 10/10 [00:00<00:00, 49.41it/s]\n",
      "r_index: 100%|##########################################################################| 2/2 [00:00<00:00, 106.46it/s]\n"
     ]
    },
    {
     "name": "stdout",
     "output_type": "stream",
     "text": [
      "Epoch 100, Train Loss: 0.0993, Val Loss: 30.5781\n",
      "Early stopping at epoch 187\n",
      "Training complete.\n",
      "Starting Round 819\n",
      "SMOGN failed: redefine phi relevance function: all points are 1\n",
      "→ Using original data instead.\n",
      "Epoch 100, Train Loss: 0.1368, Val Loss: 12.3918\n",
      "Early stopping at epoch 158\n",
      "Training complete.\n",
      "Starting Round 820\n"
     ]
    },
    {
     "name": "stderr",
     "output_type": "stream",
     "text": [
      "dist_matrix: 100%|######################################################################| 7/7 [00:00<00:00, 137.90it/s]\n",
      "synth_matrix: 100%|######################################################################| 7/7 [00:00<00:00, 20.72it/s]\n",
      "r_index: 100%|###########################################################################| 3/3 [00:00<00:00, 80.47it/s]\n"
     ]
    },
    {
     "name": "stdout",
     "output_type": "stream",
     "text": [
      "Epoch 100, Train Loss: 0.1094, Val Loss: 12.3445\n",
      "Early stopping at epoch 140\n",
      "Training complete.\n",
      "Starting Round 821\n"
     ]
    },
    {
     "name": "stderr",
     "output_type": "stream",
     "text": [
      "dist_matrix: 100%|######################################################################| 6/6 [00:00<00:00, 209.24it/s]\n",
      "synth_matrix: 100%|######################################################################| 6/6 [00:00<00:00, 21.35it/s]\n",
      "r_index: 100%|###########################################################################| 1/1 [00:00<00:00, 93.31it/s]\n"
     ]
    },
    {
     "name": "stdout",
     "output_type": "stream",
     "text": [
      "Epoch 100, Train Loss: 0.1746, Val Loss: 15979.5645\n",
      "Epoch 00102: reducing learning rate of group 0 to 1.0000e-02.\n",
      "Early stopping at epoch 178\n",
      "Training complete.\n",
      "Starting Round 822\n"
     ]
    },
    {
     "name": "stderr",
     "output_type": "stream",
     "text": [
      "dist_matrix: 100%|######################################################################| 9/9 [00:00<00:00, 132.34it/s]\n",
      "synth_matrix: 100%|######################################################################| 9/9 [00:00<00:00, 36.88it/s]\n",
      "r_index: 100%|###########################################################################| 4/4 [00:00<00:00, 47.60it/s]\n"
     ]
    },
    {
     "name": "stdout",
     "output_type": "stream",
     "text": [
      "Epoch 100, Train Loss: 0.1593, Val Loss: 6.9796\n",
      "Early stopping at epoch 131\n",
      "Training complete.\n",
      "Starting Round 823\n"
     ]
    },
    {
     "name": "stderr",
     "output_type": "stream",
     "text": [
      "dist_matrix: 100%|######################################################################| 9/9 [00:00<00:00, 116.29it/s]\n",
      "synth_matrix: 100%|######################################################################| 9/9 [00:00<00:00, 45.89it/s]\n",
      "r_index: 100%|##########################################################################| 4/4 [00:00<00:00, 101.78it/s]\n"
     ]
    },
    {
     "name": "stdout",
     "output_type": "stream",
     "text": [
      "Epoch 100, Train Loss: 0.1000, Val Loss: 0.7795\n",
      "Epoch 200, Train Loss: 0.0866, Val Loss: 0.7630\n",
      "Early stopping at epoch 232\n",
      "Training complete.\n",
      "Starting Round 824\n"
     ]
    },
    {
     "name": "stderr",
     "output_type": "stream",
     "text": [
      "dist_matrix: 100%|######################################################################| 9/9 [00:00<00:00, 167.83it/s]\n",
      "synth_matrix: 100%|######################################################################| 9/9 [00:00<00:00, 49.96it/s]\n",
      "r_index: 100%|##########################################################################| 4/4 [00:00<00:00, 103.78it/s]\n"
     ]
    },
    {
     "name": "stdout",
     "output_type": "stream",
     "text": [
      "Epoch 100, Train Loss: 0.1163, Val Loss: 1.2419\n",
      "Early stopping at epoch 165\n",
      "Training complete.\n",
      "Starting Round 825\n"
     ]
    },
    {
     "name": "stderr",
     "output_type": "stream",
     "text": [
      "dist_matrix: 100%|####################################################################| 11/11 [00:00<00:00, 136.53it/s]\n",
      "synth_matrix: 100%|###################################################################| 11/11 [00:00<00:00, 124.62it/s]\n",
      "r_index: 100%|########################################################################| 10/10 [00:00<00:00, 150.60it/s]\n"
     ]
    },
    {
     "name": "stdout",
     "output_type": "stream",
     "text": [
      "Epoch 100, Train Loss: 0.1412, Val Loss: 1.3962\n",
      "Epoch 200, Train Loss: 0.1204, Val Loss: 1.4744\n",
      "Early stopping at epoch 218\n",
      "Training complete.\n",
      "Starting Round 826\n",
      "SMOGN failed: redefine phi relevance function: all points are 1\n",
      "→ Using original data instead.\n",
      "Epoch 100, Train Loss: 0.1371, Val Loss: 16.9555\n",
      "Early stopping at epoch 189\n",
      "Training complete.\n",
      "Starting Round 827\n"
     ]
    },
    {
     "name": "stderr",
     "output_type": "stream",
     "text": [
      "dist_matrix: 100%|####################################################################| 12/12 [00:00<00:00, 122.24it/s]\n",
      "synth_matrix: 100%|###################################################################| 12/12 [00:00<00:00, 102.64it/s]\n",
      "r_index: 100%|##########################################################################| 7/7 [00:00<00:00, 115.19it/s]\n"
     ]
    },
    {
     "name": "stdout",
     "output_type": "stream",
     "text": [
      "Epoch 100, Train Loss: 0.1126, Val Loss: 5.4227\n",
      "Early stopping at epoch 200\n",
      "Training complete.\n",
      "Starting Round 828\n"
     ]
    },
    {
     "name": "stderr",
     "output_type": "stream",
     "text": [
      "dist_matrix: 100%|######################################################################| 8/8 [00:00<00:00, 199.45it/s]\n",
      "synth_matrix: 100%|#####################################################################| 8/8 [00:00<00:00, 115.32it/s]\n",
      "r_index: 100%|##########################################################################| 6/6 [00:00<00:00, 189.01it/s]\n",
      "dist_matrix: 100%|######################################################################| 6/6 [00:00<00:00, 292.51it/s]\n",
      "synth_matrix: 100%|######################################################################| 6/6 [00:00<00:00, 61.93it/s]\n",
      "r_index: 100%|##########################################################################| 3/3 [00:00<00:00, 114.96it/s]\n"
     ]
    },
    {
     "name": "stdout",
     "output_type": "stream",
     "text": [
      "Epoch 100, Train Loss: 0.1168, Val Loss: 0.7116\n",
      "Early stopping at epoch 175\n",
      "Training complete.\n",
      "Starting Round 829\n"
     ]
    },
    {
     "name": "stderr",
     "output_type": "stream",
     "text": [
      "dist_matrix: 100%|######################################################################| 8/8 [00:00<00:00, 133.17it/s]\n",
      "synth_matrix: 100%|######################################################################| 8/8 [00:00<00:00, 32.64it/s]\n"
     ]
    },
    {
     "name": "stdout",
     "output_type": "stream",
     "text": [
      "Epoch 100, Train Loss: 0.1195, Val Loss: 15.8674\n",
      "Early stopping at epoch 140\n",
      "Training complete.\n",
      "Starting Round 830\n",
      "SMOGN failed: redefine phi relevance function: all points are 1\n",
      "→ Using original data instead.\n",
      "Epoch 100, Train Loss: 0.1393, Val Loss: 1.8210\n",
      "Epoch 200, Train Loss: 0.1248, Val Loss: 1.9327\n",
      "Early stopping at epoch 220\n",
      "Training complete.\n",
      "Starting Round 831\n"
     ]
    },
    {
     "name": "stderr",
     "output_type": "stream",
     "text": [
      "dist_matrix: 100%|######################################################################| 9/9 [00:00<00:00, 167.43it/s]\n",
      "synth_matrix: 100%|######################################################################| 9/9 [00:00<00:00, 52.53it/s]\n",
      "r_index: 100%|##########################################################################| 4/4 [00:00<00:00, 131.61it/s]\n"
     ]
    },
    {
     "name": "stdout",
     "output_type": "stream",
     "text": [
      "Epoch 100, Train Loss: 0.1038, Val Loss: 0.5834\n",
      "Early stopping at epoch 117\n",
      "Training complete.\n",
      "Starting Round 832\n"
     ]
    },
    {
     "name": "stderr",
     "output_type": "stream",
     "text": [
      "dist_matrix: 100%|######################################################################| 9/9 [00:00<00:00, 182.74it/s]\n",
      "synth_matrix: 100%|######################################################################| 9/9 [00:00<00:00, 58.71it/s]\n",
      "r_index: 100%|##########################################################################| 4/4 [00:00<00:00, 102.22it/s]\n"
     ]
    },
    {
     "name": "stdout",
     "output_type": "stream",
     "text": [
      "Epoch 100, Train Loss: 0.0951, Val Loss: 6.5408\n",
      "Epoch 200, Train Loss: 0.0840, Val Loss: 6.5631\n",
      "Early stopping at epoch 256\n",
      "Training complete.\n",
      "Starting Round 833\n"
     ]
    },
    {
     "name": "stderr",
     "output_type": "stream",
     "text": [
      "dist_matrix: 100%|####################################################################| 11/11 [00:00<00:00, 145.33it/s]\n",
      "synth_matrix: 100%|###################################################################| 11/11 [00:00<00:00, 120.44it/s]\n",
      "r_index: 100%|########################################################################| 10/10 [00:00<00:00, 114.21it/s]\n"
     ]
    },
    {
     "name": "stdout",
     "output_type": "stream",
     "text": [
      "Epoch 100, Train Loss: 0.1125, Val Loss: 0.5298\n",
      "Early stopping at epoch 193\n",
      "Training complete.\n",
      "Starting Round 834\n"
     ]
    },
    {
     "name": "stderr",
     "output_type": "stream",
     "text": [
      "dist_matrix: 100%|######################################################################| 9/9 [00:00<00:00, 189.98it/s]\n",
      "synth_matrix: 100%|######################################################################| 9/9 [00:00<00:00, 56.82it/s]\n",
      "r_index: 100%|##########################################################################| 4/4 [00:00<00:00, 133.82it/s]\n"
     ]
    },
    {
     "name": "stdout",
     "output_type": "stream",
     "text": [
      "Epoch 100, Train Loss: 0.1059, Val Loss: 2.0750\n",
      "Epoch 200, Train Loss: 0.0881, Val Loss: 2.0446\n",
      "Early stopping at epoch 287\n",
      "Training complete.\n",
      "Starting Round 835\n"
     ]
    },
    {
     "name": "stderr",
     "output_type": "stream",
     "text": [
      "dist_matrix: 100%|######################################################################| 9/9 [00:00<00:00, 170.43it/s]\n",
      "synth_matrix: 100%|######################################################################| 9/9 [00:00<00:00, 49.86it/s]\n",
      "r_index: 100%|##########################################################################| 4/4 [00:00<00:00, 109.24it/s]\n"
     ]
    },
    {
     "name": "stdout",
     "output_type": "stream",
     "text": [
      "Epoch 100, Train Loss: 0.1068, Val Loss: 3.6641\n",
      "Epoch 200, Train Loss: 0.1021, Val Loss: 3.6776\n",
      "Early stopping at epoch 204\n",
      "Training complete.\n",
      "Starting Round 836\n"
     ]
    },
    {
     "name": "stderr",
     "output_type": "stream",
     "text": [
      "dist_matrix: 100%|#####################################################################| 10/10 [00:00<00:00, 93.97it/s]\n",
      "synth_matrix: 100%|####################################################################| 10/10 [00:00<00:00, 40.99it/s]\n",
      "r_index: 100%|###########################################################################| 2/2 [00:00<00:00, 80.23it/s]\n"
     ]
    },
    {
     "name": "stdout",
     "output_type": "stream",
     "text": [
      "Epoch 100, Train Loss: 0.1149, Val Loss: 6.5185\n",
      "Epoch 200, Train Loss: 0.0974, Val Loss: 6.5143\n",
      "Early stopping at epoch 209\n",
      "Training complete.\n",
      "Starting Round 837\n"
     ]
    },
    {
     "name": "stderr",
     "output_type": "stream",
     "text": [
      "dist_matrix: 100%|######################################################################| 8/8 [00:00<00:00, 182.22it/s]\n",
      "synth_matrix: 100%|######################################################################| 8/8 [00:00<00:00, 30.24it/s]\n"
     ]
    },
    {
     "name": "stdout",
     "output_type": "stream",
     "text": [
      "Epoch 100, Train Loss: 0.1182, Val Loss: 1066.4395\n",
      "Epoch 00163: reducing learning rate of group 0 to 1.0000e-02.\n",
      "Early stopping at epoch 173\n",
      "Training complete.\n",
      "Starting Round 838\n"
     ]
    },
    {
     "name": "stderr",
     "output_type": "stream",
     "text": [
      "dist_matrix: 100%|#####################################################################| 12/12 [00:00<00:00, 78.17it/s]\n",
      "synth_matrix: 100%|###################################################################| 12/12 [00:00<00:00, 119.75it/s]\n",
      "r_index: 100%|###########################################################################| 7/7 [00:00<00:00, 91.50it/s]\n"
     ]
    },
    {
     "name": "stdout",
     "output_type": "stream",
     "text": [
      "Epoch 100, Train Loss: 0.1258, Val Loss: 1.1266\n",
      "Epoch 200, Train Loss: 0.1057, Val Loss: 1.1067\n",
      "Early stopping at epoch 277\n",
      "Training complete.\n",
      "Starting Round 839\n"
     ]
    },
    {
     "name": "stderr",
     "output_type": "stream",
     "text": [
      "dist_matrix: 100%|####################################################################| 10/10 [00:00<00:00, 127.69it/s]\n",
      "synth_matrix: 100%|####################################################################| 10/10 [00:00<00:00, 49.28it/s]\n",
      "r_index: 100%|###########################################################################| 2/2 [00:00<00:00, 80.08it/s]\n"
     ]
    },
    {
     "name": "stdout",
     "output_type": "stream",
     "text": [
      "Epoch 100, Train Loss: 0.1199, Val Loss: 4.2479\n",
      "Epoch 200, Train Loss: 0.0919, Val Loss: 4.2964\n",
      "Epoch 300, Train Loss: 0.0859, Val Loss: 4.2625\n",
      "Early stopping at epoch 333\n",
      "Training complete.\n",
      "Starting Round 840\n"
     ]
    },
    {
     "name": "stderr",
     "output_type": "stream",
     "text": [
      "dist_matrix: 100%|######################################################################| 9/9 [00:00<00:00, 101.78it/s]\n",
      "synth_matrix: 100%|######################################################################| 9/9 [00:00<00:00, 45.79it/s]\n",
      "r_index: 100%|##########################################################################| 4/4 [00:00<00:00, 116.48it/s]\n"
     ]
    },
    {
     "name": "stdout",
     "output_type": "stream",
     "text": [
      "Epoch 100, Train Loss: 0.1517, Val Loss: 11.0361\n",
      "Early stopping at epoch 160\n",
      "Training complete.\n",
      "Starting Round 841\n",
      "SMOGN failed: redefine phi relevance function: all points are 1\n",
      "→ Using original data instead.\n",
      "Epoch 100, Train Loss: 0.1564, Val Loss: 68.3416\n",
      "Epoch 00188: reducing learning rate of group 0 to 1.0000e-02.\n",
      "Early stopping at epoch 188\n",
      "Training complete.\n",
      "Starting Round 842\n"
     ]
    },
    {
     "name": "stderr",
     "output_type": "stream",
     "text": [
      "dist_matrix: 100%|######################################################################| 8/8 [00:00<00:00, 222.04it/s]\n",
      "synth_matrix: 100%|######################################################################| 8/8 [00:00<00:00, 37.98it/s]\n"
     ]
    },
    {
     "name": "stdout",
     "output_type": "stream",
     "text": [
      "Epoch 100, Train Loss: 0.1417, Val Loss: 0.5662\n",
      "Epoch 200, Train Loss: 0.1012, Val Loss: 0.5910\n",
      "Early stopping at epoch 217\n",
      "Training complete.\n",
      "Starting Round 843\n"
     ]
    },
    {
     "name": "stderr",
     "output_type": "stream",
     "text": [
      "dist_matrix: 100%|######################################################################| 8/8 [00:00<00:00, 221.54it/s]\n",
      "synth_matrix: 100%|######################################################################| 8/8 [00:00<00:00, 36.80it/s]\n"
     ]
    },
    {
     "name": "stdout",
     "output_type": "stream",
     "text": [
      "Epoch 100, Train Loss: 0.1002, Val Loss: 0.8966\n",
      "Early stopping at epoch 117\n",
      "Training complete.\n",
      "Starting Round 844\n"
     ]
    },
    {
     "name": "stderr",
     "output_type": "stream",
     "text": [
      "dist_matrix: 100%|####################################################################| 12/12 [00:00<00:00, 124.78it/s]\n",
      "synth_matrix: 100%|###################################################################| 12/12 [00:00<00:00, 128.86it/s]\n",
      "r_index: 100%|##########################################################################| 7/7 [00:00<00:00, 113.00it/s]\n"
     ]
    },
    {
     "name": "stdout",
     "output_type": "stream",
     "text": [
      "Epoch 100, Train Loss: 0.1227, Val Loss: 2.3612\n",
      "Early stopping at epoch 112\n",
      "Training complete.\n",
      "Starting Round 845\n"
     ]
    },
    {
     "name": "stderr",
     "output_type": "stream",
     "text": [
      "dist_matrix: 100%|######################################################################| 8/8 [00:00<00:00, 165.14it/s]\n",
      "synth_matrix: 100%|######################################################################| 8/8 [00:00<00:00, 39.56it/s]\n"
     ]
    },
    {
     "name": "stdout",
     "output_type": "stream",
     "text": [
      "Epoch 100, Train Loss: 0.1333, Val Loss: 2.1442\n",
      "Early stopping at epoch 124\n",
      "Training complete.\n",
      "Starting Round 846\n"
     ]
    },
    {
     "name": "stderr",
     "output_type": "stream",
     "text": [
      "dist_matrix: 100%|####################################################################| 12/12 [00:00<00:00, 137.18it/s]\n",
      "r_index: 100%|########################################################################| 10/10 [00:00<00:00, 155.64it/s]\n",
      "dist_matrix: 100%|####################################################################| 10/10 [00:00<00:00, 182.28it/s]\n",
      "synth_matrix: 100%|###################################################################| 10/10 [00:00<00:00, 134.25it/s]\n",
      "r_index: 100%|##########################################################################| 2/2 [00:00<00:00, 122.95it/s]\n"
     ]
    },
    {
     "name": "stdout",
     "output_type": "stream",
     "text": [
      "Epoch 100, Train Loss: 0.1203, Val Loss: 0.7476\n",
      "Early stopping at epoch 192\n",
      "Training complete.\n",
      "Starting Round 847\n"
     ]
    },
    {
     "name": "stderr",
     "output_type": "stream",
     "text": [
      "dist_matrix: 100%|######################################################################| 8/8 [00:00<00:00, 225.57it/s]\n",
      "synth_matrix: 100%|######################################################################| 8/8 [00:00<00:00, 36.90it/s]\n"
     ]
    },
    {
     "name": "stdout",
     "output_type": "stream",
     "text": [
      "Epoch 100, Train Loss: 0.0963, Val Loss: 0.5401\n",
      "Epoch 200, Train Loss: 0.0927, Val Loss: 0.5380\n",
      "Early stopping at epoch 267\n",
      "Training complete.\n",
      "Starting Round 848\n"
     ]
    },
    {
     "name": "stderr",
     "output_type": "stream",
     "text": [
      "dist_matrix: 100%|####################################################################| 10/10 [00:00<00:00, 171.74it/s]\n",
      "synth_matrix: 100%|####################################################################| 10/10 [00:00<00:00, 58.20it/s]\n",
      "r_index: 100%|##########################################################################| 2/2 [00:00<00:00, 113.86it/s]\n"
     ]
    },
    {
     "name": "stdout",
     "output_type": "stream",
     "text": [
      "Epoch 100, Train Loss: 0.1017, Val Loss: 11.0819\n",
      "Epoch 00168: reducing learning rate of group 0 to 1.0000e-02.\n",
      "Early stopping at epoch 173\n",
      "Training complete.\n",
      "Starting Round 849\n"
     ]
    },
    {
     "name": "stderr",
     "output_type": "stream",
     "text": [
      "dist_matrix: 100%|######################################################################| 9/9 [00:00<00:00, 145.62it/s]\n",
      "synth_matrix: 100%|######################################################################| 9/9 [00:00<00:00, 55.00it/s]\n",
      "r_index: 100%|##########################################################################| 4/4 [00:00<00:00, 114.95it/s]\n"
     ]
    },
    {
     "name": "stdout",
     "output_type": "stream",
     "text": [
      "Epoch 100, Train Loss: 0.1115, Val Loss: 3.0434\n",
      "Epoch 200, Train Loss: 0.0951, Val Loss: 3.0776\n",
      "Early stopping at epoch 237\n",
      "Training complete.\n",
      "Starting Round 850\n"
     ]
    },
    {
     "name": "stderr",
     "output_type": "stream",
     "text": [
      "dist_matrix: 100%|######################################################################| 8/8 [00:00<00:00, 179.39it/s]\n",
      "synth_matrix: 100%|######################################################################| 8/8 [00:00<00:00, 38.99it/s]\n"
     ]
    },
    {
     "name": "stdout",
     "output_type": "stream",
     "text": [
      "Epoch 100, Train Loss: 0.1398, Val Loss: 1346.6497\n",
      "Epoch 00181: reducing learning rate of group 0 to 1.0000e-02.\n",
      "Epoch 200, Train Loss: 0.0963, Val Loss: 1346.6300\n",
      "Early stopping at epoch 231\n",
      "Training complete.\n",
      "Starting Round 851\n"
     ]
    },
    {
     "name": "stderr",
     "output_type": "stream",
     "text": [
      "dist_matrix: 100%|######################################################################| 8/8 [00:00<00:00, 176.59it/s]\n",
      "synth_matrix: 100%|######################################################################| 8/8 [00:00<00:00, 40.15it/s]\n"
     ]
    },
    {
     "name": "stdout",
     "output_type": "stream",
     "text": [
      "Epoch 100, Train Loss: 0.0937, Val Loss: 1.1032\n",
      "Epoch 200, Train Loss: 0.0918, Val Loss: 1.1224\n",
      "Early stopping at epoch 282\n",
      "Training complete.\n",
      "Starting Round 852\n",
      "SMOGN failed: redefine phi relevance function: all points are 1\n",
      "→ Using original data instead.\n",
      "Epoch 100, Train Loss: 0.1564, Val Loss: 2.1832\n",
      "Early stopping at epoch 193\n",
      "Training complete.\n",
      "Starting Round 853\n"
     ]
    },
    {
     "name": "stderr",
     "output_type": "stream",
     "text": [
      "dist_matrix: 100%|####################################################################| 10/10 [00:00<00:00, 156.07it/s]\n",
      "synth_matrix: 100%|####################################################################| 10/10 [00:00<00:00, 61.91it/s]\n",
      "r_index: 100%|##########################################################################| 2/2 [00:00<00:00, 116.27it/s]\n"
     ]
    },
    {
     "name": "stdout",
     "output_type": "stream",
     "text": [
      "Epoch 100, Train Loss: 0.1024, Val Loss: 1.1709\n",
      "Early stopping at epoch 138\n",
      "Training complete.\n",
      "Starting Round 854\n"
     ]
    },
    {
     "name": "stderr",
     "output_type": "stream",
     "text": [
      "dist_matrix: 100%|######################################################################| 9/9 [00:00<00:00, 162.94it/s]\n",
      "synth_matrix: 100%|######################################################################| 9/9 [00:00<00:00, 57.27it/s]\n",
      "r_index: 100%|##########################################################################| 4/4 [00:00<00:00, 131.72it/s]\n"
     ]
    },
    {
     "name": "stdout",
     "output_type": "stream",
     "text": [
      "Epoch 100, Train Loss: 0.1154, Val Loss: 0.9189\n",
      "Early stopping at epoch 124\n",
      "Training complete.\n",
      "Starting Round 855\n"
     ]
    },
    {
     "name": "stderr",
     "output_type": "stream",
     "text": [
      "dist_matrix: 100%|####################################################################| 11/11 [00:00<00:00, 148.10it/s]\n",
      "synth_matrix: 100%|###################################################################| 11/11 [00:00<00:00, 123.32it/s]\n",
      "r_index: 100%|########################################################################| 10/10 [00:00<00:00, 122.68it/s]\n"
     ]
    },
    {
     "name": "stdout",
     "output_type": "stream",
     "text": [
      "Epoch 100, Train Loss: 0.0969, Val Loss: 0.6912\n",
      "Early stopping at epoch 118\n",
      "Training complete.\n",
      "Starting Round 856\n"
     ]
    },
    {
     "name": "stderr",
     "output_type": "stream",
     "text": [
      "dist_matrix: 100%|######################################################################| 8/8 [00:00<00:00, 148.44it/s]\n",
      "synth_matrix: 100%|######################################################################| 8/8 [00:00<00:00, 99.58it/s]\n",
      "r_index: 100%|##########################################################################| 6/6 [00:00<00:00, 129.61it/s]\n",
      "dist_matrix: 100%|####################################################################| 12/12 [00:00<00:00, 130.06it/s]\n",
      "r_index: 100%|########################################################################| 10/10 [00:00<00:00, 133.03it/s]\n"
     ]
    },
    {
     "name": "stdout",
     "output_type": "stream",
     "text": [
      "Epoch 100, Train Loss: 0.1168, Val Loss: 0.6569\n",
      "Epoch 200, Train Loss: 0.0996, Val Loss: 0.6356\n",
      "Early stopping at epoch 213\n",
      "Training complete.\n",
      "Starting Round 857\n"
     ]
    },
    {
     "name": "stderr",
     "output_type": "stream",
     "text": [
      "dist_matrix: 100%|######################################################################| 8/8 [00:00<00:00, 220.17it/s]\n",
      "synth_matrix: 100%|######################################################################| 8/8 [00:00<00:00, 32.52it/s]\n"
     ]
    },
    {
     "name": "stdout",
     "output_type": "stream",
     "text": [
      "Epoch 100, Train Loss: 0.0886, Val Loss: 1.3214\n",
      "Early stopping at epoch 177\n",
      "Training complete.\n",
      "Starting Round 858\n"
     ]
    },
    {
     "name": "stderr",
     "output_type": "stream",
     "text": [
      "dist_matrix: 100%|#####################################################################| 10/10 [00:00<00:00, 75.12it/s]\n",
      "synth_matrix: 100%|####################################################################| 10/10 [00:00<00:00, 38.52it/s]\n",
      "r_index: 100%|###########################################################################| 2/2 [00:00<00:00, 91.97it/s]\n"
     ]
    },
    {
     "name": "stdout",
     "output_type": "stream",
     "text": [
      "Epoch 100, Train Loss: 0.0947, Val Loss: 6.1293\n",
      "Epoch 200, Train Loss: 0.0818, Val Loss: 6.1513\n",
      "Epoch 300, Train Loss: 0.0802, Val Loss: 6.1125\n",
      "Epoch 400, Train Loss: 0.0881, Val Loss: 6.1494\n",
      "Early stopping at epoch 474\n",
      "Training complete.\n",
      "Starting Round 859\n"
     ]
    },
    {
     "name": "stderr",
     "output_type": "stream",
     "text": [
      "dist_matrix: 100%|####################################################################| 11/11 [00:00<00:00, 145.33it/s]\n",
      "synth_matrix: 100%|###################################################################| 11/11 [00:00<00:00, 121.71it/s]\n",
      "r_index: 100%|########################################################################| 10/10 [00:00<00:00, 123.47it/s]\n"
     ]
    },
    {
     "name": "stdout",
     "output_type": "stream",
     "text": [
      "Epoch 100, Train Loss: 0.0949, Val Loss: 1.8035\n",
      "Epoch 200, Train Loss: 0.0807, Val Loss: 1.7966\n",
      "Early stopping at epoch 268\n",
      "Training complete.\n",
      "Starting Round 860\n",
      "SMOGN failed: redefine phi relevance function: all points are 1\n",
      "→ Using original data instead.\n",
      "Epoch 100, Train Loss: 0.1527, Val Loss: 27.3651\n",
      "Epoch 200, Train Loss: 0.1331, Val Loss: 27.3564\n",
      "Early stopping at epoch 217\n",
      "Training complete.\n",
      "Starting Round 861\n"
     ]
    },
    {
     "name": "stderr",
     "output_type": "stream",
     "text": [
      "dist_matrix: 100%|######################################################################| 8/8 [00:00<00:00, 202.17it/s]\n",
      "synth_matrix: 100%|######################################################################| 8/8 [00:00<00:00, 34.40it/s]\n"
     ]
    },
    {
     "name": "stdout",
     "output_type": "stream",
     "text": [
      "Epoch 100, Train Loss: 0.1100, Val Loss: 2.5477\n",
      "Early stopping at epoch 101\n",
      "Training complete.\n",
      "Starting Round 862\n"
     ]
    },
    {
     "name": "stderr",
     "output_type": "stream",
     "text": [
      "dist_matrix: 100%|######################################################################| 9/9 [00:00<00:00, 193.89it/s]\n",
      "synth_matrix: 100%|######################################################################| 9/9 [00:00<00:00, 54.94it/s]\n",
      "r_index: 100%|##########################################################################| 4/4 [00:00<00:00, 136.98it/s]\n"
     ]
    },
    {
     "name": "stdout",
     "output_type": "stream",
     "text": [
      "Epoch 100, Train Loss: 0.1171, Val Loss: 11.2784\n",
      "Epoch 200, Train Loss: 0.0977, Val Loss: 11.3146\n",
      "Early stopping at epoch 222\n",
      "Training complete.\n",
      "Starting Round 863\n",
      "SMOGN failed: redefine phi relevance function: all points are 1\n",
      "→ Using original data instead.\n",
      "Epoch 100, Train Loss: 0.1475, Val Loss: 2.3283\n",
      "Early stopping at epoch 147\n",
      "Training complete.\n",
      "Starting Round 864\n"
     ]
    },
    {
     "name": "stderr",
     "output_type": "stream",
     "text": [
      "dist_matrix: 100%|####################################################################| 12/12 [00:00<00:00, 144.49it/s]\n",
      "synth_matrix: 100%|###################################################################| 12/12 [00:00<00:00, 127.53it/s]\n",
      "r_index: 100%|##########################################################################| 7/7 [00:00<00:00, 125.22it/s]\n"
     ]
    },
    {
     "name": "stdout",
     "output_type": "stream",
     "text": [
      "Epoch 100, Train Loss: 0.1411, Val Loss: 25.7378\n",
      "Epoch 00165: reducing learning rate of group 0 to 1.0000e-02.\n",
      "Epoch 200, Train Loss: 0.0827, Val Loss: 25.7265\n",
      "Early stopping at epoch 207\n",
      "Training complete.\n",
      "Starting Round 865\n"
     ]
    },
    {
     "name": "stderr",
     "output_type": "stream",
     "text": [
      "dist_matrix: 100%|####################################################################| 11/11 [00:00<00:00, 161.01it/s]\n",
      "synth_matrix: 100%|####################################################################| 11/11 [00:00<00:00, 99.84it/s]\n",
      "r_index: 100%|########################################################################| 10/10 [00:00<00:00, 125.95it/s]\n"
     ]
    },
    {
     "name": "stdout",
     "output_type": "stream",
     "text": [
      "Epoch 100, Train Loss: 0.0984, Val Loss: 8.8170\n",
      "Epoch 00180: reducing learning rate of group 0 to 1.0000e-02.\n",
      "Early stopping at epoch 183\n",
      "Training complete.\n",
      "Starting Round 866\n"
     ]
    },
    {
     "name": "stderr",
     "output_type": "stream",
     "text": [
      "dist_matrix: 100%|######################################################################| 7/7 [00:00<00:00, 224.13it/s]\n",
      "synth_matrix: 100%|######################################################################| 7/7 [00:00<00:00, 40.65it/s]\n",
      "r_index: 100%|##########################################################################| 3/3 [00:00<00:00, 142.67it/s]\n"
     ]
    },
    {
     "name": "stdout",
     "output_type": "stream",
     "text": [
      "Epoch 100, Train Loss: 0.1132, Val Loss: 4.9466\n",
      "Epoch 200, Train Loss: 0.0985, Val Loss: 4.9095\n",
      "Epoch 300, Train Loss: 0.0986, Val Loss: 4.9371\n",
      "Early stopping at epoch 322\n",
      "Training complete.\n",
      "Starting Round 867\n",
      "SMOGN failed: redefine phi relevance function: all points are 1\n",
      "→ Using original data instead.\n",
      "Epoch 100, Train Loss: 0.1449, Val Loss: 50.5179\n",
      "Early stopping at epoch 133\n",
      "Training complete.\n",
      "Starting Round 868\n"
     ]
    },
    {
     "name": "stderr",
     "output_type": "stream",
     "text": [
      "dist_matrix: 100%|######################################################################| 9/9 [00:00<00:00, 181.23it/s]\n",
      "synth_matrix: 100%|######################################################################| 9/9 [00:00<00:00, 64.85it/s]\n",
      "r_index: 100%|###########################################################################| 4/4 [00:00<00:00, 92.07it/s]\n"
     ]
    },
    {
     "name": "stdout",
     "output_type": "stream",
     "text": [
      "Epoch 100, Train Loss: 0.1286, Val Loss: 13.7902\n",
      "Epoch 200, Train Loss: 0.1058, Val Loss: 13.7974\n",
      "Early stopping at epoch 261\n",
      "Training complete.\n",
      "Starting Round 869\n"
     ]
    },
    {
     "name": "stderr",
     "output_type": "stream",
     "text": [
      "dist_matrix: 100%|#####################################################################| 11/11 [00:00<00:00, 83.52it/s]\n",
      "synth_matrix: 100%|####################################################################| 11/11 [00:00<00:00, 85.90it/s]\n",
      "r_index: 100%|#########################################################################| 10/10 [00:00<00:00, 94.02it/s]\n"
     ]
    },
    {
     "name": "stdout",
     "output_type": "stream",
     "text": [
      "Epoch 100, Train Loss: 0.1082, Val Loss: 8.5572\n",
      "Early stopping at epoch 140\n",
      "Training complete.\n",
      "Starting Round 870\n"
     ]
    },
    {
     "name": "stderr",
     "output_type": "stream",
     "text": [
      "dist_matrix: 100%|######################################################################| 7/7 [00:00<00:00, 194.12it/s]\n",
      "synth_matrix: 100%|######################################################################| 7/7 [00:00<00:00, 37.10it/s]\n",
      "r_index: 100%|##########################################################################| 3/3 [00:00<00:00, 108.78it/s]\n"
     ]
    },
    {
     "name": "stdout",
     "output_type": "stream",
     "text": [
      "Epoch 100, Train Loss: 0.1020, Val Loss: 17.9728\n",
      "Early stopping at epoch 122\n",
      "Training complete.\n",
      "Starting Round 871\n"
     ]
    },
    {
     "name": "stderr",
     "output_type": "stream",
     "text": [
      "dist_matrix: 100%|######################################################################| 9/9 [00:00<00:00, 119.67it/s]\n",
      "synth_matrix: 100%|######################################################################| 9/9 [00:00<00:00, 41.87it/s]\n",
      "r_index: 100%|##########################################################################| 4/4 [00:00<00:00, 111.37it/s]\n"
     ]
    },
    {
     "name": "stdout",
     "output_type": "stream",
     "text": [
      "Epoch 100, Train Loss: 0.0948, Val Loss: 0.6711\n",
      "Epoch 200, Train Loss: 0.0782, Val Loss: 0.6798\n",
      "Early stopping at epoch 265\n",
      "Training complete.\n",
      "Starting Round 872\n",
      "SMOGN failed: redefine phi relevance function: all points are 1\n",
      "→ Using original data instead.\n",
      "Epoch 100, Train Loss: 0.1503, Val Loss: 41.8270\n",
      "Epoch 200, Train Loss: 0.1318, Val Loss: 41.8376\n",
      "Epoch 00249: reducing learning rate of group 0 to 1.0000e-02.\n",
      "Early stopping at epoch 278\n",
      "Training complete.\n",
      "Starting Round 873\n"
     ]
    },
    {
     "name": "stderr",
     "output_type": "stream",
     "text": [
      "dist_matrix: 100%|####################################################################| 13/13 [00:00<00:00, 122.03it/s]\n",
      "synth_matrix: 100%|###################################################################| 13/13 [00:00<00:00, 108.56it/s]\n",
      "r_index: 100%|##########################################################################| 6/6 [00:00<00:00, 101.69it/s]\n"
     ]
    },
    {
     "name": "stdout",
     "output_type": "stream",
     "text": [
      "Epoch 100, Train Loss: 0.1119, Val Loss: 60.4969\n",
      "Epoch 00197: reducing learning rate of group 0 to 1.0000e-02.\n",
      "Epoch 200, Train Loss: 0.0974, Val Loss: 60.5027\n",
      "Early stopping at epoch 210\n",
      "Training complete.\n",
      "Starting Round 874\n",
      "SMOGN failed: redefine phi relevance function: all points are 1\n",
      "→ Using original data instead.\n",
      "Epoch 100, Train Loss: 0.1450, Val Loss: 25.8264\n",
      "Early stopping at epoch 189\n",
      "Training complete.\n",
      "Starting Round 875\n"
     ]
    },
    {
     "name": "stderr",
     "output_type": "stream",
     "text": [
      "dist_matrix: 100%|######################################################################| 8/8 [00:00<00:00, 174.64it/s]\n",
      "synth_matrix: 100%|######################################################################| 8/8 [00:00<00:00, 31.63it/s]\n"
     ]
    },
    {
     "name": "stdout",
     "output_type": "stream",
     "text": [
      "Epoch 100, Train Loss: 0.1137, Val Loss: 23.5069\n",
      "Epoch 200, Train Loss: 0.0957, Val Loss: 23.5317\n",
      "Epoch 00285: reducing learning rate of group 0 to 1.0000e-02.\n",
      "Early stopping at epoch 285\n",
      "Training complete.\n",
      "Starting Round 876\n"
     ]
    },
    {
     "name": "stderr",
     "output_type": "stream",
     "text": [
      "dist_matrix: 100%|######################################################################| 9/9 [00:00<00:00, 121.08it/s]\n",
      "synth_matrix: 100%|######################################################################| 9/9 [00:00<00:00, 43.69it/s]\n",
      "r_index: 100%|###########################################################################| 4/4 [00:00<00:00, 85.84it/s]\n"
     ]
    },
    {
     "name": "stdout",
     "output_type": "stream",
     "text": [
      "Epoch 100, Train Loss: 0.0884, Val Loss: 8.7499\n",
      "Epoch 200, Train Loss: 0.0835, Val Loss: 8.7578\n",
      "Early stopping at epoch 212\n",
      "Training complete.\n",
      "Starting Round 877\n"
     ]
    },
    {
     "name": "stderr",
     "output_type": "stream",
     "text": [
      "dist_matrix: 100%|######################################################################| 6/6 [00:00<00:00, 105.52it/s]\n",
      "synth_matrix: 100%|######################################################################| 6/6 [00:00<00:00, 27.17it/s]\n",
      "r_index: 100%|###########################################################################| 3/3 [00:00<00:00, 58.50it/s]\n",
      "dist_matrix: 100%|####################################################################| 10/10 [00:00<00:00, 112.20it/s]\n",
      "synth_matrix: 100%|####################################################################| 10/10 [00:00<00:00, 73.31it/s]\n",
      "r_index: 100%|###########################################################################| 2/2 [00:00<00:00, 77.22it/s]\n"
     ]
    },
    {
     "name": "stdout",
     "output_type": "stream",
     "text": [
      "Epoch 100, Train Loss: 0.1159, Val Loss: 9.5231\n",
      "Early stopping at epoch 167\n",
      "Training complete.\n",
      "Starting Round 878\n"
     ]
    },
    {
     "name": "stderr",
     "output_type": "stream",
     "text": [
      "dist_matrix: 100%|####################################################################| 10/10 [00:00<00:00, 122.26it/s]\n",
      "synth_matrix: 100%|####################################################################| 10/10 [00:00<00:00, 44.36it/s]\n",
      "r_index: 100%|###########################################################################| 2/2 [00:00<00:00, 59.14it/s]\n"
     ]
    },
    {
     "name": "stdout",
     "output_type": "stream",
     "text": [
      "Epoch 100, Train Loss: 0.1309, Val Loss: 1.0856\n",
      "Epoch 200, Train Loss: 0.1139, Val Loss: 1.1363\n",
      "Epoch 300, Train Loss: 0.1201, Val Loss: 1.1979\n",
      "Early stopping at epoch 361\n",
      "Training complete.\n",
      "Starting Round 879\n"
     ]
    },
    {
     "name": "stderr",
     "output_type": "stream",
     "text": [
      "dist_matrix: 100%|####################################################################| 10/10 [00:00<00:00, 157.26it/s]\n",
      "synth_matrix: 100%|####################################################################| 10/10 [00:00<00:00, 49.08it/s]\n",
      "r_index: 100%|##########################################################################| 2/2 [00:00<00:00, 167.52it/s]\n"
     ]
    },
    {
     "name": "stdout",
     "output_type": "stream",
     "text": [
      "Epoch 100, Train Loss: 0.0968, Val Loss: 2405.1274\n",
      "Epoch 00102: reducing learning rate of group 0 to 1.0000e-02.\n",
      "Early stopping at epoch 190\n",
      "Training complete.\n",
      "Starting Round 880\n"
     ]
    },
    {
     "name": "stderr",
     "output_type": "stream",
     "text": [
      "dist_matrix: 100%|####################################################################| 12/12 [00:00<00:00, 115.22it/s]\n",
      "synth_matrix: 100%|###################################################################| 12/12 [00:00<00:00, 117.77it/s]\n",
      "r_index: 100%|##########################################################################| 7/7 [00:00<00:00, 149.94it/s]\n"
     ]
    },
    {
     "name": "stdout",
     "output_type": "stream",
     "text": [
      "Epoch 100, Train Loss: 0.1515, Val Loss: 0.7146\n",
      "Epoch 200, Train Loss: 0.1182, Val Loss: 0.6987\n",
      "Early stopping at epoch 224\n",
      "Training complete.\n",
      "Starting Round 881\n"
     ]
    },
    {
     "name": "stderr",
     "output_type": "stream",
     "text": [
      "dist_matrix: 100%|####################################################################| 10/10 [00:00<00:00, 156.33it/s]\n",
      "synth_matrix: 100%|####################################################################| 10/10 [00:00<00:00, 61.78it/s]\n",
      "r_index: 100%|##########################################################################| 2/2 [00:00<00:00, 168.72it/s]\n"
     ]
    },
    {
     "name": "stdout",
     "output_type": "stream",
     "text": [
      "Epoch 100, Train Loss: 0.1905, Val Loss: 1.3464\n",
      "Early stopping at epoch 123\n",
      "Training complete.\n",
      "Starting Round 882\n"
     ]
    },
    {
     "name": "stderr",
     "output_type": "stream",
     "text": [
      "dist_matrix: 100%|#####################################################################| 10/10 [00:00<00:00, 90.72it/s]\n",
      "synth_matrix: 100%|####################################################################| 10/10 [00:00<00:00, 58.86it/s]\n",
      "r_index: 100%|###########################################################################| 2/2 [00:00<00:00, 79.55it/s]\n"
     ]
    },
    {
     "name": "stdout",
     "output_type": "stream",
     "text": [
      "Epoch 100, Train Loss: 0.1169, Val Loss: 4.8335\n",
      "Early stopping at epoch 177\n",
      "Training complete.\n",
      "Starting Round 883\n"
     ]
    },
    {
     "name": "stderr",
     "output_type": "stream",
     "text": [
      "dist_matrix: 100%|######################################################################| 9/9 [00:00<00:00, 101.50it/s]\n",
      "synth_matrix: 100%|######################################################################| 9/9 [00:00<00:00, 36.40it/s]\n",
      "r_index: 100%|###########################################################################| 4/4 [00:00<00:00, 87.86it/s]\n"
     ]
    },
    {
     "name": "stdout",
     "output_type": "stream",
     "text": [
      "Epoch 100, Train Loss: 0.1214, Val Loss: 0.9336\n",
      "Epoch 200, Train Loss: 0.1117, Val Loss: 0.9086\n",
      "Early stopping at epoch 233\n",
      "Training complete.\n",
      "Starting Round 884\n"
     ]
    },
    {
     "name": "stderr",
     "output_type": "stream",
     "text": [
      "dist_matrix: 100%|#####################################################################| 13/13 [00:00<00:00, 85.43it/s]\n",
      "synth_matrix: 100%|####################################################################| 13/13 [00:00<00:00, 92.51it/s]\n",
      "r_index: 100%|###########################################################################| 6/6 [00:00<00:00, 96.42it/s]\n"
     ]
    },
    {
     "name": "stdout",
     "output_type": "stream",
     "text": [
      "Epoch 100, Train Loss: 0.1420, Val Loss: 286.4285\n",
      "Epoch 00119: reducing learning rate of group 0 to 1.0000e-02.\n",
      "Early stopping at epoch 119\n",
      "Training complete.\n",
      "Starting Round 885\n",
      "SMOGN failed: redefine phi relevance function: all points are 1\n",
      "→ Using original data instead.\n",
      "Epoch 100, Train Loss: 0.1537, Val Loss: 1.1064\n",
      "Epoch 200, Train Loss: 0.1323, Val Loss: 1.0964\n",
      "Early stopping at epoch 271\n",
      "Training complete.\n",
      "Starting Round 886\n"
     ]
    },
    {
     "name": "stderr",
     "output_type": "stream",
     "text": [
      "dist_matrix: 100%|######################################################################| 7/7 [00:00<00:00, 145.41it/s]\n",
      "synth_matrix: 100%|######################################################################| 7/7 [00:00<00:00, 22.70it/s]\n",
      "r_index: 100%|###########################################################################| 3/3 [00:00<00:00, 80.39it/s]\n"
     ]
    },
    {
     "name": "stdout",
     "output_type": "stream",
     "text": [
      "Epoch 100, Train Loss: 0.1326, Val Loss: 19.1998\n",
      "Epoch 200, Train Loss: 0.1135, Val Loss: 19.2449\n",
      "Early stopping at epoch 204\n",
      "Training complete.\n",
      "Starting Round 887\n",
      "SMOGN failed: redefine phi relevance function: all points are 1\n",
      "→ Using original data instead.\n",
      "Epoch 100, Train Loss: 0.1489, Val Loss: 92.9419\n",
      "Epoch 00174: reducing learning rate of group 0 to 1.0000e-02.\n",
      "Epoch 200, Train Loss: 0.1030, Val Loss: 92.9273\n",
      "Early stopping at epoch 267\n",
      "Training complete.\n",
      "Starting Round 888\n",
      "SMOGN failed: redefine phi relevance function: all points are 1\n",
      "→ Using original data instead.\n",
      "Epoch 100, Train Loss: 0.1675, Val Loss: 1.0277\n",
      "Epoch 200, Train Loss: 0.1321, Val Loss: 1.0092\n",
      "Early stopping at epoch 280\n",
      "Training complete.\n",
      "Starting Round 889\n"
     ]
    },
    {
     "name": "stderr",
     "output_type": "stream",
     "text": [
      "dist_matrix: 100%|####################################################################| 13/13 [00:00<00:00, 100.86it/s]\n",
      "synth_matrix: 100%|###################################################################| 13/13 [00:00<00:00, 109.74it/s]\n",
      "r_index: 100%|##########################################################################| 6/6 [00:00<00:00, 128.11it/s]\n"
     ]
    },
    {
     "name": "stdout",
     "output_type": "stream",
     "text": [
      "Epoch 100, Train Loss: 0.1427, Val Loss: 0.9465\n",
      "Epoch 200, Train Loss: 0.1292, Val Loss: 1.0520\n",
      "Early stopping at epoch 205\n",
      "Training complete.\n",
      "Starting Round 890\n"
     ]
    },
    {
     "name": "stderr",
     "output_type": "stream",
     "text": [
      "dist_matrix: 100%|####################################################################| 11/11 [00:00<00:00, 136.74it/s]\n",
      "synth_matrix: 100%|###################################################################| 11/11 [00:00<00:00, 107.18it/s]\n",
      "r_index: 100%|########################################################################| 10/10 [00:00<00:00, 112.05it/s]\n"
     ]
    },
    {
     "name": "stdout",
     "output_type": "stream",
     "text": [
      "Epoch 100, Train Loss: 0.1464, Val Loss: 10.3489\n",
      "Early stopping at epoch 196\n",
      "Training complete.\n",
      "Starting Round 891\n",
      "SMOGN failed: redefine phi relevance function: all points are 1\n",
      "→ Using original data instead.\n",
      "Epoch 100, Train Loss: 0.1413, Val Loss: 1.8960\n",
      "Early stopping at epoch 195\n",
      "Training complete.\n",
      "Starting Round 892\n"
     ]
    },
    {
     "name": "stderr",
     "output_type": "stream",
     "text": [
      "dist_matrix: 100%|####################################################################| 10/10 [00:00<00:00, 142.24it/s]\n",
      "synth_matrix: 100%|####################################################################| 10/10 [00:00<00:00, 56.30it/s]\n",
      "r_index: 100%|###########################################################################| 2/2 [00:00<00:00, 83.21it/s]\n"
     ]
    },
    {
     "name": "stdout",
     "output_type": "stream",
     "text": [
      "Epoch 100, Train Loss: 0.1177, Val Loss: 8.6728\n",
      "Early stopping at epoch 190\n",
      "Training complete.\n",
      "Starting Round 893\n",
      "SMOGN failed: redefine phi relevance function: all points are 1\n",
      "→ Using original data instead.\n",
      "Epoch 100, Train Loss: 0.1526, Val Loss: 1.2140\n",
      "Early stopping at epoch 162\n",
      "Training complete.\n",
      "Starting Round 894\n"
     ]
    },
    {
     "name": "stderr",
     "output_type": "stream",
     "text": [
      "dist_matrix: 100%|####################################################################| 10/10 [00:00<00:00, 165.02it/s]\n",
      "synth_matrix: 100%|####################################################################| 10/10 [00:00<00:00, 56.17it/s]\n",
      "r_index: 100%|##########################################################################| 2/2 [00:00<00:00, 114.73it/s]\n"
     ]
    },
    {
     "name": "stdout",
     "output_type": "stream",
     "text": [
      "Epoch 100, Train Loss: 0.1247, Val Loss: 1.4528\n",
      "Early stopping at epoch 134\n",
      "Training complete.\n",
      "Starting Round 895\n"
     ]
    },
    {
     "name": "stderr",
     "output_type": "stream",
     "text": [
      "dist_matrix: 100%|######################################################################| 7/7 [00:00<00:00, 161.78it/s]\n",
      "synth_matrix: 100%|######################################################################| 7/7 [00:00<00:00, 55.25it/s]\n",
      "dist_matrix: 100%|######################################################################| 9/9 [00:00<00:00, 188.57it/s]\n",
      "synth_matrix: 100%|#####################################################################| 9/9 [00:00<00:00, 133.39it/s]\n",
      "r_index: 100%|##########################################################################| 4/4 [00:00<00:00, 111.29it/s]\n"
     ]
    },
    {
     "name": "stdout",
     "output_type": "stream",
     "text": [
      "Epoch 100, Train Loss: 0.1300, Val Loss: 1.1653\n",
      "Epoch 200, Train Loss: 0.0980, Val Loss: 1.1553\n",
      "Early stopping at epoch 268\n",
      "Training complete.\n",
      "Starting Round 896\n"
     ]
    },
    {
     "name": "stderr",
     "output_type": "stream",
     "text": [
      "dist_matrix: 100%|######################################################################| 7/7 [00:00<00:00, 199.34it/s]\n",
      "synth_matrix: 100%|######################################################################| 7/7 [00:00<00:00, 33.14it/s]\n",
      "r_index: 100%|##########################################################################| 3/3 [00:00<00:00, 104.43it/s]\n"
     ]
    },
    {
     "name": "stdout",
     "output_type": "stream",
     "text": [
      "Epoch 100, Train Loss: 0.1179, Val Loss: 0.6526\n",
      "Epoch 200, Train Loss: 0.0990, Val Loss: 0.6356\n",
      "Early stopping at epoch 208\n",
      "Training complete.\n",
      "Starting Round 897\n"
     ]
    },
    {
     "name": "stderr",
     "output_type": "stream",
     "text": [
      "dist_matrix: 100%|####################################################################| 11/11 [00:00<00:00, 121.40it/s]\n",
      "synth_matrix: 100%|###################################################################| 11/11 [00:00<00:00, 114.54it/s]\n",
      "r_index: 100%|########################################################################| 10/10 [00:00<00:00, 144.42it/s]\n"
     ]
    },
    {
     "name": "stdout",
     "output_type": "stream",
     "text": [
      "Epoch 100, Train Loss: 0.1169, Val Loss: 7.1850\n",
      "Epoch 200, Train Loss: 0.0961, Val Loss: 7.1932\n",
      "Early stopping at epoch 201\n",
      "Training complete.\n",
      "Starting Round 898\n"
     ]
    },
    {
     "name": "stderr",
     "output_type": "stream",
     "text": [
      "dist_matrix: 100%|######################################################################| 7/7 [00:00<00:00, 219.96it/s]\n",
      "synth_matrix: 100%|######################################################################| 7/7 [00:00<00:00, 36.41it/s]\n",
      "r_index: 100%|##########################################################################| 3/3 [00:00<00:00, 102.46it/s]\n"
     ]
    },
    {
     "name": "stdout",
     "output_type": "stream",
     "text": [
      "Epoch 100, Train Loss: 0.1043, Val Loss: 0.6864\n",
      "Epoch 200, Train Loss: 0.0882, Val Loss: 0.7148\n",
      "Epoch 300, Train Loss: 0.0815, Val Loss: 0.6760\n",
      "Early stopping at epoch 377\n",
      "Training complete.\n",
      "Starting Round 899\n"
     ]
    },
    {
     "name": "stderr",
     "output_type": "stream",
     "text": [
      "dist_matrix: 100%|####################################################################| 10/10 [00:00<00:00, 150.41it/s]\n",
      "synth_matrix: 100%|####################################################################| 10/10 [00:00<00:00, 50.97it/s]\n",
      "r_index: 100%|###########################################################################| 2/2 [00:00<00:00, 97.69it/s]\n"
     ]
    },
    {
     "name": "stdout",
     "output_type": "stream",
     "text": [
      "Epoch 100, Train Loss: 0.2231, Val Loss: 1.6099\n",
      "Early stopping at epoch 156\n",
      "Training complete.\n",
      "Starting Round 900\n",
      "SMOGN failed: redefine phi relevance function: all points are 1\n",
      "→ Using original data instead.\n",
      "Epoch 100, Train Loss: 0.1317, Val Loss: 112.2217\n",
      "Epoch 00178: reducing learning rate of group 0 to 1.0000e-02.\n",
      "Epoch 200, Train Loss: 0.0932, Val Loss: 112.2346\n",
      "Early stopping at epoch 273\n",
      "Training complete.\n",
      "Starting Round 901\n"
     ]
    },
    {
     "name": "stderr",
     "output_type": "stream",
     "text": [
      "dist_matrix: 100%|####################################################################| 12/12 [00:00<00:00, 110.37it/s]\n",
      "r_index: 100%|########################################################################| 10/10 [00:00<00:00, 109.95it/s]\n",
      "dist_matrix: 100%|####################################################################| 10/10 [00:00<00:00, 167.94it/s]\n",
      "synth_matrix: 100%|###################################################################| 10/10 [00:00<00:00, 118.65it/s]\n",
      "r_index: 100%|##########################################################################| 2/2 [00:00<00:00, 108.82it/s]\n"
     ]
    },
    {
     "name": "stdout",
     "output_type": "stream",
     "text": [
      "Epoch 100, Train Loss: 0.1075, Val Loss: 4.5709\n",
      "Early stopping at epoch 181\n",
      "Training complete.\n",
      "Starting Round 902\n",
      "SMOGN failed: redefine phi relevance function: all points are 1\n",
      "→ Using original data instead.\n",
      "Epoch 100, Train Loss: 0.1407, Val Loss: 12.1540\n",
      "Early stopping at epoch 117\n",
      "Training complete.\n",
      "Starting Round 903\n"
     ]
    },
    {
     "name": "stderr",
     "output_type": "stream",
     "text": [
      "dist_matrix: 100%|####################################################################| 11/11 [00:00<00:00, 129.98it/s]\n",
      "synth_matrix: 100%|####################################################################| 11/11 [00:00<00:00, 92.88it/s]\n",
      "r_index: 100%|########################################################################| 10/10 [00:00<00:00, 118.07it/s]\n"
     ]
    },
    {
     "name": "stdout",
     "output_type": "stream",
     "text": [
      "Epoch 100, Train Loss: 0.1045, Val Loss: 0.6512\n",
      "Early stopping at epoch 188\n",
      "Training complete.\n",
      "Starting Round 904\n"
     ]
    },
    {
     "name": "stderr",
     "output_type": "stream",
     "text": [
      "dist_matrix: 100%|####################################################################| 11/11 [00:00<00:00, 135.12it/s]\n",
      "synth_matrix: 100%|###################################################################| 11/11 [00:00<00:00, 127.06it/s]\n",
      "r_index: 100%|########################################################################| 10/10 [00:00<00:00, 117.99it/s]\n"
     ]
    },
    {
     "name": "stdout",
     "output_type": "stream",
     "text": [
      "Epoch 100, Train Loss: 0.1074, Val Loss: 1.9010\n",
      "Early stopping at epoch 163\n",
      "Training complete.\n",
      "Starting Round 905\n"
     ]
    },
    {
     "name": "stderr",
     "output_type": "stream",
     "text": [
      "dist_matrix: 100%|####################################################################| 10/10 [00:00<00:00, 146.33it/s]\n",
      "synth_matrix: 100%|####################################################################| 10/10 [00:00<00:00, 59.49it/s]\n",
      "r_index: 100%|##########################################################################| 2/2 [00:00<00:00, 108.76it/s]\n"
     ]
    },
    {
     "name": "stdout",
     "output_type": "stream",
     "text": [
      "Epoch 100, Train Loss: 0.1004, Val Loss: 377.3926\n",
      "Epoch 00170: reducing learning rate of group 0 to 1.0000e-02.\n",
      "Early stopping at epoch 170\n",
      "Training complete.\n",
      "Starting Round 906\n"
     ]
    },
    {
     "name": "stderr",
     "output_type": "stream",
     "text": [
      "dist_matrix: 100%|######################################################################| 7/7 [00:00<00:00, 223.97it/s]\n",
      "synth_matrix: 100%|######################################################################| 7/7 [00:00<00:00, 32.02it/s]\n",
      "r_index: 100%|##########################################################################| 3/3 [00:00<00:00, 126.78it/s]\n"
     ]
    },
    {
     "name": "stdout",
     "output_type": "stream",
     "text": [
      "Epoch 100, Train Loss: 0.0929, Val Loss: 62.3359\n",
      "Epoch 200, Train Loss: 0.0764, Val Loss: 62.3121\n",
      "Epoch 300, Train Loss: 0.0821, Val Loss: 62.2966\n",
      "Epoch 00380: reducing learning rate of group 0 to 1.0000e-02.\n",
      "Early stopping at epoch 384\n",
      "Training complete.\n",
      "Starting Round 907\n"
     ]
    },
    {
     "name": "stderr",
     "output_type": "stream",
     "text": [
      "dist_matrix: 100%|######################################################################| 8/8 [00:00<00:00, 166.71it/s]\n",
      "synth_matrix: 100%|######################################################################| 8/8 [00:00<00:00, 35.28it/s]\n"
     ]
    },
    {
     "name": "stdout",
     "output_type": "stream",
     "text": [
      "Epoch 100, Train Loss: 0.1119, Val Loss: 8.3071\n",
      "Epoch 200, Train Loss: 0.0891, Val Loss: 8.3053\n",
      "Early stopping at epoch 206\n",
      "Training complete.\n",
      "Starting Round 908\n"
     ]
    },
    {
     "name": "stderr",
     "output_type": "stream",
     "text": [
      "dist_matrix: 100%|######################################################################| 9/9 [00:00<00:00, 160.93it/s]\n",
      "synth_matrix: 100%|######################################################################| 9/9 [00:00<00:00, 50.03it/s]\n",
      "r_index: 100%|##########################################################################| 4/4 [00:00<00:00, 113.84it/s]\n"
     ]
    },
    {
     "name": "stdout",
     "output_type": "stream",
     "text": [
      "Epoch 100, Train Loss: 0.1299, Val Loss: 2.3198\n",
      "Epoch 200, Train Loss: 0.1260, Val Loss: 2.2076\n",
      "Early stopping at epoch 225\n",
      "Training complete.\n",
      "Starting Round 909\n"
     ]
    },
    {
     "name": "stderr",
     "output_type": "stream",
     "text": [
      "dist_matrix: 100%|######################################################################| 9/9 [00:00<00:00, 186.21it/s]\n",
      "synth_matrix: 100%|######################################################################| 9/9 [00:00<00:00, 51.25it/s]\n",
      "r_index: 100%|##########################################################################| 4/4 [00:00<00:00, 111.72it/s]\n"
     ]
    },
    {
     "name": "stdout",
     "output_type": "stream",
     "text": [
      "Epoch 100, Train Loss: 0.0880, Val Loss: 22.1856\n",
      "Epoch 200, Train Loss: 0.0765, Val Loss: 22.1670\n",
      "Early stopping at epoch 269\n",
      "Training complete.\n",
      "Starting Round 910\n",
      "SMOGN failed: redefine phi relevance function: all points are 1\n",
      "→ Using original data instead.\n",
      "Epoch 100, Train Loss: 0.1675, Val Loss: 1.2770\n",
      "Epoch 200, Train Loss: 0.1211, Val Loss: 1.2832\n",
      "Early stopping at epoch 215\n",
      "Training complete.\n",
      "Starting Round 911\n"
     ]
    },
    {
     "name": "stderr",
     "output_type": "stream",
     "text": [
      "dist_matrix: 100%|######################################################################| 6/6 [00:00<00:00, 269.55it/s]\n",
      "synth_matrix: 100%|######################################################################| 6/6 [00:00<00:00, 52.34it/s]\n",
      "r_index: 100%|##########################################################################| 3/3 [00:00<00:00, 113.10it/s]\n",
      "dist_matrix: 100%|####################################################################| 12/12 [00:00<00:00, 155.96it/s]\n",
      "r_index: 100%|########################################################################| 10/10 [00:00<00:00, 147.57it/s]\n"
     ]
    },
    {
     "name": "stdout",
     "output_type": "stream",
     "text": [
      "Epoch 100, Train Loss: 0.1456, Val Loss: 2.1853\n",
      "Early stopping at epoch 147\n",
      "Training complete.\n",
      "Starting Round 912\n"
     ]
    },
    {
     "name": "stderr",
     "output_type": "stream",
     "text": [
      "dist_matrix: 100%|######################################################################| 8/8 [00:00<00:00, 191.71it/s]\n",
      "synth_matrix: 100%|######################################################################| 8/8 [00:00<00:00, 35.89it/s]\n"
     ]
    },
    {
     "name": "stdout",
     "output_type": "stream",
     "text": [
      "Epoch 100, Train Loss: 0.0878, Val Loss: 1.5512\n",
      "Early stopping at epoch 165\n",
      "Training complete.\n",
      "Starting Round 913\n"
     ]
    },
    {
     "name": "stderr",
     "output_type": "stream",
     "text": [
      "dist_matrix: 100%|####################################################################| 11/11 [00:00<00:00, 126.55it/s]\n",
      "synth_matrix: 100%|###################################################################| 11/11 [00:00<00:00, 103.97it/s]\n",
      "r_index: 100%|########################################################################| 10/10 [00:00<00:00, 125.41it/s]\n"
     ]
    },
    {
     "name": "stdout",
     "output_type": "stream",
     "text": [
      "Epoch 100, Train Loss: 0.1123, Val Loss: 7.9840\n",
      "Epoch 200, Train Loss: 0.0991, Val Loss: 7.9428\n",
      "Epoch 300, Train Loss: 0.0882, Val Loss: 7.9360\n",
      "Early stopping at epoch 310\n",
      "Training complete.\n",
      "Starting Round 914\n"
     ]
    },
    {
     "name": "stderr",
     "output_type": "stream",
     "text": [
      "dist_matrix: 100%|######################################################################| 8/8 [00:00<00:00, 171.86it/s]\n",
      "synth_matrix: 100%|######################################################################| 8/8 [00:00<00:00, 38.44it/s]\n"
     ]
    },
    {
     "name": "stdout",
     "output_type": "stream",
     "text": [
      "Epoch 100, Train Loss: 0.1027, Val Loss: 2.1675\n",
      "Early stopping at epoch 136\n",
      "Training complete.\n",
      "Starting Round 915\n"
     ]
    },
    {
     "name": "stderr",
     "output_type": "stream",
     "text": [
      "dist_matrix: 100%|######################################################################| 9/9 [00:00<00:00, 164.24it/s]\n",
      "synth_matrix: 100%|######################################################################| 9/9 [00:00<00:00, 55.25it/s]\n",
      "r_index: 100%|##########################################################################| 4/4 [00:00<00:00, 122.01it/s]\n"
     ]
    },
    {
     "name": "stdout",
     "output_type": "stream",
     "text": [
      "Epoch 100, Train Loss: 0.1331, Val Loss: 1.7535\n",
      "Early stopping at epoch 123\n",
      "Training complete.\n",
      "Starting Round 916\n"
     ]
    },
    {
     "name": "stderr",
     "output_type": "stream",
     "text": [
      "dist_matrix: 100%|####################################################################| 12/12 [00:00<00:00, 147.90it/s]\n",
      "synth_matrix: 100%|####################################################################| 12/12 [00:00<00:00, 64.94it/s]\n",
      "r_index: 100%|##########################################################################| 7/7 [00:00<00:00, 116.52it/s]\n"
     ]
    },
    {
     "name": "stdout",
     "output_type": "stream",
     "text": [
      "Epoch 100, Train Loss: 0.1252, Val Loss: 6.8028\n",
      "Early stopping at epoch 119\n",
      "Training complete.\n",
      "Starting Round 917\n"
     ]
    },
    {
     "name": "stderr",
     "output_type": "stream",
     "text": [
      "dist_matrix: 100%|####################################################################| 11/11 [00:00<00:00, 139.15it/s]\n",
      "synth_matrix: 100%|###################################################################| 11/11 [00:00<00:00, 119.27it/s]\n",
      "r_index: 100%|########################################################################| 10/10 [00:00<00:00, 132.07it/s]\n"
     ]
    },
    {
     "name": "stdout",
     "output_type": "stream",
     "text": [
      "Epoch 100, Train Loss: 0.1453, Val Loss: 3.6090\n",
      "Epoch 200, Train Loss: 0.1269, Val Loss: 3.5563\n",
      "Early stopping at epoch 238\n",
      "Training complete.\n",
      "Starting Round 918\n"
     ]
    },
    {
     "name": "stderr",
     "output_type": "stream",
     "text": [
      "dist_matrix: 100%|####################################################################| 10/10 [00:00<00:00, 138.45it/s]\n",
      "synth_matrix: 100%|####################################################################| 10/10 [00:00<00:00, 54.76it/s]\n",
      "r_index: 100%|##########################################################################| 2/2 [00:00<00:00, 101.79it/s]\n"
     ]
    },
    {
     "name": "stdout",
     "output_type": "stream",
     "text": [
      "Epoch 100, Train Loss: 0.1504, Val Loss: 0.6599\n",
      "Early stopping at epoch 123\n",
      "Training complete.\n",
      "Starting Round 919\n"
     ]
    },
    {
     "name": "stderr",
     "output_type": "stream",
     "text": [
      "dist_matrix: 100%|######################################################################| 8/8 [00:00<00:00, 133.20it/s]\n",
      "synth_matrix: 100%|######################################################################| 8/8 [00:00<00:00, 32.33it/s]\n"
     ]
    },
    {
     "name": "stdout",
     "output_type": "stream",
     "text": [
      "Epoch 100, Train Loss: 0.1480, Val Loss: 7.0777\n",
      "Early stopping at epoch 181\n",
      "Training complete.\n",
      "Starting Round 920\n"
     ]
    },
    {
     "name": "stderr",
     "output_type": "stream",
     "text": [
      "dist_matrix: 100%|####################################################################| 10/10 [00:00<00:00, 176.53it/s]\n",
      "synth_matrix: 100%|####################################################################| 10/10 [00:00<00:00, 69.95it/s]\n",
      "r_index: 100%|##########################################################################| 2/2 [00:00<00:00, 117.40it/s]\n"
     ]
    },
    {
     "name": "stdout",
     "output_type": "stream",
     "text": [
      "Epoch 100, Train Loss: 0.0977, Val Loss: 1.5522\n",
      "Epoch 200, Train Loss: 0.1196, Val Loss: 1.5445\n",
      "Early stopping at epoch 202\n",
      "Training complete.\n",
      "Starting Round 921\n"
     ]
    },
    {
     "name": "stderr",
     "output_type": "stream",
     "text": [
      "dist_matrix: 100%|####################################################################| 11/11 [00:00<00:00, 156.69it/s]\n",
      "synth_matrix: 100%|###################################################################| 11/11 [00:00<00:00, 133.11it/s]\n",
      "r_index: 100%|########################################################################| 10/10 [00:00<00:00, 134.86it/s]\n"
     ]
    },
    {
     "name": "stdout",
     "output_type": "stream",
     "text": [
      "Epoch 100, Train Loss: 0.0910, Val Loss: 20.3876\n",
      "Epoch 200, Train Loss: 0.0944, Val Loss: 20.4965\n",
      "Epoch 300, Train Loss: 0.0831, Val Loss: 20.3451\n",
      "Early stopping at epoch 325\n",
      "Training complete.\n",
      "Starting Round 922\n"
     ]
    },
    {
     "name": "stderr",
     "output_type": "stream",
     "text": [
      "dist_matrix: 100%|####################################################################| 10/10 [00:00<00:00, 154.49it/s]\n",
      "synth_matrix: 100%|####################################################################| 10/10 [00:00<00:00, 62.39it/s]\n",
      "r_index: 100%|##########################################################################| 2/2 [00:00<00:00, 155.48it/s]\n"
     ]
    },
    {
     "name": "stdout",
     "output_type": "stream",
     "text": [
      "Epoch 100, Train Loss: 0.1156, Val Loss: 1.4499\n",
      "Epoch 200, Train Loss: 0.1047, Val Loss: 1.4594\n",
      "Early stopping at epoch 252\n",
      "Training complete.\n",
      "Starting Round 923\n"
     ]
    },
    {
     "name": "stderr",
     "output_type": "stream",
     "text": [
      "dist_matrix: 100%|####################################################################| 10/10 [00:00<00:00, 138.88it/s]\n",
      "synth_matrix: 100%|####################################################################| 10/10 [00:00<00:00, 39.81it/s]\n",
      "r_index: 100%|###########################################################################| 2/2 [00:00<00:00, 67.08it/s]\n"
     ]
    },
    {
     "name": "stdout",
     "output_type": "stream",
     "text": [
      "Epoch 100, Train Loss: 0.1211, Val Loss: 0.9476\n",
      "Epoch 200, Train Loss: 0.1095, Val Loss: 1.0717\n",
      "Early stopping at epoch 252\n",
      "Training complete.\n",
      "Starting Round 924\n"
     ]
    },
    {
     "name": "stderr",
     "output_type": "stream",
     "text": [
      "dist_matrix: 100%|####################################################################| 11/11 [00:00<00:00, 140.30it/s]\n",
      "synth_matrix: 100%|###################################################################| 11/11 [00:00<00:00, 129.90it/s]\n",
      "r_index: 100%|########################################################################| 10/10 [00:00<00:00, 114.49it/s]\n"
     ]
    },
    {
     "name": "stdout",
     "output_type": "stream",
     "text": [
      "Epoch 100, Train Loss: 0.1020, Val Loss: 7.6279\n",
      "Epoch 200, Train Loss: 0.0930, Val Loss: 7.6532\n",
      "Epoch 300, Train Loss: 0.0828, Val Loss: 7.6144\n",
      "Early stopping at epoch 360\n",
      "Training complete.\n",
      "Starting Round 925\n",
      "SMOGN failed: redefine phi relevance function: all points are 1\n",
      "→ Using original data instead.\n",
      "Epoch 100, Train Loss: 0.1494, Val Loss: 76.9387\n",
      "Epoch 00187: reducing learning rate of group 0 to 1.0000e-02.\n",
      "Epoch 200, Train Loss: 0.1144, Val Loss: 76.9472\n",
      "Early stopping at epoch 221\n",
      "Training complete.\n",
      "Starting Round 926\n"
     ]
    },
    {
     "name": "stderr",
     "output_type": "stream",
     "text": [
      "dist_matrix: 100%|######################################################################| 8/8 [00:00<00:00, 215.12it/s]\n",
      "synth_matrix: 100%|######################################################################| 8/8 [00:00<00:00, 39.89it/s]\n"
     ]
    },
    {
     "name": "stdout",
     "output_type": "stream",
     "text": [
      "Epoch 100, Train Loss: 0.1715, Val Loss: 6.2203\n",
      "Epoch 200, Train Loss: 0.1590, Val Loss: 6.2273\n",
      "Early stopping at epoch 270\n",
      "Training complete.\n",
      "Starting Round 927\n",
      "SMOGN failed: redefine phi relevance function: all points are 1\n",
      "→ Using original data instead.\n",
      "Epoch 100, Train Loss: 0.1369, Val Loss: 1.1833\n",
      "Early stopping at epoch 120\n",
      "Training complete.\n",
      "Starting Round 928\n"
     ]
    },
    {
     "name": "stderr",
     "output_type": "stream",
     "text": [
      "dist_matrix: 100%|####################################################################| 10/10 [00:00<00:00, 168.52it/s]\n",
      "synth_matrix: 100%|####################################################################| 10/10 [00:00<00:00, 52.69it/s]\n",
      "r_index: 100%|##########################################################################| 2/2 [00:00<00:00, 161.43it/s]\n"
     ]
    },
    {
     "name": "stdout",
     "output_type": "stream",
     "text": [
      "Epoch 100, Train Loss: 0.1256, Val Loss: 1.1073\n",
      "Epoch 200, Train Loss: 0.1048, Val Loss: 1.1171\n",
      "Early stopping at epoch 221\n",
      "Training complete.\n",
      "Starting Round 929\n"
     ]
    },
    {
     "name": "stderr",
     "output_type": "stream",
     "text": [
      "dist_matrix: 100%|####################################################################| 10/10 [00:00<00:00, 145.40it/s]\n",
      "synth_matrix: 100%|####################################################################| 10/10 [00:00<00:00, 57.66it/s]\n",
      "r_index: 100%|##########################################################################| 2/2 [00:00<00:00, 105.37it/s]\n"
     ]
    },
    {
     "name": "stdout",
     "output_type": "stream",
     "text": [
      "Epoch 100, Train Loss: 0.1388, Val Loss: 2.9785\n",
      "Epoch 200, Train Loss: 0.1270, Val Loss: 2.9808\n",
      "Early stopping at epoch 291\n",
      "Training complete.\n",
      "Starting Round 930\n"
     ]
    },
    {
     "name": "stderr",
     "output_type": "stream",
     "text": [
      "dist_matrix: 100%|######################################################################| 9/9 [00:00<00:00, 126.54it/s]\n",
      "synth_matrix: 100%|######################################################################| 9/9 [00:00<00:00, 37.07it/s]\n",
      "r_index: 100%|##########################################################################| 4/4 [00:00<00:00, 101.24it/s]\n"
     ]
    },
    {
     "name": "stdout",
     "output_type": "stream",
     "text": [
      "Epoch 100, Train Loss: 0.1464, Val Loss: 29.6764\n",
      "Epoch 200, Train Loss: 0.1159, Val Loss: 29.8090\n",
      "Epoch 300, Train Loss: 0.1138, Val Loss: 29.6838\n",
      "Epoch 400, Train Loss: 0.1045, Val Loss: 29.7292\n",
      "Early stopping at epoch 495\n",
      "Training complete.\n",
      "Starting Round 931\n"
     ]
    },
    {
     "name": "stderr",
     "output_type": "stream",
     "text": [
      "dist_matrix: 100%|####################################################################| 11/11 [00:00<00:00, 152.54it/s]\n",
      "synth_matrix: 100%|###################################################################| 11/11 [00:00<00:00, 120.14it/s]\n",
      "r_index: 100%|########################################################################| 10/10 [00:00<00:00, 114.60it/s]\n"
     ]
    },
    {
     "name": "stdout",
     "output_type": "stream",
     "text": [
      "Epoch 100, Train Loss: 0.1028, Val Loss: 0.4700\n",
      "Early stopping at epoch 198\n",
      "Training complete.\n",
      "Starting Round 932\n"
     ]
    },
    {
     "name": "stderr",
     "output_type": "stream",
     "text": [
      "dist_matrix: 100%|####################################################################| 10/10 [00:00<00:00, 157.96it/s]\n",
      "synth_matrix: 100%|####################################################################| 10/10 [00:00<00:00, 61.51it/s]\n",
      "r_index: 100%|##########################################################################| 2/2 [00:00<00:00, 117.46it/s]\n"
     ]
    },
    {
     "name": "stdout",
     "output_type": "stream",
     "text": [
      "Epoch 100, Train Loss: 0.1157, Val Loss: 0.7768\n",
      "Early stopping at epoch 124\n",
      "Training complete.\n",
      "Starting Round 933\n"
     ]
    },
    {
     "name": "stderr",
     "output_type": "stream",
     "text": [
      "dist_matrix: 100%|####################################################################| 10/10 [00:00<00:00, 131.72it/s]\n",
      "synth_matrix: 100%|####################################################################| 10/10 [00:00<00:00, 52.49it/s]\n",
      "r_index: 100%|##########################################################################| 2/2 [00:00<00:00, 105.75it/s]\n"
     ]
    },
    {
     "name": "stdout",
     "output_type": "stream",
     "text": [
      "Epoch 100, Train Loss: 0.0937, Val Loss: 0.7622\n",
      "Early stopping at epoch 118\n",
      "Training complete.\n",
      "Starting Round 934\n",
      "SMOGN failed: redefine phi relevance function: all points are 1\n",
      "→ Using original data instead.\n",
      "Epoch 100, Train Loss: 0.1532, Val Loss: 111.7292\n",
      "Epoch 00187: reducing learning rate of group 0 to 1.0000e-02.\n",
      "Epoch 200, Train Loss: 0.1044, Val Loss: 111.6751\n",
      "Epoch 00288: reducing learning rate of group 0 to 1.0000e-03.\n",
      "Epoch 300, Train Loss: 0.0851, Val Loss: 111.6862\n",
      "Early stopping at epoch 301\n",
      "Training complete.\n",
      "Starting Round 935\n"
     ]
    },
    {
     "name": "stderr",
     "output_type": "stream",
     "text": [
      "dist_matrix: 100%|####################################################################| 11/11 [00:00<00:00, 135.46it/s]\n",
      "synth_matrix: 100%|###################################################################| 11/11 [00:00<00:00, 115.79it/s]\n",
      "r_index: 100%|########################################################################| 10/10 [00:00<00:00, 128.42it/s]\n"
     ]
    },
    {
     "name": "stdout",
     "output_type": "stream",
     "text": [
      "Epoch 100, Train Loss: 0.0988, Val Loss: 435.0350\n",
      "Epoch 00196: reducing learning rate of group 0 to 1.0000e-02.\n",
      "Epoch 200, Train Loss: 0.0723, Val Loss: 435.0321\n",
      "Early stopping at epoch 295\n",
      "Training complete.\n",
      "Starting Round 936\n",
      "SMOGN failed: redefine phi relevance function: all points are 1\n",
      "→ Using original data instead.\n",
      "Epoch 100, Train Loss: 0.1365, Val Loss: 18.6295\n",
      "Epoch 00125: reducing learning rate of group 0 to 1.0000e-02.\n",
      "Early stopping at epoch 125\n",
      "Training complete.\n",
      "Starting Round 937\n"
     ]
    },
    {
     "name": "stderr",
     "output_type": "stream",
     "text": [
      "dist_matrix: 100%|######################################################################| 9/9 [00:00<00:00, 117.23it/s]\n",
      "synth_matrix: 100%|######################################################################| 9/9 [00:00<00:00, 42.60it/s]\n",
      "r_index: 100%|##########################################################################| 4/4 [00:00<00:00, 105.16it/s]\n"
     ]
    },
    {
     "name": "stdout",
     "output_type": "stream",
     "text": [
      "Epoch 100, Train Loss: 0.0870, Val Loss: 37.3356\n",
      "Epoch 200, Train Loss: 0.0856, Val Loss: 37.3308\n",
      "Epoch 00222: reducing learning rate of group 0 to 1.0000e-02.\n",
      "Early stopping at epoch 235\n",
      "Training complete.\n",
      "Starting Round 938\n"
     ]
    },
    {
     "name": "stderr",
     "output_type": "stream",
     "text": [
      "dist_matrix: 100%|######################################################################| 9/9 [00:00<00:00, 149.86it/s]\n",
      "synth_matrix: 100%|######################################################################| 9/9 [00:00<00:00, 55.02it/s]\n",
      "r_index: 100%|##########################################################################| 4/4 [00:00<00:00, 121.36it/s]\n"
     ]
    },
    {
     "name": "stdout",
     "output_type": "stream",
     "text": [
      "Epoch 100, Train Loss: 0.1040, Val Loss: 1308.5118\n",
      "Epoch 00114: reducing learning rate of group 0 to 1.0000e-02.\n",
      "Epoch 200, Train Loss: 0.0515, Val Loss: 1308.4662\n",
      "Epoch 00223: reducing learning rate of group 0 to 1.0000e-03.\n",
      "Early stopping at epoch 223\n",
      "Training complete.\n",
      "Starting Round 939\n",
      "SMOGN failed: redefine phi relevance function: all points are 1\n",
      "→ Using original data instead.\n",
      "Epoch 100, Train Loss: 0.1389, Val Loss: 5.3394\n",
      "Early stopping at epoch 131\n",
      "Training complete.\n",
      "Starting Round 940\n"
     ]
    },
    {
     "name": "stderr",
     "output_type": "stream",
     "text": [
      "dist_matrix: 100%|####################################################################| 13/13 [00:00<00:00, 114.29it/s]\n",
      "synth_matrix: 100%|###################################################################| 13/13 [00:00<00:00, 126.69it/s]\n",
      "r_index: 100%|##########################################################################| 6/6 [00:00<00:00, 147.97it/s]\n"
     ]
    },
    {
     "name": "stdout",
     "output_type": "stream",
     "text": [
      "Epoch 100, Train Loss: 0.1140, Val Loss: 23.4172\n",
      "Epoch 200, Train Loss: 0.0981, Val Loss: 23.4736\n",
      "Epoch 00207: reducing learning rate of group 0 to 1.0000e-02.\n",
      "Early stopping at epoch 208\n",
      "Training complete.\n",
      "Starting Round 941\n"
     ]
    },
    {
     "name": "stderr",
     "output_type": "stream",
     "text": [
      "dist_matrix: 100%|####################################################################| 11/11 [00:00<00:00, 154.30it/s]\n",
      "synth_matrix: 100%|###################################################################| 11/11 [00:00<00:00, 124.33it/s]\n",
      "r_index: 100%|########################################################################| 10/10 [00:00<00:00, 120.00it/s]\n"
     ]
    },
    {
     "name": "stdout",
     "output_type": "stream",
     "text": [
      "Epoch 100, Train Loss: 0.1326, Val Loss: 2.1319\n",
      "Early stopping at epoch 198\n",
      "Training complete.\n",
      "Starting Round 942\n"
     ]
    },
    {
     "name": "stderr",
     "output_type": "stream",
     "text": [
      "dist_matrix: 100%|######################################################################| 9/9 [00:00<00:00, 183.11it/s]\n",
      "synth_matrix: 100%|######################################################################| 9/9 [00:00<00:00, 60.69it/s]\n",
      "r_index: 100%|##########################################################################| 4/4 [00:00<00:00, 144.55it/s]\n"
     ]
    },
    {
     "name": "stdout",
     "output_type": "stream",
     "text": [
      "Epoch 100, Train Loss: 0.1430, Val Loss: 1.3065\n",
      "Early stopping at epoch 124\n",
      "Training complete.\n",
      "Starting Round 943\n"
     ]
    },
    {
     "name": "stderr",
     "output_type": "stream",
     "text": [
      "dist_matrix: 100%|######################################################################| 6/6 [00:00<00:00, 292.73it/s]\n",
      "synth_matrix: 100%|######################################################################| 6/6 [00:00<00:00, 52.10it/s]\n",
      "r_index: 100%|###########################################################################| 3/3 [00:00<00:00, 99.75it/s]\n",
      "dist_matrix: 100%|####################################################################| 12/12 [00:00<00:00, 159.83it/s]\n",
      "r_index: 100%|########################################################################| 10/10 [00:00<00:00, 144.97it/s]\n"
     ]
    },
    {
     "name": "stdout",
     "output_type": "stream",
     "text": [
      "Epoch 100, Train Loss: 0.1048, Val Loss: 7.8317\n",
      "Early stopping at epoch 104\n",
      "Training complete.\n",
      "Starting Round 944\n"
     ]
    },
    {
     "name": "stderr",
     "output_type": "stream",
     "text": [
      "dist_matrix: 100%|####################################################################| 10/10 [00:00<00:00, 178.74it/s]\n",
      "synth_matrix: 100%|###################################################################| 10/10 [00:00<00:00, 117.98it/s]\n",
      "r_index: 100%|##########################################################################| 2/2 [00:00<00:00, 257.45it/s]\n",
      "dist_matrix: 100%|######################################################################| 8/8 [00:00<00:00, 227.46it/s]\n",
      "synth_matrix: 100%|#####################################################################| 8/8 [00:00<00:00, 128.78it/s]\n",
      "r_index: 100%|##########################################################################| 6/6 [00:00<00:00, 125.25it/s]\n"
     ]
    },
    {
     "name": "stdout",
     "output_type": "stream",
     "text": [
      "Epoch 100, Train Loss: 0.1233, Val Loss: 2.1603\n",
      "Early stopping at epoch 130\n",
      "Training complete.\n",
      "Starting Round 945\n"
     ]
    },
    {
     "name": "stderr",
     "output_type": "stream",
     "text": [
      "dist_matrix: 100%|######################################################################| 7/7 [00:00<00:00, 230.70it/s]\n",
      "synth_matrix: 100%|######################################################################| 7/7 [00:00<00:00, 36.61it/s]\n",
      "r_index: 100%|##########################################################################| 3/3 [00:00<00:00, 114.04it/s]\n"
     ]
    },
    {
     "name": "stdout",
     "output_type": "stream",
     "text": [
      "Epoch 100, Train Loss: 0.1448, Val Loss: 717.1108\n",
      "Epoch 00194: reducing learning rate of group 0 to 1.0000e-02.\n",
      "Epoch 200, Train Loss: 0.0893, Val Loss: 717.1102\n",
      "Early stopping at epoch 284\n",
      "Training complete.\n",
      "Starting Round 946\n"
     ]
    },
    {
     "name": "stderr",
     "output_type": "stream",
     "text": [
      "dist_matrix: 100%|######################################################################| 8/8 [00:00<00:00, 190.93it/s]\n",
      "synth_matrix: 100%|######################################################################| 8/8 [00:00<00:00, 37.05it/s]\n"
     ]
    },
    {
     "name": "stdout",
     "output_type": "stream",
     "text": [
      "Epoch 100, Train Loss: 0.1003, Val Loss: 0.7155\n",
      "Early stopping at epoch 175\n",
      "Training complete.\n",
      "Starting Round 947\n",
      "SMOGN failed: redefine phi relevance function: all points are 1\n",
      "→ Using original data instead.\n",
      "Epoch 100, Train Loss: 0.1401, Val Loss: 0.8727\n",
      "Early stopping at epoch 194\n",
      "Training complete.\n",
      "Starting Round 948\n"
     ]
    },
    {
     "name": "stderr",
     "output_type": "stream",
     "text": [
      "dist_matrix: 100%|######################################################################| 8/8 [00:00<00:00, 187.51it/s]\n",
      "synth_matrix: 100%|######################################################################| 8/8 [00:00<00:00, 36.78it/s]\n"
     ]
    },
    {
     "name": "stdout",
     "output_type": "stream",
     "text": [
      "Epoch 100, Train Loss: 0.0820, Val Loss: 14.5555\n",
      "Early stopping at epoch 172\n",
      "Training complete.\n",
      "Starting Round 949\n"
     ]
    },
    {
     "name": "stderr",
     "output_type": "stream",
     "text": [
      "dist_matrix: 100%|####################################################################| 10/10 [00:00<00:00, 159.35it/s]\n",
      "synth_matrix: 100%|####################################################################| 10/10 [00:00<00:00, 62.75it/s]\n",
      "r_index: 100%|##########################################################################| 2/2 [00:00<00:00, 116.01it/s]\n"
     ]
    },
    {
     "name": "stdout",
     "output_type": "stream",
     "text": [
      "Epoch 100, Train Loss: 0.1150, Val Loss: 20.3436\n",
      "Epoch 00176: reducing learning rate of group 0 to 1.0000e-02.\n",
      "Early stopping at epoch 176\n",
      "Training complete.\n",
      "Starting Round 950\n"
     ]
    },
    {
     "name": "stderr",
     "output_type": "stream",
     "text": [
      "dist_matrix: 100%|####################################################################| 10/10 [00:00<00:00, 175.53it/s]\n",
      "synth_matrix: 100%|####################################################################| 10/10 [00:00<00:00, 60.98it/s]\n",
      "r_index: 100%|##########################################################################| 2/2 [00:00<00:00, 102.46it/s]\n"
     ]
    },
    {
     "name": "stdout",
     "output_type": "stream",
     "text": [
      "Epoch 100, Train Loss: 0.0959, Val Loss: 315.6475\n",
      "Epoch 00167: reducing learning rate of group 0 to 1.0000e-02.\n",
      "Epoch 200, Train Loss: 0.0517, Val Loss: 315.6093\n",
      "Epoch 300, Train Loss: 0.0449, Val Loss: 315.6102\n",
      "Epoch 00339: reducing learning rate of group 0 to 1.0000e-03.\n",
      "Early stopping at epoch 348\n",
      "Training complete.\n",
      "Starting Round 951\n"
     ]
    },
    {
     "name": "stderr",
     "output_type": "stream",
     "text": [
      "dist_matrix: 100%|######################################################################| 9/9 [00:00<00:00, 176.04it/s]\n",
      "synth_matrix: 100%|######################################################################| 9/9 [00:00<00:00, 62.11it/s]\n",
      "r_index: 100%|##########################################################################| 4/4 [00:00<00:00, 168.01it/s]\n"
     ]
    },
    {
     "name": "stdout",
     "output_type": "stream",
     "text": [
      "Epoch 100, Train Loss: 0.0976, Val Loss: 23.5820\n",
      "Early stopping at epoch 123\n",
      "Training complete.\n",
      "Starting Round 952\n"
     ]
    },
    {
     "name": "stderr",
     "output_type": "stream",
     "text": [
      "dist_matrix: 100%|######################################################################| 9/9 [00:00<00:00, 192.32it/s]\n",
      "synth_matrix: 100%|######################################################################| 9/9 [00:00<00:00, 62.34it/s]\n",
      "r_index: 100%|##########################################################################| 4/4 [00:00<00:00, 127.46it/s]\n"
     ]
    },
    {
     "name": "stdout",
     "output_type": "stream",
     "text": [
      "Epoch 100, Train Loss: 0.1046, Val Loss: 331.2055\n",
      "Epoch 00121: reducing learning rate of group 0 to 1.0000e-02.\n",
      "Epoch 200, Train Loss: 0.0414, Val Loss: 331.2170\n",
      "Early stopping at epoch 201\n",
      "Training complete.\n",
      "Starting Round 953\n"
     ]
    },
    {
     "name": "stderr",
     "output_type": "stream",
     "text": [
      "dist_matrix: 100%|####################################################################| 10/10 [00:00<00:00, 164.83it/s]\n",
      "synth_matrix: 100%|####################################################################| 10/10 [00:00<00:00, 57.03it/s]\n",
      "r_index: 100%|##########################################################################| 2/2 [00:00<00:00, 176.77it/s]\n"
     ]
    },
    {
     "name": "stdout",
     "output_type": "stream",
     "text": [
      "Epoch 100, Train Loss: 0.1453, Val Loss: 0.9653\n",
      "Early stopping at epoch 197\n",
      "Training complete.\n",
      "Starting Round 954\n"
     ]
    },
    {
     "name": "stderr",
     "output_type": "stream",
     "text": [
      "dist_matrix: 100%|####################################################################| 10/10 [00:00<00:00, 152.73it/s]\n",
      "synth_matrix: 100%|####################################################################| 10/10 [00:00<00:00, 64.03it/s]\n",
      "r_index: 100%|##########################################################################| 2/2 [00:00<00:00, 316.35it/s]\n"
     ]
    },
    {
     "name": "stdout",
     "output_type": "stream",
     "text": [
      "Epoch 100, Train Loss: 0.1271, Val Loss: 4.1721\n",
      "Epoch 00191: reducing learning rate of group 0 to 1.0000e-02.\n",
      "Early stopping at epoch 191\n",
      "Training complete.\n",
      "Starting Round 955\n"
     ]
    },
    {
     "name": "stderr",
     "output_type": "stream",
     "text": [
      "dist_matrix: 100%|####################################################################| 12/12 [00:00<00:00, 131.73it/s]\n",
      "r_index: 100%|########################################################################| 10/10 [00:00<00:00, 138.90it/s]\n",
      "dist_matrix: 100%|######################################################################| 6/6 [00:00<00:00, 336.17it/s]\n",
      "synth_matrix: 100%|######################################################################| 6/6 [00:00<00:00, 62.28it/s]\n",
      "r_index: 100%|##########################################################################| 3/3 [00:00<00:00, 116.93it/s]\n"
     ]
    },
    {
     "name": "stdout",
     "output_type": "stream",
     "text": [
      "Epoch 100, Train Loss: 0.1272, Val Loss: 0.9467\n",
      "Early stopping at epoch 176\n",
      "Training complete.\n",
      "Starting Round 956\n"
     ]
    },
    {
     "name": "stderr",
     "output_type": "stream",
     "text": [
      "dist_matrix: 100%|######################################################################| 9/9 [00:00<00:00, 170.17it/s]\n",
      "synth_matrix: 100%|######################################################################| 9/9 [00:00<00:00, 56.19it/s]\n",
      "r_index: 100%|##########################################################################| 4/4 [00:00<00:00, 111.01it/s]\n"
     ]
    },
    {
     "name": "stdout",
     "output_type": "stream",
     "text": [
      "Epoch 100, Train Loss: 0.1275, Val Loss: 109.7844\n",
      "Epoch 00196: reducing learning rate of group 0 to 1.0000e-02.\n",
      "Early stopping at epoch 196\n",
      "Training complete.\n",
      "Starting Round 957\n"
     ]
    },
    {
     "name": "stderr",
     "output_type": "stream",
     "text": [
      "dist_matrix: 100%|####################################################################| 10/10 [00:00<00:00, 178.49it/s]\n",
      "synth_matrix: 100%|####################################################################| 10/10 [00:00<00:00, 64.79it/s]\n",
      "r_index: 100%|##########################################################################| 2/2 [00:00<00:00, 145.79it/s]\n"
     ]
    },
    {
     "name": "stdout",
     "output_type": "stream",
     "text": [
      "Epoch 100, Train Loss: 0.1013, Val Loss: 7.8430\n",
      "Epoch 200, Train Loss: 0.0757, Val Loss: 7.8362\n",
      "Early stopping at epoch 216\n",
      "Training complete.\n",
      "Starting Round 958\n"
     ]
    },
    {
     "name": "stderr",
     "output_type": "stream",
     "text": [
      "dist_matrix: 100%|####################################################################| 10/10 [00:00<00:00, 162.43it/s]\n",
      "synth_matrix: 100%|###################################################################| 10/10 [00:00<00:00, 112.66it/s]\n",
      "r_index: 100%|##########################################################################| 2/2 [00:00<00:00, 147.55it/s]\n",
      "dist_matrix: 100%|####################################################################| 10/10 [00:00<00:00, 185.13it/s]\n",
      "synth_matrix: 100%|###################################################################| 10/10 [00:00<00:00, 112.54it/s]\n",
      "r_index: 100%|##########################################################################| 2/2 [00:00<00:00, 168.89it/s]\n"
     ]
    },
    {
     "name": "stdout",
     "output_type": "stream",
     "text": [
      "Epoch 100, Train Loss: 0.1184, Val Loss: 2.9854\n",
      "Epoch 200, Train Loss: 0.1020, Val Loss: 3.0847\n",
      "Early stopping at epoch 201\n",
      "Training complete.\n",
      "Starting Round 959\n"
     ]
    },
    {
     "name": "stderr",
     "output_type": "stream",
     "text": [
      "dist_matrix: 100%|####################################################################| 13/13 [00:00<00:00, 124.34it/s]\n",
      "synth_matrix: 100%|###################################################################| 13/13 [00:00<00:00, 134.51it/s]\n",
      "r_index: 100%|##########################################################################| 6/6 [00:00<00:00, 127.29it/s]\n"
     ]
    },
    {
     "name": "stdout",
     "output_type": "stream",
     "text": [
      "Epoch 100, Train Loss: 0.1131, Val Loss: 14.7638\n",
      "Early stopping at epoch 124\n",
      "Training complete.\n",
      "Starting Round 960\n",
      "SMOGN failed: redefine phi relevance function: all points are 1\n",
      "→ Using original data instead.\n",
      "Epoch 100, Train Loss: 0.1360, Val Loss: 1.0369\n",
      "Early stopping at epoch 189\n",
      "Training complete.\n",
      "Starting Round 961\n"
     ]
    },
    {
     "name": "stderr",
     "output_type": "stream",
     "text": [
      "dist_matrix: 100%|####################################################################| 11/11 [00:00<00:00, 150.21it/s]\n",
      "synth_matrix: 100%|###################################################################| 11/11 [00:00<00:00, 107.50it/s]\n",
      "r_index: 100%|########################################################################| 10/10 [00:00<00:00, 118.32it/s]\n"
     ]
    },
    {
     "name": "stdout",
     "output_type": "stream",
     "text": [
      "Epoch 100, Train Loss: 0.0777, Val Loss: 810.4276\n",
      "Epoch 00152: reducing learning rate of group 0 to 1.0000e-02.\n",
      "Early stopping at epoch 193\n",
      "Training complete.\n",
      "Starting Round 962\n"
     ]
    },
    {
     "name": "stderr",
     "output_type": "stream",
     "text": [
      "dist_matrix: 100%|######################################################################| 9/9 [00:00<00:00, 164.80it/s]\n",
      "synth_matrix: 100%|######################################################################| 9/9 [00:00<00:00, 59.74it/s]\n",
      "r_index: 100%|##########################################################################| 4/4 [00:00<00:00, 169.14it/s]\n"
     ]
    },
    {
     "name": "stdout",
     "output_type": "stream",
     "text": [
      "Epoch 100, Train Loss: 0.0931, Val Loss: 0.5847\n",
      "Epoch 200, Train Loss: 0.0790, Val Loss: 0.5962\n",
      "Epoch 300, Train Loss: 0.0786, Val Loss: 0.5907\n",
      "Early stopping at epoch 334\n",
      "Training complete.\n",
      "Starting Round 963\n"
     ]
    },
    {
     "name": "stderr",
     "output_type": "stream",
     "text": [
      "dist_matrix: 100%|####################################################################| 10/10 [00:00<00:00, 139.37it/s]\n",
      "synth_matrix: 100%|####################################################################| 10/10 [00:00<00:00, 62.87it/s]\n",
      "r_index: 100%|###########################################################################| 2/2 [00:00<00:00, 81.14it/s]\n"
     ]
    },
    {
     "name": "stdout",
     "output_type": "stream",
     "text": [
      "Epoch 100, Train Loss: 0.0920, Val Loss: 3174.8730\n",
      "Epoch 00102: reducing learning rate of group 0 to 1.0000e-02.\n",
      "Early stopping at epoch 184\n",
      "Training complete.\n",
      "Starting Round 964\n"
     ]
    },
    {
     "name": "stderr",
     "output_type": "stream",
     "text": [
      "dist_matrix: 100%|######################################################################| 8/8 [00:00<00:00, 211.49it/s]\n",
      "synth_matrix: 100%|######################################################################| 8/8 [00:00<00:00, 34.37it/s]\n"
     ]
    },
    {
     "name": "stdout",
     "output_type": "stream",
     "text": [
      "Epoch 100, Train Loss: 0.0988, Val Loss: 27.4902\n",
      "Early stopping at epoch 168\n",
      "Training complete.\n",
      "Starting Round 965\n"
     ]
    },
    {
     "name": "stderr",
     "output_type": "stream",
     "text": [
      "dist_matrix: 100%|######################################################################| 5/5 [00:00<00:00, 285.77it/s]\n",
      "synth_matrix: 100%|######################################################################| 5/5 [00:00<00:00, 22.59it/s]\n",
      "r_index: 100%|##########################################################################| 2/2 [00:00<00:00, 111.46it/s]\n"
     ]
    },
    {
     "name": "stdout",
     "output_type": "stream",
     "text": [
      "Epoch 100, Train Loss: 0.0841, Val Loss: 9.4682\n",
      "Early stopping at epoch 128\n",
      "Training complete.\n",
      "Starting Round 966\n"
     ]
    },
    {
     "name": "stderr",
     "output_type": "stream",
     "text": [
      "dist_matrix: 100%|######################################################################| 9/9 [00:00<00:00, 179.91it/s]\n",
      "synth_matrix: 100%|######################################################################| 9/9 [00:00<00:00, 56.47it/s]\n",
      "r_index: 100%|##########################################################################| 4/4 [00:00<00:00, 130.75it/s]\n"
     ]
    },
    {
     "name": "stdout",
     "output_type": "stream",
     "text": [
      "Epoch 100, Train Loss: 0.1707, Val Loss: 0.9786\n",
      "Epoch 200, Train Loss: 0.1462, Val Loss: 0.9798\n",
      "Early stopping at epoch 205\n",
      "Training complete.\n",
      "Starting Round 967\n"
     ]
    },
    {
     "name": "stderr",
     "output_type": "stream",
     "text": [
      "dist_matrix: 100%|######################################################################| 9/9 [00:00<00:00, 143.21it/s]\n",
      "synth_matrix: 100%|######################################################################| 9/9 [00:00<00:00, 52.26it/s]\n",
      "r_index: 100%|##########################################################################| 4/4 [00:00<00:00, 131.40it/s]\n"
     ]
    },
    {
     "name": "stdout",
     "output_type": "stream",
     "text": [
      "Epoch 100, Train Loss: 0.1007, Val Loss: 1.5013\n",
      "Early stopping at epoch 127\n",
      "Training complete.\n",
      "Starting Round 968\n"
     ]
    },
    {
     "name": "stderr",
     "output_type": "stream",
     "text": [
      "dist_matrix: 100%|######################################################################| 9/9 [00:00<00:00, 201.14it/s]\n",
      "synth_matrix: 100%|######################################################################| 9/9 [00:00<00:00, 54.53it/s]\n",
      "r_index: 100%|##########################################################################| 4/4 [00:00<00:00, 110.08it/s]\n"
     ]
    },
    {
     "name": "stdout",
     "output_type": "stream",
     "text": [
      "Epoch 100, Train Loss: 0.0959, Val Loss: 27.5808\n",
      "Epoch 200, Train Loss: 0.0898, Val Loss: 27.6297\n",
      "Early stopping at epoch 246\n",
      "Training complete.\n",
      "Starting Round 969\n",
      "SMOGN failed: redefine phi relevance function: all points are 1\n",
      "→ Using original data instead.\n",
      "Epoch 100, Train Loss: 0.1748, Val Loss: 0.8655\n",
      "Early stopping at epoch 185\n",
      "Training complete.\n",
      "Starting Round 970\n"
     ]
    },
    {
     "name": "stderr",
     "output_type": "stream",
     "text": [
      "dist_matrix: 100%|######################################################################| 8/8 [00:00<00:00, 182.53it/s]\n",
      "synth_matrix: 100%|######################################################################| 8/8 [00:00<00:00, 38.58it/s]\n"
     ]
    },
    {
     "name": "stdout",
     "output_type": "stream",
     "text": [
      "Epoch 100, Train Loss: 0.1361, Val Loss: 0.7195\n",
      "Epoch 200, Train Loss: 0.1160, Val Loss: 0.7273\n",
      "Early stopping at epoch 219\n",
      "Training complete.\n",
      "Starting Round 971\n"
     ]
    },
    {
     "name": "stderr",
     "output_type": "stream",
     "text": [
      "dist_matrix: 100%|####################################################################| 10/10 [00:00<00:00, 177.15it/s]\n",
      "synth_matrix: 100%|####################################################################| 10/10 [00:00<00:00, 56.88it/s]\n",
      "r_index: 100%|##########################################################################| 2/2 [00:00<00:00, 102.87it/s]\n"
     ]
    },
    {
     "name": "stdout",
     "output_type": "stream",
     "text": [
      "Epoch 100, Train Loss: 0.1167, Val Loss: 0.7111\n",
      "Epoch 200, Train Loss: 0.1024, Val Loss: 0.6887\n",
      "Early stopping at epoch 210\n",
      "Training complete.\n",
      "Starting Round 972\n"
     ]
    },
    {
     "name": "stderr",
     "output_type": "stream",
     "text": [
      "dist_matrix: 100%|######################################################################| 7/7 [00:00<00:00, 210.35it/s]\n",
      "synth_matrix: 100%|######################################################################| 7/7 [00:00<00:00, 52.11it/s]\n",
      "dist_matrix: 100%|######################################################################| 9/9 [00:00<00:00, 180.81it/s]\n",
      "synth_matrix: 100%|#####################################################################| 9/9 [00:00<00:00, 109.78it/s]\n",
      "r_index: 100%|##########################################################################| 4/4 [00:00<00:00, 107.22it/s]\n"
     ]
    },
    {
     "name": "stdout",
     "output_type": "stream",
     "text": [
      "Epoch 100, Train Loss: 0.1161, Val Loss: 1.0175\n",
      "Epoch 200, Train Loss: 0.1025, Val Loss: 1.0305\n",
      "Early stopping at epoch 214\n",
      "Training complete.\n",
      "Starting Round 973\n"
     ]
    },
    {
     "name": "stderr",
     "output_type": "stream",
     "text": [
      "dist_matrix: 100%|####################################################################| 10/10 [00:00<00:00, 143.44it/s]\n",
      "synth_matrix: 100%|####################################################################| 10/10 [00:00<00:00, 53.63it/s]\n",
      "r_index: 100%|##########################################################################| 2/2 [00:00<00:00, 107.85it/s]\n"
     ]
    },
    {
     "name": "stdout",
     "output_type": "stream",
     "text": [
      "Epoch 100, Train Loss: 0.1384, Val Loss: 1.1725\n",
      "Early stopping at epoch 118\n",
      "Training complete.\n",
      "Starting Round 974\n"
     ]
    },
    {
     "name": "stderr",
     "output_type": "stream",
     "text": [
      "dist_matrix: 100%|####################################################################| 10/10 [00:00<00:00, 156.93it/s]\n",
      "synth_matrix: 100%|####################################################################| 10/10 [00:00<00:00, 62.47it/s]\n",
      "r_index: 100%|##########################################################################| 2/2 [00:00<00:00, 112.10it/s]\n"
     ]
    },
    {
     "name": "stdout",
     "output_type": "stream",
     "text": [
      "Epoch 100, Train Loss: 0.1409, Val Loss: 1.5244\n",
      "Early stopping at epoch 147\n",
      "Training complete.\n",
      "Starting Round 975\n"
     ]
    },
    {
     "name": "stderr",
     "output_type": "stream",
     "text": [
      "dist_matrix: 100%|####################################################################| 10/10 [00:00<00:00, 154.84it/s]\n",
      "synth_matrix: 100%|####################################################################| 10/10 [00:00<00:00, 62.26it/s]\n",
      "r_index: 100%|##########################################################################| 2/2 [00:00<00:00, 157.65it/s]\n"
     ]
    },
    {
     "name": "stdout",
     "output_type": "stream",
     "text": [
      "Epoch 100, Train Loss: 0.1104, Val Loss: 0.9917\n",
      "Early stopping at epoch 164\n",
      "Training complete.\n",
      "Starting Round 976\n",
      "SMOGN failed: redefine phi relevance function: all points are 1\n",
      "→ Using original data instead.\n",
      "Epoch 100, Train Loss: 0.1326, Val Loss: 1.8701\n",
      "Epoch 200, Train Loss: 0.1179, Val Loss: 1.8659\n",
      "Epoch 300, Train Loss: 0.1175, Val Loss: 1.8807\n",
      "Early stopping at epoch 308\n",
      "Training complete.\n",
      "Starting Round 977\n"
     ]
    },
    {
     "name": "stderr",
     "output_type": "stream",
     "text": [
      "dist_matrix: 100%|######################################################################| 8/8 [00:00<00:00, 210.87it/s]\n",
      "synth_matrix: 100%|######################################################################| 8/8 [00:00<00:00, 37.62it/s]\n"
     ]
    },
    {
     "name": "stdout",
     "output_type": "stream",
     "text": [
      "Epoch 100, Train Loss: 0.1227, Val Loss: 15.6753\n",
      "Early stopping at epoch 195\n",
      "Training complete.\n",
      "Starting Round 978\n"
     ]
    },
    {
     "name": "stderr",
     "output_type": "stream",
     "text": [
      "dist_matrix: 100%|######################################################################| 9/9 [00:00<00:00, 181.65it/s]\n",
      "synth_matrix: 100%|######################################################################| 9/9 [00:00<00:00, 67.33it/s]\n",
      "r_index: 100%|##########################################################################| 4/4 [00:00<00:00, 172.41it/s]\n"
     ]
    },
    {
     "name": "stdout",
     "output_type": "stream",
     "text": [
      "Epoch 100, Train Loss: 0.0866, Val Loss: 5.2432\n",
      "Epoch 200, Train Loss: 0.0849, Val Loss: 5.2411\n",
      "Early stopping at epoch 207\n",
      "Training complete.\n",
      "Starting Round 979\n"
     ]
    },
    {
     "name": "stderr",
     "output_type": "stream",
     "text": [
      "dist_matrix: 100%|####################################################################| 11/11 [00:00<00:00, 120.47it/s]\n",
      "synth_matrix: 100%|###################################################################| 11/11 [00:00<00:00, 110.69it/s]\n",
      "r_index: 100%|########################################################################| 10/10 [00:00<00:00, 138.84it/s]\n"
     ]
    },
    {
     "name": "stdout",
     "output_type": "stream",
     "text": [
      "Epoch 100, Train Loss: 0.1328, Val Loss: 3.6791\n",
      "Early stopping at epoch 168\n",
      "Training complete.\n",
      "Starting Round 980\n"
     ]
    },
    {
     "name": "stderr",
     "output_type": "stream",
     "text": [
      "dist_matrix: 100%|####################################################################| 11/11 [00:00<00:00, 140.39it/s]\n",
      "synth_matrix: 100%|###################################################################| 11/11 [00:00<00:00, 116.69it/s]\n",
      "r_index: 100%|########################################################################| 10/10 [00:00<00:00, 145.44it/s]\n"
     ]
    },
    {
     "name": "stdout",
     "output_type": "stream",
     "text": [
      "Epoch 100, Train Loss: 0.1000, Val Loss: 2.0779\n",
      "Early stopping at epoch 123\n",
      "Training complete.\n",
      "Starting Round 981\n"
     ]
    },
    {
     "name": "stderr",
     "output_type": "stream",
     "text": [
      "dist_matrix: 100%|######################################################################| 6/6 [00:00<00:00, 292.23it/s]\n",
      "synth_matrix: 100%|######################################################################| 6/6 [00:00<00:00, 30.04it/s]\n",
      "r_index: 100%|###########################################################################| 1/1 [00:00<00:00, 99.13it/s]\n"
     ]
    },
    {
     "name": "stdout",
     "output_type": "stream",
     "text": [
      "Epoch 100, Train Loss: 0.1037, Val Loss: 31.7514\n",
      "Early stopping at epoch 134\n",
      "Training complete.\n",
      "Starting Round 982\n"
     ]
    },
    {
     "name": "stderr",
     "output_type": "stream",
     "text": [
      "dist_matrix: 100%|####################################################################| 10/10 [00:00<00:00, 150.56it/s]\n",
      "synth_matrix: 100%|####################################################################| 10/10 [00:00<00:00, 56.58it/s]\n",
      "r_index: 100%|##########################################################################| 2/2 [00:00<00:00, 115.85it/s]\n"
     ]
    },
    {
     "name": "stdout",
     "output_type": "stream",
     "text": [
      "Epoch 100, Train Loss: 0.1216, Val Loss: 18.1234\n",
      "Epoch 200, Train Loss: 0.0984, Val Loss: 18.0950\n",
      "Epoch 00241: reducing learning rate of group 0 to 1.0000e-02.\n",
      "Epoch 300, Train Loss: 0.0497, Val Loss: 18.0694\n",
      "Early stopping at epoch 319\n",
      "Training complete.\n",
      "Starting Round 983\n"
     ]
    },
    {
     "name": "stderr",
     "output_type": "stream",
     "text": [
      "dist_matrix: 100%|####################################################################| 12/12 [00:00<00:00, 135.34it/s]\n",
      "r_index: 100%|########################################################################| 10/10 [00:00<00:00, 133.93it/s]\n",
      "dist_matrix: 100%|######################################################################| 6/6 [00:00<00:00, 282.20it/s]\n",
      "synth_matrix: 100%|######################################################################| 6/6 [00:00<00:00, 57.44it/s]\n",
      "r_index: 100%|##########################################################################| 3/3 [00:00<00:00, 122.04it/s]\n"
     ]
    },
    {
     "name": "stdout",
     "output_type": "stream",
     "text": [
      "Epoch 100, Train Loss: 0.1252, Val Loss: 415.4561\n",
      "Epoch 00107: reducing learning rate of group 0 to 1.0000e-02.\n",
      "Early stopping at epoch 141\n",
      "Training complete.\n",
      "Starting Round 984\n"
     ]
    },
    {
     "name": "stderr",
     "output_type": "stream",
     "text": [
      "dist_matrix: 100%|####################################################################| 11/11 [00:00<00:00, 158.05it/s]\n",
      "synth_matrix: 100%|###################################################################| 11/11 [00:00<00:00, 113.80it/s]\n",
      "r_index: 100%|########################################################################| 10/10 [00:00<00:00, 129.41it/s]\n"
     ]
    },
    {
     "name": "stdout",
     "output_type": "stream",
     "text": [
      "Epoch 100, Train Loss: 0.1163, Val Loss: 2.8271\n",
      "Epoch 200, Train Loss: 0.0950, Val Loss: 2.8026\n",
      "Early stopping at epoch 280\n",
      "Training complete.\n",
      "Starting Round 985\n"
     ]
    },
    {
     "name": "stderr",
     "output_type": "stream",
     "text": [
      "dist_matrix: 100%|####################################################################| 10/10 [00:00<00:00, 159.30it/s]\n",
      "synth_matrix: 100%|####################################################################| 10/10 [00:00<00:00, 52.82it/s]\n",
      "r_index: 100%|##########################################################################| 2/2 [00:00<00:00, 116.93it/s]\n"
     ]
    },
    {
     "name": "stdout",
     "output_type": "stream",
     "text": [
      "Epoch 100, Train Loss: 0.0852, Val Loss: 95.6811\n",
      "Epoch 200, Train Loss: 0.0773, Val Loss: 95.6587\n",
      "Epoch 00240: reducing learning rate of group 0 to 1.0000e-02.\n",
      "Epoch 300, Train Loss: 0.0393, Val Loss: 95.6442\n",
      "Early stopping at epoch 329\n",
      "Training complete.\n",
      "Starting Round 986\n"
     ]
    },
    {
     "name": "stderr",
     "output_type": "stream",
     "text": [
      "dist_matrix: 100%|######################################################################| 9/9 [00:00<00:00, 175.19it/s]\n",
      "synth_matrix: 100%|######################################################################| 9/9 [00:00<00:00, 55.37it/s]\n",
      "r_index: 100%|##########################################################################| 4/4 [00:00<00:00, 114.87it/s]\n"
     ]
    },
    {
     "name": "stdout",
     "output_type": "stream",
     "text": [
      "Epoch 100, Train Loss: 0.1400, Val Loss: 2.9413\n",
      "Epoch 200, Train Loss: 0.1127, Val Loss: 2.9193\n",
      "Early stopping at epoch 263\n",
      "Training complete.\n",
      "Starting Round 987\n"
     ]
    },
    {
     "name": "stderr",
     "output_type": "stream",
     "text": [
      "dist_matrix: 100%|######################################################################| 8/8 [00:00<00:00, 187.52it/s]\n",
      "synth_matrix: 100%|######################################################################| 8/8 [00:00<00:00, 34.57it/s]\n"
     ]
    },
    {
     "name": "stdout",
     "output_type": "stream",
     "text": [
      "Epoch 100, Train Loss: 0.0855, Val Loss: 1.1919\n",
      "Epoch 200, Train Loss: 0.0790, Val Loss: 1.1718\n",
      "Early stopping at epoch 277\n",
      "Training complete.\n",
      "Starting Round 988\n",
      "SMOGN failed: redefine phi relevance function: all points are 1\n",
      "→ Using original data instead.\n",
      "Epoch 100, Train Loss: 0.1478, Val Loss: 7.4311\n",
      "Epoch 200, Train Loss: 0.1384, Val Loss: 7.3910\n",
      "Early stopping at epoch 288\n",
      "Training complete.\n",
      "Starting Round 989\n"
     ]
    },
    {
     "name": "stderr",
     "output_type": "stream",
     "text": [
      "dist_matrix: 100%|####################################################################| 13/13 [00:00<00:00, 104.21it/s]\n",
      "r_index: 100%|##########################################################################| 9/9 [00:00<00:00, 138.37it/s]\n",
      "dist_matrix: 100%|####################################################################| 12/12 [00:00<00:00, 147.20it/s]\n",
      "r_index: 100%|########################################################################| 10/10 [00:00<00:00, 145.47it/s]\n"
     ]
    },
    {
     "name": "stdout",
     "output_type": "stream",
     "text": [
      "Epoch 100, Train Loss: 0.1163, Val Loss: 1.0870\n",
      "Epoch 200, Train Loss: 0.1114, Val Loss: 1.1050\n",
      "Early stopping at epoch 236\n",
      "Training complete.\n",
      "Starting Round 990\n"
     ]
    },
    {
     "name": "stderr",
     "output_type": "stream",
     "text": [
      "dist_matrix: 100%|####################################################################| 10/10 [00:00<00:00, 170.74it/s]\n",
      "synth_matrix: 100%|####################################################################| 10/10 [00:00<00:00, 58.18it/s]\n",
      "r_index: 100%|##########################################################################| 2/2 [00:00<00:00, 113.56it/s]\n"
     ]
    },
    {
     "name": "stdout",
     "output_type": "stream",
     "text": [
      "Epoch 100, Train Loss: 0.1217, Val Loss: 11.3694\n",
      "Epoch 200, Train Loss: 0.0998, Val Loss: 11.3218\n",
      "Early stopping at epoch 227\n",
      "Training complete.\n",
      "Starting Round 991\n"
     ]
    },
    {
     "name": "stderr",
     "output_type": "stream",
     "text": [
      "dist_matrix: 100%|######################################################################| 9/9 [00:00<00:00, 178.53it/s]\n",
      "synth_matrix: 100%|######################################################################| 9/9 [00:00<00:00, 59.00it/s]\n",
      "r_index: 100%|##########################################################################| 4/4 [00:00<00:00, 169.46it/s]\n"
     ]
    },
    {
     "name": "stdout",
     "output_type": "stream",
     "text": [
      "Epoch 100, Train Loss: 0.1210, Val Loss: 3.6928\n",
      "Early stopping at epoch 191\n",
      "Training complete.\n",
      "Starting Round 992\n"
     ]
    },
    {
     "name": "stderr",
     "output_type": "stream",
     "text": [
      "dist_matrix: 100%|####################################################################| 11/11 [00:00<00:00, 138.29it/s]\n",
      "synth_matrix: 100%|###################################################################| 11/11 [00:00<00:00, 135.18it/s]\n",
      "r_index: 100%|########################################################################| 10/10 [00:00<00:00, 134.56it/s]\n"
     ]
    },
    {
     "name": "stdout",
     "output_type": "stream",
     "text": [
      "Epoch 100, Train Loss: 0.0955, Val Loss: 1.2894\n",
      "Early stopping at epoch 189\n",
      "Training complete.\n",
      "Starting Round 993\n",
      "SMOGN failed: redefine phi relevance function: all points are 1\n",
      "→ Using original data instead.\n",
      "Epoch 100, Train Loss: 0.1311, Val Loss: 3.8159\n",
      "Early stopping at epoch 120\n",
      "Training complete.\n",
      "Starting Round 994\n",
      "SMOGN failed: redefine phi relevance function: all points are 1\n",
      "→ Using original data instead.\n",
      "Epoch 100, Train Loss: 0.1641, Val Loss: 6.4551\n",
      "Early stopping at epoch 168\n",
      "Training complete.\n",
      "Starting Round 995\n"
     ]
    },
    {
     "name": "stderr",
     "output_type": "stream",
     "text": [
      "dist_matrix: 100%|######################################################################| 8/8 [00:00<00:00, 176.85it/s]\n",
      "synth_matrix: 100%|######################################################################| 8/8 [00:00<00:00, 34.73it/s]\n"
     ]
    },
    {
     "name": "stdout",
     "output_type": "stream",
     "text": [
      "Epoch 100, Train Loss: 0.1127, Val Loss: 1.7491\n",
      "Epoch 200, Train Loss: 0.0906, Val Loss: 1.6256\n",
      "Early stopping at epoch 282\n",
      "Training complete.\n",
      "Starting Round 996\n"
     ]
    },
    {
     "name": "stderr",
     "output_type": "stream",
     "text": [
      "dist_matrix: 100%|######################################################################| 9/9 [00:00<00:00, 162.51it/s]\n",
      "synth_matrix: 100%|######################################################################| 9/9 [00:00<00:00, 51.58it/s]\n",
      "r_index: 100%|##########################################################################| 4/4 [00:00<00:00, 103.89it/s]\n"
     ]
    },
    {
     "name": "stdout",
     "output_type": "stream",
     "text": [
      "Epoch 100, Train Loss: 0.1265, Val Loss: 1.6279\n",
      "Epoch 200, Train Loss: 0.1046, Val Loss: 1.7359\n",
      "Early stopping at epoch 203\n",
      "Training complete.\n",
      "Starting Round 997\n"
     ]
    },
    {
     "name": "stderr",
     "output_type": "stream",
     "text": [
      "dist_matrix: 100%|######################################################################| 9/9 [00:00<00:00, 177.52it/s]\n",
      "synth_matrix: 100%|######################################################################| 9/9 [00:00<00:00, 53.55it/s]\n",
      "r_index: 100%|##########################################################################| 4/4 [00:00<00:00, 106.09it/s]\n"
     ]
    },
    {
     "name": "stdout",
     "output_type": "stream",
     "text": [
      "Epoch 100, Train Loss: 0.1186, Val Loss: 1.1165\n",
      "Epoch 200, Train Loss: 0.1051, Val Loss: 1.0481\n",
      "Early stopping at epoch 296\n",
      "Training complete.\n",
      "Starting Round 998\n"
     ]
    },
    {
     "name": "stderr",
     "output_type": "stream",
     "text": [
      "dist_matrix: 100%|######################################################################| 8/8 [00:00<00:00, 169.81it/s]\n",
      "synth_matrix: 100%|######################################################################| 8/8 [00:00<00:00, 33.92it/s]\n"
     ]
    },
    {
     "name": "stdout",
     "output_type": "stream",
     "text": [
      "Epoch 100, Train Loss: 0.0942, Val Loss: 0.6988\n",
      "Early stopping at epoch 179\n",
      "Training complete.\n",
      "Starting Round 999\n"
     ]
    },
    {
     "name": "stderr",
     "output_type": "stream",
     "text": [
      "dist_matrix: 100%|####################################################################| 12/12 [00:00<00:00, 130.22it/s]\n",
      "synth_matrix: 100%|###################################################################| 12/12 [00:00<00:00, 107.32it/s]\n",
      "r_index: 100%|##########################################################################| 7/7 [00:00<00:00, 159.38it/s]\n"
     ]
    },
    {
     "name": "stdout",
     "output_type": "stream",
     "text": [
      "Epoch 100, Train Loss: 0.1308, Val Loss: 273.2325\n",
      "Epoch 200, Train Loss: 0.1006, Val Loss: 273.1911\n",
      "Early stopping at epoch 258\n",
      "Training complete.\n",
      "12.857269402345022 mins\n"
     ]
    }
   ],
   "source": [
    "target_variables = ['B', 'V', 'Cr', 'Mn', 'Co', 'Ni', 'Cu', 'Zn', 'Ga', 'Be',\n",
    "                    'As', 'Rb', 'Sr', 'Y', 'Mo', 'Cd', 'Sb', 'Cs', 'Ba', 'Pb'] # to be predicted\n",
    "input_features = ['Li', 'Na', 'Ca', 'SO-', 'Cl-', 'Br-', 'Al', 'Si', 'pH', 'F-', 'Fe', 'Mg']\n",
    "import time\n",
    "start = time.time()\n",
    "results = []\n",
    "### Making an ensemble of 1000 models\n",
    "for i in range(1000):\n",
    "    print(f'Starting Round {i}')\n",
    "    r_values, test_y, predicted_y, train_y, predicted_y_train, l_tr, l_te = pytorch_NN(raw_data, input_features, target_variables)\n",
    "    results.append({\n",
    "        'r_values': r_values,\n",
    "        'test_y': test_y,\n",
    "        'predicted_y': predicted_y,\n",
    "        'train_y': train_y,\n",
    "        'predicted_y_train': predicted_y_train,\n",
    "        'l_tr': l_tr,\n",
    "        'l_te': l_te,\n",
    "    })\n",
    "end = time.time()\n",
    "print(f'{(end - start)/60} mins')"
   ]
  },
  {
   "cell_type": "code",
   "execution_count": null,
   "id": "6be8dc10",
   "metadata": {},
   "outputs": [],
   "source": [
    "l_te = [[r for r in result['l_te']] for result in results]\n",
    "l_tr = [[r for r in result['l_tr']] for result in results]\n",
    "fig, ax = plt.subplots(figsize=(4, 4))\n",
    "for i in l_tr:\n",
    "    ax.plot(i, c='b', lw=0.5, label='Train')\n",
    "    ax.set_yscale('log')\n",
    "for i in l_te:\n",
    "    ax.plot(i, c='r', lw=0.5, label='Test')\n",
    "    ax.set_yscale('log')\n",
    "ax.set_xlabel('Epochs', fontsize=10, family='Arial')\n",
    "ax.set_ylabel('MAE', fontsize=10, family='Arial')\n",
    "plt.yticks(fontname = \"Arial\", fontsize=10)\n",
    "plt.xticks(fontname = \"Arial\", fontsize=10)\n",
    "handles, labels = plt.gca().get_legend_handles_labels()\n",
    "by_label = dict(zip(labels, handles))\n",
    "plt.legend(by_label.values(), by_label.keys(), fontsize='small')\n",
    "plt.show()"
   ]
  },
  {
   "cell_type": "code",
   "execution_count": null,
   "id": "ffe070c5",
   "metadata": {},
   "outputs": [],
   "source": [
    "### Separating the R2 score of each model\n",
    "r_squared_values = [[r**2 for r in result['r_values']] for result in results]\n",
    "df = pd.DataFrame(r_squared_values, columns=target_variables)\n",
    "df_melted = df.melt(var_name='Element', value_name='R_squared')"
   ]
  },
  {
   "cell_type": "code",
   "execution_count": null,
   "id": "d766d765",
   "metadata": {},
   "outputs": [],
   "source": [
    "### Making a plot to have a view on the R2 score for each predicted element\n",
    "fig, ax = plt.subplots(1,1, figsize=(8,3))\n",
    "sns.boxplot(data=df_melted, x='Element', y='R_squared')\n",
    "plt.xlabel('Elements', fontname = \"Arial\", fontsize=10)\n",
    "plt.ylabel('R$^2$', fontname = \"Arial\", fontsize=10)\n",
    "plt.xticks(rotation=90, ha='right')\n",
    "plt.show()"
   ]
  },
  {
   "cell_type": "code",
   "execution_count": null,
   "id": "98fd0c8b",
   "metadata": {},
   "outputs": [],
   "source": []
  }
 ],
 "metadata": {
  "kernelspec": {
   "display_name": "Python 3 (ipykernel)",
   "language": "python",
   "name": "python3"
  },
  "language_info": {
   "codemirror_mode": {
    "name": "ipython",
    "version": 3
   },
   "file_extension": ".py",
   "mimetype": "text/x-python",
   "name": "python",
   "nbconvert_exporter": "python",
   "pygments_lexer": "ipython3",
   "version": "3.8.15"
  }
 },
 "nbformat": 4,
 "nbformat_minor": 5
}
