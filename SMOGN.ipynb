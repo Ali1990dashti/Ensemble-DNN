{
 "cells": [
  {
   "cell_type": "markdown",
   "id": "e1782f9e",
   "metadata": {},
   "source": [
    "This notebook contains the necessary scripts for making the SMOGN model."
   ]
  },
  {
   "cell_type": "code",
   "execution_count": 1,
   "id": "04eca925",
   "metadata": {},
   "outputs": [
    {
     "name": "stderr",
     "output_type": "stream",
     "text": [
      "C:\\Users\\po7517\\Anaconda3\\envs\\new_env\\lib\\site-packages\\numpy\\_distributor_init.py:30: UserWarning: loaded more than 1 DLL from .libs:\n",
      "C:\\Users\\po7517\\Anaconda3\\envs\\new_env\\lib\\site-packages\\numpy\\.libs\\libopenblas.GK7GX5KEQ4F6UYO3P26ULGBQYHGQO7J4.gfortran-win_amd64.dll\n",
      "C:\\Users\\po7517\\Anaconda3\\envs\\new_env\\lib\\site-packages\\numpy\\.libs\\libopenblas64__v0.3.21-gcc_10_3_0.dll\n",
      "  warnings.warn(\"loaded more than 1 DLL from .libs:\"\n"
     ]
    }
   ],
   "source": [
    "'''Starting with the import of the necessary libraries including \n",
    "the smogn (https://github.com/nickkunz/smogn/tree/master):'''\n",
    "import numpy as np\n",
    "import pandas as pd\n",
    "import torch\n",
    "import torch.nn as nn\n",
    "import torch.optim as optim\n",
    "from sklearn.preprocessing import RobustScaler\n",
    "from sklearn.model_selection import train_test_split\n",
    "import matplotlib.pyplot as plt\n",
    "import scipy\n",
    "from scipy.stats import linregress\n",
    "import seaborn as sns\n",
    "import warnings\n",
    "import smogn\n",
    "warnings.filterwarnings('ignore')"
   ]
  },
  {
   "cell_type": "code",
   "execution_count": 2,
   "id": "4d6dcfdc",
   "metadata": {},
   "outputs": [
    {
     "data": {
      "text/plain": [
       "'cpu'"
      ]
     },
     "execution_count": 2,
     "metadata": {},
     "output_type": "execute_result"
    }
   ],
   "source": [
    "### either CPU or GPU:\n",
    "device = \"cuda\" if torch.cuda.is_available() else \"cpu\"\n",
    "device"
   ]
  },
  {
   "cell_type": "code",
   "execution_count": 3,
   "id": "75bf8ecd",
   "metadata": {},
   "outputs": [],
   "source": [
    "### Reading the dummy data\n",
    "data = pd.read_csv('data/all_data_dummy.csv')\n",
    "### Applying the SMOGN tranformation on the data\n",
    "target_variables = ['B', 'V', 'Cr', 'Mn', 'Co', 'Ni', 'Cu', 'Zn', 'Ga', 'Be',\n",
    "                    'As', 'Rb', 'Sr', 'Y', 'Mo', 'Cd', 'Sb', 'Cs', 'Ba', 'Pb']\n",
    "input_features = ['Li', 'Na', 'Ca', 'SO-', 'Cl-', 'Br-', 'Al', 'Si', 'pH', 'F-', 'Fe', 'Mg']\n",
    "raw_data = data[target_variables+input_features]"
   ]
  },
  {
   "cell_type": "code",
   "execution_count": 4,
   "id": "919cd592",
   "metadata": {},
   "outputs": [],
   "source": [
    "def apply_smogn_safe(data, target_col):\n",
    "    '''\n",
    "    This function runs the SMOGN algorithm. \n",
    "    For details of SMOGN see https://github.com/nickkunz/smogn/tree/master.\n",
    "    '''\n",
    "    try:\n",
    "        smogn_data = smogn.smoter(\n",
    "            data=data,\n",
    "            y=target_col\n",
    "        )\n",
    "        return smogn_data, True\n",
    "    except Exception as e:\n",
    "        print(f\"SMOGN failed: {e}\\n→ Using original data instead.\")\n",
    "        return data, False\n",
    "\n",
    "def pytorch_NN(raw_data, input_features, target_variables, smogn_target='V', weight_decay=1e-3, patience=100):\n",
    "    '''\n",
    "    This function reads the data and based on the interest of the user, different \n",
    "    input features and target variables can be selected from the existing measured\n",
    "    parameters.\n",
    "    weight_decay is a regularization technique used to prevent overfitting by penalizing \n",
    "    large weights in the model. More details at \n",
    "    https://pytorch.org/docs/stable/generated/torch.optim.Adam.html\n",
    "    patience refers to the number of training epochs to wait after the last improvement \n",
    "    in the monitored metric (e.g., validation loss, accuracy) before stopping the training process.\n",
    "    More details at https://pytorch.org/ignite/generated/ignite.handlers.early_stopping.EarlyStopping.html\n",
    "    '''\n",
    "    ### Step 1: Combine input and target\n",
    "    X = raw_data[input_features]\n",
    "    y = raw_data[target_variables]\n",
    "    full_data = pd.concat([X, y], axis=1)\n",
    "\n",
    "    ### Step 2: Split into train (60%), val (20%), test (20%)\n",
    "    train_val_data, test_data = train_test_split(full_data, test_size=0.2)\n",
    "    train_data, val_data = train_test_split(train_val_data, test_size=0.25)  # 0.25 * 0.8 = 0.2\n",
    "\n",
    "    ### Step 3: Apply SMOGN on training data only\n",
    "    train_data = train_data.reset_index(drop=True)\n",
    "    train_data_smogn, smogn_success = apply_smogn_safe(train_data, smogn_target)\n",
    "\n",
    "    ### Step 4: Split X and y again\n",
    "    X_train = train_data_smogn[input_features].to_numpy()\n",
    "    y_train = train_data_smogn[target_variables].to_numpy()\n",
    "\n",
    "    X_val = val_data[input_features].to_numpy()\n",
    "    y_val = val_data[target_variables].to_numpy()\n",
    "\n",
    "    X_test = test_data[input_features].to_numpy()\n",
    "    y_test = test_data[target_variables].to_numpy()\n",
    "\n",
    "    ### Step 5: Normalize\n",
    "    scaler_x = RobustScaler()\n",
    "    scaler_y = RobustScaler()\n",
    "\n",
    "    X_train_norm = scaler_x.fit_transform(X_train)\n",
    "    X_val_norm = scaler_x.transform(X_val)\n",
    "    X_test_norm = scaler_x.transform(X_test)\n",
    "\n",
    "    y_train_norm = scaler_y.fit_transform(y_train)\n",
    "    y_val_norm = scaler_y.transform(y_val)\n",
    "    y_test_norm = scaler_y.transform(y_test)\n",
    "\n",
    "    ### Step 6: Convert to tensors\n",
    "    XX = torch.from_numpy(X_train_norm.astype(np.float32)).to(device)\n",
    "    yy = torch.from_numpy(y_train_norm.astype(np.float32)).to(device)\n",
    "    XX_val = torch.from_numpy(X_val_norm.astype(np.float32)).to(device)\n",
    "    yy_val = torch.from_numpy(y_val_norm.astype(np.float32)).to(device)\n",
    "\n",
    "    input_size = XX.shape[1]\n",
    "    output_size = yy.shape[1]\n",
    "\n",
    "    ### Step 7: Define the model\n",
    "    class NN(nn.Module):\n",
    "        def __init__(self):\n",
    "            super(NN, self).__init__()\n",
    "            self.fc1 = nn.Linear(input_size, 32)\n",
    "            self.norm1 = nn.BatchNorm1d(32)\n",
    "            self.fc2 = nn.Linear(32, 16)\n",
    "            self.norm2 = nn.BatchNorm1d(16)\n",
    "            self.fc3 = nn.Linear(16, output_size)\n",
    "\n",
    "        def forward(self, x):\n",
    "            x = torch.relu(self.norm1(self.fc1(x)))\n",
    "            x = torch.relu(self.norm2(self.fc2(x)))\n",
    "            return self.fc3(x)\n",
    "\n",
    "    model = NN().to(device)\n",
    "    criterion = nn.L1Loss()\n",
    "    optimizer = optim.Adam(model.parameters(), lr=0.1, weight_decay=weight_decay)\n",
    "    scheduler = optim.lr_scheduler.ReduceLROnPlateau(optimizer, mode='min', factor=0.1, patience=patience, verbose=True)\n",
    "\n",
    "    ### Step 8: Training with early stopping\n",
    "    best_loss = float('inf')\n",
    "    patience_counter = 0\n",
    "    num_epochs = 2000\n",
    "    loss_train = []\n",
    "    loss_val = []\n",
    "\n",
    "    for epoch in range(num_epochs):\n",
    "        model.train()\n",
    "        optimizer.zero_grad()\n",
    "        outputs = model(XX)\n",
    "        loss = criterion(outputs, yy)\n",
    "        loss.backward()\n",
    "        optimizer.step()\n",
    "        loss_train.append(loss.item())\n",
    "\n",
    "        model.eval()\n",
    "        with torch.no_grad():\n",
    "            val_outputs = model(XX_val)\n",
    "            val_loss = criterion(val_outputs, yy_val)\n",
    "            loss_val.append(val_loss.item())\n",
    "\n",
    "        scheduler.step(val_loss)\n",
    "\n",
    "        if val_loss.item() < best_loss:\n",
    "            best_loss = val_loss.item()\n",
    "            patience_counter = 0\n",
    "        else:\n",
    "            patience_counter += 1\n",
    "\n",
    "        if patience_counter >= patience:\n",
    "            print(f\"Early stopping at epoch {epoch+1}\")\n",
    "            break\n",
    "\n",
    "        if (epoch+1) % 100 == 0:\n",
    "            print(f\"Epoch {epoch+1}, Train Loss: {loss.item():.4f}, Val Loss: {val_loss.item():.4f}\")\n",
    "\n",
    "    print(\"Training complete.\")\n",
    "\n",
    "    ### Step 9: Evaluate on test set\n",
    "    model.eval()\n",
    "    with torch.no_grad():\n",
    "        X_test_tensor = torch.from_numpy(X_test_norm.astype(np.float32)).to(device)\n",
    "        pred_test = model(X_test_tensor).cpu().numpy()\n",
    "        pred_test_orig = scaler_y.inverse_transform(pred_test)\n",
    "        y_test_orig = scaler_y.inverse_transform(y_test_norm)\n",
    "\n",
    "        pred_train = model(XX).cpu().numpy()\n",
    "        pred_train_orig = scaler_y.inverse_transform(pred_train)\n",
    "        y_train_orig = scaler_y.inverse_transform(y_train_norm)\n",
    "\n",
    "    ### Step 10: R² values\n",
    "    r_values = []\n",
    "    for i in range(len(target_variables)):\n",
    "        r = linregress(y_test_orig[:, i], pred_test_orig[:, i]).rvalue\n",
    "        r_values.append(r)\n",
    "\n",
    "    return r_values, y_test_orig, pred_test_orig, y_train_orig, pred_train_orig, loss_train, loss_val"
   ]
  },
  {
   "cell_type": "code",
   "execution_count": 6,
   "id": "9d715098",
   "metadata": {},
   "outputs": [
    {
     "name": "stdout",
     "output_type": "stream",
     "text": [
      "Starting Round 0\n"
     ]
    },
    {
     "name": "stderr",
     "output_type": "stream",
     "text": [
      "dist_matrix: 100%|####################################################################| 11/11 [00:00<00:00, 201.76it/s]\n",
      "synth_matrix: 100%|###################################################################| 11/11 [00:00<00:00, 151.52it/s]\n",
      "r_index: 100%|########################################################################| 10/10 [00:00<00:00, 123.14it/s]\n"
     ]
    },
    {
     "name": "stdout",
     "output_type": "stream",
     "text": [
      "Epoch 100, Train Loss: 0.1246, Val Loss: 0.3214\n",
      "Epoch 200, Train Loss: 0.1110, Val Loss: 0.3120\n",
      "Epoch 300, Train Loss: 0.1130, Val Loss: 0.3056\n",
      "Early stopping at epoch 331\n",
      "Training complete.\n",
      "Starting Round 1\n"
     ]
    },
    {
     "name": "stderr",
     "output_type": "stream",
     "text": [
      "dist_matrix: 100%|####################################################################| 11/11 [00:00<00:00, 180.76it/s]\n",
      "synth_matrix: 100%|###################################################################| 11/11 [00:00<00:00, 116.78it/s]\n",
      "r_index: 100%|########################################################################| 10/10 [00:00<00:00, 112.71it/s]\n"
     ]
    },
    {
     "name": "stdout",
     "output_type": "stream",
     "text": [
      "Epoch 100, Train Loss: 0.1200, Val Loss: 0.3083\n",
      "Epoch 200, Train Loss: 0.0982, Val Loss: 0.2847\n",
      "Early stopping at epoch 230\n",
      "Training complete.\n",
      "Starting Round 2\n"
     ]
    },
    {
     "name": "stderr",
     "output_type": "stream",
     "text": [
      "dist_matrix: 100%|####################################################################| 11/11 [00:00<00:00, 140.53it/s]\n",
      "synth_matrix: 100%|###################################################################| 11/11 [00:00<00:00, 114.56it/s]\n",
      "r_index: 100%|########################################################################| 10/10 [00:00<00:00, 143.97it/s]\n"
     ]
    },
    {
     "name": "stdout",
     "output_type": "stream",
     "text": [
      "Epoch 100, Train Loss: 0.1048, Val Loss: 0.2541\n",
      "Epoch 200, Train Loss: 0.0861, Val Loss: 0.2579\n",
      "Early stopping at epoch 271\n",
      "Training complete.\n",
      "Starting Round 3\n"
     ]
    },
    {
     "name": "stderr",
     "output_type": "stream",
     "text": [
      "dist_matrix: 100%|####################################################################| 11/11 [00:00<00:00, 122.12it/s]\n",
      "synth_matrix: 100%|###################################################################| 11/11 [00:00<00:00, 118.11it/s]\n",
      "r_index: 100%|########################################################################| 10/10 [00:00<00:00, 133.40it/s]\n"
     ]
    },
    {
     "name": "stdout",
     "output_type": "stream",
     "text": [
      "Epoch 100, Train Loss: 0.1358, Val Loss: 0.3600\n",
      "Epoch 200, Train Loss: 0.1268, Val Loss: 0.3262\n",
      "Epoch 300, Train Loss: 0.1185, Val Loss: 0.2800\n",
      "Epoch 400, Train Loss: 0.1199, Val Loss: 0.3038\n",
      "Early stopping at epoch 470\n",
      "Training complete.\n",
      "Starting Round 4\n"
     ]
    },
    {
     "name": "stderr",
     "output_type": "stream",
     "text": [
      "dist_matrix: 100%|####################################################################| 11/11 [00:00<00:00, 115.31it/s]\n",
      "synth_matrix: 100%|###################################################################| 11/11 [00:00<00:00, 107.34it/s]\n",
      "r_index: 100%|########################################################################| 10/10 [00:00<00:00, 113.21it/s]\n"
     ]
    },
    {
     "name": "stdout",
     "output_type": "stream",
     "text": [
      "Epoch 100, Train Loss: 0.1395, Val Loss: 0.3131\n",
      "Epoch 200, Train Loss: 0.1273, Val Loss: 0.3212\n",
      "Epoch 300, Train Loss: 0.1065, Val Loss: 0.2925\n",
      "Early stopping at epoch 336\n",
      "Training complete.\n",
      "Starting Round 5\n"
     ]
    },
    {
     "name": "stderr",
     "output_type": "stream",
     "text": [
      "dist_matrix: 100%|#####################################################################| 11/11 [00:00<00:00, 72.91it/s]\n",
      "synth_matrix: 100%|####################################################################| 11/11 [00:00<00:00, 86.80it/s]\n",
      "r_index: 100%|#########################################################################| 10/10 [00:00<00:00, 87.09it/s]\n"
     ]
    },
    {
     "name": "stdout",
     "output_type": "stream",
     "text": [
      "Epoch 100, Train Loss: 0.1125, Val Loss: 0.2810\n",
      "Early stopping at epoch 199\n",
      "Training complete.\n",
      "Starting Round 6\n"
     ]
    },
    {
     "name": "stderr",
     "output_type": "stream",
     "text": [
      "dist_matrix: 100%|####################################################################| 11/11 [00:00<00:00, 115.43it/s]\n",
      "synth_matrix: 100%|####################################################################| 11/11 [00:00<00:00, 91.71it/s]\n",
      "r_index: 100%|########################################################################| 10/10 [00:00<00:00, 108.01it/s]\n"
     ]
    },
    {
     "name": "stdout",
     "output_type": "stream",
     "text": [
      "Epoch 100, Train Loss: 0.1049, Val Loss: 0.2893\n",
      "Early stopping at epoch 170\n",
      "Training complete.\n",
      "Starting Round 7\n"
     ]
    },
    {
     "name": "stderr",
     "output_type": "stream",
     "text": [
      "dist_matrix: 100%|#####################################################################| 11/11 [00:00<00:00, 89.23it/s]\n",
      "synth_matrix: 100%|###################################################################| 11/11 [00:00<00:00, 124.34it/s]\n",
      "r_index: 100%|########################################################################| 10/10 [00:00<00:00, 137.99it/s]\n"
     ]
    },
    {
     "name": "stdout",
     "output_type": "stream",
     "text": [
      "Epoch 100, Train Loss: 0.1099, Val Loss: 0.2716\n",
      "Epoch 200, Train Loss: 0.0942, Val Loss: 0.2705\n",
      "Epoch 300, Train Loss: 0.0885, Val Loss: 0.2715\n",
      "Early stopping at epoch 378\n",
      "Training complete.\n",
      "Starting Round 8\n"
     ]
    },
    {
     "name": "stderr",
     "output_type": "stream",
     "text": [
      "dist_matrix: 100%|####################################################################| 11/11 [00:00<00:00, 141.37it/s]\n",
      "synth_matrix: 100%|###################################################################| 11/11 [00:00<00:00, 113.65it/s]\n",
      "r_index: 100%|########################################################################| 10/10 [00:00<00:00, 130.36it/s]\n"
     ]
    },
    {
     "name": "stdout",
     "output_type": "stream",
     "text": [
      "Epoch 100, Train Loss: 0.1416, Val Loss: 0.3368\n",
      "Epoch 200, Train Loss: 0.1254, Val Loss: 0.3461\n",
      "Early stopping at epoch 234\n",
      "Training complete.\n",
      "Starting Round 9\n"
     ]
    },
    {
     "name": "stderr",
     "output_type": "stream",
     "text": [
      "dist_matrix: 100%|####################################################################| 11/11 [00:00<00:00, 153.26it/s]\n",
      "synth_matrix: 100%|###################################################################| 11/11 [00:00<00:00, 115.49it/s]\n",
      "r_index: 100%|########################################################################| 10/10 [00:00<00:00, 146.58it/s]\n"
     ]
    },
    {
     "name": "stdout",
     "output_type": "stream",
     "text": [
      "Epoch 100, Train Loss: 0.1007, Val Loss: 0.2602\n",
      "Epoch 200, Train Loss: 0.1046, Val Loss: 0.2714\n",
      "Early stopping at epoch 201\n",
      "Training complete.\n",
      "Starting Round 10\n"
     ]
    },
    {
     "name": "stderr",
     "output_type": "stream",
     "text": [
      "dist_matrix: 100%|#####################################################################| 11/11 [00:00<00:00, 97.87it/s]\n",
      "synth_matrix: 100%|####################################################################| 11/11 [00:00<00:00, 96.52it/s]\n",
      "r_index: 100%|########################################################################| 10/10 [00:00<00:00, 108.88it/s]\n"
     ]
    },
    {
     "name": "stdout",
     "output_type": "stream",
     "text": [
      "Epoch 100, Train Loss: 0.1270, Val Loss: 0.3789\n",
      "Epoch 200, Train Loss: 0.1076, Val Loss: 0.3475\n",
      "Early stopping at epoch 283\n",
      "Training complete.\n",
      "Starting Round 11\n"
     ]
    },
    {
     "name": "stderr",
     "output_type": "stream",
     "text": [
      "dist_matrix: 100%|####################################################################| 11/11 [00:00<00:00, 110.70it/s]\n",
      "synth_matrix: 100%|####################################################################| 11/11 [00:00<00:00, 97.44it/s]\n",
      "r_index: 100%|########################################################################| 10/10 [00:00<00:00, 113.25it/s]\n"
     ]
    },
    {
     "name": "stdout",
     "output_type": "stream",
     "text": [
      "Epoch 100, Train Loss: 0.1329, Val Loss: 0.3244\n",
      "Epoch 200, Train Loss: 0.0985, Val Loss: 0.3060\n",
      "Early stopping at epoch 233\n",
      "Training complete.\n",
      "Starting Round 12\n"
     ]
    },
    {
     "name": "stderr",
     "output_type": "stream",
     "text": [
      "dist_matrix: 100%|####################################################################| 11/11 [00:00<00:00, 101.69it/s]\n",
      "synth_matrix: 100%|####################################################################| 11/11 [00:00<00:00, 87.54it/s]\n",
      "r_index: 100%|#########################################################################| 10/10 [00:00<00:00, 97.97it/s]\n"
     ]
    },
    {
     "name": "stdout",
     "output_type": "stream",
     "text": [
      "Epoch 100, Train Loss: 0.1287, Val Loss: 0.2830\n",
      "Epoch 200, Train Loss: 0.1098, Val Loss: 0.2738\n",
      "Early stopping at epoch 295\n",
      "Training complete.\n",
      "Starting Round 13\n"
     ]
    },
    {
     "name": "stderr",
     "output_type": "stream",
     "text": [
      "dist_matrix: 100%|####################################################################| 11/11 [00:00<00:00, 123.61it/s]\n",
      "synth_matrix: 100%|###################################################################| 11/11 [00:00<00:00, 124.88it/s]\n",
      "r_index: 100%|########################################################################| 10/10 [00:00<00:00, 133.24it/s]\n"
     ]
    },
    {
     "name": "stdout",
     "output_type": "stream",
     "text": [
      "Epoch 100, Train Loss: 0.1120, Val Loss: 0.3398\n",
      "Epoch 200, Train Loss: 0.0964, Val Loss: 0.3235\n",
      "Early stopping at epoch 239\n",
      "Training complete.\n",
      "Starting Round 14\n"
     ]
    },
    {
     "name": "stderr",
     "output_type": "stream",
     "text": [
      "dist_matrix: 100%|####################################################################| 11/11 [00:00<00:00, 116.04it/s]\n",
      "synth_matrix: 100%|###################################################################| 11/11 [00:00<00:00, 121.85it/s]\n",
      "r_index: 100%|########################################################################| 10/10 [00:00<00:00, 126.28it/s]\n"
     ]
    },
    {
     "name": "stdout",
     "output_type": "stream",
     "text": [
      "Epoch 100, Train Loss: 0.1490, Val Loss: 0.2822\n",
      "Epoch 200, Train Loss: 0.1204, Val Loss: 0.3270\n",
      "Early stopping at epoch 243\n",
      "Training complete.\n",
      "Starting Round 15\n"
     ]
    },
    {
     "name": "stderr",
     "output_type": "stream",
     "text": [
      "dist_matrix: 100%|####################################################################| 11/11 [00:00<00:00, 140.44it/s]\n",
      "synth_matrix: 100%|####################################################################| 11/11 [00:00<00:00, 78.26it/s]\n",
      "r_index: 100%|#########################################################################| 10/10 [00:00<00:00, 91.49it/s]\n"
     ]
    },
    {
     "name": "stdout",
     "output_type": "stream",
     "text": [
      "Epoch 100, Train Loss: 0.1633, Val Loss: 0.2950\n",
      "Epoch 200, Train Loss: 0.1436, Val Loss: 0.2962\n",
      "Early stopping at epoch 201\n",
      "Training complete.\n",
      "Starting Round 16\n"
     ]
    },
    {
     "name": "stderr",
     "output_type": "stream",
     "text": [
      "dist_matrix: 100%|####################################################################| 11/11 [00:00<00:00, 128.09it/s]\n",
      "synth_matrix: 100%|###################################################################| 11/11 [00:00<00:00, 106.88it/s]\n",
      "r_index: 100%|########################################################################| 10/10 [00:00<00:00, 113.64it/s]\n"
     ]
    },
    {
     "name": "stdout",
     "output_type": "stream",
     "text": [
      "Epoch 100, Train Loss: 0.1064, Val Loss: 0.2718\n",
      "Epoch 200, Train Loss: 0.0922, Val Loss: 0.2714\n",
      "Epoch 300, Train Loss: 0.0892, Val Loss: 0.2580\n",
      "Early stopping at epoch 343\n",
      "Training complete.\n",
      "Starting Round 17\n"
     ]
    },
    {
     "name": "stderr",
     "output_type": "stream",
     "text": [
      "dist_matrix: 100%|####################################################################| 11/11 [00:00<00:00, 145.21it/s]\n",
      "synth_matrix: 100%|###################################################################| 11/11 [00:00<00:00, 112.67it/s]\n",
      "r_index: 100%|########################################################################| 10/10 [00:00<00:00, 119.51it/s]\n"
     ]
    },
    {
     "name": "stdout",
     "output_type": "stream",
     "text": [
      "Epoch 100, Train Loss: 0.1402, Val Loss: 0.3237\n",
      "Epoch 200, Train Loss: 0.1135, Val Loss: 0.3210\n",
      "Early stopping at epoch 241\n",
      "Training complete.\n",
      "Starting Round 18\n"
     ]
    },
    {
     "name": "stderr",
     "output_type": "stream",
     "text": [
      "dist_matrix: 100%|####################################################################| 11/11 [00:00<00:00, 135.37it/s]\n",
      "synth_matrix: 100%|###################################################################| 11/11 [00:00<00:00, 112.54it/s]\n",
      "r_index: 100%|########################################################################| 10/10 [00:00<00:00, 123.53it/s]\n"
     ]
    },
    {
     "name": "stdout",
     "output_type": "stream",
     "text": [
      "Epoch 100, Train Loss: 0.1226, Val Loss: 0.2994\n",
      "Epoch 200, Train Loss: 0.1141, Val Loss: 0.3143\n",
      "Early stopping at epoch 269\n",
      "Training complete.\n",
      "Starting Round 19\n"
     ]
    },
    {
     "name": "stderr",
     "output_type": "stream",
     "text": [
      "dist_matrix: 100%|####################################################################| 11/11 [00:00<00:00, 127.24it/s]\n",
      "synth_matrix: 100%|###################################################################| 11/11 [00:00<00:00, 117.92it/s]\n",
      "r_index: 100%|########################################################################| 10/10 [00:00<00:00, 108.53it/s]\n"
     ]
    },
    {
     "name": "stdout",
     "output_type": "stream",
     "text": [
      "Epoch 100, Train Loss: 0.1137, Val Loss: 0.2879\n",
      "Epoch 200, Train Loss: 0.0908, Val Loss: 0.2573\n",
      "Epoch 300, Train Loss: 0.0865, Val Loss: 0.3107\n",
      "Early stopping at epoch 308\n",
      "Training complete.\n",
      "Starting Round 20\n"
     ]
    },
    {
     "name": "stderr",
     "output_type": "stream",
     "text": [
      "dist_matrix: 100%|####################################################################| 11/11 [00:00<00:00, 142.67it/s]\n",
      "synth_matrix: 100%|###################################################################| 11/11 [00:00<00:00, 122.38it/s]\n",
      "r_index: 100%|########################################################################| 10/10 [00:00<00:00, 148.34it/s]\n"
     ]
    },
    {
     "name": "stdout",
     "output_type": "stream",
     "text": [
      "Epoch 100, Train Loss: 0.1278, Val Loss: 0.3312\n",
      "Epoch 200, Train Loss: 0.1138, Val Loss: 0.3313\n",
      "Early stopping at epoch 280\n",
      "Training complete.\n",
      "Starting Round 21\n"
     ]
    },
    {
     "name": "stderr",
     "output_type": "stream",
     "text": [
      "dist_matrix: 100%|####################################################################| 11/11 [00:00<00:00, 138.18it/s]\n",
      "synth_matrix: 100%|###################################################################| 11/11 [00:00<00:00, 130.81it/s]\n",
      "r_index: 100%|########################################################################| 10/10 [00:00<00:00, 116.47it/s]\n"
     ]
    },
    {
     "name": "stdout",
     "output_type": "stream",
     "text": [
      "Epoch 100, Train Loss: 0.1207, Val Loss: 0.2968\n",
      "Epoch 200, Train Loss: 0.1071, Val Loss: 0.2938\n",
      "Early stopping at epoch 225\n",
      "Training complete.\n",
      "Starting Round 22\n"
     ]
    },
    {
     "name": "stderr",
     "output_type": "stream",
     "text": [
      "dist_matrix: 100%|####################################################################| 11/11 [00:00<00:00, 157.58it/s]\n",
      "synth_matrix: 100%|###################################################################| 11/11 [00:00<00:00, 129.18it/s]\n",
      "r_index: 100%|########################################################################| 10/10 [00:00<00:00, 135.54it/s]\n"
     ]
    },
    {
     "name": "stdout",
     "output_type": "stream",
     "text": [
      "Epoch 100, Train Loss: 0.1062, Val Loss: 0.2757\n",
      "Epoch 200, Train Loss: 0.0894, Val Loss: 0.2591\n",
      "Early stopping at epoch 212\n",
      "Training complete.\n",
      "Starting Round 23\n"
     ]
    },
    {
     "name": "stderr",
     "output_type": "stream",
     "text": [
      "dist_matrix: 100%|####################################################################| 11/11 [00:00<00:00, 157.95it/s]\n",
      "synth_matrix: 100%|###################################################################| 11/11 [00:00<00:00, 108.89it/s]\n",
      "r_index: 100%|########################################################################| 10/10 [00:00<00:00, 141.58it/s]\n"
     ]
    },
    {
     "name": "stdout",
     "output_type": "stream",
     "text": [
      "Epoch 100, Train Loss: 0.1222, Val Loss: 0.2842\n",
      "Early stopping at epoch 198\n",
      "Training complete.\n",
      "Starting Round 24\n"
     ]
    },
    {
     "name": "stderr",
     "output_type": "stream",
     "text": [
      "dist_matrix: 100%|####################################################################| 11/11 [00:00<00:00, 140.41it/s]\n",
      "synth_matrix: 100%|###################################################################| 11/11 [00:00<00:00, 124.17it/s]\n",
      "r_index: 100%|########################################################################| 10/10 [00:00<00:00, 122.66it/s]\n"
     ]
    },
    {
     "name": "stdout",
     "output_type": "stream",
     "text": [
      "Epoch 100, Train Loss: 0.1082, Val Loss: 0.2756\n",
      "Epoch 200, Train Loss: 0.0981, Val Loss: 0.2931\n",
      "Early stopping at epoch 280\n",
      "Training complete.\n",
      "Starting Round 25\n"
     ]
    },
    {
     "name": "stderr",
     "output_type": "stream",
     "text": [
      "dist_matrix: 100%|####################################################################| 11/11 [00:00<00:00, 143.30it/s]\n",
      "synth_matrix: 100%|###################################################################| 11/11 [00:00<00:00, 130.74it/s]\n",
      "r_index: 100%|########################################################################| 10/10 [00:00<00:00, 159.32it/s]\n"
     ]
    },
    {
     "name": "stdout",
     "output_type": "stream",
     "text": [
      "Epoch 100, Train Loss: 0.1307, Val Loss: 0.3238\n",
      "Epoch 200, Train Loss: 0.1114, Val Loss: 0.3026\n",
      "Early stopping at epoch 260\n",
      "Training complete.\n",
      "Starting Round 26\n"
     ]
    },
    {
     "name": "stderr",
     "output_type": "stream",
     "text": [
      "dist_matrix: 100%|####################################################################| 11/11 [00:00<00:00, 128.75it/s]\n",
      "synth_matrix: 100%|###################################################################| 11/11 [00:00<00:00, 110.24it/s]\n",
      "r_index: 100%|########################################################################| 10/10 [00:00<00:00, 117.72it/s]\n"
     ]
    },
    {
     "name": "stdout",
     "output_type": "stream",
     "text": [
      "Epoch 100, Train Loss: 0.1304, Val Loss: 0.3558\n",
      "Epoch 200, Train Loss: 0.1154, Val Loss: 0.3316\n",
      "Early stopping at epoch 273\n",
      "Training complete.\n",
      "Starting Round 27\n"
     ]
    },
    {
     "name": "stderr",
     "output_type": "stream",
     "text": [
      "dist_matrix: 100%|####################################################################| 11/11 [00:00<00:00, 108.89it/s]\n",
      "synth_matrix: 100%|###################################################################| 11/11 [00:00<00:00, 123.26it/s]\n",
      "r_index: 100%|########################################################################| 10/10 [00:00<00:00, 118.22it/s]\n"
     ]
    },
    {
     "name": "stdout",
     "output_type": "stream",
     "text": [
      "Epoch 100, Train Loss: 0.1101, Val Loss: 0.2834\n",
      "Epoch 200, Train Loss: 0.0910, Val Loss: 0.2572\n",
      "Early stopping at epoch 238\n",
      "Training complete.\n",
      "Starting Round 28\n"
     ]
    },
    {
     "name": "stderr",
     "output_type": "stream",
     "text": [
      "dist_matrix: 100%|####################################################################| 11/11 [00:00<00:00, 137.34it/s]\n",
      "synth_matrix: 100%|###################################################################| 11/11 [00:00<00:00, 106.37it/s]\n",
      "r_index: 100%|########################################################################| 10/10 [00:00<00:00, 121.54it/s]\n"
     ]
    },
    {
     "name": "stdout",
     "output_type": "stream",
     "text": [
      "Epoch 100, Train Loss: 0.1156, Val Loss: 0.3102\n",
      "Early stopping at epoch 121\n",
      "Training complete.\n",
      "Starting Round 29\n"
     ]
    },
    {
     "name": "stderr",
     "output_type": "stream",
     "text": [
      "dist_matrix: 100%|#####################################################################| 11/11 [00:00<00:00, 78.70it/s]\n",
      "synth_matrix: 100%|###################################################################| 11/11 [00:00<00:00, 104.80it/s]\n",
      "r_index: 100%|#########################################################################| 10/10 [00:00<00:00, 96.76it/s]\n"
     ]
    },
    {
     "name": "stdout",
     "output_type": "stream",
     "text": [
      "Epoch 100, Train Loss: 0.1512, Val Loss: 0.3532\n",
      "Epoch 200, Train Loss: 0.1103, Val Loss: 0.2852\n",
      "Epoch 300, Train Loss: 0.1114, Val Loss: 0.2828\n",
      "Epoch 400, Train Loss: 0.1085, Val Loss: 0.2917\n",
      "Epoch 500, Train Loss: 0.0961, Val Loss: 0.3016\n",
      "Early stopping at epoch 520\n",
      "Training complete.\n",
      "Starting Round 30\n"
     ]
    },
    {
     "name": "stderr",
     "output_type": "stream",
     "text": [
      "dist_matrix: 100%|####################################################################| 11/11 [00:00<00:00, 113.91it/s]\n",
      "synth_matrix: 100%|###################################################################| 11/11 [00:00<00:00, 121.07it/s]\n",
      "r_index: 100%|########################################################################| 10/10 [00:00<00:00, 127.52it/s]\n"
     ]
    },
    {
     "name": "stdout",
     "output_type": "stream",
     "text": [
      "Epoch 100, Train Loss: 0.1175, Val Loss: 0.3102\n",
      "Epoch 200, Train Loss: 0.1142, Val Loss: 0.3015\n",
      "Epoch 300, Train Loss: 0.0962, Val Loss: 0.3109\n",
      "Early stopping at epoch 355\n",
      "Training complete.\n",
      "Starting Round 31\n"
     ]
    },
    {
     "name": "stderr",
     "output_type": "stream",
     "text": [
      "dist_matrix: 100%|####################################################################| 11/11 [00:00<00:00, 127.18it/s]\n",
      "synth_matrix: 100%|###################################################################| 11/11 [00:00<00:00, 119.89it/s]\n",
      "r_index: 100%|########################################################################| 10/10 [00:00<00:00, 115.32it/s]\n"
     ]
    },
    {
     "name": "stdout",
     "output_type": "stream",
     "text": [
      "Epoch 100, Train Loss: 0.1163, Val Loss: 0.3104\n",
      "Epoch 200, Train Loss: 0.1169, Val Loss: 0.3056\n",
      "Epoch 300, Train Loss: 0.1046, Val Loss: 0.3140\n",
      "Early stopping at epoch 318\n",
      "Training complete.\n",
      "Starting Round 32\n"
     ]
    },
    {
     "name": "stderr",
     "output_type": "stream",
     "text": [
      "dist_matrix: 100%|####################################################################| 11/11 [00:00<00:00, 128.95it/s]\n",
      "synth_matrix: 100%|###################################################################| 11/11 [00:00<00:00, 106.56it/s]\n",
      "r_index: 100%|########################################################################| 10/10 [00:00<00:00, 128.05it/s]\n"
     ]
    },
    {
     "name": "stdout",
     "output_type": "stream",
     "text": [
      "Epoch 100, Train Loss: 0.1119, Val Loss: 0.2894\n",
      "Epoch 200, Train Loss: 0.1046, Val Loss: 0.2595\n",
      "Epoch 300, Train Loss: 0.0888, Val Loss: 0.2608\n",
      "Early stopping at epoch 397\n",
      "Training complete.\n",
      "Starting Round 33\n"
     ]
    },
    {
     "name": "stderr",
     "output_type": "stream",
     "text": [
      "dist_matrix: 100%|####################################################################| 11/11 [00:00<00:00, 104.37it/s]\n",
      "synth_matrix: 100%|###################################################################| 11/11 [00:00<00:00, 101.35it/s]\n",
      "r_index: 100%|########################################################################| 10/10 [00:00<00:00, 121.96it/s]\n"
     ]
    },
    {
     "name": "stdout",
     "output_type": "stream",
     "text": [
      "Epoch 100, Train Loss: 0.1426, Val Loss: 0.3210\n",
      "Epoch 200, Train Loss: 0.1194, Val Loss: 0.2950\n",
      "Early stopping at epoch 220\n",
      "Training complete.\n",
      "Starting Round 34\n"
     ]
    },
    {
     "name": "stderr",
     "output_type": "stream",
     "text": [
      "dist_matrix: 100%|####################################################################| 11/11 [00:00<00:00, 137.78it/s]\n",
      "synth_matrix: 100%|####################################################################| 11/11 [00:00<00:00, 99.31it/s]\n",
      "r_index: 100%|########################################################################| 10/10 [00:00<00:00, 129.73it/s]\n"
     ]
    },
    {
     "name": "stdout",
     "output_type": "stream",
     "text": [
      "Epoch 100, Train Loss: 0.1069, Val Loss: 0.2447\n",
      "Epoch 200, Train Loss: 0.0885, Val Loss: 0.2300\n",
      "Epoch 300, Train Loss: 0.0896, Val Loss: 0.2463\n",
      "Early stopping at epoch 347\n",
      "Training complete.\n",
      "Starting Round 35\n"
     ]
    },
    {
     "name": "stderr",
     "output_type": "stream",
     "text": [
      "dist_matrix: 100%|####################################################################| 11/11 [00:00<00:00, 147.93it/s]\n",
      "synth_matrix: 100%|####################################################################| 11/11 [00:00<00:00, 94.35it/s]\n",
      "r_index: 100%|########################################################################| 10/10 [00:00<00:00, 128.57it/s]\n"
     ]
    },
    {
     "name": "stdout",
     "output_type": "stream",
     "text": [
      "Epoch 100, Train Loss: 0.1203, Val Loss: 0.2730\n",
      "Epoch 200, Train Loss: 0.1201, Val Loss: 0.2963\n",
      "Early stopping at epoch 255\n",
      "Training complete.\n",
      "Starting Round 36\n"
     ]
    },
    {
     "name": "stderr",
     "output_type": "stream",
     "text": [
      "dist_matrix: 100%|####################################################################| 11/11 [00:00<00:00, 124.78it/s]\n",
      "synth_matrix: 100%|###################################################################| 11/11 [00:00<00:00, 103.70it/s]\n",
      "r_index: 100%|########################################################################| 10/10 [00:00<00:00, 112.43it/s]\n"
     ]
    },
    {
     "name": "stdout",
     "output_type": "stream",
     "text": [
      "Epoch 100, Train Loss: 0.1162, Val Loss: 0.2800\n",
      "Epoch 200, Train Loss: 0.0971, Val Loss: 0.2869\n",
      "Early stopping at epoch 258\n",
      "Training complete.\n",
      "Starting Round 37\n"
     ]
    },
    {
     "name": "stderr",
     "output_type": "stream",
     "text": [
      "dist_matrix: 100%|####################################################################| 11/11 [00:00<00:00, 116.83it/s]\n",
      "synth_matrix: 100%|###################################################################| 11/11 [00:00<00:00, 104.14it/s]\n",
      "r_index: 100%|########################################################################| 10/10 [00:00<00:00, 120.81it/s]\n"
     ]
    },
    {
     "name": "stdout",
     "output_type": "stream",
     "text": [
      "Epoch 100, Train Loss: 0.1373, Val Loss: 0.3270\n",
      "Epoch 200, Train Loss: 0.1194, Val Loss: 0.3501\n",
      "Early stopping at epoch 244\n",
      "Training complete.\n",
      "Starting Round 38\n"
     ]
    },
    {
     "name": "stderr",
     "output_type": "stream",
     "text": [
      "dist_matrix: 100%|####################################################################| 11/11 [00:00<00:00, 139.48it/s]\n",
      "synth_matrix: 100%|###################################################################| 11/11 [00:00<00:00, 107.89it/s]\n",
      "r_index: 100%|########################################################################| 10/10 [00:00<00:00, 109.63it/s]\n"
     ]
    },
    {
     "name": "stdout",
     "output_type": "stream",
     "text": [
      "Epoch 100, Train Loss: 0.1403, Val Loss: 0.3661\n",
      "Epoch 200, Train Loss: 0.1089, Val Loss: 0.3281\n",
      "Early stopping at epoch 258\n",
      "Training complete.\n",
      "Starting Round 39\n"
     ]
    },
    {
     "name": "stderr",
     "output_type": "stream",
     "text": [
      "dist_matrix: 100%|####################################################################| 11/11 [00:00<00:00, 133.09it/s]\n",
      "synth_matrix: 100%|###################################################################| 11/11 [00:00<00:00, 106.81it/s]\n",
      "r_index: 100%|########################################################################| 10/10 [00:00<00:00, 142.22it/s]\n"
     ]
    },
    {
     "name": "stdout",
     "output_type": "stream",
     "text": [
      "Epoch 100, Train Loss: 0.1418, Val Loss: 0.3622\n",
      "Epoch 200, Train Loss: 0.1328, Val Loss: 0.3210\n",
      "Epoch 300, Train Loss: 0.1319, Val Loss: 0.5412\n",
      "Epoch 400, Train Loss: 0.1085, Val Loss: 0.3474\n",
      "Early stopping at epoch 417\n",
      "Training complete.\n",
      "Starting Round 40\n"
     ]
    },
    {
     "name": "stderr",
     "output_type": "stream",
     "text": [
      "dist_matrix: 100%|####################################################################| 11/11 [00:00<00:00, 146.14it/s]\n",
      "synth_matrix: 100%|###################################################################| 11/11 [00:00<00:00, 103.48it/s]\n",
      "r_index: 100%|########################################################################| 10/10 [00:00<00:00, 138.02it/s]\n"
     ]
    },
    {
     "name": "stdout",
     "output_type": "stream",
     "text": [
      "Epoch 100, Train Loss: 0.1334, Val Loss: 0.3267\n",
      "Epoch 200, Train Loss: 0.1215, Val Loss: 0.3046\n",
      "Early stopping at epoch 293\n",
      "Training complete.\n",
      "Starting Round 41\n"
     ]
    },
    {
     "name": "stderr",
     "output_type": "stream",
     "text": [
      "dist_matrix: 100%|####################################################################| 11/11 [00:00<00:00, 152.69it/s]\n",
      "synth_matrix: 100%|###################################################################| 11/11 [00:00<00:00, 118.63it/s]\n",
      "r_index: 100%|########################################################################| 10/10 [00:00<00:00, 139.67it/s]\n"
     ]
    },
    {
     "name": "stdout",
     "output_type": "stream",
     "text": [
      "Epoch 100, Train Loss: 0.1127, Val Loss: 0.3108\n",
      "Early stopping at epoch 189\n",
      "Training complete.\n",
      "Starting Round 42\n"
     ]
    },
    {
     "name": "stderr",
     "output_type": "stream",
     "text": [
      "dist_matrix: 100%|####################################################################| 11/11 [00:00<00:00, 127.30it/s]\n",
      "synth_matrix: 100%|###################################################################| 11/11 [00:00<00:00, 113.67it/s]\n",
      "r_index: 100%|########################################################################| 10/10 [00:00<00:00, 155.02it/s]\n"
     ]
    },
    {
     "name": "stdout",
     "output_type": "stream",
     "text": [
      "Epoch 100, Train Loss: 0.1291, Val Loss: 0.3040\n",
      "Epoch 200, Train Loss: 0.1012, Val Loss: 0.2974\n",
      "Epoch 300, Train Loss: 0.1014, Val Loss: 0.3123\n",
      "Early stopping at epoch 306\n",
      "Training complete.\n",
      "Starting Round 43\n"
     ]
    },
    {
     "name": "stderr",
     "output_type": "stream",
     "text": [
      "dist_matrix: 100%|####################################################################| 11/11 [00:00<00:00, 121.69it/s]\n",
      "synth_matrix: 100%|###################################################################| 11/11 [00:00<00:00, 121.90it/s]\n",
      "r_index: 100%|########################################################################| 10/10 [00:00<00:00, 132.59it/s]\n"
     ]
    },
    {
     "name": "stdout",
     "output_type": "stream",
     "text": [
      "Epoch 100, Train Loss: 0.1269, Val Loss: 0.3157\n",
      "Epoch 200, Train Loss: 0.1081, Val Loss: 0.3143\n",
      "Epoch 300, Train Loss: 0.0920, Val Loss: 0.2810\n",
      "Early stopping at epoch 320\n",
      "Training complete.\n",
      "Starting Round 44\n"
     ]
    },
    {
     "name": "stderr",
     "output_type": "stream",
     "text": [
      "dist_matrix: 100%|####################################################################| 11/11 [00:00<00:00, 155.78it/s]\n",
      "synth_matrix: 100%|###################################################################| 11/11 [00:00<00:00, 134.77it/s]\n",
      "r_index: 100%|########################################################################| 10/10 [00:00<00:00, 119.14it/s]\n"
     ]
    },
    {
     "name": "stdout",
     "output_type": "stream",
     "text": [
      "Epoch 100, Train Loss: 0.1237, Val Loss: 0.2929\n",
      "Early stopping at epoch 161\n",
      "Training complete.\n",
      "Starting Round 45\n"
     ]
    },
    {
     "name": "stderr",
     "output_type": "stream",
     "text": [
      "dist_matrix: 100%|####################################################################| 11/11 [00:00<00:00, 139.28it/s]\n",
      "synth_matrix: 100%|###################################################################| 11/11 [00:00<00:00, 108.26it/s]\n",
      "r_index: 100%|########################################################################| 10/10 [00:00<00:00, 133.67it/s]\n"
     ]
    },
    {
     "name": "stdout",
     "output_type": "stream",
     "text": [
      "Epoch 100, Train Loss: 0.1133, Val Loss: 0.2889\n",
      "Epoch 200, Train Loss: 0.0873, Val Loss: 0.2916\n",
      "Epoch 300, Train Loss: 0.0872, Val Loss: 0.2910\n",
      "Early stopping at epoch 349\n",
      "Training complete.\n",
      "Starting Round 46\n"
     ]
    },
    {
     "name": "stderr",
     "output_type": "stream",
     "text": [
      "dist_matrix: 100%|####################################################################| 11/11 [00:00<00:00, 138.47it/s]\n",
      "synth_matrix: 100%|###################################################################| 11/11 [00:00<00:00, 123.20it/s]\n",
      "r_index: 100%|########################################################################| 10/10 [00:00<00:00, 127.00it/s]\n"
     ]
    },
    {
     "name": "stdout",
     "output_type": "stream",
     "text": [
      "Epoch 100, Train Loss: 0.1445, Val Loss: 0.3548\n",
      "Epoch 200, Train Loss: 0.1102, Val Loss: 0.3534\n",
      "Early stopping at epoch 266\n",
      "Training complete.\n",
      "Starting Round 47\n"
     ]
    },
    {
     "name": "stderr",
     "output_type": "stream",
     "text": [
      "dist_matrix: 100%|####################################################################| 11/11 [00:00<00:00, 134.18it/s]\n",
      "synth_matrix: 100%|###################################################################| 11/11 [00:00<00:00, 131.95it/s]\n",
      "r_index: 100%|########################################################################| 10/10 [00:00<00:00, 174.72it/s]\n"
     ]
    },
    {
     "name": "stdout",
     "output_type": "stream",
     "text": [
      "Epoch 100, Train Loss: 0.1338, Val Loss: 0.3377\n",
      "Early stopping at epoch 193\n",
      "Training complete.\n",
      "Starting Round 48\n"
     ]
    },
    {
     "name": "stderr",
     "output_type": "stream",
     "text": [
      "dist_matrix: 100%|####################################################################| 11/11 [00:00<00:00, 140.96it/s]\n",
      "synth_matrix: 100%|###################################################################| 11/11 [00:00<00:00, 126.20it/s]\n",
      "r_index: 100%|########################################################################| 10/10 [00:00<00:00, 141.27it/s]\n"
     ]
    },
    {
     "name": "stdout",
     "output_type": "stream",
     "text": [
      "Epoch 100, Train Loss: 0.1075, Val Loss: 0.2817\n",
      "Epoch 200, Train Loss: 0.0923, Val Loss: 0.2775\n",
      "Early stopping at epoch 230\n",
      "Training complete.\n",
      "Starting Round 49\n"
     ]
    },
    {
     "name": "stderr",
     "output_type": "stream",
     "text": [
      "dist_matrix: 100%|####################################################################| 11/11 [00:00<00:00, 115.93it/s]\n",
      "synth_matrix: 100%|###################################################################| 11/11 [00:00<00:00, 105.57it/s]\n",
      "r_index: 100%|########################################################################| 10/10 [00:00<00:00, 119.16it/s]\n"
     ]
    },
    {
     "name": "stdout",
     "output_type": "stream",
     "text": [
      "Epoch 100, Train Loss: 0.1252, Val Loss: 0.3019\n",
      "Epoch 200, Train Loss: 0.1071, Val Loss: 0.3014\n",
      "Epoch 300, Train Loss: 0.1038, Val Loss: 0.2965\n",
      "Early stopping at epoch 322\n",
      "Training complete.\n",
      "Starting Round 50\n"
     ]
    },
    {
     "name": "stderr",
     "output_type": "stream",
     "text": [
      "dist_matrix: 100%|####################################################################| 11/11 [00:00<00:00, 111.34it/s]\n",
      "synth_matrix: 100%|###################################################################| 11/11 [00:00<00:00, 100.30it/s]\n",
      "r_index: 100%|########################################################################| 10/10 [00:00<00:00, 120.11it/s]\n"
     ]
    },
    {
     "name": "stdout",
     "output_type": "stream",
     "text": [
      "Epoch 100, Train Loss: 0.1421, Val Loss: 0.3085\n",
      "Epoch 200, Train Loss: 0.1134, Val Loss: 0.2888\n",
      "Early stopping at epoch 254\n",
      "Training complete.\n",
      "Starting Round 51\n"
     ]
    },
    {
     "name": "stderr",
     "output_type": "stream",
     "text": [
      "dist_matrix: 100%|####################################################################| 11/11 [00:00<00:00, 119.04it/s]\n",
      "synth_matrix: 100%|###################################################################| 11/11 [00:00<00:00, 110.38it/s]\n",
      "r_index: 100%|#########################################################################| 10/10 [00:00<00:00, 94.17it/s]\n"
     ]
    },
    {
     "name": "stdout",
     "output_type": "stream",
     "text": [
      "Epoch 100, Train Loss: 0.1186, Val Loss: 0.2965\n",
      "Epoch 200, Train Loss: 0.1143, Val Loss: 0.3213\n",
      "Early stopping at epoch 221\n",
      "Training complete.\n",
      "Starting Round 52\n"
     ]
    },
    {
     "name": "stderr",
     "output_type": "stream",
     "text": [
      "dist_matrix: 100%|####################################################################| 11/11 [00:00<00:00, 133.89it/s]\n",
      "synth_matrix: 100%|###################################################################| 11/11 [00:00<00:00, 129.41it/s]\n",
      "r_index: 100%|########################################################################| 10/10 [00:00<00:00, 154.29it/s]\n"
     ]
    },
    {
     "name": "stdout",
     "output_type": "stream",
     "text": [
      "Epoch 100, Train Loss: 0.1049, Val Loss: 0.2963\n",
      "Epoch 200, Train Loss: 0.0905, Val Loss: 0.2971\n",
      "Epoch 300, Train Loss: 0.0922, Val Loss: 0.2804\n",
      "Early stopping at epoch 375\n",
      "Training complete.\n",
      "Starting Round 53\n"
     ]
    },
    {
     "name": "stderr",
     "output_type": "stream",
     "text": [
      "dist_matrix: 100%|####################################################################| 11/11 [00:00<00:00, 142.64it/s]\n",
      "synth_matrix: 100%|###################################################################| 11/11 [00:00<00:00, 106.22it/s]\n",
      "r_index: 100%|########################################################################| 10/10 [00:00<00:00, 135.70it/s]\n"
     ]
    },
    {
     "name": "stdout",
     "output_type": "stream",
     "text": [
      "Epoch 100, Train Loss: 0.1031, Val Loss: 0.2719\n",
      "Epoch 200, Train Loss: 0.0917, Val Loss: 0.2788\n",
      "Early stopping at epoch 261\n",
      "Training complete.\n",
      "Starting Round 54\n"
     ]
    },
    {
     "name": "stderr",
     "output_type": "stream",
     "text": [
      "dist_matrix: 100%|####################################################################| 11/11 [00:00<00:00, 132.68it/s]\n",
      "synth_matrix: 100%|###################################################################| 11/11 [00:00<00:00, 110.76it/s]\n",
      "r_index: 100%|########################################################################| 10/10 [00:00<00:00, 121.11it/s]\n"
     ]
    },
    {
     "name": "stdout",
     "output_type": "stream",
     "text": [
      "Epoch 100, Train Loss: 0.1182, Val Loss: 0.3088\n",
      "Epoch 200, Train Loss: 0.1093, Val Loss: 0.3047\n",
      "Early stopping at epoch 285\n",
      "Training complete.\n",
      "Starting Round 55\n"
     ]
    },
    {
     "name": "stderr",
     "output_type": "stream",
     "text": [
      "dist_matrix: 100%|####################################################################| 11/11 [00:00<00:00, 140.63it/s]\n",
      "synth_matrix: 100%|###################################################################| 11/11 [00:00<00:00, 116.72it/s]\n",
      "r_index: 100%|########################################################################| 10/10 [00:00<00:00, 127.61it/s]\n"
     ]
    },
    {
     "name": "stdout",
     "output_type": "stream",
     "text": [
      "Epoch 100, Train Loss: 0.1025, Val Loss: 0.2680\n",
      "Epoch 200, Train Loss: 0.0999, Val Loss: 0.2532\n",
      "Epoch 300, Train Loss: 0.0898, Val Loss: 0.2419\n",
      "Early stopping at epoch 340\n",
      "Training complete.\n",
      "Starting Round 56\n"
     ]
    },
    {
     "name": "stderr",
     "output_type": "stream",
     "text": [
      "dist_matrix: 100%|####################################################################| 11/11 [00:00<00:00, 135.27it/s]\n",
      "synth_matrix: 100%|###################################################################| 11/11 [00:00<00:00, 118.38it/s]\n",
      "r_index: 100%|########################################################################| 10/10 [00:00<00:00, 156.44it/s]\n"
     ]
    },
    {
     "name": "stdout",
     "output_type": "stream",
     "text": [
      "Epoch 100, Train Loss: 0.1098, Val Loss: 0.2810\n",
      "Early stopping at epoch 200\n",
      "Training complete.\n",
      "Starting Round 57\n"
     ]
    },
    {
     "name": "stderr",
     "output_type": "stream",
     "text": [
      "dist_matrix: 100%|####################################################################| 11/11 [00:00<00:00, 143.85it/s]\n",
      "synth_matrix: 100%|###################################################################| 11/11 [00:00<00:00, 100.66it/s]\n",
      "r_index: 100%|########################################################################| 10/10 [00:00<00:00, 112.95it/s]\n"
     ]
    },
    {
     "name": "stdout",
     "output_type": "stream",
     "text": [
      "Epoch 100, Train Loss: 0.1244, Val Loss: 0.3027\n",
      "Epoch 200, Train Loss: 0.0969, Val Loss: 0.3187\n",
      "Early stopping at epoch 282\n",
      "Training complete.\n",
      "Starting Round 58\n"
     ]
    },
    {
     "name": "stderr",
     "output_type": "stream",
     "text": [
      "dist_matrix: 100%|####################################################################| 11/11 [00:00<00:00, 141.05it/s]\n",
      "synth_matrix: 100%|###################################################################| 11/11 [00:00<00:00, 104.68it/s]\n",
      "r_index: 100%|########################################################################| 10/10 [00:00<00:00, 114.53it/s]\n"
     ]
    },
    {
     "name": "stdout",
     "output_type": "stream",
     "text": [
      "Epoch 100, Train Loss: 0.1301, Val Loss: 0.2856\n",
      "Early stopping at epoch 196\n",
      "Training complete.\n",
      "Starting Round 59\n"
     ]
    },
    {
     "name": "stderr",
     "output_type": "stream",
     "text": [
      "dist_matrix: 100%|####################################################################| 11/11 [00:00<00:00, 138.53it/s]\n",
      "synth_matrix: 100%|###################################################################| 11/11 [00:00<00:00, 126.52it/s]\n",
      "r_index: 100%|########################################################################| 10/10 [00:00<00:00, 152.75it/s]\n"
     ]
    },
    {
     "name": "stdout",
     "output_type": "stream",
     "text": [
      "Epoch 100, Train Loss: 0.1260, Val Loss: 0.3632\n",
      "Epoch 200, Train Loss: 0.1073, Val Loss: 0.3264\n",
      "Early stopping at epoch 298\n",
      "Training complete.\n",
      "Starting Round 60\n"
     ]
    },
    {
     "name": "stderr",
     "output_type": "stream",
     "text": [
      "dist_matrix: 100%|####################################################################| 11/11 [00:00<00:00, 135.18it/s]\n",
      "synth_matrix: 100%|###################################################################| 11/11 [00:00<00:00, 110.07it/s]\n",
      "r_index: 100%|########################################################################| 10/10 [00:00<00:00, 114.78it/s]\n"
     ]
    },
    {
     "name": "stdout",
     "output_type": "stream",
     "text": [
      "Epoch 100, Train Loss: 0.1268, Val Loss: 0.2879\n",
      "Epoch 200, Train Loss: 0.1142, Val Loss: 0.2731\n",
      "Epoch 300, Train Loss: 0.0948, Val Loss: 0.2818\n",
      "Early stopping at epoch 358\n",
      "Training complete.\n",
      "Starting Round 61\n"
     ]
    },
    {
     "name": "stderr",
     "output_type": "stream",
     "text": [
      "dist_matrix: 100%|####################################################################| 11/11 [00:00<00:00, 129.56it/s]\n",
      "synth_matrix: 100%|###################################################################| 11/11 [00:00<00:00, 126.79it/s]\n",
      "r_index: 100%|########################################################################| 10/10 [00:00<00:00, 119.92it/s]\n"
     ]
    },
    {
     "name": "stdout",
     "output_type": "stream",
     "text": [
      "Epoch 100, Train Loss: 0.1320, Val Loss: 0.3410\n",
      "Early stopping at epoch 188\n",
      "Training complete.\n",
      "Starting Round 62\n"
     ]
    },
    {
     "name": "stderr",
     "output_type": "stream",
     "text": [
      "dist_matrix: 100%|####################################################################| 11/11 [00:00<00:00, 156.29it/s]\n",
      "synth_matrix: 100%|###################################################################| 11/11 [00:00<00:00, 139.15it/s]\n",
      "r_index: 100%|########################################################################| 10/10 [00:00<00:00, 106.04it/s]\n"
     ]
    },
    {
     "name": "stdout",
     "output_type": "stream",
     "text": [
      "Epoch 100, Train Loss: 0.1066, Val Loss: 0.2996\n",
      "Epoch 200, Train Loss: 0.0888, Val Loss: 0.3081\n",
      "Early stopping at epoch 274\n",
      "Training complete.\n",
      "Starting Round 63\n"
     ]
    },
    {
     "name": "stderr",
     "output_type": "stream",
     "text": [
      "dist_matrix: 100%|####################################################################| 11/11 [00:00<00:00, 140.45it/s]\n",
      "synth_matrix: 100%|###################################################################| 11/11 [00:00<00:00, 111.64it/s]\n",
      "r_index: 100%|########################################################################| 10/10 [00:00<00:00, 140.05it/s]\n"
     ]
    },
    {
     "name": "stdout",
     "output_type": "stream",
     "text": [
      "Epoch 100, Train Loss: 0.1334, Val Loss: 0.3173\n",
      "Early stopping at epoch 185\n",
      "Training complete.\n",
      "Starting Round 64\n"
     ]
    },
    {
     "name": "stderr",
     "output_type": "stream",
     "text": [
      "dist_matrix: 100%|####################################################################| 11/11 [00:00<00:00, 125.74it/s]\n",
      "synth_matrix: 100%|###################################################################| 11/11 [00:00<00:00, 103.48it/s]\n",
      "r_index: 100%|########################################################################| 10/10 [00:00<00:00, 110.93it/s]\n"
     ]
    },
    {
     "name": "stdout",
     "output_type": "stream",
     "text": [
      "Epoch 100, Train Loss: 0.1131, Val Loss: 0.3091\n",
      "Early stopping at epoch 173\n",
      "Training complete.\n",
      "Starting Round 65\n"
     ]
    },
    {
     "name": "stderr",
     "output_type": "stream",
     "text": [
      "dist_matrix: 100%|####################################################################| 11/11 [00:00<00:00, 145.50it/s]\n",
      "synth_matrix: 100%|###################################################################| 11/11 [00:00<00:00, 118.68it/s]\n",
      "r_index: 100%|########################################################################| 10/10 [00:00<00:00, 121.15it/s]\n"
     ]
    },
    {
     "name": "stdout",
     "output_type": "stream",
     "text": [
      "Epoch 100, Train Loss: 0.1335, Val Loss: 0.2859\n",
      "Epoch 200, Train Loss: 0.1121, Val Loss: 0.2639\n",
      "Epoch 300, Train Loss: 0.1038, Val Loss: 0.2892\n",
      "Early stopping at epoch 362\n",
      "Training complete.\n",
      "Starting Round 66\n"
     ]
    },
    {
     "name": "stderr",
     "output_type": "stream",
     "text": [
      "dist_matrix: 100%|####################################################################| 11/11 [00:00<00:00, 140.94it/s]\n",
      "synth_matrix: 100%|###################################################################| 11/11 [00:00<00:00, 123.99it/s]\n",
      "r_index: 100%|########################################################################| 10/10 [00:00<00:00, 120.12it/s]\n"
     ]
    },
    {
     "name": "stdout",
     "output_type": "stream",
     "text": [
      "Epoch 100, Train Loss: 0.1434, Val Loss: 0.3145\n",
      "Epoch 200, Train Loss: 0.1170, Val Loss: 0.3057\n",
      "Epoch 300, Train Loss: 0.1069, Val Loss: 0.3183\n",
      "Early stopping at epoch 301\n",
      "Training complete.\n",
      "Starting Round 67\n"
     ]
    },
    {
     "name": "stderr",
     "output_type": "stream",
     "text": [
      "dist_matrix: 100%|####################################################################| 11/11 [00:00<00:00, 129.44it/s]\n",
      "synth_matrix: 100%|###################################################################| 11/11 [00:00<00:00, 107.30it/s]\n",
      "r_index: 100%|########################################################################| 10/10 [00:00<00:00, 117.13it/s]\n"
     ]
    },
    {
     "name": "stdout",
     "output_type": "stream",
     "text": [
      "Epoch 100, Train Loss: 0.1115, Val Loss: 0.2746\n",
      "Early stopping at epoch 168\n",
      "Training complete.\n",
      "Starting Round 68\n"
     ]
    },
    {
     "name": "stderr",
     "output_type": "stream",
     "text": [
      "dist_matrix: 100%|####################################################################| 11/11 [00:00<00:00, 144.17it/s]\n",
      "synth_matrix: 100%|###################################################################| 11/11 [00:00<00:00, 117.97it/s]\n",
      "r_index: 100%|########################################################################| 10/10 [00:00<00:00, 156.82it/s]\n"
     ]
    },
    {
     "name": "stdout",
     "output_type": "stream",
     "text": [
      "Epoch 100, Train Loss: 0.1294, Val Loss: 0.3427\n",
      "Epoch 200, Train Loss: 0.1158, Val Loss: 0.3656\n",
      "Epoch 300, Train Loss: 0.0965, Val Loss: 0.3312\n",
      "Epoch 400, Train Loss: 0.0941, Val Loss: 0.3171\n",
      "Epoch 500, Train Loss: 0.0909, Val Loss: 0.3084\n",
      "Epoch 600, Train Loss: 0.0874, Val Loss: 0.3119\n",
      "Early stopping at epoch 610\n",
      "Training complete.\n",
      "Starting Round 69\n"
     ]
    },
    {
     "name": "stderr",
     "output_type": "stream",
     "text": [
      "dist_matrix: 100%|####################################################################| 11/11 [00:00<00:00, 119.83it/s]\n",
      "synth_matrix: 100%|###################################################################| 11/11 [00:00<00:00, 102.45it/s]\n",
      "r_index: 100%|########################################################################| 10/10 [00:00<00:00, 129.35it/s]\n"
     ]
    },
    {
     "name": "stdout",
     "output_type": "stream",
     "text": [
      "Epoch 100, Train Loss: 0.1048, Val Loss: 0.2954\n",
      "Epoch 200, Train Loss: 0.0974, Val Loss: 0.2758\n",
      "Epoch 300, Train Loss: 0.0982, Val Loss: 0.2857\n",
      "Early stopping at epoch 316\n",
      "Training complete.\n",
      "Starting Round 70\n"
     ]
    },
    {
     "name": "stderr",
     "output_type": "stream",
     "text": [
      "dist_matrix: 100%|####################################################################| 11/11 [00:00<00:00, 122.88it/s]\n",
      "synth_matrix: 100%|###################################################################| 11/11 [00:00<00:00, 101.65it/s]\n",
      "r_index: 100%|#########################################################################| 10/10 [00:00<00:00, 98.96it/s]\n"
     ]
    },
    {
     "name": "stdout",
     "output_type": "stream",
     "text": [
      "Epoch 100, Train Loss: 0.1435, Val Loss: 0.3012\n",
      "Epoch 200, Train Loss: 0.1212, Val Loss: 0.3084\n",
      "Epoch 300, Train Loss: 0.1107, Val Loss: 0.3110\n",
      "Early stopping at epoch 310\n",
      "Training complete.\n",
      "Starting Round 71\n"
     ]
    },
    {
     "name": "stderr",
     "output_type": "stream",
     "text": [
      "dist_matrix: 100%|####################################################################| 11/11 [00:00<00:00, 157.51it/s]\n",
      "synth_matrix: 100%|###################################################################| 11/11 [00:00<00:00, 126.41it/s]\n",
      "r_index: 100%|########################################################################| 10/10 [00:00<00:00, 113.50it/s]\n"
     ]
    },
    {
     "name": "stdout",
     "output_type": "stream",
     "text": [
      "Epoch 100, Train Loss: 0.0986, Val Loss: 0.2383\n",
      "Epoch 200, Train Loss: 0.0885, Val Loss: 0.2499\n",
      "Early stopping at epoch 225\n",
      "Training complete.\n",
      "Starting Round 72\n"
     ]
    },
    {
     "name": "stderr",
     "output_type": "stream",
     "text": [
      "dist_matrix: 100%|####################################################################| 11/11 [00:00<00:00, 149.91it/s]\n",
      "synth_matrix: 100%|###################################################################| 11/11 [00:00<00:00, 116.76it/s]\n",
      "r_index: 100%|########################################################################| 10/10 [00:00<00:00, 125.51it/s]\n"
     ]
    },
    {
     "name": "stdout",
     "output_type": "stream",
     "text": [
      "Epoch 100, Train Loss: 0.1557, Val Loss: 0.3452\n",
      "Epoch 200, Train Loss: 0.1180, Val Loss: 0.3127\n",
      "Epoch 300, Train Loss: 0.1100, Val Loss: 0.3067\n",
      "Early stopping at epoch 311\n",
      "Training complete.\n",
      "Starting Round 73\n"
     ]
    },
    {
     "name": "stderr",
     "output_type": "stream",
     "text": [
      "dist_matrix: 100%|####################################################################| 11/11 [00:00<00:00, 122.79it/s]\n",
      "synth_matrix: 100%|####################################################################| 11/11 [00:00<00:00, 95.74it/s]\n",
      "r_index: 100%|########################################################################| 10/10 [00:00<00:00, 110.79it/s]\n"
     ]
    },
    {
     "name": "stdout",
     "output_type": "stream",
     "text": [
      "Epoch 100, Train Loss: 0.1151, Val Loss: 0.2799\n",
      "Epoch 200, Train Loss: 0.1052, Val Loss: 0.2507\n",
      "Epoch 300, Train Loss: 0.0909, Val Loss: 0.2588\n",
      "Early stopping at epoch 328\n",
      "Training complete.\n",
      "Starting Round 74\n"
     ]
    },
    {
     "name": "stderr",
     "output_type": "stream",
     "text": [
      "dist_matrix: 100%|####################################################################| 11/11 [00:00<00:00, 127.43it/s]\n",
      "synth_matrix: 100%|###################################################################| 11/11 [00:00<00:00, 128.39it/s]\n",
      "r_index: 100%|########################################################################| 10/10 [00:00<00:00, 139.60it/s]\n"
     ]
    },
    {
     "name": "stdout",
     "output_type": "stream",
     "text": [
      "Epoch 100, Train Loss: 0.1003, Val Loss: 0.2669\n",
      "Epoch 200, Train Loss: 0.0946, Val Loss: 0.2569\n",
      "Epoch 300, Train Loss: 0.0910, Val Loss: 0.2620\n",
      "Epoch 400, Train Loss: 0.0940, Val Loss: 0.2563\n",
      "Epoch 500, Train Loss: 0.0947, Val Loss: 0.2457\n",
      "Early stopping at epoch 538\n",
      "Training complete.\n",
      "Starting Round 75\n"
     ]
    },
    {
     "name": "stderr",
     "output_type": "stream",
     "text": [
      "dist_matrix: 100%|####################################################################| 11/11 [00:00<00:00, 133.38it/s]\n",
      "synth_matrix: 100%|####################################################################| 11/11 [00:00<00:00, 97.17it/s]\n",
      "r_index: 100%|########################################################################| 10/10 [00:00<00:00, 127.89it/s]\n"
     ]
    },
    {
     "name": "stdout",
     "output_type": "stream",
     "text": [
      "Epoch 100, Train Loss: 0.1370, Val Loss: 0.2509\n",
      "Epoch 200, Train Loss: 0.1180, Val Loss: 0.2708\n",
      "Early stopping at epoch 202\n",
      "Training complete.\n",
      "Starting Round 76\n"
     ]
    },
    {
     "name": "stderr",
     "output_type": "stream",
     "text": [
      "dist_matrix: 100%|####################################################################| 11/11 [00:00<00:00, 143.85it/s]\n",
      "synth_matrix: 100%|###################################################################| 11/11 [00:00<00:00, 109.98it/s]\n",
      "r_index: 100%|########################################################################| 10/10 [00:00<00:00, 149.81it/s]\n"
     ]
    },
    {
     "name": "stdout",
     "output_type": "stream",
     "text": [
      "Epoch 100, Train Loss: 0.1302, Val Loss: 0.2547\n",
      "Epoch 200, Train Loss: 0.1033, Val Loss: 0.2729\n",
      "Early stopping at epoch 202\n",
      "Training complete.\n",
      "Starting Round 77\n"
     ]
    },
    {
     "name": "stderr",
     "output_type": "stream",
     "text": [
      "dist_matrix: 100%|####################################################################| 11/11 [00:00<00:00, 145.28it/s]\n",
      "synth_matrix: 100%|###################################################################| 11/11 [00:00<00:00, 115.90it/s]\n",
      "r_index: 100%|########################################################################| 10/10 [00:00<00:00, 135.93it/s]\n"
     ]
    },
    {
     "name": "stdout",
     "output_type": "stream",
     "text": [
      "Epoch 100, Train Loss: 0.1294, Val Loss: 0.3351\n",
      "Epoch 200, Train Loss: 0.1185, Val Loss: 0.3143\n",
      "Epoch 300, Train Loss: 0.1002, Val Loss: 0.2824\n",
      "Early stopping at epoch 353\n",
      "Training complete.\n",
      "Starting Round 78\n"
     ]
    },
    {
     "name": "stderr",
     "output_type": "stream",
     "text": [
      "dist_matrix: 100%|####################################################################| 11/11 [00:00<00:00, 125.08it/s]\n",
      "synth_matrix: 100%|###################################################################| 11/11 [00:00<00:00, 117.00it/s]\n",
      "r_index: 100%|########################################################################| 10/10 [00:00<00:00, 140.96it/s]\n"
     ]
    },
    {
     "name": "stdout",
     "output_type": "stream",
     "text": [
      "Epoch 100, Train Loss: 0.1392, Val Loss: 0.2920\n",
      "Early stopping at epoch 187\n",
      "Training complete.\n",
      "Starting Round 79\n"
     ]
    },
    {
     "name": "stderr",
     "output_type": "stream",
     "text": [
      "dist_matrix: 100%|####################################################################| 11/11 [00:00<00:00, 127.70it/s]\n",
      "synth_matrix: 100%|###################################################################| 11/11 [00:00<00:00, 104.65it/s]\n",
      "r_index: 100%|########################################################################| 10/10 [00:00<00:00, 128.10it/s]\n"
     ]
    },
    {
     "name": "stdout",
     "output_type": "stream",
     "text": [
      "Epoch 100, Train Loss: 0.1421, Val Loss: 0.3113\n",
      "Epoch 200, Train Loss: 0.1139, Val Loss: 0.2812\n",
      "Early stopping at epoch 228\n",
      "Training complete.\n",
      "Starting Round 80\n"
     ]
    },
    {
     "name": "stderr",
     "output_type": "stream",
     "text": [
      "dist_matrix: 100%|####################################################################| 11/11 [00:00<00:00, 131.66it/s]\n",
      "synth_matrix: 100%|###################################################################| 11/11 [00:00<00:00, 115.83it/s]\n",
      "r_index: 100%|########################################################################| 10/10 [00:00<00:00, 124.92it/s]\n"
     ]
    },
    {
     "name": "stdout",
     "output_type": "stream",
     "text": [
      "Epoch 100, Train Loss: 0.1364, Val Loss: 0.3182\n",
      "Early stopping at epoch 173\n",
      "Training complete.\n",
      "Starting Round 81\n"
     ]
    },
    {
     "name": "stderr",
     "output_type": "stream",
     "text": [
      "dist_matrix: 100%|####################################################################| 11/11 [00:00<00:00, 135.26it/s]\n",
      "synth_matrix: 100%|###################################################################| 11/11 [00:00<00:00, 103.39it/s]\n",
      "r_index: 100%|########################################################################| 10/10 [00:00<00:00, 108.13it/s]\n"
     ]
    },
    {
     "name": "stdout",
     "output_type": "stream",
     "text": [
      "Epoch 100, Train Loss: 0.1456, Val Loss: 0.2886\n",
      "Epoch 200, Train Loss: 0.1134, Val Loss: 0.2891\n",
      "Epoch 300, Train Loss: 0.1130, Val Loss: 0.2968\n",
      "Early stopping at epoch 326\n",
      "Training complete.\n",
      "Starting Round 82\n"
     ]
    },
    {
     "name": "stderr",
     "output_type": "stream",
     "text": [
      "dist_matrix: 100%|####################################################################| 11/11 [00:00<00:00, 100.38it/s]\n",
      "synth_matrix: 100%|###################################################################| 11/11 [00:00<00:00, 137.85it/s]\n",
      "r_index: 100%|########################################################################| 10/10 [00:00<00:00, 139.90it/s]\n"
     ]
    },
    {
     "name": "stdout",
     "output_type": "stream",
     "text": [
      "Epoch 100, Train Loss: 0.1339, Val Loss: 0.3267\n",
      "Epoch 200, Train Loss: 0.1176, Val Loss: 0.3325\n",
      "Epoch 300, Train Loss: 0.1121, Val Loss: 0.3512\n",
      "Epoch 400, Train Loss: 0.1027, Val Loss: 0.3328\n",
      "Early stopping at epoch 419\n",
      "Training complete.\n",
      "Starting Round 83\n"
     ]
    },
    {
     "name": "stderr",
     "output_type": "stream",
     "text": [
      "dist_matrix: 100%|####################################################################| 11/11 [00:00<00:00, 129.58it/s]\n",
      "synth_matrix: 100%|###################################################################| 11/11 [00:00<00:00, 119.57it/s]\n",
      "r_index: 100%|########################################################################| 10/10 [00:00<00:00, 114.31it/s]\n"
     ]
    },
    {
     "name": "stdout",
     "output_type": "stream",
     "text": [
      "Epoch 100, Train Loss: 0.1210, Val Loss: 0.2864\n",
      "Epoch 200, Train Loss: 0.1133, Val Loss: 0.2941\n",
      "Early stopping at epoch 226\n",
      "Training complete.\n",
      "Starting Round 84\n"
     ]
    },
    {
     "name": "stderr",
     "output_type": "stream",
     "text": [
      "dist_matrix: 100%|####################################################################| 11/11 [00:00<00:00, 133.73it/s]\n",
      "synth_matrix: 100%|###################################################################| 11/11 [00:00<00:00, 102.71it/s]\n",
      "r_index: 100%|########################################################################| 10/10 [00:00<00:00, 116.85it/s]\n"
     ]
    },
    {
     "name": "stdout",
     "output_type": "stream",
     "text": [
      "Epoch 100, Train Loss: 0.1324, Val Loss: 0.3396\n",
      "Epoch 200, Train Loss: 0.1106, Val Loss: 0.3171\n",
      "Epoch 300, Train Loss: 0.1110, Val Loss: 0.3173\n",
      "Early stopping at epoch 319\n",
      "Training complete.\n",
      "Starting Round 85\n"
     ]
    },
    {
     "name": "stderr",
     "output_type": "stream",
     "text": [
      "dist_matrix: 100%|####################################################################| 11/11 [00:00<00:00, 111.04it/s]\n",
      "synth_matrix: 100%|###################################################################| 11/11 [00:00<00:00, 107.50it/s]\n",
      "r_index: 100%|########################################################################| 10/10 [00:00<00:00, 127.45it/s]\n"
     ]
    },
    {
     "name": "stdout",
     "output_type": "stream",
     "text": [
      "Epoch 100, Train Loss: 0.1264, Val Loss: 0.2848\n",
      "Epoch 200, Train Loss: 0.1098, Val Loss: 0.3003\n",
      "Early stopping at epoch 209\n",
      "Training complete.\n",
      "Starting Round 86\n"
     ]
    },
    {
     "name": "stderr",
     "output_type": "stream",
     "text": [
      "dist_matrix: 100%|####################################################################| 11/11 [00:00<00:00, 128.32it/s]\n",
      "synth_matrix: 100%|###################################################################| 11/11 [00:00<00:00, 121.28it/s]\n",
      "r_index: 100%|########################################################################| 10/10 [00:00<00:00, 152.66it/s]\n"
     ]
    },
    {
     "name": "stdout",
     "output_type": "stream",
     "text": [
      "Epoch 100, Train Loss: 0.1297, Val Loss: 0.3134\n",
      "Epoch 200, Train Loss: 0.1096, Val Loss: 0.3315\n",
      "Early stopping at epoch 266\n",
      "Training complete.\n",
      "Starting Round 87\n"
     ]
    },
    {
     "name": "stderr",
     "output_type": "stream",
     "text": [
      "dist_matrix: 100%|####################################################################| 11/11 [00:00<00:00, 115.12it/s]\n",
      "synth_matrix: 100%|####################################################################| 11/11 [00:00<00:00, 97.56it/s]\n",
      "r_index: 100%|########################################################################| 10/10 [00:00<00:00, 125.25it/s]\n"
     ]
    },
    {
     "name": "stdout",
     "output_type": "stream",
     "text": [
      "Epoch 100, Train Loss: 0.1183, Val Loss: 0.3598\n",
      "Early stopping at epoch 119\n",
      "Training complete.\n",
      "Starting Round 88\n"
     ]
    },
    {
     "name": "stderr",
     "output_type": "stream",
     "text": [
      "dist_matrix: 100%|####################################################################| 11/11 [00:00<00:00, 113.49it/s]\n",
      "synth_matrix: 100%|###################################################################| 11/11 [00:00<00:00, 117.38it/s]\n",
      "r_index: 100%|########################################################################| 10/10 [00:00<00:00, 104.54it/s]\n"
     ]
    },
    {
     "name": "stdout",
     "output_type": "stream",
     "text": [
      "Epoch 100, Train Loss: 0.1221, Val Loss: 0.3172\n",
      "Epoch 200, Train Loss: 0.1092, Val Loss: 0.2981\n",
      "Early stopping at epoch 251\n",
      "Training complete.\n",
      "Starting Round 89\n"
     ]
    },
    {
     "name": "stderr",
     "output_type": "stream",
     "text": [
      "dist_matrix: 100%|####################################################################| 11/11 [00:00<00:00, 125.30it/s]\n",
      "synth_matrix: 100%|####################################################################| 11/11 [00:00<00:00, 93.73it/s]\n",
      "r_index: 100%|########################################################################| 10/10 [00:00<00:00, 105.10it/s]\n"
     ]
    },
    {
     "name": "stdout",
     "output_type": "stream",
     "text": [
      "Epoch 100, Train Loss: 0.1218, Val Loss: 0.2939\n",
      "Epoch 200, Train Loss: 0.1042, Val Loss: 0.3075\n",
      "Early stopping at epoch 221\n",
      "Training complete.\n",
      "Starting Round 90\n"
     ]
    },
    {
     "name": "stderr",
     "output_type": "stream",
     "text": [
      "dist_matrix: 100%|####################################################################| 11/11 [00:00<00:00, 123.15it/s]\n",
      "synth_matrix: 100%|###################################################################| 11/11 [00:00<00:00, 104.97it/s]\n",
      "r_index: 100%|########################################################################| 10/10 [00:00<00:00, 122.61it/s]\n"
     ]
    },
    {
     "name": "stdout",
     "output_type": "stream",
     "text": [
      "Epoch 100, Train Loss: 0.1300, Val Loss: 0.2957\n",
      "Early stopping at epoch 183\n",
      "Training complete.\n",
      "Starting Round 91\n"
     ]
    },
    {
     "name": "stderr",
     "output_type": "stream",
     "text": [
      "dist_matrix: 100%|####################################################################| 11/11 [00:00<00:00, 135.19it/s]\n",
      "synth_matrix: 100%|###################################################################| 11/11 [00:00<00:00, 110.36it/s]\n",
      "r_index: 100%|########################################################################| 10/10 [00:00<00:00, 114.83it/s]\n"
     ]
    },
    {
     "name": "stdout",
     "output_type": "stream",
     "text": [
      "Epoch 100, Train Loss: 0.1454, Val Loss: 0.3277\n",
      "Early stopping at epoch 176\n",
      "Training complete.\n",
      "Starting Round 92\n"
     ]
    },
    {
     "name": "stderr",
     "output_type": "stream",
     "text": [
      "dist_matrix: 100%|####################################################################| 11/11 [00:00<00:00, 127.64it/s]\n",
      "synth_matrix: 100%|####################################################################| 11/11 [00:00<00:00, 92.93it/s]\n",
      "r_index: 100%|########################################################################| 10/10 [00:00<00:00, 105.01it/s]\n"
     ]
    },
    {
     "name": "stdout",
     "output_type": "stream",
     "text": [
      "Epoch 100, Train Loss: 0.1122, Val Loss: 0.2688\n",
      "Epoch 200, Train Loss: 0.1202, Val Loss: 0.3105\n",
      "Epoch 300, Train Loss: 0.0951, Val Loss: 0.2855\n",
      "Early stopping at epoch 338\n",
      "Training complete.\n",
      "Starting Round 93\n"
     ]
    },
    {
     "name": "stderr",
     "output_type": "stream",
     "text": [
      "dist_matrix: 100%|####################################################################| 11/11 [00:00<00:00, 115.88it/s]\n",
      "synth_matrix: 100%|####################################################################| 11/11 [00:00<00:00, 89.41it/s]\n",
      "r_index: 100%|########################################################################| 10/10 [00:00<00:00, 111.82it/s]\n"
     ]
    },
    {
     "name": "stdout",
     "output_type": "stream",
     "text": [
      "Epoch 100, Train Loss: 0.1559, Val Loss: 0.3168\n",
      "Epoch 200, Train Loss: 0.1332, Val Loss: 0.3165\n",
      "Early stopping at epoch 229\n",
      "Training complete.\n",
      "Starting Round 94\n"
     ]
    },
    {
     "name": "stderr",
     "output_type": "stream",
     "text": [
      "dist_matrix: 100%|####################################################################| 11/11 [00:00<00:00, 126.34it/s]\n",
      "synth_matrix: 100%|###################################################################| 11/11 [00:00<00:00, 100.71it/s]\n",
      "r_index: 100%|########################################################################| 10/10 [00:00<00:00, 118.86it/s]\n"
     ]
    },
    {
     "name": "stdout",
     "output_type": "stream",
     "text": [
      "Epoch 100, Train Loss: 0.1407, Val Loss: 0.3382\n",
      "Early stopping at epoch 175\n",
      "Training complete.\n",
      "Starting Round 95\n"
     ]
    },
    {
     "name": "stderr",
     "output_type": "stream",
     "text": [
      "dist_matrix: 100%|####################################################################| 11/11 [00:00<00:00, 122.32it/s]\n",
      "synth_matrix: 100%|###################################################################| 11/11 [00:00<00:00, 120.69it/s]\n",
      "r_index: 100%|########################################################################| 10/10 [00:00<00:00, 110.64it/s]\n"
     ]
    },
    {
     "name": "stdout",
     "output_type": "stream",
     "text": [
      "Epoch 100, Train Loss: 0.1047, Val Loss: 0.2615\n",
      "Epoch 200, Train Loss: 0.0884, Val Loss: 0.2458\n",
      "Epoch 300, Train Loss: 0.0863, Val Loss: 0.2448\n",
      "Early stopping at epoch 377\n",
      "Training complete.\n",
      "Starting Round 96\n"
     ]
    },
    {
     "name": "stderr",
     "output_type": "stream",
     "text": [
      "dist_matrix: 100%|####################################################################| 11/11 [00:00<00:00, 125.86it/s]\n",
      "synth_matrix: 100%|###################################################################| 11/11 [00:00<00:00, 107.59it/s]\n",
      "r_index: 100%|########################################################################| 10/10 [00:00<00:00, 132.03it/s]\n"
     ]
    },
    {
     "name": "stdout",
     "output_type": "stream",
     "text": [
      "Epoch 100, Train Loss: 0.1056, Val Loss: 0.3211\n",
      "Epoch 200, Train Loss: 0.0960, Val Loss: 0.3002\n",
      "Epoch 300, Train Loss: 0.0925, Val Loss: 0.2946\n",
      "Early stopping at epoch 319\n",
      "Training complete.\n",
      "Starting Round 97\n"
     ]
    },
    {
     "name": "stderr",
     "output_type": "stream",
     "text": [
      "dist_matrix: 100%|####################################################################| 11/11 [00:00<00:00, 130.65it/s]\n",
      "synth_matrix: 100%|####################################################################| 11/11 [00:00<00:00, 96.41it/s]\n",
      "r_index: 100%|########################################################################| 10/10 [00:00<00:00, 126.44it/s]\n"
     ]
    },
    {
     "name": "stdout",
     "output_type": "stream",
     "text": [
      "Epoch 100, Train Loss: 0.1210, Val Loss: 0.3189\n",
      "Epoch 200, Train Loss: 0.1064, Val Loss: 0.2922\n",
      "Epoch 300, Train Loss: 0.1066, Val Loss: 0.3148\n",
      "Early stopping at epoch 344\n",
      "Training complete.\n",
      "Starting Round 98\n"
     ]
    },
    {
     "name": "stderr",
     "output_type": "stream",
     "text": [
      "dist_matrix: 100%|#####################################################################| 11/11 [00:00<00:00, 80.42it/s]\n",
      "synth_matrix: 100%|####################################################################| 11/11 [00:00<00:00, 74.02it/s]\n",
      "r_index: 100%|#########################################################################| 10/10 [00:00<00:00, 77.15it/s]\n"
     ]
    },
    {
     "name": "stdout",
     "output_type": "stream",
     "text": [
      "Epoch 100, Train Loss: 0.1551, Val Loss: 0.3456\n",
      "Epoch 200, Train Loss: 0.1191, Val Loss: 0.3290\n",
      "Epoch 300, Train Loss: 0.1110, Val Loss: 0.3105\n",
      "Early stopping at epoch 342\n",
      "Training complete.\n",
      "Starting Round 99\n"
     ]
    },
    {
     "name": "stderr",
     "output_type": "stream",
     "text": [
      "dist_matrix: 100%|####################################################################| 11/11 [00:00<00:00, 110.56it/s]\n",
      "synth_matrix: 100%|###################################################################| 11/11 [00:00<00:00, 120.13it/s]\n",
      "r_index: 100%|########################################################################| 10/10 [00:00<00:00, 104.37it/s]\n"
     ]
    },
    {
     "name": "stdout",
     "output_type": "stream",
     "text": [
      "Epoch 100, Train Loss: 0.1196, Val Loss: 0.2990\n",
      "Early stopping at epoch 181\n",
      "Training complete.\n",
      "1.5669477303822836 mins\n"
     ]
    }
   ],
   "source": [
    "target_variables = ['B', 'V', 'Cr', 'Mn', 'Co', 'Ni', 'Cu', 'Zn', 'Ga', 'Be',\n",
    "                    'As', 'Rb', 'Sr', 'Y', 'Mo', 'Cd', 'Sb', 'Cs', 'Ba', 'Pb'] # to be predicted\n",
    "input_features = ['Li', 'Na', 'Ca', 'SO-', 'Cl-', 'Br-', 'Al', 'Si', 'pH', 'F-', 'Fe', 'Mg']\n",
    "import time\n",
    "start = time.time()\n",
    "results = []\n",
    "### Making an ensemble of 1000 models\n",
    "for i in range(100):\n",
    "    print(f'Starting Round {i}')\n",
    "    r_values, test_y, predicted_y, train_y, predicted_y_train, l_tr, l_te = pytorch_NN(raw_data, input_features, target_variables)\n",
    "    results.append({\n",
    "        'r_values': r_values,\n",
    "        'test_y': test_y,\n",
    "        'predicted_y': predicted_y,\n",
    "        'train_y': train_y,\n",
    "        'predicted_y_train': predicted_y_train,\n",
    "        'l_tr': l_tr,\n",
    "        'l_te': l_te,\n",
    "    })\n",
    "end = time.time()\n",
    "print(f'{(end - start)/60} mins')"
   ]
  },
  {
   "cell_type": "code",
   "execution_count": null,
   "id": "f76d8f98",
   "metadata": {},
   "outputs": [],
   "source": [
    "l_te = [[r for r in result['l_te']] for result in results]\n",
    "l_tr = [[r for r in result['l_tr']] for result in results]\n",
    "fig, ax = plt.subplots(figsize=(4, 4))\n",
    "for i in l_tr:\n",
    "    ax.plot(i, c='b', lw=0.5, label='Train')\n",
    "    ax.set_yscale('log')\n",
    "for i in l_te:\n",
    "    ax.plot(i, c='r', lw=0.5, label='Test')\n",
    "    ax.set_yscale('log')\n",
    "ax.set_xlabel('Epochs', fontsize=10, family='Arial')\n",
    "ax.set_ylabel('MAE', fontsize=10, family='Arial')\n",
    "plt.yticks(fontname = \"Arial\", fontsize=10)\n",
    "plt.xticks(fontname = \"Arial\", fontsize=10)\n",
    "handles, labels = plt.gca().get_legend_handles_labels()\n",
    "by_label = dict(zip(labels, handles))\n",
    "plt.legend(by_label.values(), by_label.keys(), fontsize='small')\n",
    "plt.show()"
   ]
  },
  {
   "cell_type": "code",
   "execution_count": null,
   "id": "14ebc49a",
   "metadata": {},
   "outputs": [],
   "source": [
    "### Separating the R2 score of each model\n",
    "r_squared_values = [[r**2 for r in result['r_values']] for result in results]\n",
    "df = pd.DataFrame(r_squared_values, columns=target_variables)\n",
    "df_melted = df.melt(var_name='Element', value_name='R_squared')"
   ]
  },
  {
   "cell_type": "code",
   "execution_count": null,
   "id": "b04fb674",
   "metadata": {},
   "outputs": [],
   "source": [
    "### Making a plot to have a view on the R2 score for each predicted element\n",
    "fig, ax = plt.subplots(1,1, figsize=(8,3))\n",
    "sns.boxplot(data=df_melted, x='Element', y='R_squared')\n",
    "plt.xlabel('Elements', fontname = \"Arial\", fontsize=10)\n",
    "plt.ylabel('R$^2$', fontname = \"Arial\", fontsize=10)\n",
    "plt.xticks(rotation=90, ha='right')\n",
    "plt.show()"
   ]
  }
 ],
 "metadata": {
  "kernelspec": {
   "display_name": "Python 3 (ipykernel)",
   "language": "python",
   "name": "python3"
  },
  "language_info": {
   "codemirror_mode": {
    "name": "ipython",
    "version": 3
   },
   "file_extension": ".py",
   "mimetype": "text/x-python",
   "name": "python",
   "nbconvert_exporter": "python",
   "pygments_lexer": "ipython3",
   "version": "3.8.15"
  }
 },
 "nbformat": 4,
 "nbformat_minor": 5
}
