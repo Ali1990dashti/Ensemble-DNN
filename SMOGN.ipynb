{
 "cells": [
  {
   "cell_type": "markdown",
   "id": "e1782f9e",
   "metadata": {},
   "source": [
    "This notebook contains the necessary scripts for making the SMOGN model."
   ]
  },
  {
   "cell_type": "code",
   "execution_count": 1,
   "id": "04eca925",
   "metadata": {},
   "outputs": [
    {
     "name": "stderr",
     "output_type": "stream",
     "text": [
      "C:\\Users\\po7517\\Anaconda3\\envs\\new_env\\lib\\site-packages\\numpy\\_distributor_init.py:30: UserWarning: loaded more than 1 DLL from .libs:\n",
      "C:\\Users\\po7517\\Anaconda3\\envs\\new_env\\lib\\site-packages\\numpy\\.libs\\libopenblas.GK7GX5KEQ4F6UYO3P26ULGBQYHGQO7J4.gfortran-win_amd64.dll\n",
      "C:\\Users\\po7517\\Anaconda3\\envs\\new_env\\lib\\site-packages\\numpy\\.libs\\libopenblas64__v0.3.21-gcc_10_3_0.dll\n",
      "  warnings.warn(\"loaded more than 1 DLL from .libs:\"\n"
     ]
    }
   ],
   "source": [
    "'''Starting with the import of the necessary libraries including \n",
    "the smogn (https://github.com/nickkunz/smogn/tree/master):'''\n",
    "import numpy as np\n",
    "import pandas as pd\n",
    "import torch\n",
    "import torch.nn as nn\n",
    "import torch.optim as optim\n",
    "from sklearn.preprocessing import RobustScaler\n",
    "from sklearn.model_selection import train_test_split\n",
    "import matplotlib.pyplot as plt\n",
    "import scipy\n",
    "from scipy.stats import linregress\n",
    "import seaborn as sns\n",
    "import warnings\n",
    "import smogn\n",
    "warnings.filterwarnings('ignore')"
   ]
  },
  {
   "cell_type": "code",
   "execution_count": 2,
   "id": "4d6dcfdc",
   "metadata": {},
   "outputs": [
    {
     "data": {
      "text/plain": [
       "'cpu'"
      ]
     },
     "execution_count": 2,
     "metadata": {},
     "output_type": "execute_result"
    }
   ],
   "source": [
    "### either CPU or GPU:\n",
    "device = \"cuda\" if torch.cuda.is_available() else \"cpu\"\n",
    "device"
   ]
  },
  {
   "cell_type": "code",
   "execution_count": 7,
   "id": "2963a0de",
   "metadata": {},
   "outputs": [],
   "source": [
    "### Reading the dummy data\n",
    "raw_data = pd.read_csv('data/all_data_dummy.csv')"
   ]
  },
  {
   "cell_type": "code",
   "execution_count": 6,
   "id": "75bf8ecd",
   "metadata": {},
   "outputs": [
    {
     "name": "stderr",
     "output_type": "stream",
     "text": [
      "dist_matrix: 100%|####################################################################| 14/14 [00:00<00:00, 121.20it/s]\n",
      "synth_matrix: 100%|####################################################################| 14/14 [00:00<00:00, 75.16it/s]\n",
      "r_index: 100%|########################################################################| 12/12 [00:00<00:00, 170.84it/s]\n"
     ]
    }
   ],
   "source": [
    "### Applying the SMOGN tranformation on the data\n",
    "target_variables = ['B', 'V', 'Cr', 'Mn', 'Co', 'Ni', 'Cu', 'Zn', 'Ga', 'Be',\n",
    "                    'As', 'Rb', 'Sr', 'Y', 'Mo', 'Cd', 'Sb', 'Cs', 'Ba', 'Pb']\n",
    "input_features = ['Li', 'Na', 'Ca', 'SO-', 'Cl-', 'Br-', 'Al', 'Si', 'pH', 'F-', 'Fe', 'Mg']\n",
    "raw_data = raw_data[target_variables+input_features]\n",
    "all_data = smogn.smoter(\n",
    "    data = raw_data,  ## pandas dataframe\n",
    "    y = 'V'  ## string ('header name')\n",
    ")"
   ]
  },
  {
   "cell_type": "code",
   "execution_count": null,
   "id": "919cd592",
   "metadata": {},
   "outputs": [],
   "source": [
    "def pytorch_NN(all_data, input_features, target_variables, weight_decay=1e-4, patience=50):\n",
    "    '''\n",
    "    This function reads the data and based on the interest of the user, different \n",
    "    input features and target variables can be selected from the existing measured\n",
    "    parameters.\n",
    "    weight_decay is a regularization technique used to prevent overfitting by penalizing \n",
    "    large weights in the model. More details at \n",
    "    https://pytorch.org/docs/stable/generated/torch.optim.Adam.html\n",
    "    patience refers to the number of training epochs to wait after the last improvement \n",
    "    in the monitored metric (e.g., validation loss, accuracy) before stopping the training process.\n",
    "    More details at https://pytorch.org/ignite/generated/ignite.handlers.early_stopping.EarlyStopping.html\n",
    "    '''\n",
    "    ### The next block of code prepares the data\n",
    "    X = all_data[input_features].to_numpy()\n",
    "    y = all_data[target_variables].to_numpy()\n",
    "    X_train, X_test, y_train, y_test = train_test_split(X, y, test_size=0.2)\n",
    "    scaler_x = RobustScaler()\n",
    "    scaler_y = RobustScaler()\n",
    "    X_train_norm = scaler_x.fit_transform(X_train)\n",
    "    X_test_norm = scaler_x.transform(X_test)\n",
    "    y_train_norm = scaler_y.fit_transform(y_train)\n",
    "    y_test_norm = scaler_y.transform(y_test)\n",
    "    XX = torch.from_numpy(X_train_norm.astype(np.float32)).to(device)\n",
    "    yy = torch.from_numpy(y_train_norm.astype(np.float32)).to(device)\n",
    "    n_samples, n_features = XX.shape\n",
    "    input_size = n_features\n",
    "    output_size = yy.shape[1]\n",
    "    \n",
    "    class NN(nn.Module):\n",
    "        def __init__(self):\n",
    "            super(NN, self).__init__()\n",
    "            self.fc1 = nn.Linear(n_features, 86) # Input layer to hidden layer\n",
    "            self.norm1 = nn.BatchNorm1d(86) # Batch normalization\n",
    "            self.fc2 = nn.Linear(86, 32) # Hidden layer to hidden layer\n",
    "            self.norm2 = nn.BatchNorm1d(32) # Batch normalization\n",
    "            self.fc3 = nn.Linear(32, 32) # Hidden layer to hidden layer\n",
    "            self.norm3 = nn.BatchNorm1d(32) # Batch normalization\n",
    "            self.fc4 = nn.Linear(32, output_size) # Hidden layer to output layer\n",
    "\n",
    "        def forward(self, x):\n",
    "            x = torch.relu(self.fc1(x)) # applying relu activation\n",
    "            x = self.norm1(x) # applying the batch normalization\n",
    "            x = torch.relu(self.fc2(x))\n",
    "            x = self.norm2(x)\n",
    "            x = torch.relu(self.fc3(x))\n",
    "            x = self.norm3(x)\n",
    "            x = self.fc4(x)\n",
    "            return x\n",
    " \n",
    "    model = NN().to(device) # contruction of the model\n",
    "\n",
    "    # Define the loss function and optimizer\n",
    "    criterion = nn.L1Loss()\n",
    "    optimizer = optim.Adam(model.parameters(), lr=0.01, weight_decay=weight_decay)\n",
    "\n",
    "    # Training loop with early stopping\n",
    "    num_epochs = 2000\n",
    "    best_loss = float('inf')\n",
    "    patience_counter = 0\n",
    "    loss_values = []\n",
    "    loss_train = []\n",
    "    for epoch in range(num_epochs):\n",
    "        def closure():\n",
    "            optimizer.zero_grad()\n",
    "            outputs = model(XX)\n",
    "            loss = criterion(outputs, yy)\n",
    "            loss.backward()\n",
    "            loss_train.append(loss.item())\n",
    "            return loss\n",
    "\n",
    "        # Perform optimization step\n",
    "        optimizer.step(closure)\n",
    "\n",
    "        model.eval()\n",
    "        with torch.no_grad():\n",
    "            val_outputs = model(torch.from_numpy(X_test_norm.astype(np.float32)).to(device))\n",
    "            val_loss = criterion(val_outputs, torch.from_numpy(y_test_norm.astype(np.float32)).to(device))\n",
    "\n",
    "        if val_loss < best_loss:\n",
    "            best_loss = val_loss\n",
    "            patience_counter = 0\n",
    "        else:\n",
    "            patience_counter += 1\n",
    "\n",
    "        if patience_counter >= patience: # looking for the improve of the loss\n",
    "            print(f'Early stopping at epoch {epoch+1}')\n",
    "            break\n",
    "\n",
    "        if (epoch+1) % 100 == 0: # printg out each 100th epoch\n",
    "            print(f'Epoch [{epoch+1}/{num_epochs}], Loss: {val_loss.item():.4f}, Val Loss: {val_loss.item():.4f}')\n",
    "\n",
    "        loss_values.append(val_loss.item())\n",
    "\n",
    "    print(\"Training complete.\")\n",
    "    # using the trained model to predict for the test data\n",
    "    predicted = model(torch.from_numpy(X_test_norm.astype(np.float32)).to(device)).detach().cpu().numpy()\n",
    "    predicted_original_scale = scaler_y.inverse_transform(predicted)\n",
    "    y_test_original_scale = scaler_y.inverse_transform(y_test_norm)\n",
    "    \n",
    "    # using the trained model to predict for the train data\n",
    "    predicted_tr = model(torch.from_numpy(X_train_norm.astype(np.float32)).to(device)).detach().cpu().numpy()\n",
    "    predicted_original_scale_tr = scaler_y.inverse_transform(predicted_tr)\n",
    "    y_train_original_scale = scaler_y.inverse_transform(y_train_norm)\n",
    "\n",
    "    r_values = [] # collects the r value between the measured test and predicted test cases\n",
    "    for i in range(len(target_variables)):\n",
    "        slope, intercept, r_value, p_value, std_err = linregress(y_test_original_scale[:, i], predicted_original_scale[:, i])\n",
    "        r_values.append(r_value)\n",
    "    \n",
    "    return r_values, y_test_original_scale, predicted_original_scale, y_train_original_scale, predicted_original_scale_tr, loss_train, loss_values "
   ]
  },
  {
   "cell_type": "code",
   "execution_count": null,
   "id": "9d715098",
   "metadata": {},
   "outputs": [],
   "source": [
    "target_variables = ['B', 'V', 'Cr', 'Mn', 'Co', 'Ni', 'Cu', 'Zn', 'Ga', 'Be',\n",
    "                    'As', 'Rb', 'Sr', 'Y', 'Mo', 'Cd', 'Sb', 'Cs', 'Ba', 'Pb'] # to be predicted\n",
    "input_features = ['Li', 'Na', 'Ca', 'SO-', 'Cl-', 'Br-', 'Al', 'Si', 'pH', 'F-', 'Fe', 'Mg']\n",
    "import time\n",
    "start = time.time()\n",
    "results = []\n",
    "### Making an ensemble of 1000 models\n",
    "for i in range(1000):\n",
    "    print(f'Starting Round {i}')\n",
    "    r_values, test_y, predicted_y, train_y, predicted_y_train, l_tr, l_te = pytorch_NN(all_data, input_features, target_variables)\n",
    "    results.append({\n",
    "        'r_values': r_values,\n",
    "        'test_y': test_y,\n",
    "        'predicted_y': predicted_y,\n",
    "        'train_y': train_y,\n",
    "        'predicted_y_train': predicted_y_train,\n",
    "        'l_tr': l_tr,\n",
    "        'l_te': l_te,\n",
    "    })\n",
    "end = time.time()\n",
    "print(f'{(end - start)/60} mins')"
   ]
  },
  {
   "cell_type": "code",
   "execution_count": null,
   "id": "14ebc49a",
   "metadata": {},
   "outputs": [],
   "source": [
    "### Separating the R2 score of each model\n",
    "r_squared_values = [[r**2 for r in result['r_values']] for result in results]\n",
    "df = pd.DataFrame(r_squared_values, columns=target_variables)\n",
    "df_melted = df.melt(var_name='Element', value_name='R_squared')"
   ]
  },
  {
   "cell_type": "code",
   "execution_count": null,
   "id": "b04fb674",
   "metadata": {},
   "outputs": [],
   "source": [
    "### Making a plot to have a view on the R2 score for each predicted element\n",
    "fig, ax = plt.subplots(1,1, figsize=(8,3))\n",
    "sns.boxplot(data=df_melted, x='Element', y='R_squared')\n",
    "plt.xlabel('Elements', fontname = \"Arial\", fontsize=10)\n",
    "plt.ylabel('R$^2$', fontname = \"Arial\", fontsize=10)\n",
    "plt.xticks(rotation=90, ha='right')\n",
    "plt.show()"
   ]
  },
  {
   "cell_type": "code",
   "execution_count": null,
   "id": "3a8b8145",
   "metadata": {},
   "outputs": [],
   "source": []
  }
 ],
 "metadata": {
  "kernelspec": {
   "display_name": "Python 3 (ipykernel)",
   "language": "python",
   "name": "python3"
  },
  "language_info": {
   "codemirror_mode": {
    "name": "ipython",
    "version": 3
   },
   "file_extension": ".py",
   "mimetype": "text/x-python",
   "name": "python",
   "nbconvert_exporter": "python",
   "pygments_lexer": "ipython3",
   "version": "3.8.15"
  }
 },
 "nbformat": 4,
 "nbformat_minor": 5
}
